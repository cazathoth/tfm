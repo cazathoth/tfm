{
  "nbformat": 4,
  "nbformat_minor": 0,
  "metadata": {
    "colab": {
      "provenance": [],
      "authorship_tag": "ABX9TyOXtFs/vqhLke7x8/p9JIM6",
      "include_colab_link": true
    },
    "kernelspec": {
      "name": "ir",
      "display_name": "R"
    },
    "language_info": {
      "name": "R"
    }
  },
  "cells": [
    {
      "cell_type": "markdown",
      "metadata": {
        "id": "view-in-github",
        "colab_type": "text"
      },
      "source": [
        "<a href=\"https://colab.research.google.com/github/cazathoth/tfm/blob/main/tfm_jvasquez_v1.ipynb\" target=\"_parent\"><img src=\"https://colab.research.google.com/assets/colab-badge.svg\" alt=\"Open In Colab\"/></a>"
      ]
    },
    {
      "cell_type": "code",
      "execution_count": 1,
      "metadata": {
        "colab": {
          "base_uri": "https://localhost:8080/"
        },
        "collapsed": true,
        "id": "dYQtmnm-tU_g",
        "outputId": "faa73bae-a11a-4f2e-a8a6-9205838d05bf"
      },
      "outputs": [
        {
          "output_type": "stream",
          "name": "stderr",
          "text": [
            "Installing package into ‘/usr/local/lib/R/site-library’\n",
            "(as ‘lib’ is unspecified)\n",
            "\n",
            "Installing package into ‘/usr/local/lib/R/site-library’\n",
            "(as ‘lib’ is unspecified)\n",
            "\n",
            "also installing the dependency ‘assertthat’\n",
            "\n",
            "\n",
            "Installing package into ‘/usr/local/lib/R/site-library’\n",
            "(as ‘lib’ is unspecified)\n",
            "\n"
          ]
        }
      ],
      "source": [
        "#descarga librerias.\n",
        "install.packages(\"tidyverse\")\n",
        "install.packages(\"arrow\")\n",
        "install.packages(\"lubridate\")\n",
        "#install.packages('devtools')\n",
        "#devtools::install_github('catboost/catboost', subdir = 'catboost/R-package')"
      ]
    },
    {
      "cell_type": "code",
      "source": [
        "#cargo librerias a utilizar.\n",
        "library(\"tidyverse\")\n",
        "library(\"arrow\")\n",
        "library(\"lubridate\")\n",
        "#library(\"catboost\")"
      ],
      "metadata": {
        "collapsed": true,
        "id": "nF9tJ2Z2tcfR",
        "colab": {
          "base_uri": "https://localhost:8080/"
        },
        "outputId": "b9ff8351-1d4b-4324-8b19-200c6b1c6360"
      },
      "execution_count": 2,
      "outputs": [
        {
          "output_type": "stream",
          "name": "stderr",
          "text": [
            "── \u001b[1mAttaching core tidyverse packages\u001b[22m ──────────────────────── tidyverse 2.0.0 ──\n",
            "\u001b[32m✔\u001b[39m \u001b[34mdplyr    \u001b[39m 1.1.4     \u001b[32m✔\u001b[39m \u001b[34mreadr    \u001b[39m 2.1.5\n",
            "\u001b[32m✔\u001b[39m \u001b[34mforcats  \u001b[39m 1.0.0     \u001b[32m✔\u001b[39m \u001b[34mstringr  \u001b[39m 1.5.1\n",
            "\u001b[32m✔\u001b[39m \u001b[34mggplot2  \u001b[39m 3.5.1     \u001b[32m✔\u001b[39m \u001b[34mtibble   \u001b[39m 3.2.1\n",
            "\u001b[32m✔\u001b[39m \u001b[34mlubridate\u001b[39m 1.9.3     \u001b[32m✔\u001b[39m \u001b[34mtidyr    \u001b[39m 1.3.1\n",
            "\u001b[32m✔\u001b[39m \u001b[34mpurrr    \u001b[39m 1.0.2     \n",
            "── \u001b[1mConflicts\u001b[22m ────────────────────────────────────────── tidyverse_conflicts() ──\n",
            "\u001b[31m✖\u001b[39m \u001b[34mdplyr\u001b[39m::\u001b[32mfilter()\u001b[39m masks \u001b[34mstats\u001b[39m::filter()\n",
            "\u001b[31m✖\u001b[39m \u001b[34mdplyr\u001b[39m::\u001b[32mlag()\u001b[39m    masks \u001b[34mstats\u001b[39m::lag()\n",
            "\u001b[36mℹ\u001b[39m Use the conflicted package (\u001b[3m\u001b[34m<http://conflicted.r-lib.org/>\u001b[39m\u001b[23m) to force all conflicts to become errors\n",
            "\n",
            "Attaching package: ‘arrow’\n",
            "\n",
            "\n",
            "The following object is masked from ‘package:lubridate’:\n",
            "\n",
            "    duration\n",
            "\n",
            "\n",
            "The following object is masked from ‘package:utils’:\n",
            "\n",
            "    timestamp\n",
            "\n",
            "\n"
          ]
        }
      ]
    },
    {
      "cell_type": "code",
      "source": [
        "#creo directorio y descargo dataset con datos de urgencias respiratorias\n",
        "dir.create(\"descargas\")\n",
        "url <- \"https://datos.gob.cl/dataset/606ef5bb-11d1-475b-b69f-b980da5757f4/resource/ae6c9887-106d-4e98-8875-40bf2b836041/download/at_urg_respiratorio_semanal.parquet\"\n",
        "nombre_temporal <- \"descargas/at_urg_respiratorio_semanal.parquet\"\n",
        "download.file(url, nombre_temporal)"
      ],
      "metadata": {
        "id": "dxpqJfpYxZsn"
      },
      "execution_count": 3,
      "outputs": []
    },
    {
      "cell_type": "code",
      "source": [
        "#Descargo datos meteorologicos- temperatura\n",
        "url <- \"https://raw.githubusercontent.com/cazathoth/data/9ed2ff302d64b81e79eab693e77d12f805ed65ba/MERGE_XXXX_DiarioTs_.csv\"\n",
        "nombre_temporal <- \"descargas/MERGE_XXXX_DiarioTs_.csv\"\n",
        "download.file(url, nombre_temporal)"
      ],
      "metadata": {
        "id": "B5FJdDWXO5fT"
      },
      "execution_count": 4,
      "outputs": []
    },
    {
      "cell_type": "code",
      "source": [
        "#Descargo datos meteorologicos- precipitaciones\n",
        "url <- \"https://raw.githubusercontent.com/cazathoth/data/43bad08be793c38c993d524d182dcb2597e14714/MERGE_DiarioRR.csv\"\n",
        "nombre_temporal <- \"descargas/MERGE_DiarioRR.csv\"\n",
        "download.file(url, nombre_temporal)"
      ],
      "metadata": {
        "id": "hbru5hT8xRMn"
      },
      "execution_count": 5,
      "outputs": []
    },
    {
      "cell_type": "code",
      "source": [
        "#Descargo zip datos meteorologicos- humedad\n",
        "url <- \"https://github.com/cazathoth/data/raw/69c13d02f49cd04ee16ab8063f872e2aa9b2632a/MERGE_Humedad.zip\"\n",
        "nombre_temporal <- \"descargas/MERGE_Humedad.zip\"\n",
        "download.file(url, nombre_temporal)\n",
        "#Descomprimo archivo zip\n",
        "unzip(\"/content/descargas/MERGE_Humedad.zip\", exdir = \"/content/descargas/\")"
      ],
      "metadata": {
        "id": "gvslMr7ohtBQ"
      },
      "execution_count": 6,
      "outputs": []
    },
    {
      "cell_type": "code",
      "source": [
        "#Descargo datos material particulado\n",
        "url <- \"https://raw.githubusercontent.com/cazathoth/data/43bad08be793c38c993d524d182dcb2597e14714/MERGE_MP.csv\"\n",
        "nombre_temporal <- \"descargas/MERGE_MP.csv\"\n",
        "download.file(url, nombre_temporal)"
      ],
      "metadata": {
        "id": "QjmvuWWo0aa6"
      },
      "execution_count": 7,
      "outputs": []
    },
    {
      "cell_type": "code",
      "source": [
        "# Creo data frame urgencias y filtro por comuna de Santiago, La Serena y Concepción, luego cargo los datos\n",
        "df_urgr_esp_semanal <- read_parquet(\"descargas/at_urg_respiratorio_semanal.parquet\", col_select = c ('EstablecimientoCodigo','ComunaCodigo', 'ComunaGlosa', 'Anio', 'SemanaEstadistica','OrdenCausa','Causa','NumTotal'))\n",
        "df_urgr_esp_semanal <- df_urgr_esp_semanal %>% filter (ComunaCodigo %in% c(4101, 8101, 13101) & OrdenCausa ==3)"
      ],
      "metadata": {
        "id": "Qb5IXYxZNZkc"
      },
      "execution_count": 8,
      "outputs": []
    },
    {
      "cell_type": "code",
      "source": [
        "#ano_base <- \"2014-01-01\"\n",
        "#df_datos_temperatura <- read_delim(\"descargas/MERGE_XXXX_DiarioTs_.csv\", delim=\";\",col_select = c('CodigoNacional','momento','MediaCli_Valor','Maxima_Valor','Minima_Valor'), col_types = cols(momento = col_date(format = \"%d-%m-%Y %H:%M:%S\")))\n",
        "#df_datos_temperatura <- df_datos_temperatura %>% filter (momento > ano_base)\n",
        "#head(df_datos_temperatura,15)"
      ],
      "metadata": {
        "id": "a5R_eoKW13Td"
      },
      "execution_count": 9,
      "outputs": []
    },
    {
      "cell_type": "code",
      "source": [
        "#Cargo data frame temperatura y le cargo datos\n",
        "#df_datos_temperatura <- read.csv(\"descargas/MERGE_XXXX_DiarioTs_.csv\", header= TRUE, sep=\";\")\n",
        "df_datos_temperatura <- read_delim(\"descargas/MERGE_XXXX_DiarioTs_.csv\", delim=\";\",col_select = c('CodigoNacional','momento','MediaCli_Valor','Maxima_Valor','Minima_Valor'))\n",
        "head(df_datos_temperatura,5)"
      ],
      "metadata": {
        "id": "kazvPllqQygW",
        "outputId": "847805fe-7c7d-4e30-db6c-ea8ad37c68f3",
        "colab": {
          "base_uri": "https://localhost:8080/",
          "height": 394
        }
      },
      "execution_count": 10,
      "outputs": [
        {
          "output_type": "stream",
          "name": "stderr",
          "text": [
            "\u001b[1mRows: \u001b[22m\u001b[34m74539\u001b[39m \u001b[1mColumns: \u001b[22m\u001b[34m5\u001b[39m\n",
            "\u001b[36m──\u001b[39m \u001b[1mColumn specification\u001b[22m \u001b[36m────────────────────────────────────────────────────────\u001b[39m\n",
            "\u001b[1mDelimiter:\u001b[22m \";\"\n",
            "\u001b[31mchr\u001b[39m (1): momento\n",
            "\u001b[32mdbl\u001b[39m (4): CodigoNacional, MediaCli_Valor, Maxima_Valor, Minima_Valor\n",
            "\n",
            "\u001b[36mℹ\u001b[39m Use `spec()` to retrieve the full column specification for this data.\n",
            "\u001b[36mℹ\u001b[39m Specify the column types or set `show_col_types = FALSE` to quiet this message.\n"
          ]
        },
        {
          "output_type": "display_data",
          "data": {
            "text/html": [
              "<table class=\"dataframe\">\n",
              "<caption>A tibble: 5 × 5</caption>\n",
              "<thead>\n",
              "\t<tr><th scope=col>CodigoNacional</th><th scope=col>momento</th><th scope=col>MediaCli_Valor</th><th scope=col>Maxima_Valor</th><th scope=col>Minima_Valor</th></tr>\n",
              "\t<tr><th scope=col>&lt;dbl&gt;</th><th scope=col>&lt;chr&gt;</th><th scope=col>&lt;dbl&gt;</th><th scope=col>&lt;dbl&gt;</th><th scope=col>&lt;dbl&gt;</th></tr>\n",
              "</thead>\n",
              "<tbody>\n",
              "\t<tr><td>290004</td><td>01-01-1954 12:00:00</td><td>16.5</td><td>20.6</td><td>12.3</td></tr>\n",
              "\t<tr><td>290004</td><td>02-01-1954 12:00:00</td><td>17.1</td><td>20.4</td><td>13.9</td></tr>\n",
              "\t<tr><td>290004</td><td>03-01-1954 12:00:00</td><td>15.1</td><td>20.0</td><td>10.2</td></tr>\n",
              "\t<tr><td>290004</td><td>04-01-1954 12:00:00</td><td>16.9</td><td>20.8</td><td>13.0</td></tr>\n",
              "\t<tr><td>290004</td><td>05-01-1954 12:00:00</td><td>17.7</td><td>20.4</td><td>15.0</td></tr>\n",
              "</tbody>\n",
              "</table>\n"
            ],
            "text/markdown": "\nA tibble: 5 × 5\n\n| CodigoNacional &lt;dbl&gt; | momento &lt;chr&gt; | MediaCli_Valor &lt;dbl&gt; | Maxima_Valor &lt;dbl&gt; | Minima_Valor &lt;dbl&gt; |\n|---|---|---|---|---|\n| 290004 | 01-01-1954 12:00:00 | 16.5 | 20.6 | 12.3 |\n| 290004 | 02-01-1954 12:00:00 | 17.1 | 20.4 | 13.9 |\n| 290004 | 03-01-1954 12:00:00 | 15.1 | 20.0 | 10.2 |\n| 290004 | 04-01-1954 12:00:00 | 16.9 | 20.8 | 13.0 |\n| 290004 | 05-01-1954 12:00:00 | 17.7 | 20.4 | 15.0 |\n\n",
            "text/latex": "A tibble: 5 × 5\n\\begin{tabular}{lllll}\n CodigoNacional & momento & MediaCli\\_Valor & Maxima\\_Valor & Minima\\_Valor\\\\\n <dbl> & <chr> & <dbl> & <dbl> & <dbl>\\\\\n\\hline\n\t 290004 & 01-01-1954 12:00:00 & 16.5 & 20.6 & 12.3\\\\\n\t 290004 & 02-01-1954 12:00:00 & 17.1 & 20.4 & 13.9\\\\\n\t 290004 & 03-01-1954 12:00:00 & 15.1 & 20.0 & 10.2\\\\\n\t 290004 & 04-01-1954 12:00:00 & 16.9 & 20.8 & 13.0\\\\\n\t 290004 & 05-01-1954 12:00:00 & 17.7 & 20.4 & 15.0\\\\\n\\end{tabular}\n",
            "text/plain": [
              "  CodigoNacional momento             MediaCli_Valor Maxima_Valor Minima_Valor\n",
              "1 290004         01-01-1954 12:00:00 16.5           20.6         12.3        \n",
              "2 290004         02-01-1954 12:00:00 17.1           20.4         13.9        \n",
              "3 290004         03-01-1954 12:00:00 15.1           20.0         10.2        \n",
              "4 290004         04-01-1954 12:00:00 16.9           20.8         13.0        \n",
              "5 290004         05-01-1954 12:00:00 17.7           20.4         15.0        "
            ]
          },
          "metadata": {}
        }
      ]
    },
    {
      "cell_type": "code",
      "source": [
        "#Cargo data frame humedad y le cargo datos\n",
        "df_datos_Humedad <- read.csv(\"descargas/MERGE_Humedad.csv\", header= TRUE, sep=\";\")\n",
        "head(df_datos_Humedad,5)"
      ],
      "metadata": {
        "id": "MiPfpCRzx_iP",
        "colab": {
          "base_uri": "https://localhost:8080/",
          "height": 255
        },
        "outputId": "fe9f44a1-a3fb-40ba-f8df-3980484325ff"
      },
      "execution_count": 11,
      "outputs": [
        {
          "output_type": "display_data",
          "data": {
            "text/html": [
              "<table class=\"dataframe\">\n",
              "<caption>A data.frame: 5 × 3</caption>\n",
              "<thead>\n",
              "\t<tr><th></th><th scope=col>CodigoNacional</th><th scope=col>momento</th><th scope=col>HR_Valor</th></tr>\n",
              "\t<tr><th></th><th scope=col>&lt;int&gt;</th><th scope=col>&lt;chr&gt;</th><th scope=col>&lt;dbl&gt;</th></tr>\n",
              "</thead>\n",
              "<tbody>\n",
              "\t<tr><th scope=row>1</th><td>290004</td><td>01-01-1954 10:00:00</td><td>NA</td></tr>\n",
              "\t<tr><th scope=row>2</th><td>290004</td><td>01-01-1954 11:00:00</td><td>NA</td></tr>\n",
              "\t<tr><th scope=row>3</th><td>290004</td><td>01-01-1954 12:00:00</td><td>NA</td></tr>\n",
              "\t<tr><th scope=row>4</th><td>290004</td><td>01-01-1954 13:00:00</td><td>NA</td></tr>\n",
              "\t<tr><th scope=row>5</th><td>290004</td><td>01-01-1954 14:00:00</td><td>NA</td></tr>\n",
              "</tbody>\n",
              "</table>\n"
            ],
            "text/markdown": "\nA data.frame: 5 × 3\n\n| <!--/--> | CodigoNacional &lt;int&gt; | momento &lt;chr&gt; | HR_Valor &lt;dbl&gt; |\n|---|---|---|---|\n| 1 | 290004 | 01-01-1954 10:00:00 | NA |\n| 2 | 290004 | 01-01-1954 11:00:00 | NA |\n| 3 | 290004 | 01-01-1954 12:00:00 | NA |\n| 4 | 290004 | 01-01-1954 13:00:00 | NA |\n| 5 | 290004 | 01-01-1954 14:00:00 | NA |\n\n",
            "text/latex": "A data.frame: 5 × 3\n\\begin{tabular}{r|lll}\n  & CodigoNacional & momento & HR\\_Valor\\\\\n  & <int> & <chr> & <dbl>\\\\\n\\hline\n\t1 & 290004 & 01-01-1954 10:00:00 & NA\\\\\n\t2 & 290004 & 01-01-1954 11:00:00 & NA\\\\\n\t3 & 290004 & 01-01-1954 12:00:00 & NA\\\\\n\t4 & 290004 & 01-01-1954 13:00:00 & NA\\\\\n\t5 & 290004 & 01-01-1954 14:00:00 & NA\\\\\n\\end{tabular}\n",
            "text/plain": [
              "  CodigoNacional momento             HR_Valor\n",
              "1 290004         01-01-1954 10:00:00 NA      \n",
              "2 290004         01-01-1954 11:00:00 NA      \n",
              "3 290004         01-01-1954 12:00:00 NA      \n",
              "4 290004         01-01-1954 13:00:00 NA      \n",
              "5 290004         01-01-1954 14:00:00 NA      "
            ]
          },
          "metadata": {}
        }
      ]
    },
    {
      "cell_type": "code",
      "source": [
        "#Cargo data frame precipitaciones y le cargo datos\n",
        "#df_datos_Precip <- read.csv(\"descargas/MERGE_DiarioRR.csv\", header= TRUE, sep=\";\")\n",
        "df_datos_Precip <- read_delim(\"descargas/MERGE_DiarioRR.csv\", delim=\";\",col_select = c('CodigoNacional','momento','Total_Valor'))\n",
        "head(df_datos_Precip,5)"
      ],
      "metadata": {
        "id": "fVRhncVIQRM7",
        "colab": {
          "base_uri": "https://localhost:8080/",
          "height": 394
        },
        "outputId": "5936a13c-5576-48e0-db7b-c5bfb446b5db"
      },
      "execution_count": 12,
      "outputs": [
        {
          "output_type": "stream",
          "name": "stderr",
          "text": [
            "\u001b[1mRows: \u001b[22m\u001b[34m66161\u001b[39m \u001b[1mColumns: \u001b[22m\u001b[34m3\u001b[39m\n",
            "\u001b[36m──\u001b[39m \u001b[1mColumn specification\u001b[22m \u001b[36m────────────────────────────────────────────────────────\u001b[39m\n",
            "\u001b[1mDelimiter:\u001b[22m \";\"\n",
            "\u001b[31mchr\u001b[39m (1): momento\n",
            "\u001b[32mdbl\u001b[39m (2): CodigoNacional, Total_Valor\n",
            "\n",
            "\u001b[36mℹ\u001b[39m Use `spec()` to retrieve the full column specification for this data.\n",
            "\u001b[36mℹ\u001b[39m Specify the column types or set `show_col_types = FALSE` to quiet this message.\n"
          ]
        },
        {
          "output_type": "display_data",
          "data": {
            "text/html": [
              "<table class=\"dataframe\">\n",
              "<caption>A tibble: 5 × 3</caption>\n",
              "<thead>\n",
              "\t<tr><th scope=col>CodigoNacional</th><th scope=col>momento</th><th scope=col>Total_Valor</th></tr>\n",
              "\t<tr><th scope=col>&lt;dbl&gt;</th><th scope=col>&lt;chr&gt;</th><th scope=col>&lt;dbl&gt;</th></tr>\n",
              "</thead>\n",
              "<tbody>\n",
              "\t<tr><td>290004</td><td>01-01-1954 12:00:00</td><td>0</td></tr>\n",
              "\t<tr><td>290004</td><td>02-01-1954 12:00:00</td><td>0</td></tr>\n",
              "\t<tr><td>290004</td><td>03-01-1954 12:00:00</td><td>0</td></tr>\n",
              "\t<tr><td>290004</td><td>04-01-1954 12:00:00</td><td>0</td></tr>\n",
              "\t<tr><td>290004</td><td>05-01-1954 12:00:00</td><td>0</td></tr>\n",
              "</tbody>\n",
              "</table>\n"
            ],
            "text/markdown": "\nA tibble: 5 × 3\n\n| CodigoNacional &lt;dbl&gt; | momento &lt;chr&gt; | Total_Valor &lt;dbl&gt; |\n|---|---|---|\n| 290004 | 01-01-1954 12:00:00 | 0 |\n| 290004 | 02-01-1954 12:00:00 | 0 |\n| 290004 | 03-01-1954 12:00:00 | 0 |\n| 290004 | 04-01-1954 12:00:00 | 0 |\n| 290004 | 05-01-1954 12:00:00 | 0 |\n\n",
            "text/latex": "A tibble: 5 × 3\n\\begin{tabular}{lll}\n CodigoNacional & momento & Total\\_Valor\\\\\n <dbl> & <chr> & <dbl>\\\\\n\\hline\n\t 290004 & 01-01-1954 12:00:00 & 0\\\\\n\t 290004 & 02-01-1954 12:00:00 & 0\\\\\n\t 290004 & 03-01-1954 12:00:00 & 0\\\\\n\t 290004 & 04-01-1954 12:00:00 & 0\\\\\n\t 290004 & 05-01-1954 12:00:00 & 0\\\\\n\\end{tabular}\n",
            "text/plain": [
              "  CodigoNacional momento             Total_Valor\n",
              "1 290004         01-01-1954 12:00:00 0          \n",
              "2 290004         02-01-1954 12:00:00 0          \n",
              "3 290004         03-01-1954 12:00:00 0          \n",
              "4 290004         04-01-1954 12:00:00 0          \n",
              "5 290004         05-01-1954 12:00:00 0          "
            ]
          },
          "metadata": {}
        }
      ]
    },
    {
      "cell_type": "code",
      "source": [
        "#Cargo data frame material particulado y le cargo datos\n",
        "#df_datos_mp25 <- read.csv(\"descargas/MERGE_MP.csv\", header= TRUE, sep=\";\")\n",
        "df_datos_mp25 <- read_delim(\"descargas/MERGE_MP.csv\", delim=\";\",col_select = c('COMUNA', momento = 'FECHA(YYYYMMDD)', registrosValidados='Registros validados'))\n",
        "head(df_datos_mp25,5)"
      ],
      "metadata": {
        "id": "R9-WPc9O08M2",
        "colab": {
          "base_uri": "https://localhost:8080/",
          "height": 498
        },
        "outputId": "69313bb6-6a6d-4172-99d1-e5597ce88d8e"
      },
      "execution_count": 13,
      "outputs": [
        {
          "output_type": "stream",
          "name": "stderr",
          "text": [
            "Warning message:\n",
            "“\u001b[1m\u001b[22mOne or more parsing issues, call `problems()` on your data frame for details,\n",
            "e.g.:\n",
            "  dat <- vroom(...)\n",
            "  problems(dat)”\n",
            "\u001b[1mRows: \u001b[22m\u001b[34m18478\u001b[39m \u001b[1mColumns: \u001b[22m\u001b[34m3\u001b[39m\n",
            "\u001b[36m──\u001b[39m \u001b[1mColumn specification\u001b[22m \u001b[36m────────────────────────────────────────────────────────\u001b[39m\n",
            "\u001b[1mDelimiter:\u001b[22m \";\"\n",
            "\u001b[31mchr\u001b[39m (1): COMUNA\n",
            "\u001b[32mdbl\u001b[39m (1): FECHA(YYYYMMDD)\n",
            "\u001b[32mnum\u001b[39m (1): Registros validados\n",
            "\n",
            "\u001b[36mℹ\u001b[39m Use `spec()` to retrieve the full column specification for this data.\n",
            "\u001b[36mℹ\u001b[39m Specify the column types or set `show_col_types = FALSE` to quiet this message.\n"
          ]
        },
        {
          "output_type": "display_data",
          "data": {
            "text/html": [
              "<table class=\"dataframe\">\n",
              "<caption>A tibble: 5 × 3</caption>\n",
              "<thead>\n",
              "\t<tr><th scope=col>COMUNA</th><th scope=col>momento</th><th scope=col>registrosValidados</th></tr>\n",
              "\t<tr><th scope=col>&lt;chr&gt;</th><th scope=col>&lt;dbl&gt;</th><th scope=col>&lt;dbl&gt;</th></tr>\n",
              "</thead>\n",
              "<tbody>\n",
              "\t<tr><td>Concepcion</td><td>20090812</td><td>NA</td></tr>\n",
              "\t<tr><td>Concepcion</td><td>20090813</td><td>NA</td></tr>\n",
              "\t<tr><td>Concepcion</td><td>20090814</td><td>NA</td></tr>\n",
              "\t<tr><td>Concepcion</td><td>20090815</td><td>NA</td></tr>\n",
              "\t<tr><td>Concepcion</td><td>20090816</td><td>NA</td></tr>\n",
              "</tbody>\n",
              "</table>\n"
            ],
            "text/markdown": "\nA tibble: 5 × 3\n\n| COMUNA &lt;chr&gt; | momento &lt;dbl&gt; | registrosValidados &lt;dbl&gt; |\n|---|---|---|\n| Concepcion | 20090812 | NA |\n| Concepcion | 20090813 | NA |\n| Concepcion | 20090814 | NA |\n| Concepcion | 20090815 | NA |\n| Concepcion | 20090816 | NA |\n\n",
            "text/latex": "A tibble: 5 × 3\n\\begin{tabular}{lll}\n COMUNA & momento & registrosValidados\\\\\n <chr> & <dbl> & <dbl>\\\\\n\\hline\n\t Concepcion & 20090812 & NA\\\\\n\t Concepcion & 20090813 & NA\\\\\n\t Concepcion & 20090814 & NA\\\\\n\t Concepcion & 20090815 & NA\\\\\n\t Concepcion & 20090816 & NA\\\\\n\\end{tabular}\n",
            "text/plain": [
              "  COMUNA     momento  registrosValidados\n",
              "1 Concepcion 20090812 NA                \n",
              "2 Concepcion 20090813 NA                \n",
              "3 Concepcion 20090814 NA                \n",
              "4 Concepcion 20090815 NA                \n",
              "5 Concepcion 20090816 NA                "
            ]
          },
          "metadata": {}
        }
      ]
    },
    {
      "cell_type": "code",
      "source": [
        "#formateo fechas en material particulado 2.5.\n",
        "df_datos_mp25$momento <- format(as.Date(as.character(df_datos_mp25$momento),format=\"%Y%m%d\"), format=\"%d-%m-%Y\")\n",
        "#formateo fechas en temperaturas.\n",
        "df_datos_temperatura$momento<- format(as.Date(df_datos_temperatura$momento, format = \"%d-%m-%Y %H:%M:%S\"), format = \"%d-%m-%Y\")\n",
        "#formateo fechas en precipitaciones\n",
        "df_datos_Precip$momento<- format(as.Date(df_datos_Precip$momento, format = \"%d-%m-%Y %H:%M:%S\"), format = \"%d-%m-%Y\")\n",
        "#formateo fechas en humedad\n",
        "df_datos_Humedad$momento<- format(as.Date(df_datos_Humedad$momento, format = \"%d-%m-%Y %H:%M:%S\"), format = \"%d-%m-%Y\")"
      ],
      "metadata": {
        "id": "NjLU6UOu19iR"
      },
      "execution_count": 14,
      "outputs": []
    },
    {
      "cell_type": "code",
      "source": [
        "#Limpio filas con NA en todos los dataframe y chequeo contando posibles NA\n",
        "df_urgr_esp_semanal <- na.omit(df_urgr_esp_semanal)\n",
        "df_datos_temperatura <- na.omit(df_datos_temperatura)\n",
        "df_datos_Precip <- na.omit(df_datos_Precip)\n",
        "df_datos_Humedad <- na.omit(df_datos_Humedad)\n",
        "df_datos_mp25 <- na.omit(df_datos_mp25)\n",
        "sum(!complete.cases(df_urgr_esp_semanal))\n",
        "sum(!complete.cases(df_datos_temperatura))\n",
        "sum(!complete.cases(df_datos_Precip))\n",
        "sum(!complete.cases(df_datos_Humedad))\n",
        "sum(!complete.cases(df_datos_mp25))\n"
      ],
      "metadata": {
        "colab": {
          "base_uri": "https://localhost:8080/",
          "height": 104
        },
        "id": "C7lSYtOa-Q6K",
        "outputId": "a4c158da-bdf6-4f0e-9d29-dcd557c0e6d6"
      },
      "execution_count": 15,
      "outputs": [
        {
          "output_type": "display_data",
          "data": {
            "text/html": [
              "0"
            ],
            "text/markdown": "0",
            "text/latex": "0",
            "text/plain": [
              "[1] 0"
            ]
          },
          "metadata": {}
        },
        {
          "output_type": "display_data",
          "data": {
            "text/html": [
              "0"
            ],
            "text/markdown": "0",
            "text/latex": "0",
            "text/plain": [
              "[1] 0"
            ]
          },
          "metadata": {}
        },
        {
          "output_type": "display_data",
          "data": {
            "text/html": [
              "0"
            ],
            "text/markdown": "0",
            "text/latex": "0",
            "text/plain": [
              "[1] 0"
            ]
          },
          "metadata": {}
        },
        {
          "output_type": "display_data",
          "data": {
            "text/html": [
              "0"
            ],
            "text/markdown": "0",
            "text/latex": "0",
            "text/plain": [
              "[1] 0"
            ]
          },
          "metadata": {}
        },
        {
          "output_type": "display_data",
          "data": {
            "text/html": [
              "0"
            ],
            "text/markdown": "0",
            "text/latex": "0",
            "text/plain": [
              "[1] 0"
            ]
          },
          "metadata": {}
        }
      ]
    },
    {
      "cell_type": "code",
      "source": [
        "# agrupo urgencias respiratorias por año, semana y comuna y sumo el total de urgencias para la comuna.\n",
        "df_urgr_esp_semanal <-df_urgr_esp_semanal %>% group_by (ComunaCodigo, Anio, SemanaEstadistica) %>% summarise(NumTotal = sum(NumTotal, na.rm = TRUE)) %>%filter(Anio > 2013 & Anio < 2024)\n",
        "df_urgr_esp_semanal <- as.data.frame(df_urgr_esp_semanal)"
      ],
      "metadata": {
        "id": "7FipNT-leBhx",
        "outputId": "51eb003e-dab9-4fef-8a11-73b38d7639b4",
        "colab": {
          "base_uri": "https://localhost:8080/"
        }
      },
      "execution_count": 16,
      "outputs": [
        {
          "output_type": "stream",
          "name": "stderr",
          "text": [
            "\u001b[1m\u001b[22m`summarise()` has grouped output by 'ComunaCodigo', 'Anio'. You can override\n",
            "using the `.groups` argument.\n"
          ]
        }
      ]
    },
    {
      "cell_type": "code",
      "source": [
        "#obtengo n° de semana de las fechas de mediciones (momento) y agrego columna al data frame temperatura\n",
        "semana<- epiweek(dmy(df_datos_temperatura$momento))\n",
        "ano <- year(dmy(df_datos_temperatura$momento))\n",
        "difTemp <- df_datos_temperatura$Maxima_Valor-df_datos_temperatura$Minima_Valor\n",
        "df_datos_temperatura <- cbind(df_datos_temperatura, NuSemana = semana)\n",
        "df_datos_temperatura <- cbind(df_datos_temperatura, Anio = ano)\n",
        "df_datos_temperatura <- cbind(df_datos_temperatura, difTemp = difTemp)\n",
        "head(df_datos_temperatura,3)"
      ],
      "metadata": {
        "id": "04c0mj5ylC5C",
        "colab": {
          "base_uri": "https://localhost:8080/",
          "height": 192
        },
        "outputId": "eb8b39df-41a4-4357-a8fa-2bb43daf7449"
      },
      "execution_count": 17,
      "outputs": [
        {
          "output_type": "display_data",
          "data": {
            "text/html": [
              "<table class=\"dataframe\">\n",
              "<caption>A data.frame: 3 × 8</caption>\n",
              "<thead>\n",
              "\t<tr><th></th><th scope=col>CodigoNacional</th><th scope=col>momento</th><th scope=col>MediaCli_Valor</th><th scope=col>Maxima_Valor</th><th scope=col>Minima_Valor</th><th scope=col>NuSemana</th><th scope=col>Anio</th><th scope=col>difTemp</th></tr>\n",
              "\t<tr><th></th><th scope=col>&lt;dbl&gt;</th><th scope=col>&lt;chr&gt;</th><th scope=col>&lt;dbl&gt;</th><th scope=col>&lt;dbl&gt;</th><th scope=col>&lt;dbl&gt;</th><th scope=col>&lt;dbl&gt;</th><th scope=col>&lt;dbl&gt;</th><th scope=col>&lt;dbl&gt;</th></tr>\n",
              "</thead>\n",
              "<tbody>\n",
              "\t<tr><th scope=row>1</th><td>290004</td><td>01-01-1954</td><td>16.5</td><td>20.6</td><td>12.3</td><td>52</td><td>1954</td><td>8.3</td></tr>\n",
              "\t<tr><th scope=row>2</th><td>290004</td><td>02-01-1954</td><td>17.1</td><td>20.4</td><td>13.9</td><td>52</td><td>1954</td><td>6.5</td></tr>\n",
              "\t<tr><th scope=row>3</th><td>290004</td><td>03-01-1954</td><td>15.1</td><td>20.0</td><td>10.2</td><td> 1</td><td>1954</td><td>9.8</td></tr>\n",
              "</tbody>\n",
              "</table>\n"
            ],
            "text/markdown": "\nA data.frame: 3 × 8\n\n| <!--/--> | CodigoNacional &lt;dbl&gt; | momento &lt;chr&gt; | MediaCli_Valor &lt;dbl&gt; | Maxima_Valor &lt;dbl&gt; | Minima_Valor &lt;dbl&gt; | NuSemana &lt;dbl&gt; | Anio &lt;dbl&gt; | difTemp &lt;dbl&gt; |\n|---|---|---|---|---|---|---|---|---|\n| 1 | 290004 | 01-01-1954 | 16.5 | 20.6 | 12.3 | 52 | 1954 | 8.3 |\n| 2 | 290004 | 02-01-1954 | 17.1 | 20.4 | 13.9 | 52 | 1954 | 6.5 |\n| 3 | 290004 | 03-01-1954 | 15.1 | 20.0 | 10.2 |  1 | 1954 | 9.8 |\n\n",
            "text/latex": "A data.frame: 3 × 8\n\\begin{tabular}{r|llllllll}\n  & CodigoNacional & momento & MediaCli\\_Valor & Maxima\\_Valor & Minima\\_Valor & NuSemana & Anio & difTemp\\\\\n  & <dbl> & <chr> & <dbl> & <dbl> & <dbl> & <dbl> & <dbl> & <dbl>\\\\\n\\hline\n\t1 & 290004 & 01-01-1954 & 16.5 & 20.6 & 12.3 & 52 & 1954 & 8.3\\\\\n\t2 & 290004 & 02-01-1954 & 17.1 & 20.4 & 13.9 & 52 & 1954 & 6.5\\\\\n\t3 & 290004 & 03-01-1954 & 15.1 & 20.0 & 10.2 &  1 & 1954 & 9.8\\\\\n\\end{tabular}\n",
            "text/plain": [
              "  CodigoNacional momento    MediaCli_Valor Maxima_Valor Minima_Valor NuSemana\n",
              "1 290004         01-01-1954 16.5           20.6         12.3         52      \n",
              "2 290004         02-01-1954 17.1           20.4         13.9         52      \n",
              "3 290004         03-01-1954 15.1           20.0         10.2          1      \n",
              "  Anio difTemp\n",
              "1 1954 8.3    \n",
              "2 1954 6.5    \n",
              "3 1954 9.8    "
            ]
          },
          "metadata": {}
        }
      ]
    },
    {
      "cell_type": "code",
      "source": [
        "# Obtengo la media y mediana, de la temperatura para cada semana en cada año.\n",
        "df_datos_temperatura_semanal <- df_datos_temperatura %>% group_by (CodigoNacional,Anio, NuSemana) %>% summarise(medianaClim = median(MediaCli_Valor, na.rm = TRUE),  difMaxMin = median(difTemp, na.rm = TRUE))\n",
        "#Convierto agrupación con media y mediana a data frame\n",
        "df_datos_temperatura_semanal <- as.data.frame (df_datos_temperatura_semanal)\n",
        "#filtro por todo aquellos años >= a 2014\n",
        "df_datos_temperatura_semanal <- df_datos_temperatura_semanal %>% filter(Anio > 2013 & Anio < 2024)\n",
        "head(df_datos_temperatura_semanal,5)\n",
        "\n"
      ],
      "metadata": {
        "id": "lNzHoXEeVd4E",
        "outputId": "ca578038-8f95-40db-aa1e-1ffea0384dec",
        "colab": {
          "base_uri": "https://localhost:8080/",
          "height": 290
        }
      },
      "execution_count": 18,
      "outputs": [
        {
          "output_type": "stream",
          "name": "stderr",
          "text": [
            "\u001b[1m\u001b[22m`summarise()` has grouped output by 'CodigoNacional', 'Anio'. You can override\n",
            "using the `.groups` argument.\n"
          ]
        },
        {
          "output_type": "display_data",
          "data": {
            "text/html": [
              "<table class=\"dataframe\">\n",
              "<caption>A data.frame: 5 × 5</caption>\n",
              "<thead>\n",
              "\t<tr><th></th><th scope=col>CodigoNacional</th><th scope=col>Anio</th><th scope=col>NuSemana</th><th scope=col>medianaClim</th><th scope=col>difMaxMin</th></tr>\n",
              "\t<tr><th></th><th scope=col>&lt;dbl&gt;</th><th scope=col>&lt;dbl&gt;</th><th scope=col>&lt;dbl&gt;</th><th scope=col>&lt;dbl&gt;</th><th scope=col>&lt;dbl&gt;</th></tr>\n",
              "</thead>\n",
              "<tbody>\n",
              "\t<tr><th scope=row>1</th><td>290004</td><td>2014</td><td>1</td><td>17.6</td><td>7.8</td></tr>\n",
              "\t<tr><th scope=row>2</th><td>290004</td><td>2014</td><td>2</td><td>17.4</td><td>7.5</td></tr>\n",
              "\t<tr><th scope=row>3</th><td>290004</td><td>2014</td><td>3</td><td>17.8</td><td>6.9</td></tr>\n",
              "\t<tr><th scope=row>4</th><td>290004</td><td>2014</td><td>4</td><td>19.0</td><td>6.9</td></tr>\n",
              "\t<tr><th scope=row>5</th><td>290004</td><td>2014</td><td>5</td><td>18.4</td><td>7.6</td></tr>\n",
              "</tbody>\n",
              "</table>\n"
            ],
            "text/markdown": "\nA data.frame: 5 × 5\n\n| <!--/--> | CodigoNacional &lt;dbl&gt; | Anio &lt;dbl&gt; | NuSemana &lt;dbl&gt; | medianaClim &lt;dbl&gt; | difMaxMin &lt;dbl&gt; |\n|---|---|---|---|---|---|\n| 1 | 290004 | 2014 | 1 | 17.6 | 7.8 |\n| 2 | 290004 | 2014 | 2 | 17.4 | 7.5 |\n| 3 | 290004 | 2014 | 3 | 17.8 | 6.9 |\n| 4 | 290004 | 2014 | 4 | 19.0 | 6.9 |\n| 5 | 290004 | 2014 | 5 | 18.4 | 7.6 |\n\n",
            "text/latex": "A data.frame: 5 × 5\n\\begin{tabular}{r|lllll}\n  & CodigoNacional & Anio & NuSemana & medianaClim & difMaxMin\\\\\n  & <dbl> & <dbl> & <dbl> & <dbl> & <dbl>\\\\\n\\hline\n\t1 & 290004 & 2014 & 1 & 17.6 & 7.8\\\\\n\t2 & 290004 & 2014 & 2 & 17.4 & 7.5\\\\\n\t3 & 290004 & 2014 & 3 & 17.8 & 6.9\\\\\n\t4 & 290004 & 2014 & 4 & 19.0 & 6.9\\\\\n\t5 & 290004 & 2014 & 5 & 18.4 & 7.6\\\\\n\\end{tabular}\n",
            "text/plain": [
              "  CodigoNacional Anio NuSemana medianaClim difMaxMin\n",
              "1 290004         2014 1        17.6        7.8      \n",
              "2 290004         2014 2        17.4        7.5      \n",
              "3 290004         2014 3        17.8        6.9      \n",
              "4 290004         2014 4        19.0        6.9      \n",
              "5 290004         2014 5        18.4        7.6      "
            ]
          },
          "metadata": {}
        }
      ]
    },
    {
      "cell_type": "code",
      "source": [
        "#obtengo n° de semana de las fechas de mediciones (momento) y agrego columna al data frame humedad\n",
        "semana<-epiweek(dmy(df_datos_Humedad$momento))\n",
        "ano <- year(dmy(df_datos_Humedad$momento))\n",
        "df_datos_Humedad <- cbind(df_datos_Humedad, NuSemana = semana)\n",
        "df_datos_Humedad <- cbind(df_datos_Humedad, Anio = ano)\n",
        "head(df_datos_Humedad,3)"
      ],
      "metadata": {
        "id": "lXuk86klhdID",
        "outputId": "ef51046c-d34b-4e87-918e-5a57e0a6f384",
        "colab": {
          "base_uri": "https://localhost:8080/",
          "height": 192
        }
      },
      "execution_count": 19,
      "outputs": [
        {
          "output_type": "display_data",
          "data": {
            "text/html": [
              "<table class=\"dataframe\">\n",
              "<caption>A data.frame: 3 × 5</caption>\n",
              "<thead>\n",
              "\t<tr><th></th><th scope=col>CodigoNacional</th><th scope=col>momento</th><th scope=col>HR_Valor</th><th scope=col>NuSemana</th><th scope=col>Anio</th></tr>\n",
              "\t<tr><th></th><th scope=col>&lt;int&gt;</th><th scope=col>&lt;chr&gt;</th><th scope=col>&lt;dbl&gt;</th><th scope=col>&lt;dbl&gt;</th><th scope=col>&lt;dbl&gt;</th></tr>\n",
              "</thead>\n",
              "<tbody>\n",
              "\t<tr><th scope=row>5113</th><td>290004</td><td>06-01-1963</td><td>95</td><td>2</td><td>1963</td></tr>\n",
              "\t<tr><th scope=row>5114</th><td>290004</td><td>06-01-1963</td><td>93</td><td>2</td><td>1963</td></tr>\n",
              "\t<tr><th scope=row>5115</th><td>290004</td><td>06-01-1963</td><td>89</td><td>2</td><td>1963</td></tr>\n",
              "</tbody>\n",
              "</table>\n"
            ],
            "text/markdown": "\nA data.frame: 3 × 5\n\n| <!--/--> | CodigoNacional &lt;int&gt; | momento &lt;chr&gt; | HR_Valor &lt;dbl&gt; | NuSemana &lt;dbl&gt; | Anio &lt;dbl&gt; |\n|---|---|---|---|---|---|\n| 5113 | 290004 | 06-01-1963 | 95 | 2 | 1963 |\n| 5114 | 290004 | 06-01-1963 | 93 | 2 | 1963 |\n| 5115 | 290004 | 06-01-1963 | 89 | 2 | 1963 |\n\n",
            "text/latex": "A data.frame: 3 × 5\n\\begin{tabular}{r|lllll}\n  & CodigoNacional & momento & HR\\_Valor & NuSemana & Anio\\\\\n  & <int> & <chr> & <dbl> & <dbl> & <dbl>\\\\\n\\hline\n\t5113 & 290004 & 06-01-1963 & 95 & 2 & 1963\\\\\n\t5114 & 290004 & 06-01-1963 & 93 & 2 & 1963\\\\\n\t5115 & 290004 & 06-01-1963 & 89 & 2 & 1963\\\\\n\\end{tabular}\n",
            "text/plain": [
              "     CodigoNacional momento    HR_Valor NuSemana Anio\n",
              "5113 290004         06-01-1963 95       2        1963\n",
              "5114 290004         06-01-1963 93       2        1963\n",
              "5115 290004         06-01-1963 89       2        1963"
            ]
          },
          "metadata": {}
        }
      ]
    },
    {
      "cell_type": "code",
      "source": [
        "# Obtengo la media y mediana, de la temperatura para cada semana en cada año.\n",
        "df_datos_Humedad_semanal <- df_datos_Humedad %>% group_by (CodigoNacional,Anio, NuSemana) %>% summarise(Mediana_HR_Valor = median(HR_Valor, na.rm = TRUE))\n",
        "#Convierto agrupación con media y mediana a data frame\n",
        "df_datos_Humedad_semanal <- as.data.frame (df_datos_Humedad_semanal)\n",
        "#filtro por todo aquellos años >= a 2014\n",
        "df_datos_Humedad_semanal <- df_datos_Humedad_semanal %>% filter(Anio > 2013 & Anio < 2024)\n",
        "head(df_datos_Humedad_semanal,5)"
      ],
      "metadata": {
        "id": "ekP5khJwiS8w",
        "outputId": "6f145930-fa90-46cb-be82-0b101220a36a",
        "colab": {
          "base_uri": "https://localhost:8080/",
          "height": 290
        }
      },
      "execution_count": 20,
      "outputs": [
        {
          "output_type": "stream",
          "name": "stderr",
          "text": [
            "\u001b[1m\u001b[22m`summarise()` has grouped output by 'CodigoNacional', 'Anio'. You can override\n",
            "using the `.groups` argument.\n"
          ]
        },
        {
          "output_type": "display_data",
          "data": {
            "text/html": [
              "<table class=\"dataframe\">\n",
              "<caption>A data.frame: 5 × 4</caption>\n",
              "<thead>\n",
              "\t<tr><th></th><th scope=col>CodigoNacional</th><th scope=col>Anio</th><th scope=col>NuSemana</th><th scope=col>Mediana_HR_Valor</th></tr>\n",
              "\t<tr><th></th><th scope=col>&lt;int&gt;</th><th scope=col>&lt;dbl&gt;</th><th scope=col>&lt;dbl&gt;</th><th scope=col>&lt;dbl&gt;</th></tr>\n",
              "</thead>\n",
              "<tbody>\n",
              "\t<tr><th scope=row>1</th><td>290004</td><td>2014</td><td>1</td><td>76.5</td></tr>\n",
              "\t<tr><th scope=row>2</th><td>290004</td><td>2014</td><td>2</td><td>81.5</td></tr>\n",
              "\t<tr><th scope=row>3</th><td>290004</td><td>2014</td><td>3</td><td>72.5</td></tr>\n",
              "\t<tr><th scope=row>4</th><td>290004</td><td>2014</td><td>4</td><td>76.0</td></tr>\n",
              "\t<tr><th scope=row>5</th><td>290004</td><td>2014</td><td>5</td><td>75.0</td></tr>\n",
              "</tbody>\n",
              "</table>\n"
            ],
            "text/markdown": "\nA data.frame: 5 × 4\n\n| <!--/--> | CodigoNacional &lt;int&gt; | Anio &lt;dbl&gt; | NuSemana &lt;dbl&gt; | Mediana_HR_Valor &lt;dbl&gt; |\n|---|---|---|---|---|\n| 1 | 290004 | 2014 | 1 | 76.5 |\n| 2 | 290004 | 2014 | 2 | 81.5 |\n| 3 | 290004 | 2014 | 3 | 72.5 |\n| 4 | 290004 | 2014 | 4 | 76.0 |\n| 5 | 290004 | 2014 | 5 | 75.0 |\n\n",
            "text/latex": "A data.frame: 5 × 4\n\\begin{tabular}{r|llll}\n  & CodigoNacional & Anio & NuSemana & Mediana\\_HR\\_Valor\\\\\n  & <int> & <dbl> & <dbl> & <dbl>\\\\\n\\hline\n\t1 & 290004 & 2014 & 1 & 76.5\\\\\n\t2 & 290004 & 2014 & 2 & 81.5\\\\\n\t3 & 290004 & 2014 & 3 & 72.5\\\\\n\t4 & 290004 & 2014 & 4 & 76.0\\\\\n\t5 & 290004 & 2014 & 5 & 75.0\\\\\n\\end{tabular}\n",
            "text/plain": [
              "  CodigoNacional Anio NuSemana Mediana_HR_Valor\n",
              "1 290004         2014 1        76.5            \n",
              "2 290004         2014 2        81.5            \n",
              "3 290004         2014 3        72.5            \n",
              "4 290004         2014 4        76.0            \n",
              "5 290004         2014 5        75.0            "
            ]
          },
          "metadata": {}
        }
      ]
    },
    {
      "cell_type": "code",
      "source": [
        "#obtengo n° de semana de las fechas de mediciones (momento) y agrego columna al data frame precipitaciones\n",
        "semana<-epiweek(dmy(df_datos_Precip$momento))\n",
        "ano <- year(dmy(df_datos_Precip$momento))\n",
        "df_datos_Precip <- cbind(df_datos_Precip, NuSemana = semana)\n",
        "df_datos_Precip <- cbind(df_datos_Precip, Anio = ano)\n",
        "head(df_datos_Precip,3)"
      ],
      "metadata": {
        "colab": {
          "base_uri": "https://localhost:8080/",
          "height": 192
        },
        "id": "CdrP6r0bC1t8",
        "outputId": "cbb81ffd-bea0-45e7-c6fc-bfc602702c9e"
      },
      "execution_count": 21,
      "outputs": [
        {
          "output_type": "display_data",
          "data": {
            "text/html": [
              "<table class=\"dataframe\">\n",
              "<caption>A data.frame: 3 × 5</caption>\n",
              "<thead>\n",
              "\t<tr><th></th><th scope=col>CodigoNacional</th><th scope=col>momento</th><th scope=col>Total_Valor</th><th scope=col>NuSemana</th><th scope=col>Anio</th></tr>\n",
              "\t<tr><th></th><th scope=col>&lt;dbl&gt;</th><th scope=col>&lt;chr&gt;</th><th scope=col>&lt;dbl&gt;</th><th scope=col>&lt;dbl&gt;</th><th scope=col>&lt;dbl&gt;</th></tr>\n",
              "</thead>\n",
              "<tbody>\n",
              "\t<tr><th scope=row>1</th><td>290004</td><td>01-01-1954</td><td>0</td><td>52</td><td>1954</td></tr>\n",
              "\t<tr><th scope=row>2</th><td>290004</td><td>02-01-1954</td><td>0</td><td>52</td><td>1954</td></tr>\n",
              "\t<tr><th scope=row>3</th><td>290004</td><td>03-01-1954</td><td>0</td><td> 1</td><td>1954</td></tr>\n",
              "</tbody>\n",
              "</table>\n"
            ],
            "text/markdown": "\nA data.frame: 3 × 5\n\n| <!--/--> | CodigoNacional &lt;dbl&gt; | momento &lt;chr&gt; | Total_Valor &lt;dbl&gt; | NuSemana &lt;dbl&gt; | Anio &lt;dbl&gt; |\n|---|---|---|---|---|---|\n| 1 | 290004 | 01-01-1954 | 0 | 52 | 1954 |\n| 2 | 290004 | 02-01-1954 | 0 | 52 | 1954 |\n| 3 | 290004 | 03-01-1954 | 0 |  1 | 1954 |\n\n",
            "text/latex": "A data.frame: 3 × 5\n\\begin{tabular}{r|lllll}\n  & CodigoNacional & momento & Total\\_Valor & NuSemana & Anio\\\\\n  & <dbl> & <chr> & <dbl> & <dbl> & <dbl>\\\\\n\\hline\n\t1 & 290004 & 01-01-1954 & 0 & 52 & 1954\\\\\n\t2 & 290004 & 02-01-1954 & 0 & 52 & 1954\\\\\n\t3 & 290004 & 03-01-1954 & 0 &  1 & 1954\\\\\n\\end{tabular}\n",
            "text/plain": [
              "  CodigoNacional momento    Total_Valor NuSemana Anio\n",
              "1 290004         01-01-1954 0           52       1954\n",
              "2 290004         02-01-1954 0           52       1954\n",
              "3 290004         03-01-1954 0            1       1954"
            ]
          },
          "metadata": {}
        }
      ]
    },
    {
      "cell_type": "code",
      "source": [
        "# Agrupo y obtengo la suma de precipitaciones para cada semana en cada año.\n",
        "df_datos_Precip_semanal <- df_datos_Precip %>% group_by (CodigoNacional,Anio, NuSemana) %>% summarise(Total_Valor_sem = sum(Total_Valor, na.rm = TRUE))\n",
        "#Convierto agrupación con media y mediana a data frame\n",
        "df_datos_Precip_semanal <- as.data.frame (df_datos_Precip_semanal)\n",
        "#filtro por todo aquellos años >= a 2014\n",
        "df_datos_Precip_semanal <- df_datos_Precip_semanal %>% filter(Anio > 2013 & Anio < 2024)\n",
        "head(df_datos_Precip_semanal,5)"
      ],
      "metadata": {
        "colab": {
          "base_uri": "https://localhost:8080/",
          "height": 290
        },
        "id": "Iij1RkzSDVQb",
        "outputId": "92e1f24a-e8e3-48e4-9b72-107b05e9dac0"
      },
      "execution_count": 22,
      "outputs": [
        {
          "output_type": "stream",
          "name": "stderr",
          "text": [
            "\u001b[1m\u001b[22m`summarise()` has grouped output by 'CodigoNacional', 'Anio'. You can override\n",
            "using the `.groups` argument.\n"
          ]
        },
        {
          "output_type": "display_data",
          "data": {
            "text/html": [
              "<table class=\"dataframe\">\n",
              "<caption>A data.frame: 5 × 4</caption>\n",
              "<thead>\n",
              "\t<tr><th></th><th scope=col>CodigoNacional</th><th scope=col>Anio</th><th scope=col>NuSemana</th><th scope=col>Total_Valor_sem</th></tr>\n",
              "\t<tr><th></th><th scope=col>&lt;dbl&gt;</th><th scope=col>&lt;dbl&gt;</th><th scope=col>&lt;dbl&gt;</th><th scope=col>&lt;dbl&gt;</th></tr>\n",
              "</thead>\n",
              "<tbody>\n",
              "\t<tr><th scope=row>1</th><td>290004</td><td>2014</td><td>1</td><td>0</td></tr>\n",
              "\t<tr><th scope=row>2</th><td>290004</td><td>2014</td><td>2</td><td>0</td></tr>\n",
              "\t<tr><th scope=row>3</th><td>290004</td><td>2014</td><td>3</td><td>0</td></tr>\n",
              "\t<tr><th scope=row>4</th><td>290004</td><td>2014</td><td>4</td><td>0</td></tr>\n",
              "\t<tr><th scope=row>5</th><td>290004</td><td>2014</td><td>5</td><td>0</td></tr>\n",
              "</tbody>\n",
              "</table>\n"
            ],
            "text/markdown": "\nA data.frame: 5 × 4\n\n| <!--/--> | CodigoNacional &lt;dbl&gt; | Anio &lt;dbl&gt; | NuSemana &lt;dbl&gt; | Total_Valor_sem &lt;dbl&gt; |\n|---|---|---|---|---|\n| 1 | 290004 | 2014 | 1 | 0 |\n| 2 | 290004 | 2014 | 2 | 0 |\n| 3 | 290004 | 2014 | 3 | 0 |\n| 4 | 290004 | 2014 | 4 | 0 |\n| 5 | 290004 | 2014 | 5 | 0 |\n\n",
            "text/latex": "A data.frame: 5 × 4\n\\begin{tabular}{r|llll}\n  & CodigoNacional & Anio & NuSemana & Total\\_Valor\\_sem\\\\\n  & <dbl> & <dbl> & <dbl> & <dbl>\\\\\n\\hline\n\t1 & 290004 & 2014 & 1 & 0\\\\\n\t2 & 290004 & 2014 & 2 & 0\\\\\n\t3 & 290004 & 2014 & 3 & 0\\\\\n\t4 & 290004 & 2014 & 4 & 0\\\\\n\t5 & 290004 & 2014 & 5 & 0\\\\\n\\end{tabular}\n",
            "text/plain": [
              "  CodigoNacional Anio NuSemana Total_Valor_sem\n",
              "1 290004         2014 1        0              \n",
              "2 290004         2014 2        0              \n",
              "3 290004         2014 3        0              \n",
              "4 290004         2014 4        0              \n",
              "5 290004         2014 5        0              "
            ]
          },
          "metadata": {}
        }
      ]
    },
    {
      "cell_type": "code",
      "source": [
        "#obtengo n° de semana de las fechas de mediciones (momento) y agrego columna al data frame mp25\n",
        "semana<-epiweek(dmy(df_datos_mp25$momento))\n",
        "ano <- year(dmy(df_datos_mp25$momento))\n",
        "df_datos_mp25 <- cbind(df_datos_mp25, NuSemana = semana)\n",
        "df_datos_mp25 <- cbind(df_datos_mp25, Anio = ano)\n",
        "head(df_datos_mp25,3)"
      ],
      "metadata": {
        "colab": {
          "base_uri": "https://localhost:8080/",
          "height": 192
        },
        "id": "DdjPbon8FhQX",
        "outputId": "de9b664e-f23f-4447-b82e-fd9e96f02e03"
      },
      "execution_count": 23,
      "outputs": [
        {
          "output_type": "display_data",
          "data": {
            "text/html": [
              "<table class=\"dataframe\">\n",
              "<caption>A data.frame: 3 × 5</caption>\n",
              "<thead>\n",
              "\t<tr><th></th><th scope=col>COMUNA</th><th scope=col>momento</th><th scope=col>registrosValidados</th><th scope=col>NuSemana</th><th scope=col>Anio</th></tr>\n",
              "\t<tr><th></th><th scope=col>&lt;chr&gt;</th><th scope=col>&lt;chr&gt;</th><th scope=col>&lt;dbl&gt;</th><th scope=col>&lt;dbl&gt;</th><th scope=col>&lt;dbl&gt;</th></tr>\n",
              "</thead>\n",
              "<tbody>\n",
              "\t<tr><th scope=row>1</th><td>Concepcion</td><td>11-06-2017</td><td>33</td><td>24</td><td>2017</td></tr>\n",
              "\t<tr><th scope=row>2</th><td>Concepcion</td><td>12-06-2017</td><td>37</td><td>24</td><td>2017</td></tr>\n",
              "\t<tr><th scope=row>3</th><td>Concepcion</td><td>13-06-2017</td><td>44</td><td>24</td><td>2017</td></tr>\n",
              "</tbody>\n",
              "</table>\n"
            ],
            "text/markdown": "\nA data.frame: 3 × 5\n\n| <!--/--> | COMUNA &lt;chr&gt; | momento &lt;chr&gt; | registrosValidados &lt;dbl&gt; | NuSemana &lt;dbl&gt; | Anio &lt;dbl&gt; |\n|---|---|---|---|---|---|\n| 1 | Concepcion | 11-06-2017 | 33 | 24 | 2017 |\n| 2 | Concepcion | 12-06-2017 | 37 | 24 | 2017 |\n| 3 | Concepcion | 13-06-2017 | 44 | 24 | 2017 |\n\n",
            "text/latex": "A data.frame: 3 × 5\n\\begin{tabular}{r|lllll}\n  & COMUNA & momento & registrosValidados & NuSemana & Anio\\\\\n  & <chr> & <chr> & <dbl> & <dbl> & <dbl>\\\\\n\\hline\n\t1 & Concepcion & 11-06-2017 & 33 & 24 & 2017\\\\\n\t2 & Concepcion & 12-06-2017 & 37 & 24 & 2017\\\\\n\t3 & Concepcion & 13-06-2017 & 44 & 24 & 2017\\\\\n\\end{tabular}\n",
            "text/plain": [
              "  COMUNA     momento    registrosValidados NuSemana Anio\n",
              "1 Concepcion 11-06-2017 33                 24       2017\n",
              "2 Concepcion 12-06-2017 37                 24       2017\n",
              "3 Concepcion 13-06-2017 44                 24       2017"
            ]
          },
          "metadata": {}
        }
      ]
    },
    {
      "cell_type": "code",
      "source": [
        "# Agrupo y obtengo la suma de precipitaciones para cada semana en cada año.\n",
        "df_datos_mp25_semanal <- df_datos_mp25 %>% group_by (COMUNA,Anio, NuSemana) %>% summarise(Total_Valor_sem = sum(registrosValidados, na.rm = TRUE))\n",
        "#Convierto agrupación con media y mediana a data frame\n",
        "df_datos_mp25_semanal <- as.data.frame (df_datos_mp25_semanal)\n",
        "#filtro por todo aquellos años >= a 2014\n",
        "df_datos_mp25_semanal <- df_datos_mp25_semanal %>% filter(Anio > 2013 & Anio < 2024)\n",
        "head(df_datos_mp25_semanal,5)"
      ],
      "metadata": {
        "colab": {
          "base_uri": "https://localhost:8080/",
          "height": 290
        },
        "id": "f9hgqQjDGiJo",
        "outputId": "5bb93517-d402-4531-dae3-23bebade92b1"
      },
      "execution_count": 24,
      "outputs": [
        {
          "output_type": "stream",
          "name": "stderr",
          "text": [
            "\u001b[1m\u001b[22m`summarise()` has grouped output by 'COMUNA', 'Anio'. You can override using\n",
            "the `.groups` argument.\n"
          ]
        },
        {
          "output_type": "display_data",
          "data": {
            "text/html": [
              "<table class=\"dataframe\">\n",
              "<caption>A data.frame: 5 × 4</caption>\n",
              "<thead>\n",
              "\t<tr><th></th><th scope=col>COMUNA</th><th scope=col>Anio</th><th scope=col>NuSemana</th><th scope=col>Total_Valor_sem</th></tr>\n",
              "\t<tr><th></th><th scope=col>&lt;chr&gt;</th><th scope=col>&lt;dbl&gt;</th><th scope=col>&lt;dbl&gt;</th><th scope=col>&lt;dbl&gt;</th></tr>\n",
              "</thead>\n",
              "<tbody>\n",
              "\t<tr><th scope=row>1</th><td>Concepcion</td><td>2017</td><td>24</td><td>192</td></tr>\n",
              "\t<tr><th scope=row>2</th><td>Concepcion</td><td>2017</td><td>25</td><td>156</td></tr>\n",
              "\t<tr><th scope=row>3</th><td>Concepcion</td><td>2017</td><td>26</td><td>124</td></tr>\n",
              "\t<tr><th scope=row>4</th><td>Concepcion</td><td>2017</td><td>27</td><td>151</td></tr>\n",
              "\t<tr><th scope=row>5</th><td>Concepcion</td><td>2017</td><td>28</td><td>152</td></tr>\n",
              "</tbody>\n",
              "</table>\n"
            ],
            "text/markdown": "\nA data.frame: 5 × 4\n\n| <!--/--> | COMUNA &lt;chr&gt; | Anio &lt;dbl&gt; | NuSemana &lt;dbl&gt; | Total_Valor_sem &lt;dbl&gt; |\n|---|---|---|---|---|\n| 1 | Concepcion | 2017 | 24 | 192 |\n| 2 | Concepcion | 2017 | 25 | 156 |\n| 3 | Concepcion | 2017 | 26 | 124 |\n| 4 | Concepcion | 2017 | 27 | 151 |\n| 5 | Concepcion | 2017 | 28 | 152 |\n\n",
            "text/latex": "A data.frame: 5 × 4\n\\begin{tabular}{r|llll}\n  & COMUNA & Anio & NuSemana & Total\\_Valor\\_sem\\\\\n  & <chr> & <dbl> & <dbl> & <dbl>\\\\\n\\hline\n\t1 & Concepcion & 2017 & 24 & 192\\\\\n\t2 & Concepcion & 2017 & 25 & 156\\\\\n\t3 & Concepcion & 2017 & 26 & 124\\\\\n\t4 & Concepcion & 2017 & 27 & 151\\\\\n\t5 & Concepcion & 2017 & 28 & 152\\\\\n\\end{tabular}\n",
            "text/plain": [
              "  COMUNA     Anio NuSemana Total_Valor_sem\n",
              "1 Concepcion 2017 24       192            \n",
              "2 Concepcion 2017 25       156            \n",
              "3 Concepcion 2017 26       124            \n",
              "4 Concepcion 2017 27       151            \n",
              "5 Concepcion 2017 28       152            "
            ]
          },
          "metadata": {}
        }
      ]
    },
    {
      "cell_type": "code",
      "source": [
        "count(df_urgr_esp_semanal)\n",
        "write.csv (df_urgr_esp_semanal, \"prueba.csv\")\n",
        "count(df_datos_temperatura_semanal)\n",
        "write.csv (df_datos_temperatura_semanal, \"prueba2.csv\")\n",
        "count(df_datos_Precip_semanal)\n",
        "count(df_datos_Humedad_semanal)\n",
        "count(df_datos_mp25_semanal)"
      ],
      "metadata": {
        "id": "l5FZV3fQbq0R",
        "outputId": "59bb84b9-d144-46fc-fd0c-6d9f825c732e",
        "colab": {
          "base_uri": "https://localhost:8080/",
          "height": 753
        }
      },
      "execution_count": 25,
      "outputs": [
        {
          "output_type": "display_data",
          "data": {
            "text/html": [
              "<table class=\"dataframe\">\n",
              "<caption>A data.frame: 1 × 1</caption>\n",
              "<thead>\n",
              "\t<tr><th scope=col>n</th></tr>\n",
              "\t<tr><th scope=col>&lt;int&gt;</th></tr>\n",
              "</thead>\n",
              "<tbody>\n",
              "\t<tr><td>1572</td></tr>\n",
              "</tbody>\n",
              "</table>\n"
            ],
            "text/markdown": "\nA data.frame: 1 × 1\n\n| n &lt;int&gt; |\n|---|\n| 1572 |\n\n",
            "text/latex": "A data.frame: 1 × 1\n\\begin{tabular}{l}\n n\\\\\n <int>\\\\\n\\hline\n\t 1572\\\\\n\\end{tabular}\n",
            "text/plain": [
              "  n   \n",
              "1 1572"
            ]
          },
          "metadata": {}
        },
        {
          "output_type": "display_data",
          "data": {
            "text/html": [
              "<table class=\"dataframe\">\n",
              "<caption>A data.frame: 1 × 1</caption>\n",
              "<thead>\n",
              "\t<tr><th scope=col>n</th></tr>\n",
              "\t<tr><th scope=col>&lt;int&gt;</th></tr>\n",
              "</thead>\n",
              "<tbody>\n",
              "\t<tr><td>1572</td></tr>\n",
              "</tbody>\n",
              "</table>\n"
            ],
            "text/markdown": "\nA data.frame: 1 × 1\n\n| n &lt;int&gt; |\n|---|\n| 1572 |\n\n",
            "text/latex": "A data.frame: 1 × 1\n\\begin{tabular}{l}\n n\\\\\n <int>\\\\\n\\hline\n\t 1572\\\\\n\\end{tabular}\n",
            "text/plain": [
              "  n   \n",
              "1 1572"
            ]
          },
          "metadata": {}
        },
        {
          "output_type": "display_data",
          "data": {
            "text/html": [
              "<table class=\"dataframe\">\n",
              "<caption>A data.frame: 1 × 1</caption>\n",
              "<thead>\n",
              "\t<tr><th scope=col>n</th></tr>\n",
              "\t<tr><th scope=col>&lt;int&gt;</th></tr>\n",
              "</thead>\n",
              "<tbody>\n",
              "\t<tr><td>1572</td></tr>\n",
              "</tbody>\n",
              "</table>\n"
            ],
            "text/markdown": "\nA data.frame: 1 × 1\n\n| n &lt;int&gt; |\n|---|\n| 1572 |\n\n",
            "text/latex": "A data.frame: 1 × 1\n\\begin{tabular}{l}\n n\\\\\n <int>\\\\\n\\hline\n\t 1572\\\\\n\\end{tabular}\n",
            "text/plain": [
              "  n   \n",
              "1 1572"
            ]
          },
          "metadata": {}
        },
        {
          "output_type": "display_data",
          "data": {
            "text/html": [
              "<table class=\"dataframe\">\n",
              "<caption>A data.frame: 1 × 1</caption>\n",
              "<thead>\n",
              "\t<tr><th scope=col>n</th></tr>\n",
              "\t<tr><th scope=col>&lt;int&gt;</th></tr>\n",
              "</thead>\n",
              "<tbody>\n",
              "\t<tr><td>1572</td></tr>\n",
              "</tbody>\n",
              "</table>\n"
            ],
            "text/markdown": "\nA data.frame: 1 × 1\n\n| n &lt;int&gt; |\n|---|\n| 1572 |\n\n",
            "text/latex": "A data.frame: 1 × 1\n\\begin{tabular}{l}\n n\\\\\n <int>\\\\\n\\hline\n\t 1572\\\\\n\\end{tabular}\n",
            "text/plain": [
              "  n   \n",
              "1 1572"
            ]
          },
          "metadata": {}
        },
        {
          "output_type": "display_data",
          "data": {
            "text/html": [
              "<table class=\"dataframe\">\n",
              "<caption>A data.frame: 1 × 1</caption>\n",
              "<thead>\n",
              "\t<tr><th scope=col>n</th></tr>\n",
              "\t<tr><th scope=col>&lt;int&gt;</th></tr>\n",
              "</thead>\n",
              "<tbody>\n",
              "\t<tr><td>1370</td></tr>\n",
              "</tbody>\n",
              "</table>\n"
            ],
            "text/markdown": "\nA data.frame: 1 × 1\n\n| n &lt;int&gt; |\n|---|\n| 1370 |\n\n",
            "text/latex": "A data.frame: 1 × 1\n\\begin{tabular}{l}\n n\\\\\n <int>\\\\\n\\hline\n\t 1370\\\\\n\\end{tabular}\n",
            "text/plain": [
              "  n   \n",
              "1 1370"
            ]
          },
          "metadata": {}
        }
      ]
    },
    {
      "cell_type": "code",
      "source": [
        "df_variable <-merge(df_datos_temperatura_semanal, df_datos_Humedad_semanal, by = c(\"CodigoNacional\",\"Anio\",\"NuSemana\"))\n",
        "df_variable <- merge(df_variable, df_datos_Precip_semanal, by = c(\"CodigoNacional\",\"Anio\",\"NuSemana\"))\n",
        "head(df_variable,15)"
      ],
      "metadata": {
        "id": "C3St2zUj3j3K",
        "outputId": "2d6c4506-bc06-4ccf-e414-c2c423a6fa7c",
        "colab": {
          "base_uri": "https://localhost:8080/",
          "height": 568
        }
      },
      "execution_count": 43,
      "outputs": [
        {
          "output_type": "display_data",
          "data": {
            "text/html": [
              "<table class=\"dataframe\">\n",
              "<caption>A data.frame: 15 × 7</caption>\n",
              "<thead>\n",
              "\t<tr><th></th><th scope=col>CodigoNacional</th><th scope=col>Anio</th><th scope=col>NuSemana</th><th scope=col>medianaClim</th><th scope=col>difMaxMin</th><th scope=col>Mediana_HR_Valor</th><th scope=col>Total_Valor_sem</th></tr>\n",
              "\t<tr><th></th><th scope=col>&lt;dbl&gt;</th><th scope=col>&lt;dbl&gt;</th><th scope=col>&lt;dbl&gt;</th><th scope=col>&lt;dbl&gt;</th><th scope=col>&lt;dbl&gt;</th><th scope=col>&lt;dbl&gt;</th><th scope=col>&lt;dbl&gt;</th></tr>\n",
              "</thead>\n",
              "<tbody>\n",
              "\t<tr><th scope=row>1</th><td>290004</td><td>2014</td><td> 1</td><td>17.6</td><td>7.8</td><td>76.5</td><td>0.0</td></tr>\n",
              "\t<tr><th scope=row>2</th><td>290004</td><td>2014</td><td>10</td><td>15.8</td><td>8.4</td><td>82.0</td><td>0.0</td></tr>\n",
              "\t<tr><th scope=row>3</th><td>290004</td><td>2014</td><td>11</td><td>14.9</td><td>6.6</td><td>84.0</td><td>0.0</td></tr>\n",
              "\t<tr><th scope=row>4</th><td>290004</td><td>2014</td><td>12</td><td>14.3</td><td>6.1</td><td>86.5</td><td>0.2</td></tr>\n",
              "\t<tr><th scope=row>5</th><td>290004</td><td>2014</td><td>13</td><td>14.4</td><td>4.2</td><td>85.5</td><td>0.6</td></tr>\n",
              "\t<tr><th scope=row>6</th><td>290004</td><td>2014</td><td>14</td><td>14.2</td><td>7.7</td><td>80.0</td><td>0.0</td></tr>\n",
              "\t<tr><th scope=row>7</th><td>290004</td><td>2014</td><td>15</td><td>14.1</td><td>8.9</td><td>77.0</td><td>0.0</td></tr>\n",
              "\t<tr><th scope=row>8</th><td>290004</td><td>2014</td><td>16</td><td>12.8</td><td>5.4</td><td>83.0</td><td>0.0</td></tr>\n",
              "\t<tr><th scope=row>9</th><td>290004</td><td>2014</td><td>17</td><td>13.2</td><td>5.0</td><td>84.0</td><td>0.2</td></tr>\n",
              "\t<tr><th scope=row>10</th><td>290004</td><td>2014</td><td>18</td><td>12.4</td><td>8.0</td><td>80.0</td><td>0.0</td></tr>\n",
              "\t<tr><th scope=row>11</th><td>290004</td><td>2014</td><td>19</td><td>12.8</td><td>4.9</td><td>89.0</td><td>0.0</td></tr>\n",
              "\t<tr><th scope=row>12</th><td>290004</td><td>2014</td><td> 2</td><td>17.4</td><td>7.5</td><td>81.5</td><td>0.0</td></tr>\n",
              "\t<tr><th scope=row>13</th><td>290004</td><td>2014</td><td>20</td><td>11.7</td><td>7.1</td><td>85.0</td><td>0.0</td></tr>\n",
              "\t<tr><th scope=row>14</th><td>290004</td><td>2014</td><td>21</td><td>11.6</td><td>9.7</td><td>82.5</td><td>0.0</td></tr>\n",
              "\t<tr><th scope=row>15</th><td>290004</td><td>2014</td><td>22</td><td>12.0</td><td>9.8</td><td>76.0</td><td>0.0</td></tr>\n",
              "</tbody>\n",
              "</table>\n"
            ],
            "text/markdown": "\nA data.frame: 15 × 7\n\n| <!--/--> | CodigoNacional &lt;dbl&gt; | Anio &lt;dbl&gt; | NuSemana &lt;dbl&gt; | medianaClim &lt;dbl&gt; | difMaxMin &lt;dbl&gt; | Mediana_HR_Valor &lt;dbl&gt; | Total_Valor_sem &lt;dbl&gt; |\n|---|---|---|---|---|---|---|---|\n| 1 | 290004 | 2014 |  1 | 17.6 | 7.8 | 76.5 | 0.0 |\n| 2 | 290004 | 2014 | 10 | 15.8 | 8.4 | 82.0 | 0.0 |\n| 3 | 290004 | 2014 | 11 | 14.9 | 6.6 | 84.0 | 0.0 |\n| 4 | 290004 | 2014 | 12 | 14.3 | 6.1 | 86.5 | 0.2 |\n| 5 | 290004 | 2014 | 13 | 14.4 | 4.2 | 85.5 | 0.6 |\n| 6 | 290004 | 2014 | 14 | 14.2 | 7.7 | 80.0 | 0.0 |\n| 7 | 290004 | 2014 | 15 | 14.1 | 8.9 | 77.0 | 0.0 |\n| 8 | 290004 | 2014 | 16 | 12.8 | 5.4 | 83.0 | 0.0 |\n| 9 | 290004 | 2014 | 17 | 13.2 | 5.0 | 84.0 | 0.2 |\n| 10 | 290004 | 2014 | 18 | 12.4 | 8.0 | 80.0 | 0.0 |\n| 11 | 290004 | 2014 | 19 | 12.8 | 4.9 | 89.0 | 0.0 |\n| 12 | 290004 | 2014 |  2 | 17.4 | 7.5 | 81.5 | 0.0 |\n| 13 | 290004 | 2014 | 20 | 11.7 | 7.1 | 85.0 | 0.0 |\n| 14 | 290004 | 2014 | 21 | 11.6 | 9.7 | 82.5 | 0.0 |\n| 15 | 290004 | 2014 | 22 | 12.0 | 9.8 | 76.0 | 0.0 |\n\n",
            "text/latex": "A data.frame: 15 × 7\n\\begin{tabular}{r|lllllll}\n  & CodigoNacional & Anio & NuSemana & medianaClim & difMaxMin & Mediana\\_HR\\_Valor & Total\\_Valor\\_sem\\\\\n  & <dbl> & <dbl> & <dbl> & <dbl> & <dbl> & <dbl> & <dbl>\\\\\n\\hline\n\t1 & 290004 & 2014 &  1 & 17.6 & 7.8 & 76.5 & 0.0\\\\\n\t2 & 290004 & 2014 & 10 & 15.8 & 8.4 & 82.0 & 0.0\\\\\n\t3 & 290004 & 2014 & 11 & 14.9 & 6.6 & 84.0 & 0.0\\\\\n\t4 & 290004 & 2014 & 12 & 14.3 & 6.1 & 86.5 & 0.2\\\\\n\t5 & 290004 & 2014 & 13 & 14.4 & 4.2 & 85.5 & 0.6\\\\\n\t6 & 290004 & 2014 & 14 & 14.2 & 7.7 & 80.0 & 0.0\\\\\n\t7 & 290004 & 2014 & 15 & 14.1 & 8.9 & 77.0 & 0.0\\\\\n\t8 & 290004 & 2014 & 16 & 12.8 & 5.4 & 83.0 & 0.0\\\\\n\t9 & 290004 & 2014 & 17 & 13.2 & 5.0 & 84.0 & 0.2\\\\\n\t10 & 290004 & 2014 & 18 & 12.4 & 8.0 & 80.0 & 0.0\\\\\n\t11 & 290004 & 2014 & 19 & 12.8 & 4.9 & 89.0 & 0.0\\\\\n\t12 & 290004 & 2014 &  2 & 17.4 & 7.5 & 81.5 & 0.0\\\\\n\t13 & 290004 & 2014 & 20 & 11.7 & 7.1 & 85.0 & 0.0\\\\\n\t14 & 290004 & 2014 & 21 & 11.6 & 9.7 & 82.5 & 0.0\\\\\n\t15 & 290004 & 2014 & 22 & 12.0 & 9.8 & 76.0 & 0.0\\\\\n\\end{tabular}\n",
            "text/plain": [
              "   CodigoNacional Anio NuSemana medianaClim difMaxMin Mediana_HR_Valor\n",
              "1  290004         2014  1       17.6        7.8       76.5            \n",
              "2  290004         2014 10       15.8        8.4       82.0            \n",
              "3  290004         2014 11       14.9        6.6       84.0            \n",
              "4  290004         2014 12       14.3        6.1       86.5            \n",
              "5  290004         2014 13       14.4        4.2       85.5            \n",
              "6  290004         2014 14       14.2        7.7       80.0            \n",
              "7  290004         2014 15       14.1        8.9       77.0            \n",
              "8  290004         2014 16       12.8        5.4       83.0            \n",
              "9  290004         2014 17       13.2        5.0       84.0            \n",
              "10 290004         2014 18       12.4        8.0       80.0            \n",
              "11 290004         2014 19       12.8        4.9       89.0            \n",
              "12 290004         2014  2       17.4        7.5       81.5            \n",
              "13 290004         2014 20       11.7        7.1       85.0            \n",
              "14 290004         2014 21       11.6        9.7       82.5            \n",
              "15 290004         2014 22       12.0        9.8       76.0            \n",
              "   Total_Valor_sem\n",
              "1  0.0            \n",
              "2  0.0            \n",
              "3  0.0            \n",
              "4  0.2            \n",
              "5  0.6            \n",
              "6  0.0            \n",
              "7  0.0            \n",
              "8  0.0            \n",
              "9  0.2            \n",
              "10 0.0            \n",
              "11 0.0            \n",
              "12 0.0            \n",
              "13 0.0            \n",
              "14 0.0            \n",
              "15 0.0            "
            ]
          },
          "metadata": {}
        }
      ]
    },
    {
      "cell_type": "code",
      "source": [
        "#Aqui estan todas las causas consideradas. La #3 es un total.\n",
        "#df_urgr_esp_semanal %>% select(OrdenCausa, Causa)%>%distinct()%>%arrange(OrdenCausa)"
      ],
      "metadata": {
        "id": "oREv1_6pveC6"
      },
      "execution_count": 26,
      "outputs": []
    },
    {
      "cell_type": "code",
      "source": [
        "#Filtro el dataset par las regiones 8,4 y 13, tambien la causa 3 que es solo totalizador de urgencias reportadas\n",
        "#df_urgr_esp_semanal<- df_urgr_esp_semanal %>% filter (RegionCodigo %in% c(8,4,13) & OrdenCausa != 3)\n",
        "#count(df_urgr_esp_semanal)\n",
        "#head(df_urgr_esp_semanal,5)\n",
        "#df_urgr_esp_semanal %>% filter (ComunaGlosa == 'La Serena' & Anio == 2023 & SemanaEstadistica == 47) %>%arrange (Anio)\n",
        "#%>% select(ComunaCodigo, ComunaGlosa) %>% filter(ComunaGlosa == 'Santiago')"
      ],
      "metadata": {
        "id": "SPdSAwt-zfD7"
      },
      "execution_count": 27,
      "outputs": []
    },
    {
      "cell_type": "code",
      "source": [
        "#Obtengo el total de urgencias reportadas en todos los años por las 3 regiones.\n",
        "#df_urgr_esp_semanal%>% group_by(RegionGlosa) %>% summarise(Total = sum(NumTotal, na.rm = TRUE))"
      ],
      "metadata": {
        "id": "YBwWoeGzxkZt"
      },
      "execution_count": 28,
      "outputs": []
    },
    {
      "cell_type": "code",
      "source": [
        "# Grafico la cantidad de casos por región\n",
        "#df_plot1<-df_urgr_esp_semanal%>% group_by(RegionGlosa) %>% summarise(Total = sum(NumTotal, na.rm = TRUE))\n",
        "#options(repr.plot.width = 10, repr.plot.height = 10)\n",
        "#ggplot(df_plot1, aes(x=RegionGlosa, y= Total, fill= RegionGlosa)) + geom_bar(stat=\"identity\") +\n",
        "#scale_y_continuous(labels = scales::comma_format(accuracy = 1))+\n",
        "#theme(axis.text.x = element_text(angle = 75, vjust = .5))+\n",
        "#labs(x = \"Región\", y = \"Total Urgencias\", title = \"Total Urgencias x Región\")"
      ],
      "metadata": {
        "id": "9U0Uf1SXnlX9"
      },
      "execution_count": 29,
      "outputs": []
    },
    {
      "cell_type": "code",
      "source": [
        "# Obtengo cantidad de urgencias por año y region\n",
        "#df_resumen <- df_urgr_esp_semanal %>%\n",
        "#  group_by(Anio, RegionGlosa) %>%\n",
        "#  summarise(Total = sum(NumTotal, na.rm = TRUE))\n",
        "#  df_resumen"
      ],
      "metadata": {
        "id": "EmhGoM1e0ZOo"
      },
      "execution_count": 30,
      "outputs": []
    },
    {
      "cell_type": "code",
      "source": [
        "# Obtengo cantidad de urgencias por año, semana y region.\n",
        "#df_resumen <- df_urgr_esp_semanal %>%\n",
        "#  group_by(Anio, SemanaEstadistica, Causa) %>%\n",
        "#  summarise(Total = sum(NumTotal, na.rm = TRUE))\n",
        "#  df_resumen"
      ],
      "metadata": {
        "id": "M-wlfKZigc6v"
      },
      "execution_count": 31,
      "outputs": []
    },
    {
      "cell_type": "code",
      "source": [
        "#df_agrupado <- df_urgr_esp_semanal %>%\n",
        " # group_by(Anio) %>%\n",
        "  #summarise(Total = sum(NumTotal, na.rm = TRUE))\n",
        "#options(repr.plot.width = 15, repr.plot.height = 15)\n",
        "#ggplot(df_agrupado, aes(x = factor(Anio), y = Total)) +\n",
        " # geom_bar(stat = \"identity\", fill = \"steelblue\") +\n",
        " # labs(x = \"Año\", y = \"Total Urgencias\", title = \"Urgencias por Año\") +\n",
        " # theme_minimal()"
      ],
      "metadata": {
        "id": "BxOCdmv31mZe"
      },
      "execution_count": 32,
      "outputs": []
    }
  ]
}