{
  "nbformat": 4,
  "nbformat_minor": 0,
  "metadata": {
    "colab": {
      "provenance": [],
      "gpuType": "T4",
      "authorship_tag": "ABX9TyMe/yFZlMl8uDhGypX+73q/",
      "include_colab_link": true
    },
    "kernelspec": {
      "name": "ir",
      "display_name": "R"
    },
    "language_info": {
      "name": "R"
    },
    "accelerator": "GPU"
  },
  "cells": [
    {
      "cell_type": "markdown",
      "metadata": {
        "id": "view-in-github",
        "colab_type": "text"
      },
      "source": [
        "<a href=\"https://colab.research.google.com/github/cazathoth/tfm/blob/main/tfm_jvasquez_v1.ipynb\" target=\"_parent\"><img src=\"https://colab.research.google.com/assets/colab-badge.svg\" alt=\"Open In Colab\"/></a>"
      ]
    },
    {
      "cell_type": "code",
      "execution_count": 1,
      "metadata": {
        "colab": {
          "base_uri": "https://localhost:8080/"
        },
        "collapsed": true,
        "id": "dYQtmnm-tU_g",
        "outputId": "263e7415-b614-47ff-f26c-e3f3acbe9d46"
      },
      "outputs": [
        {
          "output_type": "stream",
          "name": "stderr",
          "text": [
            "Installing package into ‘/usr/local/lib/R/site-library’\n",
            "(as ‘lib’ is unspecified)\n",
            "\n",
            "Installing package into ‘/usr/local/lib/R/site-library’\n",
            "(as ‘lib’ is unspecified)\n",
            "\n",
            "also installing the dependency ‘assertthat’\n",
            "\n",
            "\n",
            "Installing package into ‘/usr/local/lib/R/site-library’\n",
            "(as ‘lib’ is unspecified)\n",
            "\n"
          ]
        }
      ],
      "source": [
        "#descarga librerias.\n",
        "install.packages(\"tidyverse\")\n",
        "install.packages(\"arrow\")\n",
        "install.packages(\"lubridate\")\n"
      ]
    },
    {
      "cell_type": "code",
      "source": [
        "#cargo librerias a utilizar.\n",
        "library(\"tidyverse\")\n",
        "library(\"arrow\")\n",
        "library(\"lubridate\")"
      ],
      "metadata": {
        "collapsed": true,
        "id": "nF9tJ2Z2tcfR"
      },
      "execution_count": 3,
      "outputs": []
    },
    {
      "cell_type": "code",
      "source": [
        "#creo directorio y descargo dataset con datos de urgencias respiratorias\n",
        "dir.create(\"descargas\")\n",
        "url <- \"https://datos.gob.cl/dataset/606ef5bb-11d1-475b-b69f-b980da5757f4/resource/ae6c9887-106d-4e98-8875-40bf2b836041/download/at_urg_respiratorio_semanal.parquet\"\n",
        "nombre_temporal <- \"descargas/at_urg_respiratorio_semanal.parquet\"\n",
        "download.file(url, nombre_temporal)"
      ],
      "metadata": {
        "id": "dxpqJfpYxZsn",
        "outputId": "3cd67e09-90f4-4fe2-8ad6-5e16f40b88c3",
        "colab": {
          "base_uri": "https://localhost:8080/"
        }
      },
      "execution_count": 5,
      "outputs": [
        {
          "output_type": "stream",
          "name": "stderr",
          "text": [
            "Warning message in dir.create(\"descargas\"):\n",
            "“'descargas' already exists”\n"
          ]
        }
      ]
    },
    {
      "cell_type": "code",
      "source": [
        "df_urgr_esp_semanal <- read_parquet(\"descargas/at_urg_respiratorio_semanal.parquet\")\n",
        "df_urgr_esp_semanal<- df_urgr_esp_semanal %>% filter (RegionCodigo %in% c(8,4,13))\n",
        "count(df_urgr_esp_semanal)\n",
        "head(df_urgr_esp_semanal,5)"
      ],
      "metadata": {
        "colab": {
          "base_uri": "https://localhost:8080/",
          "height": 578
        },
        "id": "SPdSAwt-zfD7",
        "outputId": "f03e6045-02c8-459d-d26c-2c10bedf31ea"
      },
      "execution_count": 12,
      "outputs": [
        {
          "output_type": "display_data",
          "data": {
            "text/html": [
              "<table class=\"dataframe\">\n",
              "<caption>A tibble: 1 × 1</caption>\n",
              "<thead>\n",
              "\t<tr><th scope=col>n</th></tr>\n",
              "\t<tr><th scope=col>&lt;int&gt;</th></tr>\n",
              "</thead>\n",
              "<tbody>\n",
              "\t<tr><td>1203697</td></tr>\n",
              "</tbody>\n",
              "</table>\n"
            ],
            "text/markdown": "\nA tibble: 1 × 1\n\n| n &lt;int&gt; |\n|---|\n| 1203697 |\n\n",
            "text/latex": "A tibble: 1 × 1\n\\begin{tabular}{l}\n n\\\\\n <int>\\\\\n\\hline\n\t 1203697\\\\\n\\end{tabular}\n",
            "text/plain": [
              "  n      \n",
              "1 1203697"
            ]
          },
          "metadata": {}
        },
        {
          "output_type": "display_data",
          "data": {
            "text/html": [
              "<table class=\"dataframe\">\n",
              "<caption>A tibble: 5 × 25</caption>\n",
              "<thead>\n",
              "\t<tr><th scope=col>EstablecimientoCodigo</th><th scope=col>EstablecimientoGlosa</th><th scope=col>RegionCodigo</th><th scope=col>RegionGlosa</th><th scope=col>ComunaCodigo</th><th scope=col>ComunaGlosa</th><th scope=col>ServicioSaludCodigo</th><th scope=col>ServicioSaludGlosa</th><th scope=col>TipoEstablecimiento</th><th scope=col>DependenciaAdministrativa</th><th scope=col>⋯</th><th scope=col>Anio</th><th scope=col>SemanaEstadistica</th><th scope=col>OrdenCausa</th><th scope=col>Causa</th><th scope=col>NumTotal</th><th scope=col>NumMenor1Anio</th><th scope=col>Num1a4Anios</th><th scope=col>Num5a14Anios</th><th scope=col>Num15a64Anios</th><th scope=col>Num65oMas</th></tr>\n",
              "\t<tr><th scope=col>&lt;chr&gt;</th><th scope=col>&lt;chr&gt;</th><th scope=col>&lt;chr&gt;</th><th scope=col>&lt;chr&gt;</th><th scope=col>&lt;chr&gt;</th><th scope=col>&lt;chr&gt;</th><th scope=col>&lt;chr&gt;</th><th scope=col>&lt;chr&gt;</th><th scope=col>&lt;chr&gt;</th><th scope=col>&lt;chr&gt;</th><th scope=col>⋯</th><th scope=col>&lt;int&gt;</th><th scope=col>&lt;int&gt;</th><th scope=col>&lt;int&gt;</th><th scope=col>&lt;chr&gt;</th><th scope=col>&lt;int&gt;</th><th scope=col>&lt;int&gt;</th><th scope=col>&lt;int&gt;</th><th scope=col>&lt;int&gt;</th><th scope=col>&lt;int&gt;</th><th scope=col>&lt;int&gt;</th></tr>\n",
              "</thead>\n",
              "<tbody>\n",
              "\t<tr><td>113818</td><td>SAPU Paine         </td><td>13</td><td>Región Metropolitana de Santiago</td><td>13404</td><td>Paine      </td><td>13</td><td>Servicio de Salud Metropolitano Sur        </td><td>Servicio de Atención Primaria de Urgencia (SAPU)</td><td>Municipal        </td><td>⋯</td><td>2019</td><td>12</td><td> 3</td><td>TOTAL CAUSAS SISTEMA RESPIRATORIO                      </td><td>259</td><td>14</td><td>51</td><td>48</td><td>131</td><td>15</td></tr>\n",
              "\t<tr><td>114825</td><td>SAPU Granja Sur    </td><td>13</td><td>Región Metropolitana de Santiago</td><td>13111</td><td>La Granja  </td><td>14</td><td>Servicio de Salud Metropolitano Sur Oriente</td><td>Servicio de Atención Primaria de Urgencia (SAPU)</td><td>Municipal        </td><td>⋯</td><td>2020</td><td>35</td><td> 3</td><td>TOTAL CAUSAS SISTEMA RESPIRATORIO                      </td><td> 20</td><td> 3</td><td> 2</td><td> 2</td><td> 12</td><td> 1</td></tr>\n",
              "\t<tr><td>200118</td><td>SAPU Luis Chavarría</td><td>13</td><td>Región Metropolitana de Santiago</td><td>13103</td><td>Cerro Navia</td><td>10</td><td>Servicio de Salud Metropolitano Occidente  </td><td>Servicio de Atención Primaria de Urgencia (SAPU)</td><td>Municipal        </td><td>⋯</td><td>2023</td><td>29</td><td> 5</td><td>Influenza (J09-J11)                                    </td><td>  0</td><td> 0</td><td> 0</td><td> 0</td><td>  0</td><td> 0</td></tr>\n",
              "\t<tr><td>111804</td><td>SAPU Maipú         </td><td>13</td><td>Región Metropolitana de Santiago</td><td>13119</td><td>Maipú      </td><td>11</td><td>Servicio de Salud Metropolitano Central    </td><td>Servicio de Atención Primaria de Urgencia (SAPU)</td><td>Servicio de Salud</td><td>⋯</td><td>2020</td><td>10</td><td>33</td><td>HOSPITALIZACIONES COVID-19, VIRUS NO IDENTIFICADO U07.2</td><td>  0</td><td> 0</td><td> 0</td><td> 0</td><td>  0</td><td> 0</td></tr>\n",
              "\t<tr><td>105804</td><td>SAPU Santa Cecilia </td><td>4 </td><td>Región De Coquimbo              </td><td>4102 </td><td>Coquimbo   </td><td>5 </td><td>Servicio de Salud Coquimbo                 </td><td>Servicio de Atención Primaria de Urgencia (SAPU)</td><td>Municipal        </td><td>⋯</td><td>2014</td><td>36</td><td> 4</td><td>IRA Alta (J00-J06)                                     </td><td>174</td><td> 7</td><td>43</td><td>29</td><td> 91</td><td> 4</td></tr>\n",
              "</tbody>\n",
              "</table>\n"
            ],
            "text/markdown": "\nA tibble: 5 × 25\n\n| EstablecimientoCodigo &lt;chr&gt; | EstablecimientoGlosa &lt;chr&gt; | RegionCodigo &lt;chr&gt; | RegionGlosa &lt;chr&gt; | ComunaCodigo &lt;chr&gt; | ComunaGlosa &lt;chr&gt; | ServicioSaludCodigo &lt;chr&gt; | ServicioSaludGlosa &lt;chr&gt; | TipoEstablecimiento &lt;chr&gt; | DependenciaAdministrativa &lt;chr&gt; | ⋯ ⋯ | Anio &lt;int&gt; | SemanaEstadistica &lt;int&gt; | OrdenCausa &lt;int&gt; | Causa &lt;chr&gt; | NumTotal &lt;int&gt; | NumMenor1Anio &lt;int&gt; | Num1a4Anios &lt;int&gt; | Num5a14Anios &lt;int&gt; | Num15a64Anios &lt;int&gt; | Num65oMas &lt;int&gt; |\n|---|---|---|---|---|---|---|---|---|---|---|---|---|---|---|---|---|---|---|---|---|\n| 113818 | SAPU Paine          | 13 | Región Metropolitana de Santiago | 13404 | Paine       | 13 | Servicio de Salud Metropolitano Sur         | Servicio de Atención Primaria de Urgencia (SAPU) | Municipal         | ⋯ | 2019 | 12 |  3 | TOTAL CAUSAS SISTEMA RESPIRATORIO                       | 259 | 14 | 51 | 48 | 131 | 15 |\n| 114825 | SAPU Granja Sur     | 13 | Región Metropolitana de Santiago | 13111 | La Granja   | 14 | Servicio de Salud Metropolitano Sur Oriente | Servicio de Atención Primaria de Urgencia (SAPU) | Municipal         | ⋯ | 2020 | 35 |  3 | TOTAL CAUSAS SISTEMA RESPIRATORIO                       |  20 |  3 |  2 |  2 |  12 |  1 |\n| 200118 | SAPU Luis Chavarría | 13 | Región Metropolitana de Santiago | 13103 | Cerro Navia | 10 | Servicio de Salud Metropolitano Occidente   | Servicio de Atención Primaria de Urgencia (SAPU) | Municipal         | ⋯ | 2023 | 29 |  5 | Influenza (J09-J11)                                     |   0 |  0 |  0 |  0 |   0 |  0 |\n| 111804 | SAPU Maipú          | 13 | Región Metropolitana de Santiago | 13119 | Maipú       | 11 | Servicio de Salud Metropolitano Central     | Servicio de Atención Primaria de Urgencia (SAPU) | Servicio de Salud | ⋯ | 2020 | 10 | 33 | HOSPITALIZACIONES COVID-19, VIRUS NO IDENTIFICADO U07.2 |   0 |  0 |  0 |  0 |   0 |  0 |\n| 105804 | SAPU Santa Cecilia  | 4  | Región De Coquimbo               | 4102  | Coquimbo    | 5  | Servicio de Salud Coquimbo                  | Servicio de Atención Primaria de Urgencia (SAPU) | Municipal         | ⋯ | 2014 | 36 |  4 | IRA Alta (J00-J06)                                      | 174 |  7 | 43 | 29 |  91 |  4 |\n\n",
            "text/latex": "A tibble: 5 × 25\n\\begin{tabular}{lllllllllllllllllllll}\n EstablecimientoCodigo & EstablecimientoGlosa & RegionCodigo & RegionGlosa & ComunaCodigo & ComunaGlosa & ServicioSaludCodigo & ServicioSaludGlosa & TipoEstablecimiento & DependenciaAdministrativa & ⋯ & Anio & SemanaEstadistica & OrdenCausa & Causa & NumTotal & NumMenor1Anio & Num1a4Anios & Num5a14Anios & Num15a64Anios & Num65oMas\\\\\n <chr> & <chr> & <chr> & <chr> & <chr> & <chr> & <chr> & <chr> & <chr> & <chr> & ⋯ & <int> & <int> & <int> & <chr> & <int> & <int> & <int> & <int> & <int> & <int>\\\\\n\\hline\n\t 113818 & SAPU Paine          & 13 & Región Metropolitana de Santiago & 13404 & Paine       & 13 & Servicio de Salud Metropolitano Sur         & Servicio de Atención Primaria de Urgencia (SAPU) & Municipal         & ⋯ & 2019 & 12 &  3 & TOTAL CAUSAS SISTEMA RESPIRATORIO                       & 259 & 14 & 51 & 48 & 131 & 15\\\\\n\t 114825 & SAPU Granja Sur     & 13 & Región Metropolitana de Santiago & 13111 & La Granja   & 14 & Servicio de Salud Metropolitano Sur Oriente & Servicio de Atención Primaria de Urgencia (SAPU) & Municipal         & ⋯ & 2020 & 35 &  3 & TOTAL CAUSAS SISTEMA RESPIRATORIO                       &  20 &  3 &  2 &  2 &  12 &  1\\\\\n\t 200118 & SAPU Luis Chavarría & 13 & Región Metropolitana de Santiago & 13103 & Cerro Navia & 10 & Servicio de Salud Metropolitano Occidente   & Servicio de Atención Primaria de Urgencia (SAPU) & Municipal         & ⋯ & 2023 & 29 &  5 & Influenza (J09-J11)                                     &   0 &  0 &  0 &  0 &   0 &  0\\\\\n\t 111804 & SAPU Maipú          & 13 & Región Metropolitana de Santiago & 13119 & Maipú       & 11 & Servicio de Salud Metropolitano Central     & Servicio de Atención Primaria de Urgencia (SAPU) & Servicio de Salud & ⋯ & 2020 & 10 & 33 & HOSPITALIZACIONES COVID-19, VIRUS NO IDENTIFICADO U07.2 &   0 &  0 &  0 &  0 &   0 &  0\\\\\n\t 105804 & SAPU Santa Cecilia  & 4  & Región De Coquimbo               & 4102  & Coquimbo    & 5  & Servicio de Salud Coquimbo                  & Servicio de Atención Primaria de Urgencia (SAPU) & Municipal         & ⋯ & 2014 & 36 &  4 & IRA Alta (J00-J06)                                      & 174 &  7 & 43 & 29 &  91 &  4\\\\\n\\end{tabular}\n",
            "text/plain": [
              "  EstablecimientoCodigo EstablecimientoGlosa RegionCodigo\n",
              "1 113818                SAPU Paine           13          \n",
              "2 114825                SAPU Granja Sur      13          \n",
              "3 200118                SAPU Luis Chavarría  13          \n",
              "4 111804                SAPU Maipú           13          \n",
              "5 105804                SAPU Santa Cecilia   4           \n",
              "  RegionGlosa                      ComunaCodigo ComunaGlosa ServicioSaludCodigo\n",
              "1 Región Metropolitana de Santiago 13404        Paine       13                 \n",
              "2 Región Metropolitana de Santiago 13111        La Granja   14                 \n",
              "3 Región Metropolitana de Santiago 13103        Cerro Navia 10                 \n",
              "4 Región Metropolitana de Santiago 13119        Maipú       11                 \n",
              "5 Región De Coquimbo               4102         Coquimbo    5                  \n",
              "  ServicioSaludGlosa                         \n",
              "1 Servicio de Salud Metropolitano Sur        \n",
              "2 Servicio de Salud Metropolitano Sur Oriente\n",
              "3 Servicio de Salud Metropolitano Occidente  \n",
              "4 Servicio de Salud Metropolitano Central    \n",
              "5 Servicio de Salud Coquimbo                 \n",
              "  TipoEstablecimiento                              DependenciaAdministrativa ⋯\n",
              "1 Servicio de Atención Primaria de Urgencia (SAPU) Municipal                 ⋯\n",
              "2 Servicio de Atención Primaria de Urgencia (SAPU) Municipal                 ⋯\n",
              "3 Servicio de Atención Primaria de Urgencia (SAPU) Municipal                 ⋯\n",
              "4 Servicio de Atención Primaria de Urgencia (SAPU) Servicio de Salud         ⋯\n",
              "5 Servicio de Atención Primaria de Urgencia (SAPU) Municipal                 ⋯\n",
              "  Anio SemanaEstadistica OrdenCausa\n",
              "1 2019 12                 3        \n",
              "2 2020 35                 3        \n",
              "3 2023 29                 5        \n",
              "4 2020 10                33        \n",
              "5 2014 36                 4        \n",
              "  Causa                                                   NumTotal\n",
              "1 TOTAL CAUSAS SISTEMA RESPIRATORIO                       259     \n",
              "2 TOTAL CAUSAS SISTEMA RESPIRATORIO                        20     \n",
              "3 Influenza (J09-J11)                                       0     \n",
              "4 HOSPITALIZACIONES COVID-19, VIRUS NO IDENTIFICADO U07.2   0     \n",
              "5 IRA Alta (J00-J06)                                      174     \n",
              "  NumMenor1Anio Num1a4Anios Num5a14Anios Num15a64Anios Num65oMas\n",
              "1 14            51          48           131           15       \n",
              "2  3             2           2            12            1       \n",
              "3  0             0           0             0            0       \n",
              "4  0             0           0             0            0       \n",
              "5  7            43          29            91            4       "
            ]
          },
          "metadata": {}
        }
      ]
    },
    {
      "cell_type": "code",
      "source": [
        "df_urgr_esp_semanal %>% select(OrdenCausa, Causa)%>%distinct()%>%arrange(OrdenCausa)"
      ],
      "metadata": {
        "id": "hQKndvZ58pw4",
        "outputId": "a564e914-0224-4667-9e7a-54a914b328fc",
        "colab": {
          "base_uri": "https://localhost:8080/",
          "height": 474
        }
      },
      "execution_count": 11,
      "outputs": [
        {
          "output_type": "display_data",
          "data": {
            "text/html": [
              "<table class=\"dataframe\">\n",
              "<caption>A tibble: 12 × 2</caption>\n",
              "<thead>\n",
              "\t<tr><th scope=col>OrdenCausa</th><th scope=col>Causa</th></tr>\n",
              "\t<tr><th scope=col>&lt;int&gt;</th><th scope=col>&lt;chr&gt;</th></tr>\n",
              "</thead>\n",
              "<tbody>\n",
              "\t<tr><td> 3</td><td>TOTAL CAUSAS SISTEMA RESPIRATORIO                      </td></tr>\n",
              "\t<tr><td> 4</td><td>IRA Alta (J00-J06)                                     </td></tr>\n",
              "\t<tr><td> 5</td><td>Influenza (J09-J11)                                    </td></tr>\n",
              "\t<tr><td> 6</td><td>Neumonía (J12-J18)                                     </td></tr>\n",
              "\t<tr><td> 7</td><td>Bronquitis/bronquiolitis aguda (J20-J21)               </td></tr>\n",
              "\t<tr><td> 8</td><td>Crisis obstructiva bronquial (J40-J46)                 </td></tr>\n",
              "\t<tr><td> 9</td><td>Otra causa respiratoria (J22, J30-J39, J47, J60-J98)   </td></tr>\n",
              "\t<tr><td>10</td><td>Covid-19, Virus no identificado U07.2                  </td></tr>\n",
              "\t<tr><td>11</td><td>Covid-19, Virus identificado U07.1                     </td></tr>\n",
              "\t<tr><td>32</td><td>HOSPITALIZACIONES POR CAUSAS SISTEMA RESPIRATORIO      </td></tr>\n",
              "\t<tr><td>33</td><td>HOSPITALIZACIONES COVID-19, VIRUS NO IDENTIFICADO U07.2</td></tr>\n",
              "\t<tr><td>34</td><td>HOSPITALIZACIONES COVID-19, VIRUS IDENTIFICADO U07.1   </td></tr>\n",
              "</tbody>\n",
              "</table>\n"
            ],
            "text/markdown": "\nA tibble: 12 × 2\n\n| OrdenCausa &lt;int&gt; | Causa &lt;chr&gt; |\n|---|---|\n|  3 | TOTAL CAUSAS SISTEMA RESPIRATORIO                       |\n|  4 | IRA Alta (J00-J06)                                      |\n|  5 | Influenza (J09-J11)                                     |\n|  6 | Neumonía (J12-J18)                                      |\n|  7 | Bronquitis/bronquiolitis aguda (J20-J21)                |\n|  8 | Crisis obstructiva bronquial (J40-J46)                  |\n|  9 | Otra causa respiratoria (J22, J30-J39, J47, J60-J98)    |\n| 10 | Covid-19, Virus no identificado U07.2                   |\n| 11 | Covid-19, Virus identificado U07.1                      |\n| 32 | HOSPITALIZACIONES POR CAUSAS SISTEMA RESPIRATORIO       |\n| 33 | HOSPITALIZACIONES COVID-19, VIRUS NO IDENTIFICADO U07.2 |\n| 34 | HOSPITALIZACIONES COVID-19, VIRUS IDENTIFICADO U07.1    |\n\n",
            "text/latex": "A tibble: 12 × 2\n\\begin{tabular}{ll}\n OrdenCausa & Causa\\\\\n <int> & <chr>\\\\\n\\hline\n\t  3 & TOTAL CAUSAS SISTEMA RESPIRATORIO                      \\\\\n\t  4 & IRA Alta (J00-J06)                                     \\\\\n\t  5 & Influenza (J09-J11)                                    \\\\\n\t  6 & Neumonía (J12-J18)                                     \\\\\n\t  7 & Bronquitis/bronquiolitis aguda (J20-J21)               \\\\\n\t  8 & Crisis obstructiva bronquial (J40-J46)                 \\\\\n\t  9 & Otra causa respiratoria (J22, J30-J39, J47, J60-J98)   \\\\\n\t 10 & Covid-19, Virus no identificado U07.2                  \\\\\n\t 11 & Covid-19, Virus identificado U07.1                     \\\\\n\t 32 & HOSPITALIZACIONES POR CAUSAS SISTEMA RESPIRATORIO      \\\\\n\t 33 & HOSPITALIZACIONES COVID-19, VIRUS NO IDENTIFICADO U07.2\\\\\n\t 34 & HOSPITALIZACIONES COVID-19, VIRUS IDENTIFICADO U07.1   \\\\\n\\end{tabular}\n",
            "text/plain": [
              "   OrdenCausa Causa                                                  \n",
              "1   3         TOTAL CAUSAS SISTEMA RESPIRATORIO                      \n",
              "2   4         IRA Alta (J00-J06)                                     \n",
              "3   5         Influenza (J09-J11)                                    \n",
              "4   6         Neumonía (J12-J18)                                     \n",
              "5   7         Bronquitis/bronquiolitis aguda (J20-J21)               \n",
              "6   8         Crisis obstructiva bronquial (J40-J46)                 \n",
              "7   9         Otra causa respiratoria (J22, J30-J39, J47, J60-J98)   \n",
              "8  10         Covid-19, Virus no identificado U07.2                  \n",
              "9  11         Covid-19, Virus identificado U07.1                     \n",
              "10 32         HOSPITALIZACIONES POR CAUSAS SISTEMA RESPIRATORIO      \n",
              "11 33         HOSPITALIZACIONES COVID-19, VIRUS NO IDENTIFICADO U07.2\n",
              "12 34         HOSPITALIZACIONES COVID-19, VIRUS IDENTIFICADO U07.1   "
            ]
          },
          "metadata": {}
        }
      ]
    },
    {
      "cell_type": "code",
      "source": [
        "barplot(df_urgr_esp_semanal$NumTotal,df_urgr_esp_semanal$RegionCodigo)"
      ],
      "metadata": {
        "colab": {
          "base_uri": "https://localhost:8080/",
          "height": 159
        },
        "id": "KwBvVWeB1erT",
        "outputId": "49effbf3-094a-4f74-894b-1dc83e95e672"
      },
      "execution_count": null,
      "outputs": [
        {
          "output_type": "stream",
          "name": "stderr",
          "text": [
            "Warning message in mean.default(width):\n",
            "“argument is not numeric or logical: returning NA”\n"
          ]
        },
        {
          "output_type": "error",
          "ename": "ERROR",
          "evalue": "Error in width/2: non-numeric argument to binary operator\n",
          "traceback": [
            "Error in width/2: non-numeric argument to binary operator\nTraceback:\n",
            "1. barplot(df_urgr_esp_semanal$NumTotal, df_urgr_esp_semanal$RegionCodigo)",
            "2. barplot.default(df_urgr_esp_semanal$NumTotal, df_urgr_esp_semanal$RegionCodigo)"
          ]
        }
      ]
    }
  ]
}