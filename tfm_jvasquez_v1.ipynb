{
  "nbformat": 4,
  "nbformat_minor": 0,
  "metadata": {
    "colab": {
      "provenance": [],
      "authorship_tag": "ABX9TyN2VTsc/CTHWCIHHZtID0bi",
      "include_colab_link": true
    },
    "kernelspec": {
      "name": "ir",
      "display_name": "R"
    },
    "language_info": {
      "name": "R"
    }
  },
  "cells": [
    {
      "cell_type": "markdown",
      "metadata": {
        "id": "view-in-github",
        "colab_type": "text"
      },
      "source": [
        "<a href=\"https://colab.research.google.com/github/cazathoth/tfm/blob/main/tfm_jvasquez_v1.ipynb\" target=\"_parent\"><img src=\"https://colab.research.google.com/assets/colab-badge.svg\" alt=\"Open In Colab\"/></a>"
      ]
    },
    {
      "cell_type": "code",
      "execution_count": 1,
      "metadata": {
        "colab": {
          "base_uri": "https://localhost:8080/"
        },
        "collapsed": true,
        "id": "dYQtmnm-tU_g",
        "outputId": "0bdc652a-d97e-4785-ea4c-33c6240bc4b3"
      },
      "outputs": [
        {
          "output_type": "stream",
          "name": "stderr",
          "text": [
            "Installing package into ‘/usr/local/lib/R/site-library’\n",
            "(as ‘lib’ is unspecified)\n",
            "\n",
            "Installing package into ‘/usr/local/lib/R/site-library’\n",
            "(as ‘lib’ is unspecified)\n",
            "\n",
            "also installing the dependency ‘assertthat’\n",
            "\n",
            "\n",
            "Installing package into ‘/usr/local/lib/R/site-library’\n",
            "(as ‘lib’ is unspecified)\n",
            "\n",
            "Installing package into ‘/usr/local/lib/R/site-library’\n",
            "(as ‘lib’ is unspecified)\n",
            "\n",
            "Downloading GitHub repo catboost/catboost@HEAD\n",
            "\n"
          ]
        },
        {
          "output_type": "stream",
          "name": "stdout",
          "text": [
            "\n",
            "\u001b[36m──\u001b[39m \u001b[36mR CMD build\u001b[39m \u001b[36m─────────────────────────────────────────────────────────────────\u001b[39m\n",
            "* checking for file ‘/tmp/Rtmps31PCl/remotes14512b47e4f/catboost-catboost-d0b38fc/catboost/R-package/DESCRIPTION’ ... OK\n",
            "* preparing ‘catboost’:\n",
            "* checking DESCRIPTION meta-information ... OK\n",
            "* cleaning src\n",
            "* checking for LF line-endings in source and make files and shell scripts\n",
            "* checking for empty or unneeded directories\n",
            "* building ‘catboost_1.2.7.tar.gz’\n",
            "\n"
          ]
        },
        {
          "output_type": "stream",
          "name": "stderr",
          "text": [
            "Installing package into ‘/usr/local/lib/R/site-library’\n",
            "(as ‘lib’ is unspecified)\n",
            "\n"
          ]
        }
      ],
      "source": [
        "#descarga librerias.\n",
        "install.packages(\"tidyverse\")\n",
        "install.packages(\"arrow\")\n",
        "install.packages(\"lubridate\")\n",
        "install.packages('devtools')\n",
        "devtools::install_github('catboost/catboost', subdir = 'catboost/R-package')"
      ]
    },
    {
      "cell_type": "code",
      "source": [
        "#cargo librerias a utilizar.\n",
        "library(\"tidyverse\")\n",
        "library(\"arrow\")\n",
        "library(\"lubridate\")\n",
        "library(\"catboost\")"
      ],
      "metadata": {
        "colab": {
          "base_uri": "https://localhost:8080/"
        },
        "collapsed": true,
        "id": "nF9tJ2Z2tcfR",
        "outputId": "f92f9698-5e82-47c3-8039-d89ba7a9a11e"
      },
      "execution_count": 2,
      "outputs": [
        {
          "output_type": "stream",
          "name": "stderr",
          "text": [
            "── \u001b[1mAttaching core tidyverse packages\u001b[22m ──────────────────────── tidyverse 2.0.0 ──\n",
            "\u001b[32m✔\u001b[39m \u001b[34mdplyr    \u001b[39m 1.1.4     \u001b[32m✔\u001b[39m \u001b[34mreadr    \u001b[39m 2.1.5\n",
            "\u001b[32m✔\u001b[39m \u001b[34mforcats  \u001b[39m 1.0.0     \u001b[32m✔\u001b[39m \u001b[34mstringr  \u001b[39m 1.5.1\n",
            "\u001b[32m✔\u001b[39m \u001b[34mggplot2  \u001b[39m 3.5.1     \u001b[32m✔\u001b[39m \u001b[34mtibble   \u001b[39m 3.2.1\n",
            "\u001b[32m✔\u001b[39m \u001b[34mlubridate\u001b[39m 1.9.3     \u001b[32m✔\u001b[39m \u001b[34mtidyr    \u001b[39m 1.3.1\n",
            "\u001b[32m✔\u001b[39m \u001b[34mpurrr    \u001b[39m 1.0.2     \n",
            "── \u001b[1mConflicts\u001b[22m ────────────────────────────────────────── tidyverse_conflicts() ──\n",
            "\u001b[31m✖\u001b[39m \u001b[34mdplyr\u001b[39m::\u001b[32mfilter()\u001b[39m masks \u001b[34mstats\u001b[39m::filter()\n",
            "\u001b[31m✖\u001b[39m \u001b[34mdplyr\u001b[39m::\u001b[32mlag()\u001b[39m    masks \u001b[34mstats\u001b[39m::lag()\n",
            "\u001b[36mℹ\u001b[39m Use the conflicted package (\u001b[3m\u001b[34m<http://conflicted.r-lib.org/>\u001b[39m\u001b[23m) to force all conflicts to become errors\n",
            "\n",
            "Attaching package: ‘arrow’\n",
            "\n",
            "\n",
            "The following object is masked from ‘package:lubridate’:\n",
            "\n",
            "    duration\n",
            "\n",
            "\n",
            "The following object is masked from ‘package:utils’:\n",
            "\n",
            "    timestamp\n",
            "\n",
            "\n"
          ]
        }
      ]
    },
    {
      "cell_type": "code",
      "source": [
        "#creo directorio y descargo dataset con datos de urgencias respiratorias\n",
        "dir.create(\"descargas\")\n",
        "url <- \"https://datos.gob.cl/dataset/606ef5bb-11d1-475b-b69f-b980da5757f4/resource/ae6c9887-106d-4e98-8875-40bf2b836041/download/at_urg_respiratorio_semanal.parquet\"\n",
        "nombre_temporal <- \"descargas/at_urg_respiratorio_semanal.parquet\"\n",
        "download.file(url, nombre_temporal)"
      ],
      "metadata": {
        "id": "dxpqJfpYxZsn"
      },
      "execution_count": 3,
      "outputs": []
    },
    {
      "cell_type": "code",
      "source": [
        "#Descargo datos meteorologicos\n",
        "url <- \"https://raw.githubusercontent.com/cazathoth/data/9ed2ff302d64b81e79eab693e77d12f805ed65ba/MERGE_XXXX_DiarioTs_.csv\"\n",
        "nombre_temporal <- \"descargas/MERGE_XXXX_DiarioTs_.csv\"\n",
        "download.file(url, nombre_temporal)"
      ],
      "metadata": {
        "id": "B5FJdDWXO5fT"
      },
      "execution_count": 4,
      "outputs": []
    },
    {
      "cell_type": "code",
      "source": [
        "#Descargo datos material particulado\n",
        "url <- \"https://raw.githubusercontent.com/cazathoth/data/61824e768ed6fbd9922155bb2b977acac3aada39/Santiago_000101_240916.csv\"\n",
        "nombre_temporal <- \"descargas/Santiago_000101_240916.csv\"\n",
        "download.file(url, nombre_temporal)"
      ],
      "metadata": {
        "id": "QjmvuWWo0aa6"
      },
      "execution_count": 10,
      "outputs": []
    },
    {
      "cell_type": "code",
      "source": [
        "# Creo data frame urgencias y cargo los datos\n",
        "df_urgr_esp_semanal <- read_parquet(\"descargas/at_urg_respiratorio_semanal.parquet\", col_select = c ('EstablecimientoCodigo','RegionCodigo', 'RegionGlosa', 'Anio', 'SemanaEstadistica','OrdenCausa','Causa','NumTotal'))"
      ],
      "metadata": {
        "id": "Qb5IXYxZNZkc"
      },
      "execution_count": 6,
      "outputs": []
    },
    {
      "cell_type": "code",
      "source": [
        "#Cargo data frame temperatura y le cargo datos\n",
        "df_datos_temperatura <- read.csv(\"descargas/MERGE_XXXX_DiarioTs_.csv\", header= TRUE, sep=\";\")"
      ],
      "metadata": {
        "id": "kazvPllqQygW"
      },
      "execution_count": 7,
      "outputs": []
    },
    {
      "cell_type": "code",
      "source": [
        "#Cargo data frame temperatura y le cargo datos\n",
        "df_datos_mp25 <- read.csv(\"descargas/Santiago_000101_240916.csv\", header= TRUE, sep=\";\")"
      ],
      "metadata": {
        "id": "R9-WPc9O08M2"
      },
      "execution_count": 11,
      "outputs": []
    },
    {
      "cell_type": "code",
      "source": [
        "tail(df_datos_mp25,10)"
      ],
      "metadata": {
        "id": "NjLU6UOu19iR",
        "outputId": "62513baf-ed26-48b9-d89f-f616145a7b23",
        "colab": {
          "base_uri": "https://localhost:8080/",
          "height": 412
        }
      },
      "execution_count": 15,
      "outputs": [
        {
          "output_type": "display_data",
          "data": {
            "text/html": [
              "<table class=\"dataframe\">\n",
              "<caption>A data.frame: 10 × 6</caption>\n",
              "<thead>\n",
              "\t<tr><th></th><th scope=col>FECHA..YYMMDD.</th><th scope=col>HORA..HHMM.</th><th scope=col>Registros.validados</th><th scope=col>Registros.preliminares</th><th scope=col>Registros.no.validados</th><th scope=col>X</th></tr>\n",
              "\t<tr><th></th><th scope=col>&lt;int&gt;</th><th scope=col>&lt;int&gt;</th><th scope=col>&lt;chr&gt;</th><th scope=col>&lt;chr&gt;</th><th scope=col>&lt;chr&gt;</th><th scope=col>&lt;lgl&gt;</th></tr>\n",
              "</thead>\n",
              "<tbody>\n",
              "\t<tr><th scope=row>9016</th><td>240906</td><td>0</td><td></td><td>19</td><td></td><td>NA</td></tr>\n",
              "\t<tr><th scope=row>9017</th><td>240907</td><td>0</td><td></td><td>16</td><td></td><td>NA</td></tr>\n",
              "\t<tr><th scope=row>9018</th><td>240908</td><td>0</td><td></td><td>24</td><td></td><td>NA</td></tr>\n",
              "\t<tr><th scope=row>9019</th><td>240909</td><td>0</td><td></td><td>23</td><td></td><td>NA</td></tr>\n",
              "\t<tr><th scope=row>9020</th><td>240910</td><td>0</td><td></td><td>12</td><td></td><td>NA</td></tr>\n",
              "\t<tr><th scope=row>9021</th><td>240911</td><td>0</td><td></td><td>13</td><td></td><td>NA</td></tr>\n",
              "\t<tr><th scope=row>9022</th><td>240912</td><td>0</td><td></td><td>17</td><td></td><td>NA</td></tr>\n",
              "\t<tr><th scope=row>9023</th><td>240913</td><td>0</td><td></td><td>16</td><td></td><td>NA</td></tr>\n",
              "\t<tr><th scope=row>9024</th><td>240914</td><td>0</td><td></td><td>26</td><td></td><td>NA</td></tr>\n",
              "\t<tr><th scope=row>9025</th><td>240915</td><td>0</td><td></td><td>19</td><td></td><td>NA</td></tr>\n",
              "</tbody>\n",
              "</table>\n"
            ],
            "text/markdown": "\nA data.frame: 10 × 6\n\n| <!--/--> | FECHA..YYMMDD. &lt;int&gt; | HORA..HHMM. &lt;int&gt; | Registros.validados &lt;chr&gt; | Registros.preliminares &lt;chr&gt; | Registros.no.validados &lt;chr&gt; | X &lt;lgl&gt; |\n|---|---|---|---|---|---|---|\n| 9016 | 240906 | 0 | <!----> | 19 | <!----> | NA |\n| 9017 | 240907 | 0 | <!----> | 16 | <!----> | NA |\n| 9018 | 240908 | 0 | <!----> | 24 | <!----> | NA |\n| 9019 | 240909 | 0 | <!----> | 23 | <!----> | NA |\n| 9020 | 240910 | 0 | <!----> | 12 | <!----> | NA |\n| 9021 | 240911 | 0 | <!----> | 13 | <!----> | NA |\n| 9022 | 240912 | 0 | <!----> | 17 | <!----> | NA |\n| 9023 | 240913 | 0 | <!----> | 16 | <!----> | NA |\n| 9024 | 240914 | 0 | <!----> | 26 | <!----> | NA |\n| 9025 | 240915 | 0 | <!----> | 19 | <!----> | NA |\n\n",
            "text/latex": "A data.frame: 10 × 6\n\\begin{tabular}{r|llllll}\n  & FECHA..YYMMDD. & HORA..HHMM. & Registros.validados & Registros.preliminares & Registros.no.validados & X\\\\\n  & <int> & <int> & <chr> & <chr> & <chr> & <lgl>\\\\\n\\hline\n\t9016 & 240906 & 0 &  & 19 &  & NA\\\\\n\t9017 & 240907 & 0 &  & 16 &  & NA\\\\\n\t9018 & 240908 & 0 &  & 24 &  & NA\\\\\n\t9019 & 240909 & 0 &  & 23 &  & NA\\\\\n\t9020 & 240910 & 0 &  & 12 &  & NA\\\\\n\t9021 & 240911 & 0 &  & 13 &  & NA\\\\\n\t9022 & 240912 & 0 &  & 17 &  & NA\\\\\n\t9023 & 240913 & 0 &  & 16 &  & NA\\\\\n\t9024 & 240914 & 0 &  & 26 &  & NA\\\\\n\t9025 & 240915 & 0 &  & 19 &  & NA\\\\\n\\end{tabular}\n",
            "text/plain": [
              "     FECHA..YYMMDD. HORA..HHMM. Registros.validados Registros.preliminares\n",
              "9016 240906         0                               19                    \n",
              "9017 240907         0                               16                    \n",
              "9018 240908         0                               24                    \n",
              "9019 240909         0                               23                    \n",
              "9020 240910         0                               12                    \n",
              "9021 240911         0                               13                    \n",
              "9022 240912         0                               17                    \n",
              "9023 240913         0                               16                    \n",
              "9024 240914         0                               26                    \n",
              "9025 240915         0                               19                    \n",
              "     Registros.no.validados X \n",
              "9016                        NA\n",
              "9017                        NA\n",
              "9018                        NA\n",
              "9019                        NA\n",
              "9020                        NA\n",
              "9021                        NA\n",
              "9022                        NA\n",
              "9023                        NA\n",
              "9024                        NA\n",
              "9025                        NA"
            ]
          },
          "metadata": {}
        }
      ]
    },
    {
      "cell_type": "code",
      "source": [
        "#formateo fechas en temperaturas e imprimo algunos datos para chequeo\n",
        "df_datos_temperatura$momento<- format(as.POSIXct(df_datos_temperatura$momento, format = \"%d-%m-%Y %H:%M:%S\"), format = \"%d-%m-%Y\")\n",
        "count(df_urgr_esp_semanal)\n",
        "count(df_datos_temperatura)\n",
        "head(df_urgr_esp_semanal,3)\n",
        "head(df_datos_temperatura,10)\n"
      ],
      "metadata": {
        "colab": {
          "base_uri": "https://localhost:8080/",
          "height": 864
        },
        "id": "jbeMlirqidjX",
        "outputId": "cb8f5c89-0a85-43ff-8bb2-2186eebc26ec"
      },
      "execution_count": null,
      "outputs": [
        {
          "output_type": "display_data",
          "data": {
            "text/html": [
              "<table class=\"dataframe\">\n",
              "<caption>A tibble: 1 × 1</caption>\n",
              "<thead>\n",
              "\t<tr><th scope=col>n</th></tr>\n",
              "\t<tr><th scope=col>&lt;int&gt;</th></tr>\n",
              "</thead>\n",
              "<tbody>\n",
              "\t<tr><td>2841087</td></tr>\n",
              "</tbody>\n",
              "</table>\n"
            ],
            "text/markdown": "\nA tibble: 1 × 1\n\n| n &lt;int&gt; |\n|---|\n| 2841087 |\n\n",
            "text/latex": "A tibble: 1 × 1\n\\begin{tabular}{l}\n n\\\\\n <int>\\\\\n\\hline\n\t 2841087\\\\\n\\end{tabular}\n",
            "text/plain": [
              "  n      \n",
              "1 2841087"
            ]
          },
          "metadata": {}
        },
        {
          "output_type": "display_data",
          "data": {
            "text/html": [
              "<table class=\"dataframe\">\n",
              "<caption>A data.frame: 1 × 1</caption>\n",
              "<thead>\n",
              "\t<tr><th scope=col>n</th></tr>\n",
              "\t<tr><th scope=col>&lt;int&gt;</th></tr>\n",
              "</thead>\n",
              "<tbody>\n",
              "\t<tr><td>74539</td></tr>\n",
              "</tbody>\n",
              "</table>\n"
            ],
            "text/markdown": "\nA data.frame: 1 × 1\n\n| n &lt;int&gt; |\n|---|\n| 74539 |\n\n",
            "text/latex": "A data.frame: 1 × 1\n\\begin{tabular}{l}\n n\\\\\n <int>\\\\\n\\hline\n\t 74539\\\\\n\\end{tabular}\n",
            "text/plain": [
              "  n    \n",
              "1 74539"
            ]
          },
          "metadata": {}
        },
        {
          "output_type": "display_data",
          "data": {
            "text/html": [
              "<table class=\"dataframe\">\n",
              "<caption>A tibble: 3 × 8</caption>\n",
              "<thead>\n",
              "\t<tr><th scope=col>EstablecimientoCodigo</th><th scope=col>RegionCodigo</th><th scope=col>RegionGlosa</th><th scope=col>Anio</th><th scope=col>SemanaEstadistica</th><th scope=col>OrdenCausa</th><th scope=col>Causa</th><th scope=col>NumTotal</th></tr>\n",
              "\t<tr><th scope=col>&lt;chr&gt;</th><th scope=col>&lt;chr&gt;</th><th scope=col>&lt;chr&gt;</th><th scope=col>&lt;int&gt;</th><th scope=col>&lt;int&gt;</th><th scope=col>&lt;int&gt;</th><th scope=col>&lt;chr&gt;</th><th scope=col>&lt;int&gt;</th></tr>\n",
              "</thead>\n",
              "<tbody>\n",
              "\t<tr><td>113820</td><td>13</td><td>Región Metropolitana de Santiago</td><td>2020</td><td>11</td><td>5</td><td>Influenza (J09-J11)</td><td>0</td></tr>\n",
              "\t<tr><td>200932</td><td>13</td><td>Región Metropolitana de Santiago</td><td>2020</td><td>19</td><td>6</td><td>Neumonía (J12-J18) </td><td>1</td></tr>\n",
              "\t<tr><td>201002</td><td>5 </td><td>Región De Valparaíso            </td><td>2021</td><td>45</td><td>6</td><td>Neumonía (J12-J18) </td><td>0</td></tr>\n",
              "</tbody>\n",
              "</table>\n"
            ],
            "text/markdown": "\nA tibble: 3 × 8\n\n| EstablecimientoCodigo &lt;chr&gt; | RegionCodigo &lt;chr&gt; | RegionGlosa &lt;chr&gt; | Anio &lt;int&gt; | SemanaEstadistica &lt;int&gt; | OrdenCausa &lt;int&gt; | Causa &lt;chr&gt; | NumTotal &lt;int&gt; |\n|---|---|---|---|---|---|---|---|\n| 113820 | 13 | Región Metropolitana de Santiago | 2020 | 11 | 5 | Influenza (J09-J11) | 0 |\n| 200932 | 13 | Región Metropolitana de Santiago | 2020 | 19 | 6 | Neumonía (J12-J18)  | 1 |\n| 201002 | 5  | Región De Valparaíso             | 2021 | 45 | 6 | Neumonía (J12-J18)  | 0 |\n\n",
            "text/latex": "A tibble: 3 × 8\n\\begin{tabular}{llllllll}\n EstablecimientoCodigo & RegionCodigo & RegionGlosa & Anio & SemanaEstadistica & OrdenCausa & Causa & NumTotal\\\\\n <chr> & <chr> & <chr> & <int> & <int> & <int> & <chr> & <int>\\\\\n\\hline\n\t 113820 & 13 & Región Metropolitana de Santiago & 2020 & 11 & 5 & Influenza (J09-J11) & 0\\\\\n\t 200932 & 13 & Región Metropolitana de Santiago & 2020 & 19 & 6 & Neumonía (J12-J18)  & 1\\\\\n\t 201002 & 5  & Región De Valparaíso             & 2021 & 45 & 6 & Neumonía (J12-J18)  & 0\\\\\n\\end{tabular}\n",
            "text/plain": [
              "  EstablecimientoCodigo RegionCodigo RegionGlosa                      Anio\n",
              "1 113820                13           Región Metropolitana de Santiago 2020\n",
              "2 200932                13           Región Metropolitana de Santiago 2020\n",
              "3 201002                5            Región De Valparaíso             2021\n",
              "  SemanaEstadistica OrdenCausa Causa               NumTotal\n",
              "1 11                5          Influenza (J09-J11) 0       \n",
              "2 19                6          Neumonía (J12-J18)  1       \n",
              "3 45                6          Neumonía (J12-J18)  0       "
            ]
          },
          "metadata": {}
        },
        {
          "output_type": "display_data",
          "data": {
            "text/html": [
              "<table class=\"dataframe\">\n",
              "<caption>A data.frame: 10 × 12</caption>\n",
              "<thead>\n",
              "\t<tr><th></th><th scope=col>CodigoNacional</th><th scope=col>momento</th><th scope=col>MediaCli_Valor</th><th scope=col>MediaAri_Valor</th><th scope=col>NumDatos_Valor</th><th scope=col>Ts00_Valor</th><th scope=col>Ts12_Valor</th><th scope=col>Maxima_Valor</th><th scope=col>FechaMax_Valor</th><th scope=col>Minima_Valor</th><th scope=col>FechaMin_Valor</th><th scope=col>FechaPro_Valor</th></tr>\n",
              "\t<tr><th></th><th scope=col>&lt;int&gt;</th><th scope=col>&lt;chr&gt;</th><th scope=col>&lt;dbl&gt;</th><th scope=col>&lt;dbl&gt;</th><th scope=col>&lt;dbl&gt;</th><th scope=col>&lt;dbl&gt;</th><th scope=col>&lt;dbl&gt;</th><th scope=col>&lt;dbl&gt;</th><th scope=col>&lt;dbl&gt;</th><th scope=col>&lt;dbl&gt;</th><th scope=col>&lt;dbl&gt;</th><th scope=col>&lt;lgl&gt;</th></tr>\n",
              "</thead>\n",
              "<tbody>\n",
              "\t<tr><th scope=row>1</th><td>290004</td><td>01-01-1954</td><td>16.5</td><td>18.1</td><td>14</td><td>NA</td><td>17.0</td><td>20.6</td><td>NA</td><td>12.3</td><td>NA</td><td>NA</td></tr>\n",
              "\t<tr><th scope=row>2</th><td>290004</td><td>02-01-1954</td><td>17.1</td><td>17.5</td><td>14</td><td>NA</td><td>15.5</td><td>20.4</td><td>NA</td><td>13.9</td><td>NA</td><td>NA</td></tr>\n",
              "\t<tr><th scope=row>3</th><td>290004</td><td>03-01-1954</td><td>15.1</td><td>17.4</td><td>14</td><td>NA</td><td>15.4</td><td>20.0</td><td>NA</td><td>10.2</td><td>NA</td><td>NA</td></tr>\n",
              "\t<tr><th scope=row>4</th><td>290004</td><td>04-01-1954</td><td>16.9</td><td>17.5</td><td>14</td><td>NA</td><td>15.0</td><td>20.8</td><td>NA</td><td>13.0</td><td>NA</td><td>NA</td></tr>\n",
              "\t<tr><th scope=row>5</th><td>290004</td><td>05-01-1954</td><td>17.7</td><td>17.8</td><td>14</td><td>NA</td><td>16.1</td><td>20.4</td><td>NA</td><td>15.0</td><td>NA</td><td>NA</td></tr>\n",
              "\t<tr><th scope=row>6</th><td>290004</td><td>06-01-1954</td><td>15.2</td><td>17.4</td><td>14</td><td>NA</td><td>13.8</td><td>20.2</td><td>NA</td><td>10.2</td><td>NA</td><td>NA</td></tr>\n",
              "\t<tr><th scope=row>7</th><td>290004</td><td>07-01-1954</td><td>15.9</td><td>17.0</td><td>14</td><td>NA</td><td>15.0</td><td>19.7</td><td>NA</td><td>12.0</td><td>NA</td><td>NA</td></tr>\n",
              "\t<tr><th scope=row>8</th><td>290004</td><td>08-01-1954</td><td>15.7</td><td>16.7</td><td>14</td><td>NA</td><td>14.4</td><td>20.4</td><td>NA</td><td>11.0</td><td>NA</td><td>NA</td></tr>\n",
              "\t<tr><th scope=row>9</th><td>290004</td><td>09-01-1954</td><td>15.9</td><td>16.9</td><td>14</td><td>NA</td><td>14.8</td><td>19.5</td><td>NA</td><td>12.4</td><td>NA</td><td>NA</td></tr>\n",
              "\t<tr><th scope=row>10</th><td>290004</td><td>10-01-1954</td><td>15.9</td><td>16.2</td><td>14</td><td>NA</td><td>15.0</td><td>19.0</td><td>NA</td><td>12.8</td><td>NA</td><td>NA</td></tr>\n",
              "</tbody>\n",
              "</table>\n"
            ],
            "text/markdown": "\nA data.frame: 10 × 12\n\n| <!--/--> | CodigoNacional &lt;int&gt; | momento &lt;chr&gt; | MediaCli_Valor &lt;dbl&gt; | MediaAri_Valor &lt;dbl&gt; | NumDatos_Valor &lt;dbl&gt; | Ts00_Valor &lt;dbl&gt; | Ts12_Valor &lt;dbl&gt; | Maxima_Valor &lt;dbl&gt; | FechaMax_Valor &lt;dbl&gt; | Minima_Valor &lt;dbl&gt; | FechaMin_Valor &lt;dbl&gt; | FechaPro_Valor &lt;lgl&gt; |\n|---|---|---|---|---|---|---|---|---|---|---|---|---|\n| 1 | 290004 | 01-01-1954 | 16.5 | 18.1 | 14 | NA | 17.0 | 20.6 | NA | 12.3 | NA | NA |\n| 2 | 290004 | 02-01-1954 | 17.1 | 17.5 | 14 | NA | 15.5 | 20.4 | NA | 13.9 | NA | NA |\n| 3 | 290004 | 03-01-1954 | 15.1 | 17.4 | 14 | NA | 15.4 | 20.0 | NA | 10.2 | NA | NA |\n| 4 | 290004 | 04-01-1954 | 16.9 | 17.5 | 14 | NA | 15.0 | 20.8 | NA | 13.0 | NA | NA |\n| 5 | 290004 | 05-01-1954 | 17.7 | 17.8 | 14 | NA | 16.1 | 20.4 | NA | 15.0 | NA | NA |\n| 6 | 290004 | 06-01-1954 | 15.2 | 17.4 | 14 | NA | 13.8 | 20.2 | NA | 10.2 | NA | NA |\n| 7 | 290004 | 07-01-1954 | 15.9 | 17.0 | 14 | NA | 15.0 | 19.7 | NA | 12.0 | NA | NA |\n| 8 | 290004 | 08-01-1954 | 15.7 | 16.7 | 14 | NA | 14.4 | 20.4 | NA | 11.0 | NA | NA |\n| 9 | 290004 | 09-01-1954 | 15.9 | 16.9 | 14 | NA | 14.8 | 19.5 | NA | 12.4 | NA | NA |\n| 10 | 290004 | 10-01-1954 | 15.9 | 16.2 | 14 | NA | 15.0 | 19.0 | NA | 12.8 | NA | NA |\n\n",
            "text/latex": "A data.frame: 10 × 12\n\\begin{tabular}{r|llllllllllll}\n  & CodigoNacional & momento & MediaCli\\_Valor & MediaAri\\_Valor & NumDatos\\_Valor & Ts00\\_Valor & Ts12\\_Valor & Maxima\\_Valor & FechaMax\\_Valor & Minima\\_Valor & FechaMin\\_Valor & FechaPro\\_Valor\\\\\n  & <int> & <chr> & <dbl> & <dbl> & <dbl> & <dbl> & <dbl> & <dbl> & <dbl> & <dbl> & <dbl> & <lgl>\\\\\n\\hline\n\t1 & 290004 & 01-01-1954 & 16.5 & 18.1 & 14 & NA & 17.0 & 20.6 & NA & 12.3 & NA & NA\\\\\n\t2 & 290004 & 02-01-1954 & 17.1 & 17.5 & 14 & NA & 15.5 & 20.4 & NA & 13.9 & NA & NA\\\\\n\t3 & 290004 & 03-01-1954 & 15.1 & 17.4 & 14 & NA & 15.4 & 20.0 & NA & 10.2 & NA & NA\\\\\n\t4 & 290004 & 04-01-1954 & 16.9 & 17.5 & 14 & NA & 15.0 & 20.8 & NA & 13.0 & NA & NA\\\\\n\t5 & 290004 & 05-01-1954 & 17.7 & 17.8 & 14 & NA & 16.1 & 20.4 & NA & 15.0 & NA & NA\\\\\n\t6 & 290004 & 06-01-1954 & 15.2 & 17.4 & 14 & NA & 13.8 & 20.2 & NA & 10.2 & NA & NA\\\\\n\t7 & 290004 & 07-01-1954 & 15.9 & 17.0 & 14 & NA & 15.0 & 19.7 & NA & 12.0 & NA & NA\\\\\n\t8 & 290004 & 08-01-1954 & 15.7 & 16.7 & 14 & NA & 14.4 & 20.4 & NA & 11.0 & NA & NA\\\\\n\t9 & 290004 & 09-01-1954 & 15.9 & 16.9 & 14 & NA & 14.8 & 19.5 & NA & 12.4 & NA & NA\\\\\n\t10 & 290004 & 10-01-1954 & 15.9 & 16.2 & 14 & NA & 15.0 & 19.0 & NA & 12.8 & NA & NA\\\\\n\\end{tabular}\n",
            "text/plain": [
              "   CodigoNacional momento    MediaCli_Valor MediaAri_Valor NumDatos_Valor\n",
              "1  290004         01-01-1954 16.5           18.1           14            \n",
              "2  290004         02-01-1954 17.1           17.5           14            \n",
              "3  290004         03-01-1954 15.1           17.4           14            \n",
              "4  290004         04-01-1954 16.9           17.5           14            \n",
              "5  290004         05-01-1954 17.7           17.8           14            \n",
              "6  290004         06-01-1954 15.2           17.4           14            \n",
              "7  290004         07-01-1954 15.9           17.0           14            \n",
              "8  290004         08-01-1954 15.7           16.7           14            \n",
              "9  290004         09-01-1954 15.9           16.9           14            \n",
              "10 290004         10-01-1954 15.9           16.2           14            \n",
              "   Ts00_Valor Ts12_Valor Maxima_Valor FechaMax_Valor Minima_Valor\n",
              "1  NA         17.0       20.6         NA             12.3        \n",
              "2  NA         15.5       20.4         NA             13.9        \n",
              "3  NA         15.4       20.0         NA             10.2        \n",
              "4  NA         15.0       20.8         NA             13.0        \n",
              "5  NA         16.1       20.4         NA             15.0        \n",
              "6  NA         13.8       20.2         NA             10.2        \n",
              "7  NA         15.0       19.7         NA             12.0        \n",
              "8  NA         14.4       20.4         NA             11.0        \n",
              "9  NA         14.8       19.5         NA             12.4        \n",
              "10 NA         15.0       19.0         NA             12.8        \n",
              "   FechaMin_Valor FechaPro_Valor\n",
              "1  NA             NA            \n",
              "2  NA             NA            \n",
              "3  NA             NA            \n",
              "4  NA             NA            \n",
              "5  NA             NA            \n",
              "6  NA             NA            \n",
              "7  NA             NA            \n",
              "8  NA             NA            \n",
              "9  NA             NA            \n",
              "10 NA             NA            "
            ]
          },
          "metadata": {}
        }
      ]
    },
    {
      "cell_type": "code",
      "source": [
        "#obtengo n° de semana de las fechas de mediciones (momento) y agrego columna al data frame\n",
        "semana<-week(dmy(df_datos_temperatura$momento))\n",
        "ano <- year(dmy(df_datos_temperatura$momento))\n",
        "df_datos_temperatura <- cbind(df_datos_temperatura, NuSemana = semana)\n",
        "df_datos_temperatura <- cbind(df_datos_temperatura, Anio = ano)\n"
      ],
      "metadata": {
        "id": "04c0mj5ylC5C"
      },
      "execution_count": null,
      "outputs": []
    },
    {
      "cell_type": "code",
      "source": [
        "# Obtengo la media y mediana, de la temperatura para cada semana en cada año.\n",
        "df_datos_temperatura_semanal <- df_datos_temperatura %>% group_by (CodigoNacional,Anio, NuSemana) %>% summarise(media = mean(MediaAri_Valor,na.rm = TRUE), mediana = median(MediaAri_Valor, na.rm = TRUE))\n",
        "head(df_datos_temperatura_semanal,5)\n",
        "\n"
      ],
      "metadata": {
        "id": "lNzHoXEeVd4E",
        "outputId": "92ac5442-b0fc-4c75-a455-c2e7a43dca17",
        "colab": {
          "base_uri": "https://localhost:8080/",
          "height": 290
        }
      },
      "execution_count": null,
      "outputs": [
        {
          "output_type": "stream",
          "name": "stderr",
          "text": [
            "\u001b[1m\u001b[22m`summarise()` has grouped output by 'CodigoNacional', 'Anio'. You can override\n",
            "using the `.groups` argument.\n"
          ]
        },
        {
          "output_type": "display_data",
          "data": {
            "text/html": [
              "<table class=\"dataframe\">\n",
              "<caption>A grouped_df: 5 × 5</caption>\n",
              "<thead>\n",
              "\t<tr><th scope=col>CodigoNacional</th><th scope=col>Anio</th><th scope=col>NuSemana</th><th scope=col>media</th><th scope=col>mediana</th></tr>\n",
              "\t<tr><th scope=col>&lt;int&gt;</th><th scope=col>&lt;dbl&gt;</th><th scope=col>&lt;dbl&gt;</th><th scope=col>&lt;dbl&gt;</th><th scope=col>&lt;dbl&gt;</th></tr>\n",
              "</thead>\n",
              "<tbody>\n",
              "\t<tr><td>290004</td><td>1954</td><td>1</td><td>17.52857</td><td>17.5</td></tr>\n",
              "\t<tr><td>290004</td><td>1954</td><td>2</td><td>16.54286</td><td>16.6</td></tr>\n",
              "\t<tr><td>290004</td><td>1954</td><td>3</td><td>16.98571</td><td>16.8</td></tr>\n",
              "\t<tr><td>290004</td><td>1954</td><td>4</td><td>17.67143</td><td>17.5</td></tr>\n",
              "\t<tr><td>290004</td><td>1954</td><td>5</td><td>17.90000</td><td>17.9</td></tr>\n",
              "</tbody>\n",
              "</table>\n"
            ],
            "text/markdown": "\nA grouped_df: 5 × 5\n\n| CodigoNacional &lt;int&gt; | Anio &lt;dbl&gt; | NuSemana &lt;dbl&gt; | media &lt;dbl&gt; | mediana &lt;dbl&gt; |\n|---|---|---|---|---|\n| 290004 | 1954 | 1 | 17.52857 | 17.5 |\n| 290004 | 1954 | 2 | 16.54286 | 16.6 |\n| 290004 | 1954 | 3 | 16.98571 | 16.8 |\n| 290004 | 1954 | 4 | 17.67143 | 17.5 |\n| 290004 | 1954 | 5 | 17.90000 | 17.9 |\n\n",
            "text/latex": "A grouped\\_df: 5 × 5\n\\begin{tabular}{lllll}\n CodigoNacional & Anio & NuSemana & media & mediana\\\\\n <int> & <dbl> & <dbl> & <dbl> & <dbl>\\\\\n\\hline\n\t 290004 & 1954 & 1 & 17.52857 & 17.5\\\\\n\t 290004 & 1954 & 2 & 16.54286 & 16.6\\\\\n\t 290004 & 1954 & 3 & 16.98571 & 16.8\\\\\n\t 290004 & 1954 & 4 & 17.67143 & 17.5\\\\\n\t 290004 & 1954 & 5 & 17.90000 & 17.9\\\\\n\\end{tabular}\n",
            "text/plain": [
              "  CodigoNacional Anio NuSemana media    mediana\n",
              "1 290004         1954 1        17.52857 17.5   \n",
              "2 290004         1954 2        16.54286 16.6   \n",
              "3 290004         1954 3        16.98571 16.8   \n",
              "4 290004         1954 4        17.67143 17.5   \n",
              "5 290004         1954 5        17.90000 17.9   "
            ]
          },
          "metadata": {}
        }
      ]
    },
    {
      "cell_type": "code",
      "source": [
        "#Convierto agrupación con media y mediana a data frame\n",
        "df_datos_temperatura_semanal <- as.data.frame (df_datos_temperatura_semanal)"
      ],
      "metadata": {
        "id": "14FQUrFLfdhn"
      },
      "execution_count": null,
      "outputs": []
    },
    {
      "cell_type": "code",
      "source": [
        "#Limpio los registros con NA\n",
        "sum(is.na(df_urgr_esp_semanal))\n",
        "sum(!complete.cases(df_urgr_esp_semanal))\n",
        "sum(is.na(df_datos_temperatura_semanal))\n",
        "sum(!complete.cases(df_datos_temperatura_semanal))"
      ],
      "metadata": {
        "colab": {
          "base_uri": "https://localhost:8080/",
          "height": 86
        },
        "id": "e9mhqROOq-mg",
        "outputId": "89ec84f1-6638-4385-9c0e-fa0458c462c4"
      },
      "execution_count": null,
      "outputs": [
        {
          "output_type": "display_data",
          "data": {
            "text/html": [
              "7488"
            ],
            "text/markdown": "7488",
            "text/latex": "7488",
            "text/plain": [
              "[1] 7488"
            ]
          },
          "metadata": {}
        },
        {
          "output_type": "display_data",
          "data": {
            "text/html": [
              "2496"
            ],
            "text/markdown": "2496",
            "text/latex": "2496",
            "text/plain": [
              "[1] 2496"
            ]
          },
          "metadata": {}
        },
        {
          "output_type": "display_data",
          "data": {
            "text/html": [
              "6"
            ],
            "text/markdown": "6",
            "text/latex": "6",
            "text/plain": [
              "[1] 6"
            ]
          },
          "metadata": {}
        },
        {
          "output_type": "display_data",
          "data": {
            "text/html": [
              "3"
            ],
            "text/markdown": "3",
            "text/latex": "3",
            "text/plain": [
              "[1] 3"
            ]
          },
          "metadata": {}
        }
      ]
    },
    {
      "cell_type": "code",
      "source": [
        "df_urgr_esp_semanal <- na.omit(df_urgr_esp_semanal)\n",
        "df_datos_temperatura_semanal <- na.omit(df_datos_temperatura_semanal)\n",
        "sum(is.na(df_urgr_esp_semanal))\n",
        "sum(!complete.cases(df_urgr_esp_semanal))\n",
        "sum(is.na(df_datos_temperatura_semanal))\n",
        "sum(!complete.cases(df_datos_temperatura_semanal))\n",
        "count(df_urgr_esp_semanal)\n",
        "count(df_datos_temperatura_semanal)\n"
      ],
      "metadata": {
        "id": "pcW3C57Zrvj_",
        "outputId": "ec218336-f1b2-404f-ce7d-e14237617a5e",
        "colab": {
          "base_uri": "https://localhost:8080/",
          "height": 363
        }
      },
      "execution_count": null,
      "outputs": [
        {
          "output_type": "display_data",
          "data": {
            "text/html": [
              "0"
            ],
            "text/markdown": "0",
            "text/latex": "0",
            "text/plain": [
              "[1] 0"
            ]
          },
          "metadata": {}
        },
        {
          "output_type": "display_data",
          "data": {
            "text/html": [
              "0"
            ],
            "text/markdown": "0",
            "text/latex": "0",
            "text/plain": [
              "[1] 0"
            ]
          },
          "metadata": {}
        },
        {
          "output_type": "display_data",
          "data": {
            "text/html": [
              "0"
            ],
            "text/markdown": "0",
            "text/latex": "0",
            "text/plain": [
              "[1] 0"
            ]
          },
          "metadata": {}
        },
        {
          "output_type": "display_data",
          "data": {
            "text/html": [
              "0"
            ],
            "text/markdown": "0",
            "text/latex": "0",
            "text/plain": [
              "[1] 0"
            ]
          },
          "metadata": {}
        },
        {
          "output_type": "display_data",
          "data": {
            "text/html": [
              "<table class=\"dataframe\">\n",
              "<caption>A tibble: 1 × 1</caption>\n",
              "<thead>\n",
              "\t<tr><th scope=col>n</th></tr>\n",
              "\t<tr><th scope=col>&lt;int&gt;</th></tr>\n",
              "</thead>\n",
              "<tbody>\n",
              "\t<tr><td>2838591</td></tr>\n",
              "</tbody>\n",
              "</table>\n"
            ],
            "text/markdown": "\nA tibble: 1 × 1\n\n| n &lt;int&gt; |\n|---|\n| 2838591 |\n\n",
            "text/latex": "A tibble: 1 × 1\n\\begin{tabular}{l}\n n\\\\\n <int>\\\\\n\\hline\n\t 2838591\\\\\n\\end{tabular}\n",
            "text/plain": [
              "  n      \n",
              "1 2838591"
            ]
          },
          "metadata": {}
        },
        {
          "output_type": "display_data",
          "data": {
            "text/html": [
              "<table class=\"dataframe\">\n",
              "<caption>A data.frame: 1 × 1</caption>\n",
              "<thead>\n",
              "\t<tr><th scope=col>n</th></tr>\n",
              "\t<tr><th scope=col>&lt;int&gt;</th></tr>\n",
              "</thead>\n",
              "<tbody>\n",
              "\t<tr><td>10813</td></tr>\n",
              "</tbody>\n",
              "</table>\n"
            ],
            "text/markdown": "\nA data.frame: 1 × 1\n\n| n &lt;int&gt; |\n|---|\n| 10813 |\n\n",
            "text/latex": "A data.frame: 1 × 1\n\\begin{tabular}{l}\n n\\\\\n <int>\\\\\n\\hline\n\t 10813\\\\\n\\end{tabular}\n",
            "text/plain": [
              "  n    \n",
              "1 10813"
            ]
          },
          "metadata": {}
        }
      ]
    },
    {
      "cell_type": "code",
      "source": [
        "#Aqui estan todas las causas consideradas. La #3 es un total.\n",
        "df_urgr_esp_semanal %>% select(OrdenCausa, Causa)%>%distinct()%>%arrange(OrdenCausa)"
      ],
      "metadata": {
        "id": "oREv1_6pveC6",
        "outputId": "73a871fa-1613-415e-8125-12e3d4ddb9a5",
        "colab": {
          "base_uri": "https://localhost:8080/",
          "height": 474
        }
      },
      "execution_count": null,
      "outputs": [
        {
          "output_type": "display_data",
          "data": {
            "text/html": [
              "<table class=\"dataframe\">\n",
              "<caption>A tibble: 12 × 2</caption>\n",
              "<thead>\n",
              "\t<tr><th scope=col>OrdenCausa</th><th scope=col>Causa</th></tr>\n",
              "\t<tr><th scope=col>&lt;int&gt;</th><th scope=col>&lt;chr&gt;</th></tr>\n",
              "</thead>\n",
              "<tbody>\n",
              "\t<tr><td> 3</td><td>TOTAL CAUSAS SISTEMA RESPIRATORIO                      </td></tr>\n",
              "\t<tr><td> 4</td><td>IRA Alta (J00-J06)                                     </td></tr>\n",
              "\t<tr><td> 5</td><td>Influenza (J09-J11)                                    </td></tr>\n",
              "\t<tr><td> 6</td><td>Neumonía (J12-J18)                                     </td></tr>\n",
              "\t<tr><td> 7</td><td>Bronquitis/bronquiolitis aguda (J20-J21)               </td></tr>\n",
              "\t<tr><td> 8</td><td>Crisis obstructiva bronquial (J40-J46)                 </td></tr>\n",
              "\t<tr><td> 9</td><td>Otra causa respiratoria (J22, J30-J39, J47, J60-J98)   </td></tr>\n",
              "\t<tr><td>10</td><td>Covid-19, Virus no identificado U07.2                  </td></tr>\n",
              "\t<tr><td>11</td><td>Covid-19, Virus identificado U07.1                     </td></tr>\n",
              "\t<tr><td>32</td><td>HOSPITALIZACIONES POR CAUSAS SISTEMA RESPIRATORIO      </td></tr>\n",
              "\t<tr><td>33</td><td>HOSPITALIZACIONES COVID-19, VIRUS NO IDENTIFICADO U07.2</td></tr>\n",
              "\t<tr><td>34</td><td>HOSPITALIZACIONES COVID-19, VIRUS IDENTIFICADO U07.1   </td></tr>\n",
              "</tbody>\n",
              "</table>\n"
            ],
            "text/markdown": "\nA tibble: 12 × 2\n\n| OrdenCausa &lt;int&gt; | Causa &lt;chr&gt; |\n|---|---|\n|  3 | TOTAL CAUSAS SISTEMA RESPIRATORIO                       |\n|  4 | IRA Alta (J00-J06)                                      |\n|  5 | Influenza (J09-J11)                                     |\n|  6 | Neumonía (J12-J18)                                      |\n|  7 | Bronquitis/bronquiolitis aguda (J20-J21)                |\n|  8 | Crisis obstructiva bronquial (J40-J46)                  |\n|  9 | Otra causa respiratoria (J22, J30-J39, J47, J60-J98)    |\n| 10 | Covid-19, Virus no identificado U07.2                   |\n| 11 | Covid-19, Virus identificado U07.1                      |\n| 32 | HOSPITALIZACIONES POR CAUSAS SISTEMA RESPIRATORIO       |\n| 33 | HOSPITALIZACIONES COVID-19, VIRUS NO IDENTIFICADO U07.2 |\n| 34 | HOSPITALIZACIONES COVID-19, VIRUS IDENTIFICADO U07.1    |\n\n",
            "text/latex": "A tibble: 12 × 2\n\\begin{tabular}{ll}\n OrdenCausa & Causa\\\\\n <int> & <chr>\\\\\n\\hline\n\t  3 & TOTAL CAUSAS SISTEMA RESPIRATORIO                      \\\\\n\t  4 & IRA Alta (J00-J06)                                     \\\\\n\t  5 & Influenza (J09-J11)                                    \\\\\n\t  6 & Neumonía (J12-J18)                                     \\\\\n\t  7 & Bronquitis/bronquiolitis aguda (J20-J21)               \\\\\n\t  8 & Crisis obstructiva bronquial (J40-J46)                 \\\\\n\t  9 & Otra causa respiratoria (J22, J30-J39, J47, J60-J98)   \\\\\n\t 10 & Covid-19, Virus no identificado U07.2                  \\\\\n\t 11 & Covid-19, Virus identificado U07.1                     \\\\\n\t 32 & HOSPITALIZACIONES POR CAUSAS SISTEMA RESPIRATORIO      \\\\\n\t 33 & HOSPITALIZACIONES COVID-19, VIRUS NO IDENTIFICADO U07.2\\\\\n\t 34 & HOSPITALIZACIONES COVID-19, VIRUS IDENTIFICADO U07.1   \\\\\n\\end{tabular}\n",
            "text/plain": [
              "   OrdenCausa Causa                                                  \n",
              "1   3         TOTAL CAUSAS SISTEMA RESPIRATORIO                      \n",
              "2   4         IRA Alta (J00-J06)                                     \n",
              "3   5         Influenza (J09-J11)                                    \n",
              "4   6         Neumonía (J12-J18)                                     \n",
              "5   7         Bronquitis/bronquiolitis aguda (J20-J21)               \n",
              "6   8         Crisis obstructiva bronquial (J40-J46)                 \n",
              "7   9         Otra causa respiratoria (J22, J30-J39, J47, J60-J98)   \n",
              "8  10         Covid-19, Virus no identificado U07.2                  \n",
              "9  11         Covid-19, Virus identificado U07.1                     \n",
              "10 32         HOSPITALIZACIONES POR CAUSAS SISTEMA RESPIRATORIO      \n",
              "11 33         HOSPITALIZACIONES COVID-19, VIRUS NO IDENTIFICADO U07.2\n",
              "12 34         HOSPITALIZACIONES COVID-19, VIRUS IDENTIFICADO U07.1   "
            ]
          },
          "metadata": {}
        }
      ]
    },
    {
      "cell_type": "code",
      "source": [
        "#Filtro el dataset par las regiones 8,4 y 13, tambien la causa 3 que es solo totalizador de urgencias reportadas\n",
        "df_urgr_esp_semanal<- df_urgr_esp_semanal %>% filter (RegionCodigo %in% c(8,4,13) & OrdenCausa != 3)\n",
        "count(df_urgr_esp_semanal)\n",
        "head(df_urgr_esp_semanal,5)"
      ],
      "metadata": {
        "colab": {
          "base_uri": "https://localhost:8080/",
          "height": 385
        },
        "id": "SPdSAwt-zfD7",
        "outputId": "ff1f27e4-e890-4eef-caeb-19cccd9a94fc"
      },
      "execution_count": null,
      "outputs": [
        {
          "output_type": "display_data",
          "data": {
            "text/html": [
              "<table class=\"dataframe\">\n",
              "<caption>A tibble: 1 × 1</caption>\n",
              "<thead>\n",
              "\t<tr><th scope=col>n</th></tr>\n",
              "\t<tr><th scope=col>&lt;int&gt;</th></tr>\n",
              "</thead>\n",
              "<tbody>\n",
              "\t<tr><td>1094255</td></tr>\n",
              "</tbody>\n",
              "</table>\n"
            ],
            "text/markdown": "\nA tibble: 1 × 1\n\n| n &lt;int&gt; |\n|---|\n| 1094255 |\n\n",
            "text/latex": "A tibble: 1 × 1\n\\begin{tabular}{l}\n n\\\\\n <int>\\\\\n\\hline\n\t 1094255\\\\\n\\end{tabular}\n",
            "text/plain": [
              "  n      \n",
              "1 1094255"
            ]
          },
          "metadata": {}
        },
        {
          "output_type": "display_data",
          "data": {
            "text/html": [
              "<table class=\"dataframe\">\n",
              "<caption>A tibble: 5 × 8</caption>\n",
              "<thead>\n",
              "\t<tr><th scope=col>EstablecimientoCodigo</th><th scope=col>RegionCodigo</th><th scope=col>RegionGlosa</th><th scope=col>Anio</th><th scope=col>SemanaEstadistica</th><th scope=col>OrdenCausa</th><th scope=col>Causa</th><th scope=col>NumTotal</th></tr>\n",
              "\t<tr><th scope=col>&lt;chr&gt;</th><th scope=col>&lt;chr&gt;</th><th scope=col>&lt;chr&gt;</th><th scope=col>&lt;int&gt;</th><th scope=col>&lt;int&gt;</th><th scope=col>&lt;int&gt;</th><th scope=col>&lt;chr&gt;</th><th scope=col>&lt;int&gt;</th></tr>\n",
              "</thead>\n",
              "<tbody>\n",
              "\t<tr><td>113820</td><td>13</td><td>Región Metropolitana de Santiago</td><td>2020</td><td>11</td><td> 5</td><td>Influenza (J09-J11)                              </td><td> 0</td></tr>\n",
              "\t<tr><td>200932</td><td>13</td><td>Región Metropolitana de Santiago</td><td>2020</td><td>19</td><td> 6</td><td>Neumonía (J12-J18)                               </td><td> 1</td></tr>\n",
              "\t<tr><td>111800</td><td>13</td><td>Región Metropolitana de Santiago</td><td>2015</td><td>13</td><td>32</td><td>HOSPITALIZACIONES POR CAUSAS SISTEMA RESPIRATORIO</td><td> 0</td></tr>\n",
              "\t<tr><td>114804</td><td>13</td><td>Región Metropolitana de Santiago</td><td>2023</td><td>12</td><td>10</td><td>Covid-19, Virus no identificado U07.2            </td><td>79</td></tr>\n",
              "\t<tr><td>105103</td><td>4 </td><td>Región De Coquimbo              </td><td>2024</td><td>11</td><td> 6</td><td>Neumonía (J12-J18)                               </td><td> 1</td></tr>\n",
              "</tbody>\n",
              "</table>\n"
            ],
            "text/markdown": "\nA tibble: 5 × 8\n\n| EstablecimientoCodigo &lt;chr&gt; | RegionCodigo &lt;chr&gt; | RegionGlosa &lt;chr&gt; | Anio &lt;int&gt; | SemanaEstadistica &lt;int&gt; | OrdenCausa &lt;int&gt; | Causa &lt;chr&gt; | NumTotal &lt;int&gt; |\n|---|---|---|---|---|---|---|---|\n| 113820 | 13 | Región Metropolitana de Santiago | 2020 | 11 |  5 | Influenza (J09-J11)                               |  0 |\n| 200932 | 13 | Región Metropolitana de Santiago | 2020 | 19 |  6 | Neumonía (J12-J18)                                |  1 |\n| 111800 | 13 | Región Metropolitana de Santiago | 2015 | 13 | 32 | HOSPITALIZACIONES POR CAUSAS SISTEMA RESPIRATORIO |  0 |\n| 114804 | 13 | Región Metropolitana de Santiago | 2023 | 12 | 10 | Covid-19, Virus no identificado U07.2             | 79 |\n| 105103 | 4  | Región De Coquimbo               | 2024 | 11 |  6 | Neumonía (J12-J18)                                |  1 |\n\n",
            "text/latex": "A tibble: 5 × 8\n\\begin{tabular}{llllllll}\n EstablecimientoCodigo & RegionCodigo & RegionGlosa & Anio & SemanaEstadistica & OrdenCausa & Causa & NumTotal\\\\\n <chr> & <chr> & <chr> & <int> & <int> & <int> & <chr> & <int>\\\\\n\\hline\n\t 113820 & 13 & Región Metropolitana de Santiago & 2020 & 11 &  5 & Influenza (J09-J11)                               &  0\\\\\n\t 200932 & 13 & Región Metropolitana de Santiago & 2020 & 19 &  6 & Neumonía (J12-J18)                                &  1\\\\\n\t 111800 & 13 & Región Metropolitana de Santiago & 2015 & 13 & 32 & HOSPITALIZACIONES POR CAUSAS SISTEMA RESPIRATORIO &  0\\\\\n\t 114804 & 13 & Región Metropolitana de Santiago & 2023 & 12 & 10 & Covid-19, Virus no identificado U07.2             & 79\\\\\n\t 105103 & 4  & Región De Coquimbo               & 2024 & 11 &  6 & Neumonía (J12-J18)                                &  1\\\\\n\\end{tabular}\n",
            "text/plain": [
              "  EstablecimientoCodigo RegionCodigo RegionGlosa                      Anio\n",
              "1 113820                13           Región Metropolitana de Santiago 2020\n",
              "2 200932                13           Región Metropolitana de Santiago 2020\n",
              "3 111800                13           Región Metropolitana de Santiago 2015\n",
              "4 114804                13           Región Metropolitana de Santiago 2023\n",
              "5 105103                4            Región De Coquimbo               2024\n",
              "  SemanaEstadistica OrdenCausa\n",
              "1 11                 5        \n",
              "2 19                 6        \n",
              "3 13                32        \n",
              "4 12                10        \n",
              "5 11                 6        \n",
              "  Causa                                             NumTotal\n",
              "1 Influenza (J09-J11)                                0      \n",
              "2 Neumonía (J12-J18)                                 1      \n",
              "3 HOSPITALIZACIONES POR CAUSAS SISTEMA RESPIRATORIO  0      \n",
              "4 Covid-19, Virus no identificado U07.2             79      \n",
              "5 Neumonía (J12-J18)                                 1      "
            ]
          },
          "metadata": {}
        }
      ]
    },
    {
      "cell_type": "code",
      "source": [
        "#Obtengo el total de urgencias reportadas en todos los años por las 3 regiones.\n",
        "df_urgr_esp_semanal%>% group_by(RegionGlosa) %>% summarise(Total = sum(NumTotal, na.rm = TRUE))"
      ],
      "metadata": {
        "id": "YBwWoeGzxkZt",
        "outputId": "16288d77-e0f0-44ad-f7da-6b5e3cf7ce9b",
        "colab": {
          "base_uri": "https://localhost:8080/",
          "height": 192
        }
      },
      "execution_count": null,
      "outputs": [
        {
          "output_type": "display_data",
          "data": {
            "text/html": [
              "<table class=\"dataframe\">\n",
              "<caption>A tibble: 3 × 2</caption>\n",
              "<thead>\n",
              "\t<tr><th scope=col>RegionGlosa</th><th scope=col>Total</th></tr>\n",
              "\t<tr><th scope=col>&lt;chr&gt;</th><th scope=col>&lt;int&gt;</th></tr>\n",
              "</thead>\n",
              "<tbody>\n",
              "\t<tr><td>Región De Coquimbo              </td><td> 1888406</td></tr>\n",
              "\t<tr><td>Región Del Bíobío               </td><td> 6836846</td></tr>\n",
              "\t<tr><td>Región Metropolitana de Santiago</td><td>19314539</td></tr>\n",
              "</tbody>\n",
              "</table>\n"
            ],
            "text/markdown": "\nA tibble: 3 × 2\n\n| RegionGlosa &lt;chr&gt; | Total &lt;int&gt; |\n|---|---|\n| Región De Coquimbo               |  1888406 |\n| Región Del Bíobío                |  6836846 |\n| Región Metropolitana de Santiago | 19314539 |\n\n",
            "text/latex": "A tibble: 3 × 2\n\\begin{tabular}{ll}\n RegionGlosa & Total\\\\\n <chr> & <int>\\\\\n\\hline\n\t Región De Coquimbo               &  1888406\\\\\n\t Región Del Bíobío                &  6836846\\\\\n\t Región Metropolitana de Santiago & 19314539\\\\\n\\end{tabular}\n",
            "text/plain": [
              "  RegionGlosa                      Total   \n",
              "1 Región De Coquimbo                1888406\n",
              "2 Región Del Bíobío                 6836846\n",
              "3 Región Metropolitana de Santiago 19314539"
            ]
          },
          "metadata": {}
        }
      ]
    },
    {
      "cell_type": "code",
      "source": [
        "# Grafico la cantidad de casos por región\n",
        "df_plot1<-df_urgr_esp_semanal%>% group_by(RegionGlosa) %>% summarise(Total = sum(NumTotal, na.rm = TRUE))\n",
        "options(repr.plot.width = 10, repr.plot.height = 10)\n",
        "ggplot(df_plot1, aes(x=RegionGlosa, y= Total, fill= RegionGlosa)) + geom_bar(stat=\"identity\") +\n",
        "scale_y_continuous(labels = scales::comma_format(accuracy = 1))+\n",
        "theme(axis.text.x = element_text(angle = 75, vjust = .5))+\n",
        "labs(x = \"Región\", y = \"Total Urgencias\", title = \"Total Urgencias x Región\")"
      ],
      "metadata": {
        "id": "9U0Uf1SXnlX9",
        "outputId": "6ab7c57c-8a39-42ab-b477-bea572789987",
        "colab": {
          "base_uri": "https://localhost:8080/",
          "height": 617
        }
      },
      "execution_count": null,
      "outputs": [
        {
          "output_type": "display_data",
          "data": {
            "text/plain": [
              "plot without title"
            ],
            "image/png": "[encoded data removed]"
          },
          "metadata": {
            "image/png": {
              "width": 600,
              "height": 600
            }
          }
        }
      ]
    },
    {
      "cell_type": "code",
      "source": [
        "# Obtengo cantidad de urgencias por año y region\n",
        "df_resumen <- df_urgr_esp_semanal %>%\n",
        "  group_by(Anio, RegionGlosa) %>%\n",
        "  summarise(Total = sum(NumTotal, na.rm = TRUE))\n",
        "  df_resumen"
      ],
      "metadata": {
        "id": "EmhGoM1e0ZOo",
        "outputId": "1f7a9705-4756-446c-f99b-061f63de87f7",
        "colab": {
          "base_uri": "https://localhost:8080/",
          "height": 1000
        }
      },
      "execution_count": null,
      "outputs": [
        {
          "output_type": "stream",
          "name": "stderr",
          "text": [
            "\u001b[1m\u001b[22m`summarise()` has grouped output by 'Anio'. You can override using the\n",
            "`.groups` argument.\n"
          ]
        },
        {
          "output_type": "display_data",
          "data": {
            "text/html": [
              "<table class=\"dataframe\">\n",
              "<caption>A grouped_df: 33 × 3</caption>\n",
              "<thead>\n",
              "\t<tr><th scope=col>Anio</th><th scope=col>RegionGlosa</th><th scope=col>Total</th></tr>\n",
              "\t<tr><th scope=col>&lt;int&gt;</th><th scope=col>&lt;chr&gt;</th><th scope=col>&lt;int&gt;</th></tr>\n",
              "</thead>\n",
              "<tbody>\n",
              "\t<tr><td>2014</td><td>Región De Coquimbo              </td><td> 174596</td></tr>\n",
              "\t<tr><td>2014</td><td>Región Del Bíobío               </td><td> 650757</td></tr>\n",
              "\t<tr><td>2014</td><td>Región Metropolitana de Santiago</td><td>1959313</td></tr>\n",
              "\t<tr><td>2015</td><td>Región De Coquimbo              </td><td> 178524</td></tr>\n",
              "\t<tr><td>2015</td><td>Región Del Bíobío               </td><td> 694972</td></tr>\n",
              "\t<tr><td>2015</td><td>Región Metropolitana de Santiago</td><td>2095817</td></tr>\n",
              "\t<tr><td>2016</td><td>Región De Coquimbo              </td><td> 178086</td></tr>\n",
              "\t<tr><td>2016</td><td>Región Del Bíobío               </td><td> 654439</td></tr>\n",
              "\t<tr><td>2016</td><td>Región Metropolitana de Santiago</td><td>2069127</td></tr>\n",
              "\t<tr><td>2017</td><td>Región De Coquimbo              </td><td> 176476</td></tr>\n",
              "\t<tr><td>2017</td><td>Región Del Bíobío               </td><td> 668164</td></tr>\n",
              "\t<tr><td>2017</td><td>Región Metropolitana de Santiago</td><td>1897594</td></tr>\n",
              "\t<tr><td>2018</td><td>Región De Coquimbo              </td><td> 183047</td></tr>\n",
              "\t<tr><td>2018</td><td>Región Del Bíobío               </td><td> 650592</td></tr>\n",
              "\t<tr><td>2018</td><td>Región Metropolitana de Santiago</td><td>1836445</td></tr>\n",
              "\t<tr><td>2019</td><td>Región De Coquimbo              </td><td> 190921</td></tr>\n",
              "\t<tr><td>2019</td><td>Región Del Bíobío               </td><td> 656910</td></tr>\n",
              "\t<tr><td>2019</td><td>Región Metropolitana de Santiago</td><td>1898983</td></tr>\n",
              "\t<tr><td>2020</td><td>Región De Coquimbo              </td><td>  77610</td></tr>\n",
              "\t<tr><td>2020</td><td>Región Del Bíobío               </td><td> 290846</td></tr>\n",
              "\t<tr><td>2020</td><td>Región Metropolitana de Santiago</td><td> 831460</td></tr>\n",
              "\t<tr><td>2021</td><td>Región De Coquimbo              </td><td> 117245</td></tr>\n",
              "\t<tr><td>2021</td><td>Región Del Bíobío               </td><td> 469360</td></tr>\n",
              "\t<tr><td>2021</td><td>Región Metropolitana de Santiago</td><td>1219489</td></tr>\n",
              "\t<tr><td>2022</td><td>Región De Coquimbo              </td><td> 263335</td></tr>\n",
              "\t<tr><td>2022</td><td>Región Del Bíobío               </td><td> 962812</td></tr>\n",
              "\t<tr><td>2022</td><td>Región Metropolitana de Santiago</td><td>2352255</td></tr>\n",
              "\t<tr><td>2023</td><td>Región De Coquimbo              </td><td> 206436</td></tr>\n",
              "\t<tr><td>2023</td><td>Región Del Bíobío               </td><td> 711810</td></tr>\n",
              "\t<tr><td>2023</td><td>Región Metropolitana de Santiago</td><td>1901823</td></tr>\n",
              "\t<tr><td>2024</td><td>Región De Coquimbo              </td><td> 142130</td></tr>\n",
              "\t<tr><td>2024</td><td>Región Del Bíobío               </td><td> 426184</td></tr>\n",
              "\t<tr><td>2024</td><td>Región Metropolitana de Santiago</td><td>1252233</td></tr>\n",
              "</tbody>\n",
              "</table>\n"
            ],
            "text/markdown": "\nA grouped_df: 33 × 3\n\n| Anio &lt;int&gt; | RegionGlosa &lt;chr&gt; | Total &lt;int&gt; |\n|---|---|---|\n| 2014 | Región De Coquimbo               |  174596 |\n| 2014 | Región Del Bíobío                |  650757 |\n| 2014 | Región Metropolitana de Santiago | 1959313 |\n| 2015 | Región De Coquimbo               |  178524 |\n| 2015 | Región Del Bíobío                |  694972 |\n| 2015 | Región Metropolitana de Santiago | 2095817 |\n| 2016 | Región De Coquimbo               |  178086 |\n| 2016 | Región Del Bíobío                |  654439 |\n| 2016 | Región Metropolitana de Santiago | 2069127 |\n| 2017 | Región De Coquimbo               |  176476 |\n| 2017 | Región Del Bíobío                |  668164 |\n| 2017 | Región Metropolitana de Santiago | 1897594 |\n| 2018 | Región De Coquimbo               |  183047 |\n| 2018 | Región Del Bíobío                |  650592 |\n| 2018 | Región Metropolitana de Santiago | 1836445 |\n| 2019 | Región De Coquimbo               |  190921 |\n| 2019 | Región Del Bíobío                |  656910 |\n| 2019 | Región Metropolitana de Santiago | 1898983 |\n| 2020 | Región De Coquimbo               |   77610 |\n| 2020 | Región Del Bíobío                |  290846 |\n| 2020 | Región Metropolitana de Santiago |  831460 |\n| 2021 | Región De Coquimbo               |  117245 |\n| 2021 | Región Del Bíobío                |  469360 |\n| 2021 | Región Metropolitana de Santiago | 1219489 |\n| 2022 | Región De Coquimbo               |  263335 |\n| 2022 | Región Del Bíobío                |  962812 |\n| 2022 | Región Metropolitana de Santiago | 2352255 |\n| 2023 | Región De Coquimbo               |  206436 |\n| 2023 | Región Del Bíobío                |  711810 |\n| 2023 | Región Metropolitana de Santiago | 1901823 |\n| 2024 | Región De Coquimbo               |  142130 |\n| 2024 | Región Del Bíobío                |  426184 |\n| 2024 | Región Metropolitana de Santiago | 1252233 |\n\n",
            "text/latex": "A grouped\\_df: 33 × 3\n\\begin{tabular}{lll}\n Anio & RegionGlosa & Total\\\\\n <int> & <chr> & <int>\\\\\n\\hline\n\t 2014 & Región De Coquimbo               &  174596\\\\\n\t 2014 & Región Del Bíobío                &  650757\\\\\n\t 2014 & Región Metropolitana de Santiago & 1959313\\\\\n\t 2015 & Región De Coquimbo               &  178524\\\\\n\t 2015 & Región Del Bíobío                &  694972\\\\\n\t 2015 & Región Metropolitana de Santiago & 2095817\\\\\n\t 2016 & Región De Coquimbo               &  178086\\\\\n\t 2016 & Región Del Bíobío                &  654439\\\\\n\t 2016 & Región Metropolitana de Santiago & 2069127\\\\\n\t 2017 & Región De Coquimbo               &  176476\\\\\n\t 2017 & Región Del Bíobío                &  668164\\\\\n\t 2017 & Región Metropolitana de Santiago & 1897594\\\\\n\t 2018 & Región De Coquimbo               &  183047\\\\\n\t 2018 & Región Del Bíobío                &  650592\\\\\n\t 2018 & Región Metropolitana de Santiago & 1836445\\\\\n\t 2019 & Región De Coquimbo               &  190921\\\\\n\t 2019 & Región Del Bíobío                &  656910\\\\\n\t 2019 & Región Metropolitana de Santiago & 1898983\\\\\n\t 2020 & Región De Coquimbo               &   77610\\\\\n\t 2020 & Región Del Bíobío                &  290846\\\\\n\t 2020 & Región Metropolitana de Santiago &  831460\\\\\n\t 2021 & Región De Coquimbo               &  117245\\\\\n\t 2021 & Región Del Bíobío                &  469360\\\\\n\t 2021 & Región Metropolitana de Santiago & 1219489\\\\\n\t 2022 & Región De Coquimbo               &  263335\\\\\n\t 2022 & Región Del Bíobío                &  962812\\\\\n\t 2022 & Región Metropolitana de Santiago & 2352255\\\\\n\t 2023 & Región De Coquimbo               &  206436\\\\\n\t 2023 & Región Del Bíobío                &  711810\\\\\n\t 2023 & Región Metropolitana de Santiago & 1901823\\\\\n\t 2024 & Región De Coquimbo               &  142130\\\\\n\t 2024 & Región Del Bíobío                &  426184\\\\\n\t 2024 & Región Metropolitana de Santiago & 1252233\\\\\n\\end{tabular}\n",
            "text/plain": [
              "   Anio RegionGlosa                      Total  \n",
              "1  2014 Región De Coquimbo                174596\n",
              "2  2014 Región Del Bíobío                 650757\n",
              "3  2014 Región Metropolitana de Santiago 1959313\n",
              "4  2015 Región De Coquimbo                178524\n",
              "5  2015 Región Del Bíobío                 694972\n",
              "6  2015 Región Metropolitana de Santiago 2095817\n",
              "7  2016 Región De Coquimbo                178086\n",
              "8  2016 Región Del Bíobío                 654439\n",
              "9  2016 Región Metropolitana de Santiago 2069127\n",
              "10 2017 Región De Coquimbo                176476\n",
              "11 2017 Región Del Bíobío                 668164\n",
              "12 2017 Región Metropolitana de Santiago 1897594\n",
              "13 2018 Región De Coquimbo                183047\n",
              "14 2018 Región Del Bíobío                 650592\n",
              "15 2018 Región Metropolitana de Santiago 1836445\n",
              "16 2019 Región De Coquimbo                190921\n",
              "17 2019 Región Del Bíobío                 656910\n",
              "18 2019 Región Metropolitana de Santiago 1898983\n",
              "19 2020 Región De Coquimbo                 77610\n",
              "20 2020 Región Del Bíobío                 290846\n",
              "21 2020 Región Metropolitana de Santiago  831460\n",
              "22 2021 Región De Coquimbo                117245\n",
              "23 2021 Región Del Bíobío                 469360\n",
              "24 2021 Región Metropolitana de Santiago 1219489\n",
              "25 2022 Región De Coquimbo                263335\n",
              "26 2022 Región Del Bíobío                 962812\n",
              "27 2022 Región Metropolitana de Santiago 2352255\n",
              "28 2023 Región De Coquimbo                206436\n",
              "29 2023 Región Del Bíobío                 711810\n",
              "30 2023 Región Metropolitana de Santiago 1901823\n",
              "31 2024 Región De Coquimbo                142130\n",
              "32 2024 Región Del Bíobío                 426184\n",
              "33 2024 Región Metropolitana de Santiago 1252233"
            ]
          },
          "metadata": {}
        }
      ]
    },
    {
      "cell_type": "code",
      "source": [
        "# Obtengo cantidad de urgencias por año, semana y region.\n",
        "df_resumen <- df_urgr_esp_semanal %>%\n",
        "  group_by(Anio, SemanaEstadistica, Causa) %>%\n",
        "  summarise(Total = sum(NumTotal, na.rm = TRUE))\n",
        "  df_resumen"
      ],
      "metadata": {
        "id": "M-wlfKZigc6v",
        "outputId": "a9d39f65-bf9c-4806-bd59-017ecf67bd32",
        "colab": {
          "base_uri": "https://localhost:8080/",
          "height": 1000
        }
      },
      "execution_count": null,
      "outputs": [
        {
          "output_type": "stream",
          "name": "stderr",
          "text": [
            "\u001b[1m\u001b[22m`summarise()` has grouped output by 'Anio', 'SemanaEstadistica'. You can\n",
            "override using the `.groups` argument.\n"
          ]
        },
        {
          "output_type": "display_data",
          "data": {
            "text/html": [
              "<table class=\"dataframe\">\n",
              "<caption>A grouped_df: 5071 × 4</caption>\n",
              "<thead>\n",
              "\t<tr><th scope=col>Anio</th><th scope=col>SemanaEstadistica</th><th scope=col>Causa</th><th scope=col>Total</th></tr>\n",
              "\t<tr><th scope=col>&lt;int&gt;</th><th scope=col>&lt;int&gt;</th><th scope=col>&lt;chr&gt;</th><th scope=col>&lt;int&gt;</th></tr>\n",
              "</thead>\n",
              "<tbody>\n",
              "\t<tr><td>2014</td><td>1</td><td>Bronquitis/bronquiolitis aguda (J20-J21)            </td><td> 2364</td></tr>\n",
              "\t<tr><td>2014</td><td>1</td><td>Crisis obstructiva bronquial (J40-J46)              </td><td> 1160</td></tr>\n",
              "\t<tr><td>2014</td><td>1</td><td>HOSPITALIZACIONES POR CAUSAS SISTEMA RESPIRATORIO   </td><td>  300</td></tr>\n",
              "\t<tr><td>2014</td><td>1</td><td>IRA Alta (J00-J06)                                  </td><td>13389</td></tr>\n",
              "\t<tr><td>2014</td><td>1</td><td>Influenza (J09-J11)                                 </td><td>  179</td></tr>\n",
              "\t<tr><td>2014</td><td>1</td><td>Neumonía (J12-J18)                                  </td><td>  659</td></tr>\n",
              "\t<tr><td>2014</td><td>1</td><td>Otra causa respiratoria (J22, J30-J39, J47, J60-J98)</td><td> 3278</td></tr>\n",
              "\t<tr><td>2014</td><td>2</td><td>Bronquitis/bronquiolitis aguda (J20-J21)            </td><td> 3679</td></tr>\n",
              "\t<tr><td>2014</td><td>2</td><td>Crisis obstructiva bronquial (J40-J46)              </td><td> 1992</td></tr>\n",
              "\t<tr><td>2014</td><td>2</td><td>HOSPITALIZACIONES POR CAUSAS SISTEMA RESPIRATORIO   </td><td>  529</td></tr>\n",
              "\t<tr><td>2014</td><td>2</td><td>IRA Alta (J00-J06)                                  </td><td>21712</td></tr>\n",
              "\t<tr><td>2014</td><td>2</td><td>Influenza (J09-J11)                                 </td><td>  309</td></tr>\n",
              "\t<tr><td>2014</td><td>2</td><td>Neumonía (J12-J18)                                  </td><td> 1137</td></tr>\n",
              "\t<tr><td>2014</td><td>2</td><td>Otra causa respiratoria (J22, J30-J39, J47, J60-J98)</td><td> 5145</td></tr>\n",
              "\t<tr><td>2014</td><td>3</td><td>Bronquitis/bronquiolitis aguda (J20-J21)            </td><td> 3013</td></tr>\n",
              "\t<tr><td>2014</td><td>3</td><td>Crisis obstructiva bronquial (J40-J46)              </td><td> 1593</td></tr>\n",
              "\t<tr><td>2014</td><td>3</td><td>HOSPITALIZACIONES POR CAUSAS SISTEMA RESPIRATORIO   </td><td>  459</td></tr>\n",
              "\t<tr><td>2014</td><td>3</td><td>IRA Alta (J00-J06)                                  </td><td>19221</td></tr>\n",
              "\t<tr><td>2014</td><td>3</td><td>Influenza (J09-J11)                                 </td><td>  208</td></tr>\n",
              "\t<tr><td>2014</td><td>3</td><td>Neumonía (J12-J18)                                  </td><td> 1018</td></tr>\n",
              "\t<tr><td>2014</td><td>3</td><td>Otra causa respiratoria (J22, J30-J39, J47, J60-J98)</td><td> 4535</td></tr>\n",
              "\t<tr><td>2014</td><td>4</td><td>Bronquitis/bronquiolitis aguda (J20-J21)            </td><td> 2763</td></tr>\n",
              "\t<tr><td>2014</td><td>4</td><td>Crisis obstructiva bronquial (J40-J46)              </td><td> 1498</td></tr>\n",
              "\t<tr><td>2014</td><td>4</td><td>HOSPITALIZACIONES POR CAUSAS SISTEMA RESPIRATORIO   </td><td>  447</td></tr>\n",
              "\t<tr><td>2014</td><td>4</td><td>IRA Alta (J00-J06)                                  </td><td>18595</td></tr>\n",
              "\t<tr><td>2014</td><td>4</td><td>Influenza (J09-J11)                                 </td><td>  195</td></tr>\n",
              "\t<tr><td>2014</td><td>4</td><td>Neumonía (J12-J18)                                  </td><td>  922</td></tr>\n",
              "\t<tr><td>2014</td><td>4</td><td>Otra causa respiratoria (J22, J30-J39, J47, J60-J98)</td><td> 4523</td></tr>\n",
              "\t<tr><td>2014</td><td>5</td><td>Bronquitis/bronquiolitis aguda (J20-J21)            </td><td> 2655</td></tr>\n",
              "\t<tr><td>2014</td><td>5</td><td>Crisis obstructiva bronquial (J40-J46)              </td><td> 1338</td></tr>\n",
              "\t<tr><td>⋮</td><td>⋮</td><td>⋮</td><td>⋮</td></tr>\n",
              "\t<tr><td>2024</td><td>35</td><td>Crisis obstructiva bronquial (J40-J46)                 </td><td> 2259</td></tr>\n",
              "\t<tr><td>2024</td><td>35</td><td>HOSPITALIZACIONES COVID-19, VIRUS IDENTIFICADO U07.1   </td><td>    1</td></tr>\n",
              "\t<tr><td>2024</td><td>35</td><td>HOSPITALIZACIONES COVID-19, VIRUS NO IDENTIFICADO U07.2</td><td>    0</td></tr>\n",
              "\t<tr><td>2024</td><td>35</td><td>HOSPITALIZACIONES POR CAUSAS SISTEMA RESPIRATORIO      </td><td>  998</td></tr>\n",
              "\t<tr><td>2024</td><td>35</td><td>IRA Alta (J00-J06)                                     </td><td>36855</td></tr>\n",
              "\t<tr><td>2024</td><td>35</td><td>Influenza (J09-J11)                                    </td><td>  588</td></tr>\n",
              "\t<tr><td>2024</td><td>35</td><td>Neumonía (J12-J18)                                     </td><td> 2965</td></tr>\n",
              "\t<tr><td>2024</td><td>35</td><td>Otra causa respiratoria (J22, J30-J39, J47, J60-J98)   </td><td> 3497</td></tr>\n",
              "\t<tr><td>2024</td><td>36</td><td>Bronquitis/bronquiolitis aguda (J20-J21)               </td><td>10992</td></tr>\n",
              "\t<tr><td>2024</td><td>36</td><td>Covid-19, Virus identificado U07.1                     </td><td>    6</td></tr>\n",
              "\t<tr><td>2024</td><td>36</td><td>Covid-19, Virus no identificado U07.2                  </td><td>   17</td></tr>\n",
              "\t<tr><td>2024</td><td>36</td><td>Crisis obstructiva bronquial (J40-J46)                 </td><td> 2264</td></tr>\n",
              "\t<tr><td>2024</td><td>36</td><td>HOSPITALIZACIONES COVID-19, VIRUS IDENTIFICADO U07.1   </td><td>    0</td></tr>\n",
              "\t<tr><td>2024</td><td>36</td><td>HOSPITALIZACIONES COVID-19, VIRUS NO IDENTIFICADO U07.2</td><td>    0</td></tr>\n",
              "\t<tr><td>2024</td><td>36</td><td>HOSPITALIZACIONES POR CAUSAS SISTEMA RESPIRATORIO      </td><td>  993</td></tr>\n",
              "\t<tr><td>2024</td><td>36</td><td>IRA Alta (J00-J06)                                     </td><td>36880</td></tr>\n",
              "\t<tr><td>2024</td><td>36</td><td>Influenza (J09-J11)                                    </td><td>  672</td></tr>\n",
              "\t<tr><td>2024</td><td>36</td><td>Neumonía (J12-J18)                                     </td><td> 3142</td></tr>\n",
              "\t<tr><td>2024</td><td>36</td><td>Otra causa respiratoria (J22, J30-J39, J47, J60-J98)   </td><td> 3553</td></tr>\n",
              "\t<tr><td>2024</td><td>37</td><td>Bronquitis/bronquiolitis aguda (J20-J21)               </td><td> 1949</td></tr>\n",
              "\t<tr><td>2024</td><td>37</td><td>Covid-19, Virus identificado U07.1                     </td><td>    0</td></tr>\n",
              "\t<tr><td>2024</td><td>37</td><td>Covid-19, Virus no identificado U07.2                  </td><td>    1</td></tr>\n",
              "\t<tr><td>2024</td><td>37</td><td>Crisis obstructiva bronquial (J40-J46)                 </td><td>  351</td></tr>\n",
              "\t<tr><td>2024</td><td>37</td><td>HOSPITALIZACIONES COVID-19, VIRUS IDENTIFICADO U07.1   </td><td>    0</td></tr>\n",
              "\t<tr><td>2024</td><td>37</td><td>HOSPITALIZACIONES COVID-19, VIRUS NO IDENTIFICADO U07.2</td><td>    0</td></tr>\n",
              "\t<tr><td>2024</td><td>37</td><td>HOSPITALIZACIONES POR CAUSAS SISTEMA RESPIRATORIO      </td><td>  117</td></tr>\n",
              "\t<tr><td>2024</td><td>37</td><td>IRA Alta (J00-J06)                                     </td><td> 6390</td></tr>\n",
              "\t<tr><td>2024</td><td>37</td><td>Influenza (J09-J11)                                    </td><td>  107</td></tr>\n",
              "\t<tr><td>2024</td><td>37</td><td>Neumonía (J12-J18)                                     </td><td>  461</td></tr>\n",
              "\t<tr><td>2024</td><td>37</td><td>Otra causa respiratoria (J22, J30-J39, J47, J60-J98)   </td><td>  641</td></tr>\n",
              "</tbody>\n",
              "</table>\n"
            ],
            "text/markdown": "\nA grouped_df: 5071 × 4\n\n| Anio &lt;int&gt; | SemanaEstadistica &lt;int&gt; | Causa &lt;chr&gt; | Total &lt;int&gt; |\n|---|---|---|---|\n| 2014 | 1 | Bronquitis/bronquiolitis aguda (J20-J21)             |  2364 |\n| 2014 | 1 | Crisis obstructiva bronquial (J40-J46)               |  1160 |\n| 2014 | 1 | HOSPITALIZACIONES POR CAUSAS SISTEMA RESPIRATORIO    |   300 |\n| 2014 | 1 | IRA Alta (J00-J06)                                   | 13389 |\n| 2014 | 1 | Influenza (J09-J11)                                  |   179 |\n| 2014 | 1 | Neumonía (J12-J18)                                   |   659 |\n| 2014 | 1 | Otra causa respiratoria (J22, J30-J39, J47, J60-J98) |  3278 |\n| 2014 | 2 | Bronquitis/bronquiolitis aguda (J20-J21)             |  3679 |\n| 2014 | 2 | Crisis obstructiva bronquial (J40-J46)               |  1992 |\n| 2014 | 2 | HOSPITALIZACIONES POR CAUSAS SISTEMA RESPIRATORIO    |   529 |\n| 2014 | 2 | IRA Alta (J00-J06)                                   | 21712 |\n| 2014 | 2 | Influenza (J09-J11)                                  |   309 |\n| 2014 | 2 | Neumonía (J12-J18)                                   |  1137 |\n| 2014 | 2 | Otra causa respiratoria (J22, J30-J39, J47, J60-J98) |  5145 |\n| 2014 | 3 | Bronquitis/bronquiolitis aguda (J20-J21)             |  3013 |\n| 2014 | 3 | Crisis obstructiva bronquial (J40-J46)               |  1593 |\n| 2014 | 3 | HOSPITALIZACIONES POR CAUSAS SISTEMA RESPIRATORIO    |   459 |\n| 2014 | 3 | IRA Alta (J00-J06)                                   | 19221 |\n| 2014 | 3 | Influenza (J09-J11)                                  |   208 |\n| 2014 | 3 | Neumonía (J12-J18)                                   |  1018 |\n| 2014 | 3 | Otra causa respiratoria (J22, J30-J39, J47, J60-J98) |  4535 |\n| 2014 | 4 | Bronquitis/bronquiolitis aguda (J20-J21)             |  2763 |\n| 2014 | 4 | Crisis obstructiva bronquial (J40-J46)               |  1498 |\n| 2014 | 4 | HOSPITALIZACIONES POR CAUSAS SISTEMA RESPIRATORIO    |   447 |\n| 2014 | 4 | IRA Alta (J00-J06)                                   | 18595 |\n| 2014 | 4 | Influenza (J09-J11)                                  |   195 |\n| 2014 | 4 | Neumonía (J12-J18)                                   |   922 |\n| 2014 | 4 | Otra causa respiratoria (J22, J30-J39, J47, J60-J98) |  4523 |\n| 2014 | 5 | Bronquitis/bronquiolitis aguda (J20-J21)             |  2655 |\n| 2014 | 5 | Crisis obstructiva bronquial (J40-J46)               |  1338 |\n| ⋮ | ⋮ | ⋮ | ⋮ |\n| 2024 | 35 | Crisis obstructiva bronquial (J40-J46)                  |  2259 |\n| 2024 | 35 | HOSPITALIZACIONES COVID-19, VIRUS IDENTIFICADO U07.1    |     1 |\n| 2024 | 35 | HOSPITALIZACIONES COVID-19, VIRUS NO IDENTIFICADO U07.2 |     0 |\n| 2024 | 35 | HOSPITALIZACIONES POR CAUSAS SISTEMA RESPIRATORIO       |   998 |\n| 2024 | 35 | IRA Alta (J00-J06)                                      | 36855 |\n| 2024 | 35 | Influenza (J09-J11)                                     |   588 |\n| 2024 | 35 | Neumonía (J12-J18)                                      |  2965 |\n| 2024 | 35 | Otra causa respiratoria (J22, J30-J39, J47, J60-J98)    |  3497 |\n| 2024 | 36 | Bronquitis/bronquiolitis aguda (J20-J21)                | 10992 |\n| 2024 | 36 | Covid-19, Virus identificado U07.1                      |     6 |\n| 2024 | 36 | Covid-19, Virus no identificado U07.2                   |    17 |\n| 2024 | 36 | Crisis obstructiva bronquial (J40-J46)                  |  2264 |\n| 2024 | 36 | HOSPITALIZACIONES COVID-19, VIRUS IDENTIFICADO U07.1    |     0 |\n| 2024 | 36 | HOSPITALIZACIONES COVID-19, VIRUS NO IDENTIFICADO U07.2 |     0 |\n| 2024 | 36 | HOSPITALIZACIONES POR CAUSAS SISTEMA RESPIRATORIO       |   993 |\n| 2024 | 36 | IRA Alta (J00-J06)                                      | 36880 |\n| 2024 | 36 | Influenza (J09-J11)                                     |   672 |\n| 2024 | 36 | Neumonía (J12-J18)                                      |  3142 |\n| 2024 | 36 | Otra causa respiratoria (J22, J30-J39, J47, J60-J98)    |  3553 |\n| 2024 | 37 | Bronquitis/bronquiolitis aguda (J20-J21)                |  1949 |\n| 2024 | 37 | Covid-19, Virus identificado U07.1                      |     0 |\n| 2024 | 37 | Covid-19, Virus no identificado U07.2                   |     1 |\n| 2024 | 37 | Crisis obstructiva bronquial (J40-J46)                  |   351 |\n| 2024 | 37 | HOSPITALIZACIONES COVID-19, VIRUS IDENTIFICADO U07.1    |     0 |\n| 2024 | 37 | HOSPITALIZACIONES COVID-19, VIRUS NO IDENTIFICADO U07.2 |     0 |\n| 2024 | 37 | HOSPITALIZACIONES POR CAUSAS SISTEMA RESPIRATORIO       |   117 |\n| 2024 | 37 | IRA Alta (J00-J06)                                      |  6390 |\n| 2024 | 37 | Influenza (J09-J11)                                     |   107 |\n| 2024 | 37 | Neumonía (J12-J18)                                      |   461 |\n| 2024 | 37 | Otra causa respiratoria (J22, J30-J39, J47, J60-J98)    |   641 |\n\n",
            "text/latex": "A grouped\\_df: 5071 × 4\n\\begin{tabular}{llll}\n Anio & SemanaEstadistica & Causa & Total\\\\\n <int> & <int> & <chr> & <int>\\\\\n\\hline\n\t 2014 & 1 & Bronquitis/bronquiolitis aguda (J20-J21)             &  2364\\\\\n\t 2014 & 1 & Crisis obstructiva bronquial (J40-J46)               &  1160\\\\\n\t 2014 & 1 & HOSPITALIZACIONES POR CAUSAS SISTEMA RESPIRATORIO    &   300\\\\\n\t 2014 & 1 & IRA Alta (J00-J06)                                   & 13389\\\\\n\t 2014 & 1 & Influenza (J09-J11)                                  &   179\\\\\n\t 2014 & 1 & Neumonía (J12-J18)                                   &   659\\\\\n\t 2014 & 1 & Otra causa respiratoria (J22, J30-J39, J47, J60-J98) &  3278\\\\\n\t 2014 & 2 & Bronquitis/bronquiolitis aguda (J20-J21)             &  3679\\\\\n\t 2014 & 2 & Crisis obstructiva bronquial (J40-J46)               &  1992\\\\\n\t 2014 & 2 & HOSPITALIZACIONES POR CAUSAS SISTEMA RESPIRATORIO    &   529\\\\\n\t 2014 & 2 & IRA Alta (J00-J06)                                   & 21712\\\\\n\t 2014 & 2 & Influenza (J09-J11)                                  &   309\\\\\n\t 2014 & 2 & Neumonía (J12-J18)                                   &  1137\\\\\n\t 2014 & 2 & Otra causa respiratoria (J22, J30-J39, J47, J60-J98) &  5145\\\\\n\t 2014 & 3 & Bronquitis/bronquiolitis aguda (J20-J21)             &  3013\\\\\n\t 2014 & 3 & Crisis obstructiva bronquial (J40-J46)               &  1593\\\\\n\t 2014 & 3 & HOSPITALIZACIONES POR CAUSAS SISTEMA RESPIRATORIO    &   459\\\\\n\t 2014 & 3 & IRA Alta (J00-J06)                                   & 19221\\\\\n\t 2014 & 3 & Influenza (J09-J11)                                  &   208\\\\\n\t 2014 & 3 & Neumonía (J12-J18)                                   &  1018\\\\\n\t 2014 & 3 & Otra causa respiratoria (J22, J30-J39, J47, J60-J98) &  4535\\\\\n\t 2014 & 4 & Bronquitis/bronquiolitis aguda (J20-J21)             &  2763\\\\\n\t 2014 & 4 & Crisis obstructiva bronquial (J40-J46)               &  1498\\\\\n\t 2014 & 4 & HOSPITALIZACIONES POR CAUSAS SISTEMA RESPIRATORIO    &   447\\\\\n\t 2014 & 4 & IRA Alta (J00-J06)                                   & 18595\\\\\n\t 2014 & 4 & Influenza (J09-J11)                                  &   195\\\\\n\t 2014 & 4 & Neumonía (J12-J18)                                   &   922\\\\\n\t 2014 & 4 & Otra causa respiratoria (J22, J30-J39, J47, J60-J98) &  4523\\\\\n\t 2014 & 5 & Bronquitis/bronquiolitis aguda (J20-J21)             &  2655\\\\\n\t 2014 & 5 & Crisis obstructiva bronquial (J40-J46)               &  1338\\\\\n\t ⋮ & ⋮ & ⋮ & ⋮\\\\\n\t 2024 & 35 & Crisis obstructiva bronquial (J40-J46)                  &  2259\\\\\n\t 2024 & 35 & HOSPITALIZACIONES COVID-19, VIRUS IDENTIFICADO U07.1    &     1\\\\\n\t 2024 & 35 & HOSPITALIZACIONES COVID-19, VIRUS NO IDENTIFICADO U07.2 &     0\\\\\n\t 2024 & 35 & HOSPITALIZACIONES POR CAUSAS SISTEMA RESPIRATORIO       &   998\\\\\n\t 2024 & 35 & IRA Alta (J00-J06)                                      & 36855\\\\\n\t 2024 & 35 & Influenza (J09-J11)                                     &   588\\\\\n\t 2024 & 35 & Neumonía (J12-J18)                                      &  2965\\\\\n\t 2024 & 35 & Otra causa respiratoria (J22, J30-J39, J47, J60-J98)    &  3497\\\\\n\t 2024 & 36 & Bronquitis/bronquiolitis aguda (J20-J21)                & 10992\\\\\n\t 2024 & 36 & Covid-19, Virus identificado U07.1                      &     6\\\\\n\t 2024 & 36 & Covid-19, Virus no identificado U07.2                   &    17\\\\\n\t 2024 & 36 & Crisis obstructiva bronquial (J40-J46)                  &  2264\\\\\n\t 2024 & 36 & HOSPITALIZACIONES COVID-19, VIRUS IDENTIFICADO U07.1    &     0\\\\\n\t 2024 & 36 & HOSPITALIZACIONES COVID-19, VIRUS NO IDENTIFICADO U07.2 &     0\\\\\n\t 2024 & 36 & HOSPITALIZACIONES POR CAUSAS SISTEMA RESPIRATORIO       &   993\\\\\n\t 2024 & 36 & IRA Alta (J00-J06)                                      & 36880\\\\\n\t 2024 & 36 & Influenza (J09-J11)                                     &   672\\\\\n\t 2024 & 36 & Neumonía (J12-J18)                                      &  3142\\\\\n\t 2024 & 36 & Otra causa respiratoria (J22, J30-J39, J47, J60-J98)    &  3553\\\\\n\t 2024 & 37 & Bronquitis/bronquiolitis aguda (J20-J21)                &  1949\\\\\n\t 2024 & 37 & Covid-19, Virus identificado U07.1                      &     0\\\\\n\t 2024 & 37 & Covid-19, Virus no identificado U07.2                   &     1\\\\\n\t 2024 & 37 & Crisis obstructiva bronquial (J40-J46)                  &   351\\\\\n\t 2024 & 37 & HOSPITALIZACIONES COVID-19, VIRUS IDENTIFICADO U07.1    &     0\\\\\n\t 2024 & 37 & HOSPITALIZACIONES COVID-19, VIRUS NO IDENTIFICADO U07.2 &     0\\\\\n\t 2024 & 37 & HOSPITALIZACIONES POR CAUSAS SISTEMA RESPIRATORIO       &   117\\\\\n\t 2024 & 37 & IRA Alta (J00-J06)                                      &  6390\\\\\n\t 2024 & 37 & Influenza (J09-J11)                                     &   107\\\\\n\t 2024 & 37 & Neumonía (J12-J18)                                      &   461\\\\\n\t 2024 & 37 & Otra causa respiratoria (J22, J30-J39, J47, J60-J98)    &   641\\\\\n\\end{tabular}\n",
            "text/plain": [
              "     Anio SemanaEstadistica\n",
              "1    2014 1                \n",
              "2    2014 1                \n",
              "3    2014 1                \n",
              "4    2014 1                \n",
              "5    2014 1                \n",
              "6    2014 1                \n",
              "7    2014 1                \n",
              "8    2014 2                \n",
              "9    2014 2                \n",
              "10   2014 2                \n",
              "11   2014 2                \n",
              "12   2014 2                \n",
              "13   2014 2                \n",
              "14   2014 2                \n",
              "15   2014 3                \n",
              "16   2014 3                \n",
              "17   2014 3                \n",
              "18   2014 3                \n",
              "19   2014 3                \n",
              "20   2014 3                \n",
              "21   2014 3                \n",
              "22   2014 4                \n",
              "23   2014 4                \n",
              "24   2014 4                \n",
              "25   2014 4                \n",
              "26   2014 4                \n",
              "27   2014 4                \n",
              "28   2014 4                \n",
              "29   2014 5                \n",
              "30   2014 5                \n",
              "⋮    ⋮    ⋮                \n",
              "5042 2024 35               \n",
              "5043 2024 35               \n",
              "5044 2024 35               \n",
              "5045 2024 35               \n",
              "5046 2024 35               \n",
              "5047 2024 35               \n",
              "5048 2024 35               \n",
              "5049 2024 35               \n",
              "5050 2024 36               \n",
              "5051 2024 36               \n",
              "5052 2024 36               \n",
              "5053 2024 36               \n",
              "5054 2024 36               \n",
              "5055 2024 36               \n",
              "5056 2024 36               \n",
              "5057 2024 36               \n",
              "5058 2024 36               \n",
              "5059 2024 36               \n",
              "5060 2024 36               \n",
              "5061 2024 37               \n",
              "5062 2024 37               \n",
              "5063 2024 37               \n",
              "5064 2024 37               \n",
              "5065 2024 37               \n",
              "5066 2024 37               \n",
              "5067 2024 37               \n",
              "5068 2024 37               \n",
              "5069 2024 37               \n",
              "5070 2024 37               \n",
              "5071 2024 37               \n",
              "     Causa                                                   Total\n",
              "1    Bronquitis/bronquiolitis aguda (J20-J21)                 2364\n",
              "2    Crisis obstructiva bronquial (J40-J46)                   1160\n",
              "3    HOSPITALIZACIONES POR CAUSAS SISTEMA RESPIRATORIO         300\n",
              "4    IRA Alta (J00-J06)                                      13389\n",
              "5    Influenza (J09-J11)                                       179\n",
              "6    Neumonía (J12-J18)                                        659\n",
              "7    Otra causa respiratoria (J22, J30-J39, J47, J60-J98)     3278\n",
              "8    Bronquitis/bronquiolitis aguda (J20-J21)                 3679\n",
              "9    Crisis obstructiva bronquial (J40-J46)                   1992\n",
              "10   HOSPITALIZACIONES POR CAUSAS SISTEMA RESPIRATORIO         529\n",
              "11   IRA Alta (J00-J06)                                      21712\n",
              "12   Influenza (J09-J11)                                       309\n",
              "13   Neumonía (J12-J18)                                       1137\n",
              "14   Otra causa respiratoria (J22, J30-J39, J47, J60-J98)     5145\n",
              "15   Bronquitis/bronquiolitis aguda (J20-J21)                 3013\n",
              "16   Crisis obstructiva bronquial (J40-J46)                   1593\n",
              "17   HOSPITALIZACIONES POR CAUSAS SISTEMA RESPIRATORIO         459\n",
              "18   IRA Alta (J00-J06)                                      19221\n",
              "19   Influenza (J09-J11)                                       208\n",
              "20   Neumonía (J12-J18)                                       1018\n",
              "21   Otra causa respiratoria (J22, J30-J39, J47, J60-J98)     4535\n",
              "22   Bronquitis/bronquiolitis aguda (J20-J21)                 2763\n",
              "23   Crisis obstructiva bronquial (J40-J46)                   1498\n",
              "24   HOSPITALIZACIONES POR CAUSAS SISTEMA RESPIRATORIO         447\n",
              "25   IRA Alta (J00-J06)                                      18595\n",
              "26   Influenza (J09-J11)                                       195\n",
              "27   Neumonía (J12-J18)                                        922\n",
              "28   Otra causa respiratoria (J22, J30-J39, J47, J60-J98)     4523\n",
              "29   Bronquitis/bronquiolitis aguda (J20-J21)                 2655\n",
              "30   Crisis obstructiva bronquial (J40-J46)                   1338\n",
              "⋮    ⋮                                                       ⋮    \n",
              "5042 Crisis obstructiva bronquial (J40-J46)                   2259\n",
              "5043 HOSPITALIZACIONES COVID-19, VIRUS IDENTIFICADO U07.1        1\n",
              "5044 HOSPITALIZACIONES COVID-19, VIRUS NO IDENTIFICADO U07.2     0\n",
              "5045 HOSPITALIZACIONES POR CAUSAS SISTEMA RESPIRATORIO         998\n",
              "5046 IRA Alta (J00-J06)                                      36855\n",
              "5047 Influenza (J09-J11)                                       588\n",
              "5048 Neumonía (J12-J18)                                       2965\n",
              "5049 Otra causa respiratoria (J22, J30-J39, J47, J60-J98)     3497\n",
              "5050 Bronquitis/bronquiolitis aguda (J20-J21)                10992\n",
              "5051 Covid-19, Virus identificado U07.1                          6\n",
              "5052 Covid-19, Virus no identificado U07.2                      17\n",
              "5053 Crisis obstructiva bronquial (J40-J46)                   2264\n",
              "5054 HOSPITALIZACIONES COVID-19, VIRUS IDENTIFICADO U07.1        0\n",
              "5055 HOSPITALIZACIONES COVID-19, VIRUS NO IDENTIFICADO U07.2     0\n",
              "5056 HOSPITALIZACIONES POR CAUSAS SISTEMA RESPIRATORIO         993\n",
              "5057 IRA Alta (J00-J06)                                      36880\n",
              "5058 Influenza (J09-J11)                                       672\n",
              "5059 Neumonía (J12-J18)                                       3142\n",
              "5060 Otra causa respiratoria (J22, J30-J39, J47, J60-J98)     3553\n",
              "5061 Bronquitis/bronquiolitis aguda (J20-J21)                 1949\n",
              "5062 Covid-19, Virus identificado U07.1                          0\n",
              "5063 Covid-19, Virus no identificado U07.2                       1\n",
              "5064 Crisis obstructiva bronquial (J40-J46)                    351\n",
              "5065 HOSPITALIZACIONES COVID-19, VIRUS IDENTIFICADO U07.1        0\n",
              "5066 HOSPITALIZACIONES COVID-19, VIRUS NO IDENTIFICADO U07.2     0\n",
              "5067 HOSPITALIZACIONES POR CAUSAS SISTEMA RESPIRATORIO         117\n",
              "5068 IRA Alta (J00-J06)                                       6390\n",
              "5069 Influenza (J09-J11)                                       107\n",
              "5070 Neumonía (J12-J18)                                        461\n",
              "5071 Otra causa respiratoria (J22, J30-J39, J47, J60-J98)      641"
            ]
          },
          "metadata": {}
        }
      ]
    },
    {
      "cell_type": "code",
      "source": [
        "df_agrupado <- df_urgr_esp_semanal %>%\n",
        "  group_by(Anio) %>%\n",
        "  summarise(Total = sum(NumTotal, na.rm = TRUE))\n",
        "options(repr.plot.width = 15, repr.plot.height = 15)\n",
        "ggplot(df_agrupado, aes(x = factor(Anio), y = Total)) +\n",
        "  geom_bar(stat = \"identity\", fill = \"steelblue\") +\n",
        "  labs(x = \"Año\", y = \"Total Urgencias\", title = \"Urgencias por Año\") +\n",
        "  theme_minimal()"
      ],
      "metadata": {
        "id": "BxOCdmv31mZe",
        "outputId": "0a09ea57-5f4a-4779-949e-6dc72509dc16",
        "colab": {
          "base_uri": "https://localhost:8080/",
          "height": 917
        }
      },
      "execution_count": null,
      "outputs": [
        {
          "output_type": "display_data",
          "data": {
            "text/plain": [
              "plot without title"
            ],
            "image/png": "[encoded data removed]"
          },
          "metadata": {
            "image/png": {
              "width": 900,
              "height": 900
            }
          }
        }
      ]
    },
    {
      "cell_type": "code",
      "source": [
        "options(repr.plot.width = 15, repr.plot.height = 15)\n",
        "ggplot(df_urgr_esp_semanal, aes(x=Causa, y= NumTotal)) + geom_bar(stat=\"identity\") +\n",
        "theme(axis.text.x = element_text(angle = 75, vjust = .5))"
      ],
      "metadata": {
        "colab": {
          "base_uri": "https://localhost:8080/",
          "height": 917
        },
        "id": "KwBvVWeB1erT",
        "outputId": "7a325ba9-464e-48cd-b32f-035a905b11e9"
      },
      "execution_count": null,
      "outputs": [
        {
          "output_type": "display_data",
          "data": {
            "text/plain": [
              "plot without title"
            ],
            "image/png": "[encoded data removed]"
          },
          "metadata": {
            "image/png": {
              "width": 900,
              "height": 900
            }
          }
        }
      ]
    }
  ]
}