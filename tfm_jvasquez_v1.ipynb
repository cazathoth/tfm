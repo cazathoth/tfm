{
  "nbformat": 4,
  "nbformat_minor": 0,
  "metadata": {
    "colab": {
      "provenance": [],
      "authorship_tag": "ABX9TyMHsEZGf+bp+MAg2u+OIe9i",
      "include_colab_link": true
    },
    "kernelspec": {
      "name": "ir",
      "display_name": "R"
    },
    "language_info": {
      "name": "R"
    }
  },
  "cells": [
    {
      "cell_type": "markdown",
      "metadata": {
        "id": "view-in-github",
        "colab_type": "text"
      },
      "source": [
        "<a href=\"https://colab.research.google.com/github/cazathoth/tfm/blob/main/tfm_jvasquez_v1.ipynb\" target=\"_parent\"><img src=\"https://colab.research.google.com/assets/colab-badge.svg\" alt=\"Open In Colab\"/></a>"
      ]
    },
    {
      "cell_type": "code",
      "execution_count": 1,
      "metadata": {
        "colab": {
          "base_uri": "https://localhost:8080/"
        },
        "collapsed": true,
        "id": "dYQtmnm-tU_g",
        "outputId": "1d5cf2e7-156e-4b5d-c32e-3e82d0efb908"
      },
      "outputs": [
        {
          "output_type": "stream",
          "name": "stderr",
          "text": [
            "Installing package into ‘/usr/local/lib/R/site-library’\n",
            "(as ‘lib’ is unspecified)\n",
            "\n",
            "Installing package into ‘/usr/local/lib/R/site-library’\n",
            "(as ‘lib’ is unspecified)\n",
            "\n",
            "also installing the dependency ‘assertthat’\n",
            "\n",
            "\n",
            "Installing package into ‘/usr/local/lib/R/site-library’\n",
            "(as ‘lib’ is unspecified)\n",
            "\n"
          ]
        }
      ],
      "source": [
        "#descarga librerias.\n",
        "install.packages(\"tidyverse\")\n",
        "install.packages(\"arrow\")\n",
        "install.packages(\"lubridate\")\n",
        "#install.packages('devtools')\n",
        "#devtools::install_github('catboost/catboost', subdir = 'catboost/R-package')"
      ]
    },
    {
      "cell_type": "code",
      "source": [
        "#cargo librerias a utilizar.\n",
        "library(\"tidyverse\")\n",
        "library(\"arrow\")\n",
        "library(\"lubridate\")\n",
        "#library(\"catboost\")"
      ],
      "metadata": {
        "collapsed": true,
        "id": "nF9tJ2Z2tcfR",
        "colab": {
          "base_uri": "https://localhost:8080/"
        },
        "outputId": "672d0b8c-3cf2-4433-d588-73e2e9722bb5"
      },
      "execution_count": 2,
      "outputs": [
        {
          "output_type": "stream",
          "name": "stderr",
          "text": [
            "── \u001b[1mAttaching core tidyverse packages\u001b[22m ──────────────────────── tidyverse 2.0.0 ──\n",
            "\u001b[32m✔\u001b[39m \u001b[34mdplyr    \u001b[39m 1.1.4     \u001b[32m✔\u001b[39m \u001b[34mreadr    \u001b[39m 2.1.5\n",
            "\u001b[32m✔\u001b[39m \u001b[34mforcats  \u001b[39m 1.0.0     \u001b[32m✔\u001b[39m \u001b[34mstringr  \u001b[39m 1.5.1\n",
            "\u001b[32m✔\u001b[39m \u001b[34mggplot2  \u001b[39m 3.5.1     \u001b[32m✔\u001b[39m \u001b[34mtibble   \u001b[39m 3.2.1\n",
            "\u001b[32m✔\u001b[39m \u001b[34mlubridate\u001b[39m 1.9.3     \u001b[32m✔\u001b[39m \u001b[34mtidyr    \u001b[39m 1.3.1\n",
            "\u001b[32m✔\u001b[39m \u001b[34mpurrr    \u001b[39m 1.0.2     \n",
            "── \u001b[1mConflicts\u001b[22m ────────────────────────────────────────── tidyverse_conflicts() ──\n",
            "\u001b[31m✖\u001b[39m \u001b[34mdplyr\u001b[39m::\u001b[32mfilter()\u001b[39m masks \u001b[34mstats\u001b[39m::filter()\n",
            "\u001b[31m✖\u001b[39m \u001b[34mdplyr\u001b[39m::\u001b[32mlag()\u001b[39m    masks \u001b[34mstats\u001b[39m::lag()\n",
            "\u001b[36mℹ\u001b[39m Use the conflicted package (\u001b[3m\u001b[34m<http://conflicted.r-lib.org/>\u001b[39m\u001b[23m) to force all conflicts to become errors\n",
            "\n",
            "Attaching package: ‘arrow’\n",
            "\n",
            "\n",
            "The following object is masked from ‘package:lubridate’:\n",
            "\n",
            "    duration\n",
            "\n",
            "\n",
            "The following object is masked from ‘package:utils’:\n",
            "\n",
            "    timestamp\n",
            "\n",
            "\n"
          ]
        }
      ]
    },
    {
      "cell_type": "code",
      "source": [
        "#creo directorio y descargo dataset con datos de urgencias respiratorias\n",
        "dir.create(\"descargas\")\n",
        "url <- \"https://datos.gob.cl/dataset/606ef5bb-11d1-475b-b69f-b980da5757f4/resource/ae6c9887-106d-4e98-8875-40bf2b836041/download/at_urg_respiratorio_semanal.parquet\"\n",
        "nombre_temporal <- \"descargas/at_urg_respiratorio_semanal.parquet\"\n",
        "download.file(url, nombre_temporal)"
      ],
      "metadata": {
        "id": "dxpqJfpYxZsn"
      },
      "execution_count": 3,
      "outputs": []
    },
    {
      "cell_type": "code",
      "source": [
        "#Descargo datos meteorologicos- temperatura\n",
        "url <- \"https://raw.githubusercontent.com/cazathoth/data/9ed2ff302d64b81e79eab693e77d12f805ed65ba/MERGE_XXXX_DiarioTs_.csv\"\n",
        "nombre_temporal <- \"descargas/MERGE_XXXX_DiarioTs_.csv\"\n",
        "download.file(url, nombre_temporal)"
      ],
      "metadata": {
        "id": "B5FJdDWXO5fT"
      },
      "execution_count": 4,
      "outputs": []
    },
    {
      "cell_type": "code",
      "source": [
        "#Descargo datos meteorologicos- precipitaciones\n",
        "url <- \"https://raw.githubusercontent.com/cazathoth/data/43bad08be793c38c993d524d182dcb2597e14714/MERGE_DiarioRR.csv\"\n",
        "nombre_temporal <- \"descargas/MERGE_DiarioRR.csv\"\n",
        "download.file(url, nombre_temporal)"
      ],
      "metadata": {
        "id": "hbru5hT8xRMn"
      },
      "execution_count": 5,
      "outputs": []
    },
    {
      "cell_type": "code",
      "source": [
        "#Descargo zip datos meteorologicos- humedad\n",
        "url <- \"https://github.com/cazathoth/data/raw/69c13d02f49cd04ee16ab8063f872e2aa9b2632a/MERGE_Humedad.zip\"\n",
        "nombre_temporal <- \"descargas/MERGE_Humedad.zip\"\n",
        "download.file(url, nombre_temporal)\n",
        "#Descomprimo archivo zip\n",
        "unzip(\"/content/descargas/MERGE_Humedad.zip\", exdir = \"/content/descargas/\")"
      ],
      "metadata": {
        "id": "gvslMr7ohtBQ"
      },
      "execution_count": 6,
      "outputs": []
    },
    {
      "cell_type": "code",
      "source": [
        "#Descargo datos material particulado\n",
        "url <- \"https://raw.githubusercontent.com/cazathoth/data/6b00e8ef9b16a1802825e7914f998a6dd5e8f486/MERGE_MP.csv\"\n",
        "nombre_temporal <- \"descargas/MERGE_MP.csv\"\n",
        "download.file(url, nombre_temporal)"
      ],
      "metadata": {
        "id": "QjmvuWWo0aa6"
      },
      "execution_count": 422,
      "outputs": []
    },
    {
      "cell_type": "code",
      "source": [
        "# Creo data frame urgencias y filtro por comuna de Santiago, La Serena y Concepción, luego cargo los datos\n",
        "df_urgr_esp_semanal <- read_parquet(\"descargas/at_urg_respiratorio_semanal.parquet\", col_select = c ('EstablecimientoCodigo','ComunaCodigo', COMUNA='ComunaGlosa', 'Anio', NuSemana='SemanaEstadistica','OrdenCausa','Causa','NumTotal'))\n",
        "df_urgr_esp_semanal <- df_urgr_esp_semanal %>% filter (ComunaCodigo %in% c(4101, 8101, 13101) & OrdenCausa ==3)\n",
        "df_urgr_esp_semanal <- df_urgr_esp_semanal %>% rename(COMUNA = ComunaGlosa, NuSemana = SemanaEstadistica)\n",
        "head(df_urgr_esp_semanal,3)"
      ],
      "metadata": {
        "id": "Qb5IXYxZNZkc",
        "outputId": "0d570b6f-c8d7-4cbb-acb6-5a14a2b92405",
        "colab": {
          "base_uri": "https://localhost:8080/",
          "height": 192
        }
      },
      "execution_count": 741,
      "outputs": [
        {
          "output_type": "display_data",
          "data": {
            "text/html": [
              "<table class=\"dataframe\">\n",
              "<caption>A tibble: 3 × 8</caption>\n",
              "<thead>\n",
              "\t<tr><th scope=col>EstablecimientoCodigo</th><th scope=col>ComunaCodigo</th><th scope=col>COMUNA</th><th scope=col>Anio</th><th scope=col>NuSemana</th><th scope=col>OrdenCausa</th><th scope=col>Causa</th><th scope=col>NumTotal</th></tr>\n",
              "\t<tr><th scope=col>&lt;chr&gt;</th><th scope=col>&lt;chr&gt;</th><th scope=col>&lt;chr&gt;</th><th scope=col>&lt;int&gt;</th><th scope=col>&lt;int&gt;</th><th scope=col>&lt;int&gt;</th><th scope=col>&lt;chr&gt;</th><th scope=col>&lt;int&gt;</th></tr>\n",
              "</thead>\n",
              "<tbody>\n",
              "\t<tr><td>110110</td><td>13101</td><td>Santiago</td><td>2023</td><td>50</td><td>3</td><td>TOTAL CAUSAS SISTEMA RESPIRATORIO</td><td> 0</td></tr>\n",
              "\t<tr><td>111100</td><td>13101</td><td>Santiago</td><td>2021</td><td>52</td><td>3</td><td>TOTAL CAUSAS SISTEMA RESPIRATORIO</td><td> 0</td></tr>\n",
              "\t<tr><td>110100</td><td>13101</td><td>Santiago</td><td>2017</td><td>46</td><td>3</td><td>TOTAL CAUSAS SISTEMA RESPIRATORIO</td><td>68</td></tr>\n",
              "</tbody>\n",
              "</table>\n"
            ],
            "text/markdown": "\nA tibble: 3 × 8\n\n| EstablecimientoCodigo &lt;chr&gt; | ComunaCodigo &lt;chr&gt; | COMUNA &lt;chr&gt; | Anio &lt;int&gt; | NuSemana &lt;int&gt; | OrdenCausa &lt;int&gt; | Causa &lt;chr&gt; | NumTotal &lt;int&gt; |\n|---|---|---|---|---|---|---|---|\n| 110110 | 13101 | Santiago | 2023 | 50 | 3 | TOTAL CAUSAS SISTEMA RESPIRATORIO |  0 |\n| 111100 | 13101 | Santiago | 2021 | 52 | 3 | TOTAL CAUSAS SISTEMA RESPIRATORIO |  0 |\n| 110100 | 13101 | Santiago | 2017 | 46 | 3 | TOTAL CAUSAS SISTEMA RESPIRATORIO | 68 |\n\n",
            "text/latex": "A tibble: 3 × 8\n\\begin{tabular}{llllllll}\n EstablecimientoCodigo & ComunaCodigo & COMUNA & Anio & NuSemana & OrdenCausa & Causa & NumTotal\\\\\n <chr> & <chr> & <chr> & <int> & <int> & <int> & <chr> & <int>\\\\\n\\hline\n\t 110110 & 13101 & Santiago & 2023 & 50 & 3 & TOTAL CAUSAS SISTEMA RESPIRATORIO &  0\\\\\n\t 111100 & 13101 & Santiago & 2021 & 52 & 3 & TOTAL CAUSAS SISTEMA RESPIRATORIO &  0\\\\\n\t 110100 & 13101 & Santiago & 2017 & 46 & 3 & TOTAL CAUSAS SISTEMA RESPIRATORIO & 68\\\\\n\\end{tabular}\n",
            "text/plain": [
              "  EstablecimientoCodigo ComunaCodigo COMUNA   Anio NuSemana OrdenCausa\n",
              "1 110110                13101        Santiago 2023 50       3         \n",
              "2 111100                13101        Santiago 2021 52       3         \n",
              "3 110100                13101        Santiago 2017 46       3         \n",
              "  Causa                             NumTotal\n",
              "1 TOTAL CAUSAS SISTEMA RESPIRATORIO  0      \n",
              "2 TOTAL CAUSAS SISTEMA RESPIRATORIO  0      \n",
              "3 TOTAL CAUSAS SISTEMA RESPIRATORIO 68      "
            ]
          },
          "metadata": {}
        }
      ]
    },
    {
      "cell_type": "code",
      "source": [
        "#ano_base <- \"2014-01-01\"\n",
        "#df_datos_temperatura <- read_delim(\"descargas/MERGE_XXXX_DiarioTs_.csv\", delim=\";\",col_select = c('CodigoNacional','momento','MediaCli_Valor','Maxima_Valor','Minima_Valor'), col_types = cols(momento = col_date(format = \"%d-%m-%Y %H:%M:%S\")))\n",
        "#df_datos_temperatura <- df_datos_temperatura %>% filter (momento > ano_base)\n",
        "#head(df_datos_temperatura,15)"
      ],
      "metadata": {
        "id": "a5R_eoKW13Td"
      },
      "execution_count": 742,
      "outputs": []
    },
    {
      "cell_type": "code",
      "source": [
        "#Cargo data frame temperatura y le cargo datos\n",
        "#df_datos_temperatura <- read.csv(\"descargas/MERGE_XXXX_DiarioTs_.csv\", header= TRUE, sep=\";\")\n",
        "df_datos_temperatura <- read_delim(\"descargas/MERGE_XXXX_DiarioTs_.csv\", delim=\";\",col_select = c('CodigoNacional','momento','MediaCli_Valor','Maxima_Valor','Minima_Valor'))\n",
        "head(df_datos_temperatura,3)"
      ],
      "metadata": {
        "id": "kazvPllqQygW",
        "outputId": "47ffcdd4-27b9-4774-e75d-58a34229353a",
        "colab": {
          "base_uri": "https://localhost:8080/",
          "height": 331
        }
      },
      "execution_count": 743,
      "outputs": [
        {
          "output_type": "stream",
          "name": "stderr",
          "text": [
            "\u001b[1mRows: \u001b[22m\u001b[34m74539\u001b[39m \u001b[1mColumns: \u001b[22m\u001b[34m5\u001b[39m\n",
            "\u001b[36m──\u001b[39m \u001b[1mColumn specification\u001b[22m \u001b[36m────────────────────────────────────────────────────────\u001b[39m\n",
            "\u001b[1mDelimiter:\u001b[22m \";\"\n",
            "\u001b[31mchr\u001b[39m (1): momento\n",
            "\u001b[32mdbl\u001b[39m (4): CodigoNacional, MediaCli_Valor, Maxima_Valor, Minima_Valor\n",
            "\n",
            "\u001b[36mℹ\u001b[39m Use `spec()` to retrieve the full column specification for this data.\n",
            "\u001b[36mℹ\u001b[39m Specify the column types or set `show_col_types = FALSE` to quiet this message.\n"
          ]
        },
        {
          "output_type": "display_data",
          "data": {
            "text/html": [
              "<table class=\"dataframe\">\n",
              "<caption>A tibble: 3 × 5</caption>\n",
              "<thead>\n",
              "\t<tr><th scope=col>CodigoNacional</th><th scope=col>momento</th><th scope=col>MediaCli_Valor</th><th scope=col>Maxima_Valor</th><th scope=col>Minima_Valor</th></tr>\n",
              "\t<tr><th scope=col>&lt;dbl&gt;</th><th scope=col>&lt;chr&gt;</th><th scope=col>&lt;dbl&gt;</th><th scope=col>&lt;dbl&gt;</th><th scope=col>&lt;dbl&gt;</th></tr>\n",
              "</thead>\n",
              "<tbody>\n",
              "\t<tr><td>290004</td><td>01-01-1954 12:00:00</td><td>16.5</td><td>20.6</td><td>12.3</td></tr>\n",
              "\t<tr><td>290004</td><td>02-01-1954 12:00:00</td><td>17.1</td><td>20.4</td><td>13.9</td></tr>\n",
              "\t<tr><td>290004</td><td>03-01-1954 12:00:00</td><td>15.1</td><td>20.0</td><td>10.2</td></tr>\n",
              "</tbody>\n",
              "</table>\n"
            ],
            "text/markdown": "\nA tibble: 3 × 5\n\n| CodigoNacional &lt;dbl&gt; | momento &lt;chr&gt; | MediaCli_Valor &lt;dbl&gt; | Maxima_Valor &lt;dbl&gt; | Minima_Valor &lt;dbl&gt; |\n|---|---|---|---|---|\n| 290004 | 01-01-1954 12:00:00 | 16.5 | 20.6 | 12.3 |\n| 290004 | 02-01-1954 12:00:00 | 17.1 | 20.4 | 13.9 |\n| 290004 | 03-01-1954 12:00:00 | 15.1 | 20.0 | 10.2 |\n\n",
            "text/latex": "A tibble: 3 × 5\n\\begin{tabular}{lllll}\n CodigoNacional & momento & MediaCli\\_Valor & Maxima\\_Valor & Minima\\_Valor\\\\\n <dbl> & <chr> & <dbl> & <dbl> & <dbl>\\\\\n\\hline\n\t 290004 & 01-01-1954 12:00:00 & 16.5 & 20.6 & 12.3\\\\\n\t 290004 & 02-01-1954 12:00:00 & 17.1 & 20.4 & 13.9\\\\\n\t 290004 & 03-01-1954 12:00:00 & 15.1 & 20.0 & 10.2\\\\\n\\end{tabular}\n",
            "text/plain": [
              "  CodigoNacional momento             MediaCli_Valor Maxima_Valor Minima_Valor\n",
              "1 290004         01-01-1954 12:00:00 16.5           20.6         12.3        \n",
              "2 290004         02-01-1954 12:00:00 17.1           20.4         13.9        \n",
              "3 290004         03-01-1954 12:00:00 15.1           20.0         10.2        "
            ]
          },
          "metadata": {}
        }
      ]
    },
    {
      "cell_type": "code",
      "source": [
        "#Cargo data frame humedad y le cargo datos\n",
        "df_datos_Humedad <- read.csv(\"descargas/MERGE_Humedad.csv\", header= TRUE, sep=\";\")\n",
        "head(df_datos_Humedad,3)"
      ],
      "metadata": {
        "id": "MiPfpCRzx_iP",
        "colab": {
          "base_uri": "https://localhost:8080/",
          "height": 192
        },
        "outputId": "61c4ea78-d8a7-4745-a8f1-ac204adcfccb"
      },
      "execution_count": 744,
      "outputs": [
        {
          "output_type": "display_data",
          "data": {
            "text/html": [
              "<table class=\"dataframe\">\n",
              "<caption>A data.frame: 3 × 3</caption>\n",
              "<thead>\n",
              "\t<tr><th></th><th scope=col>CodigoNacional</th><th scope=col>momento</th><th scope=col>HR_Valor</th></tr>\n",
              "\t<tr><th></th><th scope=col>&lt;int&gt;</th><th scope=col>&lt;chr&gt;</th><th scope=col>&lt;dbl&gt;</th></tr>\n",
              "</thead>\n",
              "<tbody>\n",
              "\t<tr><th scope=row>1</th><td>290004</td><td>01-01-1954 10:00:00</td><td>NA</td></tr>\n",
              "\t<tr><th scope=row>2</th><td>290004</td><td>01-01-1954 11:00:00</td><td>NA</td></tr>\n",
              "\t<tr><th scope=row>3</th><td>290004</td><td>01-01-1954 12:00:00</td><td>NA</td></tr>\n",
              "</tbody>\n",
              "</table>\n"
            ],
            "text/markdown": "\nA data.frame: 3 × 3\n\n| <!--/--> | CodigoNacional &lt;int&gt; | momento &lt;chr&gt; | HR_Valor &lt;dbl&gt; |\n|---|---|---|---|\n| 1 | 290004 | 01-01-1954 10:00:00 | NA |\n| 2 | 290004 | 01-01-1954 11:00:00 | NA |\n| 3 | 290004 | 01-01-1954 12:00:00 | NA |\n\n",
            "text/latex": "A data.frame: 3 × 3\n\\begin{tabular}{r|lll}\n  & CodigoNacional & momento & HR\\_Valor\\\\\n  & <int> & <chr> & <dbl>\\\\\n\\hline\n\t1 & 290004 & 01-01-1954 10:00:00 & NA\\\\\n\t2 & 290004 & 01-01-1954 11:00:00 & NA\\\\\n\t3 & 290004 & 01-01-1954 12:00:00 & NA\\\\\n\\end{tabular}\n",
            "text/plain": [
              "  CodigoNacional momento             HR_Valor\n",
              "1 290004         01-01-1954 10:00:00 NA      \n",
              "2 290004         01-01-1954 11:00:00 NA      \n",
              "3 290004         01-01-1954 12:00:00 NA      "
            ]
          },
          "metadata": {}
        }
      ]
    },
    {
      "cell_type": "code",
      "source": [
        "#Cargo data frame precipitaciones y le cargo datos\n",
        "#df_datos_Precip <- read.csv(\"descargas/MERGE_DiarioRR.csv\", header= TRUE, sep=\";\")\n",
        "df_datos_Precip <- read_delim(\"descargas/MERGE_DiarioRR.csv\", delim=\";\",col_select = c('CodigoNacional','momento','Total_Valor'))\n",
        "head(df_datos_Precip,3)"
      ],
      "metadata": {
        "id": "fVRhncVIQRM7",
        "colab": {
          "base_uri": "https://localhost:8080/",
          "height": 331
        },
        "outputId": "86e64b45-f38b-4468-db04-283d20103142"
      },
      "execution_count": 745,
      "outputs": [
        {
          "output_type": "stream",
          "name": "stderr",
          "text": [
            "\u001b[1mRows: \u001b[22m\u001b[34m66161\u001b[39m \u001b[1mColumns: \u001b[22m\u001b[34m3\u001b[39m\n",
            "\u001b[36m──\u001b[39m \u001b[1mColumn specification\u001b[22m \u001b[36m────────────────────────────────────────────────────────\u001b[39m\n",
            "\u001b[1mDelimiter:\u001b[22m \";\"\n",
            "\u001b[31mchr\u001b[39m (1): momento\n",
            "\u001b[32mdbl\u001b[39m (2): CodigoNacional, Total_Valor\n",
            "\n",
            "\u001b[36mℹ\u001b[39m Use `spec()` to retrieve the full column specification for this data.\n",
            "\u001b[36mℹ\u001b[39m Specify the column types or set `show_col_types = FALSE` to quiet this message.\n"
          ]
        },
        {
          "output_type": "display_data",
          "data": {
            "text/html": [
              "<table class=\"dataframe\">\n",
              "<caption>A tibble: 3 × 3</caption>\n",
              "<thead>\n",
              "\t<tr><th scope=col>CodigoNacional</th><th scope=col>momento</th><th scope=col>Total_Valor</th></tr>\n",
              "\t<tr><th scope=col>&lt;dbl&gt;</th><th scope=col>&lt;chr&gt;</th><th scope=col>&lt;dbl&gt;</th></tr>\n",
              "</thead>\n",
              "<tbody>\n",
              "\t<tr><td>290004</td><td>01-01-1954 12:00:00</td><td>0</td></tr>\n",
              "\t<tr><td>290004</td><td>02-01-1954 12:00:00</td><td>0</td></tr>\n",
              "\t<tr><td>290004</td><td>03-01-1954 12:00:00</td><td>0</td></tr>\n",
              "</tbody>\n",
              "</table>\n"
            ],
            "text/markdown": "\nA tibble: 3 × 3\n\n| CodigoNacional &lt;dbl&gt; | momento &lt;chr&gt; | Total_Valor &lt;dbl&gt; |\n|---|---|---|\n| 290004 | 01-01-1954 12:00:00 | 0 |\n| 290004 | 02-01-1954 12:00:00 | 0 |\n| 290004 | 03-01-1954 12:00:00 | 0 |\n\n",
            "text/latex": "A tibble: 3 × 3\n\\begin{tabular}{lll}\n CodigoNacional & momento & Total\\_Valor\\\\\n <dbl> & <chr> & <dbl>\\\\\n\\hline\n\t 290004 & 01-01-1954 12:00:00 & 0\\\\\n\t 290004 & 02-01-1954 12:00:00 & 0\\\\\n\t 290004 & 03-01-1954 12:00:00 & 0\\\\\n\\end{tabular}\n",
            "text/plain": [
              "  CodigoNacional momento             Total_Valor\n",
              "1 290004         01-01-1954 12:00:00 0          \n",
              "2 290004         02-01-1954 12:00:00 0          \n",
              "3 290004         03-01-1954 12:00:00 0          "
            ]
          },
          "metadata": {}
        }
      ]
    },
    {
      "cell_type": "code",
      "source": [
        "#Cargo data frame material particulado y le cargo datos\n",
        "#df_datos_mp25 <- read.csv(\"descargas/MERGE_MP.csv\", header= TRUE, sep=\";\")\n",
        "df_datos_mp25 <- read_delim(\"descargas/MERGE_MP.csv\", delim=\";\",col_select = c('COMUNA', momento = 'FECHA(YYYYMMDD)', registrosValidados='Registros validados', registrosPreliminares='Registros preliminares', registrosNoValidados='Registros no validados' ))\n",
        " df_datos_mp25 <-df_datos_mp25%>%unite(totalMP25, c(registrosValidados,registrosPreliminares, registrosNoValidados), na.rm = TRUE)\n",
        " df_datos_mp25$totalMP25 <- as.double(df_datos_mp25$totalMP25)\n",
        "head(df_datos_mp25,3)"
      ],
      "metadata": {
        "id": "R9-WPc9O08M2",
        "colab": {
          "base_uri": "https://localhost:8080/",
          "height": 331
        },
        "outputId": "321547bc-4e2f-4a80-a4e5-bc60b352eb59"
      },
      "execution_count": 746,
      "outputs": [
        {
          "output_type": "stream",
          "name": "stderr",
          "text": [
            "\u001b[1mRows: \u001b[22m\u001b[34m18476\u001b[39m \u001b[1mColumns: \u001b[22m\u001b[34m5\u001b[39m\n",
            "\u001b[36m──\u001b[39m \u001b[1mColumn specification\u001b[22m \u001b[36m────────────────────────────────────────────────────────\u001b[39m\n",
            "\u001b[1mDelimiter:\u001b[22m \";\"\n",
            "\u001b[31mchr\u001b[39m (1): COMUNA\n",
            "\u001b[32mdbl\u001b[39m (4): Registros validados, Registros preliminares, Registros no validados...\n",
            "\n",
            "\u001b[36mℹ\u001b[39m Use `spec()` to retrieve the full column specification for this data.\n",
            "\u001b[36mℹ\u001b[39m Specify the column types or set `show_col_types = FALSE` to quiet this message.\n"
          ]
        },
        {
          "output_type": "display_data",
          "data": {
            "text/html": [
              "<table class=\"dataframe\">\n",
              "<caption>A tibble: 3 × 3</caption>\n",
              "<thead>\n",
              "\t<tr><th scope=col>COMUNA</th><th scope=col>momento</th><th scope=col>totalMP25</th></tr>\n",
              "\t<tr><th scope=col>&lt;chr&gt;</th><th scope=col>&lt;dbl&gt;</th><th scope=col>&lt;dbl&gt;</th></tr>\n",
              "</thead>\n",
              "<tbody>\n",
              "\t<tr><td>Concepcion</td><td>20090812</td><td>390.2810</td></tr>\n",
              "\t<tr><td>Concepcion</td><td>20090813</td><td> 68.5317</td></tr>\n",
              "\t<tr><td>Concepcion</td><td>20090814</td><td>319.4660</td></tr>\n",
              "</tbody>\n",
              "</table>\n"
            ],
            "text/markdown": "\nA tibble: 3 × 3\n\n| COMUNA &lt;chr&gt; | momento &lt;dbl&gt; | totalMP25 &lt;dbl&gt; |\n|---|---|---|\n| Concepcion | 20090812 | 390.2810 |\n| Concepcion | 20090813 |  68.5317 |\n| Concepcion | 20090814 | 319.4660 |\n\n",
            "text/latex": "A tibble: 3 × 3\n\\begin{tabular}{lll}\n COMUNA & momento & totalMP25\\\\\n <chr> & <dbl> & <dbl>\\\\\n\\hline\n\t Concepcion & 20090812 & 390.2810\\\\\n\t Concepcion & 20090813 &  68.5317\\\\\n\t Concepcion & 20090814 & 319.4660\\\\\n\\end{tabular}\n",
            "text/plain": [
              "  COMUNA     momento  totalMP25\n",
              "1 Concepcion 20090812 390.2810 \n",
              "2 Concepcion 20090813  68.5317 \n",
              "3 Concepcion 20090814 319.4660 "
            ]
          },
          "metadata": {}
        }
      ]
    },
    {
      "cell_type": "code",
      "source": [
        "#formateo fechas en material particulado 2.5.\n",
        "df_datos_mp25$momento <- format(as.Date(as.character(df_datos_mp25$momento),format=\"%Y%m%d\"), format=\"%d-%m-%Y\")\n",
        "#formateo fechas en temperaturas.\n",
        "df_datos_temperatura$momento<- format(as.Date(df_datos_temperatura$momento, format = \"%d-%m-%Y %H:%M:%S\"), format = \"%d-%m-%Y\")\n",
        "#formateo fechas en precipitaciones\n",
        "df_datos_Precip$momento<- format(as.Date(df_datos_Precip$momento, format = \"%d-%m-%Y %H:%M:%S\"), format = \"%d-%m-%Y\")\n",
        "#formateo fechas en humedad\n",
        "df_datos_Humedad$momento<- format(as.Date(df_datos_Humedad$momento, format = \"%d-%m-%Y %H:%M:%S\"), format = \"%d-%m-%Y\")"
      ],
      "metadata": {
        "id": "NjLU6UOu19iR"
      },
      "execution_count": 747,
      "outputs": []
    },
    {
      "cell_type": "code",
      "source": [
        "#Limpio filas con NA en todos los dataframe y chequeo contando posibles NA\n",
        "#df_urgr_esp_semanal <- na.omit(df_urgr_esp_semanal)\n",
        "#df_datos_temperatura <- na.omit(df_datos_temperatura)\n",
        "#df_datos_Precip <- na.omit(df_datos_Precip)\n",
        "#df_datos_Humedad <- na.omit(df_datos_Humedad)\n",
        "#df_datos_mp25 <- na.omit(df_datos_mp25)\n",
        "sum(!complete.cases(df_urgr_esp_semanal))\n",
        "sum(!complete.cases(df_datos_temperatura))\n",
        "sum(!complete.cases(df_datos_Precip))\n",
        "sum(!complete.cases(df_datos_Humedad))\n",
        "sum(!complete.cases(df_datos_mp25))"
      ],
      "metadata": {
        "colab": {
          "base_uri": "https://localhost:8080/",
          "height": 104
        },
        "id": "C7lSYtOa-Q6K",
        "outputId": "dba83d2c-f7af-49f8-b344-2541beaaf8d6"
      },
      "execution_count": 748,
      "outputs": [
        {
          "output_type": "display_data",
          "data": {
            "text/html": [
              "0"
            ],
            "text/markdown": "0",
            "text/latex": "0",
            "text/plain": [
              "[1] 0"
            ]
          },
          "metadata": {}
        },
        {
          "output_type": "display_data",
          "data": {
            "text/html": [
              "10026"
            ],
            "text/markdown": "10026",
            "text/latex": "10026",
            "text/plain": [
              "[1] 10026"
            ]
          },
          "metadata": {}
        },
        {
          "output_type": "display_data",
          "data": {
            "text/html": [
              "134"
            ],
            "text/markdown": "134",
            "text/latex": "134",
            "text/plain": [
              "[1] 134"
            ]
          },
          "metadata": {}
        },
        {
          "output_type": "display_data",
          "data": {
            "text/html": [
              "18269"
            ],
            "text/markdown": "18269",
            "text/latex": "18269",
            "text/plain": [
              "[1] 18269"
            ]
          },
          "metadata": {}
        },
        {
          "output_type": "display_data",
          "data": {
            "text/html": [
              "1183"
            ],
            "text/markdown": "1183",
            "text/latex": "1183",
            "text/plain": [
              "[1] 1183"
            ]
          },
          "metadata": {}
        }
      ]
    },
    {
      "cell_type": "code",
      "source": [
        "# agrupo urgencias respiratorias por año, semana y comuna y sumo el total de urgencias para la comuna.\n",
        "df_urgr_esp_semanal <-df_urgr_esp_semanal %>% group_by (COMUNA, Anio, NuSemana) %>% summarise(NumTotalUrg = sum(NumTotal, na.rm = TRUE)) %>%filter(Anio > 2013 & Anio < 2024)\n",
        "df_urgr_esp_semanal <- as.data.frame(df_urgr_esp_semanal)\n",
        "df_urgr_esp_semanal$COMUNA[df_urgr_esp_semanal$COMUNA == \"La Serena\"] <- \"LaSerena\"\n",
        "df_urgr_esp_semanal$COMUNA[df_urgr_esp_semanal$COMUNA == \"Concepción\"] <- \"Concepcion\"\n",
        "head(df_urgr_esp_semanal,3)"
      ],
      "metadata": {
        "id": "7FipNT-leBhx",
        "outputId": "d292ad40-229d-4cf4-850a-342925c234e6",
        "colab": {
          "base_uri": "https://localhost:8080/",
          "height": 227
        }
      },
      "execution_count": 749,
      "outputs": [
        {
          "output_type": "stream",
          "name": "stderr",
          "text": [
            "\u001b[1m\u001b[22m`summarise()` has grouped output by 'COMUNA', 'Anio'. You can override using\n",
            "the `.groups` argument.\n"
          ]
        },
        {
          "output_type": "display_data",
          "data": {
            "text/html": [
              "<table class=\"dataframe\">\n",
              "<caption>A data.frame: 3 × 4</caption>\n",
              "<thead>\n",
              "\t<tr><th></th><th scope=col>COMUNA</th><th scope=col>Anio</th><th scope=col>NuSemana</th><th scope=col>NumTotalUrg</th></tr>\n",
              "\t<tr><th></th><th scope=col>&lt;chr&gt;</th><th scope=col>&lt;int&gt;</th><th scope=col>&lt;int&gt;</th><th scope=col>&lt;int&gt;</th></tr>\n",
              "</thead>\n",
              "<tbody>\n",
              "\t<tr><th scope=row>1</th><td>Concepcion</td><td>2014</td><td>1</td><td>574</td></tr>\n",
              "\t<tr><th scope=row>2</th><td>Concepcion</td><td>2014</td><td>2</td><td>965</td></tr>\n",
              "\t<tr><th scope=row>3</th><td>Concepcion</td><td>2014</td><td>3</td><td>763</td></tr>\n",
              "</tbody>\n",
              "</table>\n"
            ],
            "text/markdown": "\nA data.frame: 3 × 4\n\n| <!--/--> | COMUNA &lt;chr&gt; | Anio &lt;int&gt; | NuSemana &lt;int&gt; | NumTotalUrg &lt;int&gt; |\n|---|---|---|---|---|\n| 1 | Concepcion | 2014 | 1 | 574 |\n| 2 | Concepcion | 2014 | 2 | 965 |\n| 3 | Concepcion | 2014 | 3 | 763 |\n\n",
            "text/latex": "A data.frame: 3 × 4\n\\begin{tabular}{r|llll}\n  & COMUNA & Anio & NuSemana & NumTotalUrg\\\\\n  & <chr> & <int> & <int> & <int>\\\\\n\\hline\n\t1 & Concepcion & 2014 & 1 & 574\\\\\n\t2 & Concepcion & 2014 & 2 & 965\\\\\n\t3 & Concepcion & 2014 & 3 & 763\\\\\n\\end{tabular}\n",
            "text/plain": [
              "  COMUNA     Anio NuSemana NumTotalUrg\n",
              "1 Concepcion 2014 1        574        \n",
              "2 Concepcion 2014 2        965        \n",
              "3 Concepcion 2014 3        763        "
            ]
          },
          "metadata": {}
        }
      ]
    },
    {
      "cell_type": "code",
      "source": [
        "#obtengo n° de semana de las fechas de mediciones (momento) y agrego columna al data frame temperatura\n",
        "semana<- epiweek(dmy(df_datos_temperatura$momento))\n",
        "ano <- year(dmy(df_datos_temperatura$momento))\n",
        "difTemp <- df_datos_temperatura$Maxima_Valor-df_datos_temperatura$Minima_Valor\n",
        "df_datos_temperatura <- cbind(df_datos_temperatura, NuSemana = semana)\n",
        "df_datos_temperatura <- cbind(df_datos_temperatura, Anio = ano)\n",
        "df_datos_temperatura <- cbind(df_datos_temperatura, difTemp = difTemp)\n",
        "head(df_datos_temperatura,3)"
      ],
      "metadata": {
        "id": "04c0mj5ylC5C",
        "colab": {
          "base_uri": "https://localhost:8080/",
          "height": 192
        },
        "outputId": "732b7914-304f-49d2-988d-78e99cdb0a8d"
      },
      "execution_count": 750,
      "outputs": [
        {
          "output_type": "display_data",
          "data": {
            "text/html": [
              "<table class=\"dataframe\">\n",
              "<caption>A data.frame: 3 × 8</caption>\n",
              "<thead>\n",
              "\t<tr><th></th><th scope=col>CodigoNacional</th><th scope=col>momento</th><th scope=col>MediaCli_Valor</th><th scope=col>Maxima_Valor</th><th scope=col>Minima_Valor</th><th scope=col>NuSemana</th><th scope=col>Anio</th><th scope=col>difTemp</th></tr>\n",
              "\t<tr><th></th><th scope=col>&lt;dbl&gt;</th><th scope=col>&lt;chr&gt;</th><th scope=col>&lt;dbl&gt;</th><th scope=col>&lt;dbl&gt;</th><th scope=col>&lt;dbl&gt;</th><th scope=col>&lt;dbl&gt;</th><th scope=col>&lt;dbl&gt;</th><th scope=col>&lt;dbl&gt;</th></tr>\n",
              "</thead>\n",
              "<tbody>\n",
              "\t<tr><th scope=row>1</th><td>290004</td><td>01-01-1954</td><td>16.5</td><td>20.6</td><td>12.3</td><td>52</td><td>1954</td><td>8.3</td></tr>\n",
              "\t<tr><th scope=row>2</th><td>290004</td><td>02-01-1954</td><td>17.1</td><td>20.4</td><td>13.9</td><td>52</td><td>1954</td><td>6.5</td></tr>\n",
              "\t<tr><th scope=row>3</th><td>290004</td><td>03-01-1954</td><td>15.1</td><td>20.0</td><td>10.2</td><td> 1</td><td>1954</td><td>9.8</td></tr>\n",
              "</tbody>\n",
              "</table>\n"
            ],
            "text/markdown": "\nA data.frame: 3 × 8\n\n| <!--/--> | CodigoNacional &lt;dbl&gt; | momento &lt;chr&gt; | MediaCli_Valor &lt;dbl&gt; | Maxima_Valor &lt;dbl&gt; | Minima_Valor &lt;dbl&gt; | NuSemana &lt;dbl&gt; | Anio &lt;dbl&gt; | difTemp &lt;dbl&gt; |\n|---|---|---|---|---|---|---|---|---|\n| 1 | 290004 | 01-01-1954 | 16.5 | 20.6 | 12.3 | 52 | 1954 | 8.3 |\n| 2 | 290004 | 02-01-1954 | 17.1 | 20.4 | 13.9 | 52 | 1954 | 6.5 |\n| 3 | 290004 | 03-01-1954 | 15.1 | 20.0 | 10.2 |  1 | 1954 | 9.8 |\n\n",
            "text/latex": "A data.frame: 3 × 8\n\\begin{tabular}{r|llllllll}\n  & CodigoNacional & momento & MediaCli\\_Valor & Maxima\\_Valor & Minima\\_Valor & NuSemana & Anio & difTemp\\\\\n  & <dbl> & <chr> & <dbl> & <dbl> & <dbl> & <dbl> & <dbl> & <dbl>\\\\\n\\hline\n\t1 & 290004 & 01-01-1954 & 16.5 & 20.6 & 12.3 & 52 & 1954 & 8.3\\\\\n\t2 & 290004 & 02-01-1954 & 17.1 & 20.4 & 13.9 & 52 & 1954 & 6.5\\\\\n\t3 & 290004 & 03-01-1954 & 15.1 & 20.0 & 10.2 &  1 & 1954 & 9.8\\\\\n\\end{tabular}\n",
            "text/plain": [
              "  CodigoNacional momento    MediaCli_Valor Maxima_Valor Minima_Valor NuSemana\n",
              "1 290004         01-01-1954 16.5           20.6         12.3         52      \n",
              "2 290004         02-01-1954 17.1           20.4         13.9         52      \n",
              "3 290004         03-01-1954 15.1           20.0         10.2          1      \n",
              "  Anio difTemp\n",
              "1 1954 8.3    \n",
              "2 1954 6.5    \n",
              "3 1954 9.8    "
            ]
          },
          "metadata": {}
        }
      ]
    },
    {
      "cell_type": "code",
      "source": [
        "# Obtengo la media y mediana, de la temperatura para cada semana en cada año.\n",
        "df_datos_temperatura_semanal <- df_datos_temperatura %>% group_by (CodigoNacional,Anio, NuSemana) %>% summarise(medianaClim = median(MediaCli_Valor, na.rm = TRUE),  difMaxMin = median(difTemp, na.rm = TRUE))\n",
        "#Convierto agrupación con media y mediana a data frame\n",
        "df_datos_temperatura_semanal <- as.data.frame (df_datos_temperatura_semanal)\n",
        "#filtro por todo aquellos años >= a 2014\n",
        "df_datos_temperatura_semanal <- df_datos_temperatura_semanal %>% filter(Anio > 2013 & Anio < 2024)\n",
        "head(df_datos_temperatura_semanal,3)\n",
        "\n"
      ],
      "metadata": {
        "id": "lNzHoXEeVd4E",
        "outputId": "c20c1a46-eac9-44cf-e37c-d7fc202c649a",
        "colab": {
          "base_uri": "https://localhost:8080/",
          "height": 227
        }
      },
      "execution_count": 751,
      "outputs": [
        {
          "output_type": "stream",
          "name": "stderr",
          "text": [
            "\u001b[1m\u001b[22m`summarise()` has grouped output by 'CodigoNacional', 'Anio'. You can override\n",
            "using the `.groups` argument.\n"
          ]
        },
        {
          "output_type": "display_data",
          "data": {
            "text/html": [
              "<table class=\"dataframe\">\n",
              "<caption>A data.frame: 3 × 5</caption>\n",
              "<thead>\n",
              "\t<tr><th></th><th scope=col>CodigoNacional</th><th scope=col>Anio</th><th scope=col>NuSemana</th><th scope=col>medianaClim</th><th scope=col>difMaxMin</th></tr>\n",
              "\t<tr><th></th><th scope=col>&lt;dbl&gt;</th><th scope=col>&lt;dbl&gt;</th><th scope=col>&lt;dbl&gt;</th><th scope=col>&lt;dbl&gt;</th><th scope=col>&lt;dbl&gt;</th></tr>\n",
              "</thead>\n",
              "<tbody>\n",
              "\t<tr><th scope=row>1</th><td>290004</td><td>2014</td><td>1</td><td>17.6</td><td>7.8</td></tr>\n",
              "\t<tr><th scope=row>2</th><td>290004</td><td>2014</td><td>2</td><td>17.4</td><td>7.5</td></tr>\n",
              "\t<tr><th scope=row>3</th><td>290004</td><td>2014</td><td>3</td><td>17.8</td><td>6.9</td></tr>\n",
              "</tbody>\n",
              "</table>\n"
            ],
            "text/markdown": "\nA data.frame: 3 × 5\n\n| <!--/--> | CodigoNacional &lt;dbl&gt; | Anio &lt;dbl&gt; | NuSemana &lt;dbl&gt; | medianaClim &lt;dbl&gt; | difMaxMin &lt;dbl&gt; |\n|---|---|---|---|---|---|\n| 1 | 290004 | 2014 | 1 | 17.6 | 7.8 |\n| 2 | 290004 | 2014 | 2 | 17.4 | 7.5 |\n| 3 | 290004 | 2014 | 3 | 17.8 | 6.9 |\n\n",
            "text/latex": "A data.frame: 3 × 5\n\\begin{tabular}{r|lllll}\n  & CodigoNacional & Anio & NuSemana & medianaClim & difMaxMin\\\\\n  & <dbl> & <dbl> & <dbl> & <dbl> & <dbl>\\\\\n\\hline\n\t1 & 290004 & 2014 & 1 & 17.6 & 7.8\\\\\n\t2 & 290004 & 2014 & 2 & 17.4 & 7.5\\\\\n\t3 & 290004 & 2014 & 3 & 17.8 & 6.9\\\\\n\\end{tabular}\n",
            "text/plain": [
              "  CodigoNacional Anio NuSemana medianaClim difMaxMin\n",
              "1 290004         2014 1        17.6        7.8      \n",
              "2 290004         2014 2        17.4        7.5      \n",
              "3 290004         2014 3        17.8        6.9      "
            ]
          },
          "metadata": {}
        }
      ]
    },
    {
      "cell_type": "code",
      "source": [
        "#obtengo n° de semana de las fechas de mediciones (momento) y agrego columna al data frame humedad\n",
        "semana<-epiweek(dmy(df_datos_Humedad$momento))\n",
        "ano <- year(dmy(df_datos_Humedad$momento))\n",
        "df_datos_Humedad <- cbind(df_datos_Humedad, NuSemana = semana)\n",
        "df_datos_Humedad <- cbind(df_datos_Humedad, Anio = ano)\n",
        "head(df_datos_Humedad,3)"
      ],
      "metadata": {
        "id": "lXuk86klhdID",
        "outputId": "c3f29e75-79d1-40b0-d8e1-355584f39ccf",
        "colab": {
          "base_uri": "https://localhost:8080/",
          "height": 192
        }
      },
      "execution_count": 752,
      "outputs": [
        {
          "output_type": "display_data",
          "data": {
            "text/html": [
              "<table class=\"dataframe\">\n",
              "<caption>A data.frame: 3 × 5</caption>\n",
              "<thead>\n",
              "\t<tr><th></th><th scope=col>CodigoNacional</th><th scope=col>momento</th><th scope=col>HR_Valor</th><th scope=col>NuSemana</th><th scope=col>Anio</th></tr>\n",
              "\t<tr><th></th><th scope=col>&lt;int&gt;</th><th scope=col>&lt;chr&gt;</th><th scope=col>&lt;dbl&gt;</th><th scope=col>&lt;dbl&gt;</th><th scope=col>&lt;dbl&gt;</th></tr>\n",
              "</thead>\n",
              "<tbody>\n",
              "\t<tr><th scope=row>1</th><td>290004</td><td>01-01-1954</td><td>NA</td><td>52</td><td>1954</td></tr>\n",
              "\t<tr><th scope=row>2</th><td>290004</td><td>01-01-1954</td><td>NA</td><td>52</td><td>1954</td></tr>\n",
              "\t<tr><th scope=row>3</th><td>290004</td><td>01-01-1954</td><td>NA</td><td>52</td><td>1954</td></tr>\n",
              "</tbody>\n",
              "</table>\n"
            ],
            "text/markdown": "\nA data.frame: 3 × 5\n\n| <!--/--> | CodigoNacional &lt;int&gt; | momento &lt;chr&gt; | HR_Valor &lt;dbl&gt; | NuSemana &lt;dbl&gt; | Anio &lt;dbl&gt; |\n|---|---|---|---|---|---|\n| 1 | 290004 | 01-01-1954 | NA | 52 | 1954 |\n| 2 | 290004 | 01-01-1954 | NA | 52 | 1954 |\n| 3 | 290004 | 01-01-1954 | NA | 52 | 1954 |\n\n",
            "text/latex": "A data.frame: 3 × 5\n\\begin{tabular}{r|lllll}\n  & CodigoNacional & momento & HR\\_Valor & NuSemana & Anio\\\\\n  & <int> & <chr> & <dbl> & <dbl> & <dbl>\\\\\n\\hline\n\t1 & 290004 & 01-01-1954 & NA & 52 & 1954\\\\\n\t2 & 290004 & 01-01-1954 & NA & 52 & 1954\\\\\n\t3 & 290004 & 01-01-1954 & NA & 52 & 1954\\\\\n\\end{tabular}\n",
            "text/plain": [
              "  CodigoNacional momento    HR_Valor NuSemana Anio\n",
              "1 290004         01-01-1954 NA       52       1954\n",
              "2 290004         01-01-1954 NA       52       1954\n",
              "3 290004         01-01-1954 NA       52       1954"
            ]
          },
          "metadata": {}
        }
      ]
    },
    {
      "cell_type": "code",
      "source": [
        "# Obtengo la media y mediana, de la temperatura para cada semana en cada año.\n",
        "df_datos_Humedad_semanal <- df_datos_Humedad %>% group_by (CodigoNacional,Anio, NuSemana) %>% summarise(Mediana_HR_Valor = median(HR_Valor, na.rm = TRUE))\n",
        "#Convierto agrupación con media y mediana a data frame\n",
        "df_datos_Humedad_semanal <- as.data.frame (df_datos_Humedad_semanal)\n",
        "#filtro por todo aquellos años >= a 2014\n",
        "df_datos_Humedad_semanal <- df_datos_Humedad_semanal %>% filter(Anio > 2013 & Anio < 2024)\n",
        "head(df_datos_Humedad_semanal,3)"
      ],
      "metadata": {
        "id": "ekP5khJwiS8w",
        "outputId": "1f93a231-c62b-4505-b69e-f8c787668feb",
        "colab": {
          "base_uri": "https://localhost:8080/",
          "height": 227
        }
      },
      "execution_count": 753,
      "outputs": [
        {
          "output_type": "stream",
          "name": "stderr",
          "text": [
            "\u001b[1m\u001b[22m`summarise()` has grouped output by 'CodigoNacional', 'Anio'. You can override\n",
            "using the `.groups` argument.\n"
          ]
        },
        {
          "output_type": "display_data",
          "data": {
            "text/html": [
              "<table class=\"dataframe\">\n",
              "<caption>A data.frame: 3 × 4</caption>\n",
              "<thead>\n",
              "\t<tr><th></th><th scope=col>CodigoNacional</th><th scope=col>Anio</th><th scope=col>NuSemana</th><th scope=col>Mediana_HR_Valor</th></tr>\n",
              "\t<tr><th></th><th scope=col>&lt;int&gt;</th><th scope=col>&lt;dbl&gt;</th><th scope=col>&lt;dbl&gt;</th><th scope=col>&lt;dbl&gt;</th></tr>\n",
              "</thead>\n",
              "<tbody>\n",
              "\t<tr><th scope=row>1</th><td>290004</td><td>2014</td><td>1</td><td>76.5</td></tr>\n",
              "\t<tr><th scope=row>2</th><td>290004</td><td>2014</td><td>2</td><td>81.5</td></tr>\n",
              "\t<tr><th scope=row>3</th><td>290004</td><td>2014</td><td>3</td><td>72.5</td></tr>\n",
              "</tbody>\n",
              "</table>\n"
            ],
            "text/markdown": "\nA data.frame: 3 × 4\n\n| <!--/--> | CodigoNacional &lt;int&gt; | Anio &lt;dbl&gt; | NuSemana &lt;dbl&gt; | Mediana_HR_Valor &lt;dbl&gt; |\n|---|---|---|---|---|\n| 1 | 290004 | 2014 | 1 | 76.5 |\n| 2 | 290004 | 2014 | 2 | 81.5 |\n| 3 | 290004 | 2014 | 3 | 72.5 |\n\n",
            "text/latex": "A data.frame: 3 × 4\n\\begin{tabular}{r|llll}\n  & CodigoNacional & Anio & NuSemana & Mediana\\_HR\\_Valor\\\\\n  & <int> & <dbl> & <dbl> & <dbl>\\\\\n\\hline\n\t1 & 290004 & 2014 & 1 & 76.5\\\\\n\t2 & 290004 & 2014 & 2 & 81.5\\\\\n\t3 & 290004 & 2014 & 3 & 72.5\\\\\n\\end{tabular}\n",
            "text/plain": [
              "  CodigoNacional Anio NuSemana Mediana_HR_Valor\n",
              "1 290004         2014 1        76.5            \n",
              "2 290004         2014 2        81.5            \n",
              "3 290004         2014 3        72.5            "
            ]
          },
          "metadata": {}
        }
      ]
    },
    {
      "cell_type": "code",
      "source": [
        "#obtengo n° de semana de las fechas de mediciones (momento) y agrego columna al data frame precipitaciones\n",
        "semana<-epiweek(dmy(df_datos_Precip$momento))\n",
        "ano <- year(dmy(df_datos_Precip$momento))\n",
        "df_datos_Precip <- cbind(df_datos_Precip, NuSemana = semana)\n",
        "df_datos_Precip <- cbind(df_datos_Precip, Anio = ano)\n",
        "head(df_datos_Precip,3)"
      ],
      "metadata": {
        "colab": {
          "base_uri": "https://localhost:8080/",
          "height": 192
        },
        "id": "CdrP6r0bC1t8",
        "outputId": "b4f7afa7-da2d-4f25-b57b-0447f58473b3"
      },
      "execution_count": 754,
      "outputs": [
        {
          "output_type": "display_data",
          "data": {
            "text/html": [
              "<table class=\"dataframe\">\n",
              "<caption>A data.frame: 3 × 5</caption>\n",
              "<thead>\n",
              "\t<tr><th></th><th scope=col>CodigoNacional</th><th scope=col>momento</th><th scope=col>Total_Valor</th><th scope=col>NuSemana</th><th scope=col>Anio</th></tr>\n",
              "\t<tr><th></th><th scope=col>&lt;dbl&gt;</th><th scope=col>&lt;chr&gt;</th><th scope=col>&lt;dbl&gt;</th><th scope=col>&lt;dbl&gt;</th><th scope=col>&lt;dbl&gt;</th></tr>\n",
              "</thead>\n",
              "<tbody>\n",
              "\t<tr><th scope=row>1</th><td>290004</td><td>01-01-1954</td><td>0</td><td>52</td><td>1954</td></tr>\n",
              "\t<tr><th scope=row>2</th><td>290004</td><td>02-01-1954</td><td>0</td><td>52</td><td>1954</td></tr>\n",
              "\t<tr><th scope=row>3</th><td>290004</td><td>03-01-1954</td><td>0</td><td> 1</td><td>1954</td></tr>\n",
              "</tbody>\n",
              "</table>\n"
            ],
            "text/markdown": "\nA data.frame: 3 × 5\n\n| <!--/--> | CodigoNacional &lt;dbl&gt; | momento &lt;chr&gt; | Total_Valor &lt;dbl&gt; | NuSemana &lt;dbl&gt; | Anio &lt;dbl&gt; |\n|---|---|---|---|---|---|\n| 1 | 290004 | 01-01-1954 | 0 | 52 | 1954 |\n| 2 | 290004 | 02-01-1954 | 0 | 52 | 1954 |\n| 3 | 290004 | 03-01-1954 | 0 |  1 | 1954 |\n\n",
            "text/latex": "A data.frame: 3 × 5\n\\begin{tabular}{r|lllll}\n  & CodigoNacional & momento & Total\\_Valor & NuSemana & Anio\\\\\n  & <dbl> & <chr> & <dbl> & <dbl> & <dbl>\\\\\n\\hline\n\t1 & 290004 & 01-01-1954 & 0 & 52 & 1954\\\\\n\t2 & 290004 & 02-01-1954 & 0 & 52 & 1954\\\\\n\t3 & 290004 & 03-01-1954 & 0 &  1 & 1954\\\\\n\\end{tabular}\n",
            "text/plain": [
              "  CodigoNacional momento    Total_Valor NuSemana Anio\n",
              "1 290004         01-01-1954 0           52       1954\n",
              "2 290004         02-01-1954 0           52       1954\n",
              "3 290004         03-01-1954 0            1       1954"
            ]
          },
          "metadata": {}
        }
      ]
    },
    {
      "cell_type": "code",
      "source": [
        "# Agrupo y obtengo la suma de precipitaciones para cada semana en cada año.\n",
        "df_datos_Precip_semanal <- df_datos_Precip %>% group_by (CodigoNacional,Anio, NuSemana) %>% summarise(Total_Valor_semPP = sum(Total_Valor, na.rm = TRUE))\n",
        "#Convierto agrupación con media y mediana a data frame\n",
        "df_datos_Precip_semanal <- as.data.frame (df_datos_Precip_semanal)\n",
        "#filtro por todo aquellos años >= a 2014\n",
        "df_datos_Precip_semanal <- df_datos_Precip_semanal %>% filter(Anio > 2013 & Anio < 2024)\n",
        "head(df_datos_Precip_semanal,3)"
      ],
      "metadata": {
        "colab": {
          "base_uri": "https://localhost:8080/",
          "height": 227
        },
        "id": "Iij1RkzSDVQb",
        "outputId": "f32834d0-f130-4b72-ea67-d2979509e220"
      },
      "execution_count": 755,
      "outputs": [
        {
          "output_type": "stream",
          "name": "stderr",
          "text": [
            "\u001b[1m\u001b[22m`summarise()` has grouped output by 'CodigoNacional', 'Anio'. You can override\n",
            "using the `.groups` argument.\n"
          ]
        },
        {
          "output_type": "display_data",
          "data": {
            "text/html": [
              "<table class=\"dataframe\">\n",
              "<caption>A data.frame: 3 × 4</caption>\n",
              "<thead>\n",
              "\t<tr><th></th><th scope=col>CodigoNacional</th><th scope=col>Anio</th><th scope=col>NuSemana</th><th scope=col>Total_Valor_semPP</th></tr>\n",
              "\t<tr><th></th><th scope=col>&lt;dbl&gt;</th><th scope=col>&lt;dbl&gt;</th><th scope=col>&lt;dbl&gt;</th><th scope=col>&lt;dbl&gt;</th></tr>\n",
              "</thead>\n",
              "<tbody>\n",
              "\t<tr><th scope=row>1</th><td>290004</td><td>2014</td><td>1</td><td>0</td></tr>\n",
              "\t<tr><th scope=row>2</th><td>290004</td><td>2014</td><td>2</td><td>0</td></tr>\n",
              "\t<tr><th scope=row>3</th><td>290004</td><td>2014</td><td>3</td><td>0</td></tr>\n",
              "</tbody>\n",
              "</table>\n"
            ],
            "text/markdown": "\nA data.frame: 3 × 4\n\n| <!--/--> | CodigoNacional &lt;dbl&gt; | Anio &lt;dbl&gt; | NuSemana &lt;dbl&gt; | Total_Valor_semPP &lt;dbl&gt; |\n|---|---|---|---|---|\n| 1 | 290004 | 2014 | 1 | 0 |\n| 2 | 290004 | 2014 | 2 | 0 |\n| 3 | 290004 | 2014 | 3 | 0 |\n\n",
            "text/latex": "A data.frame: 3 × 4\n\\begin{tabular}{r|llll}\n  & CodigoNacional & Anio & NuSemana & Total\\_Valor\\_semPP\\\\\n  & <dbl> & <dbl> & <dbl> & <dbl>\\\\\n\\hline\n\t1 & 290004 & 2014 & 1 & 0\\\\\n\t2 & 290004 & 2014 & 2 & 0\\\\\n\t3 & 290004 & 2014 & 3 & 0\\\\\n\\end{tabular}\n",
            "text/plain": [
              "  CodigoNacional Anio NuSemana Total_Valor_semPP\n",
              "1 290004         2014 1        0                \n",
              "2 290004         2014 2        0                \n",
              "3 290004         2014 3        0                "
            ]
          },
          "metadata": {}
        }
      ]
    },
    {
      "cell_type": "code",
      "source": [
        "#obtengo n° de semana de las fechas de mediciones (momento) y agrego columna al data frame mp25\n",
        "semana<-epiweek(dmy(df_datos_mp25$momento))\n",
        "ano <- year(dmy(df_datos_mp25$momento))\n",
        "df_datos_mp25 <- cbind(df_datos_mp25, NuSemana = semana)\n",
        "df_datos_mp25 <- cbind(df_datos_mp25, Anio = ano)\n",
        "head(df_datos_mp25,3)"
      ],
      "metadata": {
        "colab": {
          "base_uri": "https://localhost:8080/",
          "height": 192
        },
        "id": "DdjPbon8FhQX",
        "outputId": "c69c4421-7c53-48d0-defa-65721a4c0239"
      },
      "execution_count": 756,
      "outputs": [
        {
          "output_type": "display_data",
          "data": {
            "text/html": [
              "<table class=\"dataframe\">\n",
              "<caption>A data.frame: 3 × 5</caption>\n",
              "<thead>\n",
              "\t<tr><th></th><th scope=col>COMUNA</th><th scope=col>momento</th><th scope=col>totalMP25</th><th scope=col>NuSemana</th><th scope=col>Anio</th></tr>\n",
              "\t<tr><th></th><th scope=col>&lt;chr&gt;</th><th scope=col>&lt;chr&gt;</th><th scope=col>&lt;dbl&gt;</th><th scope=col>&lt;dbl&gt;</th><th scope=col>&lt;dbl&gt;</th></tr>\n",
              "</thead>\n",
              "<tbody>\n",
              "\t<tr><th scope=row>1</th><td>Concepcion</td><td>12-08-2009</td><td>390.2810</td><td>32</td><td>2009</td></tr>\n",
              "\t<tr><th scope=row>2</th><td>Concepcion</td><td>13-08-2009</td><td> 68.5317</td><td>32</td><td>2009</td></tr>\n",
              "\t<tr><th scope=row>3</th><td>Concepcion</td><td>14-08-2009</td><td>319.4660</td><td>32</td><td>2009</td></tr>\n",
              "</tbody>\n",
              "</table>\n"
            ],
            "text/markdown": "\nA data.frame: 3 × 5\n\n| <!--/--> | COMUNA &lt;chr&gt; | momento &lt;chr&gt; | totalMP25 &lt;dbl&gt; | NuSemana &lt;dbl&gt; | Anio &lt;dbl&gt; |\n|---|---|---|---|---|---|\n| 1 | Concepcion | 12-08-2009 | 390.2810 | 32 | 2009 |\n| 2 | Concepcion | 13-08-2009 |  68.5317 | 32 | 2009 |\n| 3 | Concepcion | 14-08-2009 | 319.4660 | 32 | 2009 |\n\n",
            "text/latex": "A data.frame: 3 × 5\n\\begin{tabular}{r|lllll}\n  & COMUNA & momento & totalMP25 & NuSemana & Anio\\\\\n  & <chr> & <chr> & <dbl> & <dbl> & <dbl>\\\\\n\\hline\n\t1 & Concepcion & 12-08-2009 & 390.2810 & 32 & 2009\\\\\n\t2 & Concepcion & 13-08-2009 &  68.5317 & 32 & 2009\\\\\n\t3 & Concepcion & 14-08-2009 & 319.4660 & 32 & 2009\\\\\n\\end{tabular}\n",
            "text/plain": [
              "  COMUNA     momento    totalMP25 NuSemana Anio\n",
              "1 Concepcion 12-08-2009 390.2810  32       2009\n",
              "2 Concepcion 13-08-2009  68.5317  32       2009\n",
              "3 Concepcion 14-08-2009 319.4660  32       2009"
            ]
          },
          "metadata": {}
        }
      ]
    },
    {
      "cell_type": "code",
      "source": [
        "# Agrupo y obtengo la suma de precipitaciones para cada semana en cada año.\n",
        "df_datos_mp25_semanal <- df_datos_mp25 %>% group_by (COMUNA,Anio, NuSemana) %>% summarise(Total_Valor_semMP25 = sum(totalMP25, na.rm = TRUE))\n",
        "#Convierto agrupación con media y mediana a data frame\n",
        "df_datos_mp25_semanal <- as.data.frame (df_datos_mp25_semanal)\n",
        "#filtro por todo aquellos años >= a 2014\n",
        "df_datos_mp25_semanal <- df_datos_mp25_semanal %>% filter(Anio > 2013 & Anio < 2024)\n",
        "head(df_datos_mp25_semanal,3)"
      ],
      "metadata": {
        "colab": {
          "base_uri": "https://localhost:8080/",
          "height": 227
        },
        "id": "f9hgqQjDGiJo",
        "outputId": "4638b950-8a96-449e-87a8-eb826fa1646a"
      },
      "execution_count": 757,
      "outputs": [
        {
          "output_type": "stream",
          "name": "stderr",
          "text": [
            "\u001b[1m\u001b[22m`summarise()` has grouped output by 'COMUNA', 'Anio'. You can override using\n",
            "the `.groups` argument.\n"
          ]
        },
        {
          "output_type": "display_data",
          "data": {
            "text/html": [
              "<table class=\"dataframe\">\n",
              "<caption>A data.frame: 3 × 4</caption>\n",
              "<thead>\n",
              "\t<tr><th></th><th scope=col>COMUNA</th><th scope=col>Anio</th><th scope=col>NuSemana</th><th scope=col>Total_Valor_semMP25</th></tr>\n",
              "\t<tr><th></th><th scope=col>&lt;chr&gt;</th><th scope=col>&lt;dbl&gt;</th><th scope=col>&lt;dbl&gt;</th><th scope=col>&lt;dbl&gt;</th></tr>\n",
              "</thead>\n",
              "<tbody>\n",
              "\t<tr><th scope=row>1</th><td>Concepcion</td><td>2014</td><td>1</td><td>48.20000</td></tr>\n",
              "\t<tr><th scope=row>2</th><td>Concepcion</td><td>2014</td><td>2</td><td>73.69997</td></tr>\n",
              "\t<tr><th scope=row>3</th><td>Concepcion</td><td>2014</td><td>3</td><td>72.09999</td></tr>\n",
              "</tbody>\n",
              "</table>\n"
            ],
            "text/markdown": "\nA data.frame: 3 × 4\n\n| <!--/--> | COMUNA &lt;chr&gt; | Anio &lt;dbl&gt; | NuSemana &lt;dbl&gt; | Total_Valor_semMP25 &lt;dbl&gt; |\n|---|---|---|---|---|\n| 1 | Concepcion | 2014 | 1 | 48.20000 |\n| 2 | Concepcion | 2014 | 2 | 73.69997 |\n| 3 | Concepcion | 2014 | 3 | 72.09999 |\n\n",
            "text/latex": "A data.frame: 3 × 4\n\\begin{tabular}{r|llll}\n  & COMUNA & Anio & NuSemana & Total\\_Valor\\_semMP25\\\\\n  & <chr> & <dbl> & <dbl> & <dbl>\\\\\n\\hline\n\t1 & Concepcion & 2014 & 1 & 48.20000\\\\\n\t2 & Concepcion & 2014 & 2 & 73.69997\\\\\n\t3 & Concepcion & 2014 & 3 & 72.09999\\\\\n\\end{tabular}\n",
            "text/plain": [
              "  COMUNA     Anio NuSemana Total_Valor_semMP25\n",
              "1 Concepcion 2014 1        48.20000           \n",
              "2 Concepcion 2014 2        73.69997           \n",
              "3 Concepcion 2014 3        72.09999           "
            ]
          },
          "metadata": {}
        }
      ]
    },
    {
      "cell_type": "code",
      "source": [
        "count(df_urgr_esp_semanal)\n",
        "write.csv (df_urgr_esp_semanal, \"prueba.csv\")\n",
        "count(df_datos_temperatura_semanal)\n",
        "write.csv (df_datos_temperatura_semanal, \"prueba2.csv\")\n",
        "count(df_datos_Precip_semanal)\n",
        "count(df_datos_Humedad_semanal)\n",
        "count(df_datos_mp25_semanal)"
      ],
      "metadata": {
        "id": "l5FZV3fQbq0R",
        "outputId": "fb800f86-921a-4f7a-a77a-4e5ffd740286",
        "colab": {
          "base_uri": "https://localhost:8080/",
          "height": 753
        }
      },
      "execution_count": 758,
      "outputs": [
        {
          "output_type": "display_data",
          "data": {
            "text/html": [
              "<table class=\"dataframe\">\n",
              "<caption>A data.frame: 1 × 1</caption>\n",
              "<thead>\n",
              "\t<tr><th scope=col>n</th></tr>\n",
              "\t<tr><th scope=col>&lt;int&gt;</th></tr>\n",
              "</thead>\n",
              "<tbody>\n",
              "\t<tr><td>1572</td></tr>\n",
              "</tbody>\n",
              "</table>\n"
            ],
            "text/markdown": "\nA data.frame: 1 × 1\n\n| n &lt;int&gt; |\n|---|\n| 1572 |\n\n",
            "text/latex": "A data.frame: 1 × 1\n\\begin{tabular}{l}\n n\\\\\n <int>\\\\\n\\hline\n\t 1572\\\\\n\\end{tabular}\n",
            "text/plain": [
              "  n   \n",
              "1 1572"
            ]
          },
          "metadata": {}
        },
        {
          "output_type": "display_data",
          "data": {
            "text/html": [
              "<table class=\"dataframe\">\n",
              "<caption>A data.frame: 1 × 1</caption>\n",
              "<thead>\n",
              "\t<tr><th scope=col>n</th></tr>\n",
              "\t<tr><th scope=col>&lt;int&gt;</th></tr>\n",
              "</thead>\n",
              "<tbody>\n",
              "\t<tr><td>1572</td></tr>\n",
              "</tbody>\n",
              "</table>\n"
            ],
            "text/markdown": "\nA data.frame: 1 × 1\n\n| n &lt;int&gt; |\n|---|\n| 1572 |\n\n",
            "text/latex": "A data.frame: 1 × 1\n\\begin{tabular}{l}\n n\\\\\n <int>\\\\\n\\hline\n\t 1572\\\\\n\\end{tabular}\n",
            "text/plain": [
              "  n   \n",
              "1 1572"
            ]
          },
          "metadata": {}
        },
        {
          "output_type": "display_data",
          "data": {
            "text/html": [
              "<table class=\"dataframe\">\n",
              "<caption>A data.frame: 1 × 1</caption>\n",
              "<thead>\n",
              "\t<tr><th scope=col>n</th></tr>\n",
              "\t<tr><th scope=col>&lt;int&gt;</th></tr>\n",
              "</thead>\n",
              "<tbody>\n",
              "\t<tr><td>1572</td></tr>\n",
              "</tbody>\n",
              "</table>\n"
            ],
            "text/markdown": "\nA data.frame: 1 × 1\n\n| n &lt;int&gt; |\n|---|\n| 1572 |\n\n",
            "text/latex": "A data.frame: 1 × 1\n\\begin{tabular}{l}\n n\\\\\n <int>\\\\\n\\hline\n\t 1572\\\\\n\\end{tabular}\n",
            "text/plain": [
              "  n   \n",
              "1 1572"
            ]
          },
          "metadata": {}
        },
        {
          "output_type": "display_data",
          "data": {
            "text/html": [
              "<table class=\"dataframe\">\n",
              "<caption>A data.frame: 1 × 1</caption>\n",
              "<thead>\n",
              "\t<tr><th scope=col>n</th></tr>\n",
              "\t<tr><th scope=col>&lt;int&gt;</th></tr>\n",
              "</thead>\n",
              "<tbody>\n",
              "\t<tr><td>1572</td></tr>\n",
              "</tbody>\n",
              "</table>\n"
            ],
            "text/markdown": "\nA data.frame: 1 × 1\n\n| n &lt;int&gt; |\n|---|\n| 1572 |\n\n",
            "text/latex": "A data.frame: 1 × 1\n\\begin{tabular}{l}\n n\\\\\n <int>\\\\\n\\hline\n\t 1572\\\\\n\\end{tabular}\n",
            "text/plain": [
              "  n   \n",
              "1 1572"
            ]
          },
          "metadata": {}
        },
        {
          "output_type": "display_data",
          "data": {
            "text/html": [
              "<table class=\"dataframe\">\n",
              "<caption>A data.frame: 1 × 1</caption>\n",
              "<thead>\n",
              "\t<tr><th scope=col>n</th></tr>\n",
              "\t<tr><th scope=col>&lt;int&gt;</th></tr>\n",
              "</thead>\n",
              "<tbody>\n",
              "\t<tr><td>1572</td></tr>\n",
              "</tbody>\n",
              "</table>\n"
            ],
            "text/markdown": "\nA data.frame: 1 × 1\n\n| n &lt;int&gt; |\n|---|\n| 1572 |\n\n",
            "text/latex": "A data.frame: 1 × 1\n\\begin{tabular}{l}\n n\\\\\n <int>\\\\\n\\hline\n\t 1572\\\\\n\\end{tabular}\n",
            "text/plain": [
              "  n   \n",
              "1 1572"
            ]
          },
          "metadata": {}
        }
      ]
    },
    {
      "cell_type": "code",
      "source": [
        "df_variable <-merge(df_datos_temperatura_semanal, df_datos_Humedad_semanal, by = c(\"CodigoNacional\",\"Anio\",\"NuSemana\"))\n",
        "df_variable <- merge(df_variable, df_datos_Precip_semanal, by = c(\"CodigoNacional\",\"Anio\",\"NuSemana\"))\n",
        "head(df_variable,10)"
      ],
      "metadata": {
        "id": "C3St2zUj3j3K",
        "outputId": "8510eda8-4eda-4467-c03f-ea69afd36fea",
        "colab": {
          "base_uri": "https://localhost:8080/",
          "height": 412
        }
      },
      "execution_count": 759,
      "outputs": [
        {
          "output_type": "display_data",
          "data": {
            "text/html": [
              "<table class=\"dataframe\">\n",
              "<caption>A data.frame: 10 × 7</caption>\n",
              "<thead>\n",
              "\t<tr><th></th><th scope=col>CodigoNacional</th><th scope=col>Anio</th><th scope=col>NuSemana</th><th scope=col>medianaClim</th><th scope=col>difMaxMin</th><th scope=col>Mediana_HR_Valor</th><th scope=col>Total_Valor_semPP</th></tr>\n",
              "\t<tr><th></th><th scope=col>&lt;dbl&gt;</th><th scope=col>&lt;dbl&gt;</th><th scope=col>&lt;dbl&gt;</th><th scope=col>&lt;dbl&gt;</th><th scope=col>&lt;dbl&gt;</th><th scope=col>&lt;dbl&gt;</th><th scope=col>&lt;dbl&gt;</th></tr>\n",
              "</thead>\n",
              "<tbody>\n",
              "\t<tr><th scope=row>1</th><td>290004</td><td>2014</td><td> 1</td><td>17.6</td><td>7.8</td><td>76.5</td><td>0.0</td></tr>\n",
              "\t<tr><th scope=row>2</th><td>290004</td><td>2014</td><td>10</td><td>15.8</td><td>8.4</td><td>82.0</td><td>0.0</td></tr>\n",
              "\t<tr><th scope=row>3</th><td>290004</td><td>2014</td><td>11</td><td>14.9</td><td>6.6</td><td>84.0</td><td>0.0</td></tr>\n",
              "\t<tr><th scope=row>4</th><td>290004</td><td>2014</td><td>12</td><td>14.3</td><td>6.1</td><td>86.5</td><td>0.2</td></tr>\n",
              "\t<tr><th scope=row>5</th><td>290004</td><td>2014</td><td>13</td><td>14.4</td><td>4.2</td><td>85.5</td><td>0.6</td></tr>\n",
              "\t<tr><th scope=row>6</th><td>290004</td><td>2014</td><td>14</td><td>14.2</td><td>7.7</td><td>80.0</td><td>0.0</td></tr>\n",
              "\t<tr><th scope=row>7</th><td>290004</td><td>2014</td><td>15</td><td>14.1</td><td>8.9</td><td>77.0</td><td>0.0</td></tr>\n",
              "\t<tr><th scope=row>8</th><td>290004</td><td>2014</td><td>16</td><td>12.8</td><td>5.4</td><td>83.0</td><td>0.0</td></tr>\n",
              "\t<tr><th scope=row>9</th><td>290004</td><td>2014</td><td>17</td><td>13.2</td><td>5.0</td><td>84.0</td><td>0.2</td></tr>\n",
              "\t<tr><th scope=row>10</th><td>290004</td><td>2014</td><td>18</td><td>12.4</td><td>8.0</td><td>80.0</td><td>0.0</td></tr>\n",
              "</tbody>\n",
              "</table>\n"
            ],
            "text/markdown": "\nA data.frame: 10 × 7\n\n| <!--/--> | CodigoNacional &lt;dbl&gt; | Anio &lt;dbl&gt; | NuSemana &lt;dbl&gt; | medianaClim &lt;dbl&gt; | difMaxMin &lt;dbl&gt; | Mediana_HR_Valor &lt;dbl&gt; | Total_Valor_semPP &lt;dbl&gt; |\n|---|---|---|---|---|---|---|---|\n| 1 | 290004 | 2014 |  1 | 17.6 | 7.8 | 76.5 | 0.0 |\n| 2 | 290004 | 2014 | 10 | 15.8 | 8.4 | 82.0 | 0.0 |\n| 3 | 290004 | 2014 | 11 | 14.9 | 6.6 | 84.0 | 0.0 |\n| 4 | 290004 | 2014 | 12 | 14.3 | 6.1 | 86.5 | 0.2 |\n| 5 | 290004 | 2014 | 13 | 14.4 | 4.2 | 85.5 | 0.6 |\n| 6 | 290004 | 2014 | 14 | 14.2 | 7.7 | 80.0 | 0.0 |\n| 7 | 290004 | 2014 | 15 | 14.1 | 8.9 | 77.0 | 0.0 |\n| 8 | 290004 | 2014 | 16 | 12.8 | 5.4 | 83.0 | 0.0 |\n| 9 | 290004 | 2014 | 17 | 13.2 | 5.0 | 84.0 | 0.2 |\n| 10 | 290004 | 2014 | 18 | 12.4 | 8.0 | 80.0 | 0.0 |\n\n",
            "text/latex": "A data.frame: 10 × 7\n\\begin{tabular}{r|lllllll}\n  & CodigoNacional & Anio & NuSemana & medianaClim & difMaxMin & Mediana\\_HR\\_Valor & Total\\_Valor\\_semPP\\\\\n  & <dbl> & <dbl> & <dbl> & <dbl> & <dbl> & <dbl> & <dbl>\\\\\n\\hline\n\t1 & 290004 & 2014 &  1 & 17.6 & 7.8 & 76.5 & 0.0\\\\\n\t2 & 290004 & 2014 & 10 & 15.8 & 8.4 & 82.0 & 0.0\\\\\n\t3 & 290004 & 2014 & 11 & 14.9 & 6.6 & 84.0 & 0.0\\\\\n\t4 & 290004 & 2014 & 12 & 14.3 & 6.1 & 86.5 & 0.2\\\\\n\t5 & 290004 & 2014 & 13 & 14.4 & 4.2 & 85.5 & 0.6\\\\\n\t6 & 290004 & 2014 & 14 & 14.2 & 7.7 & 80.0 & 0.0\\\\\n\t7 & 290004 & 2014 & 15 & 14.1 & 8.9 & 77.0 & 0.0\\\\\n\t8 & 290004 & 2014 & 16 & 12.8 & 5.4 & 83.0 & 0.0\\\\\n\t9 & 290004 & 2014 & 17 & 13.2 & 5.0 & 84.0 & 0.2\\\\\n\t10 & 290004 & 2014 & 18 & 12.4 & 8.0 & 80.0 & 0.0\\\\\n\\end{tabular}\n",
            "text/plain": [
              "   CodigoNacional Anio NuSemana medianaClim difMaxMin Mediana_HR_Valor\n",
              "1  290004         2014  1       17.6        7.8       76.5            \n",
              "2  290004         2014 10       15.8        8.4       82.0            \n",
              "3  290004         2014 11       14.9        6.6       84.0            \n",
              "4  290004         2014 12       14.3        6.1       86.5            \n",
              "5  290004         2014 13       14.4        4.2       85.5            \n",
              "6  290004         2014 14       14.2        7.7       80.0            \n",
              "7  290004         2014 15       14.1        8.9       77.0            \n",
              "8  290004         2014 16       12.8        5.4       83.0            \n",
              "9  290004         2014 17       13.2        5.0       84.0            \n",
              "10 290004         2014 18       12.4        8.0       80.0            \n",
              "   Total_Valor_semPP\n",
              "1  0.0              \n",
              "2  0.0              \n",
              "3  0.0              \n",
              "4  0.2              \n",
              "5  0.6              \n",
              "6  0.0              \n",
              "7  0.0              \n",
              "8  0.0              \n",
              "9  0.2              \n",
              "10 0.0              "
            ]
          },
          "metadata": {}
        }
      ]
    },
    {
      "cell_type": "code",
      "source": [
        "df_variable <- df_variable %>% mutate(COMUNA = ifelse(CodigoNacional == 290004, \"LaSerena\", ifelse (CodigoNacional == 360019, \"Concepcion\", ifelse (CodigoNacional == 330020, \"Santiago\", NA))))\n"
      ],
      "metadata": {
        "id": "3W4oes7QKKzI"
      },
      "execution_count": 760,
      "outputs": []
    },
    {
      "cell_type": "code",
      "source": [
        "df_variable <- merge(df_variable, df_urgr_esp_semanal, by = c(\"COMUNA\",\"Anio\",\"NuSemana\"))\n",
        "df_variable"
      ],
      "metadata": {
        "id": "UbsA287sMpV1",
        "outputId": "d5821aff-19da-4a86-e742-6f8b3aa7056a",
        "colab": {
          "base_uri": "https://localhost:8080/",
          "height": 1000
        }
      },
      "execution_count": 761,
      "outputs": [
        {
          "output_type": "display_data",
          "data": {
            "text/html": [
              "<table class=\"dataframe\">\n",
              "<caption>A data.frame: 1572 × 9</caption>\n",
              "<thead>\n",
              "\t<tr><th scope=col>COMUNA</th><th scope=col>Anio</th><th scope=col>NuSemana</th><th scope=col>CodigoNacional</th><th scope=col>medianaClim</th><th scope=col>difMaxMin</th><th scope=col>Mediana_HR_Valor</th><th scope=col>Total_Valor_semPP</th><th scope=col>NumTotalUrg</th></tr>\n",
              "\t<tr><th scope=col>&lt;chr&gt;</th><th scope=col>&lt;dbl&gt;</th><th scope=col>&lt;dbl&gt;</th><th scope=col>&lt;dbl&gt;</th><th scope=col>&lt;dbl&gt;</th><th scope=col>&lt;dbl&gt;</th><th scope=col>&lt;dbl&gt;</th><th scope=col>&lt;dbl&gt;</th><th scope=col>&lt;int&gt;</th></tr>\n",
              "</thead>\n",
              "<tbody>\n",
              "\t<tr><td>Concepcion</td><td>2014</td><td> 1</td><td>360019</td><td>16.75</td><td>13.6</td><td>58.0</td><td>  0.0</td><td> 574</td></tr>\n",
              "\t<tr><td>Concepcion</td><td>2014</td><td>10</td><td>360019</td><td>15.20</td><td>11.2</td><td>76.5</td><td>  0.4</td><td> 938</td></tr>\n",
              "\t<tr><td>Concepcion</td><td>2014</td><td>11</td><td>360019</td><td>15.80</td><td> 9.9</td><td>80.0</td><td> 12.8</td><td>1270</td></tr>\n",
              "\t<tr><td>Concepcion</td><td>2014</td><td>12</td><td>360019</td><td>15.30</td><td>12.0</td><td>72.0</td><td>  0.8</td><td>1702</td></tr>\n",
              "\t<tr><td>Concepcion</td><td>2014</td><td>13</td><td>360019</td><td>13.70</td><td> 4.4</td><td>81.0</td><td> 52.8</td><td>1450</td></tr>\n",
              "\t<tr><td>Concepcion</td><td>2014</td><td>14</td><td>360019</td><td>12.80</td><td> 9.2</td><td>84.0</td><td>  0.0</td><td>1480</td></tr>\n",
              "\t<tr><td>Concepcion</td><td>2014</td><td>15</td><td>360019</td><td>12.00</td><td> 8.4</td><td>86.0</td><td>  5.8</td><td>1317</td></tr>\n",
              "\t<tr><td>Concepcion</td><td>2014</td><td>16</td><td>360019</td><td>12.70</td><td>11.2</td><td>73.0</td><td>  0.0</td><td>1353</td></tr>\n",
              "\t<tr><td>Concepcion</td><td>2014</td><td>17</td><td>360019</td><td>12.60</td><td>10.9</td><td>90.5</td><td>  1.6</td><td>1400</td></tr>\n",
              "\t<tr><td>Concepcion</td><td>2014</td><td>18</td><td>360019</td><td>10.50</td><td> 8.4</td><td>93.0</td><td> 79.4</td><td>1215</td></tr>\n",
              "\t<tr><td>Concepcion</td><td>2014</td><td>19</td><td>360019</td><td>13.40</td><td> 5.2</td><td>96.0</td><td>  3.0</td><td>1264</td></tr>\n",
              "\t<tr><td>Concepcion</td><td>2014</td><td> 2</td><td>360019</td><td>17.70</td><td>14.2</td><td>66.5</td><td>  0.0</td><td> 965</td></tr>\n",
              "\t<tr><td>Concepcion</td><td>2014</td><td>20</td><td>360019</td><td>12.00</td><td> 8.6</td><td>92.0</td><td> 22.8</td><td>1537</td></tr>\n",
              "\t<tr><td>Concepcion</td><td>2014</td><td>21</td><td>360019</td><td>11.50</td><td> 5.3</td><td>88.0</td><td> 34.2</td><td>2047</td></tr>\n",
              "\t<tr><td>Concepcion</td><td>2014</td><td>22</td><td>360019</td><td>10.50</td><td> 7.7</td><td>89.0</td><td> 34.0</td><td>2240</td></tr>\n",
              "\t<tr><td>Concepcion</td><td>2014</td><td>23</td><td>360019</td><td> 9.50</td><td> 5.8</td><td>86.0</td><td>138.2</td><td>2192</td></tr>\n",
              "\t<tr><td>Concepcion</td><td>2014</td><td>24</td><td>360019</td><td>10.80</td><td> 5.5</td><td>92.0</td><td> 99.0</td><td>2336</td></tr>\n",
              "\t<tr><td>Concepcion</td><td>2014</td><td>25</td><td>360019</td><td>11.80</td><td> 6.7</td><td>82.0</td><td> 25.8</td><td>2646</td></tr>\n",
              "\t<tr><td>Concepcion</td><td>2014</td><td>26</td><td>360019</td><td> 7.80</td><td> 8.2</td><td>92.0</td><td>  3.0</td><td>2667</td></tr>\n",
              "\t<tr><td>Concepcion</td><td>2014</td><td>27</td><td>360019</td><td> 8.70</td><td> 5.0</td><td>87.0</td><td> 26.8</td><td>2421</td></tr>\n",
              "\t<tr><td>Concepcion</td><td>2014</td><td>28</td><td>360019</td><td> 9.40</td><td> 9.2</td><td>84.0</td><td>  0.0</td><td>2398</td></tr>\n",
              "\t<tr><td>Concepcion</td><td>2014</td><td>29</td><td>360019</td><td>11.10</td><td> 6.2</td><td>90.0</td><td> 51.6</td><td>2042</td></tr>\n",
              "\t<tr><td>Concepcion</td><td>2014</td><td> 3</td><td>360019</td><td>18.00</td><td>10.7</td><td>76.0</td><td>  0.0</td><td> 763</td></tr>\n",
              "\t<tr><td>Concepcion</td><td>2014</td><td>30</td><td>360019</td><td> 9.50</td><td> 5.1</td><td>89.0</td><td> 25.8</td><td>1632</td></tr>\n",
              "\t<tr><td>Concepcion</td><td>2014</td><td>31</td><td>360019</td><td>12.30</td><td> 2.8</td><td>96.0</td><td>132.2</td><td>1212</td></tr>\n",
              "\t<tr><td>Concepcion</td><td>2014</td><td>32</td><td>360019</td><td>10.00</td><td> 6.1</td><td>84.0</td><td> 37.8</td><td>1180</td></tr>\n",
              "\t<tr><td>Concepcion</td><td>2014</td><td>33</td><td>360019</td><td> 8.80</td><td>10.6</td><td>78.0</td><td>  0.0</td><td>1716</td></tr>\n",
              "\t<tr><td>Concepcion</td><td>2014</td><td>34</td><td>360019</td><td>10.70</td><td> 4.3</td><td>89.0</td><td> 31.4</td><td>1798</td></tr>\n",
              "\t<tr><td>Concepcion</td><td>2014</td><td>35</td><td>360019</td><td>11.20</td><td> 4.7</td><td>80.0</td><td> 20.0</td><td>2007</td></tr>\n",
              "\t<tr><td>Concepcion</td><td>2014</td><td>36</td><td>360019</td><td>12.00</td><td> 4.0</td><td>89.0</td><td> 33.2</td><td>1875</td></tr>\n",
              "\t<tr><td>⋮</td><td>⋮</td><td>⋮</td><td>⋮</td><td>⋮</td><td>⋮</td><td>⋮</td><td>⋮</td><td>⋮</td></tr>\n",
              "\t<tr><td>Santiago</td><td>2023</td><td> 3</td><td>330020</td><td>20.7</td><td>17.1</td><td>53.65</td><td> 0.0</td><td> 429</td></tr>\n",
              "\t<tr><td>Santiago</td><td>2023</td><td>30</td><td>330020</td><td>10.0</td><td>15.7</td><td>89.35</td><td> 0.0</td><td> 748</td></tr>\n",
              "\t<tr><td>Santiago</td><td>2023</td><td>31</td><td>330020</td><td>13.2</td><td>18.7</td><td>81.30</td><td> 0.0</td><td> 884</td></tr>\n",
              "\t<tr><td>Santiago</td><td>2023</td><td>32</td><td>330020</td><td>11.7</td><td>12.5</td><td>81.80</td><td> 7.7</td><td> 833</td></tr>\n",
              "\t<tr><td>Santiago</td><td>2023</td><td>33</td><td>330020</td><td>12.2</td><td> 6.6</td><td>82.60</td><td>28.6</td><td> 868</td></tr>\n",
              "\t<tr><td>Santiago</td><td>2023</td><td>34</td><td>330020</td><td> 9.8</td><td> 9.3</td><td>88.50</td><td>53.5</td><td> 736</td></tr>\n",
              "\t<tr><td>Santiago</td><td>2023</td><td>35</td><td>330020</td><td>12.3</td><td>12.2</td><td>67.00</td><td> 0.0</td><td> 799</td></tr>\n",
              "\t<tr><td>Santiago</td><td>2023</td><td>36</td><td>330020</td><td>11.9</td><td> 6.9</td><td>87.20</td><td>42.2</td><td> 766</td></tr>\n",
              "\t<tr><td>Santiago</td><td>2023</td><td>37</td><td>330020</td><td>12.1</td><td>11.5</td><td>74.00</td><td>34.6</td><td> 822</td></tr>\n",
              "\t<tr><td>Santiago</td><td>2023</td><td>38</td><td>330020</td><td>12.7</td><td> 8.3</td><td>78.25</td><td> 0.0</td><td>1014</td></tr>\n",
              "\t<tr><td>Santiago</td><td>2023</td><td>39</td><td>330020</td><td>12.3</td><td>15.5</td><td>70.20</td><td> 0.0</td><td> 923</td></tr>\n",
              "\t<tr><td>Santiago</td><td>2023</td><td> 4</td><td>330020</td><td>22.3</td><td>18.8</td><td>43.40</td><td> 0.0</td><td> 388</td></tr>\n",
              "\t<tr><td>Santiago</td><td>2023</td><td>40</td><td>330020</td><td>11.6</td><td>11.5</td><td>77.05</td><td> 1.9</td><td> 926</td></tr>\n",
              "\t<tr><td>Santiago</td><td>2023</td><td>41</td><td>330020</td><td>15.3</td><td>19.4</td><td>61.50</td><td> 0.0</td><td>1004</td></tr>\n",
              "\t<tr><td>Santiago</td><td>2023</td><td>42</td><td>330020</td><td>15.5</td><td>17.8</td><td>61.00</td><td> 0.1</td><td> 997</td></tr>\n",
              "\t<tr><td>Santiago</td><td>2023</td><td>43</td><td>330020</td><td>14.9</td><td>11.3</td><td>74.50</td><td> 2.5</td><td> 956</td></tr>\n",
              "\t<tr><td>Santiago</td><td>2023</td><td>44</td><td>330020</td><td>13.1</td><td>14.2</td><td>68.90</td><td> 3.0</td><td> 852</td></tr>\n",
              "\t<tr><td>Santiago</td><td>2023</td><td>45</td><td>330020</td><td>16.0</td><td>15.7</td><td>71.00</td><td>25.4</td><td> 882</td></tr>\n",
              "\t<tr><td>Santiago</td><td>2023</td><td>46</td><td>330020</td><td>14.2</td><td>15.0</td><td>63.90</td><td> 0.0</td><td> 810</td></tr>\n",
              "\t<tr><td>Santiago</td><td>2023</td><td>47</td><td>330020</td><td>18.3</td><td>18.3</td><td>49.50</td><td> 0.0</td><td> 861</td></tr>\n",
              "\t<tr><td>Santiago</td><td>2023</td><td>48</td><td>330020</td><td>16.7</td><td>15.1</td><td>67.30</td><td> 0.0</td><td> 792</td></tr>\n",
              "\t<tr><td>Santiago</td><td>2023</td><td>49</td><td>330020</td><td>19.8</td><td>20.4</td><td>47.00</td><td> 0.0</td><td> 807</td></tr>\n",
              "\t<tr><td>Santiago</td><td>2023</td><td> 5</td><td>330020</td><td>23.1</td><td>18.4</td><td>41.50</td><td> 0.0</td><td> 401</td></tr>\n",
              "\t<tr><td>Santiago</td><td>2023</td><td>50</td><td>330020</td><td>21.0</td><td>19.2</td><td>47.70</td><td> 0.0</td><td> 737</td></tr>\n",
              "\t<tr><td>Santiago</td><td>2023</td><td>51</td><td>330020</td><td>19.4</td><td>19.4</td><td>47.65</td><td> 0.0</td><td> 612</td></tr>\n",
              "\t<tr><td>Santiago</td><td>2023</td><td>52</td><td>330020</td><td>20.2</td><td>14.3</td><td>60.00</td><td> 0.0</td><td> 536</td></tr>\n",
              "\t<tr><td>Santiago</td><td>2023</td><td> 6</td><td>330020</td><td>23.8</td><td>17.5</td><td>49.20</td><td> 0.0</td><td> 416</td></tr>\n",
              "\t<tr><td>Santiago</td><td>2023</td><td> 7</td><td>330020</td><td>22.3</td><td>18.8</td><td>40.50</td><td> 0.0</td><td> 487</td></tr>\n",
              "\t<tr><td>Santiago</td><td>2023</td><td> 8</td><td>330020</td><td>22.2</td><td>19.6</td><td>45.50</td><td> 0.0</td><td> 459</td></tr>\n",
              "\t<tr><td>Santiago</td><td>2023</td><td> 9</td><td>330020</td><td>22.9</td><td>20.2</td><td>43.20</td><td> 0.0</td><td> 519</td></tr>\n",
              "</tbody>\n",
              "</table>\n"
            ],
            "text/markdown": "\nA data.frame: 1572 × 9\n\n| COMUNA &lt;chr&gt; | Anio &lt;dbl&gt; | NuSemana &lt;dbl&gt; | CodigoNacional &lt;dbl&gt; | medianaClim &lt;dbl&gt; | difMaxMin &lt;dbl&gt; | Mediana_HR_Valor &lt;dbl&gt; | Total_Valor_semPP &lt;dbl&gt; | NumTotalUrg &lt;int&gt; |\n|---|---|---|---|---|---|---|---|---|\n| Concepcion | 2014 |  1 | 360019 | 16.75 | 13.6 | 58.0 |   0.0 |  574 |\n| Concepcion | 2014 | 10 | 360019 | 15.20 | 11.2 | 76.5 |   0.4 |  938 |\n| Concepcion | 2014 | 11 | 360019 | 15.80 |  9.9 | 80.0 |  12.8 | 1270 |\n| Concepcion | 2014 | 12 | 360019 | 15.30 | 12.0 | 72.0 |   0.8 | 1702 |\n| Concepcion | 2014 | 13 | 360019 | 13.70 |  4.4 | 81.0 |  52.8 | 1450 |\n| Concepcion | 2014 | 14 | 360019 | 12.80 |  9.2 | 84.0 |   0.0 | 1480 |\n| Concepcion | 2014 | 15 | 360019 | 12.00 |  8.4 | 86.0 |   5.8 | 1317 |\n| Concepcion | 2014 | 16 | 360019 | 12.70 | 11.2 | 73.0 |   0.0 | 1353 |\n| Concepcion | 2014 | 17 | 360019 | 12.60 | 10.9 | 90.5 |   1.6 | 1400 |\n| Concepcion | 2014 | 18 | 360019 | 10.50 |  8.4 | 93.0 |  79.4 | 1215 |\n| Concepcion | 2014 | 19 | 360019 | 13.40 |  5.2 | 96.0 |   3.0 | 1264 |\n| Concepcion | 2014 |  2 | 360019 | 17.70 | 14.2 | 66.5 |   0.0 |  965 |\n| Concepcion | 2014 | 20 | 360019 | 12.00 |  8.6 | 92.0 |  22.8 | 1537 |\n| Concepcion | 2014 | 21 | 360019 | 11.50 |  5.3 | 88.0 |  34.2 | 2047 |\n| Concepcion | 2014 | 22 | 360019 | 10.50 |  7.7 | 89.0 |  34.0 | 2240 |\n| Concepcion | 2014 | 23 | 360019 |  9.50 |  5.8 | 86.0 | 138.2 | 2192 |\n| Concepcion | 2014 | 24 | 360019 | 10.80 |  5.5 | 92.0 |  99.0 | 2336 |\n| Concepcion | 2014 | 25 | 360019 | 11.80 |  6.7 | 82.0 |  25.8 | 2646 |\n| Concepcion | 2014 | 26 | 360019 |  7.80 |  8.2 | 92.0 |   3.0 | 2667 |\n| Concepcion | 2014 | 27 | 360019 |  8.70 |  5.0 | 87.0 |  26.8 | 2421 |\n| Concepcion | 2014 | 28 | 360019 |  9.40 |  9.2 | 84.0 |   0.0 | 2398 |\n| Concepcion | 2014 | 29 | 360019 | 11.10 |  6.2 | 90.0 |  51.6 | 2042 |\n| Concepcion | 2014 |  3 | 360019 | 18.00 | 10.7 | 76.0 |   0.0 |  763 |\n| Concepcion | 2014 | 30 | 360019 |  9.50 |  5.1 | 89.0 |  25.8 | 1632 |\n| Concepcion | 2014 | 31 | 360019 | 12.30 |  2.8 | 96.0 | 132.2 | 1212 |\n| Concepcion | 2014 | 32 | 360019 | 10.00 |  6.1 | 84.0 |  37.8 | 1180 |\n| Concepcion | 2014 | 33 | 360019 |  8.80 | 10.6 | 78.0 |   0.0 | 1716 |\n| Concepcion | 2014 | 34 | 360019 | 10.70 |  4.3 | 89.0 |  31.4 | 1798 |\n| Concepcion | 2014 | 35 | 360019 | 11.20 |  4.7 | 80.0 |  20.0 | 2007 |\n| Concepcion | 2014 | 36 | 360019 | 12.00 |  4.0 | 89.0 |  33.2 | 1875 |\n| ⋮ | ⋮ | ⋮ | ⋮ | ⋮ | ⋮ | ⋮ | ⋮ | ⋮ |\n| Santiago | 2023 |  3 | 330020 | 20.7 | 17.1 | 53.65 |  0.0 |  429 |\n| Santiago | 2023 | 30 | 330020 | 10.0 | 15.7 | 89.35 |  0.0 |  748 |\n| Santiago | 2023 | 31 | 330020 | 13.2 | 18.7 | 81.30 |  0.0 |  884 |\n| Santiago | 2023 | 32 | 330020 | 11.7 | 12.5 | 81.80 |  7.7 |  833 |\n| Santiago | 2023 | 33 | 330020 | 12.2 |  6.6 | 82.60 | 28.6 |  868 |\n| Santiago | 2023 | 34 | 330020 |  9.8 |  9.3 | 88.50 | 53.5 |  736 |\n| Santiago | 2023 | 35 | 330020 | 12.3 | 12.2 | 67.00 |  0.0 |  799 |\n| Santiago | 2023 | 36 | 330020 | 11.9 |  6.9 | 87.20 | 42.2 |  766 |\n| Santiago | 2023 | 37 | 330020 | 12.1 | 11.5 | 74.00 | 34.6 |  822 |\n| Santiago | 2023 | 38 | 330020 | 12.7 |  8.3 | 78.25 |  0.0 | 1014 |\n| Santiago | 2023 | 39 | 330020 | 12.3 | 15.5 | 70.20 |  0.0 |  923 |\n| Santiago | 2023 |  4 | 330020 | 22.3 | 18.8 | 43.40 |  0.0 |  388 |\n| Santiago | 2023 | 40 | 330020 | 11.6 | 11.5 | 77.05 |  1.9 |  926 |\n| Santiago | 2023 | 41 | 330020 | 15.3 | 19.4 | 61.50 |  0.0 | 1004 |\n| Santiago | 2023 | 42 | 330020 | 15.5 | 17.8 | 61.00 |  0.1 |  997 |\n| Santiago | 2023 | 43 | 330020 | 14.9 | 11.3 | 74.50 |  2.5 |  956 |\n| Santiago | 2023 | 44 | 330020 | 13.1 | 14.2 | 68.90 |  3.0 |  852 |\n| Santiago | 2023 | 45 | 330020 | 16.0 | 15.7 | 71.00 | 25.4 |  882 |\n| Santiago | 2023 | 46 | 330020 | 14.2 | 15.0 | 63.90 |  0.0 |  810 |\n| Santiago | 2023 | 47 | 330020 | 18.3 | 18.3 | 49.50 |  0.0 |  861 |\n| Santiago | 2023 | 48 | 330020 | 16.7 | 15.1 | 67.30 |  0.0 |  792 |\n| Santiago | 2023 | 49 | 330020 | 19.8 | 20.4 | 47.00 |  0.0 |  807 |\n| Santiago | 2023 |  5 | 330020 | 23.1 | 18.4 | 41.50 |  0.0 |  401 |\n| Santiago | 2023 | 50 | 330020 | 21.0 | 19.2 | 47.70 |  0.0 |  737 |\n| Santiago | 2023 | 51 | 330020 | 19.4 | 19.4 | 47.65 |  0.0 |  612 |\n| Santiago | 2023 | 52 | 330020 | 20.2 | 14.3 | 60.00 |  0.0 |  536 |\n| Santiago | 2023 |  6 | 330020 | 23.8 | 17.5 | 49.20 |  0.0 |  416 |\n| Santiago | 2023 |  7 | 330020 | 22.3 | 18.8 | 40.50 |  0.0 |  487 |\n| Santiago | 2023 |  8 | 330020 | 22.2 | 19.6 | 45.50 |  0.0 |  459 |\n| Santiago | 2023 |  9 | 330020 | 22.9 | 20.2 | 43.20 |  0.0 |  519 |\n\n",
            "text/latex": "A data.frame: 1572 × 9\n\\begin{tabular}{lllllllll}\n COMUNA & Anio & NuSemana & CodigoNacional & medianaClim & difMaxMin & Mediana\\_HR\\_Valor & Total\\_Valor\\_semPP & NumTotalUrg\\\\\n <chr> & <dbl> & <dbl> & <dbl> & <dbl> & <dbl> & <dbl> & <dbl> & <int>\\\\\n\\hline\n\t Concepcion & 2014 &  1 & 360019 & 16.75 & 13.6 & 58.0 &   0.0 &  574\\\\\n\t Concepcion & 2014 & 10 & 360019 & 15.20 & 11.2 & 76.5 &   0.4 &  938\\\\\n\t Concepcion & 2014 & 11 & 360019 & 15.80 &  9.9 & 80.0 &  12.8 & 1270\\\\\n\t Concepcion & 2014 & 12 & 360019 & 15.30 & 12.0 & 72.0 &   0.8 & 1702\\\\\n\t Concepcion & 2014 & 13 & 360019 & 13.70 &  4.4 & 81.0 &  52.8 & 1450\\\\\n\t Concepcion & 2014 & 14 & 360019 & 12.80 &  9.2 & 84.0 &   0.0 & 1480\\\\\n\t Concepcion & 2014 & 15 & 360019 & 12.00 &  8.4 & 86.0 &   5.8 & 1317\\\\\n\t Concepcion & 2014 & 16 & 360019 & 12.70 & 11.2 & 73.0 &   0.0 & 1353\\\\\n\t Concepcion & 2014 & 17 & 360019 & 12.60 & 10.9 & 90.5 &   1.6 & 1400\\\\\n\t Concepcion & 2014 & 18 & 360019 & 10.50 &  8.4 & 93.0 &  79.4 & 1215\\\\\n\t Concepcion & 2014 & 19 & 360019 & 13.40 &  5.2 & 96.0 &   3.0 & 1264\\\\\n\t Concepcion & 2014 &  2 & 360019 & 17.70 & 14.2 & 66.5 &   0.0 &  965\\\\\n\t Concepcion & 2014 & 20 & 360019 & 12.00 &  8.6 & 92.0 &  22.8 & 1537\\\\\n\t Concepcion & 2014 & 21 & 360019 & 11.50 &  5.3 & 88.0 &  34.2 & 2047\\\\\n\t Concepcion & 2014 & 22 & 360019 & 10.50 &  7.7 & 89.0 &  34.0 & 2240\\\\\n\t Concepcion & 2014 & 23 & 360019 &  9.50 &  5.8 & 86.0 & 138.2 & 2192\\\\\n\t Concepcion & 2014 & 24 & 360019 & 10.80 &  5.5 & 92.0 &  99.0 & 2336\\\\\n\t Concepcion & 2014 & 25 & 360019 & 11.80 &  6.7 & 82.0 &  25.8 & 2646\\\\\n\t Concepcion & 2014 & 26 & 360019 &  7.80 &  8.2 & 92.0 &   3.0 & 2667\\\\\n\t Concepcion & 2014 & 27 & 360019 &  8.70 &  5.0 & 87.0 &  26.8 & 2421\\\\\n\t Concepcion & 2014 & 28 & 360019 &  9.40 &  9.2 & 84.0 &   0.0 & 2398\\\\\n\t Concepcion & 2014 & 29 & 360019 & 11.10 &  6.2 & 90.0 &  51.6 & 2042\\\\\n\t Concepcion & 2014 &  3 & 360019 & 18.00 & 10.7 & 76.0 &   0.0 &  763\\\\\n\t Concepcion & 2014 & 30 & 360019 &  9.50 &  5.1 & 89.0 &  25.8 & 1632\\\\\n\t Concepcion & 2014 & 31 & 360019 & 12.30 &  2.8 & 96.0 & 132.2 & 1212\\\\\n\t Concepcion & 2014 & 32 & 360019 & 10.00 &  6.1 & 84.0 &  37.8 & 1180\\\\\n\t Concepcion & 2014 & 33 & 360019 &  8.80 & 10.6 & 78.0 &   0.0 & 1716\\\\\n\t Concepcion & 2014 & 34 & 360019 & 10.70 &  4.3 & 89.0 &  31.4 & 1798\\\\\n\t Concepcion & 2014 & 35 & 360019 & 11.20 &  4.7 & 80.0 &  20.0 & 2007\\\\\n\t Concepcion & 2014 & 36 & 360019 & 12.00 &  4.0 & 89.0 &  33.2 & 1875\\\\\n\t ⋮ & ⋮ & ⋮ & ⋮ & ⋮ & ⋮ & ⋮ & ⋮ & ⋮\\\\\n\t Santiago & 2023 &  3 & 330020 & 20.7 & 17.1 & 53.65 &  0.0 &  429\\\\\n\t Santiago & 2023 & 30 & 330020 & 10.0 & 15.7 & 89.35 &  0.0 &  748\\\\\n\t Santiago & 2023 & 31 & 330020 & 13.2 & 18.7 & 81.30 &  0.0 &  884\\\\\n\t Santiago & 2023 & 32 & 330020 & 11.7 & 12.5 & 81.80 &  7.7 &  833\\\\\n\t Santiago & 2023 & 33 & 330020 & 12.2 &  6.6 & 82.60 & 28.6 &  868\\\\\n\t Santiago & 2023 & 34 & 330020 &  9.8 &  9.3 & 88.50 & 53.5 &  736\\\\\n\t Santiago & 2023 & 35 & 330020 & 12.3 & 12.2 & 67.00 &  0.0 &  799\\\\\n\t Santiago & 2023 & 36 & 330020 & 11.9 &  6.9 & 87.20 & 42.2 &  766\\\\\n\t Santiago & 2023 & 37 & 330020 & 12.1 & 11.5 & 74.00 & 34.6 &  822\\\\\n\t Santiago & 2023 & 38 & 330020 & 12.7 &  8.3 & 78.25 &  0.0 & 1014\\\\\n\t Santiago & 2023 & 39 & 330020 & 12.3 & 15.5 & 70.20 &  0.0 &  923\\\\\n\t Santiago & 2023 &  4 & 330020 & 22.3 & 18.8 & 43.40 &  0.0 &  388\\\\\n\t Santiago & 2023 & 40 & 330020 & 11.6 & 11.5 & 77.05 &  1.9 &  926\\\\\n\t Santiago & 2023 & 41 & 330020 & 15.3 & 19.4 & 61.50 &  0.0 & 1004\\\\\n\t Santiago & 2023 & 42 & 330020 & 15.5 & 17.8 & 61.00 &  0.1 &  997\\\\\n\t Santiago & 2023 & 43 & 330020 & 14.9 & 11.3 & 74.50 &  2.5 &  956\\\\\n\t Santiago & 2023 & 44 & 330020 & 13.1 & 14.2 & 68.90 &  3.0 &  852\\\\\n\t Santiago & 2023 & 45 & 330020 & 16.0 & 15.7 & 71.00 & 25.4 &  882\\\\\n\t Santiago & 2023 & 46 & 330020 & 14.2 & 15.0 & 63.90 &  0.0 &  810\\\\\n\t Santiago & 2023 & 47 & 330020 & 18.3 & 18.3 & 49.50 &  0.0 &  861\\\\\n\t Santiago & 2023 & 48 & 330020 & 16.7 & 15.1 & 67.30 &  0.0 &  792\\\\\n\t Santiago & 2023 & 49 & 330020 & 19.8 & 20.4 & 47.00 &  0.0 &  807\\\\\n\t Santiago & 2023 &  5 & 330020 & 23.1 & 18.4 & 41.50 &  0.0 &  401\\\\\n\t Santiago & 2023 & 50 & 330020 & 21.0 & 19.2 & 47.70 &  0.0 &  737\\\\\n\t Santiago & 2023 & 51 & 330020 & 19.4 & 19.4 & 47.65 &  0.0 &  612\\\\\n\t Santiago & 2023 & 52 & 330020 & 20.2 & 14.3 & 60.00 &  0.0 &  536\\\\\n\t Santiago & 2023 &  6 & 330020 & 23.8 & 17.5 & 49.20 &  0.0 &  416\\\\\n\t Santiago & 2023 &  7 & 330020 & 22.3 & 18.8 & 40.50 &  0.0 &  487\\\\\n\t Santiago & 2023 &  8 & 330020 & 22.2 & 19.6 & 45.50 &  0.0 &  459\\\\\n\t Santiago & 2023 &  9 & 330020 & 22.9 & 20.2 & 43.20 &  0.0 &  519\\\\\n\\end{tabular}\n",
            "text/plain": [
              "     COMUNA     Anio NuSemana CodigoNacional medianaClim difMaxMin\n",
              "1    Concepcion 2014  1       360019         16.75       13.6     \n",
              "2    Concepcion 2014 10       360019         15.20       11.2     \n",
              "3    Concepcion 2014 11       360019         15.80        9.9     \n",
              "4    Concepcion 2014 12       360019         15.30       12.0     \n",
              "5    Concepcion 2014 13       360019         13.70        4.4     \n",
              "6    Concepcion 2014 14       360019         12.80        9.2     \n",
              "7    Concepcion 2014 15       360019         12.00        8.4     \n",
              "8    Concepcion 2014 16       360019         12.70       11.2     \n",
              "9    Concepcion 2014 17       360019         12.60       10.9     \n",
              "10   Concepcion 2014 18       360019         10.50        8.4     \n",
              "11   Concepcion 2014 19       360019         13.40        5.2     \n",
              "12   Concepcion 2014  2       360019         17.70       14.2     \n",
              "13   Concepcion 2014 20       360019         12.00        8.6     \n",
              "14   Concepcion 2014 21       360019         11.50        5.3     \n",
              "15   Concepcion 2014 22       360019         10.50        7.7     \n",
              "16   Concepcion 2014 23       360019          9.50        5.8     \n",
              "17   Concepcion 2014 24       360019         10.80        5.5     \n",
              "18   Concepcion 2014 25       360019         11.80        6.7     \n",
              "19   Concepcion 2014 26       360019          7.80        8.2     \n",
              "20   Concepcion 2014 27       360019          8.70        5.0     \n",
              "21   Concepcion 2014 28       360019          9.40        9.2     \n",
              "22   Concepcion 2014 29       360019         11.10        6.2     \n",
              "23   Concepcion 2014  3       360019         18.00       10.7     \n",
              "24   Concepcion 2014 30       360019          9.50        5.1     \n",
              "25   Concepcion 2014 31       360019         12.30        2.8     \n",
              "26   Concepcion 2014 32       360019         10.00        6.1     \n",
              "27   Concepcion 2014 33       360019          8.80       10.6     \n",
              "28   Concepcion 2014 34       360019         10.70        4.3     \n",
              "29   Concepcion 2014 35       360019         11.20        4.7     \n",
              "30   Concepcion 2014 36       360019         12.00        4.0     \n",
              "⋮    ⋮          ⋮    ⋮        ⋮              ⋮           ⋮        \n",
              "1543 Santiago   2023  3       330020         20.7        17.1     \n",
              "1544 Santiago   2023 30       330020         10.0        15.7     \n",
              "1545 Santiago   2023 31       330020         13.2        18.7     \n",
              "1546 Santiago   2023 32       330020         11.7        12.5     \n",
              "1547 Santiago   2023 33       330020         12.2         6.6     \n",
              "1548 Santiago   2023 34       330020          9.8         9.3     \n",
              "1549 Santiago   2023 35       330020         12.3        12.2     \n",
              "1550 Santiago   2023 36       330020         11.9         6.9     \n",
              "1551 Santiago   2023 37       330020         12.1        11.5     \n",
              "1552 Santiago   2023 38       330020         12.7         8.3     \n",
              "1553 Santiago   2023 39       330020         12.3        15.5     \n",
              "1554 Santiago   2023  4       330020         22.3        18.8     \n",
              "1555 Santiago   2023 40       330020         11.6        11.5     \n",
              "1556 Santiago   2023 41       330020         15.3        19.4     \n",
              "1557 Santiago   2023 42       330020         15.5        17.8     \n",
              "1558 Santiago   2023 43       330020         14.9        11.3     \n",
              "1559 Santiago   2023 44       330020         13.1        14.2     \n",
              "1560 Santiago   2023 45       330020         16.0        15.7     \n",
              "1561 Santiago   2023 46       330020         14.2        15.0     \n",
              "1562 Santiago   2023 47       330020         18.3        18.3     \n",
              "1563 Santiago   2023 48       330020         16.7        15.1     \n",
              "1564 Santiago   2023 49       330020         19.8        20.4     \n",
              "1565 Santiago   2023  5       330020         23.1        18.4     \n",
              "1566 Santiago   2023 50       330020         21.0        19.2     \n",
              "1567 Santiago   2023 51       330020         19.4        19.4     \n",
              "1568 Santiago   2023 52       330020         20.2        14.3     \n",
              "1569 Santiago   2023  6       330020         23.8        17.5     \n",
              "1570 Santiago   2023  7       330020         22.3        18.8     \n",
              "1571 Santiago   2023  8       330020         22.2        19.6     \n",
              "1572 Santiago   2023  9       330020         22.9        20.2     \n",
              "     Mediana_HR_Valor Total_Valor_semPP NumTotalUrg\n",
              "1    58.0               0.0              574       \n",
              "2    76.5               0.4              938       \n",
              "3    80.0              12.8             1270       \n",
              "4    72.0               0.8             1702       \n",
              "5    81.0              52.8             1450       \n",
              "6    84.0               0.0             1480       \n",
              "7    86.0               5.8             1317       \n",
              "8    73.0               0.0             1353       \n",
              "9    90.5               1.6             1400       \n",
              "10   93.0              79.4             1215       \n",
              "11   96.0               3.0             1264       \n",
              "12   66.5               0.0              965       \n",
              "13   92.0              22.8             1537       \n",
              "14   88.0              34.2             2047       \n",
              "15   89.0              34.0             2240       \n",
              "16   86.0             138.2             2192       \n",
              "17   92.0              99.0             2336       \n",
              "18   82.0              25.8             2646       \n",
              "19   92.0               3.0             2667       \n",
              "20   87.0              26.8             2421       \n",
              "21   84.0               0.0             2398       \n",
              "22   90.0              51.6             2042       \n",
              "23   76.0               0.0              763       \n",
              "24   89.0              25.8             1632       \n",
              "25   96.0             132.2             1212       \n",
              "26   84.0              37.8             1180       \n",
              "27   78.0               0.0             1716       \n",
              "28   89.0              31.4             1798       \n",
              "29   80.0              20.0             2007       \n",
              "30   89.0              33.2             1875       \n",
              "⋮    ⋮                ⋮                 ⋮          \n",
              "1543 53.65             0.0               429       \n",
              "1544 89.35             0.0               748       \n",
              "1545 81.30             0.0               884       \n",
              "1546 81.80             7.7               833       \n",
              "1547 82.60            28.6               868       \n",
              "1548 88.50            53.5               736       \n",
              "1549 67.00             0.0               799       \n",
              "1550 87.20            42.2               766       \n",
              "1551 74.00            34.6               822       \n",
              "1552 78.25             0.0              1014       \n",
              "1553 70.20             0.0               923       \n",
              "1554 43.40             0.0               388       \n",
              "1555 77.05             1.9               926       \n",
              "1556 61.50             0.0              1004       \n",
              "1557 61.00             0.1               997       \n",
              "1558 74.50             2.5               956       \n",
              "1559 68.90             3.0               852       \n",
              "1560 71.00            25.4               882       \n",
              "1561 63.90             0.0               810       \n",
              "1562 49.50             0.0               861       \n",
              "1563 67.30             0.0               792       \n",
              "1564 47.00             0.0               807       \n",
              "1565 41.50             0.0               401       \n",
              "1566 47.70             0.0               737       \n",
              "1567 47.65             0.0               612       \n",
              "1568 60.00             0.0               536       \n",
              "1569 49.20             0.0               416       \n",
              "1570 40.50             0.0               487       \n",
              "1571 45.50             0.0               459       \n",
              "1572 43.20             0.0               519       "
            ]
          },
          "metadata": {}
        }
      ]
    },
    {
      "cell_type": "code",
      "source": [
        "df_variable <-df_variable %>% select(-CodigoNacional) %>% arrange(Anio,NuSemana)\n",
        "head(df_variable,5)"
      ],
      "metadata": {
        "id": "ATDPzUugPDXL",
        "outputId": "68897377-c10d-4568-9c1a-c0d19eac2858",
        "colab": {
          "base_uri": "https://localhost:8080/",
          "height": 255
        }
      },
      "execution_count": 762,
      "outputs": [
        {
          "output_type": "display_data",
          "data": {
            "text/html": [
              "<table class=\"dataframe\">\n",
              "<caption>A data.frame: 5 × 8</caption>\n",
              "<thead>\n",
              "\t<tr><th></th><th scope=col>COMUNA</th><th scope=col>Anio</th><th scope=col>NuSemana</th><th scope=col>medianaClim</th><th scope=col>difMaxMin</th><th scope=col>Mediana_HR_Valor</th><th scope=col>Total_Valor_semPP</th><th scope=col>NumTotalUrg</th></tr>\n",
              "\t<tr><th></th><th scope=col>&lt;chr&gt;</th><th scope=col>&lt;dbl&gt;</th><th scope=col>&lt;dbl&gt;</th><th scope=col>&lt;dbl&gt;</th><th scope=col>&lt;dbl&gt;</th><th scope=col>&lt;dbl&gt;</th><th scope=col>&lt;dbl&gt;</th><th scope=col>&lt;int&gt;</th></tr>\n",
              "</thead>\n",
              "<tbody>\n",
              "\t<tr><th scope=row>1</th><td>Concepcion</td><td>2014</td><td>1</td><td>16.75</td><td>13.60</td><td>58.0</td><td>0</td><td>574</td></tr>\n",
              "\t<tr><th scope=row>2</th><td>LaSerena  </td><td>2014</td><td>1</td><td>17.60</td><td> 7.80</td><td>76.5</td><td>0</td><td>396</td></tr>\n",
              "\t<tr><th scope=row>3</th><td>Santiago  </td><td>2014</td><td>1</td><td>21.95</td><td>19.15</td><td>32.0</td><td>0</td><td>295</td></tr>\n",
              "\t<tr><th scope=row>4</th><td>Concepcion</td><td>2014</td><td>2</td><td>17.70</td><td>14.20</td><td>66.5</td><td>0</td><td>965</td></tr>\n",
              "\t<tr><th scope=row>5</th><td>LaSerena  </td><td>2014</td><td>2</td><td>17.40</td><td> 7.50</td><td>81.5</td><td>0</td><td>694</td></tr>\n",
              "</tbody>\n",
              "</table>\n"
            ],
            "text/markdown": "\nA data.frame: 5 × 8\n\n| <!--/--> | COMUNA &lt;chr&gt; | Anio &lt;dbl&gt; | NuSemana &lt;dbl&gt; | medianaClim &lt;dbl&gt; | difMaxMin &lt;dbl&gt; | Mediana_HR_Valor &lt;dbl&gt; | Total_Valor_semPP &lt;dbl&gt; | NumTotalUrg &lt;int&gt; |\n|---|---|---|---|---|---|---|---|---|\n| 1 | Concepcion | 2014 | 1 | 16.75 | 13.60 | 58.0 | 0 | 574 |\n| 2 | LaSerena   | 2014 | 1 | 17.60 |  7.80 | 76.5 | 0 | 396 |\n| 3 | Santiago   | 2014 | 1 | 21.95 | 19.15 | 32.0 | 0 | 295 |\n| 4 | Concepcion | 2014 | 2 | 17.70 | 14.20 | 66.5 | 0 | 965 |\n| 5 | LaSerena   | 2014 | 2 | 17.40 |  7.50 | 81.5 | 0 | 694 |\n\n",
            "text/latex": "A data.frame: 5 × 8\n\\begin{tabular}{r|llllllll}\n  & COMUNA & Anio & NuSemana & medianaClim & difMaxMin & Mediana\\_HR\\_Valor & Total\\_Valor\\_semPP & NumTotalUrg\\\\\n  & <chr> & <dbl> & <dbl> & <dbl> & <dbl> & <dbl> & <dbl> & <int>\\\\\n\\hline\n\t1 & Concepcion & 2014 & 1 & 16.75 & 13.60 & 58.0 & 0 & 574\\\\\n\t2 & LaSerena   & 2014 & 1 & 17.60 &  7.80 & 76.5 & 0 & 396\\\\\n\t3 & Santiago   & 2014 & 1 & 21.95 & 19.15 & 32.0 & 0 & 295\\\\\n\t4 & Concepcion & 2014 & 2 & 17.70 & 14.20 & 66.5 & 0 & 965\\\\\n\t5 & LaSerena   & 2014 & 2 & 17.40 &  7.50 & 81.5 & 0 & 694\\\\\n\\end{tabular}\n",
            "text/plain": [
              "  COMUNA     Anio NuSemana medianaClim difMaxMin Mediana_HR_Valor\n",
              "1 Concepcion 2014 1        16.75       13.60     58.0            \n",
              "2 LaSerena   2014 1        17.60        7.80     76.5            \n",
              "3 Santiago   2014 1        21.95       19.15     32.0            \n",
              "4 Concepcion 2014 2        17.70       14.20     66.5            \n",
              "5 LaSerena   2014 2        17.40        7.50     81.5            \n",
              "  Total_Valor_semPP NumTotalUrg\n",
              "1 0                 574        \n",
              "2 0                 396        \n",
              "3 0                 295        \n",
              "4 0                 965        \n",
              "5 0                 694        "
            ]
          },
          "metadata": {}
        }
      ]
    },
    {
      "cell_type": "code",
      "source": [
        "df_datos_mp25_semanal %>% filter(Total_Valor_semMP25 == 0)"
      ],
      "metadata": {
        "id": "LROWEFKm6INO",
        "outputId": "c7c75ed9-4a22-4c5a-d0e0-1995feaa7b1e",
        "colab": {
          "base_uri": "https://localhost:8080/",
          "height": 1000
        }
      },
      "execution_count": 763,
      "outputs": [
        {
          "output_type": "display_data",
          "data": {
            "text/html": [
              "<table class=\"dataframe\">\n",
              "<caption>A data.frame: 39 × 4</caption>\n",
              "<thead>\n",
              "\t<tr><th scope=col>COMUNA</th><th scope=col>Anio</th><th scope=col>NuSemana</th><th scope=col>Total_Valor_semMP25</th></tr>\n",
              "\t<tr><th scope=col>&lt;chr&gt;</th><th scope=col>&lt;dbl&gt;</th><th scope=col>&lt;dbl&gt;</th><th scope=col>&lt;dbl&gt;</th></tr>\n",
              "</thead>\n",
              "<tbody>\n",
              "\t<tr><td>Concepcion</td><td>2014</td><td>26</td><td>0</td></tr>\n",
              "\t<tr><td>Concepcion</td><td>2014</td><td>27</td><td>0</td></tr>\n",
              "\t<tr><td>Concepcion</td><td>2014</td><td>28</td><td>0</td></tr>\n",
              "\t<tr><td>Concepcion</td><td>2014</td><td>29</td><td>0</td></tr>\n",
              "\t<tr><td>Concepcion</td><td>2014</td><td>30</td><td>0</td></tr>\n",
              "\t<tr><td>Concepcion</td><td>2014</td><td>31</td><td>0</td></tr>\n",
              "\t<tr><td>Concepcion</td><td>2014</td><td>32</td><td>0</td></tr>\n",
              "\t<tr><td>Concepcion</td><td>2014</td><td>33</td><td>0</td></tr>\n",
              "\t<tr><td>Concepcion</td><td>2014</td><td>34</td><td>0</td></tr>\n",
              "\t<tr><td>Concepcion</td><td>2014</td><td>52</td><td>0</td></tr>\n",
              "\t<tr><td>Concepcion</td><td>2014</td><td>53</td><td>0</td></tr>\n",
              "\t<tr><td>Concepcion</td><td>2015</td><td> 1</td><td>0</td></tr>\n",
              "\t<tr><td>Concepcion</td><td>2015</td><td> 2</td><td>0</td></tr>\n",
              "\t<tr><td>Concepcion</td><td>2015</td><td> 3</td><td>0</td></tr>\n",
              "\t<tr><td>Concepcion</td><td>2015</td><td> 4</td><td>0</td></tr>\n",
              "\t<tr><td>Concepcion</td><td>2015</td><td> 5</td><td>0</td></tr>\n",
              "\t<tr><td>Concepcion</td><td>2015</td><td> 6</td><td>0</td></tr>\n",
              "\t<tr><td>Concepcion</td><td>2015</td><td> 7</td><td>0</td></tr>\n",
              "\t<tr><td>Concepcion</td><td>2015</td><td> 8</td><td>0</td></tr>\n",
              "\t<tr><td>Concepcion</td><td>2015</td><td> 9</td><td>0</td></tr>\n",
              "\t<tr><td>Concepcion</td><td>2015</td><td>10</td><td>0</td></tr>\n",
              "\t<tr><td>Concepcion</td><td>2015</td><td>11</td><td>0</td></tr>\n",
              "\t<tr><td>Concepcion</td><td>2015</td><td>53</td><td>0</td></tr>\n",
              "\t<tr><td>Concepcion</td><td>2016</td><td>41</td><td>0</td></tr>\n",
              "\t<tr><td>Concepcion</td><td>2016</td><td>42</td><td>0</td></tr>\n",
              "\t<tr><td>Concepcion</td><td>2016</td><td>43</td><td>0</td></tr>\n",
              "\t<tr><td>Concepcion</td><td>2016</td><td>44</td><td>0</td></tr>\n",
              "\t<tr><td>Concepcion</td><td>2016</td><td>45</td><td>0</td></tr>\n",
              "\t<tr><td>LaSerena  </td><td>2014</td><td>44</td><td>0</td></tr>\n",
              "\t<tr><td>LaSerena  </td><td>2014</td><td>45</td><td>0</td></tr>\n",
              "\t<tr><td>LaSerena  </td><td>2015</td><td> 4</td><td>0</td></tr>\n",
              "\t<tr><td>LaSerena  </td><td>2015</td><td> 5</td><td>0</td></tr>\n",
              "\t<tr><td>LaSerena  </td><td>2015</td><td> 6</td><td>0</td></tr>\n",
              "\t<tr><td>LaSerena  </td><td>2015</td><td>13</td><td>0</td></tr>\n",
              "\t<tr><td>LaSerena  </td><td>2015</td><td>14</td><td>0</td></tr>\n",
              "\t<tr><td>LaSerena  </td><td>2015</td><td>15</td><td>0</td></tr>\n",
              "\t<tr><td>LaSerena  </td><td>2015</td><td>16</td><td>0</td></tr>\n",
              "\t<tr><td>LaSerena  </td><td>2015</td><td>19</td><td>0</td></tr>\n",
              "\t<tr><td>Santiago  </td><td>2014</td><td> 1</td><td>0</td></tr>\n",
              "</tbody>\n",
              "</table>\n"
            ],
            "text/markdown": "\nA data.frame: 39 × 4\n\n| COMUNA &lt;chr&gt; | Anio &lt;dbl&gt; | NuSemana &lt;dbl&gt; | Total_Valor_semMP25 &lt;dbl&gt; |\n|---|---|---|---|\n| Concepcion | 2014 | 26 | 0 |\n| Concepcion | 2014 | 27 | 0 |\n| Concepcion | 2014 | 28 | 0 |\n| Concepcion | 2014 | 29 | 0 |\n| Concepcion | 2014 | 30 | 0 |\n| Concepcion | 2014 | 31 | 0 |\n| Concepcion | 2014 | 32 | 0 |\n| Concepcion | 2014 | 33 | 0 |\n| Concepcion | 2014 | 34 | 0 |\n| Concepcion | 2014 | 52 | 0 |\n| Concepcion | 2014 | 53 | 0 |\n| Concepcion | 2015 |  1 | 0 |\n| Concepcion | 2015 |  2 | 0 |\n| Concepcion | 2015 |  3 | 0 |\n| Concepcion | 2015 |  4 | 0 |\n| Concepcion | 2015 |  5 | 0 |\n| Concepcion | 2015 |  6 | 0 |\n| Concepcion | 2015 |  7 | 0 |\n| Concepcion | 2015 |  8 | 0 |\n| Concepcion | 2015 |  9 | 0 |\n| Concepcion | 2015 | 10 | 0 |\n| Concepcion | 2015 | 11 | 0 |\n| Concepcion | 2015 | 53 | 0 |\n| Concepcion | 2016 | 41 | 0 |\n| Concepcion | 2016 | 42 | 0 |\n| Concepcion | 2016 | 43 | 0 |\n| Concepcion | 2016 | 44 | 0 |\n| Concepcion | 2016 | 45 | 0 |\n| LaSerena   | 2014 | 44 | 0 |\n| LaSerena   | 2014 | 45 | 0 |\n| LaSerena   | 2015 |  4 | 0 |\n| LaSerena   | 2015 |  5 | 0 |\n| LaSerena   | 2015 |  6 | 0 |\n| LaSerena   | 2015 | 13 | 0 |\n| LaSerena   | 2015 | 14 | 0 |\n| LaSerena   | 2015 | 15 | 0 |\n| LaSerena   | 2015 | 16 | 0 |\n| LaSerena   | 2015 | 19 | 0 |\n| Santiago   | 2014 |  1 | 0 |\n\n",
            "text/latex": "A data.frame: 39 × 4\n\\begin{tabular}{llll}\n COMUNA & Anio & NuSemana & Total\\_Valor\\_semMP25\\\\\n <chr> & <dbl> & <dbl> & <dbl>\\\\\n\\hline\n\t Concepcion & 2014 & 26 & 0\\\\\n\t Concepcion & 2014 & 27 & 0\\\\\n\t Concepcion & 2014 & 28 & 0\\\\\n\t Concepcion & 2014 & 29 & 0\\\\\n\t Concepcion & 2014 & 30 & 0\\\\\n\t Concepcion & 2014 & 31 & 0\\\\\n\t Concepcion & 2014 & 32 & 0\\\\\n\t Concepcion & 2014 & 33 & 0\\\\\n\t Concepcion & 2014 & 34 & 0\\\\\n\t Concepcion & 2014 & 52 & 0\\\\\n\t Concepcion & 2014 & 53 & 0\\\\\n\t Concepcion & 2015 &  1 & 0\\\\\n\t Concepcion & 2015 &  2 & 0\\\\\n\t Concepcion & 2015 &  3 & 0\\\\\n\t Concepcion & 2015 &  4 & 0\\\\\n\t Concepcion & 2015 &  5 & 0\\\\\n\t Concepcion & 2015 &  6 & 0\\\\\n\t Concepcion & 2015 &  7 & 0\\\\\n\t Concepcion & 2015 &  8 & 0\\\\\n\t Concepcion & 2015 &  9 & 0\\\\\n\t Concepcion & 2015 & 10 & 0\\\\\n\t Concepcion & 2015 & 11 & 0\\\\\n\t Concepcion & 2015 & 53 & 0\\\\\n\t Concepcion & 2016 & 41 & 0\\\\\n\t Concepcion & 2016 & 42 & 0\\\\\n\t Concepcion & 2016 & 43 & 0\\\\\n\t Concepcion & 2016 & 44 & 0\\\\\n\t Concepcion & 2016 & 45 & 0\\\\\n\t LaSerena   & 2014 & 44 & 0\\\\\n\t LaSerena   & 2014 & 45 & 0\\\\\n\t LaSerena   & 2015 &  4 & 0\\\\\n\t LaSerena   & 2015 &  5 & 0\\\\\n\t LaSerena   & 2015 &  6 & 0\\\\\n\t LaSerena   & 2015 & 13 & 0\\\\\n\t LaSerena   & 2015 & 14 & 0\\\\\n\t LaSerena   & 2015 & 15 & 0\\\\\n\t LaSerena   & 2015 & 16 & 0\\\\\n\t LaSerena   & 2015 & 19 & 0\\\\\n\t Santiago   & 2014 &  1 & 0\\\\\n\\end{tabular}\n",
            "text/plain": [
              "   COMUNA     Anio NuSemana Total_Valor_semMP25\n",
              "1  Concepcion 2014 26       0                  \n",
              "2  Concepcion 2014 27       0                  \n",
              "3  Concepcion 2014 28       0                  \n",
              "4  Concepcion 2014 29       0                  \n",
              "5  Concepcion 2014 30       0                  \n",
              "6  Concepcion 2014 31       0                  \n",
              "7  Concepcion 2014 32       0                  \n",
              "8  Concepcion 2014 33       0                  \n",
              "9  Concepcion 2014 34       0                  \n",
              "10 Concepcion 2014 52       0                  \n",
              "11 Concepcion 2014 53       0                  \n",
              "12 Concepcion 2015  1       0                  \n",
              "13 Concepcion 2015  2       0                  \n",
              "14 Concepcion 2015  3       0                  \n",
              "15 Concepcion 2015  4       0                  \n",
              "16 Concepcion 2015  5       0                  \n",
              "17 Concepcion 2015  6       0                  \n",
              "18 Concepcion 2015  7       0                  \n",
              "19 Concepcion 2015  8       0                  \n",
              "20 Concepcion 2015  9       0                  \n",
              "21 Concepcion 2015 10       0                  \n",
              "22 Concepcion 2015 11       0                  \n",
              "23 Concepcion 2015 53       0                  \n",
              "24 Concepcion 2016 41       0                  \n",
              "25 Concepcion 2016 42       0                  \n",
              "26 Concepcion 2016 43       0                  \n",
              "27 Concepcion 2016 44       0                  \n",
              "28 Concepcion 2016 45       0                  \n",
              "29 LaSerena   2014 44       0                  \n",
              "30 LaSerena   2014 45       0                  \n",
              "31 LaSerena   2015  4       0                  \n",
              "32 LaSerena   2015  5       0                  \n",
              "33 LaSerena   2015  6       0                  \n",
              "34 LaSerena   2015 13       0                  \n",
              "35 LaSerena   2015 14       0                  \n",
              "36 LaSerena   2015 15       0                  \n",
              "37 LaSerena   2015 16       0                  \n",
              "38 LaSerena   2015 19       0                  \n",
              "39 Santiago   2014  1       0                  "
            ]
          },
          "metadata": {}
        }
      ]
    },
    {
      "cell_type": "code",
      "source": [
        "#Aqui estan todas las causas consideradas. La #3 es un total.\n",
        "#df_urgr_esp_semanal %>% select(OrdenCausa, Causa)%>%distinct()%>%arrange(OrdenCausa)"
      ],
      "metadata": {
        "id": "oREv1_6pveC6"
      },
      "execution_count": 764,
      "outputs": []
    },
    {
      "cell_type": "code",
      "source": [
        "#Filtro el dataset par las regiones 8,4 y 13, tambien la causa 3 que es solo totalizador de urgencias reportadas\n",
        "#df_urgr_esp_semanal<- df_urgr_esp_semanal %>% filter (RegionCodigo %in% c(8,4,13) & OrdenCausa != 3)\n",
        "#count(df_urgr_esp_semanal)\n",
        "#head(df_urgr_esp_semanal,5)\n",
        "#df_urgr_esp_semanal %>% filter (ComunaGlosa == 'La Serena' & Anio == 2023 & SemanaEstadistica == 47) %>%arrange (Anio)\n",
        "#%>% select(ComunaCodigo, ComunaGlosa) %>% filter(ComunaGlosa == 'Santiago')"
      ],
      "metadata": {
        "id": "SPdSAwt-zfD7"
      },
      "execution_count": 765,
      "outputs": []
    },
    {
      "cell_type": "code",
      "source": [
        "#Obtengo el total de urgencias reportadas en todos los años por las 3 regiones.\n",
        "#df_urgr_esp_semanal%>% group_by(RegionGlosa) %>% summarise(Total = sum(NumTotal, na.rm = TRUE))"
      ],
      "metadata": {
        "id": "YBwWoeGzxkZt"
      },
      "execution_count": 766,
      "outputs": []
    },
    {
      "cell_type": "code",
      "source": [
        "# Grafico la cantidad de casos por región\n",
        "#df_plot1<-df_urgr_esp_semanal%>% group_by(RegionGlosa) %>% summarise(Total = sum(NumTotal, na.rm = TRUE))\n",
        "#options(repr.plot.width = 10, repr.plot.height = 10)\n",
        "#ggplot(df_plot1, aes(x=RegionGlosa, y= Total, fill= RegionGlosa)) + geom_bar(stat=\"identity\") +\n",
        "#scale_y_continuous(labels = scales::comma_format(accuracy = 1))+\n",
        "#theme(axis.text.x = element_text(angle = 75, vjust = .5))+\n",
        "#labs(x = \"Región\", y = \"Total Urgencias\", title = \"Total Urgencias x Región\")"
      ],
      "metadata": {
        "id": "9U0Uf1SXnlX9"
      },
      "execution_count": 767,
      "outputs": []
    },
    {
      "cell_type": "code",
      "source": [
        "# Obtengo cantidad de urgencias por año y region\n",
        "#df_resumen <- df_urgr_esp_semanal %>%\n",
        "#  group_by(Anio, RegionGlosa) %>%\n",
        "#  summarise(Total = sum(NumTotal, na.rm = TRUE))\n",
        "#  df_resumen"
      ],
      "metadata": {
        "id": "EmhGoM1e0ZOo"
      },
      "execution_count": 768,
      "outputs": []
    },
    {
      "cell_type": "code",
      "source": [
        "# Obtengo cantidad de urgencias por año, semana y region.\n",
        "#df_resumen <- df_urgr_esp_semanal %>%\n",
        "#  group_by(Anio, SemanaEstadistica, Causa) %>%\n",
        "#  summarise(Total = sum(NumTotal, na.rm = TRUE))\n",
        "#  df_resumen"
      ],
      "metadata": {
        "id": "M-wlfKZigc6v"
      },
      "execution_count": 769,
      "outputs": []
    },
    {
      "cell_type": "code",
      "source": [
        "#df_agrupado <- df_urgr_esp_semanal %>%\n",
        " # group_by(Anio) %>%\n",
        "  #summarise(Total = sum(NumTotal, na.rm = TRUE))\n",
        "#options(repr.plot.width = 15, repr.plot.height = 15)\n",
        "#ggplot(df_agrupado, aes(x = factor(Anio), y = Total)) +\n",
        " # geom_bar(stat = \"identity\", fill = \"steelblue\") +\n",
        " # labs(x = \"Año\", y = \"Total Urgencias\", title = \"Urgencias por Año\") +\n",
        " # theme_minimal()"
      ],
      "metadata": {
        "id": "BxOCdmv31mZe"
      },
      "execution_count": 770,
      "outputs": []
    }
  ]
}