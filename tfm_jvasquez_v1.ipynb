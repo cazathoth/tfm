{
  "nbformat": 4,
  "nbformat_minor": 0,
  "metadata": {
    "colab": {
      "provenance": [],
      "authorship_tag": "ABX9TyOgadaDod+jUwyRHASjmInY",
      "include_colab_link": true
    },
    "kernelspec": {
      "name": "ir",
      "display_name": "R"
    },
    "language_info": {
      "name": "R"
    }
  },
  "cells": [
    {
      "cell_type": "markdown",
      "metadata": {
        "id": "view-in-github",
        "colab_type": "text"
      },
      "source": [
        "<a href=\"https://colab.research.google.com/github/cazathoth/tfm/blob/main/tfm_jvasquez_v1.ipynb\" target=\"_parent\"><img src=\"https://colab.research.google.com/assets/colab-badge.svg\" alt=\"Open In Colab\"/></a>"
      ]
    },
    {
      "cell_type": "code",
      "execution_count": 1,
      "metadata": {
        "colab": {
          "base_uri": "https://localhost:8080/"
        },
        "collapsed": true,
        "id": "dYQtmnm-tU_g",
        "outputId": "2b59dd1c-2231-4a2e-b99a-a7db53eca8bd"
      },
      "outputs": [
        {
          "output_type": "stream",
          "name": "stderr",
          "text": [
            "Installing package into ‘/usr/local/lib/R/site-library’\n",
            "(as ‘lib’ is unspecified)\n",
            "\n",
            "Installing package into ‘/usr/local/lib/R/site-library’\n",
            "(as ‘lib’ is unspecified)\n",
            "\n",
            "also installing the dependency ‘assertthat’\n",
            "\n",
            "\n",
            "Installing package into ‘/usr/local/lib/R/site-library’\n",
            "(as ‘lib’ is unspecified)\n",
            "\n"
          ]
        }
      ],
      "source": [
        "#descarga librerias.\n",
        "install.packages(\"tidyverse\")\n",
        "install.packages(\"arrow\")\n",
        "install.packages(\"lubridate\")\n",
        "#install.packages('devtools')\n",
        "#devtools::install_github('catboost/catboost', subdir = 'catboost/R-package')"
      ]
    },
    {
      "cell_type": "code",
      "source": [
        "#cargo librerias a utilizar.\n",
        "library(\"tidyverse\")\n",
        "library(\"arrow\")\n",
        "library(\"lubridate\")\n",
        "#library(\"catboost\")"
      ],
      "metadata": {
        "collapsed": true,
        "id": "nF9tJ2Z2tcfR",
        "colab": {
          "base_uri": "https://localhost:8080/"
        },
        "outputId": "f4981591-b2b0-40a0-e930-c0e1fb463c9c"
      },
      "execution_count": 2,
      "outputs": [
        {
          "output_type": "stream",
          "name": "stderr",
          "text": [
            "── \u001b[1mAttaching core tidyverse packages\u001b[22m ──────────────────────── tidyverse 2.0.0 ──\n",
            "\u001b[32m✔\u001b[39m \u001b[34mdplyr    \u001b[39m 1.1.4     \u001b[32m✔\u001b[39m \u001b[34mreadr    \u001b[39m 2.1.5\n",
            "\u001b[32m✔\u001b[39m \u001b[34mforcats  \u001b[39m 1.0.0     \u001b[32m✔\u001b[39m \u001b[34mstringr  \u001b[39m 1.5.1\n",
            "\u001b[32m✔\u001b[39m \u001b[34mggplot2  \u001b[39m 3.5.1     \u001b[32m✔\u001b[39m \u001b[34mtibble   \u001b[39m 3.2.1\n",
            "\u001b[32m✔\u001b[39m \u001b[34mlubridate\u001b[39m 1.9.3     \u001b[32m✔\u001b[39m \u001b[34mtidyr    \u001b[39m 1.3.1\n",
            "\u001b[32m✔\u001b[39m \u001b[34mpurrr    \u001b[39m 1.0.2     \n",
            "── \u001b[1mConflicts\u001b[22m ────────────────────────────────────────── tidyverse_conflicts() ──\n",
            "\u001b[31m✖\u001b[39m \u001b[34mdplyr\u001b[39m::\u001b[32mfilter()\u001b[39m masks \u001b[34mstats\u001b[39m::filter()\n",
            "\u001b[31m✖\u001b[39m \u001b[34mdplyr\u001b[39m::\u001b[32mlag()\u001b[39m    masks \u001b[34mstats\u001b[39m::lag()\n",
            "\u001b[36mℹ\u001b[39m Use the conflicted package (\u001b[3m\u001b[34m<http://conflicted.r-lib.org/>\u001b[39m\u001b[23m) to force all conflicts to become errors\n",
            "\n",
            "Attaching package: ‘arrow’\n",
            "\n",
            "\n",
            "The following object is masked from ‘package:lubridate’:\n",
            "\n",
            "    duration\n",
            "\n",
            "\n",
            "The following object is masked from ‘package:utils’:\n",
            "\n",
            "    timestamp\n",
            "\n",
            "\n"
          ]
        }
      ]
    },
    {
      "cell_type": "code",
      "source": [
        "#creo directorio y descargo dataset con datos de urgencias respiratorias\n",
        "dir.create(\"descargas\")\n",
        "url <- \"https://datos.gob.cl/dataset/606ef5bb-11d1-475b-b69f-b980da5757f4/resource/ae6c9887-106d-4e98-8875-40bf2b836041/download/at_urg_respiratorio_semanal.parquet\"\n",
        "nombre_temporal <- \"descargas/at_urg_respiratorio_semanal.parquet\"\n",
        "download.file(url, nombre_temporal)"
      ],
      "metadata": {
        "id": "dxpqJfpYxZsn"
      },
      "execution_count": 3,
      "outputs": []
    },
    {
      "cell_type": "code",
      "source": [
        "#Descargo datos meteorologicos- temperatura\n",
        "url <- \"https://raw.githubusercontent.com/cazathoth/data/9ed2ff302d64b81e79eab693e77d12f805ed65ba/MERGE_XXXX_DiarioTs_.csv\"\n",
        "nombre_temporal <- \"descargas/MERGE_XXXX_DiarioTs_.csv\"\n",
        "download.file(url, nombre_temporal)"
      ],
      "metadata": {
        "id": "B5FJdDWXO5fT"
      },
      "execution_count": 4,
      "outputs": []
    },
    {
      "cell_type": "code",
      "source": [
        "#Descargo datos meteorologicos- precipitaciones\n",
        "url <- \"https://raw.githubusercontent.com/cazathoth/data/43bad08be793c38c993d524d182dcb2597e14714/MERGE_DiarioRR.csv\"\n",
        "nombre_temporal <- \"descargas/MERGE_DiarioRR.csv\"\n",
        "download.file(url, nombre_temporal)"
      ],
      "metadata": {
        "id": "hbru5hT8xRMn"
      },
      "execution_count": 5,
      "outputs": []
    },
    {
      "cell_type": "code",
      "source": [
        "#Descargo zip datos meteorologicos- humedad\n",
        "url <- \"https://github.com/cazathoth/data/raw/69c13d02f49cd04ee16ab8063f872e2aa9b2632a/MERGE_Humedad.zip\"\n",
        "nombre_temporal <- \"descargas/MERGE_Humedad.zip\"\n",
        "download.file(url, nombre_temporal)\n",
        "#Descomprimo archivo zip\n",
        "unzip(\"/content/descargas/MERGE_Humedad.zip\", exdir = \"/content/descargas/\")"
      ],
      "metadata": {
        "id": "gvslMr7ohtBQ"
      },
      "execution_count": 6,
      "outputs": []
    },
    {
      "cell_type": "code",
      "source": [
        "#Descargo datos material particulado\n",
        "url <- \"https://raw.githubusercontent.com/cazathoth/data/43bad08be793c38c993d524d182dcb2597e14714/MERGE_MP.csv\"\n",
        "nombre_temporal <- \"descargas/MERGE_MP.csv\"\n",
        "download.file(url, nombre_temporal)"
      ],
      "metadata": {
        "id": "QjmvuWWo0aa6"
      },
      "execution_count": 7,
      "outputs": []
    },
    {
      "cell_type": "code",
      "source": [
        "# Creo data frame urgencias y filtro por comuna de Santiago, La Serena y Concepción, luego cargo los datos\n",
        "df_urgr_esp_semanal <- read_parquet(\"descargas/at_urg_respiratorio_semanal.parquet\", col_select = c ('EstablecimientoCodigo','ComunaCodigo', 'ComunaGlosa', 'Anio', 'SemanaEstadistica','OrdenCausa','Causa','NumTotal'))\n",
        "df_urgr_esp_semanal <- df_urgr_esp_semanal %>% filter (ComunaCodigo %in% c(4101, 8101, 13101) & OrdenCausa ==3)"
      ],
      "metadata": {
        "id": "Qb5IXYxZNZkc"
      },
      "execution_count": 40,
      "outputs": []
    },
    {
      "cell_type": "code",
      "source": [
        "#ano_base <- \"2014-01-01\"\n",
        "#df_datos_temperatura <- read_delim(\"descargas/MERGE_XXXX_DiarioTs_.csv\", delim=\";\",col_select = c('CodigoNacional','momento','MediaCli_Valor','Maxima_Valor','Minima_Valor'), col_types = cols(momento = col_date(format = \"%d-%m-%Y %H:%M:%S\")))\n",
        "#df_datos_temperatura <- df_datos_temperatura %>% filter (momento > ano_base)\n",
        "#head(df_datos_temperatura,15)"
      ],
      "metadata": {
        "id": "a5R_eoKW13Td"
      },
      "execution_count": 41,
      "outputs": []
    },
    {
      "cell_type": "code",
      "source": [
        "#Cargo data frame temperatura y le cargo datos\n",
        "#df_datos_temperatura <- read.csv(\"descargas/MERGE_XXXX_DiarioTs_.csv\", header= TRUE, sep=\";\")\n",
        "df_datos_temperatura <- read_delim(\"descargas/MERGE_XXXX_DiarioTs_.csv\", delim=\";\",col_select = c('CodigoNacional','momento','MediaCli_Valor','Maxima_Valor','Minima_Valor'))\n",
        "head(df_datos_temperatura,5)"
      ],
      "metadata": {
        "id": "kazvPllqQygW",
        "outputId": "0e0ab4ca-62ea-4f27-f726-388d705dd593",
        "colab": {
          "base_uri": "https://localhost:8080/",
          "height": 394
        }
      },
      "execution_count": 42,
      "outputs": [
        {
          "output_type": "stream",
          "name": "stderr",
          "text": [
            "\u001b[1mRows: \u001b[22m\u001b[34m74539\u001b[39m \u001b[1mColumns: \u001b[22m\u001b[34m5\u001b[39m\n",
            "\u001b[36m──\u001b[39m \u001b[1mColumn specification\u001b[22m \u001b[36m────────────────────────────────────────────────────────\u001b[39m\n",
            "\u001b[1mDelimiter:\u001b[22m \";\"\n",
            "\u001b[31mchr\u001b[39m (1): momento\n",
            "\u001b[32mdbl\u001b[39m (4): CodigoNacional, MediaCli_Valor, Maxima_Valor, Minima_Valor\n",
            "\n",
            "\u001b[36mℹ\u001b[39m Use `spec()` to retrieve the full column specification for this data.\n",
            "\u001b[36mℹ\u001b[39m Specify the column types or set `show_col_types = FALSE` to quiet this message.\n"
          ]
        },
        {
          "output_type": "display_data",
          "data": {
            "text/html": [
              "<table class=\"dataframe\">\n",
              "<caption>A tibble: 5 × 5</caption>\n",
              "<thead>\n",
              "\t<tr><th scope=col>CodigoNacional</th><th scope=col>momento</th><th scope=col>MediaCli_Valor</th><th scope=col>Maxima_Valor</th><th scope=col>Minima_Valor</th></tr>\n",
              "\t<tr><th scope=col>&lt;dbl&gt;</th><th scope=col>&lt;chr&gt;</th><th scope=col>&lt;dbl&gt;</th><th scope=col>&lt;dbl&gt;</th><th scope=col>&lt;dbl&gt;</th></tr>\n",
              "</thead>\n",
              "<tbody>\n",
              "\t<tr><td>290004</td><td>01-01-1954 12:00:00</td><td>16.5</td><td>20.6</td><td>12.3</td></tr>\n",
              "\t<tr><td>290004</td><td>02-01-1954 12:00:00</td><td>17.1</td><td>20.4</td><td>13.9</td></tr>\n",
              "\t<tr><td>290004</td><td>03-01-1954 12:00:00</td><td>15.1</td><td>20.0</td><td>10.2</td></tr>\n",
              "\t<tr><td>290004</td><td>04-01-1954 12:00:00</td><td>16.9</td><td>20.8</td><td>13.0</td></tr>\n",
              "\t<tr><td>290004</td><td>05-01-1954 12:00:00</td><td>17.7</td><td>20.4</td><td>15.0</td></tr>\n",
              "</tbody>\n",
              "</table>\n"
            ],
            "text/markdown": "\nA tibble: 5 × 5\n\n| CodigoNacional &lt;dbl&gt; | momento &lt;chr&gt; | MediaCli_Valor &lt;dbl&gt; | Maxima_Valor &lt;dbl&gt; | Minima_Valor &lt;dbl&gt; |\n|---|---|---|---|---|\n| 290004 | 01-01-1954 12:00:00 | 16.5 | 20.6 | 12.3 |\n| 290004 | 02-01-1954 12:00:00 | 17.1 | 20.4 | 13.9 |\n| 290004 | 03-01-1954 12:00:00 | 15.1 | 20.0 | 10.2 |\n| 290004 | 04-01-1954 12:00:00 | 16.9 | 20.8 | 13.0 |\n| 290004 | 05-01-1954 12:00:00 | 17.7 | 20.4 | 15.0 |\n\n",
            "text/latex": "A tibble: 5 × 5\n\\begin{tabular}{lllll}\n CodigoNacional & momento & MediaCli\\_Valor & Maxima\\_Valor & Minima\\_Valor\\\\\n <dbl> & <chr> & <dbl> & <dbl> & <dbl>\\\\\n\\hline\n\t 290004 & 01-01-1954 12:00:00 & 16.5 & 20.6 & 12.3\\\\\n\t 290004 & 02-01-1954 12:00:00 & 17.1 & 20.4 & 13.9\\\\\n\t 290004 & 03-01-1954 12:00:00 & 15.1 & 20.0 & 10.2\\\\\n\t 290004 & 04-01-1954 12:00:00 & 16.9 & 20.8 & 13.0\\\\\n\t 290004 & 05-01-1954 12:00:00 & 17.7 & 20.4 & 15.0\\\\\n\\end{tabular}\n",
            "text/plain": [
              "  CodigoNacional momento             MediaCli_Valor Maxima_Valor Minima_Valor\n",
              "1 290004         01-01-1954 12:00:00 16.5           20.6         12.3        \n",
              "2 290004         02-01-1954 12:00:00 17.1           20.4         13.9        \n",
              "3 290004         03-01-1954 12:00:00 15.1           20.0         10.2        \n",
              "4 290004         04-01-1954 12:00:00 16.9           20.8         13.0        \n",
              "5 290004         05-01-1954 12:00:00 17.7           20.4         15.0        "
            ]
          },
          "metadata": {}
        }
      ]
    },
    {
      "cell_type": "code",
      "source": [
        "#Cargo data frame humedad y le cargo datos\n",
        "df_datos_Humedad <- read.csv(\"descargas/MERGE_Humedad.csv\", header= TRUE, sep=\";\")\n",
        "head(df_datos_Humedad,5)"
      ],
      "metadata": {
        "id": "MiPfpCRzx_iP",
        "colab": {
          "base_uri": "https://localhost:8080/",
          "height": 255
        },
        "outputId": "86fb0379-5d75-434b-e46e-e0a9da3abcc9"
      },
      "execution_count": 43,
      "outputs": [
        {
          "output_type": "display_data",
          "data": {
            "text/html": [
              "<table class=\"dataframe\">\n",
              "<caption>A data.frame: 5 × 3</caption>\n",
              "<thead>\n",
              "\t<tr><th></th><th scope=col>CodigoNacional</th><th scope=col>momento</th><th scope=col>HR_Valor</th></tr>\n",
              "\t<tr><th></th><th scope=col>&lt;int&gt;</th><th scope=col>&lt;chr&gt;</th><th scope=col>&lt;dbl&gt;</th></tr>\n",
              "</thead>\n",
              "<tbody>\n",
              "\t<tr><th scope=row>1</th><td>290004</td><td>01-01-1954 10:00:00</td><td>NA</td></tr>\n",
              "\t<tr><th scope=row>2</th><td>290004</td><td>01-01-1954 11:00:00</td><td>NA</td></tr>\n",
              "\t<tr><th scope=row>3</th><td>290004</td><td>01-01-1954 12:00:00</td><td>NA</td></tr>\n",
              "\t<tr><th scope=row>4</th><td>290004</td><td>01-01-1954 13:00:00</td><td>NA</td></tr>\n",
              "\t<tr><th scope=row>5</th><td>290004</td><td>01-01-1954 14:00:00</td><td>NA</td></tr>\n",
              "</tbody>\n",
              "</table>\n"
            ],
            "text/markdown": "\nA data.frame: 5 × 3\n\n| <!--/--> | CodigoNacional &lt;int&gt; | momento &lt;chr&gt; | HR_Valor &lt;dbl&gt; |\n|---|---|---|---|\n| 1 | 290004 | 01-01-1954 10:00:00 | NA |\n| 2 | 290004 | 01-01-1954 11:00:00 | NA |\n| 3 | 290004 | 01-01-1954 12:00:00 | NA |\n| 4 | 290004 | 01-01-1954 13:00:00 | NA |\n| 5 | 290004 | 01-01-1954 14:00:00 | NA |\n\n",
            "text/latex": "A data.frame: 5 × 3\n\\begin{tabular}{r|lll}\n  & CodigoNacional & momento & HR\\_Valor\\\\\n  & <int> & <chr> & <dbl>\\\\\n\\hline\n\t1 & 290004 & 01-01-1954 10:00:00 & NA\\\\\n\t2 & 290004 & 01-01-1954 11:00:00 & NA\\\\\n\t3 & 290004 & 01-01-1954 12:00:00 & NA\\\\\n\t4 & 290004 & 01-01-1954 13:00:00 & NA\\\\\n\t5 & 290004 & 01-01-1954 14:00:00 & NA\\\\\n\\end{tabular}\n",
            "text/plain": [
              "  CodigoNacional momento             HR_Valor\n",
              "1 290004         01-01-1954 10:00:00 NA      \n",
              "2 290004         01-01-1954 11:00:00 NA      \n",
              "3 290004         01-01-1954 12:00:00 NA      \n",
              "4 290004         01-01-1954 13:00:00 NA      \n",
              "5 290004         01-01-1954 14:00:00 NA      "
            ]
          },
          "metadata": {}
        }
      ]
    },
    {
      "cell_type": "code",
      "source": [
        "#Cargo data frame precipitaciones y le cargo datos\n",
        "#df_datos_Precip <- read.csv(\"descargas/MERGE_DiarioRR.csv\", header= TRUE, sep=\";\")\n",
        "df_datos_Precip <- read_delim(\"descargas/MERGE_DiarioRR.csv\", delim=\";\",col_select = c('CodigoNacional','momento','Total_Valor'))\n",
        "head(df_datos_Precip,5)"
      ],
      "metadata": {
        "id": "fVRhncVIQRM7",
        "colab": {
          "base_uri": "https://localhost:8080/",
          "height": 394
        },
        "outputId": "acd7f46e-0ec7-40ea-c62e-249deaf0d652"
      },
      "execution_count": 44,
      "outputs": [
        {
          "output_type": "stream",
          "name": "stderr",
          "text": [
            "\u001b[1mRows: \u001b[22m\u001b[34m66161\u001b[39m \u001b[1mColumns: \u001b[22m\u001b[34m3\u001b[39m\n",
            "\u001b[36m──\u001b[39m \u001b[1mColumn specification\u001b[22m \u001b[36m────────────────────────────────────────────────────────\u001b[39m\n",
            "\u001b[1mDelimiter:\u001b[22m \";\"\n",
            "\u001b[31mchr\u001b[39m (1): momento\n",
            "\u001b[32mdbl\u001b[39m (2): CodigoNacional, Total_Valor\n",
            "\n",
            "\u001b[36mℹ\u001b[39m Use `spec()` to retrieve the full column specification for this data.\n",
            "\u001b[36mℹ\u001b[39m Specify the column types or set `show_col_types = FALSE` to quiet this message.\n"
          ]
        },
        {
          "output_type": "display_data",
          "data": {
            "text/html": [
              "<table class=\"dataframe\">\n",
              "<caption>A tibble: 5 × 3</caption>\n",
              "<thead>\n",
              "\t<tr><th scope=col>CodigoNacional</th><th scope=col>momento</th><th scope=col>Total_Valor</th></tr>\n",
              "\t<tr><th scope=col>&lt;dbl&gt;</th><th scope=col>&lt;chr&gt;</th><th scope=col>&lt;dbl&gt;</th></tr>\n",
              "</thead>\n",
              "<tbody>\n",
              "\t<tr><td>290004</td><td>01-01-1954 12:00:00</td><td>0</td></tr>\n",
              "\t<tr><td>290004</td><td>02-01-1954 12:00:00</td><td>0</td></tr>\n",
              "\t<tr><td>290004</td><td>03-01-1954 12:00:00</td><td>0</td></tr>\n",
              "\t<tr><td>290004</td><td>04-01-1954 12:00:00</td><td>0</td></tr>\n",
              "\t<tr><td>290004</td><td>05-01-1954 12:00:00</td><td>0</td></tr>\n",
              "</tbody>\n",
              "</table>\n"
            ],
            "text/markdown": "\nA tibble: 5 × 3\n\n| CodigoNacional &lt;dbl&gt; | momento &lt;chr&gt; | Total_Valor &lt;dbl&gt; |\n|---|---|---|\n| 290004 | 01-01-1954 12:00:00 | 0 |\n| 290004 | 02-01-1954 12:00:00 | 0 |\n| 290004 | 03-01-1954 12:00:00 | 0 |\n| 290004 | 04-01-1954 12:00:00 | 0 |\n| 290004 | 05-01-1954 12:00:00 | 0 |\n\n",
            "text/latex": "A tibble: 5 × 3\n\\begin{tabular}{lll}\n CodigoNacional & momento & Total\\_Valor\\\\\n <dbl> & <chr> & <dbl>\\\\\n\\hline\n\t 290004 & 01-01-1954 12:00:00 & 0\\\\\n\t 290004 & 02-01-1954 12:00:00 & 0\\\\\n\t 290004 & 03-01-1954 12:00:00 & 0\\\\\n\t 290004 & 04-01-1954 12:00:00 & 0\\\\\n\t 290004 & 05-01-1954 12:00:00 & 0\\\\\n\\end{tabular}\n",
            "text/plain": [
              "  CodigoNacional momento             Total_Valor\n",
              "1 290004         01-01-1954 12:00:00 0          \n",
              "2 290004         02-01-1954 12:00:00 0          \n",
              "3 290004         03-01-1954 12:00:00 0          \n",
              "4 290004         04-01-1954 12:00:00 0          \n",
              "5 290004         05-01-1954 12:00:00 0          "
            ]
          },
          "metadata": {}
        }
      ]
    },
    {
      "cell_type": "code",
      "source": [
        "#Cargo data frame material particulado y le cargo datos\n",
        "#df_datos_mp25 <- read.csv(\"descargas/MERGE_MP.csv\", header= TRUE, sep=\";\")\n",
        "df_datos_mp25 <- read_delim(\"descargas/MERGE_MP.csv\", delim=\";\",col_select = c('COMUNA', momento = 'FECHA(YYYYMMDD)', registrosValidados='Registros validados'))\n",
        "head(df_datos_mp25,5)"
      ],
      "metadata": {
        "id": "R9-WPc9O08M2",
        "colab": {
          "base_uri": "https://localhost:8080/",
          "height": 498
        },
        "outputId": "4c09e47f-803f-44b7-e2c4-43788caab774"
      },
      "execution_count": 45,
      "outputs": [
        {
          "output_type": "stream",
          "name": "stderr",
          "text": [
            "Warning message:\n",
            "“\u001b[1m\u001b[22mOne or more parsing issues, call `problems()` on your data frame for details,\n",
            "e.g.:\n",
            "  dat <- vroom(...)\n",
            "  problems(dat)”\n",
            "\u001b[1mRows: \u001b[22m\u001b[34m18478\u001b[39m \u001b[1mColumns: \u001b[22m\u001b[34m3\u001b[39m\n",
            "\u001b[36m──\u001b[39m \u001b[1mColumn specification\u001b[22m \u001b[36m────────────────────────────────────────────────────────\u001b[39m\n",
            "\u001b[1mDelimiter:\u001b[22m \";\"\n",
            "\u001b[31mchr\u001b[39m (1): COMUNA\n",
            "\u001b[32mdbl\u001b[39m (1): FECHA(YYYYMMDD)\n",
            "\u001b[32mnum\u001b[39m (1): Registros validados\n",
            "\n",
            "\u001b[36mℹ\u001b[39m Use `spec()` to retrieve the full column specification for this data.\n",
            "\u001b[36mℹ\u001b[39m Specify the column types or set `show_col_types = FALSE` to quiet this message.\n"
          ]
        },
        {
          "output_type": "display_data",
          "data": {
            "text/html": [
              "<table class=\"dataframe\">\n",
              "<caption>A tibble: 5 × 3</caption>\n",
              "<thead>\n",
              "\t<tr><th scope=col>COMUNA</th><th scope=col>momento</th><th scope=col>registrosValidados</th></tr>\n",
              "\t<tr><th scope=col>&lt;chr&gt;</th><th scope=col>&lt;dbl&gt;</th><th scope=col>&lt;dbl&gt;</th></tr>\n",
              "</thead>\n",
              "<tbody>\n",
              "\t<tr><td>Concepcion</td><td>20090812</td><td>NA</td></tr>\n",
              "\t<tr><td>Concepcion</td><td>20090813</td><td>NA</td></tr>\n",
              "\t<tr><td>Concepcion</td><td>20090814</td><td>NA</td></tr>\n",
              "\t<tr><td>Concepcion</td><td>20090815</td><td>NA</td></tr>\n",
              "\t<tr><td>Concepcion</td><td>20090816</td><td>NA</td></tr>\n",
              "</tbody>\n",
              "</table>\n"
            ],
            "text/markdown": "\nA tibble: 5 × 3\n\n| COMUNA &lt;chr&gt; | momento &lt;dbl&gt; | registrosValidados &lt;dbl&gt; |\n|---|---|---|\n| Concepcion | 20090812 | NA |\n| Concepcion | 20090813 | NA |\n| Concepcion | 20090814 | NA |\n| Concepcion | 20090815 | NA |\n| Concepcion | 20090816 | NA |\n\n",
            "text/latex": "A tibble: 5 × 3\n\\begin{tabular}{lll}\n COMUNA & momento & registrosValidados\\\\\n <chr> & <dbl> & <dbl>\\\\\n\\hline\n\t Concepcion & 20090812 & NA\\\\\n\t Concepcion & 20090813 & NA\\\\\n\t Concepcion & 20090814 & NA\\\\\n\t Concepcion & 20090815 & NA\\\\\n\t Concepcion & 20090816 & NA\\\\\n\\end{tabular}\n",
            "text/plain": [
              "  COMUNA     momento  registrosValidados\n",
              "1 Concepcion 20090812 NA                \n",
              "2 Concepcion 20090813 NA                \n",
              "3 Concepcion 20090814 NA                \n",
              "4 Concepcion 20090815 NA                \n",
              "5 Concepcion 20090816 NA                "
            ]
          },
          "metadata": {}
        }
      ]
    },
    {
      "cell_type": "code",
      "source": [
        "#formateo fechas en material particulado 2.5.\n",
        "df_datos_mp25$momento <- format(as.Date(as.character(df_datos_mp25$momento),format=\"%Y%m%d\"), format=\"%d-%m-%Y\")\n",
        "#formateo fechas en temperaturas.\n",
        "df_datos_temperatura$momento<- format(as.Date(df_datos_temperatura$momento, format = \"%d-%m-%Y %H:%M:%S\"), format = \"%d-%m-%Y\")\n",
        "#formateo fechas en precipitaciones\n",
        "df_datos_Precip$momento<- format(as.Date(df_datos_Precip$momento, format = \"%d-%m-%Y %H:%M:%S\"), format = \"%d-%m-%Y\")\n",
        "#formateo fechas en humedad\n",
        "df_datos_Humedad$momento<- format(as.Date(df_datos_Humedad$momento, format = \"%d-%m-%Y %H:%M:%S\"), format = \"%d-%m-%Y\")"
      ],
      "metadata": {
        "id": "NjLU6UOu19iR"
      },
      "execution_count": 46,
      "outputs": []
    },
    {
      "cell_type": "code",
      "source": [
        "#Limpio filas con NA en todos los dataframe y chequeo contando posibles NA\n",
        "df_urgr_esp_semanal <- na.omit(df_urgr_esp_semanal)\n",
        "df_datos_temperatura <- na.omit(df_datos_temperatura)\n",
        "df_datos_Precip <- na.omit(df_datos_Precip)\n",
        "df_datos_Humedad <- na.omit(df_datos_Humedad)\n",
        "df_datos_mp25 <- na.omit(df_datos_mp25)\n",
        "sum(!complete.cases(df_urgr_esp_semanal))\n",
        "sum(!complete.cases(df_datos_temperatura))\n",
        "sum(!complete.cases(df_datos_Precip))\n",
        "sum(!complete.cases(df_datos_Humedad))\n",
        "sum(!complete.cases(df_datos_mp25))\n"
      ],
      "metadata": {
        "colab": {
          "base_uri": "https://localhost:8080/",
          "height": 104
        },
        "id": "C7lSYtOa-Q6K",
        "outputId": "a8c94d32-1b33-4466-cc16-8ce48d26814f"
      },
      "execution_count": 47,
      "outputs": [
        {
          "output_type": "display_data",
          "data": {
            "text/html": [
              "0"
            ],
            "text/markdown": "0",
            "text/latex": "0",
            "text/plain": [
              "[1] 0"
            ]
          },
          "metadata": {}
        },
        {
          "output_type": "display_data",
          "data": {
            "text/html": [
              "0"
            ],
            "text/markdown": "0",
            "text/latex": "0",
            "text/plain": [
              "[1] 0"
            ]
          },
          "metadata": {}
        },
        {
          "output_type": "display_data",
          "data": {
            "text/html": [
              "0"
            ],
            "text/markdown": "0",
            "text/latex": "0",
            "text/plain": [
              "[1] 0"
            ]
          },
          "metadata": {}
        },
        {
          "output_type": "display_data",
          "data": {
            "text/html": [
              "0"
            ],
            "text/markdown": "0",
            "text/latex": "0",
            "text/plain": [
              "[1] 0"
            ]
          },
          "metadata": {}
        },
        {
          "output_type": "display_data",
          "data": {
            "text/html": [
              "0"
            ],
            "text/markdown": "0",
            "text/latex": "0",
            "text/plain": [
              "[1] 0"
            ]
          },
          "metadata": {}
        }
      ]
    },
    {
      "cell_type": "code",
      "source": [
        "# agrupo urgencias respiratorias por año, semana y comuna y sumo el total de urgencias para la comuna.\n",
        "df_urgr_esp_semanal <-df_urgr_esp_semanal %>% group_by (ComunaCodigo, Anio, SemanaEstadistica) %>% summarise(NumTotal = sum(NumTotal, na.rm = TRUE)) %>%filter(Anio > 2013 & Anio < 2024)\n",
        "df_urgr_esp_semanal <- as.data.frame(df_urgr_esp_semanal)"
      ],
      "metadata": {
        "id": "7FipNT-leBhx",
        "outputId": "ca2c2643-54fe-4aeb-bc7f-3bfc819c467a",
        "colab": {
          "base_uri": "https://localhost:8080/"
        }
      },
      "execution_count": 48,
      "outputs": [
        {
          "output_type": "stream",
          "name": "stderr",
          "text": [
            "\u001b[1m\u001b[22m`summarise()` has grouped output by 'ComunaCodigo', 'Anio'. You can override\n",
            "using the `.groups` argument.\n"
          ]
        }
      ]
    },
    {
      "cell_type": "code",
      "source": [
        "#obtengo n° de semana de las fechas de mediciones (momento) y agrego columna al data frame temperatura\n",
        "semana<- epiweek(dmy(df_datos_temperatura$momento))\n",
        "ano <- year(dmy(df_datos_temperatura$momento))\n",
        "difTemp <- df_datos_temperatura$Maxima_Valor-df_datos_temperatura$Minima_Valor\n",
        "df_datos_temperatura <- cbind(df_datos_temperatura, NuSemana = semana)\n",
        "df_datos_temperatura <- cbind(df_datos_temperatura, Anio = ano)\n",
        "df_datos_temperatura <- cbind(df_datos_temperatura, difTemp = difTemp)\n",
        "head(df_datos_temperatura,3)"
      ],
      "metadata": {
        "id": "04c0mj5ylC5C",
        "colab": {
          "base_uri": "https://localhost:8080/",
          "height": 192
        },
        "outputId": "80315c76-0d70-4d30-8fc1-232f89c24f36"
      },
      "execution_count": 49,
      "outputs": [
        {
          "output_type": "display_data",
          "data": {
            "text/html": [
              "<table class=\"dataframe\">\n",
              "<caption>A data.frame: 3 × 8</caption>\n",
              "<thead>\n",
              "\t<tr><th></th><th scope=col>CodigoNacional</th><th scope=col>momento</th><th scope=col>MediaCli_Valor</th><th scope=col>Maxima_Valor</th><th scope=col>Minima_Valor</th><th scope=col>NuSemana</th><th scope=col>Anio</th><th scope=col>difTemp</th></tr>\n",
              "\t<tr><th></th><th scope=col>&lt;dbl&gt;</th><th scope=col>&lt;chr&gt;</th><th scope=col>&lt;dbl&gt;</th><th scope=col>&lt;dbl&gt;</th><th scope=col>&lt;dbl&gt;</th><th scope=col>&lt;dbl&gt;</th><th scope=col>&lt;dbl&gt;</th><th scope=col>&lt;dbl&gt;</th></tr>\n",
              "</thead>\n",
              "<tbody>\n",
              "\t<tr><th scope=row>1</th><td>290004</td><td>01-01-1954</td><td>16.5</td><td>20.6</td><td>12.3</td><td>52</td><td>1954</td><td>8.3</td></tr>\n",
              "\t<tr><th scope=row>2</th><td>290004</td><td>02-01-1954</td><td>17.1</td><td>20.4</td><td>13.9</td><td>52</td><td>1954</td><td>6.5</td></tr>\n",
              "\t<tr><th scope=row>3</th><td>290004</td><td>03-01-1954</td><td>15.1</td><td>20.0</td><td>10.2</td><td> 1</td><td>1954</td><td>9.8</td></tr>\n",
              "</tbody>\n",
              "</table>\n"
            ],
            "text/markdown": "\nA data.frame: 3 × 8\n\n| <!--/--> | CodigoNacional &lt;dbl&gt; | momento &lt;chr&gt; | MediaCli_Valor &lt;dbl&gt; | Maxima_Valor &lt;dbl&gt; | Minima_Valor &lt;dbl&gt; | NuSemana &lt;dbl&gt; | Anio &lt;dbl&gt; | difTemp &lt;dbl&gt; |\n|---|---|---|---|---|---|---|---|---|\n| 1 | 290004 | 01-01-1954 | 16.5 | 20.6 | 12.3 | 52 | 1954 | 8.3 |\n| 2 | 290004 | 02-01-1954 | 17.1 | 20.4 | 13.9 | 52 | 1954 | 6.5 |\n| 3 | 290004 | 03-01-1954 | 15.1 | 20.0 | 10.2 |  1 | 1954 | 9.8 |\n\n",
            "text/latex": "A data.frame: 3 × 8\n\\begin{tabular}{r|llllllll}\n  & CodigoNacional & momento & MediaCli\\_Valor & Maxima\\_Valor & Minima\\_Valor & NuSemana & Anio & difTemp\\\\\n  & <dbl> & <chr> & <dbl> & <dbl> & <dbl> & <dbl> & <dbl> & <dbl>\\\\\n\\hline\n\t1 & 290004 & 01-01-1954 & 16.5 & 20.6 & 12.3 & 52 & 1954 & 8.3\\\\\n\t2 & 290004 & 02-01-1954 & 17.1 & 20.4 & 13.9 & 52 & 1954 & 6.5\\\\\n\t3 & 290004 & 03-01-1954 & 15.1 & 20.0 & 10.2 &  1 & 1954 & 9.8\\\\\n\\end{tabular}\n",
            "text/plain": [
              "  CodigoNacional momento    MediaCli_Valor Maxima_Valor Minima_Valor NuSemana\n",
              "1 290004         01-01-1954 16.5           20.6         12.3         52      \n",
              "2 290004         02-01-1954 17.1           20.4         13.9         52      \n",
              "3 290004         03-01-1954 15.1           20.0         10.2          1      \n",
              "  Anio difTemp\n",
              "1 1954 8.3    \n",
              "2 1954 6.5    \n",
              "3 1954 9.8    "
            ]
          },
          "metadata": {}
        }
      ]
    },
    {
      "cell_type": "code",
      "source": [
        "# Obtengo la media y mediana, de la temperatura para cada semana en cada año.\n",
        "df_datos_temperatura_semanal <- df_datos_temperatura %>% group_by (CodigoNacional,Anio, NuSemana) %>% summarise(medianaClim = median(MediaCli_Valor, na.rm = TRUE),  difMaxMin = median(difTemp, na.rm = TRUE))\n",
        "#Convierto agrupación con media y mediana a data frame\n",
        "df_datos_temperatura_semanal <- as.data.frame (df_datos_temperatura_semanal)\n",
        "#filtro por todo aquellos años >= a 2014\n",
        "df_datos_temperatura_semanal <- df_datos_temperatura_semanal %>% filter(Anio > 2013 & Anio < 2024)\n",
        "head(df_datos_temperatura_semanal,5)\n",
        "\n"
      ],
      "metadata": {
        "id": "lNzHoXEeVd4E",
        "outputId": "dd530520-52e5-4e16-b24c-d6f61ca65581",
        "colab": {
          "base_uri": "https://localhost:8080/",
          "height": 290
        }
      },
      "execution_count": 50,
      "outputs": [
        {
          "output_type": "stream",
          "name": "stderr",
          "text": [
            "\u001b[1m\u001b[22m`summarise()` has grouped output by 'CodigoNacional', 'Anio'. You can override\n",
            "using the `.groups` argument.\n"
          ]
        },
        {
          "output_type": "display_data",
          "data": {
            "text/html": [
              "<table class=\"dataframe\">\n",
              "<caption>A data.frame: 5 × 5</caption>\n",
              "<thead>\n",
              "\t<tr><th></th><th scope=col>CodigoNacional</th><th scope=col>Anio</th><th scope=col>NuSemana</th><th scope=col>medianaClim</th><th scope=col>difMaxMin</th></tr>\n",
              "\t<tr><th></th><th scope=col>&lt;dbl&gt;</th><th scope=col>&lt;dbl&gt;</th><th scope=col>&lt;dbl&gt;</th><th scope=col>&lt;dbl&gt;</th><th scope=col>&lt;dbl&gt;</th></tr>\n",
              "</thead>\n",
              "<tbody>\n",
              "\t<tr><th scope=row>1</th><td>290004</td><td>2014</td><td>1</td><td>17.6</td><td>7.8</td></tr>\n",
              "\t<tr><th scope=row>2</th><td>290004</td><td>2014</td><td>2</td><td>17.4</td><td>7.5</td></tr>\n",
              "\t<tr><th scope=row>3</th><td>290004</td><td>2014</td><td>3</td><td>17.8</td><td>6.9</td></tr>\n",
              "\t<tr><th scope=row>4</th><td>290004</td><td>2014</td><td>4</td><td>19.0</td><td>6.9</td></tr>\n",
              "\t<tr><th scope=row>5</th><td>290004</td><td>2014</td><td>5</td><td>18.4</td><td>7.6</td></tr>\n",
              "</tbody>\n",
              "</table>\n"
            ],
            "text/markdown": "\nA data.frame: 5 × 5\n\n| <!--/--> | CodigoNacional &lt;dbl&gt; | Anio &lt;dbl&gt; | NuSemana &lt;dbl&gt; | medianaClim &lt;dbl&gt; | difMaxMin &lt;dbl&gt; |\n|---|---|---|---|---|---|\n| 1 | 290004 | 2014 | 1 | 17.6 | 7.8 |\n| 2 | 290004 | 2014 | 2 | 17.4 | 7.5 |\n| 3 | 290004 | 2014 | 3 | 17.8 | 6.9 |\n| 4 | 290004 | 2014 | 4 | 19.0 | 6.9 |\n| 5 | 290004 | 2014 | 5 | 18.4 | 7.6 |\n\n",
            "text/latex": "A data.frame: 5 × 5\n\\begin{tabular}{r|lllll}\n  & CodigoNacional & Anio & NuSemana & medianaClim & difMaxMin\\\\\n  & <dbl> & <dbl> & <dbl> & <dbl> & <dbl>\\\\\n\\hline\n\t1 & 290004 & 2014 & 1 & 17.6 & 7.8\\\\\n\t2 & 290004 & 2014 & 2 & 17.4 & 7.5\\\\\n\t3 & 290004 & 2014 & 3 & 17.8 & 6.9\\\\\n\t4 & 290004 & 2014 & 4 & 19.0 & 6.9\\\\\n\t5 & 290004 & 2014 & 5 & 18.4 & 7.6\\\\\n\\end{tabular}\n",
            "text/plain": [
              "  CodigoNacional Anio NuSemana medianaClim difMaxMin\n",
              "1 290004         2014 1        17.6        7.8      \n",
              "2 290004         2014 2        17.4        7.5      \n",
              "3 290004         2014 3        17.8        6.9      \n",
              "4 290004         2014 4        19.0        6.9      \n",
              "5 290004         2014 5        18.4        7.6      "
            ]
          },
          "metadata": {}
        }
      ]
    },
    {
      "cell_type": "code",
      "source": [
        "#obtengo n° de semana de las fechas de mediciones (momento) y agrego columna al data frame humedad\n",
        "semana<-epiweek(dmy(df_datos_Humedad$momento))\n",
        "ano <- year(dmy(df_datos_Humedad$momento))\n",
        "df_datos_Humedad <- cbind(df_datos_Humedad, NuSemana = semana)\n",
        "df_datos_Humedad <- cbind(df_datos_Humedad, Anio = ano)\n",
        "head(df_datos_Humedad,3)"
      ],
      "metadata": {
        "id": "lXuk86klhdID",
        "outputId": "fcdf1f43-1bf6-440a-d020-8afc43811ddf",
        "colab": {
          "base_uri": "https://localhost:8080/",
          "height": 192
        }
      },
      "execution_count": 51,
      "outputs": [
        {
          "output_type": "display_data",
          "data": {
            "text/html": [
              "<table class=\"dataframe\">\n",
              "<caption>A data.frame: 3 × 5</caption>\n",
              "<thead>\n",
              "\t<tr><th></th><th scope=col>CodigoNacional</th><th scope=col>momento</th><th scope=col>HR_Valor</th><th scope=col>NuSemana</th><th scope=col>Anio</th></tr>\n",
              "\t<tr><th></th><th scope=col>&lt;int&gt;</th><th scope=col>&lt;chr&gt;</th><th scope=col>&lt;dbl&gt;</th><th scope=col>&lt;dbl&gt;</th><th scope=col>&lt;dbl&gt;</th></tr>\n",
              "</thead>\n",
              "<tbody>\n",
              "\t<tr><th scope=row>5113</th><td>290004</td><td>06-01-1963</td><td>95</td><td>2</td><td>1963</td></tr>\n",
              "\t<tr><th scope=row>5114</th><td>290004</td><td>06-01-1963</td><td>93</td><td>2</td><td>1963</td></tr>\n",
              "\t<tr><th scope=row>5115</th><td>290004</td><td>06-01-1963</td><td>89</td><td>2</td><td>1963</td></tr>\n",
              "</tbody>\n",
              "</table>\n"
            ],
            "text/markdown": "\nA data.frame: 3 × 5\n\n| <!--/--> | CodigoNacional &lt;int&gt; | momento &lt;chr&gt; | HR_Valor &lt;dbl&gt; | NuSemana &lt;dbl&gt; | Anio &lt;dbl&gt; |\n|---|---|---|---|---|---|\n| 5113 | 290004 | 06-01-1963 | 95 | 2 | 1963 |\n| 5114 | 290004 | 06-01-1963 | 93 | 2 | 1963 |\n| 5115 | 290004 | 06-01-1963 | 89 | 2 | 1963 |\n\n",
            "text/latex": "A data.frame: 3 × 5\n\\begin{tabular}{r|lllll}\n  & CodigoNacional & momento & HR\\_Valor & NuSemana & Anio\\\\\n  & <int> & <chr> & <dbl> & <dbl> & <dbl>\\\\\n\\hline\n\t5113 & 290004 & 06-01-1963 & 95 & 2 & 1963\\\\\n\t5114 & 290004 & 06-01-1963 & 93 & 2 & 1963\\\\\n\t5115 & 290004 & 06-01-1963 & 89 & 2 & 1963\\\\\n\\end{tabular}\n",
            "text/plain": [
              "     CodigoNacional momento    HR_Valor NuSemana Anio\n",
              "5113 290004         06-01-1963 95       2        1963\n",
              "5114 290004         06-01-1963 93       2        1963\n",
              "5115 290004         06-01-1963 89       2        1963"
            ]
          },
          "metadata": {}
        }
      ]
    },
    {
      "cell_type": "code",
      "source": [
        "# Obtengo la media y mediana, de la temperatura para cada semana en cada año.\n",
        "df_datos_Humedad_semanal <- df_datos_Humedad %>% group_by (CodigoNacional,Anio, NuSemana) %>% summarise(Mediana_HR_Valor = median(HR_Valor, na.rm = TRUE))\n",
        "#Convierto agrupación con media y mediana a data frame\n",
        "df_datos_Humedad_semanal <- as.data.frame (df_datos_Humedad_semanal)\n",
        "#filtro por todo aquellos años >= a 2014\n",
        "df_datos_Humedad_semanal <- df_datos_Humedad_semanal %>% filter(Anio > 2013 & Anio < 2024)\n",
        "head(df_datos_Humedad_semanal,5)"
      ],
      "metadata": {
        "id": "ekP5khJwiS8w",
        "outputId": "60c775cb-8a49-4666-bc12-19bb8b67250c",
        "colab": {
          "base_uri": "https://localhost:8080/",
          "height": 290
        }
      },
      "execution_count": 52,
      "outputs": [
        {
          "output_type": "stream",
          "name": "stderr",
          "text": [
            "\u001b[1m\u001b[22m`summarise()` has grouped output by 'CodigoNacional', 'Anio'. You can override\n",
            "using the `.groups` argument.\n"
          ]
        },
        {
          "output_type": "display_data",
          "data": {
            "text/html": [
              "<table class=\"dataframe\">\n",
              "<caption>A data.frame: 5 × 4</caption>\n",
              "<thead>\n",
              "\t<tr><th></th><th scope=col>CodigoNacional</th><th scope=col>Anio</th><th scope=col>NuSemana</th><th scope=col>Mediana_HR_Valor</th></tr>\n",
              "\t<tr><th></th><th scope=col>&lt;int&gt;</th><th scope=col>&lt;dbl&gt;</th><th scope=col>&lt;dbl&gt;</th><th scope=col>&lt;dbl&gt;</th></tr>\n",
              "</thead>\n",
              "<tbody>\n",
              "\t<tr><th scope=row>1</th><td>290004</td><td>2014</td><td>1</td><td>76.5</td></tr>\n",
              "\t<tr><th scope=row>2</th><td>290004</td><td>2014</td><td>2</td><td>81.5</td></tr>\n",
              "\t<tr><th scope=row>3</th><td>290004</td><td>2014</td><td>3</td><td>72.5</td></tr>\n",
              "\t<tr><th scope=row>4</th><td>290004</td><td>2014</td><td>4</td><td>76.0</td></tr>\n",
              "\t<tr><th scope=row>5</th><td>290004</td><td>2014</td><td>5</td><td>75.0</td></tr>\n",
              "</tbody>\n",
              "</table>\n"
            ],
            "text/markdown": "\nA data.frame: 5 × 4\n\n| <!--/--> | CodigoNacional &lt;int&gt; | Anio &lt;dbl&gt; | NuSemana &lt;dbl&gt; | Mediana_HR_Valor &lt;dbl&gt; |\n|---|---|---|---|---|\n| 1 | 290004 | 2014 | 1 | 76.5 |\n| 2 | 290004 | 2014 | 2 | 81.5 |\n| 3 | 290004 | 2014 | 3 | 72.5 |\n| 4 | 290004 | 2014 | 4 | 76.0 |\n| 5 | 290004 | 2014 | 5 | 75.0 |\n\n",
            "text/latex": "A data.frame: 5 × 4\n\\begin{tabular}{r|llll}\n  & CodigoNacional & Anio & NuSemana & Mediana\\_HR\\_Valor\\\\\n  & <int> & <dbl> & <dbl> & <dbl>\\\\\n\\hline\n\t1 & 290004 & 2014 & 1 & 76.5\\\\\n\t2 & 290004 & 2014 & 2 & 81.5\\\\\n\t3 & 290004 & 2014 & 3 & 72.5\\\\\n\t4 & 290004 & 2014 & 4 & 76.0\\\\\n\t5 & 290004 & 2014 & 5 & 75.0\\\\\n\\end{tabular}\n",
            "text/plain": [
              "  CodigoNacional Anio NuSemana Mediana_HR_Valor\n",
              "1 290004         2014 1        76.5            \n",
              "2 290004         2014 2        81.5            \n",
              "3 290004         2014 3        72.5            \n",
              "4 290004         2014 4        76.0            \n",
              "5 290004         2014 5        75.0            "
            ]
          },
          "metadata": {}
        }
      ]
    },
    {
      "cell_type": "code",
      "source": [
        "#obtengo n° de semana de las fechas de mediciones (momento) y agrego columna al data frame precipitaciones\n",
        "semana<-epiweek(dmy(df_datos_Precip$momento))\n",
        "ano <- year(dmy(df_datos_Precip$momento))\n",
        "df_datos_Precip <- cbind(df_datos_Precip, NuSemana = semana)\n",
        "df_datos_Precip <- cbind(df_datos_Precip, Anio = ano)\n",
        "head(df_datos_Precip,3)"
      ],
      "metadata": {
        "colab": {
          "base_uri": "https://localhost:8080/",
          "height": 192
        },
        "id": "CdrP6r0bC1t8",
        "outputId": "03fb7cc4-1a83-4f9f-f762-1974b84b40a3"
      },
      "execution_count": 53,
      "outputs": [
        {
          "output_type": "display_data",
          "data": {
            "text/html": [
              "<table class=\"dataframe\">\n",
              "<caption>A data.frame: 3 × 5</caption>\n",
              "<thead>\n",
              "\t<tr><th></th><th scope=col>CodigoNacional</th><th scope=col>momento</th><th scope=col>Total_Valor</th><th scope=col>NuSemana</th><th scope=col>Anio</th></tr>\n",
              "\t<tr><th></th><th scope=col>&lt;dbl&gt;</th><th scope=col>&lt;chr&gt;</th><th scope=col>&lt;dbl&gt;</th><th scope=col>&lt;dbl&gt;</th><th scope=col>&lt;dbl&gt;</th></tr>\n",
              "</thead>\n",
              "<tbody>\n",
              "\t<tr><th scope=row>1</th><td>290004</td><td>01-01-1954</td><td>0</td><td>52</td><td>1954</td></tr>\n",
              "\t<tr><th scope=row>2</th><td>290004</td><td>02-01-1954</td><td>0</td><td>52</td><td>1954</td></tr>\n",
              "\t<tr><th scope=row>3</th><td>290004</td><td>03-01-1954</td><td>0</td><td> 1</td><td>1954</td></tr>\n",
              "</tbody>\n",
              "</table>\n"
            ],
            "text/markdown": "\nA data.frame: 3 × 5\n\n| <!--/--> | CodigoNacional &lt;dbl&gt; | momento &lt;chr&gt; | Total_Valor &lt;dbl&gt; | NuSemana &lt;dbl&gt; | Anio &lt;dbl&gt; |\n|---|---|---|---|---|---|\n| 1 | 290004 | 01-01-1954 | 0 | 52 | 1954 |\n| 2 | 290004 | 02-01-1954 | 0 | 52 | 1954 |\n| 3 | 290004 | 03-01-1954 | 0 |  1 | 1954 |\n\n",
            "text/latex": "A data.frame: 3 × 5\n\\begin{tabular}{r|lllll}\n  & CodigoNacional & momento & Total\\_Valor & NuSemana & Anio\\\\\n  & <dbl> & <chr> & <dbl> & <dbl> & <dbl>\\\\\n\\hline\n\t1 & 290004 & 01-01-1954 & 0 & 52 & 1954\\\\\n\t2 & 290004 & 02-01-1954 & 0 & 52 & 1954\\\\\n\t3 & 290004 & 03-01-1954 & 0 &  1 & 1954\\\\\n\\end{tabular}\n",
            "text/plain": [
              "  CodigoNacional momento    Total_Valor NuSemana Anio\n",
              "1 290004         01-01-1954 0           52       1954\n",
              "2 290004         02-01-1954 0           52       1954\n",
              "3 290004         03-01-1954 0            1       1954"
            ]
          },
          "metadata": {}
        }
      ]
    },
    {
      "cell_type": "code",
      "source": [
        "# Agrupo y obtengo la suma de precipitaciones para cada semana en cada año.\n",
        "df_datos_Precip_semanal <- df_datos_Precip %>% group_by (CodigoNacional,Anio, NuSemana) %>% summarise(Total_Valor_sem = sum(Total_Valor, na.rm = TRUE))\n",
        "#Convierto agrupación con media y mediana a data frame\n",
        "df_datos_Precip_semanal <- as.data.frame (df_datos_Precip_semanal)\n",
        "#filtro por todo aquellos años >= a 2014\n",
        "df_datos_Precip_semanal <- df_datos_Precip_semanal %>% filter(Anio > 2013 & Anio < 2024)\n",
        "head(df_datos_Precip_semanal,5)"
      ],
      "metadata": {
        "colab": {
          "base_uri": "https://localhost:8080/",
          "height": 290
        },
        "id": "Iij1RkzSDVQb",
        "outputId": "0570df9e-9864-4a06-b2fa-d4794296dbf8"
      },
      "execution_count": 54,
      "outputs": [
        {
          "output_type": "stream",
          "name": "stderr",
          "text": [
            "\u001b[1m\u001b[22m`summarise()` has grouped output by 'CodigoNacional', 'Anio'. You can override\n",
            "using the `.groups` argument.\n"
          ]
        },
        {
          "output_type": "display_data",
          "data": {
            "text/html": [
              "<table class=\"dataframe\">\n",
              "<caption>A data.frame: 5 × 4</caption>\n",
              "<thead>\n",
              "\t<tr><th></th><th scope=col>CodigoNacional</th><th scope=col>Anio</th><th scope=col>NuSemana</th><th scope=col>Total_Valor_sem</th></tr>\n",
              "\t<tr><th></th><th scope=col>&lt;dbl&gt;</th><th scope=col>&lt;dbl&gt;</th><th scope=col>&lt;dbl&gt;</th><th scope=col>&lt;dbl&gt;</th></tr>\n",
              "</thead>\n",
              "<tbody>\n",
              "\t<tr><th scope=row>1</th><td>290004</td><td>2014</td><td>1</td><td>0</td></tr>\n",
              "\t<tr><th scope=row>2</th><td>290004</td><td>2014</td><td>2</td><td>0</td></tr>\n",
              "\t<tr><th scope=row>3</th><td>290004</td><td>2014</td><td>3</td><td>0</td></tr>\n",
              "\t<tr><th scope=row>4</th><td>290004</td><td>2014</td><td>4</td><td>0</td></tr>\n",
              "\t<tr><th scope=row>5</th><td>290004</td><td>2014</td><td>5</td><td>0</td></tr>\n",
              "</tbody>\n",
              "</table>\n"
            ],
            "text/markdown": "\nA data.frame: 5 × 4\n\n| <!--/--> | CodigoNacional &lt;dbl&gt; | Anio &lt;dbl&gt; | NuSemana &lt;dbl&gt; | Total_Valor_sem &lt;dbl&gt; |\n|---|---|---|---|---|\n| 1 | 290004 | 2014 | 1 | 0 |\n| 2 | 290004 | 2014 | 2 | 0 |\n| 3 | 290004 | 2014 | 3 | 0 |\n| 4 | 290004 | 2014 | 4 | 0 |\n| 5 | 290004 | 2014 | 5 | 0 |\n\n",
            "text/latex": "A data.frame: 5 × 4\n\\begin{tabular}{r|llll}\n  & CodigoNacional & Anio & NuSemana & Total\\_Valor\\_sem\\\\\n  & <dbl> & <dbl> & <dbl> & <dbl>\\\\\n\\hline\n\t1 & 290004 & 2014 & 1 & 0\\\\\n\t2 & 290004 & 2014 & 2 & 0\\\\\n\t3 & 290004 & 2014 & 3 & 0\\\\\n\t4 & 290004 & 2014 & 4 & 0\\\\\n\t5 & 290004 & 2014 & 5 & 0\\\\\n\\end{tabular}\n",
            "text/plain": [
              "  CodigoNacional Anio NuSemana Total_Valor_sem\n",
              "1 290004         2014 1        0              \n",
              "2 290004         2014 2        0              \n",
              "3 290004         2014 3        0              \n",
              "4 290004         2014 4        0              \n",
              "5 290004         2014 5        0              "
            ]
          },
          "metadata": {}
        }
      ]
    },
    {
      "cell_type": "code",
      "source": [
        "#obtengo n° de semana de las fechas de mediciones (momento) y agrego columna al data frame mp25\n",
        "semana<-epiweek(dmy(df_datos_mp25$momento))\n",
        "ano <- year(dmy(df_datos_mp25$momento))\n",
        "df_datos_mp25 <- cbind(df_datos_mp25, NuSemana = semana)\n",
        "df_datos_mp25 <- cbind(df_datos_mp25, Anio = ano)\n",
        "head(df_datos_mp25,3)"
      ],
      "metadata": {
        "colab": {
          "base_uri": "https://localhost:8080/",
          "height": 192
        },
        "id": "DdjPbon8FhQX",
        "outputId": "e99e7332-a84b-46a7-fb80-43bb9444044a"
      },
      "execution_count": 55,
      "outputs": [
        {
          "output_type": "display_data",
          "data": {
            "text/html": [
              "<table class=\"dataframe\">\n",
              "<caption>A data.frame: 3 × 5</caption>\n",
              "<thead>\n",
              "\t<tr><th></th><th scope=col>COMUNA</th><th scope=col>momento</th><th scope=col>registrosValidados</th><th scope=col>NuSemana</th><th scope=col>Anio</th></tr>\n",
              "\t<tr><th></th><th scope=col>&lt;chr&gt;</th><th scope=col>&lt;chr&gt;</th><th scope=col>&lt;dbl&gt;</th><th scope=col>&lt;dbl&gt;</th><th scope=col>&lt;dbl&gt;</th></tr>\n",
              "</thead>\n",
              "<tbody>\n",
              "\t<tr><th scope=row>1</th><td>Concepcion</td><td>11-06-2017</td><td>33</td><td>24</td><td>2017</td></tr>\n",
              "\t<tr><th scope=row>2</th><td>Concepcion</td><td>12-06-2017</td><td>37</td><td>24</td><td>2017</td></tr>\n",
              "\t<tr><th scope=row>3</th><td>Concepcion</td><td>13-06-2017</td><td>44</td><td>24</td><td>2017</td></tr>\n",
              "</tbody>\n",
              "</table>\n"
            ],
            "text/markdown": "\nA data.frame: 3 × 5\n\n| <!--/--> | COMUNA &lt;chr&gt; | momento &lt;chr&gt; | registrosValidados &lt;dbl&gt; | NuSemana &lt;dbl&gt; | Anio &lt;dbl&gt; |\n|---|---|---|---|---|---|\n| 1 | Concepcion | 11-06-2017 | 33 | 24 | 2017 |\n| 2 | Concepcion | 12-06-2017 | 37 | 24 | 2017 |\n| 3 | Concepcion | 13-06-2017 | 44 | 24 | 2017 |\n\n",
            "text/latex": "A data.frame: 3 × 5\n\\begin{tabular}{r|lllll}\n  & COMUNA & momento & registrosValidados & NuSemana & Anio\\\\\n  & <chr> & <chr> & <dbl> & <dbl> & <dbl>\\\\\n\\hline\n\t1 & Concepcion & 11-06-2017 & 33 & 24 & 2017\\\\\n\t2 & Concepcion & 12-06-2017 & 37 & 24 & 2017\\\\\n\t3 & Concepcion & 13-06-2017 & 44 & 24 & 2017\\\\\n\\end{tabular}\n",
            "text/plain": [
              "  COMUNA     momento    registrosValidados NuSemana Anio\n",
              "1 Concepcion 11-06-2017 33                 24       2017\n",
              "2 Concepcion 12-06-2017 37                 24       2017\n",
              "3 Concepcion 13-06-2017 44                 24       2017"
            ]
          },
          "metadata": {}
        }
      ]
    },
    {
      "cell_type": "code",
      "source": [
        "# Agrupo y obtengo la suma de precipitaciones para cada semana en cada año.\n",
        "df_datos_mp25_semanal <- df_datos_mp25 %>% group_by (COMUNA,Anio, NuSemana) %>% summarise(Total_Valor_sem = sum(registrosValidados, na.rm = TRUE))\n",
        "#Convierto agrupación con media y mediana a data frame\n",
        "df_datos_mp25_semanal <- as.data.frame (df_datos_mp25_semanal)\n",
        "#filtro por todo aquellos años >= a 2014\n",
        "df_datos_mp25_semanal <- df_datos_mp25_semanal %>% filter(Anio > 2013 & Anio < 2024)\n",
        "head(df_datos_mp25_semanal,5)"
      ],
      "metadata": {
        "colab": {
          "base_uri": "https://localhost:8080/",
          "height": 290
        },
        "id": "f9hgqQjDGiJo",
        "outputId": "2e5d7566-384a-429b-9305-905c491cdcad"
      },
      "execution_count": 56,
      "outputs": [
        {
          "output_type": "stream",
          "name": "stderr",
          "text": [
            "\u001b[1m\u001b[22m`summarise()` has grouped output by 'COMUNA', 'Anio'. You can override using\n",
            "the `.groups` argument.\n"
          ]
        },
        {
          "output_type": "display_data",
          "data": {
            "text/html": [
              "<table class=\"dataframe\">\n",
              "<caption>A data.frame: 5 × 4</caption>\n",
              "<thead>\n",
              "\t<tr><th></th><th scope=col>COMUNA</th><th scope=col>Anio</th><th scope=col>NuSemana</th><th scope=col>Total_Valor_sem</th></tr>\n",
              "\t<tr><th></th><th scope=col>&lt;chr&gt;</th><th scope=col>&lt;dbl&gt;</th><th scope=col>&lt;dbl&gt;</th><th scope=col>&lt;dbl&gt;</th></tr>\n",
              "</thead>\n",
              "<tbody>\n",
              "\t<tr><th scope=row>1</th><td>Concepcion</td><td>2017</td><td>24</td><td>192</td></tr>\n",
              "\t<tr><th scope=row>2</th><td>Concepcion</td><td>2017</td><td>25</td><td>156</td></tr>\n",
              "\t<tr><th scope=row>3</th><td>Concepcion</td><td>2017</td><td>26</td><td>124</td></tr>\n",
              "\t<tr><th scope=row>4</th><td>Concepcion</td><td>2017</td><td>27</td><td>151</td></tr>\n",
              "\t<tr><th scope=row>5</th><td>Concepcion</td><td>2017</td><td>28</td><td>152</td></tr>\n",
              "</tbody>\n",
              "</table>\n"
            ],
            "text/markdown": "\nA data.frame: 5 × 4\n\n| <!--/--> | COMUNA &lt;chr&gt; | Anio &lt;dbl&gt; | NuSemana &lt;dbl&gt; | Total_Valor_sem &lt;dbl&gt; |\n|---|---|---|---|---|\n| 1 | Concepcion | 2017 | 24 | 192 |\n| 2 | Concepcion | 2017 | 25 | 156 |\n| 3 | Concepcion | 2017 | 26 | 124 |\n| 4 | Concepcion | 2017 | 27 | 151 |\n| 5 | Concepcion | 2017 | 28 | 152 |\n\n",
            "text/latex": "A data.frame: 5 × 4\n\\begin{tabular}{r|llll}\n  & COMUNA & Anio & NuSemana & Total\\_Valor\\_sem\\\\\n  & <chr> & <dbl> & <dbl> & <dbl>\\\\\n\\hline\n\t1 & Concepcion & 2017 & 24 & 192\\\\\n\t2 & Concepcion & 2017 & 25 & 156\\\\\n\t3 & Concepcion & 2017 & 26 & 124\\\\\n\t4 & Concepcion & 2017 & 27 & 151\\\\\n\t5 & Concepcion & 2017 & 28 & 152\\\\\n\\end{tabular}\n",
            "text/plain": [
              "  COMUNA     Anio NuSemana Total_Valor_sem\n",
              "1 Concepcion 2017 24       192            \n",
              "2 Concepcion 2017 25       156            \n",
              "3 Concepcion 2017 26       124            \n",
              "4 Concepcion 2017 27       151            \n",
              "5 Concepcion 2017 28       152            "
            ]
          },
          "metadata": {}
        }
      ]
    },
    {
      "cell_type": "code",
      "source": [
        "count(df_urgr_esp_semanal)\n",
        "write.csv (df_urgr_esp_semanal, \"prueba.csv\")\n",
        "count(df_datos_temperatura_semanal)\n",
        "write.csv (df_datos_temperatura_semanal, \"prueba2.csv\")\n",
        "count(df_datos_Precip_semanal)\n",
        "count(df_datos_Humedad_semanal)\n",
        "count(df_datos_mp25_semanal)"
      ],
      "metadata": {
        "id": "l5FZV3fQbq0R",
        "outputId": "0f70658b-d806-4ae7-a4f6-becf968818fe",
        "colab": {
          "base_uri": "https://localhost:8080/",
          "height": 753
        }
      },
      "execution_count": 57,
      "outputs": [
        {
          "output_type": "display_data",
          "data": {
            "text/html": [
              "<table class=\"dataframe\">\n",
              "<caption>A data.frame: 1 × 1</caption>\n",
              "<thead>\n",
              "\t<tr><th scope=col>n</th></tr>\n",
              "\t<tr><th scope=col>&lt;int&gt;</th></tr>\n",
              "</thead>\n",
              "<tbody>\n",
              "\t<tr><td>1572</td></tr>\n",
              "</tbody>\n",
              "</table>\n"
            ],
            "text/markdown": "\nA data.frame: 1 × 1\n\n| n &lt;int&gt; |\n|---|\n| 1572 |\n\n",
            "text/latex": "A data.frame: 1 × 1\n\\begin{tabular}{l}\n n\\\\\n <int>\\\\\n\\hline\n\t 1572\\\\\n\\end{tabular}\n",
            "text/plain": [
              "  n   \n",
              "1 1572"
            ]
          },
          "metadata": {}
        },
        {
          "output_type": "display_data",
          "data": {
            "text/html": [
              "<table class=\"dataframe\">\n",
              "<caption>A data.frame: 1 × 1</caption>\n",
              "<thead>\n",
              "\t<tr><th scope=col>n</th></tr>\n",
              "\t<tr><th scope=col>&lt;int&gt;</th></tr>\n",
              "</thead>\n",
              "<tbody>\n",
              "\t<tr><td>1572</td></tr>\n",
              "</tbody>\n",
              "</table>\n"
            ],
            "text/markdown": "\nA data.frame: 1 × 1\n\n| n &lt;int&gt; |\n|---|\n| 1572 |\n\n",
            "text/latex": "A data.frame: 1 × 1\n\\begin{tabular}{l}\n n\\\\\n <int>\\\\\n\\hline\n\t 1572\\\\\n\\end{tabular}\n",
            "text/plain": [
              "  n   \n",
              "1 1572"
            ]
          },
          "metadata": {}
        },
        {
          "output_type": "display_data",
          "data": {
            "text/html": [
              "<table class=\"dataframe\">\n",
              "<caption>A data.frame: 1 × 1</caption>\n",
              "<thead>\n",
              "\t<tr><th scope=col>n</th></tr>\n",
              "\t<tr><th scope=col>&lt;int&gt;</th></tr>\n",
              "</thead>\n",
              "<tbody>\n",
              "\t<tr><td>1572</td></tr>\n",
              "</tbody>\n",
              "</table>\n"
            ],
            "text/markdown": "\nA data.frame: 1 × 1\n\n| n &lt;int&gt; |\n|---|\n| 1572 |\n\n",
            "text/latex": "A data.frame: 1 × 1\n\\begin{tabular}{l}\n n\\\\\n <int>\\\\\n\\hline\n\t 1572\\\\\n\\end{tabular}\n",
            "text/plain": [
              "  n   \n",
              "1 1572"
            ]
          },
          "metadata": {}
        },
        {
          "output_type": "display_data",
          "data": {
            "text/html": [
              "<table class=\"dataframe\">\n",
              "<caption>A data.frame: 1 × 1</caption>\n",
              "<thead>\n",
              "\t<tr><th scope=col>n</th></tr>\n",
              "\t<tr><th scope=col>&lt;int&gt;</th></tr>\n",
              "</thead>\n",
              "<tbody>\n",
              "\t<tr><td>1572</td></tr>\n",
              "</tbody>\n",
              "</table>\n"
            ],
            "text/markdown": "\nA data.frame: 1 × 1\n\n| n &lt;int&gt; |\n|---|\n| 1572 |\n\n",
            "text/latex": "A data.frame: 1 × 1\n\\begin{tabular}{l}\n n\\\\\n <int>\\\\\n\\hline\n\t 1572\\\\\n\\end{tabular}\n",
            "text/plain": [
              "  n   \n",
              "1 1572"
            ]
          },
          "metadata": {}
        },
        {
          "output_type": "display_data",
          "data": {
            "text/html": [
              "<table class=\"dataframe\">\n",
              "<caption>A data.frame: 1 × 1</caption>\n",
              "<thead>\n",
              "\t<tr><th scope=col>n</th></tr>\n",
              "\t<tr><th scope=col>&lt;int&gt;</th></tr>\n",
              "</thead>\n",
              "<tbody>\n",
              "\t<tr><td>1370</td></tr>\n",
              "</tbody>\n",
              "</table>\n"
            ],
            "text/markdown": "\nA data.frame: 1 × 1\n\n| n &lt;int&gt; |\n|---|\n| 1370 |\n\n",
            "text/latex": "A data.frame: 1 × 1\n\\begin{tabular}{l}\n n\\\\\n <int>\\\\\n\\hline\n\t 1370\\\\\n\\end{tabular}\n",
            "text/plain": [
              "  n   \n",
              "1 1370"
            ]
          },
          "metadata": {}
        }
      ]
    },
    {
      "cell_type": "code",
      "source": [
        "df_variable <-merge(df_datos_temperatura_semanal, df_datos_Humedad_semanal, by = c(\"CodigoNacional\",\"Anio\",\"NuSemana\"))\n",
        "df_variable <- merge(df_variable, df_datos_Precip_semanal, by = c(\"CodigoNacional\",\"Anio\",\"NuSemana\"))\n",
        "head(df_variable,15)"
      ],
      "metadata": {
        "id": "C3St2zUj3j3K",
        "outputId": "144df582-5ce8-4162-dfe3-a633ce95d4cf",
        "colab": {
          "base_uri": "https://localhost:8080/",
          "height": 568
        }
      },
      "execution_count": 58,
      "outputs": [
        {
          "output_type": "display_data",
          "data": {
            "text/html": [
              "<table class=\"dataframe\">\n",
              "<caption>A data.frame: 15 × 7</caption>\n",
              "<thead>\n",
              "\t<tr><th></th><th scope=col>CodigoNacional</th><th scope=col>Anio</th><th scope=col>NuSemana</th><th scope=col>medianaClim</th><th scope=col>difMaxMin</th><th scope=col>Mediana_HR_Valor</th><th scope=col>Total_Valor_sem</th></tr>\n",
              "\t<tr><th></th><th scope=col>&lt;dbl&gt;</th><th scope=col>&lt;dbl&gt;</th><th scope=col>&lt;dbl&gt;</th><th scope=col>&lt;dbl&gt;</th><th scope=col>&lt;dbl&gt;</th><th scope=col>&lt;dbl&gt;</th><th scope=col>&lt;dbl&gt;</th></tr>\n",
              "</thead>\n",
              "<tbody>\n",
              "\t<tr><th scope=row>1</th><td>290004</td><td>2014</td><td> 1</td><td>17.6</td><td>7.8</td><td>76.5</td><td>0.0</td></tr>\n",
              "\t<tr><th scope=row>2</th><td>290004</td><td>2014</td><td>10</td><td>15.8</td><td>8.4</td><td>82.0</td><td>0.0</td></tr>\n",
              "\t<tr><th scope=row>3</th><td>290004</td><td>2014</td><td>11</td><td>14.9</td><td>6.6</td><td>84.0</td><td>0.0</td></tr>\n",
              "\t<tr><th scope=row>4</th><td>290004</td><td>2014</td><td>12</td><td>14.3</td><td>6.1</td><td>86.5</td><td>0.2</td></tr>\n",
              "\t<tr><th scope=row>5</th><td>290004</td><td>2014</td><td>13</td><td>14.4</td><td>4.2</td><td>85.5</td><td>0.6</td></tr>\n",
              "\t<tr><th scope=row>6</th><td>290004</td><td>2014</td><td>14</td><td>14.2</td><td>7.7</td><td>80.0</td><td>0.0</td></tr>\n",
              "\t<tr><th scope=row>7</th><td>290004</td><td>2014</td><td>15</td><td>14.1</td><td>8.9</td><td>77.0</td><td>0.0</td></tr>\n",
              "\t<tr><th scope=row>8</th><td>290004</td><td>2014</td><td>16</td><td>12.8</td><td>5.4</td><td>83.0</td><td>0.0</td></tr>\n",
              "\t<tr><th scope=row>9</th><td>290004</td><td>2014</td><td>17</td><td>13.2</td><td>5.0</td><td>84.0</td><td>0.2</td></tr>\n",
              "\t<tr><th scope=row>10</th><td>290004</td><td>2014</td><td>18</td><td>12.4</td><td>8.0</td><td>80.0</td><td>0.0</td></tr>\n",
              "\t<tr><th scope=row>11</th><td>290004</td><td>2014</td><td>19</td><td>12.8</td><td>4.9</td><td>89.0</td><td>0.0</td></tr>\n",
              "\t<tr><th scope=row>12</th><td>290004</td><td>2014</td><td> 2</td><td>17.4</td><td>7.5</td><td>81.5</td><td>0.0</td></tr>\n",
              "\t<tr><th scope=row>13</th><td>290004</td><td>2014</td><td>20</td><td>11.7</td><td>7.1</td><td>85.0</td><td>0.0</td></tr>\n",
              "\t<tr><th scope=row>14</th><td>290004</td><td>2014</td><td>21</td><td>11.6</td><td>9.7</td><td>82.5</td><td>0.0</td></tr>\n",
              "\t<tr><th scope=row>15</th><td>290004</td><td>2014</td><td>22</td><td>12.0</td><td>9.8</td><td>76.0</td><td>0.0</td></tr>\n",
              "</tbody>\n",
              "</table>\n"
            ],
            "text/markdown": "\nA data.frame: 15 × 7\n\n| <!--/--> | CodigoNacional &lt;dbl&gt; | Anio &lt;dbl&gt; | NuSemana &lt;dbl&gt; | medianaClim &lt;dbl&gt; | difMaxMin &lt;dbl&gt; | Mediana_HR_Valor &lt;dbl&gt; | Total_Valor_sem &lt;dbl&gt; |\n|---|---|---|---|---|---|---|---|\n| 1 | 290004 | 2014 |  1 | 17.6 | 7.8 | 76.5 | 0.0 |\n| 2 | 290004 | 2014 | 10 | 15.8 | 8.4 | 82.0 | 0.0 |\n| 3 | 290004 | 2014 | 11 | 14.9 | 6.6 | 84.0 | 0.0 |\n| 4 | 290004 | 2014 | 12 | 14.3 | 6.1 | 86.5 | 0.2 |\n| 5 | 290004 | 2014 | 13 | 14.4 | 4.2 | 85.5 | 0.6 |\n| 6 | 290004 | 2014 | 14 | 14.2 | 7.7 | 80.0 | 0.0 |\n| 7 | 290004 | 2014 | 15 | 14.1 | 8.9 | 77.0 | 0.0 |\n| 8 | 290004 | 2014 | 16 | 12.8 | 5.4 | 83.0 | 0.0 |\n| 9 | 290004 | 2014 | 17 | 13.2 | 5.0 | 84.0 | 0.2 |\n| 10 | 290004 | 2014 | 18 | 12.4 | 8.0 | 80.0 | 0.0 |\n| 11 | 290004 | 2014 | 19 | 12.8 | 4.9 | 89.0 | 0.0 |\n| 12 | 290004 | 2014 |  2 | 17.4 | 7.5 | 81.5 | 0.0 |\n| 13 | 290004 | 2014 | 20 | 11.7 | 7.1 | 85.0 | 0.0 |\n| 14 | 290004 | 2014 | 21 | 11.6 | 9.7 | 82.5 | 0.0 |\n| 15 | 290004 | 2014 | 22 | 12.0 | 9.8 | 76.0 | 0.0 |\n\n",
            "text/latex": "A data.frame: 15 × 7\n\\begin{tabular}{r|lllllll}\n  & CodigoNacional & Anio & NuSemana & medianaClim & difMaxMin & Mediana\\_HR\\_Valor & Total\\_Valor\\_sem\\\\\n  & <dbl> & <dbl> & <dbl> & <dbl> & <dbl> & <dbl> & <dbl>\\\\\n\\hline\n\t1 & 290004 & 2014 &  1 & 17.6 & 7.8 & 76.5 & 0.0\\\\\n\t2 & 290004 & 2014 & 10 & 15.8 & 8.4 & 82.0 & 0.0\\\\\n\t3 & 290004 & 2014 & 11 & 14.9 & 6.6 & 84.0 & 0.0\\\\\n\t4 & 290004 & 2014 & 12 & 14.3 & 6.1 & 86.5 & 0.2\\\\\n\t5 & 290004 & 2014 & 13 & 14.4 & 4.2 & 85.5 & 0.6\\\\\n\t6 & 290004 & 2014 & 14 & 14.2 & 7.7 & 80.0 & 0.0\\\\\n\t7 & 290004 & 2014 & 15 & 14.1 & 8.9 & 77.0 & 0.0\\\\\n\t8 & 290004 & 2014 & 16 & 12.8 & 5.4 & 83.0 & 0.0\\\\\n\t9 & 290004 & 2014 & 17 & 13.2 & 5.0 & 84.0 & 0.2\\\\\n\t10 & 290004 & 2014 & 18 & 12.4 & 8.0 & 80.0 & 0.0\\\\\n\t11 & 290004 & 2014 & 19 & 12.8 & 4.9 & 89.0 & 0.0\\\\\n\t12 & 290004 & 2014 &  2 & 17.4 & 7.5 & 81.5 & 0.0\\\\\n\t13 & 290004 & 2014 & 20 & 11.7 & 7.1 & 85.0 & 0.0\\\\\n\t14 & 290004 & 2014 & 21 & 11.6 & 9.7 & 82.5 & 0.0\\\\\n\t15 & 290004 & 2014 & 22 & 12.0 & 9.8 & 76.0 & 0.0\\\\\n\\end{tabular}\n",
            "text/plain": [
              "   CodigoNacional Anio NuSemana medianaClim difMaxMin Mediana_HR_Valor\n",
              "1  290004         2014  1       17.6        7.8       76.5            \n",
              "2  290004         2014 10       15.8        8.4       82.0            \n",
              "3  290004         2014 11       14.9        6.6       84.0            \n",
              "4  290004         2014 12       14.3        6.1       86.5            \n",
              "5  290004         2014 13       14.4        4.2       85.5            \n",
              "6  290004         2014 14       14.2        7.7       80.0            \n",
              "7  290004         2014 15       14.1        8.9       77.0            \n",
              "8  290004         2014 16       12.8        5.4       83.0            \n",
              "9  290004         2014 17       13.2        5.0       84.0            \n",
              "10 290004         2014 18       12.4        8.0       80.0            \n",
              "11 290004         2014 19       12.8        4.9       89.0            \n",
              "12 290004         2014  2       17.4        7.5       81.5            \n",
              "13 290004         2014 20       11.7        7.1       85.0            \n",
              "14 290004         2014 21       11.6        9.7       82.5            \n",
              "15 290004         2014 22       12.0        9.8       76.0            \n",
              "   Total_Valor_sem\n",
              "1  0.0            \n",
              "2  0.0            \n",
              "3  0.0            \n",
              "4  0.2            \n",
              "5  0.6            \n",
              "6  0.0            \n",
              "7  0.0            \n",
              "8  0.0            \n",
              "9  0.2            \n",
              "10 0.0            \n",
              "11 0.0            \n",
              "12 0.0            \n",
              "13 0.0            \n",
              "14 0.0            \n",
              "15 0.0            "
            ]
          },
          "metadata": {}
        }
      ]
    },
    {
      "cell_type": "code",
      "source": [
        "df_variable <- df_variable %>% mutate(COMUNA = ifelse(CodigoNacional == 290004, \"LaSerena\", ifelse (CodigoNacional == 360019, \"Concepcion\", ifelse (CodigoNacional == 330020, \"Santiago\", NA))))\n"
      ],
      "metadata": {
        "id": "3W4oes7QKKzI"
      },
      "execution_count": 59,
      "outputs": []
    },
    {
      "cell_type": "code",
      "source": [
        "df_variable <- merge(df_variable, df_datos_mp25_semanal, by = c(\"COMUNA\",\"Anio\",\"NuSemana\"))\n",
        "df_variable"
      ],
      "metadata": {
        "id": "UbsA287sMpV1",
        "outputId": "7e4d344d-f5b5-4641-83d1-03f3aa69bd55",
        "colab": {
          "base_uri": "https://localhost:8080/",
          "height": 1000
        }
      },
      "execution_count": 60,
      "outputs": [
        {
          "output_type": "display_data",
          "data": {
            "text/html": [
              "<table class=\"dataframe\">\n",
              "<caption>A data.frame: 1370 × 9</caption>\n",
              "<thead>\n",
              "\t<tr><th scope=col>COMUNA</th><th scope=col>Anio</th><th scope=col>NuSemana</th><th scope=col>CodigoNacional</th><th scope=col>medianaClim</th><th scope=col>difMaxMin</th><th scope=col>Mediana_HR_Valor</th><th scope=col>Total_Valor_sem.x</th><th scope=col>Total_Valor_sem.y</th></tr>\n",
              "\t<tr><th scope=col>&lt;chr&gt;</th><th scope=col>&lt;dbl&gt;</th><th scope=col>&lt;dbl&gt;</th><th scope=col>&lt;dbl&gt;</th><th scope=col>&lt;dbl&gt;</th><th scope=col>&lt;dbl&gt;</th><th scope=col>&lt;dbl&gt;</th><th scope=col>&lt;dbl&gt;</th><th scope=col>&lt;dbl&gt;</th></tr>\n",
              "</thead>\n",
              "<tbody>\n",
              "\t<tr><td>Concepcion</td><td>2017</td><td>24</td><td>360019</td><td> 9.00</td><td> 7.2</td><td>86.0</td><td>39.4</td><td>192</td></tr>\n",
              "\t<tr><td>Concepcion</td><td>2017</td><td>25</td><td>360019</td><td>10.70</td><td> 6.2</td><td>85.0</td><td>75.6</td><td>156</td></tr>\n",
              "\t<tr><td>Concepcion</td><td>2017</td><td>26</td><td>360019</td><td>13.00</td><td> 4.6</td><td>91.0</td><td>11.4</td><td>124</td></tr>\n",
              "\t<tr><td>Concepcion</td><td>2017</td><td>27</td><td>360019</td><td>10.50</td><td> 6.4</td><td>92.0</td><td>37.6</td><td>151</td></tr>\n",
              "\t<tr><td>Concepcion</td><td>2017</td><td>28</td><td>360019</td><td> 8.60</td><td> 7.8</td><td>79.0</td><td>46.6</td><td>152</td></tr>\n",
              "\t<tr><td>Concepcion</td><td>2017</td><td>29</td><td>360019</td><td> 7.40</td><td>11.4</td><td>87.5</td><td> 4.8</td><td>212</td></tr>\n",
              "\t<tr><td>Concepcion</td><td>2017</td><td>30</td><td>360019</td><td> 8.20</td><td> 9.5</td><td>91.5</td><td> 1.0</td><td>238</td></tr>\n",
              "\t<tr><td>Concepcion</td><td>2017</td><td>31</td><td>360019</td><td> 7.40</td><td>11.7</td><td>80.0</td><td>21.0</td><td>193</td></tr>\n",
              "\t<tr><td>Concepcion</td><td>2017</td><td>32</td><td>360019</td><td>10.40</td><td> 4.8</td><td>92.0</td><td>96.4</td><td>112</td></tr>\n",
              "\t<tr><td>Concepcion</td><td>2017</td><td>33</td><td>360019</td><td>10.10</td><td> 6.8</td><td>89.0</td><td>41.8</td><td>122</td></tr>\n",
              "\t<tr><td>Concepcion</td><td>2017</td><td>34</td><td>360019</td><td> 9.00</td><td> 7.9</td><td>88.5</td><td>77.8</td><td>103</td></tr>\n",
              "\t<tr><td>Concepcion</td><td>2017</td><td>35</td><td>360019</td><td> 8.10</td><td> 9.3</td><td>88.0</td><td>49.2</td><td>157</td></tr>\n",
              "\t<tr><td>Concepcion</td><td>2017</td><td>36</td><td>360019</td><td> 8.70</td><td> 8.9</td><td>78.0</td><td> 5.2</td><td>133</td></tr>\n",
              "\t<tr><td>Concepcion</td><td>2017</td><td>37</td><td>360019</td><td> 9.90</td><td>11.1</td><td>74.5</td><td> 4.8</td><td>136</td></tr>\n",
              "\t<tr><td>Concepcion</td><td>2017</td><td>38</td><td>360019</td><td>10.80</td><td> 9.2</td><td>88.0</td><td> 3.6</td><td> 99</td></tr>\n",
              "\t<tr><td>Concepcion</td><td>2017</td><td>39</td><td>360019</td><td>11.50</td><td> 9.5</td><td>83.0</td><td>49.6</td><td> 79</td></tr>\n",
              "\t<tr><td>Concepcion</td><td>2017</td><td>40</td><td>360019</td><td>12.10</td><td> 5.4</td><td>85.0</td><td>38.6</td><td> 53</td></tr>\n",
              "\t<tr><td>Concepcion</td><td>2017</td><td>41</td><td>360019</td><td>11.90</td><td>11.0</td><td>77.0</td><td> 1.6</td><td> 74</td></tr>\n",
              "\t<tr><td>Concepcion</td><td>2017</td><td>42</td><td>360019</td><td>12.00</td><td> 7.5</td><td>84.0</td><td> 5.8</td><td> 59</td></tr>\n",
              "\t<tr><td>Concepcion</td><td>2017</td><td>43</td><td>360019</td><td>12.70</td><td>10.1</td><td>80.0</td><td> 8.0</td><td> 48</td></tr>\n",
              "\t<tr><td>Concepcion</td><td>2017</td><td>44</td><td>360019</td><td>11.70</td><td> 8.7</td><td>84.5</td><td>48.8</td><td> 47</td></tr>\n",
              "\t<tr><td>Concepcion</td><td>2017</td><td>45</td><td>360019</td><td>14.80</td><td> 9.0</td><td>88.0</td><td> 1.4</td><td> 61</td></tr>\n",
              "\t<tr><td>Concepcion</td><td>2017</td><td>46</td><td>360019</td><td>14.10</td><td>11.9</td><td>73.0</td><td> 0.8</td><td> 35</td></tr>\n",
              "\t<tr><td>Concepcion</td><td>2017</td><td>47</td><td>360019</td><td>14.40</td><td>13.9</td><td>64.0</td><td> 0.0</td><td> 73</td></tr>\n",
              "\t<tr><td>Concepcion</td><td>2017</td><td>48</td><td>360019</td><td>14.60</td><td>11.8</td><td>77.0</td><td> 0.0</td><td> 83</td></tr>\n",
              "\t<tr><td>Concepcion</td><td>2017</td><td>49</td><td>360019</td><td>14.70</td><td>11.0</td><td>81.0</td><td> 0.0</td><td> 71</td></tr>\n",
              "\t<tr><td>Concepcion</td><td>2017</td><td>50</td><td>360019</td><td>16.20</td><td> 7.8</td><td>84.0</td><td> 3.0</td><td> 49</td></tr>\n",
              "\t<tr><td>Concepcion</td><td>2017</td><td>51</td><td>360019</td><td>15.60</td><td>14.2</td><td>62.5</td><td> 0.0</td><td> 52</td></tr>\n",
              "\t<tr><td>Concepcion</td><td>2017</td><td>52</td><td>360019</td><td>17.70</td><td> 9.4</td><td>77.5</td><td> 4.6</td><td> 34</td></tr>\n",
              "\t<tr><td>Concepcion</td><td>2018</td><td> 1</td><td>360019</td><td>16.15</td><td>11.7</td><td>73.5</td><td>13.4</td><td> 36</td></tr>\n",
              "\t<tr><td>⋮</td><td>⋮</td><td>⋮</td><td>⋮</td><td>⋮</td><td>⋮</td><td>⋮</td><td>⋮</td><td>⋮</td></tr>\n",
              "\t<tr><td>Santiago</td><td>2023</td><td> 3</td><td>330020</td><td>20.7</td><td>17.1</td><td>53.65</td><td> 0.0</td><td>109</td></tr>\n",
              "\t<tr><td>Santiago</td><td>2023</td><td>30</td><td>330020</td><td>10.0</td><td>15.7</td><td>89.35</td><td> 0.0</td><td>283</td></tr>\n",
              "\t<tr><td>Santiago</td><td>2023</td><td>31</td><td>330020</td><td>13.2</td><td>18.7</td><td>81.30</td><td> 0.0</td><td>273</td></tr>\n",
              "\t<tr><td>Santiago</td><td>2023</td><td>32</td><td>330020</td><td>11.7</td><td>12.5</td><td>81.80</td><td> 7.7</td><td>213</td></tr>\n",
              "\t<tr><td>Santiago</td><td>2023</td><td>33</td><td>330020</td><td>12.2</td><td> 6.6</td><td>82.60</td><td>28.6</td><td>145</td></tr>\n",
              "\t<tr><td>Santiago</td><td>2023</td><td>34</td><td>330020</td><td> 9.8</td><td> 9.3</td><td>88.50</td><td>53.5</td><td> 97</td></tr>\n",
              "\t<tr><td>Santiago</td><td>2023</td><td>35</td><td>330020</td><td>12.3</td><td>12.2</td><td>67.00</td><td> 0.0</td><td>158</td></tr>\n",
              "\t<tr><td>Santiago</td><td>2023</td><td>36</td><td>330020</td><td>11.9</td><td> 6.9</td><td>87.20</td><td>42.2</td><td>138</td></tr>\n",
              "\t<tr><td>Santiago</td><td>2023</td><td>37</td><td>330020</td><td>12.1</td><td>11.5</td><td>74.00</td><td>34.6</td><td>122</td></tr>\n",
              "\t<tr><td>Santiago</td><td>2023</td><td>38</td><td>330020</td><td>12.7</td><td> 8.3</td><td>78.25</td><td> 0.0</td><td>161</td></tr>\n",
              "\t<tr><td>Santiago</td><td>2023</td><td>39</td><td>330020</td><td>12.3</td><td>15.5</td><td>70.20</td><td> 0.0</td><td>123</td></tr>\n",
              "\t<tr><td>Santiago</td><td>2023</td><td> 4</td><td>330020</td><td>22.3</td><td>18.8</td><td>43.40</td><td> 0.0</td><td> 89</td></tr>\n",
              "\t<tr><td>Santiago</td><td>2023</td><td>40</td><td>330020</td><td>11.6</td><td>11.5</td><td>77.05</td><td> 1.9</td><td> 93</td></tr>\n",
              "\t<tr><td>Santiago</td><td>2023</td><td>41</td><td>330020</td><td>15.3</td><td>19.4</td><td>61.50</td><td> 0.0</td><td>117</td></tr>\n",
              "\t<tr><td>Santiago</td><td>2023</td><td>42</td><td>330020</td><td>15.5</td><td>17.8</td><td>61.00</td><td> 0.1</td><td>121</td></tr>\n",
              "\t<tr><td>Santiago</td><td>2023</td><td>43</td><td>330020</td><td>14.9</td><td>11.3</td><td>74.50</td><td> 2.5</td><td>103</td></tr>\n",
              "\t<tr><td>Santiago</td><td>2023</td><td>44</td><td>330020</td><td>13.1</td><td>14.2</td><td>68.90</td><td> 3.0</td><td> 64</td></tr>\n",
              "\t<tr><td>Santiago</td><td>2023</td><td>45</td><td>330020</td><td>16.0</td><td>15.7</td><td>71.00</td><td>25.4</td><td> 57</td></tr>\n",
              "\t<tr><td>Santiago</td><td>2023</td><td>46</td><td>330020</td><td>14.2</td><td>15.0</td><td>63.90</td><td> 0.0</td><td> 65</td></tr>\n",
              "\t<tr><td>Santiago</td><td>2023</td><td>47</td><td>330020</td><td>18.3</td><td>18.3</td><td>49.50</td><td> 0.0</td><td> 73</td></tr>\n",
              "\t<tr><td>Santiago</td><td>2023</td><td>48</td><td>330020</td><td>16.7</td><td>15.1</td><td>67.30</td><td> 0.0</td><td> 63</td></tr>\n",
              "\t<tr><td>Santiago</td><td>2023</td><td>49</td><td>330020</td><td>19.8</td><td>20.4</td><td>47.00</td><td> 0.0</td><td>127</td></tr>\n",
              "\t<tr><td>Santiago</td><td>2023</td><td> 5</td><td>330020</td><td>23.1</td><td>18.4</td><td>41.50</td><td> 0.0</td><td>111</td></tr>\n",
              "\t<tr><td>Santiago</td><td>2023</td><td>50</td><td>330020</td><td>21.0</td><td>19.2</td><td>47.70</td><td> 0.0</td><td> 47</td></tr>\n",
              "\t<tr><td>Santiago</td><td>2023</td><td>51</td><td>330020</td><td>19.4</td><td>19.4</td><td>47.65</td><td> 0.0</td><td>124</td></tr>\n",
              "\t<tr><td>Santiago</td><td>2023</td><td>52</td><td>330020</td><td>20.2</td><td>14.3</td><td>60.00</td><td> 0.0</td><td> 88</td></tr>\n",
              "\t<tr><td>Santiago</td><td>2023</td><td> 6</td><td>330020</td><td>23.8</td><td>17.5</td><td>49.20</td><td> 0.0</td><td>370</td></tr>\n",
              "\t<tr><td>Santiago</td><td>2023</td><td> 7</td><td>330020</td><td>22.3</td><td>18.8</td><td>40.50</td><td> 0.0</td><td>110</td></tr>\n",
              "\t<tr><td>Santiago</td><td>2023</td><td> 8</td><td>330020</td><td>22.2</td><td>19.6</td><td>45.50</td><td> 0.0</td><td>135</td></tr>\n",
              "\t<tr><td>Santiago</td><td>2023</td><td> 9</td><td>330020</td><td>22.9</td><td>20.2</td><td>43.20</td><td> 0.0</td><td>104</td></tr>\n",
              "</tbody>\n",
              "</table>\n"
            ],
            "text/markdown": "\nA data.frame: 1370 × 9\n\n| COMUNA &lt;chr&gt; | Anio &lt;dbl&gt; | NuSemana &lt;dbl&gt; | CodigoNacional &lt;dbl&gt; | medianaClim &lt;dbl&gt; | difMaxMin &lt;dbl&gt; | Mediana_HR_Valor &lt;dbl&gt; | Total_Valor_sem.x &lt;dbl&gt; | Total_Valor_sem.y &lt;dbl&gt; |\n|---|---|---|---|---|---|---|---|---|\n| Concepcion | 2017 | 24 | 360019 |  9.00 |  7.2 | 86.0 | 39.4 | 192 |\n| Concepcion | 2017 | 25 | 360019 | 10.70 |  6.2 | 85.0 | 75.6 | 156 |\n| Concepcion | 2017 | 26 | 360019 | 13.00 |  4.6 | 91.0 | 11.4 | 124 |\n| Concepcion | 2017 | 27 | 360019 | 10.50 |  6.4 | 92.0 | 37.6 | 151 |\n| Concepcion | 2017 | 28 | 360019 |  8.60 |  7.8 | 79.0 | 46.6 | 152 |\n| Concepcion | 2017 | 29 | 360019 |  7.40 | 11.4 | 87.5 |  4.8 | 212 |\n| Concepcion | 2017 | 30 | 360019 |  8.20 |  9.5 | 91.5 |  1.0 | 238 |\n| Concepcion | 2017 | 31 | 360019 |  7.40 | 11.7 | 80.0 | 21.0 | 193 |\n| Concepcion | 2017 | 32 | 360019 | 10.40 |  4.8 | 92.0 | 96.4 | 112 |\n| Concepcion | 2017 | 33 | 360019 | 10.10 |  6.8 | 89.0 | 41.8 | 122 |\n| Concepcion | 2017 | 34 | 360019 |  9.00 |  7.9 | 88.5 | 77.8 | 103 |\n| Concepcion | 2017 | 35 | 360019 |  8.10 |  9.3 | 88.0 | 49.2 | 157 |\n| Concepcion | 2017 | 36 | 360019 |  8.70 |  8.9 | 78.0 |  5.2 | 133 |\n| Concepcion | 2017 | 37 | 360019 |  9.90 | 11.1 | 74.5 |  4.8 | 136 |\n| Concepcion | 2017 | 38 | 360019 | 10.80 |  9.2 | 88.0 |  3.6 |  99 |\n| Concepcion | 2017 | 39 | 360019 | 11.50 |  9.5 | 83.0 | 49.6 |  79 |\n| Concepcion | 2017 | 40 | 360019 | 12.10 |  5.4 | 85.0 | 38.6 |  53 |\n| Concepcion | 2017 | 41 | 360019 | 11.90 | 11.0 | 77.0 |  1.6 |  74 |\n| Concepcion | 2017 | 42 | 360019 | 12.00 |  7.5 | 84.0 |  5.8 |  59 |\n| Concepcion | 2017 | 43 | 360019 | 12.70 | 10.1 | 80.0 |  8.0 |  48 |\n| Concepcion | 2017 | 44 | 360019 | 11.70 |  8.7 | 84.5 | 48.8 |  47 |\n| Concepcion | 2017 | 45 | 360019 | 14.80 |  9.0 | 88.0 |  1.4 |  61 |\n| Concepcion | 2017 | 46 | 360019 | 14.10 | 11.9 | 73.0 |  0.8 |  35 |\n| Concepcion | 2017 | 47 | 360019 | 14.40 | 13.9 | 64.0 |  0.0 |  73 |\n| Concepcion | 2017 | 48 | 360019 | 14.60 | 11.8 | 77.0 |  0.0 |  83 |\n| Concepcion | 2017 | 49 | 360019 | 14.70 | 11.0 | 81.0 |  0.0 |  71 |\n| Concepcion | 2017 | 50 | 360019 | 16.20 |  7.8 | 84.0 |  3.0 |  49 |\n| Concepcion | 2017 | 51 | 360019 | 15.60 | 14.2 | 62.5 |  0.0 |  52 |\n| Concepcion | 2017 | 52 | 360019 | 17.70 |  9.4 | 77.5 |  4.6 |  34 |\n| Concepcion | 2018 |  1 | 360019 | 16.15 | 11.7 | 73.5 | 13.4 |  36 |\n| ⋮ | ⋮ | ⋮ | ⋮ | ⋮ | ⋮ | ⋮ | ⋮ | ⋮ |\n| Santiago | 2023 |  3 | 330020 | 20.7 | 17.1 | 53.65 |  0.0 | 109 |\n| Santiago | 2023 | 30 | 330020 | 10.0 | 15.7 | 89.35 |  0.0 | 283 |\n| Santiago | 2023 | 31 | 330020 | 13.2 | 18.7 | 81.30 |  0.0 | 273 |\n| Santiago | 2023 | 32 | 330020 | 11.7 | 12.5 | 81.80 |  7.7 | 213 |\n| Santiago | 2023 | 33 | 330020 | 12.2 |  6.6 | 82.60 | 28.6 | 145 |\n| Santiago | 2023 | 34 | 330020 |  9.8 |  9.3 | 88.50 | 53.5 |  97 |\n| Santiago | 2023 | 35 | 330020 | 12.3 | 12.2 | 67.00 |  0.0 | 158 |\n| Santiago | 2023 | 36 | 330020 | 11.9 |  6.9 | 87.20 | 42.2 | 138 |\n| Santiago | 2023 | 37 | 330020 | 12.1 | 11.5 | 74.00 | 34.6 | 122 |\n| Santiago | 2023 | 38 | 330020 | 12.7 |  8.3 | 78.25 |  0.0 | 161 |\n| Santiago | 2023 | 39 | 330020 | 12.3 | 15.5 | 70.20 |  0.0 | 123 |\n| Santiago | 2023 |  4 | 330020 | 22.3 | 18.8 | 43.40 |  0.0 |  89 |\n| Santiago | 2023 | 40 | 330020 | 11.6 | 11.5 | 77.05 |  1.9 |  93 |\n| Santiago | 2023 | 41 | 330020 | 15.3 | 19.4 | 61.50 |  0.0 | 117 |\n| Santiago | 2023 | 42 | 330020 | 15.5 | 17.8 | 61.00 |  0.1 | 121 |\n| Santiago | 2023 | 43 | 330020 | 14.9 | 11.3 | 74.50 |  2.5 | 103 |\n| Santiago | 2023 | 44 | 330020 | 13.1 | 14.2 | 68.90 |  3.0 |  64 |\n| Santiago | 2023 | 45 | 330020 | 16.0 | 15.7 | 71.00 | 25.4 |  57 |\n| Santiago | 2023 | 46 | 330020 | 14.2 | 15.0 | 63.90 |  0.0 |  65 |\n| Santiago | 2023 | 47 | 330020 | 18.3 | 18.3 | 49.50 |  0.0 |  73 |\n| Santiago | 2023 | 48 | 330020 | 16.7 | 15.1 | 67.30 |  0.0 |  63 |\n| Santiago | 2023 | 49 | 330020 | 19.8 | 20.4 | 47.00 |  0.0 | 127 |\n| Santiago | 2023 |  5 | 330020 | 23.1 | 18.4 | 41.50 |  0.0 | 111 |\n| Santiago | 2023 | 50 | 330020 | 21.0 | 19.2 | 47.70 |  0.0 |  47 |\n| Santiago | 2023 | 51 | 330020 | 19.4 | 19.4 | 47.65 |  0.0 | 124 |\n| Santiago | 2023 | 52 | 330020 | 20.2 | 14.3 | 60.00 |  0.0 |  88 |\n| Santiago | 2023 |  6 | 330020 | 23.8 | 17.5 | 49.20 |  0.0 | 370 |\n| Santiago | 2023 |  7 | 330020 | 22.3 | 18.8 | 40.50 |  0.0 | 110 |\n| Santiago | 2023 |  8 | 330020 | 22.2 | 19.6 | 45.50 |  0.0 | 135 |\n| Santiago | 2023 |  9 | 330020 | 22.9 | 20.2 | 43.20 |  0.0 | 104 |\n\n",
            "text/latex": "A data.frame: 1370 × 9\n\\begin{tabular}{lllllllll}\n COMUNA & Anio & NuSemana & CodigoNacional & medianaClim & difMaxMin & Mediana\\_HR\\_Valor & Total\\_Valor\\_sem.x & Total\\_Valor\\_sem.y\\\\\n <chr> & <dbl> & <dbl> & <dbl> & <dbl> & <dbl> & <dbl> & <dbl> & <dbl>\\\\\n\\hline\n\t Concepcion & 2017 & 24 & 360019 &  9.00 &  7.2 & 86.0 & 39.4 & 192\\\\\n\t Concepcion & 2017 & 25 & 360019 & 10.70 &  6.2 & 85.0 & 75.6 & 156\\\\\n\t Concepcion & 2017 & 26 & 360019 & 13.00 &  4.6 & 91.0 & 11.4 & 124\\\\\n\t Concepcion & 2017 & 27 & 360019 & 10.50 &  6.4 & 92.0 & 37.6 & 151\\\\\n\t Concepcion & 2017 & 28 & 360019 &  8.60 &  7.8 & 79.0 & 46.6 & 152\\\\\n\t Concepcion & 2017 & 29 & 360019 &  7.40 & 11.4 & 87.5 &  4.8 & 212\\\\\n\t Concepcion & 2017 & 30 & 360019 &  8.20 &  9.5 & 91.5 &  1.0 & 238\\\\\n\t Concepcion & 2017 & 31 & 360019 &  7.40 & 11.7 & 80.0 & 21.0 & 193\\\\\n\t Concepcion & 2017 & 32 & 360019 & 10.40 &  4.8 & 92.0 & 96.4 & 112\\\\\n\t Concepcion & 2017 & 33 & 360019 & 10.10 &  6.8 & 89.0 & 41.8 & 122\\\\\n\t Concepcion & 2017 & 34 & 360019 &  9.00 &  7.9 & 88.5 & 77.8 & 103\\\\\n\t Concepcion & 2017 & 35 & 360019 &  8.10 &  9.3 & 88.0 & 49.2 & 157\\\\\n\t Concepcion & 2017 & 36 & 360019 &  8.70 &  8.9 & 78.0 &  5.2 & 133\\\\\n\t Concepcion & 2017 & 37 & 360019 &  9.90 & 11.1 & 74.5 &  4.8 & 136\\\\\n\t Concepcion & 2017 & 38 & 360019 & 10.80 &  9.2 & 88.0 &  3.6 &  99\\\\\n\t Concepcion & 2017 & 39 & 360019 & 11.50 &  9.5 & 83.0 & 49.6 &  79\\\\\n\t Concepcion & 2017 & 40 & 360019 & 12.10 &  5.4 & 85.0 & 38.6 &  53\\\\\n\t Concepcion & 2017 & 41 & 360019 & 11.90 & 11.0 & 77.0 &  1.6 &  74\\\\\n\t Concepcion & 2017 & 42 & 360019 & 12.00 &  7.5 & 84.0 &  5.8 &  59\\\\\n\t Concepcion & 2017 & 43 & 360019 & 12.70 & 10.1 & 80.0 &  8.0 &  48\\\\\n\t Concepcion & 2017 & 44 & 360019 & 11.70 &  8.7 & 84.5 & 48.8 &  47\\\\\n\t Concepcion & 2017 & 45 & 360019 & 14.80 &  9.0 & 88.0 &  1.4 &  61\\\\\n\t Concepcion & 2017 & 46 & 360019 & 14.10 & 11.9 & 73.0 &  0.8 &  35\\\\\n\t Concepcion & 2017 & 47 & 360019 & 14.40 & 13.9 & 64.0 &  0.0 &  73\\\\\n\t Concepcion & 2017 & 48 & 360019 & 14.60 & 11.8 & 77.0 &  0.0 &  83\\\\\n\t Concepcion & 2017 & 49 & 360019 & 14.70 & 11.0 & 81.0 &  0.0 &  71\\\\\n\t Concepcion & 2017 & 50 & 360019 & 16.20 &  7.8 & 84.0 &  3.0 &  49\\\\\n\t Concepcion & 2017 & 51 & 360019 & 15.60 & 14.2 & 62.5 &  0.0 &  52\\\\\n\t Concepcion & 2017 & 52 & 360019 & 17.70 &  9.4 & 77.5 &  4.6 &  34\\\\\n\t Concepcion & 2018 &  1 & 360019 & 16.15 & 11.7 & 73.5 & 13.4 &  36\\\\\n\t ⋮ & ⋮ & ⋮ & ⋮ & ⋮ & ⋮ & ⋮ & ⋮ & ⋮\\\\\n\t Santiago & 2023 &  3 & 330020 & 20.7 & 17.1 & 53.65 &  0.0 & 109\\\\\n\t Santiago & 2023 & 30 & 330020 & 10.0 & 15.7 & 89.35 &  0.0 & 283\\\\\n\t Santiago & 2023 & 31 & 330020 & 13.2 & 18.7 & 81.30 &  0.0 & 273\\\\\n\t Santiago & 2023 & 32 & 330020 & 11.7 & 12.5 & 81.80 &  7.7 & 213\\\\\n\t Santiago & 2023 & 33 & 330020 & 12.2 &  6.6 & 82.60 & 28.6 & 145\\\\\n\t Santiago & 2023 & 34 & 330020 &  9.8 &  9.3 & 88.50 & 53.5 &  97\\\\\n\t Santiago & 2023 & 35 & 330020 & 12.3 & 12.2 & 67.00 &  0.0 & 158\\\\\n\t Santiago & 2023 & 36 & 330020 & 11.9 &  6.9 & 87.20 & 42.2 & 138\\\\\n\t Santiago & 2023 & 37 & 330020 & 12.1 & 11.5 & 74.00 & 34.6 & 122\\\\\n\t Santiago & 2023 & 38 & 330020 & 12.7 &  8.3 & 78.25 &  0.0 & 161\\\\\n\t Santiago & 2023 & 39 & 330020 & 12.3 & 15.5 & 70.20 &  0.0 & 123\\\\\n\t Santiago & 2023 &  4 & 330020 & 22.3 & 18.8 & 43.40 &  0.0 &  89\\\\\n\t Santiago & 2023 & 40 & 330020 & 11.6 & 11.5 & 77.05 &  1.9 &  93\\\\\n\t Santiago & 2023 & 41 & 330020 & 15.3 & 19.4 & 61.50 &  0.0 & 117\\\\\n\t Santiago & 2023 & 42 & 330020 & 15.5 & 17.8 & 61.00 &  0.1 & 121\\\\\n\t Santiago & 2023 & 43 & 330020 & 14.9 & 11.3 & 74.50 &  2.5 & 103\\\\\n\t Santiago & 2023 & 44 & 330020 & 13.1 & 14.2 & 68.90 &  3.0 &  64\\\\\n\t Santiago & 2023 & 45 & 330020 & 16.0 & 15.7 & 71.00 & 25.4 &  57\\\\\n\t Santiago & 2023 & 46 & 330020 & 14.2 & 15.0 & 63.90 &  0.0 &  65\\\\\n\t Santiago & 2023 & 47 & 330020 & 18.3 & 18.3 & 49.50 &  0.0 &  73\\\\\n\t Santiago & 2023 & 48 & 330020 & 16.7 & 15.1 & 67.30 &  0.0 &  63\\\\\n\t Santiago & 2023 & 49 & 330020 & 19.8 & 20.4 & 47.00 &  0.0 & 127\\\\\n\t Santiago & 2023 &  5 & 330020 & 23.1 & 18.4 & 41.50 &  0.0 & 111\\\\\n\t Santiago & 2023 & 50 & 330020 & 21.0 & 19.2 & 47.70 &  0.0 &  47\\\\\n\t Santiago & 2023 & 51 & 330020 & 19.4 & 19.4 & 47.65 &  0.0 & 124\\\\\n\t Santiago & 2023 & 52 & 330020 & 20.2 & 14.3 & 60.00 &  0.0 &  88\\\\\n\t Santiago & 2023 &  6 & 330020 & 23.8 & 17.5 & 49.20 &  0.0 & 370\\\\\n\t Santiago & 2023 &  7 & 330020 & 22.3 & 18.8 & 40.50 &  0.0 & 110\\\\\n\t Santiago & 2023 &  8 & 330020 & 22.2 & 19.6 & 45.50 &  0.0 & 135\\\\\n\t Santiago & 2023 &  9 & 330020 & 22.9 & 20.2 & 43.20 &  0.0 & 104\\\\\n\\end{tabular}\n",
            "text/plain": [
              "     COMUNA     Anio NuSemana CodigoNacional medianaClim difMaxMin\n",
              "1    Concepcion 2017 24       360019          9.00        7.2     \n",
              "2    Concepcion 2017 25       360019         10.70        6.2     \n",
              "3    Concepcion 2017 26       360019         13.00        4.6     \n",
              "4    Concepcion 2017 27       360019         10.50        6.4     \n",
              "5    Concepcion 2017 28       360019          8.60        7.8     \n",
              "6    Concepcion 2017 29       360019          7.40       11.4     \n",
              "7    Concepcion 2017 30       360019          8.20        9.5     \n",
              "8    Concepcion 2017 31       360019          7.40       11.7     \n",
              "9    Concepcion 2017 32       360019         10.40        4.8     \n",
              "10   Concepcion 2017 33       360019         10.10        6.8     \n",
              "11   Concepcion 2017 34       360019          9.00        7.9     \n",
              "12   Concepcion 2017 35       360019          8.10        9.3     \n",
              "13   Concepcion 2017 36       360019          8.70        8.9     \n",
              "14   Concepcion 2017 37       360019          9.90       11.1     \n",
              "15   Concepcion 2017 38       360019         10.80        9.2     \n",
              "16   Concepcion 2017 39       360019         11.50        9.5     \n",
              "17   Concepcion 2017 40       360019         12.10        5.4     \n",
              "18   Concepcion 2017 41       360019         11.90       11.0     \n",
              "19   Concepcion 2017 42       360019         12.00        7.5     \n",
              "20   Concepcion 2017 43       360019         12.70       10.1     \n",
              "21   Concepcion 2017 44       360019         11.70        8.7     \n",
              "22   Concepcion 2017 45       360019         14.80        9.0     \n",
              "23   Concepcion 2017 46       360019         14.10       11.9     \n",
              "24   Concepcion 2017 47       360019         14.40       13.9     \n",
              "25   Concepcion 2017 48       360019         14.60       11.8     \n",
              "26   Concepcion 2017 49       360019         14.70       11.0     \n",
              "27   Concepcion 2017 50       360019         16.20        7.8     \n",
              "28   Concepcion 2017 51       360019         15.60       14.2     \n",
              "29   Concepcion 2017 52       360019         17.70        9.4     \n",
              "30   Concepcion 2018  1       360019         16.15       11.7     \n",
              "⋮    ⋮          ⋮    ⋮        ⋮              ⋮           ⋮        \n",
              "1341 Santiago   2023  3       330020         20.7        17.1     \n",
              "1342 Santiago   2023 30       330020         10.0        15.7     \n",
              "1343 Santiago   2023 31       330020         13.2        18.7     \n",
              "1344 Santiago   2023 32       330020         11.7        12.5     \n",
              "1345 Santiago   2023 33       330020         12.2         6.6     \n",
              "1346 Santiago   2023 34       330020          9.8         9.3     \n",
              "1347 Santiago   2023 35       330020         12.3        12.2     \n",
              "1348 Santiago   2023 36       330020         11.9         6.9     \n",
              "1349 Santiago   2023 37       330020         12.1        11.5     \n",
              "1350 Santiago   2023 38       330020         12.7         8.3     \n",
              "1351 Santiago   2023 39       330020         12.3        15.5     \n",
              "1352 Santiago   2023  4       330020         22.3        18.8     \n",
              "1353 Santiago   2023 40       330020         11.6        11.5     \n",
              "1354 Santiago   2023 41       330020         15.3        19.4     \n",
              "1355 Santiago   2023 42       330020         15.5        17.8     \n",
              "1356 Santiago   2023 43       330020         14.9        11.3     \n",
              "1357 Santiago   2023 44       330020         13.1        14.2     \n",
              "1358 Santiago   2023 45       330020         16.0        15.7     \n",
              "1359 Santiago   2023 46       330020         14.2        15.0     \n",
              "1360 Santiago   2023 47       330020         18.3        18.3     \n",
              "1361 Santiago   2023 48       330020         16.7        15.1     \n",
              "1362 Santiago   2023 49       330020         19.8        20.4     \n",
              "1363 Santiago   2023  5       330020         23.1        18.4     \n",
              "1364 Santiago   2023 50       330020         21.0        19.2     \n",
              "1365 Santiago   2023 51       330020         19.4        19.4     \n",
              "1366 Santiago   2023 52       330020         20.2        14.3     \n",
              "1367 Santiago   2023  6       330020         23.8        17.5     \n",
              "1368 Santiago   2023  7       330020         22.3        18.8     \n",
              "1369 Santiago   2023  8       330020         22.2        19.6     \n",
              "1370 Santiago   2023  9       330020         22.9        20.2     \n",
              "     Mediana_HR_Valor Total_Valor_sem.x Total_Valor_sem.y\n",
              "1    86.0             39.4              192              \n",
              "2    85.0             75.6              156              \n",
              "3    91.0             11.4              124              \n",
              "4    92.0             37.6              151              \n",
              "5    79.0             46.6              152              \n",
              "6    87.5              4.8              212              \n",
              "7    91.5              1.0              238              \n",
              "8    80.0             21.0              193              \n",
              "9    92.0             96.4              112              \n",
              "10   89.0             41.8              122              \n",
              "11   88.5             77.8              103              \n",
              "12   88.0             49.2              157              \n",
              "13   78.0              5.2              133              \n",
              "14   74.5              4.8              136              \n",
              "15   88.0              3.6               99              \n",
              "16   83.0             49.6               79              \n",
              "17   85.0             38.6               53              \n",
              "18   77.0              1.6               74              \n",
              "19   84.0              5.8               59              \n",
              "20   80.0              8.0               48              \n",
              "21   84.5             48.8               47              \n",
              "22   88.0              1.4               61              \n",
              "23   73.0              0.8               35              \n",
              "24   64.0              0.0               73              \n",
              "25   77.0              0.0               83              \n",
              "26   81.0              0.0               71              \n",
              "27   84.0              3.0               49              \n",
              "28   62.5              0.0               52              \n",
              "29   77.5              4.6               34              \n",
              "30   73.5             13.4               36              \n",
              "⋮    ⋮                ⋮                 ⋮                \n",
              "1341 53.65             0.0              109              \n",
              "1342 89.35             0.0              283              \n",
              "1343 81.30             0.0              273              \n",
              "1344 81.80             7.7              213              \n",
              "1345 82.60            28.6              145              \n",
              "1346 88.50            53.5               97              \n",
              "1347 67.00             0.0              158              \n",
              "1348 87.20            42.2              138              \n",
              "1349 74.00            34.6              122              \n",
              "1350 78.25             0.0              161              \n",
              "1351 70.20             0.0              123              \n",
              "1352 43.40             0.0               89              \n",
              "1353 77.05             1.9               93              \n",
              "1354 61.50             0.0              117              \n",
              "1355 61.00             0.1              121              \n",
              "1356 74.50             2.5              103              \n",
              "1357 68.90             3.0               64              \n",
              "1358 71.00            25.4               57              \n",
              "1359 63.90             0.0               65              \n",
              "1360 49.50             0.0               73              \n",
              "1361 67.30             0.0               63              \n",
              "1362 47.00             0.0              127              \n",
              "1363 41.50             0.0              111              \n",
              "1364 47.70             0.0               47              \n",
              "1365 47.65             0.0              124              \n",
              "1366 60.00             0.0               88              \n",
              "1367 49.20             0.0              370              \n",
              "1368 40.50             0.0              110              \n",
              "1369 45.50             0.0              135              \n",
              "1370 43.20             0.0              104              "
            ]
          },
          "metadata": {}
        }
      ]
    },
    {
      "cell_type": "code",
      "source": [
        "df_variable %>% select(-CodigoNacional)"
      ],
      "metadata": {
        "id": "ATDPzUugPDXL",
        "outputId": "1247e0c1-91c4-43f7-cc1e-754ad92d8c53",
        "colab": {
          "base_uri": "https://localhost:8080/",
          "height": 1000
        }
      },
      "execution_count": 68,
      "outputs": [
        {
          "output_type": "display_data",
          "data": {
            "text/html": [
              "<table class=\"dataframe\">\n",
              "<caption>A data.frame: 1370 × 8</caption>\n",
              "<thead>\n",
              "\t<tr><th scope=col>COMUNA</th><th scope=col>Anio</th><th scope=col>NuSemana</th><th scope=col>medianaClim</th><th scope=col>difMaxMin</th><th scope=col>Mediana_HR_Valor</th><th scope=col>Total_Valor_sem.x</th><th scope=col>Total_Valor_sem.y</th></tr>\n",
              "\t<tr><th scope=col>&lt;chr&gt;</th><th scope=col>&lt;dbl&gt;</th><th scope=col>&lt;dbl&gt;</th><th scope=col>&lt;dbl&gt;</th><th scope=col>&lt;dbl&gt;</th><th scope=col>&lt;dbl&gt;</th><th scope=col>&lt;dbl&gt;</th><th scope=col>&lt;dbl&gt;</th></tr>\n",
              "</thead>\n",
              "<tbody>\n",
              "\t<tr><td>Concepcion</td><td>2017</td><td>24</td><td> 9.00</td><td> 7.2</td><td>86.0</td><td>39.4</td><td>192</td></tr>\n",
              "\t<tr><td>Concepcion</td><td>2017</td><td>25</td><td>10.70</td><td> 6.2</td><td>85.0</td><td>75.6</td><td>156</td></tr>\n",
              "\t<tr><td>Concepcion</td><td>2017</td><td>26</td><td>13.00</td><td> 4.6</td><td>91.0</td><td>11.4</td><td>124</td></tr>\n",
              "\t<tr><td>Concepcion</td><td>2017</td><td>27</td><td>10.50</td><td> 6.4</td><td>92.0</td><td>37.6</td><td>151</td></tr>\n",
              "\t<tr><td>Concepcion</td><td>2017</td><td>28</td><td> 8.60</td><td> 7.8</td><td>79.0</td><td>46.6</td><td>152</td></tr>\n",
              "\t<tr><td>Concepcion</td><td>2017</td><td>29</td><td> 7.40</td><td>11.4</td><td>87.5</td><td> 4.8</td><td>212</td></tr>\n",
              "\t<tr><td>Concepcion</td><td>2017</td><td>30</td><td> 8.20</td><td> 9.5</td><td>91.5</td><td> 1.0</td><td>238</td></tr>\n",
              "\t<tr><td>Concepcion</td><td>2017</td><td>31</td><td> 7.40</td><td>11.7</td><td>80.0</td><td>21.0</td><td>193</td></tr>\n",
              "\t<tr><td>Concepcion</td><td>2017</td><td>32</td><td>10.40</td><td> 4.8</td><td>92.0</td><td>96.4</td><td>112</td></tr>\n",
              "\t<tr><td>Concepcion</td><td>2017</td><td>33</td><td>10.10</td><td> 6.8</td><td>89.0</td><td>41.8</td><td>122</td></tr>\n",
              "\t<tr><td>Concepcion</td><td>2017</td><td>34</td><td> 9.00</td><td> 7.9</td><td>88.5</td><td>77.8</td><td>103</td></tr>\n",
              "\t<tr><td>Concepcion</td><td>2017</td><td>35</td><td> 8.10</td><td> 9.3</td><td>88.0</td><td>49.2</td><td>157</td></tr>\n",
              "\t<tr><td>Concepcion</td><td>2017</td><td>36</td><td> 8.70</td><td> 8.9</td><td>78.0</td><td> 5.2</td><td>133</td></tr>\n",
              "\t<tr><td>Concepcion</td><td>2017</td><td>37</td><td> 9.90</td><td>11.1</td><td>74.5</td><td> 4.8</td><td>136</td></tr>\n",
              "\t<tr><td>Concepcion</td><td>2017</td><td>38</td><td>10.80</td><td> 9.2</td><td>88.0</td><td> 3.6</td><td> 99</td></tr>\n",
              "\t<tr><td>Concepcion</td><td>2017</td><td>39</td><td>11.50</td><td> 9.5</td><td>83.0</td><td>49.6</td><td> 79</td></tr>\n",
              "\t<tr><td>Concepcion</td><td>2017</td><td>40</td><td>12.10</td><td> 5.4</td><td>85.0</td><td>38.6</td><td> 53</td></tr>\n",
              "\t<tr><td>Concepcion</td><td>2017</td><td>41</td><td>11.90</td><td>11.0</td><td>77.0</td><td> 1.6</td><td> 74</td></tr>\n",
              "\t<tr><td>Concepcion</td><td>2017</td><td>42</td><td>12.00</td><td> 7.5</td><td>84.0</td><td> 5.8</td><td> 59</td></tr>\n",
              "\t<tr><td>Concepcion</td><td>2017</td><td>43</td><td>12.70</td><td>10.1</td><td>80.0</td><td> 8.0</td><td> 48</td></tr>\n",
              "\t<tr><td>Concepcion</td><td>2017</td><td>44</td><td>11.70</td><td> 8.7</td><td>84.5</td><td>48.8</td><td> 47</td></tr>\n",
              "\t<tr><td>Concepcion</td><td>2017</td><td>45</td><td>14.80</td><td> 9.0</td><td>88.0</td><td> 1.4</td><td> 61</td></tr>\n",
              "\t<tr><td>Concepcion</td><td>2017</td><td>46</td><td>14.10</td><td>11.9</td><td>73.0</td><td> 0.8</td><td> 35</td></tr>\n",
              "\t<tr><td>Concepcion</td><td>2017</td><td>47</td><td>14.40</td><td>13.9</td><td>64.0</td><td> 0.0</td><td> 73</td></tr>\n",
              "\t<tr><td>Concepcion</td><td>2017</td><td>48</td><td>14.60</td><td>11.8</td><td>77.0</td><td> 0.0</td><td> 83</td></tr>\n",
              "\t<tr><td>Concepcion</td><td>2017</td><td>49</td><td>14.70</td><td>11.0</td><td>81.0</td><td> 0.0</td><td> 71</td></tr>\n",
              "\t<tr><td>Concepcion</td><td>2017</td><td>50</td><td>16.20</td><td> 7.8</td><td>84.0</td><td> 3.0</td><td> 49</td></tr>\n",
              "\t<tr><td>Concepcion</td><td>2017</td><td>51</td><td>15.60</td><td>14.2</td><td>62.5</td><td> 0.0</td><td> 52</td></tr>\n",
              "\t<tr><td>Concepcion</td><td>2017</td><td>52</td><td>17.70</td><td> 9.4</td><td>77.5</td><td> 4.6</td><td> 34</td></tr>\n",
              "\t<tr><td>Concepcion</td><td>2018</td><td> 1</td><td>16.15</td><td>11.7</td><td>73.5</td><td>13.4</td><td> 36</td></tr>\n",
              "\t<tr><td>⋮</td><td>⋮</td><td>⋮</td><td>⋮</td><td>⋮</td><td>⋮</td><td>⋮</td><td>⋮</td></tr>\n",
              "\t<tr><td>Santiago</td><td>2023</td><td> 3</td><td>20.7</td><td>17.1</td><td>53.65</td><td> 0.0</td><td>109</td></tr>\n",
              "\t<tr><td>Santiago</td><td>2023</td><td>30</td><td>10.0</td><td>15.7</td><td>89.35</td><td> 0.0</td><td>283</td></tr>\n",
              "\t<tr><td>Santiago</td><td>2023</td><td>31</td><td>13.2</td><td>18.7</td><td>81.30</td><td> 0.0</td><td>273</td></tr>\n",
              "\t<tr><td>Santiago</td><td>2023</td><td>32</td><td>11.7</td><td>12.5</td><td>81.80</td><td> 7.7</td><td>213</td></tr>\n",
              "\t<tr><td>Santiago</td><td>2023</td><td>33</td><td>12.2</td><td> 6.6</td><td>82.60</td><td>28.6</td><td>145</td></tr>\n",
              "\t<tr><td>Santiago</td><td>2023</td><td>34</td><td> 9.8</td><td> 9.3</td><td>88.50</td><td>53.5</td><td> 97</td></tr>\n",
              "\t<tr><td>Santiago</td><td>2023</td><td>35</td><td>12.3</td><td>12.2</td><td>67.00</td><td> 0.0</td><td>158</td></tr>\n",
              "\t<tr><td>Santiago</td><td>2023</td><td>36</td><td>11.9</td><td> 6.9</td><td>87.20</td><td>42.2</td><td>138</td></tr>\n",
              "\t<tr><td>Santiago</td><td>2023</td><td>37</td><td>12.1</td><td>11.5</td><td>74.00</td><td>34.6</td><td>122</td></tr>\n",
              "\t<tr><td>Santiago</td><td>2023</td><td>38</td><td>12.7</td><td> 8.3</td><td>78.25</td><td> 0.0</td><td>161</td></tr>\n",
              "\t<tr><td>Santiago</td><td>2023</td><td>39</td><td>12.3</td><td>15.5</td><td>70.20</td><td> 0.0</td><td>123</td></tr>\n",
              "\t<tr><td>Santiago</td><td>2023</td><td> 4</td><td>22.3</td><td>18.8</td><td>43.40</td><td> 0.0</td><td> 89</td></tr>\n",
              "\t<tr><td>Santiago</td><td>2023</td><td>40</td><td>11.6</td><td>11.5</td><td>77.05</td><td> 1.9</td><td> 93</td></tr>\n",
              "\t<tr><td>Santiago</td><td>2023</td><td>41</td><td>15.3</td><td>19.4</td><td>61.50</td><td> 0.0</td><td>117</td></tr>\n",
              "\t<tr><td>Santiago</td><td>2023</td><td>42</td><td>15.5</td><td>17.8</td><td>61.00</td><td> 0.1</td><td>121</td></tr>\n",
              "\t<tr><td>Santiago</td><td>2023</td><td>43</td><td>14.9</td><td>11.3</td><td>74.50</td><td> 2.5</td><td>103</td></tr>\n",
              "\t<tr><td>Santiago</td><td>2023</td><td>44</td><td>13.1</td><td>14.2</td><td>68.90</td><td> 3.0</td><td> 64</td></tr>\n",
              "\t<tr><td>Santiago</td><td>2023</td><td>45</td><td>16.0</td><td>15.7</td><td>71.00</td><td>25.4</td><td> 57</td></tr>\n",
              "\t<tr><td>Santiago</td><td>2023</td><td>46</td><td>14.2</td><td>15.0</td><td>63.90</td><td> 0.0</td><td> 65</td></tr>\n",
              "\t<tr><td>Santiago</td><td>2023</td><td>47</td><td>18.3</td><td>18.3</td><td>49.50</td><td> 0.0</td><td> 73</td></tr>\n",
              "\t<tr><td>Santiago</td><td>2023</td><td>48</td><td>16.7</td><td>15.1</td><td>67.30</td><td> 0.0</td><td> 63</td></tr>\n",
              "\t<tr><td>Santiago</td><td>2023</td><td>49</td><td>19.8</td><td>20.4</td><td>47.00</td><td> 0.0</td><td>127</td></tr>\n",
              "\t<tr><td>Santiago</td><td>2023</td><td> 5</td><td>23.1</td><td>18.4</td><td>41.50</td><td> 0.0</td><td>111</td></tr>\n",
              "\t<tr><td>Santiago</td><td>2023</td><td>50</td><td>21.0</td><td>19.2</td><td>47.70</td><td> 0.0</td><td> 47</td></tr>\n",
              "\t<tr><td>Santiago</td><td>2023</td><td>51</td><td>19.4</td><td>19.4</td><td>47.65</td><td> 0.0</td><td>124</td></tr>\n",
              "\t<tr><td>Santiago</td><td>2023</td><td>52</td><td>20.2</td><td>14.3</td><td>60.00</td><td> 0.0</td><td> 88</td></tr>\n",
              "\t<tr><td>Santiago</td><td>2023</td><td> 6</td><td>23.8</td><td>17.5</td><td>49.20</td><td> 0.0</td><td>370</td></tr>\n",
              "\t<tr><td>Santiago</td><td>2023</td><td> 7</td><td>22.3</td><td>18.8</td><td>40.50</td><td> 0.0</td><td>110</td></tr>\n",
              "\t<tr><td>Santiago</td><td>2023</td><td> 8</td><td>22.2</td><td>19.6</td><td>45.50</td><td> 0.0</td><td>135</td></tr>\n",
              "\t<tr><td>Santiago</td><td>2023</td><td> 9</td><td>22.9</td><td>20.2</td><td>43.20</td><td> 0.0</td><td>104</td></tr>\n",
              "</tbody>\n",
              "</table>\n"
            ],
            "text/markdown": "\nA data.frame: 1370 × 8\n\n| COMUNA &lt;chr&gt; | Anio &lt;dbl&gt; | NuSemana &lt;dbl&gt; | medianaClim &lt;dbl&gt; | difMaxMin &lt;dbl&gt; | Mediana_HR_Valor &lt;dbl&gt; | Total_Valor_sem.x &lt;dbl&gt; | Total_Valor_sem.y &lt;dbl&gt; |\n|---|---|---|---|---|---|---|---|\n| Concepcion | 2017 | 24 |  9.00 |  7.2 | 86.0 | 39.4 | 192 |\n| Concepcion | 2017 | 25 | 10.70 |  6.2 | 85.0 | 75.6 | 156 |\n| Concepcion | 2017 | 26 | 13.00 |  4.6 | 91.0 | 11.4 | 124 |\n| Concepcion | 2017 | 27 | 10.50 |  6.4 | 92.0 | 37.6 | 151 |\n| Concepcion | 2017 | 28 |  8.60 |  7.8 | 79.0 | 46.6 | 152 |\n| Concepcion | 2017 | 29 |  7.40 | 11.4 | 87.5 |  4.8 | 212 |\n| Concepcion | 2017 | 30 |  8.20 |  9.5 | 91.5 |  1.0 | 238 |\n| Concepcion | 2017 | 31 |  7.40 | 11.7 | 80.0 | 21.0 | 193 |\n| Concepcion | 2017 | 32 | 10.40 |  4.8 | 92.0 | 96.4 | 112 |\n| Concepcion | 2017 | 33 | 10.10 |  6.8 | 89.0 | 41.8 | 122 |\n| Concepcion | 2017 | 34 |  9.00 |  7.9 | 88.5 | 77.8 | 103 |\n| Concepcion | 2017 | 35 |  8.10 |  9.3 | 88.0 | 49.2 | 157 |\n| Concepcion | 2017 | 36 |  8.70 |  8.9 | 78.0 |  5.2 | 133 |\n| Concepcion | 2017 | 37 |  9.90 | 11.1 | 74.5 |  4.8 | 136 |\n| Concepcion | 2017 | 38 | 10.80 |  9.2 | 88.0 |  3.6 |  99 |\n| Concepcion | 2017 | 39 | 11.50 |  9.5 | 83.0 | 49.6 |  79 |\n| Concepcion | 2017 | 40 | 12.10 |  5.4 | 85.0 | 38.6 |  53 |\n| Concepcion | 2017 | 41 | 11.90 | 11.0 | 77.0 |  1.6 |  74 |\n| Concepcion | 2017 | 42 | 12.00 |  7.5 | 84.0 |  5.8 |  59 |\n| Concepcion | 2017 | 43 | 12.70 | 10.1 | 80.0 |  8.0 |  48 |\n| Concepcion | 2017 | 44 | 11.70 |  8.7 | 84.5 | 48.8 |  47 |\n| Concepcion | 2017 | 45 | 14.80 |  9.0 | 88.0 |  1.4 |  61 |\n| Concepcion | 2017 | 46 | 14.10 | 11.9 | 73.0 |  0.8 |  35 |\n| Concepcion | 2017 | 47 | 14.40 | 13.9 | 64.0 |  0.0 |  73 |\n| Concepcion | 2017 | 48 | 14.60 | 11.8 | 77.0 |  0.0 |  83 |\n| Concepcion | 2017 | 49 | 14.70 | 11.0 | 81.0 |  0.0 |  71 |\n| Concepcion | 2017 | 50 | 16.20 |  7.8 | 84.0 |  3.0 |  49 |\n| Concepcion | 2017 | 51 | 15.60 | 14.2 | 62.5 |  0.0 |  52 |\n| Concepcion | 2017 | 52 | 17.70 |  9.4 | 77.5 |  4.6 |  34 |\n| Concepcion | 2018 |  1 | 16.15 | 11.7 | 73.5 | 13.4 |  36 |\n| ⋮ | ⋮ | ⋮ | ⋮ | ⋮ | ⋮ | ⋮ | ⋮ |\n| Santiago | 2023 |  3 | 20.7 | 17.1 | 53.65 |  0.0 | 109 |\n| Santiago | 2023 | 30 | 10.0 | 15.7 | 89.35 |  0.0 | 283 |\n| Santiago | 2023 | 31 | 13.2 | 18.7 | 81.30 |  0.0 | 273 |\n| Santiago | 2023 | 32 | 11.7 | 12.5 | 81.80 |  7.7 | 213 |\n| Santiago | 2023 | 33 | 12.2 |  6.6 | 82.60 | 28.6 | 145 |\n| Santiago | 2023 | 34 |  9.8 |  9.3 | 88.50 | 53.5 |  97 |\n| Santiago | 2023 | 35 | 12.3 | 12.2 | 67.00 |  0.0 | 158 |\n| Santiago | 2023 | 36 | 11.9 |  6.9 | 87.20 | 42.2 | 138 |\n| Santiago | 2023 | 37 | 12.1 | 11.5 | 74.00 | 34.6 | 122 |\n| Santiago | 2023 | 38 | 12.7 |  8.3 | 78.25 |  0.0 | 161 |\n| Santiago | 2023 | 39 | 12.3 | 15.5 | 70.20 |  0.0 | 123 |\n| Santiago | 2023 |  4 | 22.3 | 18.8 | 43.40 |  0.0 |  89 |\n| Santiago | 2023 | 40 | 11.6 | 11.5 | 77.05 |  1.9 |  93 |\n| Santiago | 2023 | 41 | 15.3 | 19.4 | 61.50 |  0.0 | 117 |\n| Santiago | 2023 | 42 | 15.5 | 17.8 | 61.00 |  0.1 | 121 |\n| Santiago | 2023 | 43 | 14.9 | 11.3 | 74.50 |  2.5 | 103 |\n| Santiago | 2023 | 44 | 13.1 | 14.2 | 68.90 |  3.0 |  64 |\n| Santiago | 2023 | 45 | 16.0 | 15.7 | 71.00 | 25.4 |  57 |\n| Santiago | 2023 | 46 | 14.2 | 15.0 | 63.90 |  0.0 |  65 |\n| Santiago | 2023 | 47 | 18.3 | 18.3 | 49.50 |  0.0 |  73 |\n| Santiago | 2023 | 48 | 16.7 | 15.1 | 67.30 |  0.0 |  63 |\n| Santiago | 2023 | 49 | 19.8 | 20.4 | 47.00 |  0.0 | 127 |\n| Santiago | 2023 |  5 | 23.1 | 18.4 | 41.50 |  0.0 | 111 |\n| Santiago | 2023 | 50 | 21.0 | 19.2 | 47.70 |  0.0 |  47 |\n| Santiago | 2023 | 51 | 19.4 | 19.4 | 47.65 |  0.0 | 124 |\n| Santiago | 2023 | 52 | 20.2 | 14.3 | 60.00 |  0.0 |  88 |\n| Santiago | 2023 |  6 | 23.8 | 17.5 | 49.20 |  0.0 | 370 |\n| Santiago | 2023 |  7 | 22.3 | 18.8 | 40.50 |  0.0 | 110 |\n| Santiago | 2023 |  8 | 22.2 | 19.6 | 45.50 |  0.0 | 135 |\n| Santiago | 2023 |  9 | 22.9 | 20.2 | 43.20 |  0.0 | 104 |\n\n",
            "text/latex": "A data.frame: 1370 × 8\n\\begin{tabular}{llllllll}\n COMUNA & Anio & NuSemana & medianaClim & difMaxMin & Mediana\\_HR\\_Valor & Total\\_Valor\\_sem.x & Total\\_Valor\\_sem.y\\\\\n <chr> & <dbl> & <dbl> & <dbl> & <dbl> & <dbl> & <dbl> & <dbl>\\\\\n\\hline\n\t Concepcion & 2017 & 24 &  9.00 &  7.2 & 86.0 & 39.4 & 192\\\\\n\t Concepcion & 2017 & 25 & 10.70 &  6.2 & 85.0 & 75.6 & 156\\\\\n\t Concepcion & 2017 & 26 & 13.00 &  4.6 & 91.0 & 11.4 & 124\\\\\n\t Concepcion & 2017 & 27 & 10.50 &  6.4 & 92.0 & 37.6 & 151\\\\\n\t Concepcion & 2017 & 28 &  8.60 &  7.8 & 79.0 & 46.6 & 152\\\\\n\t Concepcion & 2017 & 29 &  7.40 & 11.4 & 87.5 &  4.8 & 212\\\\\n\t Concepcion & 2017 & 30 &  8.20 &  9.5 & 91.5 &  1.0 & 238\\\\\n\t Concepcion & 2017 & 31 &  7.40 & 11.7 & 80.0 & 21.0 & 193\\\\\n\t Concepcion & 2017 & 32 & 10.40 &  4.8 & 92.0 & 96.4 & 112\\\\\n\t Concepcion & 2017 & 33 & 10.10 &  6.8 & 89.0 & 41.8 & 122\\\\\n\t Concepcion & 2017 & 34 &  9.00 &  7.9 & 88.5 & 77.8 & 103\\\\\n\t Concepcion & 2017 & 35 &  8.10 &  9.3 & 88.0 & 49.2 & 157\\\\\n\t Concepcion & 2017 & 36 &  8.70 &  8.9 & 78.0 &  5.2 & 133\\\\\n\t Concepcion & 2017 & 37 &  9.90 & 11.1 & 74.5 &  4.8 & 136\\\\\n\t Concepcion & 2017 & 38 & 10.80 &  9.2 & 88.0 &  3.6 &  99\\\\\n\t Concepcion & 2017 & 39 & 11.50 &  9.5 & 83.0 & 49.6 &  79\\\\\n\t Concepcion & 2017 & 40 & 12.10 &  5.4 & 85.0 & 38.6 &  53\\\\\n\t Concepcion & 2017 & 41 & 11.90 & 11.0 & 77.0 &  1.6 &  74\\\\\n\t Concepcion & 2017 & 42 & 12.00 &  7.5 & 84.0 &  5.8 &  59\\\\\n\t Concepcion & 2017 & 43 & 12.70 & 10.1 & 80.0 &  8.0 &  48\\\\\n\t Concepcion & 2017 & 44 & 11.70 &  8.7 & 84.5 & 48.8 &  47\\\\\n\t Concepcion & 2017 & 45 & 14.80 &  9.0 & 88.0 &  1.4 &  61\\\\\n\t Concepcion & 2017 & 46 & 14.10 & 11.9 & 73.0 &  0.8 &  35\\\\\n\t Concepcion & 2017 & 47 & 14.40 & 13.9 & 64.0 &  0.0 &  73\\\\\n\t Concepcion & 2017 & 48 & 14.60 & 11.8 & 77.0 &  0.0 &  83\\\\\n\t Concepcion & 2017 & 49 & 14.70 & 11.0 & 81.0 &  0.0 &  71\\\\\n\t Concepcion & 2017 & 50 & 16.20 &  7.8 & 84.0 &  3.0 &  49\\\\\n\t Concepcion & 2017 & 51 & 15.60 & 14.2 & 62.5 &  0.0 &  52\\\\\n\t Concepcion & 2017 & 52 & 17.70 &  9.4 & 77.5 &  4.6 &  34\\\\\n\t Concepcion & 2018 &  1 & 16.15 & 11.7 & 73.5 & 13.4 &  36\\\\\n\t ⋮ & ⋮ & ⋮ & ⋮ & ⋮ & ⋮ & ⋮ & ⋮\\\\\n\t Santiago & 2023 &  3 & 20.7 & 17.1 & 53.65 &  0.0 & 109\\\\\n\t Santiago & 2023 & 30 & 10.0 & 15.7 & 89.35 &  0.0 & 283\\\\\n\t Santiago & 2023 & 31 & 13.2 & 18.7 & 81.30 &  0.0 & 273\\\\\n\t Santiago & 2023 & 32 & 11.7 & 12.5 & 81.80 &  7.7 & 213\\\\\n\t Santiago & 2023 & 33 & 12.2 &  6.6 & 82.60 & 28.6 & 145\\\\\n\t Santiago & 2023 & 34 &  9.8 &  9.3 & 88.50 & 53.5 &  97\\\\\n\t Santiago & 2023 & 35 & 12.3 & 12.2 & 67.00 &  0.0 & 158\\\\\n\t Santiago & 2023 & 36 & 11.9 &  6.9 & 87.20 & 42.2 & 138\\\\\n\t Santiago & 2023 & 37 & 12.1 & 11.5 & 74.00 & 34.6 & 122\\\\\n\t Santiago & 2023 & 38 & 12.7 &  8.3 & 78.25 &  0.0 & 161\\\\\n\t Santiago & 2023 & 39 & 12.3 & 15.5 & 70.20 &  0.0 & 123\\\\\n\t Santiago & 2023 &  4 & 22.3 & 18.8 & 43.40 &  0.0 &  89\\\\\n\t Santiago & 2023 & 40 & 11.6 & 11.5 & 77.05 &  1.9 &  93\\\\\n\t Santiago & 2023 & 41 & 15.3 & 19.4 & 61.50 &  0.0 & 117\\\\\n\t Santiago & 2023 & 42 & 15.5 & 17.8 & 61.00 &  0.1 & 121\\\\\n\t Santiago & 2023 & 43 & 14.9 & 11.3 & 74.50 &  2.5 & 103\\\\\n\t Santiago & 2023 & 44 & 13.1 & 14.2 & 68.90 &  3.0 &  64\\\\\n\t Santiago & 2023 & 45 & 16.0 & 15.7 & 71.00 & 25.4 &  57\\\\\n\t Santiago & 2023 & 46 & 14.2 & 15.0 & 63.90 &  0.0 &  65\\\\\n\t Santiago & 2023 & 47 & 18.3 & 18.3 & 49.50 &  0.0 &  73\\\\\n\t Santiago & 2023 & 48 & 16.7 & 15.1 & 67.30 &  0.0 &  63\\\\\n\t Santiago & 2023 & 49 & 19.8 & 20.4 & 47.00 &  0.0 & 127\\\\\n\t Santiago & 2023 &  5 & 23.1 & 18.4 & 41.50 &  0.0 & 111\\\\\n\t Santiago & 2023 & 50 & 21.0 & 19.2 & 47.70 &  0.0 &  47\\\\\n\t Santiago & 2023 & 51 & 19.4 & 19.4 & 47.65 &  0.0 & 124\\\\\n\t Santiago & 2023 & 52 & 20.2 & 14.3 & 60.00 &  0.0 &  88\\\\\n\t Santiago & 2023 &  6 & 23.8 & 17.5 & 49.20 &  0.0 & 370\\\\\n\t Santiago & 2023 &  7 & 22.3 & 18.8 & 40.50 &  0.0 & 110\\\\\n\t Santiago & 2023 &  8 & 22.2 & 19.6 & 45.50 &  0.0 & 135\\\\\n\t Santiago & 2023 &  9 & 22.9 & 20.2 & 43.20 &  0.0 & 104\\\\\n\\end{tabular}\n",
            "text/plain": [
              "     COMUNA     Anio NuSemana medianaClim difMaxMin Mediana_HR_Valor\n",
              "1    Concepcion 2017 24        9.00        7.2      86.0            \n",
              "2    Concepcion 2017 25       10.70        6.2      85.0            \n",
              "3    Concepcion 2017 26       13.00        4.6      91.0            \n",
              "4    Concepcion 2017 27       10.50        6.4      92.0            \n",
              "5    Concepcion 2017 28        8.60        7.8      79.0            \n",
              "6    Concepcion 2017 29        7.40       11.4      87.5            \n",
              "7    Concepcion 2017 30        8.20        9.5      91.5            \n",
              "8    Concepcion 2017 31        7.40       11.7      80.0            \n",
              "9    Concepcion 2017 32       10.40        4.8      92.0            \n",
              "10   Concepcion 2017 33       10.10        6.8      89.0            \n",
              "11   Concepcion 2017 34        9.00        7.9      88.5            \n",
              "12   Concepcion 2017 35        8.10        9.3      88.0            \n",
              "13   Concepcion 2017 36        8.70        8.9      78.0            \n",
              "14   Concepcion 2017 37        9.90       11.1      74.5            \n",
              "15   Concepcion 2017 38       10.80        9.2      88.0            \n",
              "16   Concepcion 2017 39       11.50        9.5      83.0            \n",
              "17   Concepcion 2017 40       12.10        5.4      85.0            \n",
              "18   Concepcion 2017 41       11.90       11.0      77.0            \n",
              "19   Concepcion 2017 42       12.00        7.5      84.0            \n",
              "20   Concepcion 2017 43       12.70       10.1      80.0            \n",
              "21   Concepcion 2017 44       11.70        8.7      84.5            \n",
              "22   Concepcion 2017 45       14.80        9.0      88.0            \n",
              "23   Concepcion 2017 46       14.10       11.9      73.0            \n",
              "24   Concepcion 2017 47       14.40       13.9      64.0            \n",
              "25   Concepcion 2017 48       14.60       11.8      77.0            \n",
              "26   Concepcion 2017 49       14.70       11.0      81.0            \n",
              "27   Concepcion 2017 50       16.20        7.8      84.0            \n",
              "28   Concepcion 2017 51       15.60       14.2      62.5            \n",
              "29   Concepcion 2017 52       17.70        9.4      77.5            \n",
              "30   Concepcion 2018  1       16.15       11.7      73.5            \n",
              "⋮    ⋮          ⋮    ⋮        ⋮           ⋮         ⋮               \n",
              "1341 Santiago   2023  3       20.7        17.1      53.65           \n",
              "1342 Santiago   2023 30       10.0        15.7      89.35           \n",
              "1343 Santiago   2023 31       13.2        18.7      81.30           \n",
              "1344 Santiago   2023 32       11.7        12.5      81.80           \n",
              "1345 Santiago   2023 33       12.2         6.6      82.60           \n",
              "1346 Santiago   2023 34        9.8         9.3      88.50           \n",
              "1347 Santiago   2023 35       12.3        12.2      67.00           \n",
              "1348 Santiago   2023 36       11.9         6.9      87.20           \n",
              "1349 Santiago   2023 37       12.1        11.5      74.00           \n",
              "1350 Santiago   2023 38       12.7         8.3      78.25           \n",
              "1351 Santiago   2023 39       12.3        15.5      70.20           \n",
              "1352 Santiago   2023  4       22.3        18.8      43.40           \n",
              "1353 Santiago   2023 40       11.6        11.5      77.05           \n",
              "1354 Santiago   2023 41       15.3        19.4      61.50           \n",
              "1355 Santiago   2023 42       15.5        17.8      61.00           \n",
              "1356 Santiago   2023 43       14.9        11.3      74.50           \n",
              "1357 Santiago   2023 44       13.1        14.2      68.90           \n",
              "1358 Santiago   2023 45       16.0        15.7      71.00           \n",
              "1359 Santiago   2023 46       14.2        15.0      63.90           \n",
              "1360 Santiago   2023 47       18.3        18.3      49.50           \n",
              "1361 Santiago   2023 48       16.7        15.1      67.30           \n",
              "1362 Santiago   2023 49       19.8        20.4      47.00           \n",
              "1363 Santiago   2023  5       23.1        18.4      41.50           \n",
              "1364 Santiago   2023 50       21.0        19.2      47.70           \n",
              "1365 Santiago   2023 51       19.4        19.4      47.65           \n",
              "1366 Santiago   2023 52       20.2        14.3      60.00           \n",
              "1367 Santiago   2023  6       23.8        17.5      49.20           \n",
              "1368 Santiago   2023  7       22.3        18.8      40.50           \n",
              "1369 Santiago   2023  8       22.2        19.6      45.50           \n",
              "1370 Santiago   2023  9       22.9        20.2      43.20           \n",
              "     Total_Valor_sem.x Total_Valor_sem.y\n",
              "1    39.4              192              \n",
              "2    75.6              156              \n",
              "3    11.4              124              \n",
              "4    37.6              151              \n",
              "5    46.6              152              \n",
              "6     4.8              212              \n",
              "7     1.0              238              \n",
              "8    21.0              193              \n",
              "9    96.4              112              \n",
              "10   41.8              122              \n",
              "11   77.8              103              \n",
              "12   49.2              157              \n",
              "13    5.2              133              \n",
              "14    4.8              136              \n",
              "15    3.6               99              \n",
              "16   49.6               79              \n",
              "17   38.6               53              \n",
              "18    1.6               74              \n",
              "19    5.8               59              \n",
              "20    8.0               48              \n",
              "21   48.8               47              \n",
              "22    1.4               61              \n",
              "23    0.8               35              \n",
              "24    0.0               73              \n",
              "25    0.0               83              \n",
              "26    0.0               71              \n",
              "27    3.0               49              \n",
              "28    0.0               52              \n",
              "29    4.6               34              \n",
              "30   13.4               36              \n",
              "⋮    ⋮                 ⋮                \n",
              "1341  0.0              109              \n",
              "1342  0.0              283              \n",
              "1343  0.0              273              \n",
              "1344  7.7              213              \n",
              "1345 28.6              145              \n",
              "1346 53.5               97              \n",
              "1347  0.0              158              \n",
              "1348 42.2              138              \n",
              "1349 34.6              122              \n",
              "1350  0.0              161              \n",
              "1351  0.0              123              \n",
              "1352  0.0               89              \n",
              "1353  1.9               93              \n",
              "1354  0.0              117              \n",
              "1355  0.1              121              \n",
              "1356  2.5              103              \n",
              "1357  3.0               64              \n",
              "1358 25.4               57              \n",
              "1359  0.0               65              \n",
              "1360  0.0               73              \n",
              "1361  0.0               63              \n",
              "1362  0.0              127              \n",
              "1363  0.0              111              \n",
              "1364  0.0               47              \n",
              "1365  0.0              124              \n",
              "1366  0.0               88              \n",
              "1367  0.0              370              \n",
              "1368  0.0              110              \n",
              "1369  0.0              135              \n",
              "1370  0.0              104              "
            ]
          },
          "metadata": {}
        }
      ]
    },
    {
      "cell_type": "code",
      "source": [
        "#Aqui estan todas las causas consideradas. La #3 es un total.\n",
        "#df_urgr_esp_semanal %>% select(OrdenCausa, Causa)%>%distinct()%>%arrange(OrdenCausa)"
      ],
      "metadata": {
        "id": "oREv1_6pveC6"
      },
      "execution_count": 61,
      "outputs": []
    },
    {
      "cell_type": "code",
      "source": [
        "#Filtro el dataset par las regiones 8,4 y 13, tambien la causa 3 que es solo totalizador de urgencias reportadas\n",
        "#df_urgr_esp_semanal<- df_urgr_esp_semanal %>% filter (RegionCodigo %in% c(8,4,13) & OrdenCausa != 3)\n",
        "#count(df_urgr_esp_semanal)\n",
        "#head(df_urgr_esp_semanal,5)\n",
        "#df_urgr_esp_semanal %>% filter (ComunaGlosa == 'La Serena' & Anio == 2023 & SemanaEstadistica == 47) %>%arrange (Anio)\n",
        "#%>% select(ComunaCodigo, ComunaGlosa) %>% filter(ComunaGlosa == 'Santiago')"
      ],
      "metadata": {
        "id": "SPdSAwt-zfD7"
      },
      "execution_count": 62,
      "outputs": []
    },
    {
      "cell_type": "code",
      "source": [
        "#Obtengo el total de urgencias reportadas en todos los años por las 3 regiones.\n",
        "#df_urgr_esp_semanal%>% group_by(RegionGlosa) %>% summarise(Total = sum(NumTotal, na.rm = TRUE))"
      ],
      "metadata": {
        "id": "YBwWoeGzxkZt"
      },
      "execution_count": 63,
      "outputs": []
    },
    {
      "cell_type": "code",
      "source": [
        "# Grafico la cantidad de casos por región\n",
        "#df_plot1<-df_urgr_esp_semanal%>% group_by(RegionGlosa) %>% summarise(Total = sum(NumTotal, na.rm = TRUE))\n",
        "#options(repr.plot.width = 10, repr.plot.height = 10)\n",
        "#ggplot(df_plot1, aes(x=RegionGlosa, y= Total, fill= RegionGlosa)) + geom_bar(stat=\"identity\") +\n",
        "#scale_y_continuous(labels = scales::comma_format(accuracy = 1))+\n",
        "#theme(axis.text.x = element_text(angle = 75, vjust = .5))+\n",
        "#labs(x = \"Región\", y = \"Total Urgencias\", title = \"Total Urgencias x Región\")"
      ],
      "metadata": {
        "id": "9U0Uf1SXnlX9"
      },
      "execution_count": 64,
      "outputs": []
    },
    {
      "cell_type": "code",
      "source": [
        "# Obtengo cantidad de urgencias por año y region\n",
        "#df_resumen <- df_urgr_esp_semanal %>%\n",
        "#  group_by(Anio, RegionGlosa) %>%\n",
        "#  summarise(Total = sum(NumTotal, na.rm = TRUE))\n",
        "#  df_resumen"
      ],
      "metadata": {
        "id": "EmhGoM1e0ZOo"
      },
      "execution_count": 65,
      "outputs": []
    },
    {
      "cell_type": "code",
      "source": [
        "# Obtengo cantidad de urgencias por año, semana y region.\n",
        "#df_resumen <- df_urgr_esp_semanal %>%\n",
        "#  group_by(Anio, SemanaEstadistica, Causa) %>%\n",
        "#  summarise(Total = sum(NumTotal, na.rm = TRUE))\n",
        "#  df_resumen"
      ],
      "metadata": {
        "id": "M-wlfKZigc6v"
      },
      "execution_count": 66,
      "outputs": []
    },
    {
      "cell_type": "code",
      "source": [
        "#df_agrupado <- df_urgr_esp_semanal %>%\n",
        " # group_by(Anio) %>%\n",
        "  #summarise(Total = sum(NumTotal, na.rm = TRUE))\n",
        "#options(repr.plot.width = 15, repr.plot.height = 15)\n",
        "#ggplot(df_agrupado, aes(x = factor(Anio), y = Total)) +\n",
        " # geom_bar(stat = \"identity\", fill = \"steelblue\") +\n",
        " # labs(x = \"Año\", y = \"Total Urgencias\", title = \"Urgencias por Año\") +\n",
        " # theme_minimal()"
      ],
      "metadata": {
        "id": "BxOCdmv31mZe"
      },
      "execution_count": 67,
      "outputs": []
    }
  ]
}