{
  "nbformat": 4,
  "nbformat_minor": 0,
  "metadata": {
    "colab": {
      "provenance": [],
      "authorship_tag": "ABX9TyP9Tn6pclxHG32Ib3wOSmYj",
      "include_colab_link": true
    },
    "kernelspec": {
      "name": "ir",
      "display_name": "R"
    },
    "language_info": {
      "name": "R"
    }
  },
  "cells": [
    {
      "cell_type": "markdown",
      "metadata": {
        "id": "view-in-github",
        "colab_type": "text"
      },
      "source": [
        "<a href=\"https://colab.research.google.com/github/cazathoth/tfm/blob/main/tfm_jvasquez_v1.ipynb\" target=\"_parent\"><img src=\"https://colab.research.google.com/assets/colab-badge.svg\" alt=\"Open In Colab\"/></a>"
      ]
    },
    {
      "cell_type": "code",
      "execution_count": 1,
      "metadata": {
        "colab": {
          "base_uri": "https://localhost:8080/"
        },
        "collapsed": true,
        "id": "dYQtmnm-tU_g",
        "outputId": "779e2d38-5c6b-41f4-d552-d2c730e9619d"
      },
      "outputs": [
        {
          "output_type": "stream",
          "name": "stderr",
          "text": [
            "Installing package into ‘/usr/local/lib/R/site-library’\n",
            "(as ‘lib’ is unspecified)\n",
            "\n",
            "Installing package into ‘/usr/local/lib/R/site-library’\n",
            "(as ‘lib’ is unspecified)\n",
            "\n",
            "also installing the dependency ‘assertthat’\n",
            "\n",
            "\n",
            "Installing package into ‘/usr/local/lib/R/site-library’\n",
            "(as ‘lib’ is unspecified)\n",
            "\n"
          ]
        }
      ],
      "source": [
        "#descarga librerias.\n",
        "install.packages(\"tidyverse\")\n",
        "install.packages(\"arrow\")\n",
        "install.packages(\"lubridate\")\n",
        "#install.packages('devtools')\n",
        "#devtools::install_github('catboost/catboost', subdir = 'catboost/R-package')"
      ]
    },
    {
      "cell_type": "code",
      "source": [
        "#cargo librerias a utilizar.\n",
        "library(\"tidyverse\")\n",
        "library(\"arrow\")\n",
        "library(\"lubridate\")\n",
        "#library(\"catboost\")"
      ],
      "metadata": {
        "collapsed": true,
        "id": "nF9tJ2Z2tcfR",
        "outputId": "fa9185ff-12be-42d1-f7f5-3234db8eaf87",
        "colab": {
          "base_uri": "https://localhost:8080/"
        }
      },
      "execution_count": 2,
      "outputs": [
        {
          "output_type": "stream",
          "name": "stderr",
          "text": [
            "── \u001b[1mAttaching core tidyverse packages\u001b[22m ──────────────────────── tidyverse 2.0.0 ──\n",
            "\u001b[32m✔\u001b[39m \u001b[34mdplyr    \u001b[39m 1.1.4     \u001b[32m✔\u001b[39m \u001b[34mreadr    \u001b[39m 2.1.5\n",
            "\u001b[32m✔\u001b[39m \u001b[34mforcats  \u001b[39m 1.0.0     \u001b[32m✔\u001b[39m \u001b[34mstringr  \u001b[39m 1.5.1\n",
            "\u001b[32m✔\u001b[39m \u001b[34mggplot2  \u001b[39m 3.5.1     \u001b[32m✔\u001b[39m \u001b[34mtibble   \u001b[39m 3.2.1\n",
            "\u001b[32m✔\u001b[39m \u001b[34mlubridate\u001b[39m 1.9.3     \u001b[32m✔\u001b[39m \u001b[34mtidyr    \u001b[39m 1.3.1\n",
            "\u001b[32m✔\u001b[39m \u001b[34mpurrr    \u001b[39m 1.0.2     \n",
            "── \u001b[1mConflicts\u001b[22m ────────────────────────────────────────── tidyverse_conflicts() ──\n",
            "\u001b[31m✖\u001b[39m \u001b[34mdplyr\u001b[39m::\u001b[32mfilter()\u001b[39m masks \u001b[34mstats\u001b[39m::filter()\n",
            "\u001b[31m✖\u001b[39m \u001b[34mdplyr\u001b[39m::\u001b[32mlag()\u001b[39m    masks \u001b[34mstats\u001b[39m::lag()\n",
            "\u001b[36mℹ\u001b[39m Use the conflicted package (\u001b[3m\u001b[34m<http://conflicted.r-lib.org/>\u001b[39m\u001b[23m) to force all conflicts to become errors\n",
            "\n",
            "Attaching package: ‘arrow’\n",
            "\n",
            "\n",
            "The following object is masked from ‘package:lubridate’:\n",
            "\n",
            "    duration\n",
            "\n",
            "\n",
            "The following object is masked from ‘package:utils’:\n",
            "\n",
            "    timestamp\n",
            "\n",
            "\n"
          ]
        }
      ]
    },
    {
      "cell_type": "code",
      "source": [
        "#creo directorio y descargo dataset con datos de urgencias respiratorias\n",
        "dir.create(\"descargas\")\n",
        "url <- \"https://datos.gob.cl/dataset/606ef5bb-11d1-475b-b69f-b980da5757f4/resource/ae6c9887-106d-4e98-8875-40bf2b836041/download/at_urg_respiratorio_semanal.parquet\"\n",
        "nombre_temporal <- \"descargas/at_urg_respiratorio_semanal.parquet\"\n",
        "download.file(url, nombre_temporal)"
      ],
      "metadata": {
        "id": "dxpqJfpYxZsn",
        "colab": {
          "base_uri": "https://localhost:8080/"
        },
        "outputId": "5eb5fa1c-06f1-4fe5-8009-a24bbd73a992"
      },
      "execution_count": 130,
      "outputs": [
        {
          "output_type": "stream",
          "name": "stderr",
          "text": [
            "Warning message in dir.create(\"descargas\"):\n",
            "“'descargas' already exists”\n"
          ]
        }
      ]
    },
    {
      "cell_type": "code",
      "source": [
        "#Descargo datos meteorologicos- temperatura\n",
        "url <- \"https://raw.githubusercontent.com/cazathoth/data/9ed2ff302d64b81e79eab693e77d12f805ed65ba/MERGE_XXXX_DiarioTs_.csv\"\n",
        "nombre_temporal <- \"descargas/MERGE_XXXX_DiarioTs_.csv\"\n",
        "download.file(url, nombre_temporal)"
      ],
      "metadata": {
        "id": "B5FJdDWXO5fT"
      },
      "execution_count": 131,
      "outputs": []
    },
    {
      "cell_type": "code",
      "source": [
        "#Descargo datos meteorologicos- precipitaciones\n",
        "url <- \"https://raw.githubusercontent.com/cazathoth/data/43bad08be793c38c993d524d182dcb2597e14714/MERGE_DiarioRR.csv\"\n",
        "nombre_temporal <- \"descargas/MERGE_DiarioRR.csv\"\n",
        "download.file(url, nombre_temporal)"
      ],
      "metadata": {
        "id": "hbru5hT8xRMn"
      },
      "execution_count": 132,
      "outputs": []
    },
    {
      "cell_type": "code",
      "source": [
        "#Descargo zip datos meteorologicos- humedad\n",
        "url <- \"https://github.com/cazathoth/data/raw/69c13d02f49cd04ee16ab8063f872e2aa9b2632a/MERGE_Humedad.zip\"\n",
        "nombre_temporal <- \"descargas/MERGE_Humedad.zip\"\n",
        "download.file(url, nombre_temporal)\n",
        "#Descomprimo archivo zip\n",
        "unzip(\"/content/descargas/MERGE_Humedad.zip\", exdir = \"/content/descargas/\")"
      ],
      "metadata": {
        "id": "gvslMr7ohtBQ"
      },
      "execution_count": 133,
      "outputs": []
    },
    {
      "cell_type": "code",
      "source": [
        "#Descargo datos material particulado\n",
        "url <- \"https://raw.githubusercontent.com/cazathoth/data/43bad08be793c38c993d524d182dcb2597e14714/MERGE_MP.csv\"\n",
        "nombre_temporal <- \"descargas/MERGE_MP.csv\"\n",
        "download.file(url, nombre_temporal)"
      ],
      "metadata": {
        "id": "QjmvuWWo0aa6"
      },
      "execution_count": 134,
      "outputs": []
    },
    {
      "cell_type": "code",
      "source": [
        "# Creo data frame urgencias y filtro por comuna de Santiago, La Serena y Concepción, luego cargo los datos\n",
        "df_urgr_esp_semanal <- read_parquet(\"descargas/at_urg_respiratorio_semanal.parquet\", col_select = c ('EstablecimientoCodigo','ComunaCodigo', 'ComunaGlosa', 'Anio', 'SemanaEstadistica','OrdenCausa','Causa','NumTotal'))\n",
        "df_urgr_esp_semanal <- df_urgr_esp_semanal %>% filter (ComunaCodigo %in% c(4101, 8101, 13101) & OrdenCausa ==3)"
      ],
      "metadata": {
        "id": "Qb5IXYxZNZkc"
      },
      "execution_count": 190,
      "outputs": []
    },
    {
      "cell_type": "code",
      "source": [
        "#ano_base <- \"2014-01-01\"\n",
        "#df_datos_temperatura <- read_delim(\"descargas/MERGE_XXXX_DiarioTs_.csv\", delim=\";\",col_select = c('CodigoNacional','momento','MediaCli_Valor','Maxima_Valor','Minima_Valor'), col_types = cols(momento = col_date(format = \"%d-%m-%Y %H:%M:%S\")))\n",
        "#df_datos_temperatura <- df_datos_temperatura %>% filter (momento > ano_base)\n",
        "#head(df_datos_temperatura,15)"
      ],
      "metadata": {
        "id": "a5R_eoKW13Td"
      },
      "execution_count": 191,
      "outputs": []
    },
    {
      "cell_type": "code",
      "source": [
        "#Cargo data frame temperatura y le cargo datos\n",
        "#df_datos_temperatura <- read.csv(\"descargas/MERGE_XXXX_DiarioTs_.csv\", header= TRUE, sep=\";\")\n",
        "df_datos_temperatura <- read_delim(\"descargas/MERGE_XXXX_DiarioTs_.csv\", delim=\";\",col_select = c('CodigoNacional','momento','MediaCli_Valor','Maxima_Valor','Minima_Valor'))\n",
        "head(df_datos_temperatura,5)"
      ],
      "metadata": {
        "id": "kazvPllqQygW",
        "outputId": "6e9ea199-1692-4ab7-bd2b-42109b308df8",
        "colab": {
          "base_uri": "https://localhost:8080/",
          "height": 394
        }
      },
      "execution_count": 192,
      "outputs": [
        {
          "output_type": "stream",
          "name": "stderr",
          "text": [
            "\u001b[1mRows: \u001b[22m\u001b[34m74539\u001b[39m \u001b[1mColumns: \u001b[22m\u001b[34m5\u001b[39m\n",
            "\u001b[36m──\u001b[39m \u001b[1mColumn specification\u001b[22m \u001b[36m────────────────────────────────────────────────────────\u001b[39m\n",
            "\u001b[1mDelimiter:\u001b[22m \";\"\n",
            "\u001b[31mchr\u001b[39m (1): momento\n",
            "\u001b[32mdbl\u001b[39m (4): CodigoNacional, MediaCli_Valor, Maxima_Valor, Minima_Valor\n",
            "\n",
            "\u001b[36mℹ\u001b[39m Use `spec()` to retrieve the full column specification for this data.\n",
            "\u001b[36mℹ\u001b[39m Specify the column types or set `show_col_types = FALSE` to quiet this message.\n"
          ]
        },
        {
          "output_type": "display_data",
          "data": {
            "text/html": [
              "<table class=\"dataframe\">\n",
              "<caption>A tibble: 5 × 5</caption>\n",
              "<thead>\n",
              "\t<tr><th scope=col>CodigoNacional</th><th scope=col>momento</th><th scope=col>MediaCli_Valor</th><th scope=col>Maxima_Valor</th><th scope=col>Minima_Valor</th></tr>\n",
              "\t<tr><th scope=col>&lt;dbl&gt;</th><th scope=col>&lt;chr&gt;</th><th scope=col>&lt;dbl&gt;</th><th scope=col>&lt;dbl&gt;</th><th scope=col>&lt;dbl&gt;</th></tr>\n",
              "</thead>\n",
              "<tbody>\n",
              "\t<tr><td>290004</td><td>01-01-1954 12:00:00</td><td>16.5</td><td>20.6</td><td>12.3</td></tr>\n",
              "\t<tr><td>290004</td><td>02-01-1954 12:00:00</td><td>17.1</td><td>20.4</td><td>13.9</td></tr>\n",
              "\t<tr><td>290004</td><td>03-01-1954 12:00:00</td><td>15.1</td><td>20.0</td><td>10.2</td></tr>\n",
              "\t<tr><td>290004</td><td>04-01-1954 12:00:00</td><td>16.9</td><td>20.8</td><td>13.0</td></tr>\n",
              "\t<tr><td>290004</td><td>05-01-1954 12:00:00</td><td>17.7</td><td>20.4</td><td>15.0</td></tr>\n",
              "</tbody>\n",
              "</table>\n"
            ],
            "text/markdown": "\nA tibble: 5 × 5\n\n| CodigoNacional &lt;dbl&gt; | momento &lt;chr&gt; | MediaCli_Valor &lt;dbl&gt; | Maxima_Valor &lt;dbl&gt; | Minima_Valor &lt;dbl&gt; |\n|---|---|---|---|---|\n| 290004 | 01-01-1954 12:00:00 | 16.5 | 20.6 | 12.3 |\n| 290004 | 02-01-1954 12:00:00 | 17.1 | 20.4 | 13.9 |\n| 290004 | 03-01-1954 12:00:00 | 15.1 | 20.0 | 10.2 |\n| 290004 | 04-01-1954 12:00:00 | 16.9 | 20.8 | 13.0 |\n| 290004 | 05-01-1954 12:00:00 | 17.7 | 20.4 | 15.0 |\n\n",
            "text/latex": "A tibble: 5 × 5\n\\begin{tabular}{lllll}\n CodigoNacional & momento & MediaCli\\_Valor & Maxima\\_Valor & Minima\\_Valor\\\\\n <dbl> & <chr> & <dbl> & <dbl> & <dbl>\\\\\n\\hline\n\t 290004 & 01-01-1954 12:00:00 & 16.5 & 20.6 & 12.3\\\\\n\t 290004 & 02-01-1954 12:00:00 & 17.1 & 20.4 & 13.9\\\\\n\t 290004 & 03-01-1954 12:00:00 & 15.1 & 20.0 & 10.2\\\\\n\t 290004 & 04-01-1954 12:00:00 & 16.9 & 20.8 & 13.0\\\\\n\t 290004 & 05-01-1954 12:00:00 & 17.7 & 20.4 & 15.0\\\\\n\\end{tabular}\n",
            "text/plain": [
              "  CodigoNacional momento             MediaCli_Valor Maxima_Valor Minima_Valor\n",
              "1 290004         01-01-1954 12:00:00 16.5           20.6         12.3        \n",
              "2 290004         02-01-1954 12:00:00 17.1           20.4         13.9        \n",
              "3 290004         03-01-1954 12:00:00 15.1           20.0         10.2        \n",
              "4 290004         04-01-1954 12:00:00 16.9           20.8         13.0        \n",
              "5 290004         05-01-1954 12:00:00 17.7           20.4         15.0        "
            ]
          },
          "metadata": {}
        }
      ]
    },
    {
      "cell_type": "code",
      "source": [
        "#Cargo data frame humedad y le cargo datos\n",
        "df_datos_Humedad <- read.csv(\"descargas/MERGE_Humedad.csv\", header= TRUE, sep=\";\")\n",
        "head(df_datos_Humedad,5)"
      ],
      "metadata": {
        "id": "MiPfpCRzx_iP",
        "colab": {
          "base_uri": "https://localhost:8080/",
          "height": 255
        },
        "outputId": "5c7e63e1-3d68-4200-e8e8-f2e1d1a69978"
      },
      "execution_count": 193,
      "outputs": [
        {
          "output_type": "display_data",
          "data": {
            "text/html": [
              "<table class=\"dataframe\">\n",
              "<caption>A data.frame: 5 × 3</caption>\n",
              "<thead>\n",
              "\t<tr><th></th><th scope=col>CodigoNacional</th><th scope=col>momento</th><th scope=col>HR_Valor</th></tr>\n",
              "\t<tr><th></th><th scope=col>&lt;int&gt;</th><th scope=col>&lt;chr&gt;</th><th scope=col>&lt;dbl&gt;</th></tr>\n",
              "</thead>\n",
              "<tbody>\n",
              "\t<tr><th scope=row>1</th><td>290004</td><td>01-01-1954 10:00:00</td><td>NA</td></tr>\n",
              "\t<tr><th scope=row>2</th><td>290004</td><td>01-01-1954 11:00:00</td><td>NA</td></tr>\n",
              "\t<tr><th scope=row>3</th><td>290004</td><td>01-01-1954 12:00:00</td><td>NA</td></tr>\n",
              "\t<tr><th scope=row>4</th><td>290004</td><td>01-01-1954 13:00:00</td><td>NA</td></tr>\n",
              "\t<tr><th scope=row>5</th><td>290004</td><td>01-01-1954 14:00:00</td><td>NA</td></tr>\n",
              "</tbody>\n",
              "</table>\n"
            ],
            "text/markdown": "\nA data.frame: 5 × 3\n\n| <!--/--> | CodigoNacional &lt;int&gt; | momento &lt;chr&gt; | HR_Valor &lt;dbl&gt; |\n|---|---|---|---|\n| 1 | 290004 | 01-01-1954 10:00:00 | NA |\n| 2 | 290004 | 01-01-1954 11:00:00 | NA |\n| 3 | 290004 | 01-01-1954 12:00:00 | NA |\n| 4 | 290004 | 01-01-1954 13:00:00 | NA |\n| 5 | 290004 | 01-01-1954 14:00:00 | NA |\n\n",
            "text/latex": "A data.frame: 5 × 3\n\\begin{tabular}{r|lll}\n  & CodigoNacional & momento & HR\\_Valor\\\\\n  & <int> & <chr> & <dbl>\\\\\n\\hline\n\t1 & 290004 & 01-01-1954 10:00:00 & NA\\\\\n\t2 & 290004 & 01-01-1954 11:00:00 & NA\\\\\n\t3 & 290004 & 01-01-1954 12:00:00 & NA\\\\\n\t4 & 290004 & 01-01-1954 13:00:00 & NA\\\\\n\t5 & 290004 & 01-01-1954 14:00:00 & NA\\\\\n\\end{tabular}\n",
            "text/plain": [
              "  CodigoNacional momento             HR_Valor\n",
              "1 290004         01-01-1954 10:00:00 NA      \n",
              "2 290004         01-01-1954 11:00:00 NA      \n",
              "3 290004         01-01-1954 12:00:00 NA      \n",
              "4 290004         01-01-1954 13:00:00 NA      \n",
              "5 290004         01-01-1954 14:00:00 NA      "
            ]
          },
          "metadata": {}
        }
      ]
    },
    {
      "cell_type": "code",
      "source": [
        "#Cargo data frame precipitaciones y le cargo datos\n",
        "#df_datos_Precip <- read.csv(\"descargas/MERGE_DiarioRR.csv\", header= TRUE, sep=\";\")\n",
        "df_datos_Precip <- read_delim(\"descargas/MERGE_DiarioRR.csv\", delim=\";\",col_select = c('CodigoNacional','momento','Total_Valor'))\n",
        "head(df_datos_Precip,5)"
      ],
      "metadata": {
        "id": "fVRhncVIQRM7",
        "colab": {
          "base_uri": "https://localhost:8080/",
          "height": 394
        },
        "outputId": "8ad6e993-43e2-4ecd-bf86-5cf7af3303b9"
      },
      "execution_count": 194,
      "outputs": [
        {
          "output_type": "stream",
          "name": "stderr",
          "text": [
            "\u001b[1mRows: \u001b[22m\u001b[34m66161\u001b[39m \u001b[1mColumns: \u001b[22m\u001b[34m3\u001b[39m\n",
            "\u001b[36m──\u001b[39m \u001b[1mColumn specification\u001b[22m \u001b[36m────────────────────────────────────────────────────────\u001b[39m\n",
            "\u001b[1mDelimiter:\u001b[22m \";\"\n",
            "\u001b[31mchr\u001b[39m (1): momento\n",
            "\u001b[32mdbl\u001b[39m (2): CodigoNacional, Total_Valor\n",
            "\n",
            "\u001b[36mℹ\u001b[39m Use `spec()` to retrieve the full column specification for this data.\n",
            "\u001b[36mℹ\u001b[39m Specify the column types or set `show_col_types = FALSE` to quiet this message.\n"
          ]
        },
        {
          "output_type": "display_data",
          "data": {
            "text/html": [
              "<table class=\"dataframe\">\n",
              "<caption>A tibble: 5 × 3</caption>\n",
              "<thead>\n",
              "\t<tr><th scope=col>CodigoNacional</th><th scope=col>momento</th><th scope=col>Total_Valor</th></tr>\n",
              "\t<tr><th scope=col>&lt;dbl&gt;</th><th scope=col>&lt;chr&gt;</th><th scope=col>&lt;dbl&gt;</th></tr>\n",
              "</thead>\n",
              "<tbody>\n",
              "\t<tr><td>290004</td><td>01-01-1954 12:00:00</td><td>0</td></tr>\n",
              "\t<tr><td>290004</td><td>02-01-1954 12:00:00</td><td>0</td></tr>\n",
              "\t<tr><td>290004</td><td>03-01-1954 12:00:00</td><td>0</td></tr>\n",
              "\t<tr><td>290004</td><td>04-01-1954 12:00:00</td><td>0</td></tr>\n",
              "\t<tr><td>290004</td><td>05-01-1954 12:00:00</td><td>0</td></tr>\n",
              "</tbody>\n",
              "</table>\n"
            ],
            "text/markdown": "\nA tibble: 5 × 3\n\n| CodigoNacional &lt;dbl&gt; | momento &lt;chr&gt; | Total_Valor &lt;dbl&gt; |\n|---|---|---|\n| 290004 | 01-01-1954 12:00:00 | 0 |\n| 290004 | 02-01-1954 12:00:00 | 0 |\n| 290004 | 03-01-1954 12:00:00 | 0 |\n| 290004 | 04-01-1954 12:00:00 | 0 |\n| 290004 | 05-01-1954 12:00:00 | 0 |\n\n",
            "text/latex": "A tibble: 5 × 3\n\\begin{tabular}{lll}\n CodigoNacional & momento & Total\\_Valor\\\\\n <dbl> & <chr> & <dbl>\\\\\n\\hline\n\t 290004 & 01-01-1954 12:00:00 & 0\\\\\n\t 290004 & 02-01-1954 12:00:00 & 0\\\\\n\t 290004 & 03-01-1954 12:00:00 & 0\\\\\n\t 290004 & 04-01-1954 12:00:00 & 0\\\\\n\t 290004 & 05-01-1954 12:00:00 & 0\\\\\n\\end{tabular}\n",
            "text/plain": [
              "  CodigoNacional momento             Total_Valor\n",
              "1 290004         01-01-1954 12:00:00 0          \n",
              "2 290004         02-01-1954 12:00:00 0          \n",
              "3 290004         03-01-1954 12:00:00 0          \n",
              "4 290004         04-01-1954 12:00:00 0          \n",
              "5 290004         05-01-1954 12:00:00 0          "
            ]
          },
          "metadata": {}
        }
      ]
    },
    {
      "cell_type": "code",
      "source": [
        "#Cargo data frame material particulado y le cargo datos\n",
        "#df_datos_mp25 <- read.csv(\"descargas/MERGE_MP.csv\", header= TRUE, sep=\";\")\n",
        "df_datos_mp25 <- read_delim(\"descargas/MERGE_MP.csv\", delim=\";\",col_select = c('COMUNA', momento = 'FECHA(YYYYMMDD)', registrosValidados='Registros validados'))\n",
        "head(df_datos_mp25,5)"
      ],
      "metadata": {
        "id": "R9-WPc9O08M2",
        "colab": {
          "base_uri": "https://localhost:8080/",
          "height": 498
        },
        "outputId": "7e4b37b6-627d-40b9-dd12-b047478f6658"
      },
      "execution_count": 195,
      "outputs": [
        {
          "output_type": "stream",
          "name": "stderr",
          "text": [
            "Warning message:\n",
            "“\u001b[1m\u001b[22mOne or more parsing issues, call `problems()` on your data frame for details,\n",
            "e.g.:\n",
            "  dat <- vroom(...)\n",
            "  problems(dat)”\n",
            "\u001b[1mRows: \u001b[22m\u001b[34m18478\u001b[39m \u001b[1mColumns: \u001b[22m\u001b[34m3\u001b[39m\n",
            "\u001b[36m──\u001b[39m \u001b[1mColumn specification\u001b[22m \u001b[36m────────────────────────────────────────────────────────\u001b[39m\n",
            "\u001b[1mDelimiter:\u001b[22m \";\"\n",
            "\u001b[31mchr\u001b[39m (1): COMUNA\n",
            "\u001b[32mdbl\u001b[39m (1): FECHA(YYYYMMDD)\n",
            "\u001b[32mnum\u001b[39m (1): Registros validados\n",
            "\n",
            "\u001b[36mℹ\u001b[39m Use `spec()` to retrieve the full column specification for this data.\n",
            "\u001b[36mℹ\u001b[39m Specify the column types or set `show_col_types = FALSE` to quiet this message.\n"
          ]
        },
        {
          "output_type": "display_data",
          "data": {
            "text/html": [
              "<table class=\"dataframe\">\n",
              "<caption>A tibble: 5 × 3</caption>\n",
              "<thead>\n",
              "\t<tr><th scope=col>COMUNA</th><th scope=col>momento</th><th scope=col>registrosValidados</th></tr>\n",
              "\t<tr><th scope=col>&lt;chr&gt;</th><th scope=col>&lt;dbl&gt;</th><th scope=col>&lt;dbl&gt;</th></tr>\n",
              "</thead>\n",
              "<tbody>\n",
              "\t<tr><td>Concepcion</td><td>20090812</td><td>NA</td></tr>\n",
              "\t<tr><td>Concepcion</td><td>20090813</td><td>NA</td></tr>\n",
              "\t<tr><td>Concepcion</td><td>20090814</td><td>NA</td></tr>\n",
              "\t<tr><td>Concepcion</td><td>20090815</td><td>NA</td></tr>\n",
              "\t<tr><td>Concepcion</td><td>20090816</td><td>NA</td></tr>\n",
              "</tbody>\n",
              "</table>\n"
            ],
            "text/markdown": "\nA tibble: 5 × 3\n\n| COMUNA &lt;chr&gt; | momento &lt;dbl&gt; | registrosValidados &lt;dbl&gt; |\n|---|---|---|\n| Concepcion | 20090812 | NA |\n| Concepcion | 20090813 | NA |\n| Concepcion | 20090814 | NA |\n| Concepcion | 20090815 | NA |\n| Concepcion | 20090816 | NA |\n\n",
            "text/latex": "A tibble: 5 × 3\n\\begin{tabular}{lll}\n COMUNA & momento & registrosValidados\\\\\n <chr> & <dbl> & <dbl>\\\\\n\\hline\n\t Concepcion & 20090812 & NA\\\\\n\t Concepcion & 20090813 & NA\\\\\n\t Concepcion & 20090814 & NA\\\\\n\t Concepcion & 20090815 & NA\\\\\n\t Concepcion & 20090816 & NA\\\\\n\\end{tabular}\n",
            "text/plain": [
              "  COMUNA     momento  registrosValidados\n",
              "1 Concepcion 20090812 NA                \n",
              "2 Concepcion 20090813 NA                \n",
              "3 Concepcion 20090814 NA                \n",
              "4 Concepcion 20090815 NA                \n",
              "5 Concepcion 20090816 NA                "
            ]
          },
          "metadata": {}
        }
      ]
    },
    {
      "cell_type": "code",
      "source": [
        "#formateo fechas en material particulado 2.5.\n",
        "df_datos_mp25$momento <- format(as.Date(as.character(df_datos_mp25$momento),format=\"%Y%m%d\"), format=\"%d-%m-%Y\")\n",
        "#formateo fechas en temperaturas.\n",
        "df_datos_temperatura$momento<- format(as.Date(df_datos_temperatura$momento, format = \"%d-%m-%Y %H:%M:%S\"), format = \"%d-%m-%Y\")\n",
        "#formateo fechas en precipitaciones\n",
        "df_datos_Precip$momento<- format(as.Date(df_datos_Precip$momento, format = \"%d-%m-%Y %H:%M:%S\"), format = \"%d-%m-%Y\")\n",
        "#formateo fechas en humedad\n",
        "df_datos_Humedad$momento<- format(as.Date(df_datos_Humedad$momento, format = \"%d-%m-%Y %H:%M:%S\"), format = \"%d-%m-%Y\")"
      ],
      "metadata": {
        "id": "NjLU6UOu19iR"
      },
      "execution_count": 196,
      "outputs": []
    },
    {
      "cell_type": "code",
      "source": [
        "#Limpio filas con NA en todos los dataframe y chequeo contando posibles NA\n",
        "df_urgr_esp_semanal <- na.omit(df_urgr_esp_semanal)\n",
        "df_datos_temperatura <- na.omit(df_datos_temperatura)\n",
        "df_datos_Precip <- na.omit(df_datos_Precip)\n",
        "df_datos_Humedad <- na.omit(df_datos_Humedad)\n",
        "df_datos_mp25 <- na.omit(df_datos_mp25)\n",
        "sum(!complete.cases(df_urgr_esp_semanal))\n",
        "sum(!complete.cases(df_datos_temperatura))\n",
        "sum(!complete.cases(df_datos_Precip))\n",
        "sum(!complete.cases(df_datos_Humedad))\n",
        "sum(!complete.cases(df_datos_mp25))\n"
      ],
      "metadata": {
        "colab": {
          "base_uri": "https://localhost:8080/",
          "height": 104
        },
        "id": "C7lSYtOa-Q6K",
        "outputId": "a6a9d742-df63-46d7-aefd-aa9b6081c2df"
      },
      "execution_count": 197,
      "outputs": [
        {
          "output_type": "display_data",
          "data": {
            "text/html": [
              "0"
            ],
            "text/markdown": "0",
            "text/latex": "0",
            "text/plain": [
              "[1] 0"
            ]
          },
          "metadata": {}
        },
        {
          "output_type": "display_data",
          "data": {
            "text/html": [
              "0"
            ],
            "text/markdown": "0",
            "text/latex": "0",
            "text/plain": [
              "[1] 0"
            ]
          },
          "metadata": {}
        },
        {
          "output_type": "display_data",
          "data": {
            "text/html": [
              "0"
            ],
            "text/markdown": "0",
            "text/latex": "0",
            "text/plain": [
              "[1] 0"
            ]
          },
          "metadata": {}
        },
        {
          "output_type": "display_data",
          "data": {
            "text/html": [
              "0"
            ],
            "text/markdown": "0",
            "text/latex": "0",
            "text/plain": [
              "[1] 0"
            ]
          },
          "metadata": {}
        },
        {
          "output_type": "display_data",
          "data": {
            "text/html": [
              "0"
            ],
            "text/markdown": "0",
            "text/latex": "0",
            "text/plain": [
              "[1] 0"
            ]
          },
          "metadata": {}
        }
      ]
    },
    {
      "cell_type": "code",
      "source": [
        "#obtengo n° de semana de las fechas de mediciones (momento) y agrego columna al data frame temperatura\n",
        "semana<-week(dmy(df_datos_temperatura$momento))\n",
        "ano <- year(dmy(df_datos_temperatura$momento))\n",
        "difTemp <- df_datos_temperatura$Maxima_Valor-df_datos_temperatura$Minima_Valor\n",
        "df_datos_temperatura <- cbind(df_datos_temperatura, NuSemana = semana)\n",
        "df_datos_temperatura <- cbind(df_datos_temperatura, Anio = ano)\n",
        "df_datos_temperatura <- cbind(df_datos_temperatura, difTemp = difTemp)\n",
        "head(df_datos_temperatura,3)"
      ],
      "metadata": {
        "id": "04c0mj5ylC5C",
        "colab": {
          "base_uri": "https://localhost:8080/",
          "height": 192
        },
        "outputId": "466995bb-4836-4ef4-df87-8654760d494d"
      },
      "execution_count": 198,
      "outputs": [
        {
          "output_type": "display_data",
          "data": {
            "text/html": [
              "<table class=\"dataframe\">\n",
              "<caption>A data.frame: 3 × 8</caption>\n",
              "<thead>\n",
              "\t<tr><th></th><th scope=col>CodigoNacional</th><th scope=col>momento</th><th scope=col>MediaCli_Valor</th><th scope=col>Maxima_Valor</th><th scope=col>Minima_Valor</th><th scope=col>NuSemana</th><th scope=col>Anio</th><th scope=col>difTemp</th></tr>\n",
              "\t<tr><th></th><th scope=col>&lt;dbl&gt;</th><th scope=col>&lt;chr&gt;</th><th scope=col>&lt;dbl&gt;</th><th scope=col>&lt;dbl&gt;</th><th scope=col>&lt;dbl&gt;</th><th scope=col>&lt;dbl&gt;</th><th scope=col>&lt;dbl&gt;</th><th scope=col>&lt;dbl&gt;</th></tr>\n",
              "</thead>\n",
              "<tbody>\n",
              "\t<tr><th scope=row>1</th><td>290004</td><td>01-01-1954</td><td>16.5</td><td>20.6</td><td>12.3</td><td>1</td><td>1954</td><td>8.3</td></tr>\n",
              "\t<tr><th scope=row>2</th><td>290004</td><td>02-01-1954</td><td>17.1</td><td>20.4</td><td>13.9</td><td>1</td><td>1954</td><td>6.5</td></tr>\n",
              "\t<tr><th scope=row>3</th><td>290004</td><td>03-01-1954</td><td>15.1</td><td>20.0</td><td>10.2</td><td>1</td><td>1954</td><td>9.8</td></tr>\n",
              "</tbody>\n",
              "</table>\n"
            ],
            "text/markdown": "\nA data.frame: 3 × 8\n\n| <!--/--> | CodigoNacional &lt;dbl&gt; | momento &lt;chr&gt; | MediaCli_Valor &lt;dbl&gt; | Maxima_Valor &lt;dbl&gt; | Minima_Valor &lt;dbl&gt; | NuSemana &lt;dbl&gt; | Anio &lt;dbl&gt; | difTemp &lt;dbl&gt; |\n|---|---|---|---|---|---|---|---|---|\n| 1 | 290004 | 01-01-1954 | 16.5 | 20.6 | 12.3 | 1 | 1954 | 8.3 |\n| 2 | 290004 | 02-01-1954 | 17.1 | 20.4 | 13.9 | 1 | 1954 | 6.5 |\n| 3 | 290004 | 03-01-1954 | 15.1 | 20.0 | 10.2 | 1 | 1954 | 9.8 |\n\n",
            "text/latex": "A data.frame: 3 × 8\n\\begin{tabular}{r|llllllll}\n  & CodigoNacional & momento & MediaCli\\_Valor & Maxima\\_Valor & Minima\\_Valor & NuSemana & Anio & difTemp\\\\\n  & <dbl> & <chr> & <dbl> & <dbl> & <dbl> & <dbl> & <dbl> & <dbl>\\\\\n\\hline\n\t1 & 290004 & 01-01-1954 & 16.5 & 20.6 & 12.3 & 1 & 1954 & 8.3\\\\\n\t2 & 290004 & 02-01-1954 & 17.1 & 20.4 & 13.9 & 1 & 1954 & 6.5\\\\\n\t3 & 290004 & 03-01-1954 & 15.1 & 20.0 & 10.2 & 1 & 1954 & 9.8\\\\\n\\end{tabular}\n",
            "text/plain": [
              "  CodigoNacional momento    MediaCli_Valor Maxima_Valor Minima_Valor NuSemana\n",
              "1 290004         01-01-1954 16.5           20.6         12.3         1       \n",
              "2 290004         02-01-1954 17.1           20.4         13.9         1       \n",
              "3 290004         03-01-1954 15.1           20.0         10.2         1       \n",
              "  Anio difTemp\n",
              "1 1954 8.3    \n",
              "2 1954 6.5    \n",
              "3 1954 9.8    "
            ]
          },
          "metadata": {}
        }
      ]
    },
    {
      "cell_type": "code",
      "source": [
        "# Obtengo la media y mediana, de la temperatura para cada semana en cada año.\n",
        "df_datos_temperatura_semanal <- df_datos_temperatura %>% group_by (CodigoNacional,Anio, NuSemana) %>% summarise(medianaClim = median(MediaCli_Valor, na.rm = TRUE),  difMaxMin = median(difTemp, na.rm = TRUE))\n",
        "#Convierto agrupación con media y mediana a data frame\n",
        "df_datos_temperatura_semanal <- as.data.frame (df_datos_temperatura_semanal)\n",
        "#filtro por todo aquellos años >= a 2014\n",
        "df_datos_temperatura_semanal <- df_datos_temperatura_semanal %>% filter(Anio > 2013 & Anio < 2024)\n",
        "head(df_datos_temperatura_semanal,5)\n",
        "\n"
      ],
      "metadata": {
        "id": "lNzHoXEeVd4E",
        "outputId": "45fa6d13-df45-4844-cec3-d9ea917522ee",
        "colab": {
          "base_uri": "https://localhost:8080/",
          "height": 290
        }
      },
      "execution_count": 199,
      "outputs": [
        {
          "output_type": "stream",
          "name": "stderr",
          "text": [
            "\u001b[1m\u001b[22m`summarise()` has grouped output by 'CodigoNacional', 'Anio'. You can override\n",
            "using the `.groups` argument.\n"
          ]
        },
        {
          "output_type": "display_data",
          "data": {
            "text/html": [
              "<table class=\"dataframe\">\n",
              "<caption>A data.frame: 5 × 5</caption>\n",
              "<thead>\n",
              "\t<tr><th></th><th scope=col>CodigoNacional</th><th scope=col>Anio</th><th scope=col>NuSemana</th><th scope=col>medianaClim</th><th scope=col>difMaxMin</th></tr>\n",
              "\t<tr><th></th><th scope=col>&lt;dbl&gt;</th><th scope=col>&lt;dbl&gt;</th><th scope=col>&lt;dbl&gt;</th><th scope=col>&lt;dbl&gt;</th><th scope=col>&lt;dbl&gt;</th></tr>\n",
              "</thead>\n",
              "<tbody>\n",
              "\t<tr><th scope=row>1</th><td>290004</td><td>2014</td><td>1</td><td>17.5</td><td>7.1</td></tr>\n",
              "\t<tr><th scope=row>2</th><td>290004</td><td>2014</td><td>2</td><td>17.2</td><td>6.9</td></tr>\n",
              "\t<tr><th scope=row>3</th><td>290004</td><td>2014</td><td>3</td><td>19.6</td><td>8.1</td></tr>\n",
              "\t<tr><th scope=row>4</th><td>290004</td><td>2014</td><td>4</td><td>18.4</td><td>6.9</td></tr>\n",
              "\t<tr><th scope=row>5</th><td>290004</td><td>2014</td><td>5</td><td>18.2</td><td>7.9</td></tr>\n",
              "</tbody>\n",
              "</table>\n"
            ],
            "text/markdown": "\nA data.frame: 5 × 5\n\n| <!--/--> | CodigoNacional &lt;dbl&gt; | Anio &lt;dbl&gt; | NuSemana &lt;dbl&gt; | medianaClim &lt;dbl&gt; | difMaxMin &lt;dbl&gt; |\n|---|---|---|---|---|---|\n| 1 | 290004 | 2014 | 1 | 17.5 | 7.1 |\n| 2 | 290004 | 2014 | 2 | 17.2 | 6.9 |\n| 3 | 290004 | 2014 | 3 | 19.6 | 8.1 |\n| 4 | 290004 | 2014 | 4 | 18.4 | 6.9 |\n| 5 | 290004 | 2014 | 5 | 18.2 | 7.9 |\n\n",
            "text/latex": "A data.frame: 5 × 5\n\\begin{tabular}{r|lllll}\n  & CodigoNacional & Anio & NuSemana & medianaClim & difMaxMin\\\\\n  & <dbl> & <dbl> & <dbl> & <dbl> & <dbl>\\\\\n\\hline\n\t1 & 290004 & 2014 & 1 & 17.5 & 7.1\\\\\n\t2 & 290004 & 2014 & 2 & 17.2 & 6.9\\\\\n\t3 & 290004 & 2014 & 3 & 19.6 & 8.1\\\\\n\t4 & 290004 & 2014 & 4 & 18.4 & 6.9\\\\\n\t5 & 290004 & 2014 & 5 & 18.2 & 7.9\\\\\n\\end{tabular}\n",
            "text/plain": [
              "  CodigoNacional Anio NuSemana medianaClim difMaxMin\n",
              "1 290004         2014 1        17.5        7.1      \n",
              "2 290004         2014 2        17.2        6.9      \n",
              "3 290004         2014 3        19.6        8.1      \n",
              "4 290004         2014 4        18.4        6.9      \n",
              "5 290004         2014 5        18.2        7.9      "
            ]
          },
          "metadata": {}
        }
      ]
    },
    {
      "cell_type": "code",
      "source": [
        "#obtengo n° de semana de las fechas de mediciones (momento) y agrego columna al data frame humedad\n",
        "semana<-week(dmy(df_datos_Humedad$momento))\n",
        "ano <- year(dmy(df_datos_Humedad$momento))\n",
        "df_datos_Humedad <- cbind(df_datos_Humedad, NuSemana = semana)\n",
        "df_datos_Humedad <- cbind(df_datos_Humedad, Anio = ano)\n",
        "head(df_datos_Humedad,3)"
      ],
      "metadata": {
        "id": "lXuk86klhdID",
        "outputId": "30d6cef7-46bb-4024-f446-dde0c8d464ac",
        "colab": {
          "base_uri": "https://localhost:8080/",
          "height": 192
        }
      },
      "execution_count": 200,
      "outputs": [
        {
          "output_type": "display_data",
          "data": {
            "text/html": [
              "<table class=\"dataframe\">\n",
              "<caption>A data.frame: 3 × 5</caption>\n",
              "<thead>\n",
              "\t<tr><th></th><th scope=col>CodigoNacional</th><th scope=col>momento</th><th scope=col>HR_Valor</th><th scope=col>NuSemana</th><th scope=col>Anio</th></tr>\n",
              "\t<tr><th></th><th scope=col>&lt;int&gt;</th><th scope=col>&lt;chr&gt;</th><th scope=col>&lt;dbl&gt;</th><th scope=col>&lt;dbl&gt;</th><th scope=col>&lt;dbl&gt;</th></tr>\n",
              "</thead>\n",
              "<tbody>\n",
              "\t<tr><th scope=row>5113</th><td>290004</td><td>06-01-1963</td><td>95</td><td>1</td><td>1963</td></tr>\n",
              "\t<tr><th scope=row>5114</th><td>290004</td><td>06-01-1963</td><td>93</td><td>1</td><td>1963</td></tr>\n",
              "\t<tr><th scope=row>5115</th><td>290004</td><td>06-01-1963</td><td>89</td><td>1</td><td>1963</td></tr>\n",
              "</tbody>\n",
              "</table>\n"
            ],
            "text/markdown": "\nA data.frame: 3 × 5\n\n| <!--/--> | CodigoNacional &lt;int&gt; | momento &lt;chr&gt; | HR_Valor &lt;dbl&gt; | NuSemana &lt;dbl&gt; | Anio &lt;dbl&gt; |\n|---|---|---|---|---|---|\n| 5113 | 290004 | 06-01-1963 | 95 | 1 | 1963 |\n| 5114 | 290004 | 06-01-1963 | 93 | 1 | 1963 |\n| 5115 | 290004 | 06-01-1963 | 89 | 1 | 1963 |\n\n",
            "text/latex": "A data.frame: 3 × 5\n\\begin{tabular}{r|lllll}\n  & CodigoNacional & momento & HR\\_Valor & NuSemana & Anio\\\\\n  & <int> & <chr> & <dbl> & <dbl> & <dbl>\\\\\n\\hline\n\t5113 & 290004 & 06-01-1963 & 95 & 1 & 1963\\\\\n\t5114 & 290004 & 06-01-1963 & 93 & 1 & 1963\\\\\n\t5115 & 290004 & 06-01-1963 & 89 & 1 & 1963\\\\\n\\end{tabular}\n",
            "text/plain": [
              "     CodigoNacional momento    HR_Valor NuSemana Anio\n",
              "5113 290004         06-01-1963 95       1        1963\n",
              "5114 290004         06-01-1963 93       1        1963\n",
              "5115 290004         06-01-1963 89       1        1963"
            ]
          },
          "metadata": {}
        }
      ]
    },
    {
      "cell_type": "code",
      "source": [
        "# Obtengo la media y mediana, de la temperatura para cada semana en cada año.\n",
        "df_datos_Humedad_semanal <- df_datos_Humedad %>% group_by (CodigoNacional,Anio, NuSemana) %>% summarise(Mediana_HR_Valor = median(HR_Valor, na.rm = TRUE))\n",
        "#Convierto agrupación con media y mediana a data frame\n",
        "df_datos_Humedad_semanal <- as.data.frame (df_datos_Humedad_semanal)\n",
        "#filtro por todo aquellos años >= a 2014\n",
        "df_datos_Humedad_semanal <- df_datos_Humedad_semanal %>% filter(Anio > 2013 & Anio < 2024)\n",
        "head(df_datos_Humedad_semanal,5)"
      ],
      "metadata": {
        "id": "ekP5khJwiS8w",
        "outputId": "a0c3c98a-bde6-486d-b52e-9642f8561e48",
        "colab": {
          "base_uri": "https://localhost:8080/",
          "height": 290
        }
      },
      "execution_count": 201,
      "outputs": [
        {
          "output_type": "stream",
          "name": "stderr",
          "text": [
            "\u001b[1m\u001b[22m`summarise()` has grouped output by 'CodigoNacional', 'Anio'. You can override\n",
            "using the `.groups` argument.\n"
          ]
        },
        {
          "output_type": "display_data",
          "data": {
            "text/html": [
              "<table class=\"dataframe\">\n",
              "<caption>A data.frame: 5 × 4</caption>\n",
              "<thead>\n",
              "\t<tr><th></th><th scope=col>CodigoNacional</th><th scope=col>Anio</th><th scope=col>NuSemana</th><th scope=col>Mediana_HR_Valor</th></tr>\n",
              "\t<tr><th></th><th scope=col>&lt;int&gt;</th><th scope=col>&lt;dbl&gt;</th><th scope=col>&lt;dbl&gt;</th><th scope=col>&lt;dbl&gt;</th></tr>\n",
              "</thead>\n",
              "<tbody>\n",
              "\t<tr><th scope=row>1</th><td>290004</td><td>2014</td><td>1</td><td>80</td></tr>\n",
              "\t<tr><th scope=row>2</th><td>290004</td><td>2014</td><td>2</td><td>81</td></tr>\n",
              "\t<tr><th scope=row>3</th><td>290004</td><td>2014</td><td>3</td><td>68</td></tr>\n",
              "\t<tr><th scope=row>4</th><td>290004</td><td>2014</td><td>4</td><td>75</td></tr>\n",
              "\t<tr><th scope=row>5</th><td>290004</td><td>2014</td><td>5</td><td>77</td></tr>\n",
              "</tbody>\n",
              "</table>\n"
            ],
            "text/markdown": "\nA data.frame: 5 × 4\n\n| <!--/--> | CodigoNacional &lt;int&gt; | Anio &lt;dbl&gt; | NuSemana &lt;dbl&gt; | Mediana_HR_Valor &lt;dbl&gt; |\n|---|---|---|---|---|\n| 1 | 290004 | 2014 | 1 | 80 |\n| 2 | 290004 | 2014 | 2 | 81 |\n| 3 | 290004 | 2014 | 3 | 68 |\n| 4 | 290004 | 2014 | 4 | 75 |\n| 5 | 290004 | 2014 | 5 | 77 |\n\n",
            "text/latex": "A data.frame: 5 × 4\n\\begin{tabular}{r|llll}\n  & CodigoNacional & Anio & NuSemana & Mediana\\_HR\\_Valor\\\\\n  & <int> & <dbl> & <dbl> & <dbl>\\\\\n\\hline\n\t1 & 290004 & 2014 & 1 & 80\\\\\n\t2 & 290004 & 2014 & 2 & 81\\\\\n\t3 & 290004 & 2014 & 3 & 68\\\\\n\t4 & 290004 & 2014 & 4 & 75\\\\\n\t5 & 290004 & 2014 & 5 & 77\\\\\n\\end{tabular}\n",
            "text/plain": [
              "  CodigoNacional Anio NuSemana Mediana_HR_Valor\n",
              "1 290004         2014 1        80              \n",
              "2 290004         2014 2        81              \n",
              "3 290004         2014 3        68              \n",
              "4 290004         2014 4        75              \n",
              "5 290004         2014 5        77              "
            ]
          },
          "metadata": {}
        }
      ]
    },
    {
      "cell_type": "code",
      "source": [
        "#obtengo n° de semana de las fechas de mediciones (momento) y agrego columna al data frame precipitaciones\n",
        "semana<-week(dmy(df_datos_Precip$momento))\n",
        "ano <- year(dmy(df_datos_Precip$momento))\n",
        "df_datos_Precip <- cbind(df_datos_Precip, NuSemana = semana)\n",
        "df_datos_Precip <- cbind(df_datos_Precip, Anio = ano)\n",
        "head(df_datos_Precip,3)"
      ],
      "metadata": {
        "colab": {
          "base_uri": "https://localhost:8080/",
          "height": 192
        },
        "id": "CdrP6r0bC1t8",
        "outputId": "d6672e41-a8ad-49bc-db77-94e0c4edf34f"
      },
      "execution_count": 202,
      "outputs": [
        {
          "output_type": "display_data",
          "data": {
            "text/html": [
              "<table class=\"dataframe\">\n",
              "<caption>A data.frame: 3 × 5</caption>\n",
              "<thead>\n",
              "\t<tr><th></th><th scope=col>CodigoNacional</th><th scope=col>momento</th><th scope=col>Total_Valor</th><th scope=col>NuSemana</th><th scope=col>Anio</th></tr>\n",
              "\t<tr><th></th><th scope=col>&lt;dbl&gt;</th><th scope=col>&lt;chr&gt;</th><th scope=col>&lt;dbl&gt;</th><th scope=col>&lt;dbl&gt;</th><th scope=col>&lt;dbl&gt;</th></tr>\n",
              "</thead>\n",
              "<tbody>\n",
              "\t<tr><th scope=row>1</th><td>290004</td><td>01-01-1954</td><td>0</td><td>1</td><td>1954</td></tr>\n",
              "\t<tr><th scope=row>2</th><td>290004</td><td>02-01-1954</td><td>0</td><td>1</td><td>1954</td></tr>\n",
              "\t<tr><th scope=row>3</th><td>290004</td><td>03-01-1954</td><td>0</td><td>1</td><td>1954</td></tr>\n",
              "</tbody>\n",
              "</table>\n"
            ],
            "text/markdown": "\nA data.frame: 3 × 5\n\n| <!--/--> | CodigoNacional &lt;dbl&gt; | momento &lt;chr&gt; | Total_Valor &lt;dbl&gt; | NuSemana &lt;dbl&gt; | Anio &lt;dbl&gt; |\n|---|---|---|---|---|---|\n| 1 | 290004 | 01-01-1954 | 0 | 1 | 1954 |\n| 2 | 290004 | 02-01-1954 | 0 | 1 | 1954 |\n| 3 | 290004 | 03-01-1954 | 0 | 1 | 1954 |\n\n",
            "text/latex": "A data.frame: 3 × 5\n\\begin{tabular}{r|lllll}\n  & CodigoNacional & momento & Total\\_Valor & NuSemana & Anio\\\\\n  & <dbl> & <chr> & <dbl> & <dbl> & <dbl>\\\\\n\\hline\n\t1 & 290004 & 01-01-1954 & 0 & 1 & 1954\\\\\n\t2 & 290004 & 02-01-1954 & 0 & 1 & 1954\\\\\n\t3 & 290004 & 03-01-1954 & 0 & 1 & 1954\\\\\n\\end{tabular}\n",
            "text/plain": [
              "  CodigoNacional momento    Total_Valor NuSemana Anio\n",
              "1 290004         01-01-1954 0           1        1954\n",
              "2 290004         02-01-1954 0           1        1954\n",
              "3 290004         03-01-1954 0           1        1954"
            ]
          },
          "metadata": {}
        }
      ]
    },
    {
      "cell_type": "code",
      "source": [
        "# Agrupo y obtengo la suma de precipitaciones para cada semana en cada año.\n",
        "df_datos_Precip_semanal <- df_datos_Precip %>% group_by (CodigoNacional,Anio, NuSemana) %>% summarise(Total_Valor_sem = sum(Total_Valor, na.rm = TRUE))\n",
        "#Convierto agrupación con media y mediana a data frame\n",
        "df_datos_Precip_semanal <- as.data.frame (df_datos_Precip_semanal)\n",
        "#filtro por todo aquellos años >= a 2014\n",
        "df_datos_Precip_semanal <- df_datos_Precip_semanal %>% filter(Anio > 2013 & Anio < 2024)\n",
        "head(df_datos_Precip_semanal,5)"
      ],
      "metadata": {
        "colab": {
          "base_uri": "https://localhost:8080/",
          "height": 290
        },
        "id": "Iij1RkzSDVQb",
        "outputId": "360ac29e-a15f-4777-f07e-da3597d81323"
      },
      "execution_count": 203,
      "outputs": [
        {
          "output_type": "stream",
          "name": "stderr",
          "text": [
            "\u001b[1m\u001b[22m`summarise()` has grouped output by 'CodigoNacional', 'Anio'. You can override\n",
            "using the `.groups` argument.\n"
          ]
        },
        {
          "output_type": "display_data",
          "data": {
            "text/html": [
              "<table class=\"dataframe\">\n",
              "<caption>A data.frame: 5 × 4</caption>\n",
              "<thead>\n",
              "\t<tr><th></th><th scope=col>CodigoNacional</th><th scope=col>Anio</th><th scope=col>NuSemana</th><th scope=col>Total_Valor_sem</th></tr>\n",
              "\t<tr><th></th><th scope=col>&lt;dbl&gt;</th><th scope=col>&lt;dbl&gt;</th><th scope=col>&lt;dbl&gt;</th><th scope=col>&lt;dbl&gt;</th></tr>\n",
              "</thead>\n",
              "<tbody>\n",
              "\t<tr><th scope=row>1</th><td>290004</td><td>2014</td><td>1</td><td>0</td></tr>\n",
              "\t<tr><th scope=row>2</th><td>290004</td><td>2014</td><td>2</td><td>0</td></tr>\n",
              "\t<tr><th scope=row>3</th><td>290004</td><td>2014</td><td>3</td><td>0</td></tr>\n",
              "\t<tr><th scope=row>4</th><td>290004</td><td>2014</td><td>4</td><td>0</td></tr>\n",
              "\t<tr><th scope=row>5</th><td>290004</td><td>2014</td><td>5</td><td>0</td></tr>\n",
              "</tbody>\n",
              "</table>\n"
            ],
            "text/markdown": "\nA data.frame: 5 × 4\n\n| <!--/--> | CodigoNacional &lt;dbl&gt; | Anio &lt;dbl&gt; | NuSemana &lt;dbl&gt; | Total_Valor_sem &lt;dbl&gt; |\n|---|---|---|---|---|\n| 1 | 290004 | 2014 | 1 | 0 |\n| 2 | 290004 | 2014 | 2 | 0 |\n| 3 | 290004 | 2014 | 3 | 0 |\n| 4 | 290004 | 2014 | 4 | 0 |\n| 5 | 290004 | 2014 | 5 | 0 |\n\n",
            "text/latex": "A data.frame: 5 × 4\n\\begin{tabular}{r|llll}\n  & CodigoNacional & Anio & NuSemana & Total\\_Valor\\_sem\\\\\n  & <dbl> & <dbl> & <dbl> & <dbl>\\\\\n\\hline\n\t1 & 290004 & 2014 & 1 & 0\\\\\n\t2 & 290004 & 2014 & 2 & 0\\\\\n\t3 & 290004 & 2014 & 3 & 0\\\\\n\t4 & 290004 & 2014 & 4 & 0\\\\\n\t5 & 290004 & 2014 & 5 & 0\\\\\n\\end{tabular}\n",
            "text/plain": [
              "  CodigoNacional Anio NuSemana Total_Valor_sem\n",
              "1 290004         2014 1        0              \n",
              "2 290004         2014 2        0              \n",
              "3 290004         2014 3        0              \n",
              "4 290004         2014 4        0              \n",
              "5 290004         2014 5        0              "
            ]
          },
          "metadata": {}
        }
      ]
    },
    {
      "cell_type": "code",
      "source": [
        "#obtengo n° de semana de las fechas de mediciones (momento) y agrego columna al data frame mp25\n",
        "semana<-week(dmy(df_datos_mp25$momento))\n",
        "ano <- year(dmy(df_datos_mp25$momento))\n",
        "df_datos_mp25 <- cbind(df_datos_mp25, NuSemana = semana)\n",
        "df_datos_mp25 <- cbind(df_datos_mp25, Anio = ano)\n",
        "head(df_datos_mp25,3)"
      ],
      "metadata": {
        "colab": {
          "base_uri": "https://localhost:8080/",
          "height": 192
        },
        "id": "DdjPbon8FhQX",
        "outputId": "45ccf3e0-7dcb-474d-d582-a44b7985cb18"
      },
      "execution_count": 204,
      "outputs": [
        {
          "output_type": "display_data",
          "data": {
            "text/html": [
              "<table class=\"dataframe\">\n",
              "<caption>A data.frame: 3 × 5</caption>\n",
              "<thead>\n",
              "\t<tr><th></th><th scope=col>COMUNA</th><th scope=col>momento</th><th scope=col>registrosValidados</th><th scope=col>NuSemana</th><th scope=col>Anio</th></tr>\n",
              "\t<tr><th></th><th scope=col>&lt;chr&gt;</th><th scope=col>&lt;chr&gt;</th><th scope=col>&lt;dbl&gt;</th><th scope=col>&lt;dbl&gt;</th><th scope=col>&lt;dbl&gt;</th></tr>\n",
              "</thead>\n",
              "<tbody>\n",
              "\t<tr><th scope=row>1</th><td>Concepcion</td><td>11-06-2017</td><td>33</td><td>24</td><td>2017</td></tr>\n",
              "\t<tr><th scope=row>2</th><td>Concepcion</td><td>12-06-2017</td><td>37</td><td>24</td><td>2017</td></tr>\n",
              "\t<tr><th scope=row>3</th><td>Concepcion</td><td>13-06-2017</td><td>44</td><td>24</td><td>2017</td></tr>\n",
              "</tbody>\n",
              "</table>\n"
            ],
            "text/markdown": "\nA data.frame: 3 × 5\n\n| <!--/--> | COMUNA &lt;chr&gt; | momento &lt;chr&gt; | registrosValidados &lt;dbl&gt; | NuSemana &lt;dbl&gt; | Anio &lt;dbl&gt; |\n|---|---|---|---|---|---|\n| 1 | Concepcion | 11-06-2017 | 33 | 24 | 2017 |\n| 2 | Concepcion | 12-06-2017 | 37 | 24 | 2017 |\n| 3 | Concepcion | 13-06-2017 | 44 | 24 | 2017 |\n\n",
            "text/latex": "A data.frame: 3 × 5\n\\begin{tabular}{r|lllll}\n  & COMUNA & momento & registrosValidados & NuSemana & Anio\\\\\n  & <chr> & <chr> & <dbl> & <dbl> & <dbl>\\\\\n\\hline\n\t1 & Concepcion & 11-06-2017 & 33 & 24 & 2017\\\\\n\t2 & Concepcion & 12-06-2017 & 37 & 24 & 2017\\\\\n\t3 & Concepcion & 13-06-2017 & 44 & 24 & 2017\\\\\n\\end{tabular}\n",
            "text/plain": [
              "  COMUNA     momento    registrosValidados NuSemana Anio\n",
              "1 Concepcion 11-06-2017 33                 24       2017\n",
              "2 Concepcion 12-06-2017 37                 24       2017\n",
              "3 Concepcion 13-06-2017 44                 24       2017"
            ]
          },
          "metadata": {}
        }
      ]
    },
    {
      "cell_type": "code",
      "source": [
        "# Agrupo y obtengo la suma de precipitaciones para cada semana en cada año.\n",
        "df_datos_mp25_semanal <- df_datos_mp25 %>% group_by (COMUNA,Anio, NuSemana) %>% summarise(Total_Valor_sem = sum(registrosValidados, na.rm = TRUE))\n",
        "#Convierto agrupación con media y mediana a data frame\n",
        "df_datos_mp25_semanal <- as.data.frame (df_datos_mp25_semanal)\n",
        "#filtro por todo aquellos años >= a 2014\n",
        "df_datos_mp25_semanal <- df_datos_mp25_semanal %>% filter(Anio > 2013 & Anio < 2024)\n",
        "head(df_datos_mp25_semanal,5)"
      ],
      "metadata": {
        "colab": {
          "base_uri": "https://localhost:8080/",
          "height": 290
        },
        "id": "f9hgqQjDGiJo",
        "outputId": "1b021cd8-0fa8-4eef-c530-0e45f823cdfd"
      },
      "execution_count": 205,
      "outputs": [
        {
          "output_type": "stream",
          "name": "stderr",
          "text": [
            "\u001b[1m\u001b[22m`summarise()` has grouped output by 'COMUNA', 'Anio'. You can override using\n",
            "the `.groups` argument.\n"
          ]
        },
        {
          "output_type": "display_data",
          "data": {
            "text/html": [
              "<table class=\"dataframe\">\n",
              "<caption>A data.frame: 5 × 4</caption>\n",
              "<thead>\n",
              "\t<tr><th></th><th scope=col>COMUNA</th><th scope=col>Anio</th><th scope=col>NuSemana</th><th scope=col>Total_Valor_sem</th></tr>\n",
              "\t<tr><th></th><th scope=col>&lt;chr&gt;</th><th scope=col>&lt;dbl&gt;</th><th scope=col>&lt;dbl&gt;</th><th scope=col>&lt;dbl&gt;</th></tr>\n",
              "</thead>\n",
              "<tbody>\n",
              "\t<tr><th scope=row>1</th><td>Concepcion</td><td>2017</td><td>24</td><td>192</td></tr>\n",
              "\t<tr><th scope=row>2</th><td>Concepcion</td><td>2017</td><td>25</td><td>156</td></tr>\n",
              "\t<tr><th scope=row>3</th><td>Concepcion</td><td>2017</td><td>26</td><td>124</td></tr>\n",
              "\t<tr><th scope=row>4</th><td>Concepcion</td><td>2017</td><td>27</td><td>151</td></tr>\n",
              "\t<tr><th scope=row>5</th><td>Concepcion</td><td>2017</td><td>28</td><td>152</td></tr>\n",
              "</tbody>\n",
              "</table>\n"
            ],
            "text/markdown": "\nA data.frame: 5 × 4\n\n| <!--/--> | COMUNA &lt;chr&gt; | Anio &lt;dbl&gt; | NuSemana &lt;dbl&gt; | Total_Valor_sem &lt;dbl&gt; |\n|---|---|---|---|---|\n| 1 | Concepcion | 2017 | 24 | 192 |\n| 2 | Concepcion | 2017 | 25 | 156 |\n| 3 | Concepcion | 2017 | 26 | 124 |\n| 4 | Concepcion | 2017 | 27 | 151 |\n| 5 | Concepcion | 2017 | 28 | 152 |\n\n",
            "text/latex": "A data.frame: 5 × 4\n\\begin{tabular}{r|llll}\n  & COMUNA & Anio & NuSemana & Total\\_Valor\\_sem\\\\\n  & <chr> & <dbl> & <dbl> & <dbl>\\\\\n\\hline\n\t1 & Concepcion & 2017 & 24 & 192\\\\\n\t2 & Concepcion & 2017 & 25 & 156\\\\\n\t3 & Concepcion & 2017 & 26 & 124\\\\\n\t4 & Concepcion & 2017 & 27 & 151\\\\\n\t5 & Concepcion & 2017 & 28 & 152\\\\\n\\end{tabular}\n",
            "text/plain": [
              "  COMUNA     Anio NuSemana Total_Valor_sem\n",
              "1 Concepcion 2017 24       192            \n",
              "2 Concepcion 2017 25       156            \n",
              "3 Concepcion 2017 26       124            \n",
              "4 Concepcion 2017 27       151            \n",
              "5 Concepcion 2017 28       152            "
            ]
          },
          "metadata": {}
        }
      ]
    },
    {
      "cell_type": "code",
      "source": [
        "count(df_urgr_esp_semanal)\n",
        "count(df_datos_temperatura_semanal)\n",
        "count(df_datos_Precip_semanal)\n",
        "count(df_datos_Humedad_semanal)\n",
        "count(df_datos_mp25_semanal)"
      ],
      "metadata": {
        "id": "l5FZV3fQbq0R",
        "outputId": "7342c505-1cf6-47a9-a143-9055f93fa0ce",
        "colab": {
          "base_uri": "https://localhost:8080/",
          "height": 735
        }
      },
      "execution_count": 206,
      "outputs": [
        {
          "output_type": "display_data",
          "data": {
            "text/html": [
              "<table class=\"dataframe\">\n",
              "<caption>A tibble: 1 × 1</caption>\n",
              "<thead>\n",
              "\t<tr><th scope=col>n</th></tr>\n",
              "\t<tr><th scope=col>&lt;int&gt;</th></tr>\n",
              "</thead>\n",
              "<tbody>\n",
              "\t<tr><td>9854</td></tr>\n",
              "</tbody>\n",
              "</table>\n"
            ],
            "text/markdown": "\nA tibble: 1 × 1\n\n| n &lt;int&gt; |\n|---|\n| 9854 |\n\n",
            "text/latex": "A tibble: 1 × 1\n\\begin{tabular}{l}\n n\\\\\n <int>\\\\\n\\hline\n\t 9854\\\\\n\\end{tabular}\n",
            "text/plain": [
              "  n   \n",
              "1 9854"
            ]
          },
          "metadata": {}
        },
        {
          "output_type": "display_data",
          "data": {
            "text/html": [
              "<table class=\"dataframe\">\n",
              "<caption>A data.frame: 1 × 1</caption>\n",
              "<thead>\n",
              "\t<tr><th scope=col>n</th></tr>\n",
              "\t<tr><th scope=col>&lt;int&gt;</th></tr>\n",
              "</thead>\n",
              "<tbody>\n",
              "\t<tr><td>1590</td></tr>\n",
              "</tbody>\n",
              "</table>\n"
            ],
            "text/markdown": "\nA data.frame: 1 × 1\n\n| n &lt;int&gt; |\n|---|\n| 1590 |\n\n",
            "text/latex": "A data.frame: 1 × 1\n\\begin{tabular}{l}\n n\\\\\n <int>\\\\\n\\hline\n\t 1590\\\\\n\\end{tabular}\n",
            "text/plain": [
              "  n   \n",
              "1 1590"
            ]
          },
          "metadata": {}
        },
        {
          "output_type": "display_data",
          "data": {
            "text/html": [
              "<table class=\"dataframe\">\n",
              "<caption>A data.frame: 1 × 1</caption>\n",
              "<thead>\n",
              "\t<tr><th scope=col>n</th></tr>\n",
              "\t<tr><th scope=col>&lt;int&gt;</th></tr>\n",
              "</thead>\n",
              "<tbody>\n",
              "\t<tr><td>1590</td></tr>\n",
              "</tbody>\n",
              "</table>\n"
            ],
            "text/markdown": "\nA data.frame: 1 × 1\n\n| n &lt;int&gt; |\n|---|\n| 1590 |\n\n",
            "text/latex": "A data.frame: 1 × 1\n\\begin{tabular}{l}\n n\\\\\n <int>\\\\\n\\hline\n\t 1590\\\\\n\\end{tabular}\n",
            "text/plain": [
              "  n   \n",
              "1 1590"
            ]
          },
          "metadata": {}
        },
        {
          "output_type": "display_data",
          "data": {
            "text/html": [
              "<table class=\"dataframe\">\n",
              "<caption>A data.frame: 1 × 1</caption>\n",
              "<thead>\n",
              "\t<tr><th scope=col>n</th></tr>\n",
              "\t<tr><th scope=col>&lt;int&gt;</th></tr>\n",
              "</thead>\n",
              "<tbody>\n",
              "\t<tr><td>1590</td></tr>\n",
              "</tbody>\n",
              "</table>\n"
            ],
            "text/markdown": "\nA data.frame: 1 × 1\n\n| n &lt;int&gt; |\n|---|\n| 1590 |\n\n",
            "text/latex": "A data.frame: 1 × 1\n\\begin{tabular}{l}\n n\\\\\n <int>\\\\\n\\hline\n\t 1590\\\\\n\\end{tabular}\n",
            "text/plain": [
              "  n   \n",
              "1 1590"
            ]
          },
          "metadata": {}
        },
        {
          "output_type": "display_data",
          "data": {
            "text/html": [
              "<table class=\"dataframe\">\n",
              "<caption>A data.frame: 1 × 1</caption>\n",
              "<thead>\n",
              "\t<tr><th scope=col>n</th></tr>\n",
              "\t<tr><th scope=col>&lt;int&gt;</th></tr>\n",
              "</thead>\n",
              "<tbody>\n",
              "\t<tr><td>1382</td></tr>\n",
              "</tbody>\n",
              "</table>\n"
            ],
            "text/markdown": "\nA data.frame: 1 × 1\n\n| n &lt;int&gt; |\n|---|\n| 1382 |\n\n",
            "text/latex": "A data.frame: 1 × 1\n\\begin{tabular}{l}\n n\\\\\n <int>\\\\\n\\hline\n\t 1382\\\\\n\\end{tabular}\n",
            "text/plain": [
              "  n   \n",
              "1 1382"
            ]
          },
          "metadata": {}
        }
      ]
    },
    {
      "cell_type": "code",
      "source": [
        "#Aqui estan todas las causas consideradas. La #3 es un total.\n",
        "df_urgr_esp_semanal %>% select(OrdenCausa, Causa)%>%distinct()%>%arrange(OrdenCausa)"
      ],
      "metadata": {
        "id": "oREv1_6pveC6",
        "outputId": "22fcdacf-a4ce-439b-c296-b7c84f145c67",
        "colab": {
          "base_uri": "https://localhost:8080/",
          "height": 129
        }
      },
      "execution_count": 207,
      "outputs": [
        {
          "output_type": "display_data",
          "data": {
            "text/html": [
              "<table class=\"dataframe\">\n",
              "<caption>A tibble: 1 × 2</caption>\n",
              "<thead>\n",
              "\t<tr><th scope=col>OrdenCausa</th><th scope=col>Causa</th></tr>\n",
              "\t<tr><th scope=col>&lt;int&gt;</th><th scope=col>&lt;chr&gt;</th></tr>\n",
              "</thead>\n",
              "<tbody>\n",
              "\t<tr><td>3</td><td>TOTAL CAUSAS SISTEMA RESPIRATORIO</td></tr>\n",
              "</tbody>\n",
              "</table>\n"
            ],
            "text/markdown": "\nA tibble: 1 × 2\n\n| OrdenCausa &lt;int&gt; | Causa &lt;chr&gt; |\n|---|---|\n| 3 | TOTAL CAUSAS SISTEMA RESPIRATORIO |\n\n",
            "text/latex": "A tibble: 1 × 2\n\\begin{tabular}{ll}\n OrdenCausa & Causa\\\\\n <int> & <chr>\\\\\n\\hline\n\t 3 & TOTAL CAUSAS SISTEMA RESPIRATORIO\\\\\n\\end{tabular}\n",
            "text/plain": [
              "  OrdenCausa Causa                            \n",
              "1 3          TOTAL CAUSAS SISTEMA RESPIRATORIO"
            ]
          },
          "metadata": {}
        }
      ]
    },
    {
      "cell_type": "code",
      "source": [
        "df_urgr_esp_semanal %>% group_by (ComunaCodigo, Anio, SemanaEstadistica) %>% summarise(NumTotal = sum(NumTotal, na.rm = TRUE)) %>%filter(Anio > 2013 & Anio < 2024)\n",
        "#%>%filter (Anio ==2023 & ComunaCodigo ==4101)"
      ],
      "metadata": {
        "id": "WfBEU7LWuBiH",
        "outputId": "ed8f3223-1cfc-4e05-f3ee-0878283a07a9",
        "colab": {
          "base_uri": "https://localhost:8080/",
          "height": 1000
        }
      },
      "execution_count": 221,
      "outputs": [
        {
          "output_type": "stream",
          "name": "stderr",
          "text": [
            "\u001b[1m\u001b[22m`summarise()` has grouped output by 'ComunaCodigo', 'Anio'. You can override\n",
            "using the `.groups` argument.\n"
          ]
        },
        {
          "output_type": "display_data",
          "data": {
            "text/html": [
              "<table class=\"dataframe\">\n",
              "<caption>A grouped_df: 1572 × 4</caption>\n",
              "<thead>\n",
              "\t<tr><th scope=col>ComunaCodigo</th><th scope=col>Anio</th><th scope=col>SemanaEstadistica</th><th scope=col>NumTotal</th></tr>\n",
              "\t<tr><th scope=col>&lt;chr&gt;</th><th scope=col>&lt;int&gt;</th><th scope=col>&lt;int&gt;</th><th scope=col>&lt;int&gt;</th></tr>\n",
              "</thead>\n",
              "<tbody>\n",
              "\t<tr><td>13101</td><td>2014</td><td> 1</td><td> 295</td></tr>\n",
              "\t<tr><td>13101</td><td>2014</td><td> 2</td><td> 648</td></tr>\n",
              "\t<tr><td>13101</td><td>2014</td><td> 3</td><td> 585</td></tr>\n",
              "\t<tr><td>13101</td><td>2014</td><td> 4</td><td> 500</td></tr>\n",
              "\t<tr><td>13101</td><td>2014</td><td> 5</td><td> 444</td></tr>\n",
              "\t<tr><td>13101</td><td>2014</td><td> 6</td><td> 497</td></tr>\n",
              "\t<tr><td>13101</td><td>2014</td><td> 7</td><td> 379</td></tr>\n",
              "\t<tr><td>13101</td><td>2014</td><td> 8</td><td> 424</td></tr>\n",
              "\t<tr><td>13101</td><td>2014</td><td> 9</td><td> 449</td></tr>\n",
              "\t<tr><td>13101</td><td>2014</td><td>10</td><td> 429</td></tr>\n",
              "\t<tr><td>13101</td><td>2014</td><td>11</td><td> 659</td></tr>\n",
              "\t<tr><td>13101</td><td>2014</td><td>12</td><td> 931</td></tr>\n",
              "\t<tr><td>13101</td><td>2014</td><td>13</td><td> 884</td></tr>\n",
              "\t<tr><td>13101</td><td>2014</td><td>14</td><td> 881</td></tr>\n",
              "\t<tr><td>13101</td><td>2014</td><td>15</td><td> 829</td></tr>\n",
              "\t<tr><td>13101</td><td>2014</td><td>16</td><td> 968</td></tr>\n",
              "\t<tr><td>13101</td><td>2014</td><td>17</td><td> 849</td></tr>\n",
              "\t<tr><td>13101</td><td>2014</td><td>18</td><td> 789</td></tr>\n",
              "\t<tr><td>13101</td><td>2014</td><td>19</td><td> 828</td></tr>\n",
              "\t<tr><td>13101</td><td>2014</td><td>20</td><td> 916</td></tr>\n",
              "\t<tr><td>13101</td><td>2014</td><td>21</td><td>1011</td></tr>\n",
              "\t<tr><td>13101</td><td>2014</td><td>22</td><td>1170</td></tr>\n",
              "\t<tr><td>13101</td><td>2014</td><td>23</td><td>1291</td></tr>\n",
              "\t<tr><td>13101</td><td>2014</td><td>24</td><td>1406</td></tr>\n",
              "\t<tr><td>13101</td><td>2014</td><td>25</td><td>1519</td></tr>\n",
              "\t<tr><td>13101</td><td>2014</td><td>26</td><td>1819</td></tr>\n",
              "\t<tr><td>13101</td><td>2014</td><td>27</td><td>1807</td></tr>\n",
              "\t<tr><td>13101</td><td>2014</td><td>28</td><td>1576</td></tr>\n",
              "\t<tr><td>13101</td><td>2014</td><td>29</td><td>1340</td></tr>\n",
              "\t<tr><td>13101</td><td>2014</td><td>30</td><td> 846</td></tr>\n",
              "\t<tr><td>⋮</td><td>⋮</td><td>⋮</td><td>⋮</td></tr>\n",
              "\t<tr><td>8101</td><td>2023</td><td>23</td><td>1659</td></tr>\n",
              "\t<tr><td>8101</td><td>2023</td><td>24</td><td>1668</td></tr>\n",
              "\t<tr><td>8101</td><td>2023</td><td>25</td><td>1363</td></tr>\n",
              "\t<tr><td>8101</td><td>2023</td><td>26</td><td>1306</td></tr>\n",
              "\t<tr><td>8101</td><td>2023</td><td>27</td><td>1004</td></tr>\n",
              "\t<tr><td>8101</td><td>2023</td><td>28</td><td> 998</td></tr>\n",
              "\t<tr><td>8101</td><td>2023</td><td>29</td><td>1016</td></tr>\n",
              "\t<tr><td>8101</td><td>2023</td><td>30</td><td>1199</td></tr>\n",
              "\t<tr><td>8101</td><td>2023</td><td>31</td><td>1456</td></tr>\n",
              "\t<tr><td>8101</td><td>2023</td><td>32</td><td>1881</td></tr>\n",
              "\t<tr><td>8101</td><td>2023</td><td>33</td><td>2057</td></tr>\n",
              "\t<tr><td>8101</td><td>2023</td><td>34</td><td>1844</td></tr>\n",
              "\t<tr><td>8101</td><td>2023</td><td>35</td><td>1868</td></tr>\n",
              "\t<tr><td>8101</td><td>2023</td><td>36</td><td>1977</td></tr>\n",
              "\t<tr><td>8101</td><td>2023</td><td>37</td><td>1816</td></tr>\n",
              "\t<tr><td>8101</td><td>2023</td><td>38</td><td>2213</td></tr>\n",
              "\t<tr><td>8101</td><td>2023</td><td>39</td><td>2159</td></tr>\n",
              "\t<tr><td>8101</td><td>2023</td><td>40</td><td>2070</td></tr>\n",
              "\t<tr><td>8101</td><td>2023</td><td>41</td><td>2367</td></tr>\n",
              "\t<tr><td>8101</td><td>2023</td><td>42</td><td>2459</td></tr>\n",
              "\t<tr><td>8101</td><td>2023</td><td>43</td><td>2150</td></tr>\n",
              "\t<tr><td>8101</td><td>2023</td><td>44</td><td>2061</td></tr>\n",
              "\t<tr><td>8101</td><td>2023</td><td>45</td><td>1805</td></tr>\n",
              "\t<tr><td>8101</td><td>2023</td><td>46</td><td>1683</td></tr>\n",
              "\t<tr><td>8101</td><td>2023</td><td>47</td><td>1807</td></tr>\n",
              "\t<tr><td>8101</td><td>2023</td><td>48</td><td>1579</td></tr>\n",
              "\t<tr><td>8101</td><td>2023</td><td>49</td><td>1408</td></tr>\n",
              "\t<tr><td>8101</td><td>2023</td><td>50</td><td>1380</td></tr>\n",
              "\t<tr><td>8101</td><td>2023</td><td>51</td><td>1294</td></tr>\n",
              "\t<tr><td>8101</td><td>2023</td><td>52</td><td>1121</td></tr>\n",
              "</tbody>\n",
              "</table>\n"
            ],
            "text/markdown": "\nA grouped_df: 1572 × 4\n\n| ComunaCodigo &lt;chr&gt; | Anio &lt;int&gt; | SemanaEstadistica &lt;int&gt; | NumTotal &lt;int&gt; |\n|---|---|---|---|\n| 13101 | 2014 |  1 |  295 |\n| 13101 | 2014 |  2 |  648 |\n| 13101 | 2014 |  3 |  585 |\n| 13101 | 2014 |  4 |  500 |\n| 13101 | 2014 |  5 |  444 |\n| 13101 | 2014 |  6 |  497 |\n| 13101 | 2014 |  7 |  379 |\n| 13101 | 2014 |  8 |  424 |\n| 13101 | 2014 |  9 |  449 |\n| 13101 | 2014 | 10 |  429 |\n| 13101 | 2014 | 11 |  659 |\n| 13101 | 2014 | 12 |  931 |\n| 13101 | 2014 | 13 |  884 |\n| 13101 | 2014 | 14 |  881 |\n| 13101 | 2014 | 15 |  829 |\n| 13101 | 2014 | 16 |  968 |\n| 13101 | 2014 | 17 |  849 |\n| 13101 | 2014 | 18 |  789 |\n| 13101 | 2014 | 19 |  828 |\n| 13101 | 2014 | 20 |  916 |\n| 13101 | 2014 | 21 | 1011 |\n| 13101 | 2014 | 22 | 1170 |\n| 13101 | 2014 | 23 | 1291 |\n| 13101 | 2014 | 24 | 1406 |\n| 13101 | 2014 | 25 | 1519 |\n| 13101 | 2014 | 26 | 1819 |\n| 13101 | 2014 | 27 | 1807 |\n| 13101 | 2014 | 28 | 1576 |\n| 13101 | 2014 | 29 | 1340 |\n| 13101 | 2014 | 30 |  846 |\n| ⋮ | ⋮ | ⋮ | ⋮ |\n| 8101 | 2023 | 23 | 1659 |\n| 8101 | 2023 | 24 | 1668 |\n| 8101 | 2023 | 25 | 1363 |\n| 8101 | 2023 | 26 | 1306 |\n| 8101 | 2023 | 27 | 1004 |\n| 8101 | 2023 | 28 |  998 |\n| 8101 | 2023 | 29 | 1016 |\n| 8101 | 2023 | 30 | 1199 |\n| 8101 | 2023 | 31 | 1456 |\n| 8101 | 2023 | 32 | 1881 |\n| 8101 | 2023 | 33 | 2057 |\n| 8101 | 2023 | 34 | 1844 |\n| 8101 | 2023 | 35 | 1868 |\n| 8101 | 2023 | 36 | 1977 |\n| 8101 | 2023 | 37 | 1816 |\n| 8101 | 2023 | 38 | 2213 |\n| 8101 | 2023 | 39 | 2159 |\n| 8101 | 2023 | 40 | 2070 |\n| 8101 | 2023 | 41 | 2367 |\n| 8101 | 2023 | 42 | 2459 |\n| 8101 | 2023 | 43 | 2150 |\n| 8101 | 2023 | 44 | 2061 |\n| 8101 | 2023 | 45 | 1805 |\n| 8101 | 2023 | 46 | 1683 |\n| 8101 | 2023 | 47 | 1807 |\n| 8101 | 2023 | 48 | 1579 |\n| 8101 | 2023 | 49 | 1408 |\n| 8101 | 2023 | 50 | 1380 |\n| 8101 | 2023 | 51 | 1294 |\n| 8101 | 2023 | 52 | 1121 |\n\n",
            "text/latex": "A grouped\\_df: 1572 × 4\n\\begin{tabular}{llll}\n ComunaCodigo & Anio & SemanaEstadistica & NumTotal\\\\\n <chr> & <int> & <int> & <int>\\\\\n\\hline\n\t 13101 & 2014 &  1 &  295\\\\\n\t 13101 & 2014 &  2 &  648\\\\\n\t 13101 & 2014 &  3 &  585\\\\\n\t 13101 & 2014 &  4 &  500\\\\\n\t 13101 & 2014 &  5 &  444\\\\\n\t 13101 & 2014 &  6 &  497\\\\\n\t 13101 & 2014 &  7 &  379\\\\\n\t 13101 & 2014 &  8 &  424\\\\\n\t 13101 & 2014 &  9 &  449\\\\\n\t 13101 & 2014 & 10 &  429\\\\\n\t 13101 & 2014 & 11 &  659\\\\\n\t 13101 & 2014 & 12 &  931\\\\\n\t 13101 & 2014 & 13 &  884\\\\\n\t 13101 & 2014 & 14 &  881\\\\\n\t 13101 & 2014 & 15 &  829\\\\\n\t 13101 & 2014 & 16 &  968\\\\\n\t 13101 & 2014 & 17 &  849\\\\\n\t 13101 & 2014 & 18 &  789\\\\\n\t 13101 & 2014 & 19 &  828\\\\\n\t 13101 & 2014 & 20 &  916\\\\\n\t 13101 & 2014 & 21 & 1011\\\\\n\t 13101 & 2014 & 22 & 1170\\\\\n\t 13101 & 2014 & 23 & 1291\\\\\n\t 13101 & 2014 & 24 & 1406\\\\\n\t 13101 & 2014 & 25 & 1519\\\\\n\t 13101 & 2014 & 26 & 1819\\\\\n\t 13101 & 2014 & 27 & 1807\\\\\n\t 13101 & 2014 & 28 & 1576\\\\\n\t 13101 & 2014 & 29 & 1340\\\\\n\t 13101 & 2014 & 30 &  846\\\\\n\t ⋮ & ⋮ & ⋮ & ⋮\\\\\n\t 8101 & 2023 & 23 & 1659\\\\\n\t 8101 & 2023 & 24 & 1668\\\\\n\t 8101 & 2023 & 25 & 1363\\\\\n\t 8101 & 2023 & 26 & 1306\\\\\n\t 8101 & 2023 & 27 & 1004\\\\\n\t 8101 & 2023 & 28 &  998\\\\\n\t 8101 & 2023 & 29 & 1016\\\\\n\t 8101 & 2023 & 30 & 1199\\\\\n\t 8101 & 2023 & 31 & 1456\\\\\n\t 8101 & 2023 & 32 & 1881\\\\\n\t 8101 & 2023 & 33 & 2057\\\\\n\t 8101 & 2023 & 34 & 1844\\\\\n\t 8101 & 2023 & 35 & 1868\\\\\n\t 8101 & 2023 & 36 & 1977\\\\\n\t 8101 & 2023 & 37 & 1816\\\\\n\t 8101 & 2023 & 38 & 2213\\\\\n\t 8101 & 2023 & 39 & 2159\\\\\n\t 8101 & 2023 & 40 & 2070\\\\\n\t 8101 & 2023 & 41 & 2367\\\\\n\t 8101 & 2023 & 42 & 2459\\\\\n\t 8101 & 2023 & 43 & 2150\\\\\n\t 8101 & 2023 & 44 & 2061\\\\\n\t 8101 & 2023 & 45 & 1805\\\\\n\t 8101 & 2023 & 46 & 1683\\\\\n\t 8101 & 2023 & 47 & 1807\\\\\n\t 8101 & 2023 & 48 & 1579\\\\\n\t 8101 & 2023 & 49 & 1408\\\\\n\t 8101 & 2023 & 50 & 1380\\\\\n\t 8101 & 2023 & 51 & 1294\\\\\n\t 8101 & 2023 & 52 & 1121\\\\\n\\end{tabular}\n",
            "text/plain": [
              "     ComunaCodigo Anio SemanaEstadistica NumTotal\n",
              "1    13101        2014  1                 295    \n",
              "2    13101        2014  2                 648    \n",
              "3    13101        2014  3                 585    \n",
              "4    13101        2014  4                 500    \n",
              "5    13101        2014  5                 444    \n",
              "6    13101        2014  6                 497    \n",
              "7    13101        2014  7                 379    \n",
              "8    13101        2014  8                 424    \n",
              "9    13101        2014  9                 449    \n",
              "10   13101        2014 10                 429    \n",
              "11   13101        2014 11                 659    \n",
              "12   13101        2014 12                 931    \n",
              "13   13101        2014 13                 884    \n",
              "14   13101        2014 14                 881    \n",
              "15   13101        2014 15                 829    \n",
              "16   13101        2014 16                 968    \n",
              "17   13101        2014 17                 849    \n",
              "18   13101        2014 18                 789    \n",
              "19   13101        2014 19                 828    \n",
              "20   13101        2014 20                 916    \n",
              "21   13101        2014 21                1011    \n",
              "22   13101        2014 22                1170    \n",
              "23   13101        2014 23                1291    \n",
              "24   13101        2014 24                1406    \n",
              "25   13101        2014 25                1519    \n",
              "26   13101        2014 26                1819    \n",
              "27   13101        2014 27                1807    \n",
              "28   13101        2014 28                1576    \n",
              "29   13101        2014 29                1340    \n",
              "30   13101        2014 30                 846    \n",
              "⋮    ⋮            ⋮    ⋮                 ⋮       \n",
              "1543 8101         2023 23                1659    \n",
              "1544 8101         2023 24                1668    \n",
              "1545 8101         2023 25                1363    \n",
              "1546 8101         2023 26                1306    \n",
              "1547 8101         2023 27                1004    \n",
              "1548 8101         2023 28                 998    \n",
              "1549 8101         2023 29                1016    \n",
              "1550 8101         2023 30                1199    \n",
              "1551 8101         2023 31                1456    \n",
              "1552 8101         2023 32                1881    \n",
              "1553 8101         2023 33                2057    \n",
              "1554 8101         2023 34                1844    \n",
              "1555 8101         2023 35                1868    \n",
              "1556 8101         2023 36                1977    \n",
              "1557 8101         2023 37                1816    \n",
              "1558 8101         2023 38                2213    \n",
              "1559 8101         2023 39                2159    \n",
              "1560 8101         2023 40                2070    \n",
              "1561 8101         2023 41                2367    \n",
              "1562 8101         2023 42                2459    \n",
              "1563 8101         2023 43                2150    \n",
              "1564 8101         2023 44                2061    \n",
              "1565 8101         2023 45                1805    \n",
              "1566 8101         2023 46                1683    \n",
              "1567 8101         2023 47                1807    \n",
              "1568 8101         2023 48                1579    \n",
              "1569 8101         2023 49                1408    \n",
              "1570 8101         2023 50                1380    \n",
              "1571 8101         2023 51                1294    \n",
              "1572 8101         2023 52                1121    "
            ]
          },
          "metadata": {}
        }
      ]
    },
    {
      "cell_type": "code",
      "source": [
        "#Filtro el dataset par las regiones 8,4 y 13, tambien la causa 3 que es solo totalizador de urgencias reportadas\n",
        "#df_urgr_esp_semanal<- df_urgr_esp_semanal %>% filter (RegionCodigo %in% c(8,4,13) & OrdenCausa != 3)\n",
        "#count(df_urgr_esp_semanal)\n",
        "#head(df_urgr_esp_semanal,5)\n",
        "df_urgr_esp_semanal %>% filter (ComunaGlosa == 'La Serena' & Anio == 2023 & SemanaEstadistica == 47) %>%arrange (Anio)\n",
        "#%>% select(ComunaCodigo, ComunaGlosa) %>% filter(ComunaGlosa == 'Santiago')"
      ],
      "metadata": {
        "colab": {
          "base_uri": "https://localhost:8080/",
          "height": 286
        },
        "id": "SPdSAwt-zfD7",
        "outputId": "e6139b94-cd37-4ba4-cec2-0382342865f8"
      },
      "execution_count": 217,
      "outputs": [
        {
          "output_type": "display_data",
          "data": {
            "text/html": [
              "<table class=\"dataframe\">\n",
              "<caption>A tibble: 6 × 8</caption>\n",
              "<thead>\n",
              "\t<tr><th scope=col>EstablecimientoCodigo</th><th scope=col>ComunaCodigo</th><th scope=col>ComunaGlosa</th><th scope=col>Anio</th><th scope=col>SemanaEstadistica</th><th scope=col>OrdenCausa</th><th scope=col>Causa</th><th scope=col>NumTotal</th></tr>\n",
              "\t<tr><th scope=col>&lt;chr&gt;</th><th scope=col>&lt;chr&gt;</th><th scope=col>&lt;chr&gt;</th><th scope=col>&lt;int&gt;</th><th scope=col>&lt;int&gt;</th><th scope=col>&lt;int&gt;</th><th scope=col>&lt;chr&gt;</th><th scope=col>&lt;int&gt;</th></tr>\n",
              "</thead>\n",
              "<tbody>\n",
              "\t<tr><td>105100</td><td>4101</td><td>La Serena</td><td>2023</td><td>47</td><td>3</td><td>TOTAL CAUSAS SISTEMA RESPIRATORIO</td><td>247</td></tr>\n",
              "\t<tr><td>105819</td><td>4101</td><td>La Serena</td><td>2023</td><td>47</td><td>3</td><td>TOTAL CAUSAS SISTEMA RESPIRATORIO</td><td>276</td></tr>\n",
              "\t<tr><td>200105</td><td>4101</td><td>La Serena</td><td>2023</td><td>47</td><td>3</td><td>TOTAL CAUSAS SISTEMA RESPIRATORIO</td><td> 85</td></tr>\n",
              "\t<tr><td>105825</td><td>4101</td><td>La Serena</td><td>2023</td><td>47</td><td>3</td><td>TOTAL CAUSAS SISTEMA RESPIRATORIO</td><td>153</td></tr>\n",
              "\t<tr><td>105826</td><td>4101</td><td>La Serena</td><td>2023</td><td>47</td><td>3</td><td>TOTAL CAUSAS SISTEMA RESPIRATORIO</td><td>237</td></tr>\n",
              "\t<tr><td>105802</td><td>4101</td><td>La Serena</td><td>2023</td><td>47</td><td>3</td><td>TOTAL CAUSAS SISTEMA RESPIRATORIO</td><td>161</td></tr>\n",
              "</tbody>\n",
              "</table>\n"
            ],
            "text/markdown": "\nA tibble: 6 × 8\n\n| EstablecimientoCodigo &lt;chr&gt; | ComunaCodigo &lt;chr&gt; | ComunaGlosa &lt;chr&gt; | Anio &lt;int&gt; | SemanaEstadistica &lt;int&gt; | OrdenCausa &lt;int&gt; | Causa &lt;chr&gt; | NumTotal &lt;int&gt; |\n|---|---|---|---|---|---|---|---|\n| 105100 | 4101 | La Serena | 2023 | 47 | 3 | TOTAL CAUSAS SISTEMA RESPIRATORIO | 247 |\n| 105819 | 4101 | La Serena | 2023 | 47 | 3 | TOTAL CAUSAS SISTEMA RESPIRATORIO | 276 |\n| 200105 | 4101 | La Serena | 2023 | 47 | 3 | TOTAL CAUSAS SISTEMA RESPIRATORIO |  85 |\n| 105825 | 4101 | La Serena | 2023 | 47 | 3 | TOTAL CAUSAS SISTEMA RESPIRATORIO | 153 |\n| 105826 | 4101 | La Serena | 2023 | 47 | 3 | TOTAL CAUSAS SISTEMA RESPIRATORIO | 237 |\n| 105802 | 4101 | La Serena | 2023 | 47 | 3 | TOTAL CAUSAS SISTEMA RESPIRATORIO | 161 |\n\n",
            "text/latex": "A tibble: 6 × 8\n\\begin{tabular}{llllllll}\n EstablecimientoCodigo & ComunaCodigo & ComunaGlosa & Anio & SemanaEstadistica & OrdenCausa & Causa & NumTotal\\\\\n <chr> & <chr> & <chr> & <int> & <int> & <int> & <chr> & <int>\\\\\n\\hline\n\t 105100 & 4101 & La Serena & 2023 & 47 & 3 & TOTAL CAUSAS SISTEMA RESPIRATORIO & 247\\\\\n\t 105819 & 4101 & La Serena & 2023 & 47 & 3 & TOTAL CAUSAS SISTEMA RESPIRATORIO & 276\\\\\n\t 200105 & 4101 & La Serena & 2023 & 47 & 3 & TOTAL CAUSAS SISTEMA RESPIRATORIO &  85\\\\\n\t 105825 & 4101 & La Serena & 2023 & 47 & 3 & TOTAL CAUSAS SISTEMA RESPIRATORIO & 153\\\\\n\t 105826 & 4101 & La Serena & 2023 & 47 & 3 & TOTAL CAUSAS SISTEMA RESPIRATORIO & 237\\\\\n\t 105802 & 4101 & La Serena & 2023 & 47 & 3 & TOTAL CAUSAS SISTEMA RESPIRATORIO & 161\\\\\n\\end{tabular}\n",
            "text/plain": [
              "  EstablecimientoCodigo ComunaCodigo ComunaGlosa Anio SemanaEstadistica\n",
              "1 105100                4101         La Serena   2023 47               \n",
              "2 105819                4101         La Serena   2023 47               \n",
              "3 200105                4101         La Serena   2023 47               \n",
              "4 105825                4101         La Serena   2023 47               \n",
              "5 105826                4101         La Serena   2023 47               \n",
              "6 105802                4101         La Serena   2023 47               \n",
              "  OrdenCausa Causa                             NumTotal\n",
              "1 3          TOTAL CAUSAS SISTEMA RESPIRATORIO 247     \n",
              "2 3          TOTAL CAUSAS SISTEMA RESPIRATORIO 276     \n",
              "3 3          TOTAL CAUSAS SISTEMA RESPIRATORIO  85     \n",
              "4 3          TOTAL CAUSAS SISTEMA RESPIRATORIO 153     \n",
              "5 3          TOTAL CAUSAS SISTEMA RESPIRATORIO 237     \n",
              "6 3          TOTAL CAUSAS SISTEMA RESPIRATORIO 161     "
            ]
          },
          "metadata": {}
        }
      ]
    },
    {
      "cell_type": "code",
      "source": [
        "#Obtengo el total de urgencias reportadas en todos los años por las 3 regiones.\n",
        "#df_urgr_esp_semanal%>% group_by(RegionGlosa) %>% summarise(Total = sum(NumTotal, na.rm = TRUE))"
      ],
      "metadata": {
        "id": "YBwWoeGzxkZt"
      },
      "execution_count": 209,
      "outputs": []
    },
    {
      "cell_type": "code",
      "source": [
        "# Grafico la cantidad de casos por región\n",
        "#df_plot1<-df_urgr_esp_semanal%>% group_by(RegionGlosa) %>% summarise(Total = sum(NumTotal, na.rm = TRUE))\n",
        "#options(repr.plot.width = 10, repr.plot.height = 10)\n",
        "#ggplot(df_plot1, aes(x=RegionGlosa, y= Total, fill= RegionGlosa)) + geom_bar(stat=\"identity\") +\n",
        "#scale_y_continuous(labels = scales::comma_format(accuracy = 1))+\n",
        "#theme(axis.text.x = element_text(angle = 75, vjust = .5))+\n",
        "#labs(x = \"Región\", y = \"Total Urgencias\", title = \"Total Urgencias x Región\")"
      ],
      "metadata": {
        "id": "9U0Uf1SXnlX9"
      },
      "execution_count": 210,
      "outputs": []
    },
    {
      "cell_type": "code",
      "source": [
        "# Obtengo cantidad de urgencias por año y region\n",
        "#df_resumen <- df_urgr_esp_semanal %>%\n",
        "#  group_by(Anio, RegionGlosa) %>%\n",
        "#  summarise(Total = sum(NumTotal, na.rm = TRUE))\n",
        "#  df_resumen"
      ],
      "metadata": {
        "id": "EmhGoM1e0ZOo"
      },
      "execution_count": 211,
      "outputs": []
    },
    {
      "cell_type": "code",
      "source": [
        "# Obtengo cantidad de urgencias por año, semana y region.\n",
        "#df_resumen <- df_urgr_esp_semanal %>%\n",
        "#  group_by(Anio, SemanaEstadistica, Causa) %>%\n",
        "#  summarise(Total = sum(NumTotal, na.rm = TRUE))\n",
        "#  df_resumen"
      ],
      "metadata": {
        "id": "M-wlfKZigc6v"
      },
      "execution_count": 212,
      "outputs": []
    },
    {
      "cell_type": "code",
      "source": [
        "#df_agrupado <- df_urgr_esp_semanal %>%\n",
        " # group_by(Anio) %>%\n",
        "  #summarise(Total = sum(NumTotal, na.rm = TRUE))\n",
        "#options(repr.plot.width = 15, repr.plot.height = 15)\n",
        "#ggplot(df_agrupado, aes(x = factor(Anio), y = Total)) +\n",
        " # geom_bar(stat = \"identity\", fill = \"steelblue\") +\n",
        " # labs(x = \"Año\", y = \"Total Urgencias\", title = \"Urgencias por Año\") +\n",
        " # theme_minimal()"
      ],
      "metadata": {
        "id": "BxOCdmv31mZe"
      },
      "execution_count": 213,
      "outputs": []
    }
  ]
}