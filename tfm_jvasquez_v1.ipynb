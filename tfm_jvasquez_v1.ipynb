{
  "nbformat": 4,
  "nbformat_minor": 0,
  "metadata": {
    "colab": {
      "provenance": [],
      "authorship_tag": "ABX9TyNSc9r/pMIwQxe8KLjfdNd6",
      "include_colab_link": true
    },
    "kernelspec": {
      "name": "ir",
      "display_name": "R"
    },
    "language_info": {
      "name": "R"
    }
  },
  "cells": [
    {
      "cell_type": "markdown",
      "metadata": {
        "id": "view-in-github",
        "colab_type": "text"
      },
      "source": [
        "<a href=\"https://colab.research.google.com/github/cazathoth/tfm/blob/main/tfm_jvasquez_v1.ipynb\" target=\"_parent\"><img src=\"https://colab.research.google.com/assets/colab-badge.svg\" alt=\"Open In Colab\"/></a>"
      ]
    },
    {
      "cell_type": "code",
      "execution_count": 1,
      "metadata": {
        "colab": {
          "base_uri": "https://localhost:8080/"
        },
        "collapsed": true,
        "id": "dYQtmnm-tU_g",
        "outputId": "7e375d11-7fcb-45e2-cf4c-ad2455a70ea2"
      },
      "outputs": [
        {
          "output_type": "stream",
          "name": "stderr",
          "text": [
            "Installing package into ‘/usr/local/lib/R/site-library’\n",
            "(as ‘lib’ is unspecified)\n",
            "\n",
            "Installing package into ‘/usr/local/lib/R/site-library’\n",
            "(as ‘lib’ is unspecified)\n",
            "\n",
            "also installing the dependency ‘assertthat’\n",
            "\n",
            "\n",
            "Installing package into ‘/usr/local/lib/R/site-library’\n",
            "(as ‘lib’ is unspecified)\n",
            "\n"
          ]
        }
      ],
      "source": [
        "#descarga librerias.\n",
        "install.packages(\"tidyverse\")\n",
        "install.packages(\"arrow\")\n",
        "install.packages(\"lubridate\")\n",
        "#install.packages('devtools')\n",
        "#devtools::install_github('catboost/catboost', subdir = 'catboost/R-package')"
      ]
    },
    {
      "cell_type": "code",
      "source": [
        "#cargo librerias a utilizar.\n",
        "library(\"tidyverse\")\n",
        "library(\"arrow\")\n",
        "library(\"lubridate\")\n",
        "#library(\"catboost\")"
      ],
      "metadata": {
        "collapsed": true,
        "id": "nF9tJ2Z2tcfR",
        "colab": {
          "base_uri": "https://localhost:8080/"
        },
        "outputId": "8c2ddab6-9d23-4e54-ab78-4fd47ba7175b"
      },
      "execution_count": 2,
      "outputs": [
        {
          "output_type": "stream",
          "name": "stderr",
          "text": [
            "── \u001b[1mAttaching core tidyverse packages\u001b[22m ──────────────────────── tidyverse 2.0.0 ──\n",
            "\u001b[32m✔\u001b[39m \u001b[34mdplyr    \u001b[39m 1.1.4     \u001b[32m✔\u001b[39m \u001b[34mreadr    \u001b[39m 2.1.5\n",
            "\u001b[32m✔\u001b[39m \u001b[34mforcats  \u001b[39m 1.0.0     \u001b[32m✔\u001b[39m \u001b[34mstringr  \u001b[39m 1.5.1\n",
            "\u001b[32m✔\u001b[39m \u001b[34mggplot2  \u001b[39m 3.5.1     \u001b[32m✔\u001b[39m \u001b[34mtibble   \u001b[39m 3.2.1\n",
            "\u001b[32m✔\u001b[39m \u001b[34mlubridate\u001b[39m 1.9.3     \u001b[32m✔\u001b[39m \u001b[34mtidyr    \u001b[39m 1.3.1\n",
            "\u001b[32m✔\u001b[39m \u001b[34mpurrr    \u001b[39m 1.0.2     \n",
            "── \u001b[1mConflicts\u001b[22m ────────────────────────────────────────── tidyverse_conflicts() ──\n",
            "\u001b[31m✖\u001b[39m \u001b[34mdplyr\u001b[39m::\u001b[32mfilter()\u001b[39m masks \u001b[34mstats\u001b[39m::filter()\n",
            "\u001b[31m✖\u001b[39m \u001b[34mdplyr\u001b[39m::\u001b[32mlag()\u001b[39m    masks \u001b[34mstats\u001b[39m::lag()\n",
            "\u001b[36mℹ\u001b[39m Use the conflicted package (\u001b[3m\u001b[34m<http://conflicted.r-lib.org/>\u001b[39m\u001b[23m) to force all conflicts to become errors\n",
            "\n",
            "Attaching package: ‘arrow’\n",
            "\n",
            "\n",
            "The following object is masked from ‘package:lubridate’:\n",
            "\n",
            "    duration\n",
            "\n",
            "\n",
            "The following object is masked from ‘package:utils’:\n",
            "\n",
            "    timestamp\n",
            "\n",
            "\n"
          ]
        }
      ]
    },
    {
      "cell_type": "code",
      "source": [
        "#creo directorio y descargo dataset con datos de urgencias respiratorias\n",
        "dir.create(\"descargas\")\n",
        "url <- \"https://datos.gob.cl/dataset/606ef5bb-11d1-475b-b69f-b980da5757f4/resource/ae6c9887-106d-4e98-8875-40bf2b836041/download/at_urg_respiratorio_semanal.parquet\"\n",
        "nombre_temporal <- \"descargas/at_urg_respiratorio_semanal.parquet\"\n",
        "download.file(url, nombre_temporal)"
      ],
      "metadata": {
        "id": "dxpqJfpYxZsn"
      },
      "execution_count": 3,
      "outputs": []
    },
    {
      "cell_type": "code",
      "source": [
        "#Descargo datos meteorologicos- temperatura\n",
        "url <- \"https://raw.githubusercontent.com/cazathoth/data/9ed2ff302d64b81e79eab693e77d12f805ed65ba/MERGE_XXXX_DiarioTs_.csv\"\n",
        "nombre_temporal <- \"descargas/MERGE_XXXX_DiarioTs_.csv\"\n",
        "download.file(url, nombre_temporal)"
      ],
      "metadata": {
        "id": "B5FJdDWXO5fT"
      },
      "execution_count": 4,
      "outputs": []
    },
    {
      "cell_type": "code",
      "source": [
        "#Descargo datos meteorologicos- precipitaciones\n",
        "url <- \"https://raw.githubusercontent.com/cazathoth/data/43bad08be793c38c993d524d182dcb2597e14714/MERGE_DiarioRR.csv\"\n",
        "nombre_temporal <- \"descargas/MERGE_DiarioRR.csv\"\n",
        "download.file(url, nombre_temporal)"
      ],
      "metadata": {
        "id": "hbru5hT8xRMn"
      },
      "execution_count": 5,
      "outputs": []
    },
    {
      "cell_type": "code",
      "source": [
        "#Descargo zip datos meteorologicos- humedad\n",
        "url <- \"https://github.com/cazathoth/data/raw/69c13d02f49cd04ee16ab8063f872e2aa9b2632a/MERGE_Humedad.zip\"\n",
        "nombre_temporal <- \"descargas/MERGE_Humedad.zip\"\n",
        "download.file(url, nombre_temporal)\n",
        "#Descomprimo archivo zip\n",
        "unzip(\"/content/descargas/MERGE_Humedad.zip\", exdir = \"/content/descargas/\")"
      ],
      "metadata": {
        "id": "gvslMr7ohtBQ"
      },
      "execution_count": 6,
      "outputs": []
    },
    {
      "cell_type": "code",
      "source": [
        "#Descargo datos material particulado\n",
        "url <- \"https://raw.githubusercontent.com/cazathoth/data/43bad08be793c38c993d524d182dcb2597e14714/MERGE_MP.csv\"\n",
        "nombre_temporal <- \"descargas/MERGE_MP.csv\"\n",
        "download.file(url, nombre_temporal)"
      ],
      "metadata": {
        "id": "QjmvuWWo0aa6"
      },
      "execution_count": 7,
      "outputs": []
    },
    {
      "cell_type": "code",
      "source": [
        "# Creo data frame urgencias y filtro por comuna de Santiago, La Serena y Concepción, luego cargo los datos\n",
        "df_urgr_esp_semanal <- read_parquet(\"descargas/at_urg_respiratorio_semanal.parquet\", col_select = c ('EstablecimientoCodigo','ComunaCodigo', 'ComunaGlosa', 'Anio', 'SemanaEstadistica','OrdenCausa','Causa','NumTotal'))\n",
        "df_urgr_esp_semanal <- df_urgr_esp_semanal %>% filter (ComunaCodigo %in% c(4101, 8101, 13101) & OrdenCausa ==3)"
      ],
      "metadata": {
        "id": "Qb5IXYxZNZkc"
      },
      "execution_count": 95,
      "outputs": []
    },
    {
      "cell_type": "code",
      "source": [
        "#ano_base <- \"2014-01-01\"\n",
        "#df_datos_temperatura <- read_delim(\"descargas/MERGE_XXXX_DiarioTs_.csv\", delim=\";\",col_select = c('CodigoNacional','momento','MediaCli_Valor','Maxima_Valor','Minima_Valor'), col_types = cols(momento = col_date(format = \"%d-%m-%Y %H:%M:%S\")))\n",
        "#df_datos_temperatura <- df_datos_temperatura %>% filter (momento > ano_base)\n",
        "#head(df_datos_temperatura,15)"
      ],
      "metadata": {
        "id": "a5R_eoKW13Td"
      },
      "execution_count": 96,
      "outputs": []
    },
    {
      "cell_type": "code",
      "source": [
        "#Cargo data frame temperatura y le cargo datos\n",
        "#df_datos_temperatura <- read.csv(\"descargas/MERGE_XXXX_DiarioTs_.csv\", header= TRUE, sep=\";\")\n",
        "df_datos_temperatura <- read_delim(\"descargas/MERGE_XXXX_DiarioTs_.csv\", delim=\";\",col_select = c('CodigoNacional','momento','MediaCli_Valor','Maxima_Valor','Minima_Valor'))\n",
        "head(df_datos_temperatura,5)"
      ],
      "metadata": {
        "id": "kazvPllqQygW",
        "outputId": "d207bfff-9c0b-4dc5-a434-7139517f25d5",
        "colab": {
          "base_uri": "https://localhost:8080/",
          "height": 394
        }
      },
      "execution_count": 97,
      "outputs": [
        {
          "output_type": "stream",
          "name": "stderr",
          "text": [
            "\u001b[1mRows: \u001b[22m\u001b[34m74539\u001b[39m \u001b[1mColumns: \u001b[22m\u001b[34m5\u001b[39m\n",
            "\u001b[36m──\u001b[39m \u001b[1mColumn specification\u001b[22m \u001b[36m────────────────────────────────────────────────────────\u001b[39m\n",
            "\u001b[1mDelimiter:\u001b[22m \";\"\n",
            "\u001b[31mchr\u001b[39m (1): momento\n",
            "\u001b[32mdbl\u001b[39m (4): CodigoNacional, MediaCli_Valor, Maxima_Valor, Minima_Valor\n",
            "\n",
            "\u001b[36mℹ\u001b[39m Use `spec()` to retrieve the full column specification for this data.\n",
            "\u001b[36mℹ\u001b[39m Specify the column types or set `show_col_types = FALSE` to quiet this message.\n"
          ]
        },
        {
          "output_type": "display_data",
          "data": {
            "text/html": [
              "<table class=\"dataframe\">\n",
              "<caption>A tibble: 5 × 5</caption>\n",
              "<thead>\n",
              "\t<tr><th scope=col>CodigoNacional</th><th scope=col>momento</th><th scope=col>MediaCli_Valor</th><th scope=col>Maxima_Valor</th><th scope=col>Minima_Valor</th></tr>\n",
              "\t<tr><th scope=col>&lt;dbl&gt;</th><th scope=col>&lt;chr&gt;</th><th scope=col>&lt;dbl&gt;</th><th scope=col>&lt;dbl&gt;</th><th scope=col>&lt;dbl&gt;</th></tr>\n",
              "</thead>\n",
              "<tbody>\n",
              "\t<tr><td>290004</td><td>01-01-1954 12:00:00</td><td>16.5</td><td>20.6</td><td>12.3</td></tr>\n",
              "\t<tr><td>290004</td><td>02-01-1954 12:00:00</td><td>17.1</td><td>20.4</td><td>13.9</td></tr>\n",
              "\t<tr><td>290004</td><td>03-01-1954 12:00:00</td><td>15.1</td><td>20.0</td><td>10.2</td></tr>\n",
              "\t<tr><td>290004</td><td>04-01-1954 12:00:00</td><td>16.9</td><td>20.8</td><td>13.0</td></tr>\n",
              "\t<tr><td>290004</td><td>05-01-1954 12:00:00</td><td>17.7</td><td>20.4</td><td>15.0</td></tr>\n",
              "</tbody>\n",
              "</table>\n"
            ],
            "text/markdown": "\nA tibble: 5 × 5\n\n| CodigoNacional &lt;dbl&gt; | momento &lt;chr&gt; | MediaCli_Valor &lt;dbl&gt; | Maxima_Valor &lt;dbl&gt; | Minima_Valor &lt;dbl&gt; |\n|---|---|---|---|---|\n| 290004 | 01-01-1954 12:00:00 | 16.5 | 20.6 | 12.3 |\n| 290004 | 02-01-1954 12:00:00 | 17.1 | 20.4 | 13.9 |\n| 290004 | 03-01-1954 12:00:00 | 15.1 | 20.0 | 10.2 |\n| 290004 | 04-01-1954 12:00:00 | 16.9 | 20.8 | 13.0 |\n| 290004 | 05-01-1954 12:00:00 | 17.7 | 20.4 | 15.0 |\n\n",
            "text/latex": "A tibble: 5 × 5\n\\begin{tabular}{lllll}\n CodigoNacional & momento & MediaCli\\_Valor & Maxima\\_Valor & Minima\\_Valor\\\\\n <dbl> & <chr> & <dbl> & <dbl> & <dbl>\\\\\n\\hline\n\t 290004 & 01-01-1954 12:00:00 & 16.5 & 20.6 & 12.3\\\\\n\t 290004 & 02-01-1954 12:00:00 & 17.1 & 20.4 & 13.9\\\\\n\t 290004 & 03-01-1954 12:00:00 & 15.1 & 20.0 & 10.2\\\\\n\t 290004 & 04-01-1954 12:00:00 & 16.9 & 20.8 & 13.0\\\\\n\t 290004 & 05-01-1954 12:00:00 & 17.7 & 20.4 & 15.0\\\\\n\\end{tabular}\n",
            "text/plain": [
              "  CodigoNacional momento             MediaCli_Valor Maxima_Valor Minima_Valor\n",
              "1 290004         01-01-1954 12:00:00 16.5           20.6         12.3        \n",
              "2 290004         02-01-1954 12:00:00 17.1           20.4         13.9        \n",
              "3 290004         03-01-1954 12:00:00 15.1           20.0         10.2        \n",
              "4 290004         04-01-1954 12:00:00 16.9           20.8         13.0        \n",
              "5 290004         05-01-1954 12:00:00 17.7           20.4         15.0        "
            ]
          },
          "metadata": {}
        }
      ]
    },
    {
      "cell_type": "code",
      "source": [
        "#Cargo data frame humedad y le cargo datos\n",
        "df_datos_Humedad <- read.csv(\"descargas/MERGE_Humedad.csv\", header= TRUE, sep=\";\")\n",
        "head(df_datos_Humedad,5)"
      ],
      "metadata": {
        "id": "MiPfpCRzx_iP",
        "colab": {
          "base_uri": "https://localhost:8080/",
          "height": 255
        },
        "outputId": "f8703f98-35d4-4532-d558-591b5aa77fad"
      },
      "execution_count": 98,
      "outputs": [
        {
          "output_type": "display_data",
          "data": {
            "text/html": [
              "<table class=\"dataframe\">\n",
              "<caption>A data.frame: 5 × 3</caption>\n",
              "<thead>\n",
              "\t<tr><th></th><th scope=col>CodigoNacional</th><th scope=col>momento</th><th scope=col>HR_Valor</th></tr>\n",
              "\t<tr><th></th><th scope=col>&lt;int&gt;</th><th scope=col>&lt;chr&gt;</th><th scope=col>&lt;dbl&gt;</th></tr>\n",
              "</thead>\n",
              "<tbody>\n",
              "\t<tr><th scope=row>1</th><td>290004</td><td>01-01-1954 10:00:00</td><td>NA</td></tr>\n",
              "\t<tr><th scope=row>2</th><td>290004</td><td>01-01-1954 11:00:00</td><td>NA</td></tr>\n",
              "\t<tr><th scope=row>3</th><td>290004</td><td>01-01-1954 12:00:00</td><td>NA</td></tr>\n",
              "\t<tr><th scope=row>4</th><td>290004</td><td>01-01-1954 13:00:00</td><td>NA</td></tr>\n",
              "\t<tr><th scope=row>5</th><td>290004</td><td>01-01-1954 14:00:00</td><td>NA</td></tr>\n",
              "</tbody>\n",
              "</table>\n"
            ],
            "text/markdown": "\nA data.frame: 5 × 3\n\n| <!--/--> | CodigoNacional &lt;int&gt; | momento &lt;chr&gt; | HR_Valor &lt;dbl&gt; |\n|---|---|---|---|\n| 1 | 290004 | 01-01-1954 10:00:00 | NA |\n| 2 | 290004 | 01-01-1954 11:00:00 | NA |\n| 3 | 290004 | 01-01-1954 12:00:00 | NA |\n| 4 | 290004 | 01-01-1954 13:00:00 | NA |\n| 5 | 290004 | 01-01-1954 14:00:00 | NA |\n\n",
            "text/latex": "A data.frame: 5 × 3\n\\begin{tabular}{r|lll}\n  & CodigoNacional & momento & HR\\_Valor\\\\\n  & <int> & <chr> & <dbl>\\\\\n\\hline\n\t1 & 290004 & 01-01-1954 10:00:00 & NA\\\\\n\t2 & 290004 & 01-01-1954 11:00:00 & NA\\\\\n\t3 & 290004 & 01-01-1954 12:00:00 & NA\\\\\n\t4 & 290004 & 01-01-1954 13:00:00 & NA\\\\\n\t5 & 290004 & 01-01-1954 14:00:00 & NA\\\\\n\\end{tabular}\n",
            "text/plain": [
              "  CodigoNacional momento             HR_Valor\n",
              "1 290004         01-01-1954 10:00:00 NA      \n",
              "2 290004         01-01-1954 11:00:00 NA      \n",
              "3 290004         01-01-1954 12:00:00 NA      \n",
              "4 290004         01-01-1954 13:00:00 NA      \n",
              "5 290004         01-01-1954 14:00:00 NA      "
            ]
          },
          "metadata": {}
        }
      ]
    },
    {
      "cell_type": "code",
      "source": [
        "#Cargo data frame precipitaciones y le cargo datos\n",
        "#df_datos_Precip <- read.csv(\"descargas/MERGE_DiarioRR.csv\", header= TRUE, sep=\";\")\n",
        "df_datos_Precip <- read_delim(\"descargas/MERGE_DiarioRR.csv\", delim=\";\",col_select = c('CodigoNacional','momento','Total_Valor'))\n",
        "head(df_datos_Precip,5)"
      ],
      "metadata": {
        "id": "fVRhncVIQRM7",
        "colab": {
          "base_uri": "https://localhost:8080/",
          "height": 394
        },
        "outputId": "3e9864fb-6fa8-4da6-e1a6-64374180cc19"
      },
      "execution_count": 99,
      "outputs": [
        {
          "output_type": "stream",
          "name": "stderr",
          "text": [
            "\u001b[1mRows: \u001b[22m\u001b[34m66161\u001b[39m \u001b[1mColumns: \u001b[22m\u001b[34m3\u001b[39m\n",
            "\u001b[36m──\u001b[39m \u001b[1mColumn specification\u001b[22m \u001b[36m────────────────────────────────────────────────────────\u001b[39m\n",
            "\u001b[1mDelimiter:\u001b[22m \";\"\n",
            "\u001b[31mchr\u001b[39m (1): momento\n",
            "\u001b[32mdbl\u001b[39m (2): CodigoNacional, Total_Valor\n",
            "\n",
            "\u001b[36mℹ\u001b[39m Use `spec()` to retrieve the full column specification for this data.\n",
            "\u001b[36mℹ\u001b[39m Specify the column types or set `show_col_types = FALSE` to quiet this message.\n"
          ]
        },
        {
          "output_type": "display_data",
          "data": {
            "text/html": [
              "<table class=\"dataframe\">\n",
              "<caption>A tibble: 5 × 3</caption>\n",
              "<thead>\n",
              "\t<tr><th scope=col>CodigoNacional</th><th scope=col>momento</th><th scope=col>Total_Valor</th></tr>\n",
              "\t<tr><th scope=col>&lt;dbl&gt;</th><th scope=col>&lt;chr&gt;</th><th scope=col>&lt;dbl&gt;</th></tr>\n",
              "</thead>\n",
              "<tbody>\n",
              "\t<tr><td>290004</td><td>01-01-1954 12:00:00</td><td>0</td></tr>\n",
              "\t<tr><td>290004</td><td>02-01-1954 12:00:00</td><td>0</td></tr>\n",
              "\t<tr><td>290004</td><td>03-01-1954 12:00:00</td><td>0</td></tr>\n",
              "\t<tr><td>290004</td><td>04-01-1954 12:00:00</td><td>0</td></tr>\n",
              "\t<tr><td>290004</td><td>05-01-1954 12:00:00</td><td>0</td></tr>\n",
              "</tbody>\n",
              "</table>\n"
            ],
            "text/markdown": "\nA tibble: 5 × 3\n\n| CodigoNacional &lt;dbl&gt; | momento &lt;chr&gt; | Total_Valor &lt;dbl&gt; |\n|---|---|---|\n| 290004 | 01-01-1954 12:00:00 | 0 |\n| 290004 | 02-01-1954 12:00:00 | 0 |\n| 290004 | 03-01-1954 12:00:00 | 0 |\n| 290004 | 04-01-1954 12:00:00 | 0 |\n| 290004 | 05-01-1954 12:00:00 | 0 |\n\n",
            "text/latex": "A tibble: 5 × 3\n\\begin{tabular}{lll}\n CodigoNacional & momento & Total\\_Valor\\\\\n <dbl> & <chr> & <dbl>\\\\\n\\hline\n\t 290004 & 01-01-1954 12:00:00 & 0\\\\\n\t 290004 & 02-01-1954 12:00:00 & 0\\\\\n\t 290004 & 03-01-1954 12:00:00 & 0\\\\\n\t 290004 & 04-01-1954 12:00:00 & 0\\\\\n\t 290004 & 05-01-1954 12:00:00 & 0\\\\\n\\end{tabular}\n",
            "text/plain": [
              "  CodigoNacional momento             Total_Valor\n",
              "1 290004         01-01-1954 12:00:00 0          \n",
              "2 290004         02-01-1954 12:00:00 0          \n",
              "3 290004         03-01-1954 12:00:00 0          \n",
              "4 290004         04-01-1954 12:00:00 0          \n",
              "5 290004         05-01-1954 12:00:00 0          "
            ]
          },
          "metadata": {}
        }
      ]
    },
    {
      "cell_type": "code",
      "source": [
        "#Cargo data frame material particulado y le cargo datos\n",
        "#df_datos_mp25 <- read.csv(\"descargas/MERGE_MP.csv\", header= TRUE, sep=\";\")\n",
        "df_datos_mp25 <- read_delim(\"descargas/MERGE_MP.csv\", delim=\";\",col_select = c('COMUNA', momento = 'FECHA(YYYYMMDD)', registrosValidados='Registros validados'))\n",
        "head(df_datos_mp25,5)"
      ],
      "metadata": {
        "id": "R9-WPc9O08M2",
        "colab": {
          "base_uri": "https://localhost:8080/",
          "height": 498
        },
        "outputId": "35c7f038-40d9-433d-e7ee-afdfe04e129b"
      },
      "execution_count": 100,
      "outputs": [
        {
          "output_type": "stream",
          "name": "stderr",
          "text": [
            "Warning message:\n",
            "“\u001b[1m\u001b[22mOne or more parsing issues, call `problems()` on your data frame for details,\n",
            "e.g.:\n",
            "  dat <- vroom(...)\n",
            "  problems(dat)”\n",
            "\u001b[1mRows: \u001b[22m\u001b[34m18478\u001b[39m \u001b[1mColumns: \u001b[22m\u001b[34m3\u001b[39m\n",
            "\u001b[36m──\u001b[39m \u001b[1mColumn specification\u001b[22m \u001b[36m────────────────────────────────────────────────────────\u001b[39m\n",
            "\u001b[1mDelimiter:\u001b[22m \";\"\n",
            "\u001b[31mchr\u001b[39m (1): COMUNA\n",
            "\u001b[32mdbl\u001b[39m (1): FECHA(YYYYMMDD)\n",
            "\u001b[32mnum\u001b[39m (1): Registros validados\n",
            "\n",
            "\u001b[36mℹ\u001b[39m Use `spec()` to retrieve the full column specification for this data.\n",
            "\u001b[36mℹ\u001b[39m Specify the column types or set `show_col_types = FALSE` to quiet this message.\n"
          ]
        },
        {
          "output_type": "display_data",
          "data": {
            "text/html": [
              "<table class=\"dataframe\">\n",
              "<caption>A tibble: 5 × 3</caption>\n",
              "<thead>\n",
              "\t<tr><th scope=col>COMUNA</th><th scope=col>momento</th><th scope=col>registrosValidados</th></tr>\n",
              "\t<tr><th scope=col>&lt;chr&gt;</th><th scope=col>&lt;dbl&gt;</th><th scope=col>&lt;dbl&gt;</th></tr>\n",
              "</thead>\n",
              "<tbody>\n",
              "\t<tr><td>Concepcion</td><td>20090812</td><td>NA</td></tr>\n",
              "\t<tr><td>Concepcion</td><td>20090813</td><td>NA</td></tr>\n",
              "\t<tr><td>Concepcion</td><td>20090814</td><td>NA</td></tr>\n",
              "\t<tr><td>Concepcion</td><td>20090815</td><td>NA</td></tr>\n",
              "\t<tr><td>Concepcion</td><td>20090816</td><td>NA</td></tr>\n",
              "</tbody>\n",
              "</table>\n"
            ],
            "text/markdown": "\nA tibble: 5 × 3\n\n| COMUNA &lt;chr&gt; | momento &lt;dbl&gt; | registrosValidados &lt;dbl&gt; |\n|---|---|---|\n| Concepcion | 20090812 | NA |\n| Concepcion | 20090813 | NA |\n| Concepcion | 20090814 | NA |\n| Concepcion | 20090815 | NA |\n| Concepcion | 20090816 | NA |\n\n",
            "text/latex": "A tibble: 5 × 3\n\\begin{tabular}{lll}\n COMUNA & momento & registrosValidados\\\\\n <chr> & <dbl> & <dbl>\\\\\n\\hline\n\t Concepcion & 20090812 & NA\\\\\n\t Concepcion & 20090813 & NA\\\\\n\t Concepcion & 20090814 & NA\\\\\n\t Concepcion & 20090815 & NA\\\\\n\t Concepcion & 20090816 & NA\\\\\n\\end{tabular}\n",
            "text/plain": [
              "  COMUNA     momento  registrosValidados\n",
              "1 Concepcion 20090812 NA                \n",
              "2 Concepcion 20090813 NA                \n",
              "3 Concepcion 20090814 NA                \n",
              "4 Concepcion 20090815 NA                \n",
              "5 Concepcion 20090816 NA                "
            ]
          },
          "metadata": {}
        }
      ]
    },
    {
      "cell_type": "code",
      "source": [
        "#formateo fechas en material particulado 2.5.\n",
        "df_datos_mp25$momento <- format(as.Date(as.character(df_datos_mp25$momento),format=\"%Y%m%d\"), format=\"%d-%m-%Y\")\n",
        "#formateo fechas en temperaturas.\n",
        "df_datos_temperatura$momento<- format(as.Date(df_datos_temperatura$momento, format = \"%d-%m-%Y %H:%M:%S\"), format = \"%d-%m-%Y\")\n",
        "#formateo fechas en precipitaciones\n",
        "df_datos_Precip$momento<- format(as.Date(df_datos_Precip$momento, format = \"%d-%m-%Y %H:%M:%S\"), format = \"%d-%m-%Y\")\n",
        "#formateo fechas en humedad\n",
        "df_datos_Humedad$momento<- format(as.Date(df_datos_Humedad$momento, format = \"%d-%m-%Y %H:%M:%S\"), format = \"%d-%m-%Y\")"
      ],
      "metadata": {
        "id": "NjLU6UOu19iR"
      },
      "execution_count": 101,
      "outputs": []
    },
    {
      "cell_type": "code",
      "source": [
        "#Limpio filas con NA en todos los dataframe y chequeo contando posibles NA\n",
        "df_urgr_esp_semanal <- na.omit(df_urgr_esp_semanal)\n",
        "df_datos_temperatura <- na.omit(df_datos_temperatura)\n",
        "df_datos_Precip <- na.omit(df_datos_Precip)\n",
        "df_datos_Humedad <- na.omit(df_datos_Humedad)\n",
        "df_datos_mp25 <- na.omit(df_datos_mp25)\n",
        "sum(!complete.cases(df_urgr_esp_semanal))\n",
        "sum(!complete.cases(df_datos_temperatura))\n",
        "sum(!complete.cases(df_datos_Precip))\n",
        "sum(!complete.cases(df_datos_Humedad))\n",
        "sum(!complete.cases(df_datos_mp25))\n"
      ],
      "metadata": {
        "colab": {
          "base_uri": "https://localhost:8080/",
          "height": 104
        },
        "id": "C7lSYtOa-Q6K",
        "outputId": "6ee7325c-1c5b-4acf-e4d5-5f198a7f154d"
      },
      "execution_count": 102,
      "outputs": [
        {
          "output_type": "display_data",
          "data": {
            "text/html": [
              "0"
            ],
            "text/markdown": "0",
            "text/latex": "0",
            "text/plain": [
              "[1] 0"
            ]
          },
          "metadata": {}
        },
        {
          "output_type": "display_data",
          "data": {
            "text/html": [
              "0"
            ],
            "text/markdown": "0",
            "text/latex": "0",
            "text/plain": [
              "[1] 0"
            ]
          },
          "metadata": {}
        },
        {
          "output_type": "display_data",
          "data": {
            "text/html": [
              "0"
            ],
            "text/markdown": "0",
            "text/latex": "0",
            "text/plain": [
              "[1] 0"
            ]
          },
          "metadata": {}
        },
        {
          "output_type": "display_data",
          "data": {
            "text/html": [
              "0"
            ],
            "text/markdown": "0",
            "text/latex": "0",
            "text/plain": [
              "[1] 0"
            ]
          },
          "metadata": {}
        },
        {
          "output_type": "display_data",
          "data": {
            "text/html": [
              "0"
            ],
            "text/markdown": "0",
            "text/latex": "0",
            "text/plain": [
              "[1] 0"
            ]
          },
          "metadata": {}
        }
      ]
    },
    {
      "cell_type": "code",
      "source": [
        "# agrupo urgencias respiratorias por año, semana y comuna y sumo el total de urgencias para la comuna.\n",
        "df_urgr_esp_semanal <-df_urgr_esp_semanal %>% group_by (ComunaCodigo, Anio, SemanaEstadistica) %>% summarise(NumTotal = sum(NumTotal, na.rm = TRUE)) %>%filter(Anio > 2013 & Anio < 2024)\n",
        "df_urgr_esp_semanal <- as.data.frame(df_urgr_esp_semanal)"
      ],
      "metadata": {
        "id": "7FipNT-leBhx",
        "outputId": "38addec4-50e6-434e-9bdd-0161bdff6c8e",
        "colab": {
          "base_uri": "https://localhost:8080/"
        }
      },
      "execution_count": 103,
      "outputs": [
        {
          "output_type": "stream",
          "name": "stderr",
          "text": [
            "\u001b[1m\u001b[22m`summarise()` has grouped output by 'ComunaCodigo', 'Anio'. You can override\n",
            "using the `.groups` argument.\n"
          ]
        }
      ]
    },
    {
      "cell_type": "code",
      "source": [
        "#obtengo n° de semana de las fechas de mediciones (momento) y agrego columna al data frame temperatura\n",
        "semana<- epiweek(dmy(df_datos_temperatura$momento))\n",
        "ano <- year(dmy(df_datos_temperatura$momento))\n",
        "difTemp <- df_datos_temperatura$Maxima_Valor-df_datos_temperatura$Minima_Valor\n",
        "df_datos_temperatura <- cbind(df_datos_temperatura, NuSemana = semana)\n",
        "df_datos_temperatura <- cbind(df_datos_temperatura, Anio = ano)\n",
        "df_datos_temperatura <- cbind(df_datos_temperatura, difTemp = difTemp)\n",
        "head(df_datos_temperatura,3)"
      ],
      "metadata": {
        "id": "04c0mj5ylC5C",
        "colab": {
          "base_uri": "https://localhost:8080/",
          "height": 192
        },
        "outputId": "e05594dc-8e86-444d-c751-f20428dfb084"
      },
      "execution_count": 104,
      "outputs": [
        {
          "output_type": "display_data",
          "data": {
            "text/html": [
              "<table class=\"dataframe\">\n",
              "<caption>A data.frame: 3 × 8</caption>\n",
              "<thead>\n",
              "\t<tr><th></th><th scope=col>CodigoNacional</th><th scope=col>momento</th><th scope=col>MediaCli_Valor</th><th scope=col>Maxima_Valor</th><th scope=col>Minima_Valor</th><th scope=col>NuSemana</th><th scope=col>Anio</th><th scope=col>difTemp</th></tr>\n",
              "\t<tr><th></th><th scope=col>&lt;dbl&gt;</th><th scope=col>&lt;chr&gt;</th><th scope=col>&lt;dbl&gt;</th><th scope=col>&lt;dbl&gt;</th><th scope=col>&lt;dbl&gt;</th><th scope=col>&lt;dbl&gt;</th><th scope=col>&lt;dbl&gt;</th><th scope=col>&lt;dbl&gt;</th></tr>\n",
              "</thead>\n",
              "<tbody>\n",
              "\t<tr><th scope=row>1</th><td>290004</td><td>01-01-1954</td><td>16.5</td><td>20.6</td><td>12.3</td><td>52</td><td>1954</td><td>8.3</td></tr>\n",
              "\t<tr><th scope=row>2</th><td>290004</td><td>02-01-1954</td><td>17.1</td><td>20.4</td><td>13.9</td><td>52</td><td>1954</td><td>6.5</td></tr>\n",
              "\t<tr><th scope=row>3</th><td>290004</td><td>03-01-1954</td><td>15.1</td><td>20.0</td><td>10.2</td><td> 1</td><td>1954</td><td>9.8</td></tr>\n",
              "</tbody>\n",
              "</table>\n"
            ],
            "text/markdown": "\nA data.frame: 3 × 8\n\n| <!--/--> | CodigoNacional &lt;dbl&gt; | momento &lt;chr&gt; | MediaCli_Valor &lt;dbl&gt; | Maxima_Valor &lt;dbl&gt; | Minima_Valor &lt;dbl&gt; | NuSemana &lt;dbl&gt; | Anio &lt;dbl&gt; | difTemp &lt;dbl&gt; |\n|---|---|---|---|---|---|---|---|---|\n| 1 | 290004 | 01-01-1954 | 16.5 | 20.6 | 12.3 | 52 | 1954 | 8.3 |\n| 2 | 290004 | 02-01-1954 | 17.1 | 20.4 | 13.9 | 52 | 1954 | 6.5 |\n| 3 | 290004 | 03-01-1954 | 15.1 | 20.0 | 10.2 |  1 | 1954 | 9.8 |\n\n",
            "text/latex": "A data.frame: 3 × 8\n\\begin{tabular}{r|llllllll}\n  & CodigoNacional & momento & MediaCli\\_Valor & Maxima\\_Valor & Minima\\_Valor & NuSemana & Anio & difTemp\\\\\n  & <dbl> & <chr> & <dbl> & <dbl> & <dbl> & <dbl> & <dbl> & <dbl>\\\\\n\\hline\n\t1 & 290004 & 01-01-1954 & 16.5 & 20.6 & 12.3 & 52 & 1954 & 8.3\\\\\n\t2 & 290004 & 02-01-1954 & 17.1 & 20.4 & 13.9 & 52 & 1954 & 6.5\\\\\n\t3 & 290004 & 03-01-1954 & 15.1 & 20.0 & 10.2 &  1 & 1954 & 9.8\\\\\n\\end{tabular}\n",
            "text/plain": [
              "  CodigoNacional momento    MediaCli_Valor Maxima_Valor Minima_Valor NuSemana\n",
              "1 290004         01-01-1954 16.5           20.6         12.3         52      \n",
              "2 290004         02-01-1954 17.1           20.4         13.9         52      \n",
              "3 290004         03-01-1954 15.1           20.0         10.2          1      \n",
              "  Anio difTemp\n",
              "1 1954 8.3    \n",
              "2 1954 6.5    \n",
              "3 1954 9.8    "
            ]
          },
          "metadata": {}
        }
      ]
    },
    {
      "cell_type": "code",
      "source": [
        "# Obtengo la media y mediana, de la temperatura para cada semana en cada año.\n",
        "df_datos_temperatura_semanal <- df_datos_temperatura %>% group_by (CodigoNacional,Anio, NuSemana) %>% summarise(medianaClim = median(MediaCli_Valor, na.rm = TRUE),  difMaxMin = median(difTemp, na.rm = TRUE))\n",
        "#Convierto agrupación con media y mediana a data frame\n",
        "df_datos_temperatura_semanal <- as.data.frame (df_datos_temperatura_semanal)\n",
        "#filtro por todo aquellos años >= a 2014\n",
        "df_datos_temperatura_semanal <- df_datos_temperatura_semanal %>% filter(Anio > 2013 & Anio < 2024)\n",
        "head(df_datos_temperatura_semanal,5)\n",
        "\n"
      ],
      "metadata": {
        "id": "lNzHoXEeVd4E",
        "outputId": "c3df162b-22fb-42f8-e998-a6240e905742",
        "colab": {
          "base_uri": "https://localhost:8080/",
          "height": 290
        }
      },
      "execution_count": 105,
      "outputs": [
        {
          "output_type": "stream",
          "name": "stderr",
          "text": [
            "\u001b[1m\u001b[22m`summarise()` has grouped output by 'CodigoNacional', 'Anio'. You can override\n",
            "using the `.groups` argument.\n"
          ]
        },
        {
          "output_type": "display_data",
          "data": {
            "text/html": [
              "<table class=\"dataframe\">\n",
              "<caption>A data.frame: 5 × 5</caption>\n",
              "<thead>\n",
              "\t<tr><th></th><th scope=col>CodigoNacional</th><th scope=col>Anio</th><th scope=col>NuSemana</th><th scope=col>medianaClim</th><th scope=col>difMaxMin</th></tr>\n",
              "\t<tr><th></th><th scope=col>&lt;dbl&gt;</th><th scope=col>&lt;dbl&gt;</th><th scope=col>&lt;dbl&gt;</th><th scope=col>&lt;dbl&gt;</th><th scope=col>&lt;dbl&gt;</th></tr>\n",
              "</thead>\n",
              "<tbody>\n",
              "\t<tr><th scope=row>1</th><td>290004</td><td>2014</td><td>1</td><td>17.6</td><td>7.8</td></tr>\n",
              "\t<tr><th scope=row>2</th><td>290004</td><td>2014</td><td>2</td><td>17.4</td><td>7.5</td></tr>\n",
              "\t<tr><th scope=row>3</th><td>290004</td><td>2014</td><td>3</td><td>17.8</td><td>6.9</td></tr>\n",
              "\t<tr><th scope=row>4</th><td>290004</td><td>2014</td><td>4</td><td>19.0</td><td>6.9</td></tr>\n",
              "\t<tr><th scope=row>5</th><td>290004</td><td>2014</td><td>5</td><td>18.4</td><td>7.6</td></tr>\n",
              "</tbody>\n",
              "</table>\n"
            ],
            "text/markdown": "\nA data.frame: 5 × 5\n\n| <!--/--> | CodigoNacional &lt;dbl&gt; | Anio &lt;dbl&gt; | NuSemana &lt;dbl&gt; | medianaClim &lt;dbl&gt; | difMaxMin &lt;dbl&gt; |\n|---|---|---|---|---|---|\n| 1 | 290004 | 2014 | 1 | 17.6 | 7.8 |\n| 2 | 290004 | 2014 | 2 | 17.4 | 7.5 |\n| 3 | 290004 | 2014 | 3 | 17.8 | 6.9 |\n| 4 | 290004 | 2014 | 4 | 19.0 | 6.9 |\n| 5 | 290004 | 2014 | 5 | 18.4 | 7.6 |\n\n",
            "text/latex": "A data.frame: 5 × 5\n\\begin{tabular}{r|lllll}\n  & CodigoNacional & Anio & NuSemana & medianaClim & difMaxMin\\\\\n  & <dbl> & <dbl> & <dbl> & <dbl> & <dbl>\\\\\n\\hline\n\t1 & 290004 & 2014 & 1 & 17.6 & 7.8\\\\\n\t2 & 290004 & 2014 & 2 & 17.4 & 7.5\\\\\n\t3 & 290004 & 2014 & 3 & 17.8 & 6.9\\\\\n\t4 & 290004 & 2014 & 4 & 19.0 & 6.9\\\\\n\t5 & 290004 & 2014 & 5 & 18.4 & 7.6\\\\\n\\end{tabular}\n",
            "text/plain": [
              "  CodigoNacional Anio NuSemana medianaClim difMaxMin\n",
              "1 290004         2014 1        17.6        7.8      \n",
              "2 290004         2014 2        17.4        7.5      \n",
              "3 290004         2014 3        17.8        6.9      \n",
              "4 290004         2014 4        19.0        6.9      \n",
              "5 290004         2014 5        18.4        7.6      "
            ]
          },
          "metadata": {}
        }
      ]
    },
    {
      "cell_type": "code",
      "source": [
        "#obtengo n° de semana de las fechas de mediciones (momento) y agrego columna al data frame humedad\n",
        "semana<-epiweek(dmy(df_datos_Humedad$momento))\n",
        "ano <- year(dmy(df_datos_Humedad$momento))\n",
        "df_datos_Humedad <- cbind(df_datos_Humedad, NuSemana = semana)\n",
        "df_datos_Humedad <- cbind(df_datos_Humedad, Anio = ano)\n",
        "head(df_datos_Humedad,3)"
      ],
      "metadata": {
        "id": "lXuk86klhdID",
        "outputId": "c44f9081-8750-4b2e-ba65-267fd17d4d8d",
        "colab": {
          "base_uri": "https://localhost:8080/",
          "height": 192
        }
      },
      "execution_count": 106,
      "outputs": [
        {
          "output_type": "display_data",
          "data": {
            "text/html": [
              "<table class=\"dataframe\">\n",
              "<caption>A data.frame: 3 × 5</caption>\n",
              "<thead>\n",
              "\t<tr><th></th><th scope=col>CodigoNacional</th><th scope=col>momento</th><th scope=col>HR_Valor</th><th scope=col>NuSemana</th><th scope=col>Anio</th></tr>\n",
              "\t<tr><th></th><th scope=col>&lt;int&gt;</th><th scope=col>&lt;chr&gt;</th><th scope=col>&lt;dbl&gt;</th><th scope=col>&lt;dbl&gt;</th><th scope=col>&lt;dbl&gt;</th></tr>\n",
              "</thead>\n",
              "<tbody>\n",
              "\t<tr><th scope=row>5113</th><td>290004</td><td>06-01-1963</td><td>95</td><td>2</td><td>1963</td></tr>\n",
              "\t<tr><th scope=row>5114</th><td>290004</td><td>06-01-1963</td><td>93</td><td>2</td><td>1963</td></tr>\n",
              "\t<tr><th scope=row>5115</th><td>290004</td><td>06-01-1963</td><td>89</td><td>2</td><td>1963</td></tr>\n",
              "</tbody>\n",
              "</table>\n"
            ],
            "text/markdown": "\nA data.frame: 3 × 5\n\n| <!--/--> | CodigoNacional &lt;int&gt; | momento &lt;chr&gt; | HR_Valor &lt;dbl&gt; | NuSemana &lt;dbl&gt; | Anio &lt;dbl&gt; |\n|---|---|---|---|---|---|\n| 5113 | 290004 | 06-01-1963 | 95 | 2 | 1963 |\n| 5114 | 290004 | 06-01-1963 | 93 | 2 | 1963 |\n| 5115 | 290004 | 06-01-1963 | 89 | 2 | 1963 |\n\n",
            "text/latex": "A data.frame: 3 × 5\n\\begin{tabular}{r|lllll}\n  & CodigoNacional & momento & HR\\_Valor & NuSemana & Anio\\\\\n  & <int> & <chr> & <dbl> & <dbl> & <dbl>\\\\\n\\hline\n\t5113 & 290004 & 06-01-1963 & 95 & 2 & 1963\\\\\n\t5114 & 290004 & 06-01-1963 & 93 & 2 & 1963\\\\\n\t5115 & 290004 & 06-01-1963 & 89 & 2 & 1963\\\\\n\\end{tabular}\n",
            "text/plain": [
              "     CodigoNacional momento    HR_Valor NuSemana Anio\n",
              "5113 290004         06-01-1963 95       2        1963\n",
              "5114 290004         06-01-1963 93       2        1963\n",
              "5115 290004         06-01-1963 89       2        1963"
            ]
          },
          "metadata": {}
        }
      ]
    },
    {
      "cell_type": "code",
      "source": [
        "# Obtengo la media y mediana, de la temperatura para cada semana en cada año.\n",
        "df_datos_Humedad_semanal <- df_datos_Humedad %>% group_by (CodigoNacional,Anio, NuSemana) %>% summarise(Mediana_HR_Valor = median(HR_Valor, na.rm = TRUE))\n",
        "#Convierto agrupación con media y mediana a data frame\n",
        "df_datos_Humedad_semanal <- as.data.frame (df_datos_Humedad_semanal)\n",
        "#filtro por todo aquellos años >= a 2014\n",
        "df_datos_Humedad_semanal <- df_datos_Humedad_semanal %>% filter(Anio > 2013 & Anio < 2024)\n",
        "head(df_datos_Humedad_semanal,5)"
      ],
      "metadata": {
        "id": "ekP5khJwiS8w",
        "outputId": "28d4f3b0-f3ad-4285-a58f-a18bc4cf953e",
        "colab": {
          "base_uri": "https://localhost:8080/",
          "height": 290
        }
      },
      "execution_count": 107,
      "outputs": [
        {
          "output_type": "stream",
          "name": "stderr",
          "text": [
            "\u001b[1m\u001b[22m`summarise()` has grouped output by 'CodigoNacional', 'Anio'. You can override\n",
            "using the `.groups` argument.\n"
          ]
        },
        {
          "output_type": "display_data",
          "data": {
            "text/html": [
              "<table class=\"dataframe\">\n",
              "<caption>A data.frame: 5 × 4</caption>\n",
              "<thead>\n",
              "\t<tr><th></th><th scope=col>CodigoNacional</th><th scope=col>Anio</th><th scope=col>NuSemana</th><th scope=col>Mediana_HR_Valor</th></tr>\n",
              "\t<tr><th></th><th scope=col>&lt;int&gt;</th><th scope=col>&lt;dbl&gt;</th><th scope=col>&lt;dbl&gt;</th><th scope=col>&lt;dbl&gt;</th></tr>\n",
              "</thead>\n",
              "<tbody>\n",
              "\t<tr><th scope=row>1</th><td>290004</td><td>2014</td><td>1</td><td>76.5</td></tr>\n",
              "\t<tr><th scope=row>2</th><td>290004</td><td>2014</td><td>2</td><td>81.5</td></tr>\n",
              "\t<tr><th scope=row>3</th><td>290004</td><td>2014</td><td>3</td><td>72.5</td></tr>\n",
              "\t<tr><th scope=row>4</th><td>290004</td><td>2014</td><td>4</td><td>76.0</td></tr>\n",
              "\t<tr><th scope=row>5</th><td>290004</td><td>2014</td><td>5</td><td>75.0</td></tr>\n",
              "</tbody>\n",
              "</table>\n"
            ],
            "text/markdown": "\nA data.frame: 5 × 4\n\n| <!--/--> | CodigoNacional &lt;int&gt; | Anio &lt;dbl&gt; | NuSemana &lt;dbl&gt; | Mediana_HR_Valor &lt;dbl&gt; |\n|---|---|---|---|---|\n| 1 | 290004 | 2014 | 1 | 76.5 |\n| 2 | 290004 | 2014 | 2 | 81.5 |\n| 3 | 290004 | 2014 | 3 | 72.5 |\n| 4 | 290004 | 2014 | 4 | 76.0 |\n| 5 | 290004 | 2014 | 5 | 75.0 |\n\n",
            "text/latex": "A data.frame: 5 × 4\n\\begin{tabular}{r|llll}\n  & CodigoNacional & Anio & NuSemana & Mediana\\_HR\\_Valor\\\\\n  & <int> & <dbl> & <dbl> & <dbl>\\\\\n\\hline\n\t1 & 290004 & 2014 & 1 & 76.5\\\\\n\t2 & 290004 & 2014 & 2 & 81.5\\\\\n\t3 & 290004 & 2014 & 3 & 72.5\\\\\n\t4 & 290004 & 2014 & 4 & 76.0\\\\\n\t5 & 290004 & 2014 & 5 & 75.0\\\\\n\\end{tabular}\n",
            "text/plain": [
              "  CodigoNacional Anio NuSemana Mediana_HR_Valor\n",
              "1 290004         2014 1        76.5            \n",
              "2 290004         2014 2        81.5            \n",
              "3 290004         2014 3        72.5            \n",
              "4 290004         2014 4        76.0            \n",
              "5 290004         2014 5        75.0            "
            ]
          },
          "metadata": {}
        }
      ]
    },
    {
      "cell_type": "code",
      "source": [
        "#obtengo n° de semana de las fechas de mediciones (momento) y agrego columna al data frame precipitaciones\n",
        "semana<-epiweek(dmy(df_datos_Precip$momento))\n",
        "ano <- year(dmy(df_datos_Precip$momento))\n",
        "df_datos_Precip <- cbind(df_datos_Precip, NuSemana = semana)\n",
        "df_datos_Precip <- cbind(df_datos_Precip, Anio = ano)\n",
        "head(df_datos_Precip,3)"
      ],
      "metadata": {
        "colab": {
          "base_uri": "https://localhost:8080/",
          "height": 192
        },
        "id": "CdrP6r0bC1t8",
        "outputId": "9ba16aa1-ee95-4658-e3dc-ed59aa7ad45b"
      },
      "execution_count": 108,
      "outputs": [
        {
          "output_type": "display_data",
          "data": {
            "text/html": [
              "<table class=\"dataframe\">\n",
              "<caption>A data.frame: 3 × 5</caption>\n",
              "<thead>\n",
              "\t<tr><th></th><th scope=col>CodigoNacional</th><th scope=col>momento</th><th scope=col>Total_Valor</th><th scope=col>NuSemana</th><th scope=col>Anio</th></tr>\n",
              "\t<tr><th></th><th scope=col>&lt;dbl&gt;</th><th scope=col>&lt;chr&gt;</th><th scope=col>&lt;dbl&gt;</th><th scope=col>&lt;dbl&gt;</th><th scope=col>&lt;dbl&gt;</th></tr>\n",
              "</thead>\n",
              "<tbody>\n",
              "\t<tr><th scope=row>1</th><td>290004</td><td>01-01-1954</td><td>0</td><td>52</td><td>1954</td></tr>\n",
              "\t<tr><th scope=row>2</th><td>290004</td><td>02-01-1954</td><td>0</td><td>52</td><td>1954</td></tr>\n",
              "\t<tr><th scope=row>3</th><td>290004</td><td>03-01-1954</td><td>0</td><td> 1</td><td>1954</td></tr>\n",
              "</tbody>\n",
              "</table>\n"
            ],
            "text/markdown": "\nA data.frame: 3 × 5\n\n| <!--/--> | CodigoNacional &lt;dbl&gt; | momento &lt;chr&gt; | Total_Valor &lt;dbl&gt; | NuSemana &lt;dbl&gt; | Anio &lt;dbl&gt; |\n|---|---|---|---|---|---|\n| 1 | 290004 | 01-01-1954 | 0 | 52 | 1954 |\n| 2 | 290004 | 02-01-1954 | 0 | 52 | 1954 |\n| 3 | 290004 | 03-01-1954 | 0 |  1 | 1954 |\n\n",
            "text/latex": "A data.frame: 3 × 5\n\\begin{tabular}{r|lllll}\n  & CodigoNacional & momento & Total\\_Valor & NuSemana & Anio\\\\\n  & <dbl> & <chr> & <dbl> & <dbl> & <dbl>\\\\\n\\hline\n\t1 & 290004 & 01-01-1954 & 0 & 52 & 1954\\\\\n\t2 & 290004 & 02-01-1954 & 0 & 52 & 1954\\\\\n\t3 & 290004 & 03-01-1954 & 0 &  1 & 1954\\\\\n\\end{tabular}\n",
            "text/plain": [
              "  CodigoNacional momento    Total_Valor NuSemana Anio\n",
              "1 290004         01-01-1954 0           52       1954\n",
              "2 290004         02-01-1954 0           52       1954\n",
              "3 290004         03-01-1954 0            1       1954"
            ]
          },
          "metadata": {}
        }
      ]
    },
    {
      "cell_type": "code",
      "source": [
        "# Agrupo y obtengo la suma de precipitaciones para cada semana en cada año.\n",
        "df_datos_Precip_semanal <- df_datos_Precip %>% group_by (CodigoNacional,Anio, NuSemana) %>% summarise(Total_Valor_sem = sum(Total_Valor, na.rm = TRUE))\n",
        "#Convierto agrupación con media y mediana a data frame\n",
        "df_datos_Precip_semanal <- as.data.frame (df_datos_Precip_semanal)\n",
        "#filtro por todo aquellos años >= a 2014\n",
        "df_datos_Precip_semanal <- df_datos_Precip_semanal %>% filter(Anio > 2013 & Anio < 2024)\n",
        "head(df_datos_Precip_semanal,5)"
      ],
      "metadata": {
        "colab": {
          "base_uri": "https://localhost:8080/",
          "height": 290
        },
        "id": "Iij1RkzSDVQb",
        "outputId": "04c722cc-8dff-4550-ff83-e4cde09b4ef4"
      },
      "execution_count": 109,
      "outputs": [
        {
          "output_type": "stream",
          "name": "stderr",
          "text": [
            "\u001b[1m\u001b[22m`summarise()` has grouped output by 'CodigoNacional', 'Anio'. You can override\n",
            "using the `.groups` argument.\n"
          ]
        },
        {
          "output_type": "display_data",
          "data": {
            "text/html": [
              "<table class=\"dataframe\">\n",
              "<caption>A data.frame: 5 × 4</caption>\n",
              "<thead>\n",
              "\t<tr><th></th><th scope=col>CodigoNacional</th><th scope=col>Anio</th><th scope=col>NuSemana</th><th scope=col>Total_Valor_sem</th></tr>\n",
              "\t<tr><th></th><th scope=col>&lt;dbl&gt;</th><th scope=col>&lt;dbl&gt;</th><th scope=col>&lt;dbl&gt;</th><th scope=col>&lt;dbl&gt;</th></tr>\n",
              "</thead>\n",
              "<tbody>\n",
              "\t<tr><th scope=row>1</th><td>290004</td><td>2014</td><td>1</td><td>0</td></tr>\n",
              "\t<tr><th scope=row>2</th><td>290004</td><td>2014</td><td>2</td><td>0</td></tr>\n",
              "\t<tr><th scope=row>3</th><td>290004</td><td>2014</td><td>3</td><td>0</td></tr>\n",
              "\t<tr><th scope=row>4</th><td>290004</td><td>2014</td><td>4</td><td>0</td></tr>\n",
              "\t<tr><th scope=row>5</th><td>290004</td><td>2014</td><td>5</td><td>0</td></tr>\n",
              "</tbody>\n",
              "</table>\n"
            ],
            "text/markdown": "\nA data.frame: 5 × 4\n\n| <!--/--> | CodigoNacional &lt;dbl&gt; | Anio &lt;dbl&gt; | NuSemana &lt;dbl&gt; | Total_Valor_sem &lt;dbl&gt; |\n|---|---|---|---|---|\n| 1 | 290004 | 2014 | 1 | 0 |\n| 2 | 290004 | 2014 | 2 | 0 |\n| 3 | 290004 | 2014 | 3 | 0 |\n| 4 | 290004 | 2014 | 4 | 0 |\n| 5 | 290004 | 2014 | 5 | 0 |\n\n",
            "text/latex": "A data.frame: 5 × 4\n\\begin{tabular}{r|llll}\n  & CodigoNacional & Anio & NuSemana & Total\\_Valor\\_sem\\\\\n  & <dbl> & <dbl> & <dbl> & <dbl>\\\\\n\\hline\n\t1 & 290004 & 2014 & 1 & 0\\\\\n\t2 & 290004 & 2014 & 2 & 0\\\\\n\t3 & 290004 & 2014 & 3 & 0\\\\\n\t4 & 290004 & 2014 & 4 & 0\\\\\n\t5 & 290004 & 2014 & 5 & 0\\\\\n\\end{tabular}\n",
            "text/plain": [
              "  CodigoNacional Anio NuSemana Total_Valor_sem\n",
              "1 290004         2014 1        0              \n",
              "2 290004         2014 2        0              \n",
              "3 290004         2014 3        0              \n",
              "4 290004         2014 4        0              \n",
              "5 290004         2014 5        0              "
            ]
          },
          "metadata": {}
        }
      ]
    },
    {
      "cell_type": "code",
      "source": [
        "#obtengo n° de semana de las fechas de mediciones (momento) y agrego columna al data frame mp25\n",
        "semana<-epiweek(dmy(df_datos_mp25$momento))\n",
        "ano <- year(dmy(df_datos_mp25$momento))\n",
        "df_datos_mp25 <- cbind(df_datos_mp25, NuSemana = semana)\n",
        "df_datos_mp25 <- cbind(df_datos_mp25, Anio = ano)\n",
        "head(df_datos_mp25,3)"
      ],
      "metadata": {
        "colab": {
          "base_uri": "https://localhost:8080/",
          "height": 192
        },
        "id": "DdjPbon8FhQX",
        "outputId": "3bfbb9ce-25b8-44fe-9888-e96d31f5a070"
      },
      "execution_count": 110,
      "outputs": [
        {
          "output_type": "display_data",
          "data": {
            "text/html": [
              "<table class=\"dataframe\">\n",
              "<caption>A data.frame: 3 × 5</caption>\n",
              "<thead>\n",
              "\t<tr><th></th><th scope=col>COMUNA</th><th scope=col>momento</th><th scope=col>registrosValidados</th><th scope=col>NuSemana</th><th scope=col>Anio</th></tr>\n",
              "\t<tr><th></th><th scope=col>&lt;chr&gt;</th><th scope=col>&lt;chr&gt;</th><th scope=col>&lt;dbl&gt;</th><th scope=col>&lt;dbl&gt;</th><th scope=col>&lt;dbl&gt;</th></tr>\n",
              "</thead>\n",
              "<tbody>\n",
              "\t<tr><th scope=row>1</th><td>Concepcion</td><td>11-06-2017</td><td>33</td><td>24</td><td>2017</td></tr>\n",
              "\t<tr><th scope=row>2</th><td>Concepcion</td><td>12-06-2017</td><td>37</td><td>24</td><td>2017</td></tr>\n",
              "\t<tr><th scope=row>3</th><td>Concepcion</td><td>13-06-2017</td><td>44</td><td>24</td><td>2017</td></tr>\n",
              "</tbody>\n",
              "</table>\n"
            ],
            "text/markdown": "\nA data.frame: 3 × 5\n\n| <!--/--> | COMUNA &lt;chr&gt; | momento &lt;chr&gt; | registrosValidados &lt;dbl&gt; | NuSemana &lt;dbl&gt; | Anio &lt;dbl&gt; |\n|---|---|---|---|---|---|\n| 1 | Concepcion | 11-06-2017 | 33 | 24 | 2017 |\n| 2 | Concepcion | 12-06-2017 | 37 | 24 | 2017 |\n| 3 | Concepcion | 13-06-2017 | 44 | 24 | 2017 |\n\n",
            "text/latex": "A data.frame: 3 × 5\n\\begin{tabular}{r|lllll}\n  & COMUNA & momento & registrosValidados & NuSemana & Anio\\\\\n  & <chr> & <chr> & <dbl> & <dbl> & <dbl>\\\\\n\\hline\n\t1 & Concepcion & 11-06-2017 & 33 & 24 & 2017\\\\\n\t2 & Concepcion & 12-06-2017 & 37 & 24 & 2017\\\\\n\t3 & Concepcion & 13-06-2017 & 44 & 24 & 2017\\\\\n\\end{tabular}\n",
            "text/plain": [
              "  COMUNA     momento    registrosValidados NuSemana Anio\n",
              "1 Concepcion 11-06-2017 33                 24       2017\n",
              "2 Concepcion 12-06-2017 37                 24       2017\n",
              "3 Concepcion 13-06-2017 44                 24       2017"
            ]
          },
          "metadata": {}
        }
      ]
    },
    {
      "cell_type": "code",
      "source": [
        "# Agrupo y obtengo la suma de precipitaciones para cada semana en cada año.\n",
        "df_datos_mp25_semanal <- df_datos_mp25 %>% group_by (COMUNA,Anio, NuSemana) %>% summarise(Total_Valor_sem = sum(registrosValidados, na.rm = TRUE))\n",
        "#Convierto agrupación con media y mediana a data frame\n",
        "df_datos_mp25_semanal <- as.data.frame (df_datos_mp25_semanal)\n",
        "#filtro por todo aquellos años >= a 2014\n",
        "df_datos_mp25_semanal <- df_datos_mp25_semanal %>% filter(Anio > 2013 & Anio < 2024)\n",
        "head(df_datos_mp25_semanal,5)"
      ],
      "metadata": {
        "colab": {
          "base_uri": "https://localhost:8080/",
          "height": 290
        },
        "id": "f9hgqQjDGiJo",
        "outputId": "9cd4f1b6-8741-4878-c47d-141575daffbf"
      },
      "execution_count": 111,
      "outputs": [
        {
          "output_type": "stream",
          "name": "stderr",
          "text": [
            "\u001b[1m\u001b[22m`summarise()` has grouped output by 'COMUNA', 'Anio'. You can override using\n",
            "the `.groups` argument.\n"
          ]
        },
        {
          "output_type": "display_data",
          "data": {
            "text/html": [
              "<table class=\"dataframe\">\n",
              "<caption>A data.frame: 5 × 4</caption>\n",
              "<thead>\n",
              "\t<tr><th></th><th scope=col>COMUNA</th><th scope=col>Anio</th><th scope=col>NuSemana</th><th scope=col>Total_Valor_sem</th></tr>\n",
              "\t<tr><th></th><th scope=col>&lt;chr&gt;</th><th scope=col>&lt;dbl&gt;</th><th scope=col>&lt;dbl&gt;</th><th scope=col>&lt;dbl&gt;</th></tr>\n",
              "</thead>\n",
              "<tbody>\n",
              "\t<tr><th scope=row>1</th><td>Concepcion</td><td>2017</td><td>24</td><td>192</td></tr>\n",
              "\t<tr><th scope=row>2</th><td>Concepcion</td><td>2017</td><td>25</td><td>156</td></tr>\n",
              "\t<tr><th scope=row>3</th><td>Concepcion</td><td>2017</td><td>26</td><td>124</td></tr>\n",
              "\t<tr><th scope=row>4</th><td>Concepcion</td><td>2017</td><td>27</td><td>151</td></tr>\n",
              "\t<tr><th scope=row>5</th><td>Concepcion</td><td>2017</td><td>28</td><td>152</td></tr>\n",
              "</tbody>\n",
              "</table>\n"
            ],
            "text/markdown": "\nA data.frame: 5 × 4\n\n| <!--/--> | COMUNA &lt;chr&gt; | Anio &lt;dbl&gt; | NuSemana &lt;dbl&gt; | Total_Valor_sem &lt;dbl&gt; |\n|---|---|---|---|---|\n| 1 | Concepcion | 2017 | 24 | 192 |\n| 2 | Concepcion | 2017 | 25 | 156 |\n| 3 | Concepcion | 2017 | 26 | 124 |\n| 4 | Concepcion | 2017 | 27 | 151 |\n| 5 | Concepcion | 2017 | 28 | 152 |\n\n",
            "text/latex": "A data.frame: 5 × 4\n\\begin{tabular}{r|llll}\n  & COMUNA & Anio & NuSemana & Total\\_Valor\\_sem\\\\\n  & <chr> & <dbl> & <dbl> & <dbl>\\\\\n\\hline\n\t1 & Concepcion & 2017 & 24 & 192\\\\\n\t2 & Concepcion & 2017 & 25 & 156\\\\\n\t3 & Concepcion & 2017 & 26 & 124\\\\\n\t4 & Concepcion & 2017 & 27 & 151\\\\\n\t5 & Concepcion & 2017 & 28 & 152\\\\\n\\end{tabular}\n",
            "text/plain": [
              "  COMUNA     Anio NuSemana Total_Valor_sem\n",
              "1 Concepcion 2017 24       192            \n",
              "2 Concepcion 2017 25       156            \n",
              "3 Concepcion 2017 26       124            \n",
              "4 Concepcion 2017 27       151            \n",
              "5 Concepcion 2017 28       152            "
            ]
          },
          "metadata": {}
        }
      ]
    },
    {
      "cell_type": "code",
      "source": [
        "count(df_urgr_esp_semanal)\n",
        "write.csv (df_urgr_esp_semanal, \"prueba.csv\")\n",
        "count(df_datos_temperatura_semanal)\n",
        "write.csv (df_datos_temperatura_semanal, \"prueba2.csv\")\n",
        "count(df_datos_Precip_semanal)\n",
        "count(df_datos_Humedad_semanal)\n",
        "count(df_datos_mp25_semanal)"
      ],
      "metadata": {
        "id": "l5FZV3fQbq0R",
        "outputId": "017eb01b-713b-47c3-8f9d-4d7d0c22ac40",
        "colab": {
          "base_uri": "https://localhost:8080/",
          "height": 753
        }
      },
      "execution_count": 112,
      "outputs": [
        {
          "output_type": "display_data",
          "data": {
            "text/html": [
              "<table class=\"dataframe\">\n",
              "<caption>A data.frame: 1 × 1</caption>\n",
              "<thead>\n",
              "\t<tr><th scope=col>n</th></tr>\n",
              "\t<tr><th scope=col>&lt;int&gt;</th></tr>\n",
              "</thead>\n",
              "<tbody>\n",
              "\t<tr><td>1572</td></tr>\n",
              "</tbody>\n",
              "</table>\n"
            ],
            "text/markdown": "\nA data.frame: 1 × 1\n\n| n &lt;int&gt; |\n|---|\n| 1572 |\n\n",
            "text/latex": "A data.frame: 1 × 1\n\\begin{tabular}{l}\n n\\\\\n <int>\\\\\n\\hline\n\t 1572\\\\\n\\end{tabular}\n",
            "text/plain": [
              "  n   \n",
              "1 1572"
            ]
          },
          "metadata": {}
        },
        {
          "output_type": "display_data",
          "data": {
            "text/html": [
              "<table class=\"dataframe\">\n",
              "<caption>A data.frame: 1 × 1</caption>\n",
              "<thead>\n",
              "\t<tr><th scope=col>n</th></tr>\n",
              "\t<tr><th scope=col>&lt;int&gt;</th></tr>\n",
              "</thead>\n",
              "<tbody>\n",
              "\t<tr><td>1572</td></tr>\n",
              "</tbody>\n",
              "</table>\n"
            ],
            "text/markdown": "\nA data.frame: 1 × 1\n\n| n &lt;int&gt; |\n|---|\n| 1572 |\n\n",
            "text/latex": "A data.frame: 1 × 1\n\\begin{tabular}{l}\n n\\\\\n <int>\\\\\n\\hline\n\t 1572\\\\\n\\end{tabular}\n",
            "text/plain": [
              "  n   \n",
              "1 1572"
            ]
          },
          "metadata": {}
        },
        {
          "output_type": "display_data",
          "data": {
            "text/html": [
              "<table class=\"dataframe\">\n",
              "<caption>A data.frame: 1 × 1</caption>\n",
              "<thead>\n",
              "\t<tr><th scope=col>n</th></tr>\n",
              "\t<tr><th scope=col>&lt;int&gt;</th></tr>\n",
              "</thead>\n",
              "<tbody>\n",
              "\t<tr><td>1572</td></tr>\n",
              "</tbody>\n",
              "</table>\n"
            ],
            "text/markdown": "\nA data.frame: 1 × 1\n\n| n &lt;int&gt; |\n|---|\n| 1572 |\n\n",
            "text/latex": "A data.frame: 1 × 1\n\\begin{tabular}{l}\n n\\\\\n <int>\\\\\n\\hline\n\t 1572\\\\\n\\end{tabular}\n",
            "text/plain": [
              "  n   \n",
              "1 1572"
            ]
          },
          "metadata": {}
        },
        {
          "output_type": "display_data",
          "data": {
            "text/html": [
              "<table class=\"dataframe\">\n",
              "<caption>A data.frame: 1 × 1</caption>\n",
              "<thead>\n",
              "\t<tr><th scope=col>n</th></tr>\n",
              "\t<tr><th scope=col>&lt;int&gt;</th></tr>\n",
              "</thead>\n",
              "<tbody>\n",
              "\t<tr><td>1572</td></tr>\n",
              "</tbody>\n",
              "</table>\n"
            ],
            "text/markdown": "\nA data.frame: 1 × 1\n\n| n &lt;int&gt; |\n|---|\n| 1572 |\n\n",
            "text/latex": "A data.frame: 1 × 1\n\\begin{tabular}{l}\n n\\\\\n <int>\\\\\n\\hline\n\t 1572\\\\\n\\end{tabular}\n",
            "text/plain": [
              "  n   \n",
              "1 1572"
            ]
          },
          "metadata": {}
        },
        {
          "output_type": "display_data",
          "data": {
            "text/html": [
              "<table class=\"dataframe\">\n",
              "<caption>A data.frame: 1 × 1</caption>\n",
              "<thead>\n",
              "\t<tr><th scope=col>n</th></tr>\n",
              "\t<tr><th scope=col>&lt;int&gt;</th></tr>\n",
              "</thead>\n",
              "<tbody>\n",
              "\t<tr><td>1370</td></tr>\n",
              "</tbody>\n",
              "</table>\n"
            ],
            "text/markdown": "\nA data.frame: 1 × 1\n\n| n &lt;int&gt; |\n|---|\n| 1370 |\n\n",
            "text/latex": "A data.frame: 1 × 1\n\\begin{tabular}{l}\n n\\\\\n <int>\\\\\n\\hline\n\t 1370\\\\\n\\end{tabular}\n",
            "text/plain": [
              "  n   \n",
              "1 1370"
            ]
          },
          "metadata": {}
        }
      ]
    },
    {
      "cell_type": "code",
      "source": [
        "#Aqui estan todas las causas consideradas. La #3 es un total.\n",
        "#df_urgr_esp_semanal %>% select(OrdenCausa, Causa)%>%distinct()%>%arrange(OrdenCausa)"
      ],
      "metadata": {
        "id": "oREv1_6pveC6"
      },
      "execution_count": 113,
      "outputs": []
    },
    {
      "cell_type": "code",
      "source": [
        "#Filtro el dataset par las regiones 8,4 y 13, tambien la causa 3 que es solo totalizador de urgencias reportadas\n",
        "#df_urgr_esp_semanal<- df_urgr_esp_semanal %>% filter (RegionCodigo %in% c(8,4,13) & OrdenCausa != 3)\n",
        "#count(df_urgr_esp_semanal)\n",
        "#head(df_urgr_esp_semanal,5)\n",
        "#df_urgr_esp_semanal %>% filter (ComunaGlosa == 'La Serena' & Anio == 2023 & SemanaEstadistica == 47) %>%arrange (Anio)\n",
        "#%>% select(ComunaCodigo, ComunaGlosa) %>% filter(ComunaGlosa == 'Santiago')"
      ],
      "metadata": {
        "id": "SPdSAwt-zfD7"
      },
      "execution_count": 114,
      "outputs": []
    },
    {
      "cell_type": "code",
      "source": [
        "#Obtengo el total de urgencias reportadas en todos los años por las 3 regiones.\n",
        "#df_urgr_esp_semanal%>% group_by(RegionGlosa) %>% summarise(Total = sum(NumTotal, na.rm = TRUE))"
      ],
      "metadata": {
        "id": "YBwWoeGzxkZt"
      },
      "execution_count": 115,
      "outputs": []
    },
    {
      "cell_type": "code",
      "source": [
        "# Grafico la cantidad de casos por región\n",
        "#df_plot1<-df_urgr_esp_semanal%>% group_by(RegionGlosa) %>% summarise(Total = sum(NumTotal, na.rm = TRUE))\n",
        "#options(repr.plot.width = 10, repr.plot.height = 10)\n",
        "#ggplot(df_plot1, aes(x=RegionGlosa, y= Total, fill= RegionGlosa)) + geom_bar(stat=\"identity\") +\n",
        "#scale_y_continuous(labels = scales::comma_format(accuracy = 1))+\n",
        "#theme(axis.text.x = element_text(angle = 75, vjust = .5))+\n",
        "#labs(x = \"Región\", y = \"Total Urgencias\", title = \"Total Urgencias x Región\")"
      ],
      "metadata": {
        "id": "9U0Uf1SXnlX9"
      },
      "execution_count": 116,
      "outputs": []
    },
    {
      "cell_type": "code",
      "source": [
        "# Obtengo cantidad de urgencias por año y region\n",
        "#df_resumen <- df_urgr_esp_semanal %>%\n",
        "#  group_by(Anio, RegionGlosa) %>%\n",
        "#  summarise(Total = sum(NumTotal, na.rm = TRUE))\n",
        "#  df_resumen"
      ],
      "metadata": {
        "id": "EmhGoM1e0ZOo"
      },
      "execution_count": 117,
      "outputs": []
    },
    {
      "cell_type": "code",
      "source": [
        "# Obtengo cantidad de urgencias por año, semana y region.\n",
        "#df_resumen <- df_urgr_esp_semanal %>%\n",
        "#  group_by(Anio, SemanaEstadistica, Causa) %>%\n",
        "#  summarise(Total = sum(NumTotal, na.rm = TRUE))\n",
        "#  df_resumen"
      ],
      "metadata": {
        "id": "M-wlfKZigc6v"
      },
      "execution_count": 118,
      "outputs": []
    },
    {
      "cell_type": "code",
      "source": [
        "#df_agrupado <- df_urgr_esp_semanal %>%\n",
        " # group_by(Anio) %>%\n",
        "  #summarise(Total = sum(NumTotal, na.rm = TRUE))\n",
        "#options(repr.plot.width = 15, repr.plot.height = 15)\n",
        "#ggplot(df_agrupado, aes(x = factor(Anio), y = Total)) +\n",
        " # geom_bar(stat = \"identity\", fill = \"steelblue\") +\n",
        " # labs(x = \"Año\", y = \"Total Urgencias\", title = \"Urgencias por Año\") +\n",
        " # theme_minimal()"
      ],
      "metadata": {
        "id": "BxOCdmv31mZe"
      },
      "execution_count": 119,
      "outputs": []
    }
  ]
}