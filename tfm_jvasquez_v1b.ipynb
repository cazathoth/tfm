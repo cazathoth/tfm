{
  "nbformat": 4,
  "nbformat_minor": 0,
  "metadata": {
    "colab": {
      "provenance": [],
      "authorship_tag": "ABX9TyMosdNawVLu56XrC+hiOKoP",
      "include_colab_link": true
    },
    "kernelspec": {
      "name": "ir",
      "display_name": "R"
    },
    "language_info": {
      "name": "R"
    }
  },
  "cells": [
    {
      "cell_type": "markdown",
      "metadata": {
        "id": "view-in-github",
        "colab_type": "text"
      },
      "source": [
        "<a href=\"https://colab.research.google.com/github/cazathoth/tfm/blob/main/tfm_jvasquez_v1b.ipynb\" target=\"_parent\"><img src=\"https://colab.research.google.com/assets/colab-badge.svg\" alt=\"Open In Colab\"/></a>"
      ]
    },
    {
      "cell_type": "code",
      "execution_count": 156,
      "metadata": {
        "colab": {
          "base_uri": "https://localhost:8080/"
        },
        "collapsed": true,
        "id": "dYQtmnm-tU_g",
        "outputId": "58a198c4-09db-4053-fa9f-ca4bc37edd95"
      },
      "outputs": [
        {
          "output_type": "stream",
          "name": "stderr",
          "text": [
            "Installing package into ‘/usr/local/lib/R/site-library’\n",
            "(as ‘lib’ is unspecified)\n",
            "\n",
            "Installing package into ‘/usr/local/lib/R/site-library’\n",
            "(as ‘lib’ is unspecified)\n",
            "\n",
            "Installing package into ‘/usr/local/lib/R/site-library’\n",
            "(as ‘lib’ is unspecified)\n",
            "\n",
            "Installing package into ‘/usr/local/lib/R/site-library’\n",
            "(as ‘lib’ is unspecified)\n",
            "\n",
            "Installing package into ‘/usr/local/lib/R/site-library’\n",
            "(as ‘lib’ is unspecified)\n",
            "\n",
            "Installing package into ‘/usr/local/lib/R/site-library’\n",
            "(as ‘lib’ is unspecified)\n",
            "\n",
            "Installing package into ‘/usr/local/lib/R/site-library’\n",
            "(as ‘lib’ is unspecified)\n",
            "\n",
            "Skipping install of 'catboost' from a github remote, the SHA1 (13b75192) has not changed since last install.\n",
            "  Use `force = TRUE` to force installation\n",
            "\n"
          ]
        }
      ],
      "source": [
        "#descarga librerias.\n",
        "install.packages(\"tidyverse\")\n",
        "install.packages(\"arrow\")\n",
        "install.packages(\"lubridate\")\n",
        "install.packages(\"corrplot\")\n",
        "install.packages('openxlsx')\n",
        "install.packages('devtools')\n",
        "install.packages('caret')\n",
        "devtools::install_github('catboost/catboost', subdir = 'catboost/R-package')"
      ]
    },
    {
      "cell_type": "code",
      "source": [
        "#cargo librerias a utilizar.\n",
        "library(\"tidyverse\")\n",
        "library(\"arrow\")\n",
        "library(\"lubridate\")\n",
        "library (\"corrplot\")\n",
        "library('openxlsx')\n",
        "library('caret')\n",
        "library(\"catboost\")"
      ],
      "metadata": {
        "collapsed": true,
        "id": "nF9tJ2Z2tcfR"
      },
      "execution_count": 157,
      "outputs": []
    },
    {
      "cell_type": "code",
      "source": [
        "#creo directorio y descargo dataset con datos de urgencias respiratorias\n",
        "dir.create(\"descargas\")\n",
        "url <- \"https://datos.gob.cl/dataset/606ef5bb-11d1-475b-b69f-b980da5757f4/resource/ae6c9887-106d-4e98-8875-40bf2b836041/download/at_urg_respiratorio_semanal.parquet\"\n",
        "nombre_temporal <- \"descargas/at_urg_respiratorio_semanal.parquet\"\n",
        "download.file(url, nombre_temporal)"
      ],
      "metadata": {
        "id": "dxpqJfpYxZsn",
        "outputId": "202be357-ea81-42b6-8113-fd1c7f2b53a6",
        "colab": {
          "base_uri": "https://localhost:8080/"
        }
      },
      "execution_count": 158,
      "outputs": [
        {
          "output_type": "stream",
          "name": "stderr",
          "text": [
            "Warning message in dir.create(\"descargas\"):\n",
            "“'descargas' already exists”\n"
          ]
        }
      ]
    },
    {
      "cell_type": "code",
      "source": [
        "#Descargo datos meteorologicos- temperatura\n",
        "url <- \"https://raw.githubusercontent.com/cazathoth/data/9ed2ff302d64b81e79eab693e77d12f805ed65ba/MERGE_XXXX_DiarioTs_.csv\"\n",
        "nombre_temporal <- \"descargas/MERGE_XXXX_DiarioTs_.csv\"\n",
        "download.file(url, nombre_temporal)"
      ],
      "metadata": {
        "id": "B5FJdDWXO5fT"
      },
      "execution_count": 159,
      "outputs": []
    },
    {
      "cell_type": "code",
      "source": [
        "#Descargo datos meteorologicos- precipitaciones\n",
        "url <- \"https://raw.githubusercontent.com/cazathoth/data/43bad08be793c38c993d524d182dcb2597e14714/MERGE_DiarioRR.csv\"\n",
        "nombre_temporal <- \"descargas/MERGE_DiarioRR.csv\"\n",
        "download.file(url, nombre_temporal)"
      ],
      "metadata": {
        "id": "hbru5hT8xRMn"
      },
      "execution_count": 160,
      "outputs": []
    },
    {
      "cell_type": "code",
      "source": [
        "#Descargo zip datos meteorologicos- humedad\n",
        "url <- \"https://github.com/cazathoth/data/raw/69c13d02f49cd04ee16ab8063f872e2aa9b2632a/MERGE_Humedad.zip\"\n",
        "nombre_temporal <- \"descargas/MERGE_Humedad.zip\"\n",
        "download.file(url, nombre_temporal)\n",
        "#Descomprimo archivo zip\n",
        "unzip(\"/content/descargas/MERGE_Humedad.zip\", exdir = \"/content/descargas/\")"
      ],
      "metadata": {
        "id": "gvslMr7ohtBQ"
      },
      "execution_count": 161,
      "outputs": []
    },
    {
      "cell_type": "code",
      "source": [
        "#Descargo datos material particulado\n",
        "url <- \"https://raw.githubusercontent.com/cazathoth/data/6b00e8ef9b16a1802825e7914f998a6dd5e8f486/MERGE_MP.csv\"\n",
        "nombre_temporal <- \"descargas/MERGE_MP.csv\"\n",
        "download.file(url, nombre_temporal)"
      ],
      "metadata": {
        "id": "QjmvuWWo0aa6"
      },
      "execution_count": 162,
      "outputs": []
    },
    {
      "cell_type": "code",
      "source": [
        "# Creo data frame urgencias y filtro por comuna de Santiago, La Serena y Concepción, luego cargo los datos\n",
        "df_urgr_esp_semanal <- read_parquet(\"descargas/at_urg_respiratorio_semanal.parquet\", col_select = c ('EstablecimientoCodigo','ComunaCodigo', COMUNA='ComunaGlosa', 'Anio', NuSemana='SemanaEstadistica','OrdenCausa','Causa','NumTotal'))\n",
        "#Aqui estan todas las causas consideradas. La #3 es un total.\n",
        "df_urgr_esp_semanal %>% select(OrdenCausa, Causa)%>%distinct()%>%arrange(OrdenCausa)"
      ],
      "metadata": {
        "id": "Qb5IXYxZNZkc",
        "outputId": "f5a3f5d9-f28e-48a1-c70e-9148fd1212c8",
        "colab": {
          "base_uri": "https://localhost:8080/",
          "height": 474
        }
      },
      "execution_count": 163,
      "outputs": [
        {
          "output_type": "display_data",
          "data": {
            "text/html": [
              "<table class=\"dataframe\">\n",
              "<caption>A tibble: 12 × 2</caption>\n",
              "<thead>\n",
              "\t<tr><th scope=col>OrdenCausa</th><th scope=col>Causa</th></tr>\n",
              "\t<tr><th scope=col>&lt;int&gt;</th><th scope=col>&lt;chr&gt;</th></tr>\n",
              "</thead>\n",
              "<tbody>\n",
              "\t<tr><td> 3</td><td>TOTAL CAUSAS SISTEMA RESPIRATORIO                      </td></tr>\n",
              "\t<tr><td> 4</td><td>IRA Alta (J00-J06)                                     </td></tr>\n",
              "\t<tr><td> 5</td><td>Influenza (J09-J11)                                    </td></tr>\n",
              "\t<tr><td> 6</td><td>Neumonía (J12-J18)                                     </td></tr>\n",
              "\t<tr><td> 7</td><td>Bronquitis/bronquiolitis aguda (J20-J21)               </td></tr>\n",
              "\t<tr><td> 8</td><td>Crisis obstructiva bronquial (J40-J46)                 </td></tr>\n",
              "\t<tr><td> 9</td><td>Otra causa respiratoria (J22, J30-J39, J47, J60-J98)   </td></tr>\n",
              "\t<tr><td>10</td><td>Covid-19, Virus no identificado U07.2                  </td></tr>\n",
              "\t<tr><td>11</td><td>Covid-19, Virus identificado U07.1                     </td></tr>\n",
              "\t<tr><td>32</td><td>HOSPITALIZACIONES POR CAUSAS SISTEMA RESPIRATORIO      </td></tr>\n",
              "\t<tr><td>33</td><td>HOSPITALIZACIONES COVID-19, VIRUS NO IDENTIFICADO U07.2</td></tr>\n",
              "\t<tr><td>34</td><td>HOSPITALIZACIONES COVID-19, VIRUS IDENTIFICADO U07.1   </td></tr>\n",
              "</tbody>\n",
              "</table>\n"
            ],
            "text/markdown": "\nA tibble: 12 × 2\n\n| OrdenCausa &lt;int&gt; | Causa &lt;chr&gt; |\n|---|---|\n|  3 | TOTAL CAUSAS SISTEMA RESPIRATORIO                       |\n|  4 | IRA Alta (J00-J06)                                      |\n|  5 | Influenza (J09-J11)                                     |\n|  6 | Neumonía (J12-J18)                                      |\n|  7 | Bronquitis/bronquiolitis aguda (J20-J21)                |\n|  8 | Crisis obstructiva bronquial (J40-J46)                  |\n|  9 | Otra causa respiratoria (J22, J30-J39, J47, J60-J98)    |\n| 10 | Covid-19, Virus no identificado U07.2                   |\n| 11 | Covid-19, Virus identificado U07.1                      |\n| 32 | HOSPITALIZACIONES POR CAUSAS SISTEMA RESPIRATORIO       |\n| 33 | HOSPITALIZACIONES COVID-19, VIRUS NO IDENTIFICADO U07.2 |\n| 34 | HOSPITALIZACIONES COVID-19, VIRUS IDENTIFICADO U07.1    |\n\n",
            "text/latex": "A tibble: 12 × 2\n\\begin{tabular}{ll}\n OrdenCausa & Causa\\\\\n <int> & <chr>\\\\\n\\hline\n\t  3 & TOTAL CAUSAS SISTEMA RESPIRATORIO                      \\\\\n\t  4 & IRA Alta (J00-J06)                                     \\\\\n\t  5 & Influenza (J09-J11)                                    \\\\\n\t  6 & Neumonía (J12-J18)                                     \\\\\n\t  7 & Bronquitis/bronquiolitis aguda (J20-J21)               \\\\\n\t  8 & Crisis obstructiva bronquial (J40-J46)                 \\\\\n\t  9 & Otra causa respiratoria (J22, J30-J39, J47, J60-J98)   \\\\\n\t 10 & Covid-19, Virus no identificado U07.2                  \\\\\n\t 11 & Covid-19, Virus identificado U07.1                     \\\\\n\t 32 & HOSPITALIZACIONES POR CAUSAS SISTEMA RESPIRATORIO      \\\\\n\t 33 & HOSPITALIZACIONES COVID-19, VIRUS NO IDENTIFICADO U07.2\\\\\n\t 34 & HOSPITALIZACIONES COVID-19, VIRUS IDENTIFICADO U07.1   \\\\\n\\end{tabular}\n",
            "text/plain": [
              "   OrdenCausa Causa                                                  \n",
              "1   3         TOTAL CAUSAS SISTEMA RESPIRATORIO                      \n",
              "2   4         IRA Alta (J00-J06)                                     \n",
              "3   5         Influenza (J09-J11)                                    \n",
              "4   6         Neumonía (J12-J18)                                     \n",
              "5   7         Bronquitis/bronquiolitis aguda (J20-J21)               \n",
              "6   8         Crisis obstructiva bronquial (J40-J46)                 \n",
              "7   9         Otra causa respiratoria (J22, J30-J39, J47, J60-J98)   \n",
              "8  10         Covid-19, Virus no identificado U07.2                  \n",
              "9  11         Covid-19, Virus identificado U07.1                     \n",
              "10 32         HOSPITALIZACIONES POR CAUSAS SISTEMA RESPIRATORIO      \n",
              "11 33         HOSPITALIZACIONES COVID-19, VIRUS NO IDENTIFICADO U07.2\n",
              "12 34         HOSPITALIZACIONES COVID-19, VIRUS IDENTIFICADO U07.1   "
            ]
          },
          "metadata": {}
        }
      ]
    },
    {
      "cell_type": "code",
      "source": [
        "df_urgr_esp_semanal <- df_urgr_esp_semanal %>% filter (ComunaCodigo %in% c(4101, 8101, 13101) & OrdenCausa ==3)\n",
        "df_urgr_esp_semanal <- df_urgr_esp_semanal %>% rename(COMUNA = ComunaGlosa, NuSemana = SemanaEstadistica)\n",
        "head(df_urgr_esp_semanal,3)"
      ],
      "metadata": {
        "id": "Yx6DRUvE9_W6",
        "outputId": "4285a25f-d90c-4261-ff04-07d1f6869816",
        "colab": {
          "base_uri": "https://localhost:8080/",
          "height": 192
        }
      },
      "execution_count": 164,
      "outputs": [
        {
          "output_type": "display_data",
          "data": {
            "text/html": [
              "<table class=\"dataframe\">\n",
              "<caption>A tibble: 3 × 8</caption>\n",
              "<thead>\n",
              "\t<tr><th scope=col>EstablecimientoCodigo</th><th scope=col>ComunaCodigo</th><th scope=col>COMUNA</th><th scope=col>Anio</th><th scope=col>NuSemana</th><th scope=col>OrdenCausa</th><th scope=col>Causa</th><th scope=col>NumTotal</th></tr>\n",
              "\t<tr><th scope=col>&lt;chr&gt;</th><th scope=col>&lt;chr&gt;</th><th scope=col>&lt;chr&gt;</th><th scope=col>&lt;int&gt;</th><th scope=col>&lt;int&gt;</th><th scope=col>&lt;int&gt;</th><th scope=col>&lt;chr&gt;</th><th scope=col>&lt;int&gt;</th></tr>\n",
              "</thead>\n",
              "<tbody>\n",
              "\t<tr><td>200150</td><td>8101 </td><td>Concepción</td><td>2015</td><td>35</td><td>3</td><td>TOTAL CAUSAS SISTEMA RESPIRATORIO</td><td>563</td></tr>\n",
              "\t<tr><td>111195</td><td>13101</td><td>Santiago  </td><td>2018</td><td> 2</td><td>3</td><td>TOTAL CAUSAS SISTEMA RESPIRATORIO</td><td> 66</td></tr>\n",
              "\t<tr><td>118809</td><td>8101 </td><td>Concepción</td><td>2016</td><td>13</td><td>3</td><td>TOTAL CAUSAS SISTEMA RESPIRATORIO</td><td>179</td></tr>\n",
              "</tbody>\n",
              "</table>\n"
            ],
            "text/markdown": "\nA tibble: 3 × 8\n\n| EstablecimientoCodigo &lt;chr&gt; | ComunaCodigo &lt;chr&gt; | COMUNA &lt;chr&gt; | Anio &lt;int&gt; | NuSemana &lt;int&gt; | OrdenCausa &lt;int&gt; | Causa &lt;chr&gt; | NumTotal &lt;int&gt; |\n|---|---|---|---|---|---|---|---|\n| 200150 | 8101  | Concepción | 2015 | 35 | 3 | TOTAL CAUSAS SISTEMA RESPIRATORIO | 563 |\n| 111195 | 13101 | Santiago   | 2018 |  2 | 3 | TOTAL CAUSAS SISTEMA RESPIRATORIO |  66 |\n| 118809 | 8101  | Concepción | 2016 | 13 | 3 | TOTAL CAUSAS SISTEMA RESPIRATORIO | 179 |\n\n",
            "text/latex": "A tibble: 3 × 8\n\\begin{tabular}{llllllll}\n EstablecimientoCodigo & ComunaCodigo & COMUNA & Anio & NuSemana & OrdenCausa & Causa & NumTotal\\\\\n <chr> & <chr> & <chr> & <int> & <int> & <int> & <chr> & <int>\\\\\n\\hline\n\t 200150 & 8101  & Concepción & 2015 & 35 & 3 & TOTAL CAUSAS SISTEMA RESPIRATORIO & 563\\\\\n\t 111195 & 13101 & Santiago   & 2018 &  2 & 3 & TOTAL CAUSAS SISTEMA RESPIRATORIO &  66\\\\\n\t 118809 & 8101  & Concepción & 2016 & 13 & 3 & TOTAL CAUSAS SISTEMA RESPIRATORIO & 179\\\\\n\\end{tabular}\n",
            "text/plain": [
              "  EstablecimientoCodigo ComunaCodigo COMUNA     Anio NuSemana OrdenCausa\n",
              "1 200150                8101         Concepción 2015 35       3         \n",
              "2 111195                13101        Santiago   2018  2       3         \n",
              "3 118809                8101         Concepción 2016 13       3         \n",
              "  Causa                             NumTotal\n",
              "1 TOTAL CAUSAS SISTEMA RESPIRATORIO 563     \n",
              "2 TOTAL CAUSAS SISTEMA RESPIRATORIO  66     \n",
              "3 TOTAL CAUSAS SISTEMA RESPIRATORIO 179     "
            ]
          },
          "metadata": {}
        }
      ]
    },
    {
      "cell_type": "code",
      "source": [
        "#ano_base <- \"2014-01-01\"\n",
        "#df_datos_temperatura <- read_delim(\"descargas/MERGE_XXXX_DiarioTs_.csv\", delim=\";\",col_select = c('CodigoNacional','momento','MediaCli_Valor','Maxima_Valor','Minima_Valor'), col_types = cols(momento = col_date(format = \"%d-%m-%Y %H:%M:%S\")))\n",
        "#df_datos_temperatura <- df_datos_temperatura %>% filter (momento > ano_base)\n",
        "#head(df_datos_temperatura,15)"
      ],
      "metadata": {
        "id": "a5R_eoKW13Td"
      },
      "execution_count": 165,
      "outputs": []
    },
    {
      "cell_type": "code",
      "source": [
        "#Cargo data frame temperatura y le cargo datos\n",
        "#df_datos_temperatura <- read.csv(\"descargas/MERGE_XXXX_DiarioTs_.csv\", header= TRUE, sep=\";\")\n",
        "df_datos_temperatura <- read_delim(\"descargas/MERGE_XXXX_DiarioTs_.csv\", delim=\";\",col_select = c('CodigoNacional','momento','MediaCli_Valor','Maxima_Valor','Minima_Valor'))\n",
        "head(df_datos_temperatura,3)"
      ],
      "metadata": {
        "id": "kazvPllqQygW",
        "outputId": "351092e7-cb95-4f68-fe59-9557b52a59fd",
        "colab": {
          "base_uri": "https://localhost:8080/",
          "height": 331
        }
      },
      "execution_count": 166,
      "outputs": [
        {
          "output_type": "stream",
          "name": "stderr",
          "text": [
            "\u001b[1mRows: \u001b[22m\u001b[34m74539\u001b[39m \u001b[1mColumns: \u001b[22m\u001b[34m5\u001b[39m\n",
            "\u001b[36m──\u001b[39m \u001b[1mColumn specification\u001b[22m \u001b[36m────────────────────────────────────────────────────────\u001b[39m\n",
            "\u001b[1mDelimiter:\u001b[22m \";\"\n",
            "\u001b[31mchr\u001b[39m (1): momento\n",
            "\u001b[32mdbl\u001b[39m (4): CodigoNacional, MediaCli_Valor, Maxima_Valor, Minima_Valor\n",
            "\n",
            "\u001b[36mℹ\u001b[39m Use `spec()` to retrieve the full column specification for this data.\n",
            "\u001b[36mℹ\u001b[39m Specify the column types or set `show_col_types = FALSE` to quiet this message.\n"
          ]
        },
        {
          "output_type": "display_data",
          "data": {
            "text/html": [
              "<table class=\"dataframe\">\n",
              "<caption>A tibble: 3 × 5</caption>\n",
              "<thead>\n",
              "\t<tr><th scope=col>CodigoNacional</th><th scope=col>momento</th><th scope=col>MediaCli_Valor</th><th scope=col>Maxima_Valor</th><th scope=col>Minima_Valor</th></tr>\n",
              "\t<tr><th scope=col>&lt;dbl&gt;</th><th scope=col>&lt;chr&gt;</th><th scope=col>&lt;dbl&gt;</th><th scope=col>&lt;dbl&gt;</th><th scope=col>&lt;dbl&gt;</th></tr>\n",
              "</thead>\n",
              "<tbody>\n",
              "\t<tr><td>290004</td><td>01-01-1954 12:00:00</td><td>16.5</td><td>20.6</td><td>12.3</td></tr>\n",
              "\t<tr><td>290004</td><td>02-01-1954 12:00:00</td><td>17.1</td><td>20.4</td><td>13.9</td></tr>\n",
              "\t<tr><td>290004</td><td>03-01-1954 12:00:00</td><td>15.1</td><td>20.0</td><td>10.2</td></tr>\n",
              "</tbody>\n",
              "</table>\n"
            ],
            "text/markdown": "\nA tibble: 3 × 5\n\n| CodigoNacional &lt;dbl&gt; | momento &lt;chr&gt; | MediaCli_Valor &lt;dbl&gt; | Maxima_Valor &lt;dbl&gt; | Minima_Valor &lt;dbl&gt; |\n|---|---|---|---|---|\n| 290004 | 01-01-1954 12:00:00 | 16.5 | 20.6 | 12.3 |\n| 290004 | 02-01-1954 12:00:00 | 17.1 | 20.4 | 13.9 |\n| 290004 | 03-01-1954 12:00:00 | 15.1 | 20.0 | 10.2 |\n\n",
            "text/latex": "A tibble: 3 × 5\n\\begin{tabular}{lllll}\n CodigoNacional & momento & MediaCli\\_Valor & Maxima\\_Valor & Minima\\_Valor\\\\\n <dbl> & <chr> & <dbl> & <dbl> & <dbl>\\\\\n\\hline\n\t 290004 & 01-01-1954 12:00:00 & 16.5 & 20.6 & 12.3\\\\\n\t 290004 & 02-01-1954 12:00:00 & 17.1 & 20.4 & 13.9\\\\\n\t 290004 & 03-01-1954 12:00:00 & 15.1 & 20.0 & 10.2\\\\\n\\end{tabular}\n",
            "text/plain": [
              "  CodigoNacional momento             MediaCli_Valor Maxima_Valor Minima_Valor\n",
              "1 290004         01-01-1954 12:00:00 16.5           20.6         12.3        \n",
              "2 290004         02-01-1954 12:00:00 17.1           20.4         13.9        \n",
              "3 290004         03-01-1954 12:00:00 15.1           20.0         10.2        "
            ]
          },
          "metadata": {}
        }
      ]
    },
    {
      "cell_type": "code",
      "source": [
        "#Cargo data frame humedad y le cargo datos\n",
        "df_datos_Humedad <- read.csv(\"descargas/MERGE_Humedad.csv\", header= TRUE, sep=\";\")\n",
        "head(df_datos_Humedad,3)"
      ],
      "metadata": {
        "id": "MiPfpCRzx_iP",
        "colab": {
          "base_uri": "https://localhost:8080/",
          "height": 192
        },
        "outputId": "d37f3556-7843-4d48-f1a7-bf660244a04e"
      },
      "execution_count": 167,
      "outputs": [
        {
          "output_type": "display_data",
          "data": {
            "text/html": [
              "<table class=\"dataframe\">\n",
              "<caption>A data.frame: 3 × 3</caption>\n",
              "<thead>\n",
              "\t<tr><th></th><th scope=col>CodigoNacional</th><th scope=col>momento</th><th scope=col>HR_Valor</th></tr>\n",
              "\t<tr><th></th><th scope=col>&lt;int&gt;</th><th scope=col>&lt;chr&gt;</th><th scope=col>&lt;dbl&gt;</th></tr>\n",
              "</thead>\n",
              "<tbody>\n",
              "\t<tr><th scope=row>1</th><td>290004</td><td>01-01-1954 10:00:00</td><td>NA</td></tr>\n",
              "\t<tr><th scope=row>2</th><td>290004</td><td>01-01-1954 11:00:00</td><td>NA</td></tr>\n",
              "\t<tr><th scope=row>3</th><td>290004</td><td>01-01-1954 12:00:00</td><td>NA</td></tr>\n",
              "</tbody>\n",
              "</table>\n"
            ],
            "text/markdown": "\nA data.frame: 3 × 3\n\n| <!--/--> | CodigoNacional &lt;int&gt; | momento &lt;chr&gt; | HR_Valor &lt;dbl&gt; |\n|---|---|---|---|\n| 1 | 290004 | 01-01-1954 10:00:00 | NA |\n| 2 | 290004 | 01-01-1954 11:00:00 | NA |\n| 3 | 290004 | 01-01-1954 12:00:00 | NA |\n\n",
            "text/latex": "A data.frame: 3 × 3\n\\begin{tabular}{r|lll}\n  & CodigoNacional & momento & HR\\_Valor\\\\\n  & <int> & <chr> & <dbl>\\\\\n\\hline\n\t1 & 290004 & 01-01-1954 10:00:00 & NA\\\\\n\t2 & 290004 & 01-01-1954 11:00:00 & NA\\\\\n\t3 & 290004 & 01-01-1954 12:00:00 & NA\\\\\n\\end{tabular}\n",
            "text/plain": [
              "  CodigoNacional momento             HR_Valor\n",
              "1 290004         01-01-1954 10:00:00 NA      \n",
              "2 290004         01-01-1954 11:00:00 NA      \n",
              "3 290004         01-01-1954 12:00:00 NA      "
            ]
          },
          "metadata": {}
        }
      ]
    },
    {
      "cell_type": "code",
      "source": [
        "#Cargo data frame precipitaciones y le cargo datos\n",
        "#df_datos_Precip <- read.csv(\"descargas/MERGE_DiarioRR.csv\", header= TRUE, sep=\";\")\n",
        "df_datos_Precip <- read_delim(\"descargas/MERGE_DiarioRR.csv\", delim=\";\",col_select = c('CodigoNacional','momento','Total_Valor'))\n",
        "head(df_datos_Precip,3)"
      ],
      "metadata": {
        "id": "fVRhncVIQRM7",
        "colab": {
          "base_uri": "https://localhost:8080/",
          "height": 331
        },
        "outputId": "597ffca3-9ef6-4b2d-882d-295b63e71297"
      },
      "execution_count": 168,
      "outputs": [
        {
          "output_type": "stream",
          "name": "stderr",
          "text": [
            "\u001b[1mRows: \u001b[22m\u001b[34m66161\u001b[39m \u001b[1mColumns: \u001b[22m\u001b[34m3\u001b[39m\n",
            "\u001b[36m──\u001b[39m \u001b[1mColumn specification\u001b[22m \u001b[36m────────────────────────────────────────────────────────\u001b[39m\n",
            "\u001b[1mDelimiter:\u001b[22m \";\"\n",
            "\u001b[31mchr\u001b[39m (1): momento\n",
            "\u001b[32mdbl\u001b[39m (2): CodigoNacional, Total_Valor\n",
            "\n",
            "\u001b[36mℹ\u001b[39m Use `spec()` to retrieve the full column specification for this data.\n",
            "\u001b[36mℹ\u001b[39m Specify the column types or set `show_col_types = FALSE` to quiet this message.\n"
          ]
        },
        {
          "output_type": "display_data",
          "data": {
            "text/html": [
              "<table class=\"dataframe\">\n",
              "<caption>A tibble: 3 × 3</caption>\n",
              "<thead>\n",
              "\t<tr><th scope=col>CodigoNacional</th><th scope=col>momento</th><th scope=col>Total_Valor</th></tr>\n",
              "\t<tr><th scope=col>&lt;dbl&gt;</th><th scope=col>&lt;chr&gt;</th><th scope=col>&lt;dbl&gt;</th></tr>\n",
              "</thead>\n",
              "<tbody>\n",
              "\t<tr><td>290004</td><td>01-01-1954 12:00:00</td><td>0</td></tr>\n",
              "\t<tr><td>290004</td><td>02-01-1954 12:00:00</td><td>0</td></tr>\n",
              "\t<tr><td>290004</td><td>03-01-1954 12:00:00</td><td>0</td></tr>\n",
              "</tbody>\n",
              "</table>\n"
            ],
            "text/markdown": "\nA tibble: 3 × 3\n\n| CodigoNacional &lt;dbl&gt; | momento &lt;chr&gt; | Total_Valor &lt;dbl&gt; |\n|---|---|---|\n| 290004 | 01-01-1954 12:00:00 | 0 |\n| 290004 | 02-01-1954 12:00:00 | 0 |\n| 290004 | 03-01-1954 12:00:00 | 0 |\n\n",
            "text/latex": "A tibble: 3 × 3\n\\begin{tabular}{lll}\n CodigoNacional & momento & Total\\_Valor\\\\\n <dbl> & <chr> & <dbl>\\\\\n\\hline\n\t 290004 & 01-01-1954 12:00:00 & 0\\\\\n\t 290004 & 02-01-1954 12:00:00 & 0\\\\\n\t 290004 & 03-01-1954 12:00:00 & 0\\\\\n\\end{tabular}\n",
            "text/plain": [
              "  CodigoNacional momento             Total_Valor\n",
              "1 290004         01-01-1954 12:00:00 0          \n",
              "2 290004         02-01-1954 12:00:00 0          \n",
              "3 290004         03-01-1954 12:00:00 0          "
            ]
          },
          "metadata": {}
        }
      ]
    },
    {
      "cell_type": "code",
      "source": [
        "#Cargo data frame material particulado y le cargo datos\n",
        "#df_datos_mp25 <- read.csv(\"descargas/MERGE_MP.csv\", header= TRUE, sep=\";\")\n",
        "df_datos_mp25 <- read_delim(\"descargas/MERGE_MP.csv\", delim=\";\",col_select = c('COMUNA', momento = 'FECHA(YYYYMMDD)', registrosValidados='Registros validados', registrosPreliminares='Registros preliminares', registrosNoValidados='Registros no validados' ))\n",
        " df_datos_mp25 <-df_datos_mp25%>%unite(totalMP25, c(registrosValidados,registrosPreliminares, registrosNoValidados), na.rm = TRUE)\n",
        " df_datos_mp25$totalMP25 <- as.double(df_datos_mp25$totalMP25)\n",
        "head(df_datos_mp25,3)"
      ],
      "metadata": {
        "id": "R9-WPc9O08M2",
        "colab": {
          "base_uri": "https://localhost:8080/",
          "height": 331
        },
        "outputId": "481b8d7d-e6f1-4c53-d71d-ab06c3bfe26e"
      },
      "execution_count": 169,
      "outputs": [
        {
          "output_type": "stream",
          "name": "stderr",
          "text": [
            "\u001b[1mRows: \u001b[22m\u001b[34m18476\u001b[39m \u001b[1mColumns: \u001b[22m\u001b[34m5\u001b[39m\n",
            "\u001b[36m──\u001b[39m \u001b[1mColumn specification\u001b[22m \u001b[36m────────────────────────────────────────────────────────\u001b[39m\n",
            "\u001b[1mDelimiter:\u001b[22m \";\"\n",
            "\u001b[31mchr\u001b[39m (1): COMUNA\n",
            "\u001b[32mdbl\u001b[39m (4): Registros validados, Registros preliminares, Registros no validados...\n",
            "\n",
            "\u001b[36mℹ\u001b[39m Use `spec()` to retrieve the full column specification for this data.\n",
            "\u001b[36mℹ\u001b[39m Specify the column types or set `show_col_types = FALSE` to quiet this message.\n"
          ]
        },
        {
          "output_type": "display_data",
          "data": {
            "text/html": [
              "<table class=\"dataframe\">\n",
              "<caption>A tibble: 3 × 3</caption>\n",
              "<thead>\n",
              "\t<tr><th scope=col>COMUNA</th><th scope=col>momento</th><th scope=col>totalMP25</th></tr>\n",
              "\t<tr><th scope=col>&lt;chr&gt;</th><th scope=col>&lt;dbl&gt;</th><th scope=col>&lt;dbl&gt;</th></tr>\n",
              "</thead>\n",
              "<tbody>\n",
              "\t<tr><td>Concepcion</td><td>20090812</td><td>390.2810</td></tr>\n",
              "\t<tr><td>Concepcion</td><td>20090813</td><td> 68.5317</td></tr>\n",
              "\t<tr><td>Concepcion</td><td>20090814</td><td>319.4660</td></tr>\n",
              "</tbody>\n",
              "</table>\n"
            ],
            "text/markdown": "\nA tibble: 3 × 3\n\n| COMUNA &lt;chr&gt; | momento &lt;dbl&gt; | totalMP25 &lt;dbl&gt; |\n|---|---|---|\n| Concepcion | 20090812 | 390.2810 |\n| Concepcion | 20090813 |  68.5317 |\n| Concepcion | 20090814 | 319.4660 |\n\n",
            "text/latex": "A tibble: 3 × 3\n\\begin{tabular}{lll}\n COMUNA & momento & totalMP25\\\\\n <chr> & <dbl> & <dbl>\\\\\n\\hline\n\t Concepcion & 20090812 & 390.2810\\\\\n\t Concepcion & 20090813 &  68.5317\\\\\n\t Concepcion & 20090814 & 319.4660\\\\\n\\end{tabular}\n",
            "text/plain": [
              "  COMUNA     momento  totalMP25\n",
              "1 Concepcion 20090812 390.2810 \n",
              "2 Concepcion 20090813  68.5317 \n",
              "3 Concepcion 20090814 319.4660 "
            ]
          },
          "metadata": {}
        }
      ]
    },
    {
      "cell_type": "code",
      "source": [
        "#formateo fechas en material particulado 2.5.\n",
        "df_datos_mp25$momento <- format(as.Date(as.character(df_datos_mp25$momento),format=\"%Y%m%d\"), format=\"%d-%m-%Y\")\n",
        "#formateo fechas en temperaturas.\n",
        "df_datos_temperatura$momento<- format(as.Date(df_datos_temperatura$momento, format = \"%d-%m-%Y %H:%M:%S\"), format = \"%d-%m-%Y\")\n",
        "#formateo fechas en precipitaciones\n",
        "df_datos_Precip$momento<- format(as.Date(df_datos_Precip$momento, format = \"%d-%m-%Y %H:%M:%S\"), format = \"%d-%m-%Y\")\n",
        "#formateo fechas en humedad\n",
        "df_datos_Humedad$momento<- format(as.Date(df_datos_Humedad$momento, format = \"%d-%m-%Y %H:%M:%S\"), format = \"%d-%m-%Y\")"
      ],
      "metadata": {
        "id": "NjLU6UOu19iR"
      },
      "execution_count": 170,
      "outputs": []
    },
    {
      "cell_type": "code",
      "source": [
        "#Limpio filas con NA en todos los dataframe y chequeo contando posibles NA\n",
        "df_urgr_esp_semanal <- na.omit(df_urgr_esp_semanal)\n",
        "df_datos_temperatura <- na.omit(df_datos_temperatura)\n",
        "#df_datos_Precip <- na.omit(df_datos_Precip)\n",
        "df_datos_Humedad <- na.omit(df_datos_Humedad)\n",
        "#df_datos_mp25 <- na.omit(df_datos_mp25)\n",
        "sum(!complete.cases(df_urgr_esp_semanal))\n",
        "sum(!complete.cases(df_datos_temperatura))\n",
        "sum(!complete.cases(df_datos_Precip))\n",
        "sum(!complete.cases(df_datos_Humedad))\n",
        "sum(!complete.cases(df_datos_mp25))\n",
        "#sum(rowSums(is.na(df_datos_temperatura)) == 2)\n",
        "\n"
      ],
      "metadata": {
        "colab": {
          "base_uri": "https://localhost:8080/",
          "height": 104
        },
        "id": "C7lSYtOa-Q6K",
        "outputId": "c86509b4-f634-44f3-fd11-854ec5c47397"
      },
      "execution_count": 171,
      "outputs": [
        {
          "output_type": "display_data",
          "data": {
            "text/html": [
              "0"
            ],
            "text/markdown": "0",
            "text/latex": "0",
            "text/plain": [
              "[1] 0"
            ]
          },
          "metadata": {}
        },
        {
          "output_type": "display_data",
          "data": {
            "text/html": [
              "0"
            ],
            "text/markdown": "0",
            "text/latex": "0",
            "text/plain": [
              "[1] 0"
            ]
          },
          "metadata": {}
        },
        {
          "output_type": "display_data",
          "data": {
            "text/html": [
              "134"
            ],
            "text/markdown": "134",
            "text/latex": "134",
            "text/plain": [
              "[1] 134"
            ]
          },
          "metadata": {}
        },
        {
          "output_type": "display_data",
          "data": {
            "text/html": [
              "0"
            ],
            "text/markdown": "0",
            "text/latex": "0",
            "text/plain": [
              "[1] 0"
            ]
          },
          "metadata": {}
        },
        {
          "output_type": "display_data",
          "data": {
            "text/html": [
              "1183"
            ],
            "text/markdown": "1183",
            "text/latex": "1183",
            "text/plain": [
              "[1] 1183"
            ]
          },
          "metadata": {}
        }
      ]
    },
    {
      "cell_type": "code",
      "source": [
        "# agrupo urgencias respiratorias por año, semana y comuna y sumo el total de urgencias para la comuna.\n",
        "df_urgr_esp_semanal <-df_urgr_esp_semanal %>% group_by (COMUNA, Anio, NuSemana) %>% summarise(NumTotalUrg = sum(NumTotal, na.rm = TRUE)) %>%filter(Anio > 2013 & Anio < 2024)\n",
        "df_urgr_esp_semanal <- as.data.frame(df_urgr_esp_semanal)\n",
        "df_urgr_esp_semanal$COMUNA[df_urgr_esp_semanal$COMUNA == \"La Serena\"] <- \"LaSerena\"\n",
        "df_urgr_esp_semanal$COMUNA[df_urgr_esp_semanal$COMUNA == \"Concepción\"] <- \"Concepcion\"\n",
        "head(df_urgr_esp_semanal,3)"
      ],
      "metadata": {
        "id": "7FipNT-leBhx",
        "outputId": "a1f2d2a9-5b1e-489a-97c7-e9896969b1fc",
        "colab": {
          "base_uri": "https://localhost:8080/",
          "height": 227
        }
      },
      "execution_count": 172,
      "outputs": [
        {
          "output_type": "stream",
          "name": "stderr",
          "text": [
            "\u001b[1m\u001b[22m`summarise()` has grouped output by 'COMUNA', 'Anio'. You can override using\n",
            "the `.groups` argument.\n"
          ]
        },
        {
          "output_type": "display_data",
          "data": {
            "text/html": [
              "<table class=\"dataframe\">\n",
              "<caption>A data.frame: 3 × 4</caption>\n",
              "<thead>\n",
              "\t<tr><th></th><th scope=col>COMUNA</th><th scope=col>Anio</th><th scope=col>NuSemana</th><th scope=col>NumTotalUrg</th></tr>\n",
              "\t<tr><th></th><th scope=col>&lt;chr&gt;</th><th scope=col>&lt;int&gt;</th><th scope=col>&lt;int&gt;</th><th scope=col>&lt;int&gt;</th></tr>\n",
              "</thead>\n",
              "<tbody>\n",
              "\t<tr><th scope=row>1</th><td>Concepcion</td><td>2014</td><td>1</td><td>574</td></tr>\n",
              "\t<tr><th scope=row>2</th><td>Concepcion</td><td>2014</td><td>2</td><td>965</td></tr>\n",
              "\t<tr><th scope=row>3</th><td>Concepcion</td><td>2014</td><td>3</td><td>763</td></tr>\n",
              "</tbody>\n",
              "</table>\n"
            ],
            "text/markdown": "\nA data.frame: 3 × 4\n\n| <!--/--> | COMUNA &lt;chr&gt; | Anio &lt;int&gt; | NuSemana &lt;int&gt; | NumTotalUrg &lt;int&gt; |\n|---|---|---|---|---|\n| 1 | Concepcion | 2014 | 1 | 574 |\n| 2 | Concepcion | 2014 | 2 | 965 |\n| 3 | Concepcion | 2014 | 3 | 763 |\n\n",
            "text/latex": "A data.frame: 3 × 4\n\\begin{tabular}{r|llll}\n  & COMUNA & Anio & NuSemana & NumTotalUrg\\\\\n  & <chr> & <int> & <int> & <int>\\\\\n\\hline\n\t1 & Concepcion & 2014 & 1 & 574\\\\\n\t2 & Concepcion & 2014 & 2 & 965\\\\\n\t3 & Concepcion & 2014 & 3 & 763\\\\\n\\end{tabular}\n",
            "text/plain": [
              "  COMUNA     Anio NuSemana NumTotalUrg\n",
              "1 Concepcion 2014 1        574        \n",
              "2 Concepcion 2014 2        965        \n",
              "3 Concepcion 2014 3        763        "
            ]
          },
          "metadata": {}
        }
      ]
    },
    {
      "cell_type": "code",
      "source": [
        "#obtengo n° de semana de las fechas de mediciones (momento) y agrego columna al data frame temperatura\n",
        "semana<- epiweek(dmy(df_datos_temperatura$momento))\n",
        "ano <- year(dmy(df_datos_temperatura$momento))\n",
        "difTemp <- df_datos_temperatura$Maxima_Valor-df_datos_temperatura$Minima_Valor\n",
        "df_datos_temperatura <- cbind(df_datos_temperatura, NuSemana = semana)\n",
        "df_datos_temperatura <- cbind(df_datos_temperatura, Anio = ano)\n",
        "df_datos_temperatura <- cbind(df_datos_temperatura, difTemp = difTemp)\n",
        "head(df_datos_temperatura,3)"
      ],
      "metadata": {
        "id": "04c0mj5ylC5C",
        "colab": {
          "base_uri": "https://localhost:8080/",
          "height": 192
        },
        "outputId": "403b37e8-a184-4527-b5f6-d79b9642b833"
      },
      "execution_count": 173,
      "outputs": [
        {
          "output_type": "display_data",
          "data": {
            "text/html": [
              "<table class=\"dataframe\">\n",
              "<caption>A data.frame: 3 × 8</caption>\n",
              "<thead>\n",
              "\t<tr><th></th><th scope=col>CodigoNacional</th><th scope=col>momento</th><th scope=col>MediaCli_Valor</th><th scope=col>Maxima_Valor</th><th scope=col>Minima_Valor</th><th scope=col>NuSemana</th><th scope=col>Anio</th><th scope=col>difTemp</th></tr>\n",
              "\t<tr><th></th><th scope=col>&lt;dbl&gt;</th><th scope=col>&lt;chr&gt;</th><th scope=col>&lt;dbl&gt;</th><th scope=col>&lt;dbl&gt;</th><th scope=col>&lt;dbl&gt;</th><th scope=col>&lt;dbl&gt;</th><th scope=col>&lt;dbl&gt;</th><th scope=col>&lt;dbl&gt;</th></tr>\n",
              "</thead>\n",
              "<tbody>\n",
              "\t<tr><th scope=row>1</th><td>290004</td><td>01-01-1954</td><td>16.5</td><td>20.6</td><td>12.3</td><td>52</td><td>1954</td><td>8.3</td></tr>\n",
              "\t<tr><th scope=row>2</th><td>290004</td><td>02-01-1954</td><td>17.1</td><td>20.4</td><td>13.9</td><td>52</td><td>1954</td><td>6.5</td></tr>\n",
              "\t<tr><th scope=row>3</th><td>290004</td><td>03-01-1954</td><td>15.1</td><td>20.0</td><td>10.2</td><td> 1</td><td>1954</td><td>9.8</td></tr>\n",
              "</tbody>\n",
              "</table>\n"
            ],
            "text/markdown": "\nA data.frame: 3 × 8\n\n| <!--/--> | CodigoNacional &lt;dbl&gt; | momento &lt;chr&gt; | MediaCli_Valor &lt;dbl&gt; | Maxima_Valor &lt;dbl&gt; | Minima_Valor &lt;dbl&gt; | NuSemana &lt;dbl&gt; | Anio &lt;dbl&gt; | difTemp &lt;dbl&gt; |\n|---|---|---|---|---|---|---|---|---|\n| 1 | 290004 | 01-01-1954 | 16.5 | 20.6 | 12.3 | 52 | 1954 | 8.3 |\n| 2 | 290004 | 02-01-1954 | 17.1 | 20.4 | 13.9 | 52 | 1954 | 6.5 |\n| 3 | 290004 | 03-01-1954 | 15.1 | 20.0 | 10.2 |  1 | 1954 | 9.8 |\n\n",
            "text/latex": "A data.frame: 3 × 8\n\\begin{tabular}{r|llllllll}\n  & CodigoNacional & momento & MediaCli\\_Valor & Maxima\\_Valor & Minima\\_Valor & NuSemana & Anio & difTemp\\\\\n  & <dbl> & <chr> & <dbl> & <dbl> & <dbl> & <dbl> & <dbl> & <dbl>\\\\\n\\hline\n\t1 & 290004 & 01-01-1954 & 16.5 & 20.6 & 12.3 & 52 & 1954 & 8.3\\\\\n\t2 & 290004 & 02-01-1954 & 17.1 & 20.4 & 13.9 & 52 & 1954 & 6.5\\\\\n\t3 & 290004 & 03-01-1954 & 15.1 & 20.0 & 10.2 &  1 & 1954 & 9.8\\\\\n\\end{tabular}\n",
            "text/plain": [
              "  CodigoNacional momento    MediaCli_Valor Maxima_Valor Minima_Valor NuSemana\n",
              "1 290004         01-01-1954 16.5           20.6         12.3         52      \n",
              "2 290004         02-01-1954 17.1           20.4         13.9         52      \n",
              "3 290004         03-01-1954 15.1           20.0         10.2          1      \n",
              "  Anio difTemp\n",
              "1 1954 8.3    \n",
              "2 1954 6.5    \n",
              "3 1954 9.8    "
            ]
          },
          "metadata": {}
        }
      ]
    },
    {
      "cell_type": "code",
      "source": [
        "# Obtengo la media y mediana, de la temperatura para cada semana en cada año.\n",
        "df_datos_temperatura_semanal <- df_datos_temperatura %>% group_by (CodigoNacional,Anio, NuSemana) %>% summarise(medianaClim = median(MediaCli_Valor, na.rm = TRUE),  difMaxMin = median(difTemp, na.rm = TRUE))\n",
        "#Convierto agrupación con media y mediana a data frame\n",
        "df_datos_temperatura_semanal <- as.data.frame (df_datos_temperatura_semanal)\n",
        "#filtro por todo aquellos años >= a 2014\n",
        "df_datos_temperatura_semanal <- df_datos_temperatura_semanal %>% filter(Anio > 2013 & Anio < 2024)\n",
        "head(df_datos_temperatura_semanal,3)\n",
        "\n"
      ],
      "metadata": {
        "id": "lNzHoXEeVd4E",
        "outputId": "a1ed77f3-bd40-4eac-e5c7-9edc9f87a498",
        "colab": {
          "base_uri": "https://localhost:8080/",
          "height": 227
        }
      },
      "execution_count": 174,
      "outputs": [
        {
          "output_type": "stream",
          "name": "stderr",
          "text": [
            "\u001b[1m\u001b[22m`summarise()` has grouped output by 'CodigoNacional', 'Anio'. You can override\n",
            "using the `.groups` argument.\n"
          ]
        },
        {
          "output_type": "display_data",
          "data": {
            "text/html": [
              "<table class=\"dataframe\">\n",
              "<caption>A data.frame: 3 × 5</caption>\n",
              "<thead>\n",
              "\t<tr><th></th><th scope=col>CodigoNacional</th><th scope=col>Anio</th><th scope=col>NuSemana</th><th scope=col>medianaClim</th><th scope=col>difMaxMin</th></tr>\n",
              "\t<tr><th></th><th scope=col>&lt;dbl&gt;</th><th scope=col>&lt;dbl&gt;</th><th scope=col>&lt;dbl&gt;</th><th scope=col>&lt;dbl&gt;</th><th scope=col>&lt;dbl&gt;</th></tr>\n",
              "</thead>\n",
              "<tbody>\n",
              "\t<tr><th scope=row>1</th><td>290004</td><td>2014</td><td>1</td><td>17.6</td><td>7.8</td></tr>\n",
              "\t<tr><th scope=row>2</th><td>290004</td><td>2014</td><td>2</td><td>17.4</td><td>7.5</td></tr>\n",
              "\t<tr><th scope=row>3</th><td>290004</td><td>2014</td><td>3</td><td>17.8</td><td>6.9</td></tr>\n",
              "</tbody>\n",
              "</table>\n"
            ],
            "text/markdown": "\nA data.frame: 3 × 5\n\n| <!--/--> | CodigoNacional &lt;dbl&gt; | Anio &lt;dbl&gt; | NuSemana &lt;dbl&gt; | medianaClim &lt;dbl&gt; | difMaxMin &lt;dbl&gt; |\n|---|---|---|---|---|---|\n| 1 | 290004 | 2014 | 1 | 17.6 | 7.8 |\n| 2 | 290004 | 2014 | 2 | 17.4 | 7.5 |\n| 3 | 290004 | 2014 | 3 | 17.8 | 6.9 |\n\n",
            "text/latex": "A data.frame: 3 × 5\n\\begin{tabular}{r|lllll}\n  & CodigoNacional & Anio & NuSemana & medianaClim & difMaxMin\\\\\n  & <dbl> & <dbl> & <dbl> & <dbl> & <dbl>\\\\\n\\hline\n\t1 & 290004 & 2014 & 1 & 17.6 & 7.8\\\\\n\t2 & 290004 & 2014 & 2 & 17.4 & 7.5\\\\\n\t3 & 290004 & 2014 & 3 & 17.8 & 6.9\\\\\n\\end{tabular}\n",
            "text/plain": [
              "  CodigoNacional Anio NuSemana medianaClim difMaxMin\n",
              "1 290004         2014 1        17.6        7.8      \n",
              "2 290004         2014 2        17.4        7.5      \n",
              "3 290004         2014 3        17.8        6.9      "
            ]
          },
          "metadata": {}
        }
      ]
    },
    {
      "cell_type": "code",
      "source": [
        "#obtengo n° de semana de las fechas de mediciones (momento) y agrego columna al data frame humedad\n",
        "semana<-epiweek(dmy(df_datos_Humedad$momento))\n",
        "ano <- year(dmy(df_datos_Humedad$momento))\n",
        "df_datos_Humedad <- cbind(df_datos_Humedad, NuSemana = semana)\n",
        "df_datos_Humedad <- cbind(df_datos_Humedad, Anio = ano)\n",
        "head(df_datos_Humedad,3)"
      ],
      "metadata": {
        "id": "lXuk86klhdID",
        "outputId": "942d6e7f-6fb3-4ec4-a072-2e52cafa8796",
        "colab": {
          "base_uri": "https://localhost:8080/",
          "height": 192
        }
      },
      "execution_count": 175,
      "outputs": [
        {
          "output_type": "display_data",
          "data": {
            "text/html": [
              "<table class=\"dataframe\">\n",
              "<caption>A data.frame: 3 × 5</caption>\n",
              "<thead>\n",
              "\t<tr><th></th><th scope=col>CodigoNacional</th><th scope=col>momento</th><th scope=col>HR_Valor</th><th scope=col>NuSemana</th><th scope=col>Anio</th></tr>\n",
              "\t<tr><th></th><th scope=col>&lt;int&gt;</th><th scope=col>&lt;chr&gt;</th><th scope=col>&lt;dbl&gt;</th><th scope=col>&lt;dbl&gt;</th><th scope=col>&lt;dbl&gt;</th></tr>\n",
              "</thead>\n",
              "<tbody>\n",
              "\t<tr><th scope=row>5113</th><td>290004</td><td>06-01-1963</td><td>95</td><td>2</td><td>1963</td></tr>\n",
              "\t<tr><th scope=row>5114</th><td>290004</td><td>06-01-1963</td><td>93</td><td>2</td><td>1963</td></tr>\n",
              "\t<tr><th scope=row>5115</th><td>290004</td><td>06-01-1963</td><td>89</td><td>2</td><td>1963</td></tr>\n",
              "</tbody>\n",
              "</table>\n"
            ],
            "text/markdown": "\nA data.frame: 3 × 5\n\n| <!--/--> | CodigoNacional &lt;int&gt; | momento &lt;chr&gt; | HR_Valor &lt;dbl&gt; | NuSemana &lt;dbl&gt; | Anio &lt;dbl&gt; |\n|---|---|---|---|---|---|\n| 5113 | 290004 | 06-01-1963 | 95 | 2 | 1963 |\n| 5114 | 290004 | 06-01-1963 | 93 | 2 | 1963 |\n| 5115 | 290004 | 06-01-1963 | 89 | 2 | 1963 |\n\n",
            "text/latex": "A data.frame: 3 × 5\n\\begin{tabular}{r|lllll}\n  & CodigoNacional & momento & HR\\_Valor & NuSemana & Anio\\\\\n  & <int> & <chr> & <dbl> & <dbl> & <dbl>\\\\\n\\hline\n\t5113 & 290004 & 06-01-1963 & 95 & 2 & 1963\\\\\n\t5114 & 290004 & 06-01-1963 & 93 & 2 & 1963\\\\\n\t5115 & 290004 & 06-01-1963 & 89 & 2 & 1963\\\\\n\\end{tabular}\n",
            "text/plain": [
              "     CodigoNacional momento    HR_Valor NuSemana Anio\n",
              "5113 290004         06-01-1963 95       2        1963\n",
              "5114 290004         06-01-1963 93       2        1963\n",
              "5115 290004         06-01-1963 89       2        1963"
            ]
          },
          "metadata": {}
        }
      ]
    },
    {
      "cell_type": "code",
      "source": [
        "# Obtengo la media y mediana, de la temperatura para cada semana en cada año.\n",
        "df_datos_Humedad_semanal <- df_datos_Humedad %>% group_by (CodigoNacional,Anio, NuSemana) %>% summarise(Mediana_HR_Valor = median(HR_Valor, na.rm = TRUE))\n",
        "#Convierto agrupación con media y mediana a data frame\n",
        "df_datos_Humedad_semanal <- as.data.frame (df_datos_Humedad_semanal)\n",
        "#filtro por todo aquellos años >= a 2014\n",
        "df_datos_Humedad_semanal <- df_datos_Humedad_semanal %>% filter(Anio > 2013 & Anio < 2024)\n",
        "head(df_datos_Humedad_semanal,3)"
      ],
      "metadata": {
        "id": "ekP5khJwiS8w",
        "outputId": "664352e1-a482-4082-c22b-570a38b3f2e3",
        "colab": {
          "base_uri": "https://localhost:8080/",
          "height": 227
        }
      },
      "execution_count": 176,
      "outputs": [
        {
          "output_type": "stream",
          "name": "stderr",
          "text": [
            "\u001b[1m\u001b[22m`summarise()` has grouped output by 'CodigoNacional', 'Anio'. You can override\n",
            "using the `.groups` argument.\n"
          ]
        },
        {
          "output_type": "display_data",
          "data": {
            "text/html": [
              "<table class=\"dataframe\">\n",
              "<caption>A data.frame: 3 × 4</caption>\n",
              "<thead>\n",
              "\t<tr><th></th><th scope=col>CodigoNacional</th><th scope=col>Anio</th><th scope=col>NuSemana</th><th scope=col>Mediana_HR_Valor</th></tr>\n",
              "\t<tr><th></th><th scope=col>&lt;int&gt;</th><th scope=col>&lt;dbl&gt;</th><th scope=col>&lt;dbl&gt;</th><th scope=col>&lt;dbl&gt;</th></tr>\n",
              "</thead>\n",
              "<tbody>\n",
              "\t<tr><th scope=row>1</th><td>290004</td><td>2014</td><td>1</td><td>76.5</td></tr>\n",
              "\t<tr><th scope=row>2</th><td>290004</td><td>2014</td><td>2</td><td>81.5</td></tr>\n",
              "\t<tr><th scope=row>3</th><td>290004</td><td>2014</td><td>3</td><td>72.5</td></tr>\n",
              "</tbody>\n",
              "</table>\n"
            ],
            "text/markdown": "\nA data.frame: 3 × 4\n\n| <!--/--> | CodigoNacional &lt;int&gt; | Anio &lt;dbl&gt; | NuSemana &lt;dbl&gt; | Mediana_HR_Valor &lt;dbl&gt; |\n|---|---|---|---|---|\n| 1 | 290004 | 2014 | 1 | 76.5 |\n| 2 | 290004 | 2014 | 2 | 81.5 |\n| 3 | 290004 | 2014 | 3 | 72.5 |\n\n",
            "text/latex": "A data.frame: 3 × 4\n\\begin{tabular}{r|llll}\n  & CodigoNacional & Anio & NuSemana & Mediana\\_HR\\_Valor\\\\\n  & <int> & <dbl> & <dbl> & <dbl>\\\\\n\\hline\n\t1 & 290004 & 2014 & 1 & 76.5\\\\\n\t2 & 290004 & 2014 & 2 & 81.5\\\\\n\t3 & 290004 & 2014 & 3 & 72.5\\\\\n\\end{tabular}\n",
            "text/plain": [
              "  CodigoNacional Anio NuSemana Mediana_HR_Valor\n",
              "1 290004         2014 1        76.5            \n",
              "2 290004         2014 2        81.5            \n",
              "3 290004         2014 3        72.5            "
            ]
          },
          "metadata": {}
        }
      ]
    },
    {
      "cell_type": "code",
      "source": [
        "#obtengo n° de semana de las fechas de mediciones (momento) y agrego columna al data frame precipitaciones\n",
        "semana<-epiweek(dmy(df_datos_Precip$momento))\n",
        "ano <- year(dmy(df_datos_Precip$momento))\n",
        "df_datos_Precip <- cbind(df_datos_Precip, NuSemana = semana)\n",
        "df_datos_Precip <- cbind(df_datos_Precip, Anio = ano)\n",
        "head(df_datos_Precip,3)"
      ],
      "metadata": {
        "colab": {
          "base_uri": "https://localhost:8080/",
          "height": 192
        },
        "id": "CdrP6r0bC1t8",
        "outputId": "3ffc8685-343d-490e-8ba5-efb54c325bb5"
      },
      "execution_count": 177,
      "outputs": [
        {
          "output_type": "display_data",
          "data": {
            "text/html": [
              "<table class=\"dataframe\">\n",
              "<caption>A data.frame: 3 × 5</caption>\n",
              "<thead>\n",
              "\t<tr><th></th><th scope=col>CodigoNacional</th><th scope=col>momento</th><th scope=col>Total_Valor</th><th scope=col>NuSemana</th><th scope=col>Anio</th></tr>\n",
              "\t<tr><th></th><th scope=col>&lt;dbl&gt;</th><th scope=col>&lt;chr&gt;</th><th scope=col>&lt;dbl&gt;</th><th scope=col>&lt;dbl&gt;</th><th scope=col>&lt;dbl&gt;</th></tr>\n",
              "</thead>\n",
              "<tbody>\n",
              "\t<tr><th scope=row>1</th><td>290004</td><td>01-01-1954</td><td>0</td><td>52</td><td>1954</td></tr>\n",
              "\t<tr><th scope=row>2</th><td>290004</td><td>02-01-1954</td><td>0</td><td>52</td><td>1954</td></tr>\n",
              "\t<tr><th scope=row>3</th><td>290004</td><td>03-01-1954</td><td>0</td><td> 1</td><td>1954</td></tr>\n",
              "</tbody>\n",
              "</table>\n"
            ],
            "text/markdown": "\nA data.frame: 3 × 5\n\n| <!--/--> | CodigoNacional &lt;dbl&gt; | momento &lt;chr&gt; | Total_Valor &lt;dbl&gt; | NuSemana &lt;dbl&gt; | Anio &lt;dbl&gt; |\n|---|---|---|---|---|---|\n| 1 | 290004 | 01-01-1954 | 0 | 52 | 1954 |\n| 2 | 290004 | 02-01-1954 | 0 | 52 | 1954 |\n| 3 | 290004 | 03-01-1954 | 0 |  1 | 1954 |\n\n",
            "text/latex": "A data.frame: 3 × 5\n\\begin{tabular}{r|lllll}\n  & CodigoNacional & momento & Total\\_Valor & NuSemana & Anio\\\\\n  & <dbl> & <chr> & <dbl> & <dbl> & <dbl>\\\\\n\\hline\n\t1 & 290004 & 01-01-1954 & 0 & 52 & 1954\\\\\n\t2 & 290004 & 02-01-1954 & 0 & 52 & 1954\\\\\n\t3 & 290004 & 03-01-1954 & 0 &  1 & 1954\\\\\n\\end{tabular}\n",
            "text/plain": [
              "  CodigoNacional momento    Total_Valor NuSemana Anio\n",
              "1 290004         01-01-1954 0           52       1954\n",
              "2 290004         02-01-1954 0           52       1954\n",
              "3 290004         03-01-1954 0            1       1954"
            ]
          },
          "metadata": {}
        }
      ]
    },
    {
      "cell_type": "code",
      "source": [
        "# Agrupo y obtengo la suma de precipitaciones para cada semana en cada año.\n",
        "df_datos_Precip_semanal <- df_datos_Precip %>% group_by (CodigoNacional,Anio, NuSemana) %>% summarise(Total_Valor_semPP = sum(Total_Valor, na.rm = TRUE))\n",
        "#Convierto agrupación con media y mediana a data frame\n",
        "df_datos_Precip_semanal <- as.data.frame (df_datos_Precip_semanal)\n",
        "#filtro por todo aquellos años >= a 2014\n",
        "df_datos_Precip_semanal <- df_datos_Precip_semanal %>% filter(Anio > 2013 & Anio < 2024)\n",
        "head(df_datos_Precip_semanal,3)"
      ],
      "metadata": {
        "colab": {
          "base_uri": "https://localhost:8080/",
          "height": 227
        },
        "id": "Iij1RkzSDVQb",
        "outputId": "df206659-a591-47c6-9b19-2fbe126ca1ee"
      },
      "execution_count": 178,
      "outputs": [
        {
          "output_type": "stream",
          "name": "stderr",
          "text": [
            "\u001b[1m\u001b[22m`summarise()` has grouped output by 'CodigoNacional', 'Anio'. You can override\n",
            "using the `.groups` argument.\n"
          ]
        },
        {
          "output_type": "display_data",
          "data": {
            "text/html": [
              "<table class=\"dataframe\">\n",
              "<caption>A data.frame: 3 × 4</caption>\n",
              "<thead>\n",
              "\t<tr><th></th><th scope=col>CodigoNacional</th><th scope=col>Anio</th><th scope=col>NuSemana</th><th scope=col>Total_Valor_semPP</th></tr>\n",
              "\t<tr><th></th><th scope=col>&lt;dbl&gt;</th><th scope=col>&lt;dbl&gt;</th><th scope=col>&lt;dbl&gt;</th><th scope=col>&lt;dbl&gt;</th></tr>\n",
              "</thead>\n",
              "<tbody>\n",
              "\t<tr><th scope=row>1</th><td>290004</td><td>2014</td><td>1</td><td>0</td></tr>\n",
              "\t<tr><th scope=row>2</th><td>290004</td><td>2014</td><td>2</td><td>0</td></tr>\n",
              "\t<tr><th scope=row>3</th><td>290004</td><td>2014</td><td>3</td><td>0</td></tr>\n",
              "</tbody>\n",
              "</table>\n"
            ],
            "text/markdown": "\nA data.frame: 3 × 4\n\n| <!--/--> | CodigoNacional &lt;dbl&gt; | Anio &lt;dbl&gt; | NuSemana &lt;dbl&gt; | Total_Valor_semPP &lt;dbl&gt; |\n|---|---|---|---|---|\n| 1 | 290004 | 2014 | 1 | 0 |\n| 2 | 290004 | 2014 | 2 | 0 |\n| 3 | 290004 | 2014 | 3 | 0 |\n\n",
            "text/latex": "A data.frame: 3 × 4\n\\begin{tabular}{r|llll}\n  & CodigoNacional & Anio & NuSemana & Total\\_Valor\\_semPP\\\\\n  & <dbl> & <dbl> & <dbl> & <dbl>\\\\\n\\hline\n\t1 & 290004 & 2014 & 1 & 0\\\\\n\t2 & 290004 & 2014 & 2 & 0\\\\\n\t3 & 290004 & 2014 & 3 & 0\\\\\n\\end{tabular}\n",
            "text/plain": [
              "  CodigoNacional Anio NuSemana Total_Valor_semPP\n",
              "1 290004         2014 1        0                \n",
              "2 290004         2014 2        0                \n",
              "3 290004         2014 3        0                "
            ]
          },
          "metadata": {}
        }
      ]
    },
    {
      "cell_type": "code",
      "source": [
        "#obtengo n° de semana de las fechas de mediciones (momento) y agrego columna al data frame mp25\n",
        "semana<-epiweek(dmy(df_datos_mp25$momento))\n",
        "ano <- year(dmy(df_datos_mp25$momento))\n",
        "df_datos_mp25 <- cbind(df_datos_mp25, NuSemana = semana)\n",
        "df_datos_mp25 <- cbind(df_datos_mp25, Anio = ano)\n",
        "head(df_datos_mp25,3)"
      ],
      "metadata": {
        "colab": {
          "base_uri": "https://localhost:8080/",
          "height": 192
        },
        "id": "DdjPbon8FhQX",
        "outputId": "b0d8105f-a9ee-443b-9ee1-6b7eb9f6ea56"
      },
      "execution_count": 179,
      "outputs": [
        {
          "output_type": "display_data",
          "data": {
            "text/html": [
              "<table class=\"dataframe\">\n",
              "<caption>A data.frame: 3 × 5</caption>\n",
              "<thead>\n",
              "\t<tr><th></th><th scope=col>COMUNA</th><th scope=col>momento</th><th scope=col>totalMP25</th><th scope=col>NuSemana</th><th scope=col>Anio</th></tr>\n",
              "\t<tr><th></th><th scope=col>&lt;chr&gt;</th><th scope=col>&lt;chr&gt;</th><th scope=col>&lt;dbl&gt;</th><th scope=col>&lt;dbl&gt;</th><th scope=col>&lt;dbl&gt;</th></tr>\n",
              "</thead>\n",
              "<tbody>\n",
              "\t<tr><th scope=row>1</th><td>Concepcion</td><td>12-08-2009</td><td>390.2810</td><td>32</td><td>2009</td></tr>\n",
              "\t<tr><th scope=row>2</th><td>Concepcion</td><td>13-08-2009</td><td> 68.5317</td><td>32</td><td>2009</td></tr>\n",
              "\t<tr><th scope=row>3</th><td>Concepcion</td><td>14-08-2009</td><td>319.4660</td><td>32</td><td>2009</td></tr>\n",
              "</tbody>\n",
              "</table>\n"
            ],
            "text/markdown": "\nA data.frame: 3 × 5\n\n| <!--/--> | COMUNA &lt;chr&gt; | momento &lt;chr&gt; | totalMP25 &lt;dbl&gt; | NuSemana &lt;dbl&gt; | Anio &lt;dbl&gt; |\n|---|---|---|---|---|---|\n| 1 | Concepcion | 12-08-2009 | 390.2810 | 32 | 2009 |\n| 2 | Concepcion | 13-08-2009 |  68.5317 | 32 | 2009 |\n| 3 | Concepcion | 14-08-2009 | 319.4660 | 32 | 2009 |\n\n",
            "text/latex": "A data.frame: 3 × 5\n\\begin{tabular}{r|lllll}\n  & COMUNA & momento & totalMP25 & NuSemana & Anio\\\\\n  & <chr> & <chr> & <dbl> & <dbl> & <dbl>\\\\\n\\hline\n\t1 & Concepcion & 12-08-2009 & 390.2810 & 32 & 2009\\\\\n\t2 & Concepcion & 13-08-2009 &  68.5317 & 32 & 2009\\\\\n\t3 & Concepcion & 14-08-2009 & 319.4660 & 32 & 2009\\\\\n\\end{tabular}\n",
            "text/plain": [
              "  COMUNA     momento    totalMP25 NuSemana Anio\n",
              "1 Concepcion 12-08-2009 390.2810  32       2009\n",
              "2 Concepcion 13-08-2009  68.5317  32       2009\n",
              "3 Concepcion 14-08-2009 319.4660  32       2009"
            ]
          },
          "metadata": {}
        }
      ]
    },
    {
      "cell_type": "code",
      "source": [
        "# Agrupo y obtengo la suma de precipitaciones para cada semana en cada año.\n",
        "df_datos_mp25_semanal <- df_datos_mp25 %>% group_by (COMUNA,Anio, NuSemana) %>% summarise(Total_Valor_semMP25 = sum(totalMP25, na.rm = TRUE))\n",
        "#Convierto agrupación con media y mediana a data frame\n",
        "df_datos_mp25_semanal <- as.data.frame (df_datos_mp25_semanal)\n",
        "#filtro por todo aquellos años >= a 2014\n",
        "df_datos_mp25_semanal <- df_datos_mp25_semanal %>% filter(Anio > 2013 & Anio < 2024)\n",
        "head(df_datos_mp25_semanal,3)"
      ],
      "metadata": {
        "colab": {
          "base_uri": "https://localhost:8080/",
          "height": 227
        },
        "id": "f9hgqQjDGiJo",
        "outputId": "03587d87-35fe-4163-b48a-b4f4eea225fc"
      },
      "execution_count": 180,
      "outputs": [
        {
          "output_type": "stream",
          "name": "stderr",
          "text": [
            "\u001b[1m\u001b[22m`summarise()` has grouped output by 'COMUNA', 'Anio'. You can override using\n",
            "the `.groups` argument.\n"
          ]
        },
        {
          "output_type": "display_data",
          "data": {
            "text/html": [
              "<table class=\"dataframe\">\n",
              "<caption>A data.frame: 3 × 4</caption>\n",
              "<thead>\n",
              "\t<tr><th></th><th scope=col>COMUNA</th><th scope=col>Anio</th><th scope=col>NuSemana</th><th scope=col>Total_Valor_semMP25</th></tr>\n",
              "\t<tr><th></th><th scope=col>&lt;chr&gt;</th><th scope=col>&lt;dbl&gt;</th><th scope=col>&lt;dbl&gt;</th><th scope=col>&lt;dbl&gt;</th></tr>\n",
              "</thead>\n",
              "<tbody>\n",
              "\t<tr><th scope=row>1</th><td>Concepcion</td><td>2014</td><td>1</td><td>48.20000</td></tr>\n",
              "\t<tr><th scope=row>2</th><td>Concepcion</td><td>2014</td><td>2</td><td>73.69997</td></tr>\n",
              "\t<tr><th scope=row>3</th><td>Concepcion</td><td>2014</td><td>3</td><td>72.09999</td></tr>\n",
              "</tbody>\n",
              "</table>\n"
            ],
            "text/markdown": "\nA data.frame: 3 × 4\n\n| <!--/--> | COMUNA &lt;chr&gt; | Anio &lt;dbl&gt; | NuSemana &lt;dbl&gt; | Total_Valor_semMP25 &lt;dbl&gt; |\n|---|---|---|---|---|\n| 1 | Concepcion | 2014 | 1 | 48.20000 |\n| 2 | Concepcion | 2014 | 2 | 73.69997 |\n| 3 | Concepcion | 2014 | 3 | 72.09999 |\n\n",
            "text/latex": "A data.frame: 3 × 4\n\\begin{tabular}{r|llll}\n  & COMUNA & Anio & NuSemana & Total\\_Valor\\_semMP25\\\\\n  & <chr> & <dbl> & <dbl> & <dbl>\\\\\n\\hline\n\t1 & Concepcion & 2014 & 1 & 48.20000\\\\\n\t2 & Concepcion & 2014 & 2 & 73.69997\\\\\n\t3 & Concepcion & 2014 & 3 & 72.09999\\\\\n\\end{tabular}\n",
            "text/plain": [
              "  COMUNA     Anio NuSemana Total_Valor_semMP25\n",
              "1 Concepcion 2014 1        48.20000           \n",
              "2 Concepcion 2014 2        73.69997           \n",
              "3 Concepcion 2014 3        72.09999           "
            ]
          },
          "metadata": {}
        }
      ]
    },
    {
      "cell_type": "code",
      "source": [
        "nrow(df_urgr_esp_semanal)\n",
        "#write.csv (df_urgr_esp_semanal, \"prueba.csv\")\n",
        "nrow(df_datos_temperatura_semanal)\n",
        "#write.csv (df_datos_temperatura_semanal, \"prueba2.csv\")\n",
        "nrow(df_datos_Precip_semanal)\n",
        "nrow(df_datos_Humedad_semanal)\n",
        "nrow(df_datos_mp25_semanal)"
      ],
      "metadata": {
        "id": "l5FZV3fQbq0R",
        "outputId": "7c8101ad-0ac7-419b-e246-46d73fe5ea4e",
        "colab": {
          "base_uri": "https://localhost:8080/",
          "height": 104
        }
      },
      "execution_count": 181,
      "outputs": [
        {
          "output_type": "display_data",
          "data": {
            "text/html": [
              "1572"
            ],
            "text/markdown": "1572",
            "text/latex": "1572",
            "text/plain": [
              "[1] 1572"
            ]
          },
          "metadata": {}
        },
        {
          "output_type": "display_data",
          "data": {
            "text/html": [
              "1572"
            ],
            "text/markdown": "1572",
            "text/latex": "1572",
            "text/plain": [
              "[1] 1572"
            ]
          },
          "metadata": {}
        },
        {
          "output_type": "display_data",
          "data": {
            "text/html": [
              "1572"
            ],
            "text/markdown": "1572",
            "text/latex": "1572",
            "text/plain": [
              "[1] 1572"
            ]
          },
          "metadata": {}
        },
        {
          "output_type": "display_data",
          "data": {
            "text/html": [
              "1572"
            ],
            "text/markdown": "1572",
            "text/latex": "1572",
            "text/plain": [
              "[1] 1572"
            ]
          },
          "metadata": {}
        },
        {
          "output_type": "display_data",
          "data": {
            "text/html": [
              "1572"
            ],
            "text/markdown": "1572",
            "text/latex": "1572",
            "text/plain": [
              "[1] 1572"
            ]
          },
          "metadata": {}
        }
      ]
    },
    {
      "cell_type": "code",
      "source": [
        "df_variable <-merge(df_datos_temperatura_semanal, df_datos_Humedad_semanal, by = c(\"CodigoNacional\",\"Anio\",\"NuSemana\"))\n",
        "df_variable <- merge(df_variable, df_datos_Precip_semanal, by = c(\"CodigoNacional\",\"Anio\",\"NuSemana\"))\n",
        "head(df_variable,10)"
      ],
      "metadata": {
        "id": "C3St2zUj3j3K",
        "outputId": "9498c0db-e562-44eb-f329-d1ab030ecc83",
        "colab": {
          "base_uri": "https://localhost:8080/",
          "height": 412
        }
      },
      "execution_count": 182,
      "outputs": [
        {
          "output_type": "display_data",
          "data": {
            "text/html": [
              "<table class=\"dataframe\">\n",
              "<caption>A data.frame: 10 × 7</caption>\n",
              "<thead>\n",
              "\t<tr><th></th><th scope=col>CodigoNacional</th><th scope=col>Anio</th><th scope=col>NuSemana</th><th scope=col>medianaClim</th><th scope=col>difMaxMin</th><th scope=col>Mediana_HR_Valor</th><th scope=col>Total_Valor_semPP</th></tr>\n",
              "\t<tr><th></th><th scope=col>&lt;dbl&gt;</th><th scope=col>&lt;dbl&gt;</th><th scope=col>&lt;dbl&gt;</th><th scope=col>&lt;dbl&gt;</th><th scope=col>&lt;dbl&gt;</th><th scope=col>&lt;dbl&gt;</th><th scope=col>&lt;dbl&gt;</th></tr>\n",
              "</thead>\n",
              "<tbody>\n",
              "\t<tr><th scope=row>1</th><td>290004</td><td>2014</td><td> 1</td><td>17.6</td><td>7.8</td><td>76.5</td><td>0.0</td></tr>\n",
              "\t<tr><th scope=row>2</th><td>290004</td><td>2014</td><td>10</td><td>15.8</td><td>8.4</td><td>82.0</td><td>0.0</td></tr>\n",
              "\t<tr><th scope=row>3</th><td>290004</td><td>2014</td><td>11</td><td>14.9</td><td>6.6</td><td>84.0</td><td>0.0</td></tr>\n",
              "\t<tr><th scope=row>4</th><td>290004</td><td>2014</td><td>12</td><td>14.3</td><td>6.1</td><td>86.5</td><td>0.2</td></tr>\n",
              "\t<tr><th scope=row>5</th><td>290004</td><td>2014</td><td>13</td><td>14.4</td><td>4.2</td><td>85.5</td><td>0.6</td></tr>\n",
              "\t<tr><th scope=row>6</th><td>290004</td><td>2014</td><td>14</td><td>14.2</td><td>7.7</td><td>80.0</td><td>0.0</td></tr>\n",
              "\t<tr><th scope=row>7</th><td>290004</td><td>2014</td><td>15</td><td>14.1</td><td>8.9</td><td>77.0</td><td>0.0</td></tr>\n",
              "\t<tr><th scope=row>8</th><td>290004</td><td>2014</td><td>16</td><td>12.8</td><td>5.4</td><td>83.0</td><td>0.0</td></tr>\n",
              "\t<tr><th scope=row>9</th><td>290004</td><td>2014</td><td>17</td><td>13.2</td><td>5.0</td><td>84.0</td><td>0.2</td></tr>\n",
              "\t<tr><th scope=row>10</th><td>290004</td><td>2014</td><td>18</td><td>12.4</td><td>8.0</td><td>80.0</td><td>0.0</td></tr>\n",
              "</tbody>\n",
              "</table>\n"
            ],
            "text/markdown": "\nA data.frame: 10 × 7\n\n| <!--/--> | CodigoNacional &lt;dbl&gt; | Anio &lt;dbl&gt; | NuSemana &lt;dbl&gt; | medianaClim &lt;dbl&gt; | difMaxMin &lt;dbl&gt; | Mediana_HR_Valor &lt;dbl&gt; | Total_Valor_semPP &lt;dbl&gt; |\n|---|---|---|---|---|---|---|---|\n| 1 | 290004 | 2014 |  1 | 17.6 | 7.8 | 76.5 | 0.0 |\n| 2 | 290004 | 2014 | 10 | 15.8 | 8.4 | 82.0 | 0.0 |\n| 3 | 290004 | 2014 | 11 | 14.9 | 6.6 | 84.0 | 0.0 |\n| 4 | 290004 | 2014 | 12 | 14.3 | 6.1 | 86.5 | 0.2 |\n| 5 | 290004 | 2014 | 13 | 14.4 | 4.2 | 85.5 | 0.6 |\n| 6 | 290004 | 2014 | 14 | 14.2 | 7.7 | 80.0 | 0.0 |\n| 7 | 290004 | 2014 | 15 | 14.1 | 8.9 | 77.0 | 0.0 |\n| 8 | 290004 | 2014 | 16 | 12.8 | 5.4 | 83.0 | 0.0 |\n| 9 | 290004 | 2014 | 17 | 13.2 | 5.0 | 84.0 | 0.2 |\n| 10 | 290004 | 2014 | 18 | 12.4 | 8.0 | 80.0 | 0.0 |\n\n",
            "text/latex": "A data.frame: 10 × 7\n\\begin{tabular}{r|lllllll}\n  & CodigoNacional & Anio & NuSemana & medianaClim & difMaxMin & Mediana\\_HR\\_Valor & Total\\_Valor\\_semPP\\\\\n  & <dbl> & <dbl> & <dbl> & <dbl> & <dbl> & <dbl> & <dbl>\\\\\n\\hline\n\t1 & 290004 & 2014 &  1 & 17.6 & 7.8 & 76.5 & 0.0\\\\\n\t2 & 290004 & 2014 & 10 & 15.8 & 8.4 & 82.0 & 0.0\\\\\n\t3 & 290004 & 2014 & 11 & 14.9 & 6.6 & 84.0 & 0.0\\\\\n\t4 & 290004 & 2014 & 12 & 14.3 & 6.1 & 86.5 & 0.2\\\\\n\t5 & 290004 & 2014 & 13 & 14.4 & 4.2 & 85.5 & 0.6\\\\\n\t6 & 290004 & 2014 & 14 & 14.2 & 7.7 & 80.0 & 0.0\\\\\n\t7 & 290004 & 2014 & 15 & 14.1 & 8.9 & 77.0 & 0.0\\\\\n\t8 & 290004 & 2014 & 16 & 12.8 & 5.4 & 83.0 & 0.0\\\\\n\t9 & 290004 & 2014 & 17 & 13.2 & 5.0 & 84.0 & 0.2\\\\\n\t10 & 290004 & 2014 & 18 & 12.4 & 8.0 & 80.0 & 0.0\\\\\n\\end{tabular}\n",
            "text/plain": [
              "   CodigoNacional Anio NuSemana medianaClim difMaxMin Mediana_HR_Valor\n",
              "1  290004         2014  1       17.6        7.8       76.5            \n",
              "2  290004         2014 10       15.8        8.4       82.0            \n",
              "3  290004         2014 11       14.9        6.6       84.0            \n",
              "4  290004         2014 12       14.3        6.1       86.5            \n",
              "5  290004         2014 13       14.4        4.2       85.5            \n",
              "6  290004         2014 14       14.2        7.7       80.0            \n",
              "7  290004         2014 15       14.1        8.9       77.0            \n",
              "8  290004         2014 16       12.8        5.4       83.0            \n",
              "9  290004         2014 17       13.2        5.0       84.0            \n",
              "10 290004         2014 18       12.4        8.0       80.0            \n",
              "   Total_Valor_semPP\n",
              "1  0.0              \n",
              "2  0.0              \n",
              "3  0.0              \n",
              "4  0.2              \n",
              "5  0.6              \n",
              "6  0.0              \n",
              "7  0.0              \n",
              "8  0.0              \n",
              "9  0.2              \n",
              "10 0.0              "
            ]
          },
          "metadata": {}
        }
      ]
    },
    {
      "cell_type": "code",
      "source": [
        "df_variable <- df_variable %>% mutate(COMUNA = ifelse(CodigoNacional == 290004, \"LaSerena\", ifelse (CodigoNacional == 360019, \"Concepcion\", ifelse (CodigoNacional == 330020, \"Santiago\", NA))))\n"
      ],
      "metadata": {
        "id": "3W4oes7QKKzI"
      },
      "execution_count": 183,
      "outputs": []
    },
    {
      "cell_type": "code",
      "source": [
        "df_variable <- merge(df_variable, df_datos_mp25_semanal, by = c(\"COMUNA\",\"Anio\",\"NuSemana\"))\n",
        "df_variable <- merge(df_variable, df_urgr_esp_semanal, by = c(\"COMUNA\",\"Anio\",\"NuSemana\"))\n",
        "df_final <-df_variable %>% select(-CodigoNacional)\n",
        "df_final$COMUNA <- as.factor(df_final$COMUNA)\n",
        "head(df_final,10)"
      ],
      "metadata": {
        "id": "UbsA287sMpV1",
        "outputId": "2c9b06ed-d478-4f67-f268-8ab6596816ae",
        "colab": {
          "base_uri": "https://localhost:8080/",
          "height": 412
        }
      },
      "execution_count": 184,
      "outputs": [
        {
          "output_type": "display_data",
          "data": {
            "text/html": [
              "<table class=\"dataframe\">\n",
              "<caption>A data.frame: 10 × 9</caption>\n",
              "<thead>\n",
              "\t<tr><th></th><th scope=col>COMUNA</th><th scope=col>Anio</th><th scope=col>NuSemana</th><th scope=col>medianaClim</th><th scope=col>difMaxMin</th><th scope=col>Mediana_HR_Valor</th><th scope=col>Total_Valor_semPP</th><th scope=col>Total_Valor_semMP25</th><th scope=col>NumTotalUrg</th></tr>\n",
              "\t<tr><th></th><th scope=col>&lt;fct&gt;</th><th scope=col>&lt;dbl&gt;</th><th scope=col>&lt;dbl&gt;</th><th scope=col>&lt;dbl&gt;</th><th scope=col>&lt;dbl&gt;</th><th scope=col>&lt;dbl&gt;</th><th scope=col>&lt;dbl&gt;</th><th scope=col>&lt;dbl&gt;</th><th scope=col>&lt;int&gt;</th></tr>\n",
              "</thead>\n",
              "<tbody>\n",
              "\t<tr><th scope=row>1</th><td>Concepcion</td><td>2014</td><td> 1</td><td>16.75</td><td>13.6</td><td>58.0</td><td> 0.0</td><td> 48.20000</td><td> 574</td></tr>\n",
              "\t<tr><th scope=row>2</th><td>Concepcion</td><td>2014</td><td>10</td><td>15.20</td><td>11.2</td><td>76.5</td><td> 0.4</td><td> 21.40000</td><td> 938</td></tr>\n",
              "\t<tr><th scope=row>3</th><td>Concepcion</td><td>2014</td><td>11</td><td>15.80</td><td> 9.9</td><td>80.0</td><td>12.8</td><td> 47.90000</td><td>1270</td></tr>\n",
              "\t<tr><th scope=row>4</th><td>Concepcion</td><td>2014</td><td>12</td><td>15.30</td><td>12.0</td><td>72.0</td><td> 0.8</td><td> 86.30000</td><td>1702</td></tr>\n",
              "\t<tr><th scope=row>5</th><td>Concepcion</td><td>2014</td><td>13</td><td>13.70</td><td> 4.4</td><td>81.0</td><td>52.8</td><td>112.39000</td><td>1450</td></tr>\n",
              "\t<tr><th scope=row>6</th><td>Concepcion</td><td>2014</td><td>14</td><td>12.80</td><td> 9.2</td><td>84.0</td><td> 0.0</td><td> 99.09999</td><td>1480</td></tr>\n",
              "\t<tr><th scope=row>7</th><td>Concepcion</td><td>2014</td><td>15</td><td>12.00</td><td> 8.4</td><td>86.0</td><td> 5.8</td><td> 93.99997</td><td>1317</td></tr>\n",
              "\t<tr><th scope=row>8</th><td>Concepcion</td><td>2014</td><td>16</td><td>12.70</td><td>11.2</td><td>73.0</td><td> 0.0</td><td> 93.79999</td><td>1353</td></tr>\n",
              "\t<tr><th scope=row>9</th><td>Concepcion</td><td>2014</td><td>17</td><td>12.60</td><td>10.9</td><td>90.5</td><td> 1.6</td><td>114.50000</td><td>1400</td></tr>\n",
              "\t<tr><th scope=row>10</th><td>Concepcion</td><td>2014</td><td>18</td><td>10.50</td><td> 8.4</td><td>93.0</td><td>79.4</td><td> 93.00000</td><td>1215</td></tr>\n",
              "</tbody>\n",
              "</table>\n"
            ],
            "text/markdown": "\nA data.frame: 10 × 9\n\n| <!--/--> | COMUNA &lt;fct&gt; | Anio &lt;dbl&gt; | NuSemana &lt;dbl&gt; | medianaClim &lt;dbl&gt; | difMaxMin &lt;dbl&gt; | Mediana_HR_Valor &lt;dbl&gt; | Total_Valor_semPP &lt;dbl&gt; | Total_Valor_semMP25 &lt;dbl&gt; | NumTotalUrg &lt;int&gt; |\n|---|---|---|---|---|---|---|---|---|---|\n| 1 | Concepcion | 2014 |  1 | 16.75 | 13.6 | 58.0 |  0.0 |  48.20000 |  574 |\n| 2 | Concepcion | 2014 | 10 | 15.20 | 11.2 | 76.5 |  0.4 |  21.40000 |  938 |\n| 3 | Concepcion | 2014 | 11 | 15.80 |  9.9 | 80.0 | 12.8 |  47.90000 | 1270 |\n| 4 | Concepcion | 2014 | 12 | 15.30 | 12.0 | 72.0 |  0.8 |  86.30000 | 1702 |\n| 5 | Concepcion | 2014 | 13 | 13.70 |  4.4 | 81.0 | 52.8 | 112.39000 | 1450 |\n| 6 | Concepcion | 2014 | 14 | 12.80 |  9.2 | 84.0 |  0.0 |  99.09999 | 1480 |\n| 7 | Concepcion | 2014 | 15 | 12.00 |  8.4 | 86.0 |  5.8 |  93.99997 | 1317 |\n| 8 | Concepcion | 2014 | 16 | 12.70 | 11.2 | 73.0 |  0.0 |  93.79999 | 1353 |\n| 9 | Concepcion | 2014 | 17 | 12.60 | 10.9 | 90.5 |  1.6 | 114.50000 | 1400 |\n| 10 | Concepcion | 2014 | 18 | 10.50 |  8.4 | 93.0 | 79.4 |  93.00000 | 1215 |\n\n",
            "text/latex": "A data.frame: 10 × 9\n\\begin{tabular}{r|lllllllll}\n  & COMUNA & Anio & NuSemana & medianaClim & difMaxMin & Mediana\\_HR\\_Valor & Total\\_Valor\\_semPP & Total\\_Valor\\_semMP25 & NumTotalUrg\\\\\n  & <fct> & <dbl> & <dbl> & <dbl> & <dbl> & <dbl> & <dbl> & <dbl> & <int>\\\\\n\\hline\n\t1 & Concepcion & 2014 &  1 & 16.75 & 13.6 & 58.0 &  0.0 &  48.20000 &  574\\\\\n\t2 & Concepcion & 2014 & 10 & 15.20 & 11.2 & 76.5 &  0.4 &  21.40000 &  938\\\\\n\t3 & Concepcion & 2014 & 11 & 15.80 &  9.9 & 80.0 & 12.8 &  47.90000 & 1270\\\\\n\t4 & Concepcion & 2014 & 12 & 15.30 & 12.0 & 72.0 &  0.8 &  86.30000 & 1702\\\\\n\t5 & Concepcion & 2014 & 13 & 13.70 &  4.4 & 81.0 & 52.8 & 112.39000 & 1450\\\\\n\t6 & Concepcion & 2014 & 14 & 12.80 &  9.2 & 84.0 &  0.0 &  99.09999 & 1480\\\\\n\t7 & Concepcion & 2014 & 15 & 12.00 &  8.4 & 86.0 &  5.8 &  93.99997 & 1317\\\\\n\t8 & Concepcion & 2014 & 16 & 12.70 & 11.2 & 73.0 &  0.0 &  93.79999 & 1353\\\\\n\t9 & Concepcion & 2014 & 17 & 12.60 & 10.9 & 90.5 &  1.6 & 114.50000 & 1400\\\\\n\t10 & Concepcion & 2014 & 18 & 10.50 &  8.4 & 93.0 & 79.4 &  93.00000 & 1215\\\\\n\\end{tabular}\n",
            "text/plain": [
              "   COMUNA     Anio NuSemana medianaClim difMaxMin Mediana_HR_Valor\n",
              "1  Concepcion 2014  1       16.75       13.6      58.0            \n",
              "2  Concepcion 2014 10       15.20       11.2      76.5            \n",
              "3  Concepcion 2014 11       15.80        9.9      80.0            \n",
              "4  Concepcion 2014 12       15.30       12.0      72.0            \n",
              "5  Concepcion 2014 13       13.70        4.4      81.0            \n",
              "6  Concepcion 2014 14       12.80        9.2      84.0            \n",
              "7  Concepcion 2014 15       12.00        8.4      86.0            \n",
              "8  Concepcion 2014 16       12.70       11.2      73.0            \n",
              "9  Concepcion 2014 17       12.60       10.9      90.5            \n",
              "10 Concepcion 2014 18       10.50        8.4      93.0            \n",
              "   Total_Valor_semPP Total_Valor_semMP25 NumTotalUrg\n",
              "1   0.0               48.20000            574       \n",
              "2   0.4               21.40000            938       \n",
              "3  12.8               47.90000           1270       \n",
              "4   0.8               86.30000           1702       \n",
              "5  52.8              112.39000           1450       \n",
              "6   0.0               99.09999           1480       \n",
              "7   5.8               93.99997           1317       \n",
              "8   0.0               93.79999           1353       \n",
              "9   1.6              114.50000           1400       \n",
              "10 79.4               93.00000           1215       "
            ]
          },
          "metadata": {}
        }
      ]
    },
    {
      "cell_type": "code",
      "source": [],
      "metadata": {
        "id": "WgI0z0sluKsI"
      },
      "execution_count": 185,
      "outputs": []
    },
    {
      "cell_type": "code",
      "source": [
        "df_datos_mp25_semanal %>% filter(Total_Valor_semMP25 == 0 & Anio == 2016)"
      ],
      "metadata": {
        "id": "LROWEFKm6INO",
        "outputId": "d75d40c5-8e28-4a82-faff-f56fc43a756f",
        "colab": {
          "base_uri": "https://localhost:8080/",
          "height": 255
        }
      },
      "execution_count": 186,
      "outputs": [
        {
          "output_type": "display_data",
          "data": {
            "text/html": [
              "<table class=\"dataframe\">\n",
              "<caption>A data.frame: 5 × 4</caption>\n",
              "<thead>\n",
              "\t<tr><th scope=col>COMUNA</th><th scope=col>Anio</th><th scope=col>NuSemana</th><th scope=col>Total_Valor_semMP25</th></tr>\n",
              "\t<tr><th scope=col>&lt;chr&gt;</th><th scope=col>&lt;dbl&gt;</th><th scope=col>&lt;dbl&gt;</th><th scope=col>&lt;dbl&gt;</th></tr>\n",
              "</thead>\n",
              "<tbody>\n",
              "\t<tr><td>Concepcion</td><td>2016</td><td>41</td><td>0</td></tr>\n",
              "\t<tr><td>Concepcion</td><td>2016</td><td>42</td><td>0</td></tr>\n",
              "\t<tr><td>Concepcion</td><td>2016</td><td>43</td><td>0</td></tr>\n",
              "\t<tr><td>Concepcion</td><td>2016</td><td>44</td><td>0</td></tr>\n",
              "\t<tr><td>Concepcion</td><td>2016</td><td>45</td><td>0</td></tr>\n",
              "</tbody>\n",
              "</table>\n"
            ],
            "text/markdown": "\nA data.frame: 5 × 4\n\n| COMUNA &lt;chr&gt; | Anio &lt;dbl&gt; | NuSemana &lt;dbl&gt; | Total_Valor_semMP25 &lt;dbl&gt; |\n|---|---|---|---|\n| Concepcion | 2016 | 41 | 0 |\n| Concepcion | 2016 | 42 | 0 |\n| Concepcion | 2016 | 43 | 0 |\n| Concepcion | 2016 | 44 | 0 |\n| Concepcion | 2016 | 45 | 0 |\n\n",
            "text/latex": "A data.frame: 5 × 4\n\\begin{tabular}{llll}\n COMUNA & Anio & NuSemana & Total\\_Valor\\_semMP25\\\\\n <chr> & <dbl> & <dbl> & <dbl>\\\\\n\\hline\n\t Concepcion & 2016 & 41 & 0\\\\\n\t Concepcion & 2016 & 42 & 0\\\\\n\t Concepcion & 2016 & 43 & 0\\\\\n\t Concepcion & 2016 & 44 & 0\\\\\n\t Concepcion & 2016 & 45 & 0\\\\\n\\end{tabular}\n",
            "text/plain": [
              "  COMUNA     Anio NuSemana Total_Valor_semMP25\n",
              "1 Concepcion 2016 41       0                  \n",
              "2 Concepcion 2016 42       0                  \n",
              "3 Concepcion 2016 43       0                  \n",
              "4 Concepcion 2016 44       0                  \n",
              "5 Concepcion 2016 45       0                  "
            ]
          },
          "metadata": {}
        }
      ]
    },
    {
      "cell_type": "code",
      "source": [
        "summary(df_final)"
      ],
      "metadata": {
        "id": "Z1oLeDfIzXqf",
        "outputId": "5ae9e60a-716d-43d2-fe14-b628161b38a6",
        "colab": {
          "base_uri": "https://localhost:8080/",
          "height": 260
        }
      },
      "execution_count": 187,
      "outputs": [
        {
          "output_type": "display_data",
          "data": {
            "text/plain": [
              "        COMUNA         Anio         NuSemana     medianaClim      difMaxMin    \n",
              " Concepcion:524   Min.   :2014   Min.   : 1.0   Min.   : 5.00   Min.   : 2.40  \n",
              " LaSerena  :524   1st Qu.:2016   1st Qu.:14.0   1st Qu.:11.50   1st Qu.: 7.10  \n",
              " Santiago  :524   Median :2018   Median :27.0   Median :13.90   Median : 9.50  \n",
              "                  Mean   :2018   Mean   :26.7   Mean   :14.31   Mean   :10.68  \n",
              "                  3rd Qu.:2021   3rd Qu.:40.0   3rd Qu.:16.90   3rd Qu.:13.72  \n",
              "                  Max.   :2023   Max.   :53.0   Max.   :25.40   Max.   :23.20  \n",
              " Mediana_HR_Valor Total_Valor_semPP Total_Valor_semMP25  NumTotalUrg    \n",
              " Min.   :31.00    Min.   :  0.000   Min.   :  0.00      Min.   :  34.0  \n",
              " 1st Qu.:71.00    1st Qu.:  0.000   1st Qu.: 68.00      1st Qu.: 534.8  \n",
              " Median :80.00    Median :  0.000   Median : 98.46      Median : 973.0  \n",
              " Mean   :76.34    Mean   :  6.573   Mean   :120.32      Mean   :1031.9  \n",
              " 3rd Qu.:85.00    3rd Qu.:  2.850   3rd Qu.:152.00      3rd Qu.:1494.0  \n",
              " Max.   :98.00    Max.   :138.200   Max.   :498.75      Max.   :3022.0  "
            ]
          },
          "metadata": {}
        }
      ]
    },
    {
      "cell_type": "code",
      "source": [
        "# Obtengo cantidad de urgencias por año y region\n",
        "df_resumen <- df_final %>%\n",
        "  group_by(Anio, COMUNA) %>%\n",
        "  summarise(Total = sum(NumTotalUrg, na.rm = TRUE))\n",
        "  head(df_resumen)\n"
      ],
      "metadata": {
        "id": "xL3XbljdvlS-",
        "outputId": "4acf1494-8888-498f-c44a-8a516432192d",
        "colab": {
          "base_uri": "https://localhost:8080/",
          "height": 321
        }
      },
      "execution_count": 188,
      "outputs": [
        {
          "output_type": "stream",
          "name": "stderr",
          "text": [
            "\u001b[1m\u001b[22m`summarise()` has grouped output by 'Anio'. You can override using the\n",
            "`.groups` argument.\n"
          ]
        },
        {
          "output_type": "display_data",
          "data": {
            "text/html": [
              "<table class=\"dataframe\">\n",
              "<caption>A grouped_df: 6 × 3</caption>\n",
              "<thead>\n",
              "\t<tr><th scope=col>Anio</th><th scope=col>COMUNA</th><th scope=col>Total</th></tr>\n",
              "\t<tr><th scope=col>&lt;dbl&gt;</th><th scope=col>&lt;fct&gt;</th><th scope=col>&lt;int&gt;</th></tr>\n",
              "</thead>\n",
              "<tbody>\n",
              "\t<tr><td>2014</td><td>Concepcion</td><td>78922</td></tr>\n",
              "\t<tr><td>2014</td><td>LaSerena  </td><td>65343</td></tr>\n",
              "\t<tr><td>2014</td><td>Santiago  </td><td>46232</td></tr>\n",
              "\t<tr><td>2015</td><td>Concepcion</td><td>84479</td></tr>\n",
              "\t<tr><td>2015</td><td>LaSerena  </td><td>68130</td></tr>\n",
              "\t<tr><td>2015</td><td>Santiago  </td><td>48973</td></tr>\n",
              "</tbody>\n",
              "</table>\n"
            ],
            "text/markdown": "\nA grouped_df: 6 × 3\n\n| Anio &lt;dbl&gt; | COMUNA &lt;fct&gt; | Total &lt;int&gt; |\n|---|---|---|\n| 2014 | Concepcion | 78922 |\n| 2014 | LaSerena   | 65343 |\n| 2014 | Santiago   | 46232 |\n| 2015 | Concepcion | 84479 |\n| 2015 | LaSerena   | 68130 |\n| 2015 | Santiago   | 48973 |\n\n",
            "text/latex": "A grouped\\_df: 6 × 3\n\\begin{tabular}{lll}\n Anio & COMUNA & Total\\\\\n <dbl> & <fct> & <int>\\\\\n\\hline\n\t 2014 & Concepcion & 78922\\\\\n\t 2014 & LaSerena   & 65343\\\\\n\t 2014 & Santiago   & 46232\\\\\n\t 2015 & Concepcion & 84479\\\\\n\t 2015 & LaSerena   & 68130\\\\\n\t 2015 & Santiago   & 48973\\\\\n\\end{tabular}\n",
            "text/plain": [
              "  Anio COMUNA     Total\n",
              "1 2014 Concepcion 78922\n",
              "2 2014 LaSerena   65343\n",
              "3 2014 Santiago   46232\n",
              "4 2015 Concepcion 84479\n",
              "5 2015 LaSerena   68130\n",
              "6 2015 Santiago   48973"
            ]
          },
          "metadata": {}
        }
      ]
    },
    {
      "cell_type": "code",
      "source": [
        "options(repr.plot.width = 12, repr.plot.height = 12)\n",
        "ggplot(df_final, aes(x = factor(Anio), y = NumTotalUrg)) +\n",
        "  geom_col(fill = \"steelblue\") +  # Use geom_col for bar plots\n",
        "  labs(x = \"Año\", y = \"Total de Urgencias\", title = \"Urgencias por Año\") +\n",
        "  theme(text = element_text (size=17),axis.text.x = element_text(angle = 75, vjust = .5))\n"
      ],
      "metadata": {
        "id": "9dTo6jGS3usv",
        "outputId": "31b87f13-01a1-4a55-ca1a-977f4bde16f3",
        "colab": {
          "base_uri": "https://localhost:8080/",
          "height": 737
        }
      },
      "execution_count": 189,
      "outputs": [
        {
          "output_type": "display_data",
          "data": {
            "text/plain": [
              "plot without title"
            ],
            "image/png": "[encoded data removed]"
          },
          "metadata": {
            "image/png": {
              "width": 720,
              "height": 720
            }
          }
        }
      ]
    },
    {
      "cell_type": "code",
      "source": [
        "correlation_matrix <- cor(df_final[, sapply(df_final, is.numeric)])\n",
        "corrplot(correlation_matrix, method = 'circle', order = 'alphabet', addCoef.col ='black')"
      ],
      "metadata": {
        "id": "gD2uP5hwrk-T",
        "outputId": "7af9ceb0-8947-4d43-8836-a0064123cbb2",
        "colab": {
          "base_uri": "https://localhost:8080/",
          "height": 737
        }
      },
      "execution_count": 190,
      "outputs": [
        {
          "output_type": "display_data",
          "data": {
            "text/plain": [
              "Plot with title “”"
            ],
            "image/png": "[encoded data removed]"
          },
          "metadata": {
            "image/png": {
              "width": 720,
              "height": 720
            }
          }
        }
      ]
    },
    {
      "cell_type": "code",
      "source": [
        "write.xlsx(df_final, \"df_consolidadofinal.xlsx\")"
      ],
      "metadata": {
        "id": "8XEdr65BqY2z"
      },
      "execution_count": 191,
      "outputs": []
    },
    {
      "cell_type": "code",
      "source": [
        "#Filtro el dataset par las regiones 8,4 y 13, tambien la causa 3 que es solo totalizador de urgencias reportadas\n",
        "#df_urgr_esp_semanal<- df_urgr_esp_semanal %>% filter (RegionCodigo %in% c(8,4,13) & OrdenCausa != 3)\n",
        "#count(df_urgr_esp_semanal)\n",
        "#head(df_urgr_esp_semanal,5)\n",
        "#df_urgr_esp_semanal %>% filter (ComunaGlosa == 'La Serena' & Anio == 2023 & SemanaEstadistica == 47) %>%arrange (Anio)\n",
        "#%>% select(ComunaCodigo, ComunaGlosa) %>% filter(ComunaGlosa == 'Santiago')"
      ],
      "metadata": {
        "id": "SPdSAwt-zfD7"
      },
      "execution_count": 192,
      "outputs": []
    },
    {
      "cell_type": "code",
      "source": [
        "#Obtengo el total de urgencias reportadas en todos los años por las 3 regiones.\n",
        "df_final%>% group_by(Anio) %>% summarise(Total = sum(NumTotalUrg, na.rm = TRUE))"
      ],
      "metadata": {
        "id": "YBwWoeGzxkZt",
        "colab": {
          "base_uri": "https://localhost:8080/",
          "height": 412
        },
        "outputId": "e2954ec1-14e9-497b-9674-451947a10fd7"
      },
      "execution_count": 193,
      "outputs": [
        {
          "output_type": "display_data",
          "data": {
            "text/html": [
              "<table class=\"dataframe\">\n",
              "<caption>A tibble: 10 × 2</caption>\n",
              "<thead>\n",
              "\t<tr><th scope=col>Anio</th><th scope=col>Total</th></tr>\n",
              "\t<tr><th scope=col>&lt;dbl&gt;</th><th scope=col>&lt;int&gt;</th></tr>\n",
              "</thead>\n",
              "<tbody>\n",
              "\t<tr><td>2014</td><td>190497</td></tr>\n",
              "\t<tr><td>2015</td><td>201582</td></tr>\n",
              "\t<tr><td>2016</td><td>201389</td></tr>\n",
              "\t<tr><td>2017</td><td>203423</td></tr>\n",
              "\t<tr><td>2018</td><td>207440</td></tr>\n",
              "\t<tr><td>2019</td><td>211777</td></tr>\n",
              "\t<tr><td>2020</td><td> 43903</td></tr>\n",
              "\t<tr><td>2021</td><td> 31926</td></tr>\n",
              "\t<tr><td>2022</td><td>141668</td></tr>\n",
              "\t<tr><td>2023</td><td>188479</td></tr>\n",
              "</tbody>\n",
              "</table>\n"
            ],
            "text/markdown": "\nA tibble: 10 × 2\n\n| Anio &lt;dbl&gt; | Total &lt;int&gt; |\n|---|---|\n| 2014 | 190497 |\n| 2015 | 201582 |\n| 2016 | 201389 |\n| 2017 | 203423 |\n| 2018 | 207440 |\n| 2019 | 211777 |\n| 2020 |  43903 |\n| 2021 |  31926 |\n| 2022 | 141668 |\n| 2023 | 188479 |\n\n",
            "text/latex": "A tibble: 10 × 2\n\\begin{tabular}{ll}\n Anio & Total\\\\\n <dbl> & <int>\\\\\n\\hline\n\t 2014 & 190497\\\\\n\t 2015 & 201582\\\\\n\t 2016 & 201389\\\\\n\t 2017 & 203423\\\\\n\t 2018 & 207440\\\\\n\t 2019 & 211777\\\\\n\t 2020 &  43903\\\\\n\t 2021 &  31926\\\\\n\t 2022 & 141668\\\\\n\t 2023 & 188479\\\\\n\\end{tabular}\n",
            "text/plain": [
              "   Anio Total \n",
              "1  2014 190497\n",
              "2  2015 201582\n",
              "3  2016 201389\n",
              "4  2017 203423\n",
              "5  2018 207440\n",
              "6  2019 211777\n",
              "7  2020  43903\n",
              "8  2021  31926\n",
              "9  2022 141668\n",
              "10 2023 188479"
            ]
          },
          "metadata": {}
        }
      ]
    },
    {
      "cell_type": "code",
      "source": [
        "str (df_final)"
      ],
      "metadata": {
        "colab": {
          "base_uri": "https://localhost:8080/"
        },
        "id": "_hIzcnZJtuCw",
        "outputId": "0221d183-ceed-4b6c-d276-d59eb437637d"
      },
      "execution_count": 194,
      "outputs": [
        {
          "output_type": "stream",
          "name": "stdout",
          "text": [
            "'data.frame':\t1572 obs. of  9 variables:\n",
            " $ COMUNA             : Factor w/ 3 levels \"Concepcion\",\"LaSerena\",..: 1 1 1 1 1 1 1 1 1 1 ...\n",
            " $ Anio               : num  2014 2014 2014 2014 2014 ...\n",
            " $ NuSemana           : num  1 10 11 12 13 14 15 16 17 18 ...\n",
            " $ medianaClim        : num  16.8 15.2 15.8 15.3 13.7 ...\n",
            " $ difMaxMin          : num  13.6 11.2 9.9 12 4.4 9.2 8.4 11.2 10.9 8.4 ...\n",
            " $ Mediana_HR_Valor   : num  58 76.5 80 72 81 84 86 73 90.5 93 ...\n",
            " $ Total_Valor_semPP  : num  0 0.4 12.8 0.8 52.8 0 5.8 0 1.6 79.4 ...\n",
            " $ Total_Valor_semMP25: num  48.2 21.4 47.9 86.3 112.4 ...\n",
            " $ NumTotalUrg        : int  574 938 1270 1702 1450 1480 1317 1353 1400 1215 ...\n"
          ]
        }
      ]
    },
    {
      "cell_type": "code",
      "source": [
        "# Grafico la cantidad de casos por región\n",
        "#df_plot1<-df_urgr_esp_semanal%>% group_by(RegionGlosa) %>% summarise(Total = sum(NumTotal, na.rm = TRUE))\n",
        "#options(repr.plot.width = 10, repr.plot.height = 10)\n",
        "#ggplot(df_plot1, aes(x=RegionGlosa, y= Total, fill= RegionGlosa)) + geom_bar(stat=\"identity\") +\n",
        "#scale_y_continuous(labels = scales::comma_format(accuracy = 1))+\n",
        "#theme(axis.text.x = element_text(angle = 75, vjust = .5))+\n",
        "#labs(x = \"Región\", y = \"Total Urgencias\", title = \"Total Urgencias x Región\")"
      ],
      "metadata": {
        "id": "9U0Uf1SXnlX9"
      },
      "execution_count": 195,
      "outputs": []
    },
    {
      "cell_type": "code",
      "source": [
        "# Obtengo cantidad de urgencias por año y region\n",
        "#df_resumen <- df_urgr_esp_semanal %>%\n",
        "#  group_by(Anio, RegionGlosa) %>%\n",
        "#  summarise(Total = sum(NumTotal, na.rm = TRUE))\n",
        "#  df_resumen"
      ],
      "metadata": {
        "id": "EmhGoM1e0ZOo"
      },
      "execution_count": 196,
      "outputs": []
    },
    {
      "cell_type": "code",
      "source": [
        "# Obtengo cantidad de urgencias por año, semana y region.\n",
        "#df_resumen <- df_urgr_esp_semanal %>%\n",
        "#  group_by(Anio, SemanaEstadistica, Causa) %>%\n",
        "#  summarise(Total = sum(NumTotal, na.rm = TRUE))\n",
        "#  df_resumen"
      ],
      "metadata": {
        "id": "M-wlfKZigc6v"
      },
      "execution_count": 197,
      "outputs": []
    },
    {
      "cell_type": "code",
      "source": [
        "# Defino caracteristicas y objetivo a predecir\n",
        "#features <- df_final[, -which(names(df_final) == \"NumTotalUrg\")]\n",
        "#target <- df_final$NumTotalUrg\n",
        "\n",
        "# Separo datos\n",
        "set.seed(123)\n",
        "train_index <- createDataPartition(target, p = 0.8, list = FALSE)\n",
        "train_data <- features[train_index, ]\n",
        "train_labels <- target[train_index]\n",
        "test_data <- features[-train_index, ]\n",
        "test_labels <- target[-train_index]\n",
        "\n",
        "#set.seed(123) # para reproducibilidad\n",
        "#index_train <- createDataPartition(df_final$NumTotalUrg, p = 0.7, list = FALSE)\n",
        "\n",
        "#train_data <- df_final[index_train, ]\n",
        "#remaining_data <- df_final[-index_train, ]\n",
        "\n",
        "#index_val <- createDataPartition(remaining_data$NumTotalUrg, p = 0.5, list = FALSE)\n",
        "\n",
        "#val_data <- remaining_data[index_val, ]\n",
        "#test_data <- remaining_data[-index_val, ]"
      ],
      "metadata": {
        "id": "VjYj_fEmugR7"
      },
      "execution_count": 215,
      "outputs": []
    },
    {
      "cell_type": "code",
      "source": [
        "# Set up training control\n",
        "train_control <- trainControl(method = \"cv\", number = 5)  # 5-fold cross-validation"
      ],
      "metadata": {
        "id": "XayDsTCGunqJ"
      },
      "execution_count": 216,
      "outputs": []
    },
    {
      "cell_type": "code",
      "source": [
        "# Define tuning grid (optional)\n",
        "tune_grid <- expand.grid(depth = 10,\n",
        "                    learning_rate = 0.1,\n",
        "                    iterations = 200,\n",
        "                    l2_leaf_reg = 0.1,\n",
        "                    rsm = 0.95,\n",
        "                    border_count = 64) # Adjust as needed\n",
        "\n",
        "# Train the model\n",
        "model <- train(x = train_data,\n",
        "              y = train_labels,\n",
        "              method = catboost.caret,\n",
        "              logging_level = 'Silent',\n",
        "              trControl = train_control,\n",
        "              tuneGrid = tune_grid)  # Include if using a tuning grid"
      ],
      "metadata": {
        "id": "hW0lzsuxuv01"
      },
      "execution_count": 217,
      "outputs": []
    },
    {
      "cell_type": "code",
      "source": [
        "# Make predictions\n",
        "predictions <- predict(model, test_data)\n",
        "\n",
        "# Evaluate the model (e.g., using RMSE)\n",
        "rmse <- sqrt(mean((predictions - test_labels)^2))\n",
        "print(paste(\"RMSE:\", rmse))\n",
        "\n",
        "#head (predictions, type ='prob')\n",
        "print(model)\n",
        "importance <- varImp(model, scale = FALSE)\n",
        "print(importance)\n",
        "\n",
        "#head (predictions, type ='prob',3150)"
      ],
      "metadata": {
        "colab": {
          "base_uri": "https://localhost:8080/"
        },
        "id": "TbyTguvbv2aV",
        "outputId": "e3d171a5-62d0-49e2-851b-c0af4ac1decb"
      },
      "execution_count": 218,
      "outputs": [
        {
          "output_type": "stream",
          "name": "stdout",
          "text": [
            "[1] \"RMSE: 204.339755786479\"\n",
            "Catboost \n",
            "\n",
            "1260 samples\n",
            "   8 predictor\n",
            "\n",
            "No pre-processing\n",
            "Resampling: Cross-Validated (5 fold) \n",
            "Summary of sample sizes: 1008, 1008, 1008, 1008, 1008 \n",
            "Resampling results:\n",
            "\n",
            "  RMSE      Rsquared   MAE     \n",
            "  228.7759  0.8774434  164.4473\n",
            "\n",
            "Tuning parameter 'depth' was held constant at a value of 10\n",
            "Tuning\n",
            " parameter 'rsm' was held constant at a value of 0.95\n",
            "Tuning\n",
            " parameter 'border_count' was held constant at a value of 64\n",
            "custom variable importance\n",
            "\n",
            "                    Overall\n",
            "Anio                 57.794\n",
            "NuSemana             13.022\n",
            "medianaClim          10.253\n",
            "COMUNA                8.244\n",
            "difMaxMin             3.057\n",
            "Total_Valor_semMP25   2.927\n",
            "Mediana_HR_Valor      2.429\n",
            "Total_Valor_semPP     2.273\n"
          ]
        }
      ]
    },
    {
      "cell_type": "code",
      "source": [
        "head(test_labels,313)\n"
      ],
      "metadata": {
        "id": "q07U__Jg8rlQ"
      },
      "execution_count": null,
      "outputs": []
    },
    {
      "cell_type": "code",
      "source": [
        "# Variables predictoras (todas excepto NumTotalUrg)\n",
        "predictoras <- df_final[, -which(names(df_final) == \"NumTotalUrg\")]\n",
        "\n",
        "# Variable objetivo\n",
        "objetivo <- df_final$NumTotalUrg"
      ],
      "metadata": {
        "id": "3YQiIMbRWLOK"
      },
      "execution_count": null,
      "outputs": []
    },
    {
      "cell_type": "code",
      "source": [
        "# Crea una partición aleatoria del 80% para entrenamiento\n",
        "set.seed(123)  # Para reproducibilidad\n",
        "indice_entrenamiento <- createDataPartition(objetivo, p = 0.8, list = FALSE)\n",
        "\n",
        "# Crea los conjuntos de datos\n",
        "datos_entrenamiento <- predictoras[indice_entrenamiento, ]\n",
        "etiquetas_entrenamiento <- objetivo[indice_entrenamiento]\n",
        "datos_prueba <- predictoras[-indice_entrenamiento, ]\n",
        "etiquetas_prueba <- objetivo[-indice_entrenamiento]"
      ],
      "metadata": {
        "id": "OxC9SLTGWSZF"
      },
      "execution_count": null,
      "outputs": []
    },
    {
      "cell_type": "code",
      "source": [
        "# Usa validación cruzada de 5 pliegues\n",
        "control_entrenamiento <- trainControl(method = \"cv\", number = 5)"
      ],
      "metadata": {
        "id": "cilCaQRVWVjS"
      },
      "execution_count": null,
      "outputs": []
    },
    {
      "cell_type": "code",
      "source": [
        "# Entrena el modelo usando la función train() de caret\n",
        "modelo_lineal <- train(x = datos_entrenamiento,\n",
        "                       y = etiquetas_entrenamiento,\n",
        "                       method = \"lm\",  # Especifica el método de regresión lineal\n",
        "                       trControl = control_entrenamiento)"
      ],
      "metadata": {
        "id": "30yJdqzqWm0-"
      },
      "execution_count": null,
      "outputs": []
    },
    {
      "cell_type": "code",
      "source": [
        "print(modelo_lineal)  # Muestra información del modelo, incluyendo R-squared"
      ],
      "metadata": {
        "id": "3JyjaY2WWrls"
      },
      "execution_count": null,
      "outputs": []
    },
    {
      "cell_type": "code",
      "source": [
        "predicciones_entrenamiento <- predict(modelo_lineal, newdata = datos_entrenamiento)"
      ],
      "metadata": {
        "id": "EuwhzZldXjtt"
      },
      "execution_count": null,
      "outputs": []
    },
    {
      "cell_type": "code",
      "source": [
        "# Calcula el R-squared\n",
        "# Primero, obtén las predicciones para los datos de entrenamiento\n",
        "r_cuadrado <- cor(predicciones_entrenamiento, etiquetas_entrenamiento)^2\n",
        "print(paste(\"R-squared:\", r_cuadrado))\n",
        "# Calcula el RMSE\n",
        "rmse <- sqrt(mean((predicciones_entrenamiento - etiquetas_prueba)^2))\n",
        "print(paste(\"RMSE:\", rmse))"
      ],
      "metadata": {
        "id": "aR-9pkKVaBPm"
      },
      "execution_count": null,
      "outputs": []
    },
    {
      "cell_type": "code",
      "source": [
        "head(etiquetas_entrenamiento,10)\n",
        "round(head(predicciones_entrenamiento,10),1)"
      ],
      "metadata": {
        "id": "1O-PcVfFYQ4O"
      },
      "execution_count": null,
      "outputs": []
    },
    {
      "cell_type": "code",
      "source": [
        "# Create dummy variables\n",
        "dummies <- dummyVars(\" ~ COMUNA\", data = df_final)\n",
        "df_with_dummies <- predict(dummies, newdata = df_final)\n",
        "\n",
        "# Convert to dataframe\n",
        "df_with_dummies <- data.frame(df_with_dummies)\n",
        "\n",
        "# Combine with original dataframe\n",
        "df_final_dummied <- cbind(df_final, df_with_dummies)\n",
        "\n",
        "# (Optional) Remove original COMUNA column\n",
        " df_final_dummied <- df_final_dummied[, -which(names(df_final_dummied) == \"COMUNA\")]\n"
      ],
      "metadata": {
        "id": "MpWZ_wVm9DGD"
      },
      "execution_count": null,
      "outputs": []
    },
    {
      "cell_type": "code",
      "source": [
        "df_final_dummied"
      ],
      "metadata": {
        "id": "utThmoYV9nfR"
      },
      "execution_count": null,
      "outputs": []
    },
    {
      "cell_type": "code",
      "source": [
        "# Variables predictoras (todas excepto NumTotalUrg)\n",
        "predictoras <- df_final_dummied[, -which(names(df_final_dummied) == \"NumTotalUrg\")]\n",
        "\n",
        "# Variable objetivo\n",
        "objetivo <- df_final_dummied$NumTotalUrg\n",
        "\n",
        "# Crea una partición aleatoria del 80% para entrenamiento\n",
        "set.seed(123)  # Para reproducibilidad\n",
        "indice_entrenamiento <- createDataPartition(objetivo, p = 0.8, list = FALSE)\n",
        "\n",
        "# Crea los conjuntos de datos\n",
        "datos_entrenamiento <- predictoras[indice_entrenamiento, ]\n",
        "etiquetas_entrenamiento <- objetivo[indice_entrenamiento]\n",
        "datos_prueba <- predictoras[-indice_entrenamiento, ]\n",
        "etiquetas_prueba <- objetivo[-indice_entrenamiento]\n",
        "\n",
        "# Usa validación cruzada de 5 pliegues\n",
        "control_entrenamiento <- trainControl(method = \"cv\", number = 5)\n",
        "# Entrena el modelo usando la función train() de caret\n",
        "modelo_lineal <- train(x = datos_entrenamiento,\n",
        "                       y = etiquetas_entrenamiento,\n",
        "                       method = \"lm\",  # Especifica el método de regresión lineal\n",
        "                       trControl = control_entrenamiento)\n",
        "\n",
        "\n",
        "print(modelo_lineal)  # Muestra información del modelo, incluyendo R-squared"
      ],
      "metadata": {
        "id": "xqtqjZ4yMpAX"
      },
      "execution_count": null,
      "outputs": []
    },
    {
      "cell_type": "code",
      "source": [
        "set.seed(123) # for reproducibility\n",
        "   index_train <- createDataPartition(df_final_dummied$NumTotalUrg, p = 0.7, list = FALSE) #Splitting data into 70%, 30%\n",
        "\n",
        "   train_data <- df_final_dummied[index_train, ] # 70% for training\n",
        "   remaining_data <- df_final_dummied[-index_train, ] # 30% for validation and test\n",
        "\n",
        "   index_val <- createDataPartition(remaining_data$NumTotalUrg, p = 0.5, list = FALSE) # 50% of the 30% (15% of the original) for validation\n",
        "\n",
        "   val_data <- remaining_data[index_val, ]\n",
        "   test_data <- remaining_data[-index_val, ]\n",
        "\n",
        "#Reasoning: We split the data into three parts: training (70%), validation (15%), and test (15%). This allows us to tune the model using the validation set and then evaluate its performance on the unseen test set.\n",
        "\n",
        "   train_control <- trainControl(method = \"cv\", number = 5)  # 5-fold cross-validation\n",
        "   model <- train(NumTotalUrg ~ ., data = train_data, method = \"lm\", trControl = train_control)\n",
        "\n",
        "#Reasoning: Here, we train a linear regression model (lm) using the training data. We use 5-fold cross-validation (trainControl) to estimate the model's performance and prevent overfitting.\n",
        "\n",
        "\n",
        "   predictions <- predict(model, newdata = val_data) #Making predictions on validation dataset\n",
        "   rmse <- sqrt(mean((predictions - val_data$NumTotalUrg)^2))  # Calculate RMSE\n",
        "   print(paste(\"RMSE on Validation Set:\", rmse))\n",
        "\n",
        "   predictions_test <- predict(model, newdata = test_data) #Making predictions on the test dataset\n",
        "   rmse_test <- sqrt(mean((predictions_test - test_data$NumTotalUrg)^2))  # Calculate RMSE\n",
        "   print(paste(\"RMSE on Test Set:\", rmse_test))\n",
        "\n",
        "   #Reasoning: We make predictions on the validation and test data and evaluate the model's performance using Root Mean Squared Error (RMSE).\n",
        "   print(model)"
      ],
      "metadata": {
        "id": "DTGLqftMSJ_F"
      },
      "execution_count": null,
      "outputs": []
    },
    {
      "cell_type": "code",
      "source": [
        "set.seed(123)  # Para reproducibilidad\n",
        "\n",
        "# 1. Dividir en entrenamiento y el resto (para validación y prueba)\n",
        "train_index <- createDataPartition(target, p = 0.7, list = FALSE) # 70% para entrenamiento\n",
        "train_data <- features[train_index, ]\n",
        "train_labels <- target[train_index]\n",
        "remaining_data <- features[-train_index, ] # 30% restante\n",
        "remaining_labels <- target[-train_index]\n",
        "\n",
        "# 2. Dividir el resto en validación y prueba (50% cada uno)\n",
        "val_index <- createDataPartition(remaining_labels, p = 0.5, list = FALSE) # 15% del total para validación\n",
        "val_data <- remaining_data[val_index, ]\n",
        "val_labels <- remaining_labels[val_index]\n",
        "test_data <- remaining_data[-val_index, ] # 15% del total para prueba\n",
        "test_labels <- remaining_labels[-val_index]\n",
        "\n",
        "# Set up training control\n",
        "train_control <- trainControl(method = \"cv\", number = 5)  # 5-fold cross-validation\n",
        "\n",
        "# Define tuning grid (optional)\n",
        "tune_grid <- expand.grid(depth = 10,\n",
        "                    learning_rate = 0.1,\n",
        "                    iterations = 200,\n",
        "                    l2_leaf_reg = 0.1,\n",
        "                    rsm = 0.95,\n",
        "                    border_count = 64) # Adjust as needed\n",
        "\n",
        "# Train the model\n",
        "model <- train(x = train_data,\n",
        "              y = train_labels,\n",
        "              method = catboost.caret,\n",
        "              logging_level = 'Silent',\n",
        "              trControl = train_control,\n",
        "              tuneGrid = tune_grid)  # Include if using a tuning grid\n",
        "\n",
        "# Make predictions\n",
        "predictions <- predict(model, val_data)\n",
        "\n",
        "# Evaluate the model (e.g., using RMSE)\n",
        "rmse <- sqrt(mean((predictions - val_labels)^2))\n",
        "print(paste(\"RMSE:\", rmse))\n",
        "\n",
        "#head (predictions, type ='prob')\n",
        "print(model)\n",
        "importance <- varImp(model, scale = FALSE)\n",
        "print(importance)"
      ],
      "metadata": {
        "id": "ZQA6-UVKQzwE",
        "outputId": "a1e29f82-d197-4460-d466-41fcf8021ac7",
        "colab": {
          "base_uri": "https://localhost:8080/"
        }
      },
      "execution_count": 222,
      "outputs": [
        {
          "output_type": "stream",
          "name": "stdout",
          "text": [
            "[1] \"RMSE: 243.394511449565\"\n",
            "Catboost \n",
            "\n",
            "1104 samples\n",
            "   8 predictor\n",
            "\n",
            "No pre-processing\n",
            "Resampling: Cross-Validated (5 fold) \n",
            "Summary of sample sizes: 884, 883, 882, 884, 883 \n",
            "Resampling results:\n",
            "\n",
            "  RMSE      Rsquared   MAE     \n",
            "  231.3904  0.8730879  169.3127\n",
            "\n",
            "Tuning parameter 'depth' was held constant at a value of 10\n",
            "Tuning\n",
            " parameter 'rsm' was held constant at a value of 0.95\n",
            "Tuning\n",
            " parameter 'border_count' was held constant at a value of 64\n",
            "custom variable importance\n",
            "\n",
            "                    Overall\n",
            "Anio                 56.476\n",
            "NuSemana             13.657\n",
            "medianaClim          11.004\n",
            "COMUNA                8.247\n",
            "Total_Valor_semMP25   3.146\n",
            "difMaxMin             2.875\n",
            "Mediana_HR_Valor      2.627\n",
            "Total_Valor_semPP     1.968\n"
          ]
        }
      ]
    },
    {
      "cell_type": "code",
      "source": [
        "predictions2 <- predict(model, val_data)\n",
        "\n",
        "# Evaluate the model (e.g., using RMSE)\n",
        "rmse <- sqrt(mean((predictions2 - val_labels)^2))\n",
        "print(paste(\"RMSE:\", rmse))\n",
        "\n",
        "\n",
        "\n",
        "# 2. Calcular el R cuadrado (manualmente):\n",
        "SSR <- sum((val_labels - predictions2)^2)  # Suma de cuadrados de los residuos\n",
        "SST <- sum((val_labels - mean(val_labels))^2)  # Suma total de cuadrados\n",
        "R_squared_pred <- 1 - (SSR / SST)  # R cuadrado de la predicción\n",
        "\n",
        "# 3. Imprimir el R cuadrado de la predicción:\n",
        "print(paste(\"R cuadrado de la predicción:\", R_squared_pred))"
      ],
      "metadata": {
        "id": "DVRWCuVSYIvT",
        "outputId": "8a4c26dd-53a0-4a95-ec11-8f087391aac0",
        "colab": {
          "base_uri": "https://localhost:8080/"
        }
      },
      "execution_count": 231,
      "outputs": [
        {
          "output_type": "stream",
          "name": "stdout",
          "text": [
            "[1] \"RMSE: 243.394511449565\"\n",
            "[1] \"R cuadrado de la predicción: 0.867863418740315\"\n"
          ]
        }
      ]
    }
  ]
}