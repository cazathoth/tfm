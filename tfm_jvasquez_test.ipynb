{
  "nbformat": 4,
  "nbformat_minor": 0,
  "metadata": {
    "colab": {
      "provenance": [],
      "gpuType": "T4",
      "authorship_tag": "ABX9TyPjD/8ahe3iaVxSkI395d4T",
      "include_colab_link": true
    },
    "kernelspec": {
      "name": "ir",
      "display_name": "R"
    },
    "language_info": {
      "name": "R"
    },
    "accelerator": "GPU"
  },
  "cells": [
    {
      "cell_type": "markdown",
      "metadata": {
        "id": "view-in-github",
        "colab_type": "text"
      },
      "source": [
        "<a href=\"https://colab.research.google.com/github/cazathoth/tfm/blob/main/tfm_jvasquez_test.ipynb\" target=\"_parent\"><img src=\"https://colab.research.google.com/assets/colab-badge.svg\" alt=\"Open In Colab\"/></a>"
      ]
    },
    {
      "cell_type": "code",
      "execution_count": null,
      "metadata": {
        "colab": {
          "base_uri": "https://localhost:8080/"
        },
        "collapsed": true,
        "id": "dYQtmnm-tU_g",
        "outputId": "489d061f-6048-46e6-d0b5-9c594f20471f"
      },
      "outputs": [
        {
          "output_type": "stream",
          "name": "stderr",
          "text": [
            "Installing package into ‘/usr/local/lib/R/site-library’\n",
            "(as ‘lib’ is unspecified)\n",
            "\n",
            "Installing package into ‘/usr/local/lib/R/site-library’\n",
            "(as ‘lib’ is unspecified)\n",
            "\n"
          ]
        }
      ],
      "source": [
        "install.packages(\"tidyverse\")\n",
        "install.packages(\"arrow\")\n",
        "sdsddsd"
      ]
    },
    {
      "cell_type": "code",
      "source": [
        "library(\"tidyverse\")\n",
        "library(\"arrow\")"
      ],
      "metadata": {
        "colab": {
          "base_uri": "https://localhost:8080/"
        },
        "collapsed": true,
        "id": "nF9tJ2Z2tcfR",
        "outputId": "7ca117d1-d06c-4369-83d7-a642999ab6ab"
      },
      "execution_count": null,
      "outputs": [
        {
          "output_type": "stream",
          "name": "stderr",
          "text": [
            "\n",
            "Attaching package: ‘arrow’\n",
            "\n",
            "\n",
            "The following object is masked from ‘package:lubridate’:\n",
            "\n",
            "    duration\n",
            "\n",
            "\n",
            "The following object is masked from ‘package:utils’:\n",
            "\n",
            "    timestamp\n",
            "\n",
            "\n"
          ]
        }
      ]
    },
    {
      "cell_type": "code",
      "source": [
        "dir.create(\"descargas\")"
      ],
      "metadata": {
        "id": "d5Y99Z6HyfbW"
      },
      "execution_count": null,
      "outputs": []
    },
    {
      "cell_type": "code",
      "source": [
        "url <- \"https://datos.gob.cl/dataset/606ef5bb-11d1-475b-b69f-b980da5757f4/resource/ae6c9887-106d-4e98-8875-40bf2b836041/download/at_urg_respiratorio_semanal.parquet\"\n",
        "nombre_temporal <- \"descargas/at_urg_respiratorio_semanal.parquet\"\n",
        "download.file(url, nombre_temporal)"
      ],
      "metadata": {
        "id": "dxpqJfpYxZsn"
      },
      "execution_count": null,
      "outputs": []
    },
    {
      "cell_type": "code",
      "source": [
        "df_urgr_esp_semanal <- read_parquet(\"descargas/at_urg_respiratorio_semanal.parquet\")\n",
        "df_urgr_esp_semanal<- df_urgr_esp_semanal %>% filter (!is.na(RegionCodigo %in% c(8,4,13)))\n",
        "count(df_urgr_esp_semanal)\n",
        "head(df_urgr_esp_semanal,5)"
      ],
      "metadata": {
        "colab": {
          "base_uri": "https://localhost:8080/",
          "height": 648
        },
        "id": "SPdSAwt-zfD7",
        "outputId": "662ffb02-0a15-4eca-d2fb-af42e941ee9a"
      },
      "execution_count": null,
      "outputs": [
        {
          "output_type": "display_data",
          "data": {
            "text/html": [
              "<table class=\"dataframe\">\n",
              "<caption>A tibble: 1 × 1</caption>\n",
              "<thead>\n",
              "\t<tr><th scope=col>n</th></tr>\n",
              "\t<tr><th scope=col>&lt;int&gt;</th></tr>\n",
              "</thead>\n",
              "<tbody>\n",
              "\t<tr><td>2793747</td></tr>\n",
              "</tbody>\n",
              "</table>\n"
            ],
            "text/markdown": "\nA tibble: 1 × 1\n\n| n &lt;int&gt; |\n|---|\n| 2793747 |\n\n",
            "text/latex": "A tibble: 1 × 1\n\\begin{tabular}{l}\n n\\\\\n <int>\\\\\n\\hline\n\t 2793747\\\\\n\\end{tabular}\n",
            "text/plain": [
              "  n      \n",
              "1 2793747"
            ]
          },
          "metadata": {}
        },
        {
          "output_type": "display_data",
          "data": {
            "text/html": [
              "<table class=\"dataframe\">\n",
              "<caption>A tibble: 5 × 25</caption>\n",
              "<thead>\n",
              "\t<tr><th scope=col>EstablecimientoCodigo</th><th scope=col>EstablecimientoGlosa</th><th scope=col>RegionCodigo</th><th scope=col>RegionGlosa</th><th scope=col>ComunaCodigo</th><th scope=col>ComunaGlosa</th><th scope=col>ServicioSaludCodigo</th><th scope=col>ServicioSaludGlosa</th><th scope=col>TipoEstablecimiento</th><th scope=col>DependenciaAdministrativa</th><th scope=col>⋯</th><th scope=col>Anio</th><th scope=col>SemanaEstadistica</th><th scope=col>OrdenCausa</th><th scope=col>Causa</th><th scope=col>NumTotal</th><th scope=col>NumMenor1Anio</th><th scope=col>Num1a4Anios</th><th scope=col>Num5a14Anios</th><th scope=col>Num15a64Anios</th><th scope=col>Num65oMas</th></tr>\n",
              "\t<tr><th scope=col>&lt;chr&gt;</th><th scope=col>&lt;chr&gt;</th><th scope=col>&lt;chr&gt;</th><th scope=col>&lt;chr&gt;</th><th scope=col>&lt;chr&gt;</th><th scope=col>&lt;chr&gt;</th><th scope=col>&lt;chr&gt;</th><th scope=col>&lt;chr&gt;</th><th scope=col>&lt;chr&gt;</th><th scope=col>&lt;chr&gt;</th><th scope=col>⋯</th><th scope=col>&lt;int&gt;</th><th scope=col>&lt;int&gt;</th><th scope=col>&lt;int&gt;</th><th scope=col>&lt;chr&gt;</th><th scope=col>&lt;int&gt;</th><th scope=col>&lt;int&gt;</th><th scope=col>&lt;int&gt;</th><th scope=col>&lt;int&gt;</th><th scope=col>&lt;int&gt;</th><th scope=col>&lt;int&gt;</th></tr>\n",
              "</thead>\n",
              "<tbody>\n",
              "\t<tr><td>200104</td><td>SAPU El Palomar     </td><td>3 </td><td>Región De Atacama               </td><td>3101 </td><td>Copiapó   </td><td>4 </td><td>Servicio de Salud Atacama            </td><td>Servicio de Atención Primaria de Urgencia (SAPU)                     </td><td>Municipal</td><td>⋯</td><td>2023</td><td>42</td><td>32</td><td>HOSPITALIZACIONES POR CAUSAS SISTEMA RESPIRATORIO   </td><td>0</td><td>0</td><td>0</td><td>0</td><td>0</td><td>0</td></tr>\n",
              "\t<tr><td>NA    </td><td>NA                  </td><td>NA</td><td>NA                              </td><td>NA   </td><td>NA        </td><td>NA</td><td>NA                                   </td><td>NA                                                                   </td><td>NA       </td><td>⋯</td><td>2023</td><td>46</td><td> 7</td><td>Bronquitis/bronquiolitis aguda (J20-J21)            </td><td>8</td><td>1</td><td>1</td><td>3</td><td>1</td><td>2</td></tr>\n",
              "\t<tr><td>118809</td><td>SAPU Lorenzo Arenas </td><td>8 </td><td>Región Del Bíobío               </td><td>8101 </td><td>Concepción</td><td>18</td><td>Servicio de Salud Concepción         </td><td>Servicio de Atención Primaria de Urgencia (SAPU)                     </td><td>Municipal</td><td>⋯</td><td>2018</td><td>15</td><td> 9</td><td>Otra causa respiratoria (J22, J30-J39, J47, J60-J98)</td><td>1</td><td>0</td><td>0</td><td>0</td><td>1</td><td>0</td></tr>\n",
              "\t<tr><td>120805</td><td>SAR Cabrero         </td><td>8 </td><td>Región Del Bíobío               </td><td>8303 </td><td>Cabrero   </td><td>20</td><td>Servicio de Salud Biobío             </td><td>Servicio de Atención Primaria de Urgencia de Alta Resolutividad (SAR)</td><td>Municipal</td><td>⋯</td><td>2018</td><td> 9</td><td>32</td><td>HOSPITALIZACIONES POR CAUSAS SISTEMA RESPIRATORIO   </td><td>0</td><td>0</td><td>0</td><td>0</td><td>0</td><td>0</td></tr>\n",
              "\t<tr><td>109811</td><td>SAPU José Bauzá Frau</td><td>13</td><td>Región Metropolitana de Santiago</td><td>13302</td><td>Lampa     </td><td>9 </td><td>Servicio de Salud Metropolitano Norte</td><td>Servicio de Atención Primaria de Urgencia (SAPU)                     </td><td>Municipal</td><td>⋯</td><td>2021</td><td>17</td><td>32</td><td>HOSPITALIZACIONES POR CAUSAS SISTEMA RESPIRATORIO   </td><td>0</td><td>0</td><td>0</td><td>0</td><td>0</td><td>0</td></tr>\n",
              "</tbody>\n",
              "</table>\n"
            ],
            "text/markdown": "\nA tibble: 5 × 25\n\n| EstablecimientoCodigo &lt;chr&gt; | EstablecimientoGlosa &lt;chr&gt; | RegionCodigo &lt;chr&gt; | RegionGlosa &lt;chr&gt; | ComunaCodigo &lt;chr&gt; | ComunaGlosa &lt;chr&gt; | ServicioSaludCodigo &lt;chr&gt; | ServicioSaludGlosa &lt;chr&gt; | TipoEstablecimiento &lt;chr&gt; | DependenciaAdministrativa &lt;chr&gt; | ⋯ ⋯ | Anio &lt;int&gt; | SemanaEstadistica &lt;int&gt; | OrdenCausa &lt;int&gt; | Causa &lt;chr&gt; | NumTotal &lt;int&gt; | NumMenor1Anio &lt;int&gt; | Num1a4Anios &lt;int&gt; | Num5a14Anios &lt;int&gt; | Num15a64Anios &lt;int&gt; | Num65oMas &lt;int&gt; |\n|---|---|---|---|---|---|---|---|---|---|---|---|---|---|---|---|---|---|---|---|---|\n| 200104 | SAPU El Palomar      | 3  | Región De Atacama                | 3101  | Copiapó    | 4  | Servicio de Salud Atacama             | Servicio de Atención Primaria de Urgencia (SAPU)                      | Municipal | ⋯ | 2023 | 42 | 32 | HOSPITALIZACIONES POR CAUSAS SISTEMA RESPIRATORIO    | 0 | 0 | 0 | 0 | 0 | 0 |\n| NA     | NA                   | NA | NA                               | NA    | NA         | NA | NA                                    | NA                                                                    | NA        | ⋯ | 2023 | 46 |  7 | Bronquitis/bronquiolitis aguda (J20-J21)             | 8 | 1 | 1 | 3 | 1 | 2 |\n| 118809 | SAPU Lorenzo Arenas  | 8  | Región Del Bíobío                | 8101  | Concepción | 18 | Servicio de Salud Concepción          | Servicio de Atención Primaria de Urgencia (SAPU)                      | Municipal | ⋯ | 2018 | 15 |  9 | Otra causa respiratoria (J22, J30-J39, J47, J60-J98) | 1 | 0 | 0 | 0 | 1 | 0 |\n| 120805 | SAR Cabrero          | 8  | Región Del Bíobío                | 8303  | Cabrero    | 20 | Servicio de Salud Biobío              | Servicio de Atención Primaria de Urgencia de Alta Resolutividad (SAR) | Municipal | ⋯ | 2018 |  9 | 32 | HOSPITALIZACIONES POR CAUSAS SISTEMA RESPIRATORIO    | 0 | 0 | 0 | 0 | 0 | 0 |\n| 109811 | SAPU José Bauzá Frau | 13 | Región Metropolitana de Santiago | 13302 | Lampa      | 9  | Servicio de Salud Metropolitano Norte | Servicio de Atención Primaria de Urgencia (SAPU)                      | Municipal | ⋯ | 2021 | 17 | 32 | HOSPITALIZACIONES POR CAUSAS SISTEMA RESPIRATORIO    | 0 | 0 | 0 | 0 | 0 | 0 |\n\n",
            "text/latex": "A tibble: 5 × 25\n\\begin{tabular}{lllllllllllllllllllll}\n EstablecimientoCodigo & EstablecimientoGlosa & RegionCodigo & RegionGlosa & ComunaCodigo & ComunaGlosa & ServicioSaludCodigo & ServicioSaludGlosa & TipoEstablecimiento & DependenciaAdministrativa & ⋯ & Anio & SemanaEstadistica & OrdenCausa & Causa & NumTotal & NumMenor1Anio & Num1a4Anios & Num5a14Anios & Num15a64Anios & Num65oMas\\\\\n <chr> & <chr> & <chr> & <chr> & <chr> & <chr> & <chr> & <chr> & <chr> & <chr> & ⋯ & <int> & <int> & <int> & <chr> & <int> & <int> & <int> & <int> & <int> & <int>\\\\\n\\hline\n\t 200104 & SAPU El Palomar      & 3  & Región De Atacama                & 3101  & Copiapó    & 4  & Servicio de Salud Atacama             & Servicio de Atención Primaria de Urgencia (SAPU)                      & Municipal & ⋯ & 2023 & 42 & 32 & HOSPITALIZACIONES POR CAUSAS SISTEMA RESPIRATORIO    & 0 & 0 & 0 & 0 & 0 & 0\\\\\n\t NA     & NA                   & NA & NA                               & NA    & NA         & NA & NA                                    & NA                                                                    & NA        & ⋯ & 2023 & 46 &  7 & Bronquitis/bronquiolitis aguda (J20-J21)             & 8 & 1 & 1 & 3 & 1 & 2\\\\\n\t 118809 & SAPU Lorenzo Arenas  & 8  & Región Del Bíobío                & 8101  & Concepción & 18 & Servicio de Salud Concepción          & Servicio de Atención Primaria de Urgencia (SAPU)                      & Municipal & ⋯ & 2018 & 15 &  9 & Otra causa respiratoria (J22, J30-J39, J47, J60-J98) & 1 & 0 & 0 & 0 & 1 & 0\\\\\n\t 120805 & SAR Cabrero          & 8  & Región Del Bíobío                & 8303  & Cabrero    & 20 & Servicio de Salud Biobío              & Servicio de Atención Primaria de Urgencia de Alta Resolutividad (SAR) & Municipal & ⋯ & 2018 &  9 & 32 & HOSPITALIZACIONES POR CAUSAS SISTEMA RESPIRATORIO    & 0 & 0 & 0 & 0 & 0 & 0\\\\\n\t 109811 & SAPU José Bauzá Frau & 13 & Región Metropolitana de Santiago & 13302 & Lampa      & 9  & Servicio de Salud Metropolitano Norte & Servicio de Atención Primaria de Urgencia (SAPU)                      & Municipal & ⋯ & 2021 & 17 & 32 & HOSPITALIZACIONES POR CAUSAS SISTEMA RESPIRATORIO    & 0 & 0 & 0 & 0 & 0 & 0\\\\\n\\end{tabular}\n",
            "text/plain": [
              "  EstablecimientoCodigo EstablecimientoGlosa RegionCodigo\n",
              "1 200104                SAPU El Palomar      3           \n",
              "2 NA                    NA                   NA          \n",
              "3 118809                SAPU Lorenzo Arenas  8           \n",
              "4 120805                SAR Cabrero          8           \n",
              "5 109811                SAPU José Bauzá Frau 13          \n",
              "  RegionGlosa                      ComunaCodigo ComunaGlosa ServicioSaludCodigo\n",
              "1 Región De Atacama                3101         Copiapó     4                  \n",
              "2 NA                               NA           NA          NA                 \n",
              "3 Región Del Bíobío                8101         Concepción  18                 \n",
              "4 Región Del Bíobío                8303         Cabrero     20                 \n",
              "5 Región Metropolitana de Santiago 13302        Lampa       9                  \n",
              "  ServicioSaludGlosa                   \n",
              "1 Servicio de Salud Atacama            \n",
              "2 NA                                   \n",
              "3 Servicio de Salud Concepción         \n",
              "4 Servicio de Salud Biobío             \n",
              "5 Servicio de Salud Metropolitano Norte\n",
              "  TipoEstablecimiento                                                  \n",
              "1 Servicio de Atención Primaria de Urgencia (SAPU)                     \n",
              "2 NA                                                                   \n",
              "3 Servicio de Atención Primaria de Urgencia (SAPU)                     \n",
              "4 Servicio de Atención Primaria de Urgencia de Alta Resolutividad (SAR)\n",
              "5 Servicio de Atención Primaria de Urgencia (SAPU)                     \n",
              "  DependenciaAdministrativa ⋯ Anio SemanaEstadistica OrdenCausa\n",
              "1 Municipal                 ⋯ 2023 42                32        \n",
              "2 NA                        ⋯ 2023 46                 7        \n",
              "3 Municipal                 ⋯ 2018 15                 9        \n",
              "4 Municipal                 ⋯ 2018  9                32        \n",
              "5 Municipal                 ⋯ 2021 17                32        \n",
              "  Causa                                                NumTotal NumMenor1Anio\n",
              "1 HOSPITALIZACIONES POR CAUSAS SISTEMA RESPIRATORIO    0        0            \n",
              "2 Bronquitis/bronquiolitis aguda (J20-J21)             8        1            \n",
              "3 Otra causa respiratoria (J22, J30-J39, J47, J60-J98) 1        0            \n",
              "4 HOSPITALIZACIONES POR CAUSAS SISTEMA RESPIRATORIO    0        0            \n",
              "5 HOSPITALIZACIONES POR CAUSAS SISTEMA RESPIRATORIO    0        0            \n",
              "  Num1a4Anios Num5a14Anios Num15a64Anios Num65oMas\n",
              "1 0           0            0             0        \n",
              "2 1           3            1             2        \n",
              "3 0           0            1             0        \n",
              "4 0           0            0             0        \n",
              "5 0           0            0             0        "
            ]
          },
          "metadata": {}
        }
      ]
    },
    {
      "cell_type": "code",
      "source": [
        "barplot(df_urgr_esp_semanal$NumTotal,df_urgr_esp_semanal$RegionCodigo)"
      ],
      "metadata": {
        "colab": {
          "base_uri": "https://localhost:8080/",
          "height": 159
        },
        "id": "KwBvVWeB1erT",
        "outputId": "49effbf3-094a-4f74-894b-1dc83e95e672"
      },
      "execution_count": null,
      "outputs": [
        {
          "output_type": "stream",
          "name": "stderr",
          "text": [
            "Warning message in mean.default(width):\n",
            "“argument is not numeric or logical: returning NA”\n"
          ]
        },
        {
          "output_type": "error",
          "ename": "ERROR",
          "evalue": "Error in width/2: non-numeric argument to binary operator\n",
          "traceback": [
            "Error in width/2: non-numeric argument to binary operator\nTraceback:\n",
            "1. barplot(df_urgr_esp_semanal$NumTotal, df_urgr_esp_semanal$RegionCodigo)",
            "2. barplot.default(df_urgr_esp_semanal$NumTotal, df_urgr_esp_semanal$RegionCodigo)"
          ]
        }
      ]
    }
  ]
}