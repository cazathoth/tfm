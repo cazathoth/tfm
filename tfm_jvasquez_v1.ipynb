{
  "nbformat": 4,
  "nbformat_minor": 0,
  "metadata": {
    "colab": {
      "provenance": [],
      "authorship_tag": "ABX9TyMbjn0yGRF6yzaagaNbj/rg",
      "include_colab_link": true
    },
    "kernelspec": {
      "name": "ir",
      "display_name": "R"
    },
    "language_info": {
      "name": "R"
    }
  },
  "cells": [
    {
      "cell_type": "markdown",
      "metadata": {
        "id": "view-in-github",
        "colab_type": "text"
      },
      "source": [
        "<a href=\"https://colab.research.google.com/github/cazathoth/tfm/blob/main/tfm_jvasquez_v1.ipynb\" target=\"_parent\"><img src=\"https://colab.research.google.com/assets/colab-badge.svg\" alt=\"Open In Colab\"/></a>"
      ]
    },
    {
      "cell_type": "code",
      "execution_count": 1,
      "metadata": {
        "colab": {
          "base_uri": "https://localhost:8080/"
        },
        "collapsed": true,
        "id": "dYQtmnm-tU_g",
        "outputId": "68f5b1d6-1d3a-400e-ead5-1320630c036c"
      },
      "outputs": [
        {
          "output_type": "stream",
          "name": "stderr",
          "text": [
            "Installing package into ‘/usr/local/lib/R/site-library’\n",
            "(as ‘lib’ is unspecified)\n",
            "\n",
            "Installing package into ‘/usr/local/lib/R/site-library’\n",
            "(as ‘lib’ is unspecified)\n",
            "\n",
            "also installing the dependency ‘assertthat’\n",
            "\n",
            "\n",
            "Installing package into ‘/usr/local/lib/R/site-library’\n",
            "(as ‘lib’ is unspecified)\n",
            "\n"
          ]
        }
      ],
      "source": [
        "#descarga librerias.\n",
        "install.packages(\"tidyverse\")\n",
        "install.packages(\"arrow\")\n",
        "install.packages(\"lubridate\")\n",
        "#install.packages('devtools')\n",
        "#devtools::install_github('catboost/catboost', subdir = 'catboost/R-package')"
      ]
    },
    {
      "cell_type": "code",
      "source": [
        "install.packages(\"corrplot\")"
      ],
      "metadata": {
        "id": "cRIdkTaXsKBI",
        "outputId": "e8f65861-a408-483d-e2bc-52f0a08540d2",
        "colab": {
          "base_uri": "https://localhost:8080/"
        }
      },
      "execution_count": 86,
      "outputs": [
        {
          "output_type": "stream",
          "name": "stderr",
          "text": [
            "Installing package into ‘/usr/local/lib/R/site-library’\n",
            "(as ‘lib’ is unspecified)\n",
            "\n"
          ]
        }
      ]
    },
    {
      "cell_type": "code",
      "source": [
        "#cargo librerias a utilizar.\n",
        "library(\"tidyverse\")\n",
        "library(\"arrow\")\n",
        "library(\"lubridate\")\n",
        "library (\"corrplot\")\n",
        "#library(\"catboost\")"
      ],
      "metadata": {
        "collapsed": true,
        "id": "nF9tJ2Z2tcfR",
        "colab": {
          "base_uri": "https://localhost:8080/"
        },
        "outputId": "7fe91a10-a633-45af-c402-be1a5bfd22dc"
      },
      "execution_count": 87,
      "outputs": [
        {
          "output_type": "stream",
          "name": "stderr",
          "text": [
            "corrplot 0.94 loaded\n",
            "\n"
          ]
        }
      ]
    },
    {
      "cell_type": "code",
      "source": [
        "#creo directorio y descargo dataset con datos de urgencias respiratorias\n",
        "dir.create(\"descargas\")\n",
        "url <- \"https://datos.gob.cl/dataset/606ef5bb-11d1-475b-b69f-b980da5757f4/resource/ae6c9887-106d-4e98-8875-40bf2b836041/download/at_urg_respiratorio_semanal.parquet\"\n",
        "nombre_temporal <- \"descargas/at_urg_respiratorio_semanal.parquet\"\n",
        "download.file(url, nombre_temporal)"
      ],
      "metadata": {
        "id": "dxpqJfpYxZsn"
      },
      "execution_count": 3,
      "outputs": []
    },
    {
      "cell_type": "code",
      "source": [
        "#Descargo datos meteorologicos- temperatura\n",
        "url <- \"https://raw.githubusercontent.com/cazathoth/data/9ed2ff302d64b81e79eab693e77d12f805ed65ba/MERGE_XXXX_DiarioTs_.csv\"\n",
        "nombre_temporal <- \"descargas/MERGE_XXXX_DiarioTs_.csv\"\n",
        "download.file(url, nombre_temporal)"
      ],
      "metadata": {
        "id": "B5FJdDWXO5fT"
      },
      "execution_count": 4,
      "outputs": []
    },
    {
      "cell_type": "code",
      "source": [
        "#Descargo datos meteorologicos- precipitaciones\n",
        "url <- \"https://raw.githubusercontent.com/cazathoth/data/43bad08be793c38c993d524d182dcb2597e14714/MERGE_DiarioRR.csv\"\n",
        "nombre_temporal <- \"descargas/MERGE_DiarioRR.csv\"\n",
        "download.file(url, nombre_temporal)"
      ],
      "metadata": {
        "id": "hbru5hT8xRMn"
      },
      "execution_count": 5,
      "outputs": []
    },
    {
      "cell_type": "code",
      "source": [
        "#Descargo zip datos meteorologicos- humedad\n",
        "url <- \"https://github.com/cazathoth/data/raw/69c13d02f49cd04ee16ab8063f872e2aa9b2632a/MERGE_Humedad.zip\"\n",
        "nombre_temporal <- \"descargas/MERGE_Humedad.zip\"\n",
        "download.file(url, nombre_temporal)\n",
        "#Descomprimo archivo zip\n",
        "unzip(\"/content/descargas/MERGE_Humedad.zip\", exdir = \"/content/descargas/\")"
      ],
      "metadata": {
        "id": "gvslMr7ohtBQ"
      },
      "execution_count": 6,
      "outputs": []
    },
    {
      "cell_type": "code",
      "source": [
        "#Descargo datos material particulado\n",
        "url <- \"https://raw.githubusercontent.com/cazathoth/data/6b00e8ef9b16a1802825e7914f998a6dd5e8f486/MERGE_MP.csv\"\n",
        "nombre_temporal <- \"descargas/MERGE_MP.csv\"\n",
        "download.file(url, nombre_temporal)"
      ],
      "metadata": {
        "id": "QjmvuWWo0aa6"
      },
      "execution_count": 7,
      "outputs": []
    },
    {
      "cell_type": "code",
      "source": [
        "# Creo data frame urgencias y filtro por comuna de Santiago, La Serena y Concepción, luego cargo los datos\n",
        "df_urgr_esp_semanal <- read_parquet(\"descargas/at_urg_respiratorio_semanal.parquet\", col_select = c ('EstablecimientoCodigo','ComunaCodigo', COMUNA='ComunaGlosa', 'Anio', NuSemana='SemanaEstadistica','OrdenCausa','Causa','NumTotal'))\n",
        "df_urgr_esp_semanal <- df_urgr_esp_semanal %>% filter (ComunaCodigo %in% c(4101, 8101, 13101) & OrdenCausa ==3)\n",
        "df_urgr_esp_semanal <- df_urgr_esp_semanal %>% rename(COMUNA = ComunaGlosa, NuSemana = SemanaEstadistica)\n",
        "head(df_urgr_esp_semanal,3)"
      ],
      "metadata": {
        "id": "Qb5IXYxZNZkc",
        "outputId": "cd03de1e-04a1-4006-f477-6aef6972d80b",
        "colab": {
          "base_uri": "https://localhost:8080/",
          "height": 192
        }
      },
      "execution_count": 101,
      "outputs": [
        {
          "output_type": "display_data",
          "data": {
            "text/html": [
              "<table class=\"dataframe\">\n",
              "<caption>A tibble: 3 × 8</caption>\n",
              "<thead>\n",
              "\t<tr><th scope=col>EstablecimientoCodigo</th><th scope=col>ComunaCodigo</th><th scope=col>COMUNA</th><th scope=col>Anio</th><th scope=col>NuSemana</th><th scope=col>OrdenCausa</th><th scope=col>Causa</th><th scope=col>NumTotal</th></tr>\n",
              "\t<tr><th scope=col>&lt;chr&gt;</th><th scope=col>&lt;chr&gt;</th><th scope=col>&lt;chr&gt;</th><th scope=col>&lt;int&gt;</th><th scope=col>&lt;int&gt;</th><th scope=col>&lt;int&gt;</th><th scope=col>&lt;chr&gt;</th><th scope=col>&lt;int&gt;</th></tr>\n",
              "</thead>\n",
              "<tbody>\n",
              "\t<tr><td>110110</td><td>13101</td><td>Santiago</td><td>2023</td><td>50</td><td>3</td><td>TOTAL CAUSAS SISTEMA RESPIRATORIO</td><td> 0</td></tr>\n",
              "\t<tr><td>111100</td><td>13101</td><td>Santiago</td><td>2021</td><td>52</td><td>3</td><td>TOTAL CAUSAS SISTEMA RESPIRATORIO</td><td> 0</td></tr>\n",
              "\t<tr><td>110100</td><td>13101</td><td>Santiago</td><td>2017</td><td>46</td><td>3</td><td>TOTAL CAUSAS SISTEMA RESPIRATORIO</td><td>68</td></tr>\n",
              "</tbody>\n",
              "</table>\n"
            ],
            "text/markdown": "\nA tibble: 3 × 8\n\n| EstablecimientoCodigo &lt;chr&gt; | ComunaCodigo &lt;chr&gt; | COMUNA &lt;chr&gt; | Anio &lt;int&gt; | NuSemana &lt;int&gt; | OrdenCausa &lt;int&gt; | Causa &lt;chr&gt; | NumTotal &lt;int&gt; |\n|---|---|---|---|---|---|---|---|\n| 110110 | 13101 | Santiago | 2023 | 50 | 3 | TOTAL CAUSAS SISTEMA RESPIRATORIO |  0 |\n| 111100 | 13101 | Santiago | 2021 | 52 | 3 | TOTAL CAUSAS SISTEMA RESPIRATORIO |  0 |\n| 110100 | 13101 | Santiago | 2017 | 46 | 3 | TOTAL CAUSAS SISTEMA RESPIRATORIO | 68 |\n\n",
            "text/latex": "A tibble: 3 × 8\n\\begin{tabular}{llllllll}\n EstablecimientoCodigo & ComunaCodigo & COMUNA & Anio & NuSemana & OrdenCausa & Causa & NumTotal\\\\\n <chr> & <chr> & <chr> & <int> & <int> & <int> & <chr> & <int>\\\\\n\\hline\n\t 110110 & 13101 & Santiago & 2023 & 50 & 3 & TOTAL CAUSAS SISTEMA RESPIRATORIO &  0\\\\\n\t 111100 & 13101 & Santiago & 2021 & 52 & 3 & TOTAL CAUSAS SISTEMA RESPIRATORIO &  0\\\\\n\t 110100 & 13101 & Santiago & 2017 & 46 & 3 & TOTAL CAUSAS SISTEMA RESPIRATORIO & 68\\\\\n\\end{tabular}\n",
            "text/plain": [
              "  EstablecimientoCodigo ComunaCodigo COMUNA   Anio NuSemana OrdenCausa\n",
              "1 110110                13101        Santiago 2023 50       3         \n",
              "2 111100                13101        Santiago 2021 52       3         \n",
              "3 110100                13101        Santiago 2017 46       3         \n",
              "  Causa                             NumTotal\n",
              "1 TOTAL CAUSAS SISTEMA RESPIRATORIO  0      \n",
              "2 TOTAL CAUSAS SISTEMA RESPIRATORIO  0      \n",
              "3 TOTAL CAUSAS SISTEMA RESPIRATORIO 68      "
            ]
          },
          "metadata": {}
        }
      ]
    },
    {
      "cell_type": "code",
      "source": [
        "#ano_base <- \"2014-01-01\"\n",
        "#df_datos_temperatura <- read_delim(\"descargas/MERGE_XXXX_DiarioTs_.csv\", delim=\";\",col_select = c('CodigoNacional','momento','MediaCli_Valor','Maxima_Valor','Minima_Valor'), col_types = cols(momento = col_date(format = \"%d-%m-%Y %H:%M:%S\")))\n",
        "#df_datos_temperatura <- df_datos_temperatura %>% filter (momento > ano_base)\n",
        "#head(df_datos_temperatura,15)"
      ],
      "metadata": {
        "id": "a5R_eoKW13Td"
      },
      "execution_count": 102,
      "outputs": []
    },
    {
      "cell_type": "code",
      "source": [
        "#Cargo data frame temperatura y le cargo datos\n",
        "#df_datos_temperatura <- read.csv(\"descargas/MERGE_XXXX_DiarioTs_.csv\", header= TRUE, sep=\";\")\n",
        "df_datos_temperatura <- read_delim(\"descargas/MERGE_XXXX_DiarioTs_.csv\", delim=\";\",col_select = c('CodigoNacional','momento','MediaCli_Valor','Maxima_Valor','Minima_Valor'))\n",
        "head(df_datos_temperatura,3)"
      ],
      "metadata": {
        "id": "kazvPllqQygW",
        "outputId": "96608e54-b920-49bc-84a7-aae072b7cc47",
        "colab": {
          "base_uri": "https://localhost:8080/",
          "height": 331
        }
      },
      "execution_count": 103,
      "outputs": [
        {
          "output_type": "stream",
          "name": "stderr",
          "text": [
            "\u001b[1mRows: \u001b[22m\u001b[34m74539\u001b[39m \u001b[1mColumns: \u001b[22m\u001b[34m5\u001b[39m\n",
            "\u001b[36m──\u001b[39m \u001b[1mColumn specification\u001b[22m \u001b[36m────────────────────────────────────────────────────────\u001b[39m\n",
            "\u001b[1mDelimiter:\u001b[22m \";\"\n",
            "\u001b[31mchr\u001b[39m (1): momento\n",
            "\u001b[32mdbl\u001b[39m (4): CodigoNacional, MediaCli_Valor, Maxima_Valor, Minima_Valor\n",
            "\n",
            "\u001b[36mℹ\u001b[39m Use `spec()` to retrieve the full column specification for this data.\n",
            "\u001b[36mℹ\u001b[39m Specify the column types or set `show_col_types = FALSE` to quiet this message.\n"
          ]
        },
        {
          "output_type": "display_data",
          "data": {
            "text/html": [
              "<table class=\"dataframe\">\n",
              "<caption>A tibble: 3 × 5</caption>\n",
              "<thead>\n",
              "\t<tr><th scope=col>CodigoNacional</th><th scope=col>momento</th><th scope=col>MediaCli_Valor</th><th scope=col>Maxima_Valor</th><th scope=col>Minima_Valor</th></tr>\n",
              "\t<tr><th scope=col>&lt;dbl&gt;</th><th scope=col>&lt;chr&gt;</th><th scope=col>&lt;dbl&gt;</th><th scope=col>&lt;dbl&gt;</th><th scope=col>&lt;dbl&gt;</th></tr>\n",
              "</thead>\n",
              "<tbody>\n",
              "\t<tr><td>290004</td><td>01-01-1954 12:00:00</td><td>16.5</td><td>20.6</td><td>12.3</td></tr>\n",
              "\t<tr><td>290004</td><td>02-01-1954 12:00:00</td><td>17.1</td><td>20.4</td><td>13.9</td></tr>\n",
              "\t<tr><td>290004</td><td>03-01-1954 12:00:00</td><td>15.1</td><td>20.0</td><td>10.2</td></tr>\n",
              "</tbody>\n",
              "</table>\n"
            ],
            "text/markdown": "\nA tibble: 3 × 5\n\n| CodigoNacional &lt;dbl&gt; | momento &lt;chr&gt; | MediaCli_Valor &lt;dbl&gt; | Maxima_Valor &lt;dbl&gt; | Minima_Valor &lt;dbl&gt; |\n|---|---|---|---|---|\n| 290004 | 01-01-1954 12:00:00 | 16.5 | 20.6 | 12.3 |\n| 290004 | 02-01-1954 12:00:00 | 17.1 | 20.4 | 13.9 |\n| 290004 | 03-01-1954 12:00:00 | 15.1 | 20.0 | 10.2 |\n\n",
            "text/latex": "A tibble: 3 × 5\n\\begin{tabular}{lllll}\n CodigoNacional & momento & MediaCli\\_Valor & Maxima\\_Valor & Minima\\_Valor\\\\\n <dbl> & <chr> & <dbl> & <dbl> & <dbl>\\\\\n\\hline\n\t 290004 & 01-01-1954 12:00:00 & 16.5 & 20.6 & 12.3\\\\\n\t 290004 & 02-01-1954 12:00:00 & 17.1 & 20.4 & 13.9\\\\\n\t 290004 & 03-01-1954 12:00:00 & 15.1 & 20.0 & 10.2\\\\\n\\end{tabular}\n",
            "text/plain": [
              "  CodigoNacional momento             MediaCli_Valor Maxima_Valor Minima_Valor\n",
              "1 290004         01-01-1954 12:00:00 16.5           20.6         12.3        \n",
              "2 290004         02-01-1954 12:00:00 17.1           20.4         13.9        \n",
              "3 290004         03-01-1954 12:00:00 15.1           20.0         10.2        "
            ]
          },
          "metadata": {}
        }
      ]
    },
    {
      "cell_type": "code",
      "source": [
        "#Cargo data frame humedad y le cargo datos\n",
        "df_datos_Humedad <- read.csv(\"descargas/MERGE_Humedad.csv\", header= TRUE, sep=\";\")\n",
        "head(df_datos_Humedad,3)"
      ],
      "metadata": {
        "id": "MiPfpCRzx_iP",
        "colab": {
          "base_uri": "https://localhost:8080/",
          "height": 192
        },
        "outputId": "9ecab192-154f-43d3-c575-fb044b7bba15"
      },
      "execution_count": 104,
      "outputs": [
        {
          "output_type": "display_data",
          "data": {
            "text/html": [
              "<table class=\"dataframe\">\n",
              "<caption>A data.frame: 3 × 3</caption>\n",
              "<thead>\n",
              "\t<tr><th></th><th scope=col>CodigoNacional</th><th scope=col>momento</th><th scope=col>HR_Valor</th></tr>\n",
              "\t<tr><th></th><th scope=col>&lt;int&gt;</th><th scope=col>&lt;chr&gt;</th><th scope=col>&lt;dbl&gt;</th></tr>\n",
              "</thead>\n",
              "<tbody>\n",
              "\t<tr><th scope=row>1</th><td>290004</td><td>01-01-1954 10:00:00</td><td>NA</td></tr>\n",
              "\t<tr><th scope=row>2</th><td>290004</td><td>01-01-1954 11:00:00</td><td>NA</td></tr>\n",
              "\t<tr><th scope=row>3</th><td>290004</td><td>01-01-1954 12:00:00</td><td>NA</td></tr>\n",
              "</tbody>\n",
              "</table>\n"
            ],
            "text/markdown": "\nA data.frame: 3 × 3\n\n| <!--/--> | CodigoNacional &lt;int&gt; | momento &lt;chr&gt; | HR_Valor &lt;dbl&gt; |\n|---|---|---|---|\n| 1 | 290004 | 01-01-1954 10:00:00 | NA |\n| 2 | 290004 | 01-01-1954 11:00:00 | NA |\n| 3 | 290004 | 01-01-1954 12:00:00 | NA |\n\n",
            "text/latex": "A data.frame: 3 × 3\n\\begin{tabular}{r|lll}\n  & CodigoNacional & momento & HR\\_Valor\\\\\n  & <int> & <chr> & <dbl>\\\\\n\\hline\n\t1 & 290004 & 01-01-1954 10:00:00 & NA\\\\\n\t2 & 290004 & 01-01-1954 11:00:00 & NA\\\\\n\t3 & 290004 & 01-01-1954 12:00:00 & NA\\\\\n\\end{tabular}\n",
            "text/plain": [
              "  CodigoNacional momento             HR_Valor\n",
              "1 290004         01-01-1954 10:00:00 NA      \n",
              "2 290004         01-01-1954 11:00:00 NA      \n",
              "3 290004         01-01-1954 12:00:00 NA      "
            ]
          },
          "metadata": {}
        }
      ]
    },
    {
      "cell_type": "code",
      "source": [
        "#Cargo data frame precipitaciones y le cargo datos\n",
        "#df_datos_Precip <- read.csv(\"descargas/MERGE_DiarioRR.csv\", header= TRUE, sep=\";\")\n",
        "df_datos_Precip <- read_delim(\"descargas/MERGE_DiarioRR.csv\", delim=\";\",col_select = c('CodigoNacional','momento','Total_Valor'))\n",
        "head(df_datos_Precip,3)"
      ],
      "metadata": {
        "id": "fVRhncVIQRM7",
        "colab": {
          "base_uri": "https://localhost:8080/",
          "height": 331
        },
        "outputId": "3c047b47-081d-4b87-8082-1b1656e3fa20"
      },
      "execution_count": 105,
      "outputs": [
        {
          "output_type": "stream",
          "name": "stderr",
          "text": [
            "\u001b[1mRows: \u001b[22m\u001b[34m66161\u001b[39m \u001b[1mColumns: \u001b[22m\u001b[34m3\u001b[39m\n",
            "\u001b[36m──\u001b[39m \u001b[1mColumn specification\u001b[22m \u001b[36m────────────────────────────────────────────────────────\u001b[39m\n",
            "\u001b[1mDelimiter:\u001b[22m \";\"\n",
            "\u001b[31mchr\u001b[39m (1): momento\n",
            "\u001b[32mdbl\u001b[39m (2): CodigoNacional, Total_Valor\n",
            "\n",
            "\u001b[36mℹ\u001b[39m Use `spec()` to retrieve the full column specification for this data.\n",
            "\u001b[36mℹ\u001b[39m Specify the column types or set `show_col_types = FALSE` to quiet this message.\n"
          ]
        },
        {
          "output_type": "display_data",
          "data": {
            "text/html": [
              "<table class=\"dataframe\">\n",
              "<caption>A tibble: 3 × 3</caption>\n",
              "<thead>\n",
              "\t<tr><th scope=col>CodigoNacional</th><th scope=col>momento</th><th scope=col>Total_Valor</th></tr>\n",
              "\t<tr><th scope=col>&lt;dbl&gt;</th><th scope=col>&lt;chr&gt;</th><th scope=col>&lt;dbl&gt;</th></tr>\n",
              "</thead>\n",
              "<tbody>\n",
              "\t<tr><td>290004</td><td>01-01-1954 12:00:00</td><td>0</td></tr>\n",
              "\t<tr><td>290004</td><td>02-01-1954 12:00:00</td><td>0</td></tr>\n",
              "\t<tr><td>290004</td><td>03-01-1954 12:00:00</td><td>0</td></tr>\n",
              "</tbody>\n",
              "</table>\n"
            ],
            "text/markdown": "\nA tibble: 3 × 3\n\n| CodigoNacional &lt;dbl&gt; | momento &lt;chr&gt; | Total_Valor &lt;dbl&gt; |\n|---|---|---|\n| 290004 | 01-01-1954 12:00:00 | 0 |\n| 290004 | 02-01-1954 12:00:00 | 0 |\n| 290004 | 03-01-1954 12:00:00 | 0 |\n\n",
            "text/latex": "A tibble: 3 × 3\n\\begin{tabular}{lll}\n CodigoNacional & momento & Total\\_Valor\\\\\n <dbl> & <chr> & <dbl>\\\\\n\\hline\n\t 290004 & 01-01-1954 12:00:00 & 0\\\\\n\t 290004 & 02-01-1954 12:00:00 & 0\\\\\n\t 290004 & 03-01-1954 12:00:00 & 0\\\\\n\\end{tabular}\n",
            "text/plain": [
              "  CodigoNacional momento             Total_Valor\n",
              "1 290004         01-01-1954 12:00:00 0          \n",
              "2 290004         02-01-1954 12:00:00 0          \n",
              "3 290004         03-01-1954 12:00:00 0          "
            ]
          },
          "metadata": {}
        }
      ]
    },
    {
      "cell_type": "code",
      "source": [
        "#Cargo data frame material particulado y le cargo datos\n",
        "#df_datos_mp25 <- read.csv(\"descargas/MERGE_MP.csv\", header= TRUE, sep=\";\")\n",
        "df_datos_mp25 <- read_delim(\"descargas/MERGE_MP.csv\", delim=\";\",col_select = c('COMUNA', momento = 'FECHA(YYYYMMDD)', registrosValidados='Registros validados', registrosPreliminares='Registros preliminares', registrosNoValidados='Registros no validados' ))\n",
        " df_datos_mp25 <-df_datos_mp25%>%unite(totalMP25, c(registrosValidados,registrosPreliminares, registrosNoValidados), na.rm = TRUE)\n",
        " df_datos_mp25$totalMP25 <- as.double(df_datos_mp25$totalMP25)\n",
        "head(df_datos_mp25,3)"
      ],
      "metadata": {
        "id": "R9-WPc9O08M2",
        "colab": {
          "base_uri": "https://localhost:8080/",
          "height": 331
        },
        "outputId": "d266435b-f138-4a0f-9459-3f3e132149d7"
      },
      "execution_count": 106,
      "outputs": [
        {
          "output_type": "stream",
          "name": "stderr",
          "text": [
            "\u001b[1mRows: \u001b[22m\u001b[34m18476\u001b[39m \u001b[1mColumns: \u001b[22m\u001b[34m5\u001b[39m\n",
            "\u001b[36m──\u001b[39m \u001b[1mColumn specification\u001b[22m \u001b[36m────────────────────────────────────────────────────────\u001b[39m\n",
            "\u001b[1mDelimiter:\u001b[22m \";\"\n",
            "\u001b[31mchr\u001b[39m (1): COMUNA\n",
            "\u001b[32mdbl\u001b[39m (4): Registros validados, Registros preliminares, Registros no validados...\n",
            "\n",
            "\u001b[36mℹ\u001b[39m Use `spec()` to retrieve the full column specification for this data.\n",
            "\u001b[36mℹ\u001b[39m Specify the column types or set `show_col_types = FALSE` to quiet this message.\n"
          ]
        },
        {
          "output_type": "display_data",
          "data": {
            "text/html": [
              "<table class=\"dataframe\">\n",
              "<caption>A tibble: 3 × 3</caption>\n",
              "<thead>\n",
              "\t<tr><th scope=col>COMUNA</th><th scope=col>momento</th><th scope=col>totalMP25</th></tr>\n",
              "\t<tr><th scope=col>&lt;chr&gt;</th><th scope=col>&lt;dbl&gt;</th><th scope=col>&lt;dbl&gt;</th></tr>\n",
              "</thead>\n",
              "<tbody>\n",
              "\t<tr><td>Concepcion</td><td>20090812</td><td>390.2810</td></tr>\n",
              "\t<tr><td>Concepcion</td><td>20090813</td><td> 68.5317</td></tr>\n",
              "\t<tr><td>Concepcion</td><td>20090814</td><td>319.4660</td></tr>\n",
              "</tbody>\n",
              "</table>\n"
            ],
            "text/markdown": "\nA tibble: 3 × 3\n\n| COMUNA &lt;chr&gt; | momento &lt;dbl&gt; | totalMP25 &lt;dbl&gt; |\n|---|---|---|\n| Concepcion | 20090812 | 390.2810 |\n| Concepcion | 20090813 |  68.5317 |\n| Concepcion | 20090814 | 319.4660 |\n\n",
            "text/latex": "A tibble: 3 × 3\n\\begin{tabular}{lll}\n COMUNA & momento & totalMP25\\\\\n <chr> & <dbl> & <dbl>\\\\\n\\hline\n\t Concepcion & 20090812 & 390.2810\\\\\n\t Concepcion & 20090813 &  68.5317\\\\\n\t Concepcion & 20090814 & 319.4660\\\\\n\\end{tabular}\n",
            "text/plain": [
              "  COMUNA     momento  totalMP25\n",
              "1 Concepcion 20090812 390.2810 \n",
              "2 Concepcion 20090813  68.5317 \n",
              "3 Concepcion 20090814 319.4660 "
            ]
          },
          "metadata": {}
        }
      ]
    },
    {
      "cell_type": "code",
      "source": [
        "#formateo fechas en material particulado 2.5.\n",
        "df_datos_mp25$momento <- format(as.Date(as.character(df_datos_mp25$momento),format=\"%Y%m%d\"), format=\"%d-%m-%Y\")\n",
        "#formateo fechas en temperaturas.\n",
        "df_datos_temperatura$momento<- format(as.Date(df_datos_temperatura$momento, format = \"%d-%m-%Y %H:%M:%S\"), format = \"%d-%m-%Y\")\n",
        "#formateo fechas en precipitaciones\n",
        "df_datos_Precip$momento<- format(as.Date(df_datos_Precip$momento, format = \"%d-%m-%Y %H:%M:%S\"), format = \"%d-%m-%Y\")\n",
        "#formateo fechas en humedad\n",
        "df_datos_Humedad$momento<- format(as.Date(df_datos_Humedad$momento, format = \"%d-%m-%Y %H:%M:%S\"), format = \"%d-%m-%Y\")"
      ],
      "metadata": {
        "id": "NjLU6UOu19iR"
      },
      "execution_count": 107,
      "outputs": []
    },
    {
      "cell_type": "code",
      "source": [
        "#Limpio filas con NA en todos los dataframe y chequeo contando posibles NA\n",
        "df_urgr_esp_semanal <- na.omit(df_urgr_esp_semanal)\n",
        "df_datos_temperatura <- na.omit(df_datos_temperatura)\n",
        "#df_datos_Precip <- na.omit(df_datos_Precip)\n",
        "df_datos_Humedad <- na.omit(df_datos_Humedad)\n",
        "#df_datos_mp25 <- na.omit(df_datos_mp25)\n",
        "sum(!complete.cases(df_urgr_esp_semanal))\n",
        "sum(!complete.cases(df_datos_temperatura))\n",
        "sum(!complete.cases(df_datos_Precip))\n",
        "sum(!complete.cases(df_datos_Humedad))\n",
        "sum(!complete.cases(df_datos_mp25))\n",
        "#sum(rowSums(is.na(df_datos_temperatura)) == 2)\n",
        "\n"
      ],
      "metadata": {
        "colab": {
          "base_uri": "https://localhost:8080/",
          "height": 104
        },
        "id": "C7lSYtOa-Q6K",
        "outputId": "793dc593-79ab-445f-daa7-b8b81a214d9f"
      },
      "execution_count": 108,
      "outputs": [
        {
          "output_type": "display_data",
          "data": {
            "text/html": [
              "0"
            ],
            "text/markdown": "0",
            "text/latex": "0",
            "text/plain": [
              "[1] 0"
            ]
          },
          "metadata": {}
        },
        {
          "output_type": "display_data",
          "data": {
            "text/html": [
              "0"
            ],
            "text/markdown": "0",
            "text/latex": "0",
            "text/plain": [
              "[1] 0"
            ]
          },
          "metadata": {}
        },
        {
          "output_type": "display_data",
          "data": {
            "text/html": [
              "134"
            ],
            "text/markdown": "134",
            "text/latex": "134",
            "text/plain": [
              "[1] 134"
            ]
          },
          "metadata": {}
        },
        {
          "output_type": "display_data",
          "data": {
            "text/html": [
              "0"
            ],
            "text/markdown": "0",
            "text/latex": "0",
            "text/plain": [
              "[1] 0"
            ]
          },
          "metadata": {}
        },
        {
          "output_type": "display_data",
          "data": {
            "text/html": [
              "1183"
            ],
            "text/markdown": "1183",
            "text/latex": "1183",
            "text/plain": [
              "[1] 1183"
            ]
          },
          "metadata": {}
        }
      ]
    },
    {
      "cell_type": "code",
      "source": [
        "# agrupo urgencias respiratorias por año, semana y comuna y sumo el total de urgencias para la comuna.\n",
        "df_urgr_esp_semanal <-df_urgr_esp_semanal %>% group_by (COMUNA, Anio, NuSemana) %>% summarise(NumTotalUrg = sum(NumTotal, na.rm = TRUE)) %>%filter(Anio > 2013 & Anio < 2024)\n",
        "df_urgr_esp_semanal <- as.data.frame(df_urgr_esp_semanal)\n",
        "df_urgr_esp_semanal$COMUNA[df_urgr_esp_semanal$COMUNA == \"La Serena\"] <- \"LaSerena\"\n",
        "df_urgr_esp_semanal$COMUNA[df_urgr_esp_semanal$COMUNA == \"Concepción\"] <- \"Concepcion\"\n",
        "head(df_urgr_esp_semanal,3)"
      ],
      "metadata": {
        "id": "7FipNT-leBhx",
        "outputId": "55812ccf-618d-4e20-bec0-8c7489a9bc34",
        "colab": {
          "base_uri": "https://localhost:8080/",
          "height": 227
        }
      },
      "execution_count": 109,
      "outputs": [
        {
          "output_type": "stream",
          "name": "stderr",
          "text": [
            "\u001b[1m\u001b[22m`summarise()` has grouped output by 'COMUNA', 'Anio'. You can override using\n",
            "the `.groups` argument.\n"
          ]
        },
        {
          "output_type": "display_data",
          "data": {
            "text/html": [
              "<table class=\"dataframe\">\n",
              "<caption>A data.frame: 3 × 4</caption>\n",
              "<thead>\n",
              "\t<tr><th></th><th scope=col>COMUNA</th><th scope=col>Anio</th><th scope=col>NuSemana</th><th scope=col>NumTotalUrg</th></tr>\n",
              "\t<tr><th></th><th scope=col>&lt;chr&gt;</th><th scope=col>&lt;int&gt;</th><th scope=col>&lt;int&gt;</th><th scope=col>&lt;int&gt;</th></tr>\n",
              "</thead>\n",
              "<tbody>\n",
              "\t<tr><th scope=row>1</th><td>Concepcion</td><td>2014</td><td>1</td><td>574</td></tr>\n",
              "\t<tr><th scope=row>2</th><td>Concepcion</td><td>2014</td><td>2</td><td>965</td></tr>\n",
              "\t<tr><th scope=row>3</th><td>Concepcion</td><td>2014</td><td>3</td><td>763</td></tr>\n",
              "</tbody>\n",
              "</table>\n"
            ],
            "text/markdown": "\nA data.frame: 3 × 4\n\n| <!--/--> | COMUNA &lt;chr&gt; | Anio &lt;int&gt; | NuSemana &lt;int&gt; | NumTotalUrg &lt;int&gt; |\n|---|---|---|---|---|\n| 1 | Concepcion | 2014 | 1 | 574 |\n| 2 | Concepcion | 2014 | 2 | 965 |\n| 3 | Concepcion | 2014 | 3 | 763 |\n\n",
            "text/latex": "A data.frame: 3 × 4\n\\begin{tabular}{r|llll}\n  & COMUNA & Anio & NuSemana & NumTotalUrg\\\\\n  & <chr> & <int> & <int> & <int>\\\\\n\\hline\n\t1 & Concepcion & 2014 & 1 & 574\\\\\n\t2 & Concepcion & 2014 & 2 & 965\\\\\n\t3 & Concepcion & 2014 & 3 & 763\\\\\n\\end{tabular}\n",
            "text/plain": [
              "  COMUNA     Anio NuSemana NumTotalUrg\n",
              "1 Concepcion 2014 1        574        \n",
              "2 Concepcion 2014 2        965        \n",
              "3 Concepcion 2014 3        763        "
            ]
          },
          "metadata": {}
        }
      ]
    },
    {
      "cell_type": "code",
      "source": [
        "#obtengo n° de semana de las fechas de mediciones (momento) y agrego columna al data frame temperatura\n",
        "semana<- epiweek(dmy(df_datos_temperatura$momento))\n",
        "ano <- year(dmy(df_datos_temperatura$momento))\n",
        "difTemp <- df_datos_temperatura$Maxima_Valor-df_datos_temperatura$Minima_Valor\n",
        "df_datos_temperatura <- cbind(df_datos_temperatura, NuSemana = semana)\n",
        "df_datos_temperatura <- cbind(df_datos_temperatura, Anio = ano)\n",
        "df_datos_temperatura <- cbind(df_datos_temperatura, difTemp = difTemp)\n",
        "head(df_datos_temperatura,3)"
      ],
      "metadata": {
        "id": "04c0mj5ylC5C",
        "colab": {
          "base_uri": "https://localhost:8080/",
          "height": 192
        },
        "outputId": "1f478233-92b5-4b91-ec9a-5d888c434bfc"
      },
      "execution_count": 110,
      "outputs": [
        {
          "output_type": "display_data",
          "data": {
            "text/html": [
              "<table class=\"dataframe\">\n",
              "<caption>A data.frame: 3 × 8</caption>\n",
              "<thead>\n",
              "\t<tr><th></th><th scope=col>CodigoNacional</th><th scope=col>momento</th><th scope=col>MediaCli_Valor</th><th scope=col>Maxima_Valor</th><th scope=col>Minima_Valor</th><th scope=col>NuSemana</th><th scope=col>Anio</th><th scope=col>difTemp</th></tr>\n",
              "\t<tr><th></th><th scope=col>&lt;dbl&gt;</th><th scope=col>&lt;chr&gt;</th><th scope=col>&lt;dbl&gt;</th><th scope=col>&lt;dbl&gt;</th><th scope=col>&lt;dbl&gt;</th><th scope=col>&lt;dbl&gt;</th><th scope=col>&lt;dbl&gt;</th><th scope=col>&lt;dbl&gt;</th></tr>\n",
              "</thead>\n",
              "<tbody>\n",
              "\t<tr><th scope=row>1</th><td>290004</td><td>01-01-1954</td><td>16.5</td><td>20.6</td><td>12.3</td><td>52</td><td>1954</td><td>8.3</td></tr>\n",
              "\t<tr><th scope=row>2</th><td>290004</td><td>02-01-1954</td><td>17.1</td><td>20.4</td><td>13.9</td><td>52</td><td>1954</td><td>6.5</td></tr>\n",
              "\t<tr><th scope=row>3</th><td>290004</td><td>03-01-1954</td><td>15.1</td><td>20.0</td><td>10.2</td><td> 1</td><td>1954</td><td>9.8</td></tr>\n",
              "</tbody>\n",
              "</table>\n"
            ],
            "text/markdown": "\nA data.frame: 3 × 8\n\n| <!--/--> | CodigoNacional &lt;dbl&gt; | momento &lt;chr&gt; | MediaCli_Valor &lt;dbl&gt; | Maxima_Valor &lt;dbl&gt; | Minima_Valor &lt;dbl&gt; | NuSemana &lt;dbl&gt; | Anio &lt;dbl&gt; | difTemp &lt;dbl&gt; |\n|---|---|---|---|---|---|---|---|---|\n| 1 | 290004 | 01-01-1954 | 16.5 | 20.6 | 12.3 | 52 | 1954 | 8.3 |\n| 2 | 290004 | 02-01-1954 | 17.1 | 20.4 | 13.9 | 52 | 1954 | 6.5 |\n| 3 | 290004 | 03-01-1954 | 15.1 | 20.0 | 10.2 |  1 | 1954 | 9.8 |\n\n",
            "text/latex": "A data.frame: 3 × 8\n\\begin{tabular}{r|llllllll}\n  & CodigoNacional & momento & MediaCli\\_Valor & Maxima\\_Valor & Minima\\_Valor & NuSemana & Anio & difTemp\\\\\n  & <dbl> & <chr> & <dbl> & <dbl> & <dbl> & <dbl> & <dbl> & <dbl>\\\\\n\\hline\n\t1 & 290004 & 01-01-1954 & 16.5 & 20.6 & 12.3 & 52 & 1954 & 8.3\\\\\n\t2 & 290004 & 02-01-1954 & 17.1 & 20.4 & 13.9 & 52 & 1954 & 6.5\\\\\n\t3 & 290004 & 03-01-1954 & 15.1 & 20.0 & 10.2 &  1 & 1954 & 9.8\\\\\n\\end{tabular}\n",
            "text/plain": [
              "  CodigoNacional momento    MediaCli_Valor Maxima_Valor Minima_Valor NuSemana\n",
              "1 290004         01-01-1954 16.5           20.6         12.3         52      \n",
              "2 290004         02-01-1954 17.1           20.4         13.9         52      \n",
              "3 290004         03-01-1954 15.1           20.0         10.2          1      \n",
              "  Anio difTemp\n",
              "1 1954 8.3    \n",
              "2 1954 6.5    \n",
              "3 1954 9.8    "
            ]
          },
          "metadata": {}
        }
      ]
    },
    {
      "cell_type": "code",
      "source": [
        "# Obtengo la media y mediana, de la temperatura para cada semana en cada año.\n",
        "df_datos_temperatura_semanal <- df_datos_temperatura %>% group_by (CodigoNacional,Anio, NuSemana) %>% summarise(medianaClim = median(MediaCli_Valor, na.rm = TRUE),  difMaxMin = median(difTemp, na.rm = TRUE))\n",
        "#Convierto agrupación con media y mediana a data frame\n",
        "df_datos_temperatura_semanal <- as.data.frame (df_datos_temperatura_semanal)\n",
        "#filtro por todo aquellos años >= a 2014\n",
        "df_datos_temperatura_semanal <- df_datos_temperatura_semanal %>% filter(Anio > 2013 & Anio < 2024)\n",
        "head(df_datos_temperatura_semanal,3)\n",
        "\n"
      ],
      "metadata": {
        "id": "lNzHoXEeVd4E",
        "outputId": "7ad8cb2d-7e13-4b7b-b0ee-70edaf052aa1",
        "colab": {
          "base_uri": "https://localhost:8080/",
          "height": 227
        }
      },
      "execution_count": 111,
      "outputs": [
        {
          "output_type": "stream",
          "name": "stderr",
          "text": [
            "\u001b[1m\u001b[22m`summarise()` has grouped output by 'CodigoNacional', 'Anio'. You can override\n",
            "using the `.groups` argument.\n"
          ]
        },
        {
          "output_type": "display_data",
          "data": {
            "text/html": [
              "<table class=\"dataframe\">\n",
              "<caption>A data.frame: 3 × 5</caption>\n",
              "<thead>\n",
              "\t<tr><th></th><th scope=col>CodigoNacional</th><th scope=col>Anio</th><th scope=col>NuSemana</th><th scope=col>medianaClim</th><th scope=col>difMaxMin</th></tr>\n",
              "\t<tr><th></th><th scope=col>&lt;dbl&gt;</th><th scope=col>&lt;dbl&gt;</th><th scope=col>&lt;dbl&gt;</th><th scope=col>&lt;dbl&gt;</th><th scope=col>&lt;dbl&gt;</th></tr>\n",
              "</thead>\n",
              "<tbody>\n",
              "\t<tr><th scope=row>1</th><td>290004</td><td>2014</td><td>1</td><td>17.6</td><td>7.8</td></tr>\n",
              "\t<tr><th scope=row>2</th><td>290004</td><td>2014</td><td>2</td><td>17.4</td><td>7.5</td></tr>\n",
              "\t<tr><th scope=row>3</th><td>290004</td><td>2014</td><td>3</td><td>17.8</td><td>6.9</td></tr>\n",
              "</tbody>\n",
              "</table>\n"
            ],
            "text/markdown": "\nA data.frame: 3 × 5\n\n| <!--/--> | CodigoNacional &lt;dbl&gt; | Anio &lt;dbl&gt; | NuSemana &lt;dbl&gt; | medianaClim &lt;dbl&gt; | difMaxMin &lt;dbl&gt; |\n|---|---|---|---|---|---|\n| 1 | 290004 | 2014 | 1 | 17.6 | 7.8 |\n| 2 | 290004 | 2014 | 2 | 17.4 | 7.5 |\n| 3 | 290004 | 2014 | 3 | 17.8 | 6.9 |\n\n",
            "text/latex": "A data.frame: 3 × 5\n\\begin{tabular}{r|lllll}\n  & CodigoNacional & Anio & NuSemana & medianaClim & difMaxMin\\\\\n  & <dbl> & <dbl> & <dbl> & <dbl> & <dbl>\\\\\n\\hline\n\t1 & 290004 & 2014 & 1 & 17.6 & 7.8\\\\\n\t2 & 290004 & 2014 & 2 & 17.4 & 7.5\\\\\n\t3 & 290004 & 2014 & 3 & 17.8 & 6.9\\\\\n\\end{tabular}\n",
            "text/plain": [
              "  CodigoNacional Anio NuSemana medianaClim difMaxMin\n",
              "1 290004         2014 1        17.6        7.8      \n",
              "2 290004         2014 2        17.4        7.5      \n",
              "3 290004         2014 3        17.8        6.9      "
            ]
          },
          "metadata": {}
        }
      ]
    },
    {
      "cell_type": "code",
      "source": [
        "#obtengo n° de semana de las fechas de mediciones (momento) y agrego columna al data frame humedad\n",
        "semana<-epiweek(dmy(df_datos_Humedad$momento))\n",
        "ano <- year(dmy(df_datos_Humedad$momento))\n",
        "df_datos_Humedad <- cbind(df_datos_Humedad, NuSemana = semana)\n",
        "df_datos_Humedad <- cbind(df_datos_Humedad, Anio = ano)\n",
        "head(df_datos_Humedad,3)"
      ],
      "metadata": {
        "id": "lXuk86klhdID",
        "outputId": "44c93db8-5a47-435d-916b-caa4ac2c56a8",
        "colab": {
          "base_uri": "https://localhost:8080/",
          "height": 192
        }
      },
      "execution_count": 112,
      "outputs": [
        {
          "output_type": "display_data",
          "data": {
            "text/html": [
              "<table class=\"dataframe\">\n",
              "<caption>A data.frame: 3 × 5</caption>\n",
              "<thead>\n",
              "\t<tr><th></th><th scope=col>CodigoNacional</th><th scope=col>momento</th><th scope=col>HR_Valor</th><th scope=col>NuSemana</th><th scope=col>Anio</th></tr>\n",
              "\t<tr><th></th><th scope=col>&lt;int&gt;</th><th scope=col>&lt;chr&gt;</th><th scope=col>&lt;dbl&gt;</th><th scope=col>&lt;dbl&gt;</th><th scope=col>&lt;dbl&gt;</th></tr>\n",
              "</thead>\n",
              "<tbody>\n",
              "\t<tr><th scope=row>5113</th><td>290004</td><td>06-01-1963</td><td>95</td><td>2</td><td>1963</td></tr>\n",
              "\t<tr><th scope=row>5114</th><td>290004</td><td>06-01-1963</td><td>93</td><td>2</td><td>1963</td></tr>\n",
              "\t<tr><th scope=row>5115</th><td>290004</td><td>06-01-1963</td><td>89</td><td>2</td><td>1963</td></tr>\n",
              "</tbody>\n",
              "</table>\n"
            ],
            "text/markdown": "\nA data.frame: 3 × 5\n\n| <!--/--> | CodigoNacional &lt;int&gt; | momento &lt;chr&gt; | HR_Valor &lt;dbl&gt; | NuSemana &lt;dbl&gt; | Anio &lt;dbl&gt; |\n|---|---|---|---|---|---|\n| 5113 | 290004 | 06-01-1963 | 95 | 2 | 1963 |\n| 5114 | 290004 | 06-01-1963 | 93 | 2 | 1963 |\n| 5115 | 290004 | 06-01-1963 | 89 | 2 | 1963 |\n\n",
            "text/latex": "A data.frame: 3 × 5\n\\begin{tabular}{r|lllll}\n  & CodigoNacional & momento & HR\\_Valor & NuSemana & Anio\\\\\n  & <int> & <chr> & <dbl> & <dbl> & <dbl>\\\\\n\\hline\n\t5113 & 290004 & 06-01-1963 & 95 & 2 & 1963\\\\\n\t5114 & 290004 & 06-01-1963 & 93 & 2 & 1963\\\\\n\t5115 & 290004 & 06-01-1963 & 89 & 2 & 1963\\\\\n\\end{tabular}\n",
            "text/plain": [
              "     CodigoNacional momento    HR_Valor NuSemana Anio\n",
              "5113 290004         06-01-1963 95       2        1963\n",
              "5114 290004         06-01-1963 93       2        1963\n",
              "5115 290004         06-01-1963 89       2        1963"
            ]
          },
          "metadata": {}
        }
      ]
    },
    {
      "cell_type": "code",
      "source": [
        "# Obtengo la media y mediana, de la temperatura para cada semana en cada año.\n",
        "df_datos_Humedad_semanal <- df_datos_Humedad %>% group_by (CodigoNacional,Anio, NuSemana) %>% summarise(Mediana_HR_Valor = median(HR_Valor, na.rm = TRUE))\n",
        "#Convierto agrupación con media y mediana a data frame\n",
        "df_datos_Humedad_semanal <- as.data.frame (df_datos_Humedad_semanal)\n",
        "#filtro por todo aquellos años >= a 2014\n",
        "df_datos_Humedad_semanal <- df_datos_Humedad_semanal %>% filter(Anio > 2013 & Anio < 2024)\n",
        "head(df_datos_Humedad_semanal,3)"
      ],
      "metadata": {
        "id": "ekP5khJwiS8w",
        "outputId": "f8a9a1a8-1928-4c57-b18f-7ad6e76409e9",
        "colab": {
          "base_uri": "https://localhost:8080/",
          "height": 227
        }
      },
      "execution_count": 113,
      "outputs": [
        {
          "output_type": "stream",
          "name": "stderr",
          "text": [
            "\u001b[1m\u001b[22m`summarise()` has grouped output by 'CodigoNacional', 'Anio'. You can override\n",
            "using the `.groups` argument.\n"
          ]
        },
        {
          "output_type": "display_data",
          "data": {
            "text/html": [
              "<table class=\"dataframe\">\n",
              "<caption>A data.frame: 3 × 4</caption>\n",
              "<thead>\n",
              "\t<tr><th></th><th scope=col>CodigoNacional</th><th scope=col>Anio</th><th scope=col>NuSemana</th><th scope=col>Mediana_HR_Valor</th></tr>\n",
              "\t<tr><th></th><th scope=col>&lt;int&gt;</th><th scope=col>&lt;dbl&gt;</th><th scope=col>&lt;dbl&gt;</th><th scope=col>&lt;dbl&gt;</th></tr>\n",
              "</thead>\n",
              "<tbody>\n",
              "\t<tr><th scope=row>1</th><td>290004</td><td>2014</td><td>1</td><td>76.5</td></tr>\n",
              "\t<tr><th scope=row>2</th><td>290004</td><td>2014</td><td>2</td><td>81.5</td></tr>\n",
              "\t<tr><th scope=row>3</th><td>290004</td><td>2014</td><td>3</td><td>72.5</td></tr>\n",
              "</tbody>\n",
              "</table>\n"
            ],
            "text/markdown": "\nA data.frame: 3 × 4\n\n| <!--/--> | CodigoNacional &lt;int&gt; | Anio &lt;dbl&gt; | NuSemana &lt;dbl&gt; | Mediana_HR_Valor &lt;dbl&gt; |\n|---|---|---|---|---|\n| 1 | 290004 | 2014 | 1 | 76.5 |\n| 2 | 290004 | 2014 | 2 | 81.5 |\n| 3 | 290004 | 2014 | 3 | 72.5 |\n\n",
            "text/latex": "A data.frame: 3 × 4\n\\begin{tabular}{r|llll}\n  & CodigoNacional & Anio & NuSemana & Mediana\\_HR\\_Valor\\\\\n  & <int> & <dbl> & <dbl> & <dbl>\\\\\n\\hline\n\t1 & 290004 & 2014 & 1 & 76.5\\\\\n\t2 & 290004 & 2014 & 2 & 81.5\\\\\n\t3 & 290004 & 2014 & 3 & 72.5\\\\\n\\end{tabular}\n",
            "text/plain": [
              "  CodigoNacional Anio NuSemana Mediana_HR_Valor\n",
              "1 290004         2014 1        76.5            \n",
              "2 290004         2014 2        81.5            \n",
              "3 290004         2014 3        72.5            "
            ]
          },
          "metadata": {}
        }
      ]
    },
    {
      "cell_type": "code",
      "source": [
        "#obtengo n° de semana de las fechas de mediciones (momento) y agrego columna al data frame precipitaciones\n",
        "semana<-epiweek(dmy(df_datos_Precip$momento))\n",
        "ano <- year(dmy(df_datos_Precip$momento))\n",
        "df_datos_Precip <- cbind(df_datos_Precip, NuSemana = semana)\n",
        "df_datos_Precip <- cbind(df_datos_Precip, Anio = ano)\n",
        "head(df_datos_Precip,3)"
      ],
      "metadata": {
        "colab": {
          "base_uri": "https://localhost:8080/",
          "height": 192
        },
        "id": "CdrP6r0bC1t8",
        "outputId": "6f39c27a-74dd-4db9-eb93-e0680e4bb7dd"
      },
      "execution_count": 114,
      "outputs": [
        {
          "output_type": "display_data",
          "data": {
            "text/html": [
              "<table class=\"dataframe\">\n",
              "<caption>A data.frame: 3 × 5</caption>\n",
              "<thead>\n",
              "\t<tr><th></th><th scope=col>CodigoNacional</th><th scope=col>momento</th><th scope=col>Total_Valor</th><th scope=col>NuSemana</th><th scope=col>Anio</th></tr>\n",
              "\t<tr><th></th><th scope=col>&lt;dbl&gt;</th><th scope=col>&lt;chr&gt;</th><th scope=col>&lt;dbl&gt;</th><th scope=col>&lt;dbl&gt;</th><th scope=col>&lt;dbl&gt;</th></tr>\n",
              "</thead>\n",
              "<tbody>\n",
              "\t<tr><th scope=row>1</th><td>290004</td><td>01-01-1954</td><td>0</td><td>52</td><td>1954</td></tr>\n",
              "\t<tr><th scope=row>2</th><td>290004</td><td>02-01-1954</td><td>0</td><td>52</td><td>1954</td></tr>\n",
              "\t<tr><th scope=row>3</th><td>290004</td><td>03-01-1954</td><td>0</td><td> 1</td><td>1954</td></tr>\n",
              "</tbody>\n",
              "</table>\n"
            ],
            "text/markdown": "\nA data.frame: 3 × 5\n\n| <!--/--> | CodigoNacional &lt;dbl&gt; | momento &lt;chr&gt; | Total_Valor &lt;dbl&gt; | NuSemana &lt;dbl&gt; | Anio &lt;dbl&gt; |\n|---|---|---|---|---|---|\n| 1 | 290004 | 01-01-1954 | 0 | 52 | 1954 |\n| 2 | 290004 | 02-01-1954 | 0 | 52 | 1954 |\n| 3 | 290004 | 03-01-1954 | 0 |  1 | 1954 |\n\n",
            "text/latex": "A data.frame: 3 × 5\n\\begin{tabular}{r|lllll}\n  & CodigoNacional & momento & Total\\_Valor & NuSemana & Anio\\\\\n  & <dbl> & <chr> & <dbl> & <dbl> & <dbl>\\\\\n\\hline\n\t1 & 290004 & 01-01-1954 & 0 & 52 & 1954\\\\\n\t2 & 290004 & 02-01-1954 & 0 & 52 & 1954\\\\\n\t3 & 290004 & 03-01-1954 & 0 &  1 & 1954\\\\\n\\end{tabular}\n",
            "text/plain": [
              "  CodigoNacional momento    Total_Valor NuSemana Anio\n",
              "1 290004         01-01-1954 0           52       1954\n",
              "2 290004         02-01-1954 0           52       1954\n",
              "3 290004         03-01-1954 0            1       1954"
            ]
          },
          "metadata": {}
        }
      ]
    },
    {
      "cell_type": "code",
      "source": [
        "# Agrupo y obtengo la suma de precipitaciones para cada semana en cada año.\n",
        "df_datos_Precip_semanal <- df_datos_Precip %>% group_by (CodigoNacional,Anio, NuSemana) %>% summarise(Total_Valor_semPP = sum(Total_Valor, na.rm = TRUE))\n",
        "#Convierto agrupación con media y mediana a data frame\n",
        "df_datos_Precip_semanal <- as.data.frame (df_datos_Precip_semanal)\n",
        "#filtro por todo aquellos años >= a 2014\n",
        "df_datos_Precip_semanal <- df_datos_Precip_semanal %>% filter(Anio > 2013 & Anio < 2024)\n",
        "head(df_datos_Precip_semanal,3)"
      ],
      "metadata": {
        "colab": {
          "base_uri": "https://localhost:8080/",
          "height": 227
        },
        "id": "Iij1RkzSDVQb",
        "outputId": "dbfdf82f-e54f-47d8-fcfe-d7fd374b909a"
      },
      "execution_count": 115,
      "outputs": [
        {
          "output_type": "stream",
          "name": "stderr",
          "text": [
            "\u001b[1m\u001b[22m`summarise()` has grouped output by 'CodigoNacional', 'Anio'. You can override\n",
            "using the `.groups` argument.\n"
          ]
        },
        {
          "output_type": "display_data",
          "data": {
            "text/html": [
              "<table class=\"dataframe\">\n",
              "<caption>A data.frame: 3 × 4</caption>\n",
              "<thead>\n",
              "\t<tr><th></th><th scope=col>CodigoNacional</th><th scope=col>Anio</th><th scope=col>NuSemana</th><th scope=col>Total_Valor_semPP</th></tr>\n",
              "\t<tr><th></th><th scope=col>&lt;dbl&gt;</th><th scope=col>&lt;dbl&gt;</th><th scope=col>&lt;dbl&gt;</th><th scope=col>&lt;dbl&gt;</th></tr>\n",
              "</thead>\n",
              "<tbody>\n",
              "\t<tr><th scope=row>1</th><td>290004</td><td>2014</td><td>1</td><td>0</td></tr>\n",
              "\t<tr><th scope=row>2</th><td>290004</td><td>2014</td><td>2</td><td>0</td></tr>\n",
              "\t<tr><th scope=row>3</th><td>290004</td><td>2014</td><td>3</td><td>0</td></tr>\n",
              "</tbody>\n",
              "</table>\n"
            ],
            "text/markdown": "\nA data.frame: 3 × 4\n\n| <!--/--> | CodigoNacional &lt;dbl&gt; | Anio &lt;dbl&gt; | NuSemana &lt;dbl&gt; | Total_Valor_semPP &lt;dbl&gt; |\n|---|---|---|---|---|\n| 1 | 290004 | 2014 | 1 | 0 |\n| 2 | 290004 | 2014 | 2 | 0 |\n| 3 | 290004 | 2014 | 3 | 0 |\n\n",
            "text/latex": "A data.frame: 3 × 4\n\\begin{tabular}{r|llll}\n  & CodigoNacional & Anio & NuSemana & Total\\_Valor\\_semPP\\\\\n  & <dbl> & <dbl> & <dbl> & <dbl>\\\\\n\\hline\n\t1 & 290004 & 2014 & 1 & 0\\\\\n\t2 & 290004 & 2014 & 2 & 0\\\\\n\t3 & 290004 & 2014 & 3 & 0\\\\\n\\end{tabular}\n",
            "text/plain": [
              "  CodigoNacional Anio NuSemana Total_Valor_semPP\n",
              "1 290004         2014 1        0                \n",
              "2 290004         2014 2        0                \n",
              "3 290004         2014 3        0                "
            ]
          },
          "metadata": {}
        }
      ]
    },
    {
      "cell_type": "code",
      "source": [
        "#obtengo n° de semana de las fechas de mediciones (momento) y agrego columna al data frame mp25\n",
        "semana<-epiweek(dmy(df_datos_mp25$momento))\n",
        "ano <- year(dmy(df_datos_mp25$momento))\n",
        "df_datos_mp25 <- cbind(df_datos_mp25, NuSemana = semana)\n",
        "df_datos_mp25 <- cbind(df_datos_mp25, Anio = ano)\n",
        "head(df_datos_mp25,3)"
      ],
      "metadata": {
        "colab": {
          "base_uri": "https://localhost:8080/",
          "height": 192
        },
        "id": "DdjPbon8FhQX",
        "outputId": "af11d628-53f1-4e9c-de57-5314a67a9776"
      },
      "execution_count": 116,
      "outputs": [
        {
          "output_type": "display_data",
          "data": {
            "text/html": [
              "<table class=\"dataframe\">\n",
              "<caption>A data.frame: 3 × 5</caption>\n",
              "<thead>\n",
              "\t<tr><th></th><th scope=col>COMUNA</th><th scope=col>momento</th><th scope=col>totalMP25</th><th scope=col>NuSemana</th><th scope=col>Anio</th></tr>\n",
              "\t<tr><th></th><th scope=col>&lt;chr&gt;</th><th scope=col>&lt;chr&gt;</th><th scope=col>&lt;dbl&gt;</th><th scope=col>&lt;dbl&gt;</th><th scope=col>&lt;dbl&gt;</th></tr>\n",
              "</thead>\n",
              "<tbody>\n",
              "\t<tr><th scope=row>1</th><td>Concepcion</td><td>12-08-2009</td><td>390.2810</td><td>32</td><td>2009</td></tr>\n",
              "\t<tr><th scope=row>2</th><td>Concepcion</td><td>13-08-2009</td><td> 68.5317</td><td>32</td><td>2009</td></tr>\n",
              "\t<tr><th scope=row>3</th><td>Concepcion</td><td>14-08-2009</td><td>319.4660</td><td>32</td><td>2009</td></tr>\n",
              "</tbody>\n",
              "</table>\n"
            ],
            "text/markdown": "\nA data.frame: 3 × 5\n\n| <!--/--> | COMUNA &lt;chr&gt; | momento &lt;chr&gt; | totalMP25 &lt;dbl&gt; | NuSemana &lt;dbl&gt; | Anio &lt;dbl&gt; |\n|---|---|---|---|---|---|\n| 1 | Concepcion | 12-08-2009 | 390.2810 | 32 | 2009 |\n| 2 | Concepcion | 13-08-2009 |  68.5317 | 32 | 2009 |\n| 3 | Concepcion | 14-08-2009 | 319.4660 | 32 | 2009 |\n\n",
            "text/latex": "A data.frame: 3 × 5\n\\begin{tabular}{r|lllll}\n  & COMUNA & momento & totalMP25 & NuSemana & Anio\\\\\n  & <chr> & <chr> & <dbl> & <dbl> & <dbl>\\\\\n\\hline\n\t1 & Concepcion & 12-08-2009 & 390.2810 & 32 & 2009\\\\\n\t2 & Concepcion & 13-08-2009 &  68.5317 & 32 & 2009\\\\\n\t3 & Concepcion & 14-08-2009 & 319.4660 & 32 & 2009\\\\\n\\end{tabular}\n",
            "text/plain": [
              "  COMUNA     momento    totalMP25 NuSemana Anio\n",
              "1 Concepcion 12-08-2009 390.2810  32       2009\n",
              "2 Concepcion 13-08-2009  68.5317  32       2009\n",
              "3 Concepcion 14-08-2009 319.4660  32       2009"
            ]
          },
          "metadata": {}
        }
      ]
    },
    {
      "cell_type": "code",
      "source": [
        "# Agrupo y obtengo la suma de precipitaciones para cada semana en cada año.\n",
        "df_datos_mp25_semanal <- df_datos_mp25 %>% group_by (COMUNA,Anio, NuSemana) %>% summarise(Total_Valor_semMP25 = sum(totalMP25, na.rm = TRUE))\n",
        "#Convierto agrupación con media y mediana a data frame\n",
        "df_datos_mp25_semanal <- as.data.frame (df_datos_mp25_semanal)\n",
        "#filtro por todo aquellos años >= a 2014\n",
        "df_datos_mp25_semanal <- df_datos_mp25_semanal %>% filter(Anio > 2013 & Anio < 2024)\n",
        "head(df_datos_mp25_semanal,3)"
      ],
      "metadata": {
        "colab": {
          "base_uri": "https://localhost:8080/",
          "height": 227
        },
        "id": "f9hgqQjDGiJo",
        "outputId": "5582b1c9-4092-4075-9071-1c07fed70a2b"
      },
      "execution_count": 117,
      "outputs": [
        {
          "output_type": "stream",
          "name": "stderr",
          "text": [
            "\u001b[1m\u001b[22m`summarise()` has grouped output by 'COMUNA', 'Anio'. You can override using\n",
            "the `.groups` argument.\n"
          ]
        },
        {
          "output_type": "display_data",
          "data": {
            "text/html": [
              "<table class=\"dataframe\">\n",
              "<caption>A data.frame: 3 × 4</caption>\n",
              "<thead>\n",
              "\t<tr><th></th><th scope=col>COMUNA</th><th scope=col>Anio</th><th scope=col>NuSemana</th><th scope=col>Total_Valor_semMP25</th></tr>\n",
              "\t<tr><th></th><th scope=col>&lt;chr&gt;</th><th scope=col>&lt;dbl&gt;</th><th scope=col>&lt;dbl&gt;</th><th scope=col>&lt;dbl&gt;</th></tr>\n",
              "</thead>\n",
              "<tbody>\n",
              "\t<tr><th scope=row>1</th><td>Concepcion</td><td>2014</td><td>1</td><td>48.20000</td></tr>\n",
              "\t<tr><th scope=row>2</th><td>Concepcion</td><td>2014</td><td>2</td><td>73.69997</td></tr>\n",
              "\t<tr><th scope=row>3</th><td>Concepcion</td><td>2014</td><td>3</td><td>72.09999</td></tr>\n",
              "</tbody>\n",
              "</table>\n"
            ],
            "text/markdown": "\nA data.frame: 3 × 4\n\n| <!--/--> | COMUNA &lt;chr&gt; | Anio &lt;dbl&gt; | NuSemana &lt;dbl&gt; | Total_Valor_semMP25 &lt;dbl&gt; |\n|---|---|---|---|---|\n| 1 | Concepcion | 2014 | 1 | 48.20000 |\n| 2 | Concepcion | 2014 | 2 | 73.69997 |\n| 3 | Concepcion | 2014 | 3 | 72.09999 |\n\n",
            "text/latex": "A data.frame: 3 × 4\n\\begin{tabular}{r|llll}\n  & COMUNA & Anio & NuSemana & Total\\_Valor\\_semMP25\\\\\n  & <chr> & <dbl> & <dbl> & <dbl>\\\\\n\\hline\n\t1 & Concepcion & 2014 & 1 & 48.20000\\\\\n\t2 & Concepcion & 2014 & 2 & 73.69997\\\\\n\t3 & Concepcion & 2014 & 3 & 72.09999\\\\\n\\end{tabular}\n",
            "text/plain": [
              "  COMUNA     Anio NuSemana Total_Valor_semMP25\n",
              "1 Concepcion 2014 1        48.20000           \n",
              "2 Concepcion 2014 2        73.69997           \n",
              "3 Concepcion 2014 3        72.09999           "
            ]
          },
          "metadata": {}
        }
      ]
    },
    {
      "cell_type": "code",
      "source": [
        "nrow(df_urgr_esp_semanal)\n",
        "#write.csv (df_urgr_esp_semanal, \"prueba.csv\")\n",
        "nrow(df_datos_temperatura_semanal)\n",
        "#write.csv (df_datos_temperatura_semanal, \"prueba2.csv\")\n",
        "nrow(df_datos_Precip_semanal)\n",
        "nrow(df_datos_Humedad_semanal)\n",
        "nrow(df_datos_mp25_semanal)"
      ],
      "metadata": {
        "id": "l5FZV3fQbq0R",
        "outputId": "473d8f5d-7ace-4dca-b010-7818440f032c",
        "colab": {
          "base_uri": "https://localhost:8080/",
          "height": 104
        }
      },
      "execution_count": 118,
      "outputs": [
        {
          "output_type": "display_data",
          "data": {
            "text/html": [
              "1572"
            ],
            "text/markdown": "1572",
            "text/latex": "1572",
            "text/plain": [
              "[1] 1572"
            ]
          },
          "metadata": {}
        },
        {
          "output_type": "display_data",
          "data": {
            "text/html": [
              "1572"
            ],
            "text/markdown": "1572",
            "text/latex": "1572",
            "text/plain": [
              "[1] 1572"
            ]
          },
          "metadata": {}
        },
        {
          "output_type": "display_data",
          "data": {
            "text/html": [
              "1572"
            ],
            "text/markdown": "1572",
            "text/latex": "1572",
            "text/plain": [
              "[1] 1572"
            ]
          },
          "metadata": {}
        },
        {
          "output_type": "display_data",
          "data": {
            "text/html": [
              "1572"
            ],
            "text/markdown": "1572",
            "text/latex": "1572",
            "text/plain": [
              "[1] 1572"
            ]
          },
          "metadata": {}
        },
        {
          "output_type": "display_data",
          "data": {
            "text/html": [
              "1572"
            ],
            "text/markdown": "1572",
            "text/latex": "1572",
            "text/plain": [
              "[1] 1572"
            ]
          },
          "metadata": {}
        }
      ]
    },
    {
      "cell_type": "code",
      "source": [
        "df_variable <-merge(df_datos_temperatura_semanal, df_datos_Humedad_semanal, by = c(\"CodigoNacional\",\"Anio\",\"NuSemana\"))\n",
        "df_variable <- merge(df_variable, df_datos_Precip_semanal, by = c(\"CodigoNacional\",\"Anio\",\"NuSemana\"))\n",
        "head(df_variable,10)"
      ],
      "metadata": {
        "id": "C3St2zUj3j3K",
        "outputId": "07d17ec9-8c46-42dc-b835-e4ebb00008c8",
        "colab": {
          "base_uri": "https://localhost:8080/",
          "height": 412
        }
      },
      "execution_count": 119,
      "outputs": [
        {
          "output_type": "display_data",
          "data": {
            "text/html": [
              "<table class=\"dataframe\">\n",
              "<caption>A data.frame: 10 × 7</caption>\n",
              "<thead>\n",
              "\t<tr><th></th><th scope=col>CodigoNacional</th><th scope=col>Anio</th><th scope=col>NuSemana</th><th scope=col>medianaClim</th><th scope=col>difMaxMin</th><th scope=col>Mediana_HR_Valor</th><th scope=col>Total_Valor_semPP</th></tr>\n",
              "\t<tr><th></th><th scope=col>&lt;dbl&gt;</th><th scope=col>&lt;dbl&gt;</th><th scope=col>&lt;dbl&gt;</th><th scope=col>&lt;dbl&gt;</th><th scope=col>&lt;dbl&gt;</th><th scope=col>&lt;dbl&gt;</th><th scope=col>&lt;dbl&gt;</th></tr>\n",
              "</thead>\n",
              "<tbody>\n",
              "\t<tr><th scope=row>1</th><td>290004</td><td>2014</td><td> 1</td><td>17.6</td><td>7.8</td><td>76.5</td><td>0.0</td></tr>\n",
              "\t<tr><th scope=row>2</th><td>290004</td><td>2014</td><td>10</td><td>15.8</td><td>8.4</td><td>82.0</td><td>0.0</td></tr>\n",
              "\t<tr><th scope=row>3</th><td>290004</td><td>2014</td><td>11</td><td>14.9</td><td>6.6</td><td>84.0</td><td>0.0</td></tr>\n",
              "\t<tr><th scope=row>4</th><td>290004</td><td>2014</td><td>12</td><td>14.3</td><td>6.1</td><td>86.5</td><td>0.2</td></tr>\n",
              "\t<tr><th scope=row>5</th><td>290004</td><td>2014</td><td>13</td><td>14.4</td><td>4.2</td><td>85.5</td><td>0.6</td></tr>\n",
              "\t<tr><th scope=row>6</th><td>290004</td><td>2014</td><td>14</td><td>14.2</td><td>7.7</td><td>80.0</td><td>0.0</td></tr>\n",
              "\t<tr><th scope=row>7</th><td>290004</td><td>2014</td><td>15</td><td>14.1</td><td>8.9</td><td>77.0</td><td>0.0</td></tr>\n",
              "\t<tr><th scope=row>8</th><td>290004</td><td>2014</td><td>16</td><td>12.8</td><td>5.4</td><td>83.0</td><td>0.0</td></tr>\n",
              "\t<tr><th scope=row>9</th><td>290004</td><td>2014</td><td>17</td><td>13.2</td><td>5.0</td><td>84.0</td><td>0.2</td></tr>\n",
              "\t<tr><th scope=row>10</th><td>290004</td><td>2014</td><td>18</td><td>12.4</td><td>8.0</td><td>80.0</td><td>0.0</td></tr>\n",
              "</tbody>\n",
              "</table>\n"
            ],
            "text/markdown": "\nA data.frame: 10 × 7\n\n| <!--/--> | CodigoNacional &lt;dbl&gt; | Anio &lt;dbl&gt; | NuSemana &lt;dbl&gt; | medianaClim &lt;dbl&gt; | difMaxMin &lt;dbl&gt; | Mediana_HR_Valor &lt;dbl&gt; | Total_Valor_semPP &lt;dbl&gt; |\n|---|---|---|---|---|---|---|---|\n| 1 | 290004 | 2014 |  1 | 17.6 | 7.8 | 76.5 | 0.0 |\n| 2 | 290004 | 2014 | 10 | 15.8 | 8.4 | 82.0 | 0.0 |\n| 3 | 290004 | 2014 | 11 | 14.9 | 6.6 | 84.0 | 0.0 |\n| 4 | 290004 | 2014 | 12 | 14.3 | 6.1 | 86.5 | 0.2 |\n| 5 | 290004 | 2014 | 13 | 14.4 | 4.2 | 85.5 | 0.6 |\n| 6 | 290004 | 2014 | 14 | 14.2 | 7.7 | 80.0 | 0.0 |\n| 7 | 290004 | 2014 | 15 | 14.1 | 8.9 | 77.0 | 0.0 |\n| 8 | 290004 | 2014 | 16 | 12.8 | 5.4 | 83.0 | 0.0 |\n| 9 | 290004 | 2014 | 17 | 13.2 | 5.0 | 84.0 | 0.2 |\n| 10 | 290004 | 2014 | 18 | 12.4 | 8.0 | 80.0 | 0.0 |\n\n",
            "text/latex": "A data.frame: 10 × 7\n\\begin{tabular}{r|lllllll}\n  & CodigoNacional & Anio & NuSemana & medianaClim & difMaxMin & Mediana\\_HR\\_Valor & Total\\_Valor\\_semPP\\\\\n  & <dbl> & <dbl> & <dbl> & <dbl> & <dbl> & <dbl> & <dbl>\\\\\n\\hline\n\t1 & 290004 & 2014 &  1 & 17.6 & 7.8 & 76.5 & 0.0\\\\\n\t2 & 290004 & 2014 & 10 & 15.8 & 8.4 & 82.0 & 0.0\\\\\n\t3 & 290004 & 2014 & 11 & 14.9 & 6.6 & 84.0 & 0.0\\\\\n\t4 & 290004 & 2014 & 12 & 14.3 & 6.1 & 86.5 & 0.2\\\\\n\t5 & 290004 & 2014 & 13 & 14.4 & 4.2 & 85.5 & 0.6\\\\\n\t6 & 290004 & 2014 & 14 & 14.2 & 7.7 & 80.0 & 0.0\\\\\n\t7 & 290004 & 2014 & 15 & 14.1 & 8.9 & 77.0 & 0.0\\\\\n\t8 & 290004 & 2014 & 16 & 12.8 & 5.4 & 83.0 & 0.0\\\\\n\t9 & 290004 & 2014 & 17 & 13.2 & 5.0 & 84.0 & 0.2\\\\\n\t10 & 290004 & 2014 & 18 & 12.4 & 8.0 & 80.0 & 0.0\\\\\n\\end{tabular}\n",
            "text/plain": [
              "   CodigoNacional Anio NuSemana medianaClim difMaxMin Mediana_HR_Valor\n",
              "1  290004         2014  1       17.6        7.8       76.5            \n",
              "2  290004         2014 10       15.8        8.4       82.0            \n",
              "3  290004         2014 11       14.9        6.6       84.0            \n",
              "4  290004         2014 12       14.3        6.1       86.5            \n",
              "5  290004         2014 13       14.4        4.2       85.5            \n",
              "6  290004         2014 14       14.2        7.7       80.0            \n",
              "7  290004         2014 15       14.1        8.9       77.0            \n",
              "8  290004         2014 16       12.8        5.4       83.0            \n",
              "9  290004         2014 17       13.2        5.0       84.0            \n",
              "10 290004         2014 18       12.4        8.0       80.0            \n",
              "   Total_Valor_semPP\n",
              "1  0.0              \n",
              "2  0.0              \n",
              "3  0.0              \n",
              "4  0.2              \n",
              "5  0.6              \n",
              "6  0.0              \n",
              "7  0.0              \n",
              "8  0.0              \n",
              "9  0.2              \n",
              "10 0.0              "
            ]
          },
          "metadata": {}
        }
      ]
    },
    {
      "cell_type": "code",
      "source": [
        "df_variable <- df_variable %>% mutate(COMUNA = ifelse(CodigoNacional == 290004, \"LaSerena\", ifelse (CodigoNacional == 360019, \"Concepcion\", ifelse (CodigoNacional == 330020, \"Santiago\", NA))))\n"
      ],
      "metadata": {
        "id": "3W4oes7QKKzI"
      },
      "execution_count": 120,
      "outputs": []
    },
    {
      "cell_type": "code",
      "source": [
        "df_variable <- merge(df_variable, df_datos_mp25_semanal, by = c(\"COMUNA\",\"Anio\",\"NuSemana\"))\n",
        "df_variable <- merge(df_variable, df_urgr_esp_semanal, by = c(\"COMUNA\",\"Anio\",\"NuSemana\"))\n",
        "df_final <-df_variable %>% select(-CodigoNacional)\n",
        "df_final$COMUNA <- as.factor(df_final$COMUNA)\n",
        "head(df_final,10)"
      ],
      "metadata": {
        "id": "UbsA287sMpV1",
        "outputId": "8cf99eb3-d3a9-4940-adec-e0f00c796f5a",
        "colab": {
          "base_uri": "https://localhost:8080/",
          "height": 412
        }
      },
      "execution_count": 121,
      "outputs": [
        {
          "output_type": "display_data",
          "data": {
            "text/html": [
              "<table class=\"dataframe\">\n",
              "<caption>A data.frame: 10 × 9</caption>\n",
              "<thead>\n",
              "\t<tr><th></th><th scope=col>COMUNA</th><th scope=col>Anio</th><th scope=col>NuSemana</th><th scope=col>medianaClim</th><th scope=col>difMaxMin</th><th scope=col>Mediana_HR_Valor</th><th scope=col>Total_Valor_semPP</th><th scope=col>Total_Valor_semMP25</th><th scope=col>NumTotalUrg</th></tr>\n",
              "\t<tr><th></th><th scope=col>&lt;fct&gt;</th><th scope=col>&lt;dbl&gt;</th><th scope=col>&lt;dbl&gt;</th><th scope=col>&lt;dbl&gt;</th><th scope=col>&lt;dbl&gt;</th><th scope=col>&lt;dbl&gt;</th><th scope=col>&lt;dbl&gt;</th><th scope=col>&lt;dbl&gt;</th><th scope=col>&lt;int&gt;</th></tr>\n",
              "</thead>\n",
              "<tbody>\n",
              "\t<tr><th scope=row>1</th><td>Concepcion</td><td>2014</td><td> 1</td><td>16.75</td><td>13.6</td><td>58.0</td><td> 0.0</td><td> 48.20000</td><td> 574</td></tr>\n",
              "\t<tr><th scope=row>2</th><td>Concepcion</td><td>2014</td><td>10</td><td>15.20</td><td>11.2</td><td>76.5</td><td> 0.4</td><td> 21.40000</td><td> 938</td></tr>\n",
              "\t<tr><th scope=row>3</th><td>Concepcion</td><td>2014</td><td>11</td><td>15.80</td><td> 9.9</td><td>80.0</td><td>12.8</td><td> 47.90000</td><td>1270</td></tr>\n",
              "\t<tr><th scope=row>4</th><td>Concepcion</td><td>2014</td><td>12</td><td>15.30</td><td>12.0</td><td>72.0</td><td> 0.8</td><td> 86.30000</td><td>1702</td></tr>\n",
              "\t<tr><th scope=row>5</th><td>Concepcion</td><td>2014</td><td>13</td><td>13.70</td><td> 4.4</td><td>81.0</td><td>52.8</td><td>112.39000</td><td>1450</td></tr>\n",
              "\t<tr><th scope=row>6</th><td>Concepcion</td><td>2014</td><td>14</td><td>12.80</td><td> 9.2</td><td>84.0</td><td> 0.0</td><td> 99.09999</td><td>1480</td></tr>\n",
              "\t<tr><th scope=row>7</th><td>Concepcion</td><td>2014</td><td>15</td><td>12.00</td><td> 8.4</td><td>86.0</td><td> 5.8</td><td> 93.99997</td><td>1317</td></tr>\n",
              "\t<tr><th scope=row>8</th><td>Concepcion</td><td>2014</td><td>16</td><td>12.70</td><td>11.2</td><td>73.0</td><td> 0.0</td><td> 93.79999</td><td>1353</td></tr>\n",
              "\t<tr><th scope=row>9</th><td>Concepcion</td><td>2014</td><td>17</td><td>12.60</td><td>10.9</td><td>90.5</td><td> 1.6</td><td>114.50000</td><td>1400</td></tr>\n",
              "\t<tr><th scope=row>10</th><td>Concepcion</td><td>2014</td><td>18</td><td>10.50</td><td> 8.4</td><td>93.0</td><td>79.4</td><td> 93.00000</td><td>1215</td></tr>\n",
              "</tbody>\n",
              "</table>\n"
            ],
            "text/markdown": "\nA data.frame: 10 × 9\n\n| <!--/--> | COMUNA &lt;fct&gt; | Anio &lt;dbl&gt; | NuSemana &lt;dbl&gt; | medianaClim &lt;dbl&gt; | difMaxMin &lt;dbl&gt; | Mediana_HR_Valor &lt;dbl&gt; | Total_Valor_semPP &lt;dbl&gt; | Total_Valor_semMP25 &lt;dbl&gt; | NumTotalUrg &lt;int&gt; |\n|---|---|---|---|---|---|---|---|---|---|\n| 1 | Concepcion | 2014 |  1 | 16.75 | 13.6 | 58.0 |  0.0 |  48.20000 |  574 |\n| 2 | Concepcion | 2014 | 10 | 15.20 | 11.2 | 76.5 |  0.4 |  21.40000 |  938 |\n| 3 | Concepcion | 2014 | 11 | 15.80 |  9.9 | 80.0 | 12.8 |  47.90000 | 1270 |\n| 4 | Concepcion | 2014 | 12 | 15.30 | 12.0 | 72.0 |  0.8 |  86.30000 | 1702 |\n| 5 | Concepcion | 2014 | 13 | 13.70 |  4.4 | 81.0 | 52.8 | 112.39000 | 1450 |\n| 6 | Concepcion | 2014 | 14 | 12.80 |  9.2 | 84.0 |  0.0 |  99.09999 | 1480 |\n| 7 | Concepcion | 2014 | 15 | 12.00 |  8.4 | 86.0 |  5.8 |  93.99997 | 1317 |\n| 8 | Concepcion | 2014 | 16 | 12.70 | 11.2 | 73.0 |  0.0 |  93.79999 | 1353 |\n| 9 | Concepcion | 2014 | 17 | 12.60 | 10.9 | 90.5 |  1.6 | 114.50000 | 1400 |\n| 10 | Concepcion | 2014 | 18 | 10.50 |  8.4 | 93.0 | 79.4 |  93.00000 | 1215 |\n\n",
            "text/latex": "A data.frame: 10 × 9\n\\begin{tabular}{r|lllllllll}\n  & COMUNA & Anio & NuSemana & medianaClim & difMaxMin & Mediana\\_HR\\_Valor & Total\\_Valor\\_semPP & Total\\_Valor\\_semMP25 & NumTotalUrg\\\\\n  & <fct> & <dbl> & <dbl> & <dbl> & <dbl> & <dbl> & <dbl> & <dbl> & <int>\\\\\n\\hline\n\t1 & Concepcion & 2014 &  1 & 16.75 & 13.6 & 58.0 &  0.0 &  48.20000 &  574\\\\\n\t2 & Concepcion & 2014 & 10 & 15.20 & 11.2 & 76.5 &  0.4 &  21.40000 &  938\\\\\n\t3 & Concepcion & 2014 & 11 & 15.80 &  9.9 & 80.0 & 12.8 &  47.90000 & 1270\\\\\n\t4 & Concepcion & 2014 & 12 & 15.30 & 12.0 & 72.0 &  0.8 &  86.30000 & 1702\\\\\n\t5 & Concepcion & 2014 & 13 & 13.70 &  4.4 & 81.0 & 52.8 & 112.39000 & 1450\\\\\n\t6 & Concepcion & 2014 & 14 & 12.80 &  9.2 & 84.0 &  0.0 &  99.09999 & 1480\\\\\n\t7 & Concepcion & 2014 & 15 & 12.00 &  8.4 & 86.0 &  5.8 &  93.99997 & 1317\\\\\n\t8 & Concepcion & 2014 & 16 & 12.70 & 11.2 & 73.0 &  0.0 &  93.79999 & 1353\\\\\n\t9 & Concepcion & 2014 & 17 & 12.60 & 10.9 & 90.5 &  1.6 & 114.50000 & 1400\\\\\n\t10 & Concepcion & 2014 & 18 & 10.50 &  8.4 & 93.0 & 79.4 &  93.00000 & 1215\\\\\n\\end{tabular}\n",
            "text/plain": [
              "   COMUNA     Anio NuSemana medianaClim difMaxMin Mediana_HR_Valor\n",
              "1  Concepcion 2014  1       16.75       13.6      58.0            \n",
              "2  Concepcion 2014 10       15.20       11.2      76.5            \n",
              "3  Concepcion 2014 11       15.80        9.9      80.0            \n",
              "4  Concepcion 2014 12       15.30       12.0      72.0            \n",
              "5  Concepcion 2014 13       13.70        4.4      81.0            \n",
              "6  Concepcion 2014 14       12.80        9.2      84.0            \n",
              "7  Concepcion 2014 15       12.00        8.4      86.0            \n",
              "8  Concepcion 2014 16       12.70       11.2      73.0            \n",
              "9  Concepcion 2014 17       12.60       10.9      90.5            \n",
              "10 Concepcion 2014 18       10.50        8.4      93.0            \n",
              "   Total_Valor_semPP Total_Valor_semMP25 NumTotalUrg\n",
              "1   0.0               48.20000            574       \n",
              "2   0.4               21.40000            938       \n",
              "3  12.8               47.90000           1270       \n",
              "4   0.8               86.30000           1702       \n",
              "5  52.8              112.39000           1450       \n",
              "6   0.0               99.09999           1480       \n",
              "7   5.8               93.99997           1317       \n",
              "8   0.0               93.79999           1353       \n",
              "9   1.6              114.50000           1400       \n",
              "10 79.4               93.00000           1215       "
            ]
          },
          "metadata": {}
        }
      ]
    },
    {
      "cell_type": "code",
      "source": [],
      "metadata": {
        "id": "WgI0z0sluKsI"
      },
      "execution_count": 122,
      "outputs": []
    },
    {
      "cell_type": "code",
      "source": [
        "df_datos_mp25_semanal %>% filter(Total_Valor_semMP25 == 0 & Anio == 2016)"
      ],
      "metadata": {
        "id": "LROWEFKm6INO",
        "outputId": "d86f33cc-a4be-43c6-eac8-13f7f1310dd1",
        "colab": {
          "base_uri": "https://localhost:8080/",
          "height": 255
        }
      },
      "execution_count": 123,
      "outputs": [
        {
          "output_type": "display_data",
          "data": {
            "text/html": [
              "<table class=\"dataframe\">\n",
              "<caption>A data.frame: 5 × 4</caption>\n",
              "<thead>\n",
              "\t<tr><th scope=col>COMUNA</th><th scope=col>Anio</th><th scope=col>NuSemana</th><th scope=col>Total_Valor_semMP25</th></tr>\n",
              "\t<tr><th scope=col>&lt;chr&gt;</th><th scope=col>&lt;dbl&gt;</th><th scope=col>&lt;dbl&gt;</th><th scope=col>&lt;dbl&gt;</th></tr>\n",
              "</thead>\n",
              "<tbody>\n",
              "\t<tr><td>Concepcion</td><td>2016</td><td>41</td><td>0</td></tr>\n",
              "\t<tr><td>Concepcion</td><td>2016</td><td>42</td><td>0</td></tr>\n",
              "\t<tr><td>Concepcion</td><td>2016</td><td>43</td><td>0</td></tr>\n",
              "\t<tr><td>Concepcion</td><td>2016</td><td>44</td><td>0</td></tr>\n",
              "\t<tr><td>Concepcion</td><td>2016</td><td>45</td><td>0</td></tr>\n",
              "</tbody>\n",
              "</table>\n"
            ],
            "text/markdown": "\nA data.frame: 5 × 4\n\n| COMUNA &lt;chr&gt; | Anio &lt;dbl&gt; | NuSemana &lt;dbl&gt; | Total_Valor_semMP25 &lt;dbl&gt; |\n|---|---|---|---|\n| Concepcion | 2016 | 41 | 0 |\n| Concepcion | 2016 | 42 | 0 |\n| Concepcion | 2016 | 43 | 0 |\n| Concepcion | 2016 | 44 | 0 |\n| Concepcion | 2016 | 45 | 0 |\n\n",
            "text/latex": "A data.frame: 5 × 4\n\\begin{tabular}{llll}\n COMUNA & Anio & NuSemana & Total\\_Valor\\_semMP25\\\\\n <chr> & <dbl> & <dbl> & <dbl>\\\\\n\\hline\n\t Concepcion & 2016 & 41 & 0\\\\\n\t Concepcion & 2016 & 42 & 0\\\\\n\t Concepcion & 2016 & 43 & 0\\\\\n\t Concepcion & 2016 & 44 & 0\\\\\n\t Concepcion & 2016 & 45 & 0\\\\\n\\end{tabular}\n",
            "text/plain": [
              "  COMUNA     Anio NuSemana Total_Valor_semMP25\n",
              "1 Concepcion 2016 41       0                  \n",
              "2 Concepcion 2016 42       0                  \n",
              "3 Concepcion 2016 43       0                  \n",
              "4 Concepcion 2016 44       0                  \n",
              "5 Concepcion 2016 45       0                  "
            ]
          },
          "metadata": {}
        }
      ]
    },
    {
      "cell_type": "code",
      "source": [
        "summary(df_final)"
      ],
      "metadata": {
        "id": "Z1oLeDfIzXqf",
        "outputId": "6e90c442-605f-4e44-91aa-703df23ea0da",
        "colab": {
          "base_uri": "https://localhost:8080/",
          "height": 260
        }
      },
      "execution_count": 124,
      "outputs": [
        {
          "output_type": "display_data",
          "data": {
            "text/plain": [
              "        COMUNA         Anio         NuSemana     medianaClim      difMaxMin    \n",
              " Concepcion:524   Min.   :2014   Min.   : 1.0   Min.   : 5.00   Min.   : 2.40  \n",
              " LaSerena  :524   1st Qu.:2016   1st Qu.:14.0   1st Qu.:11.50   1st Qu.: 7.10  \n",
              " Santiago  :524   Median :2018   Median :27.0   Median :13.90   Median : 9.50  \n",
              "                  Mean   :2018   Mean   :26.7   Mean   :14.31   Mean   :10.68  \n",
              "                  3rd Qu.:2021   3rd Qu.:40.0   3rd Qu.:16.90   3rd Qu.:13.72  \n",
              "                  Max.   :2023   Max.   :53.0   Max.   :25.40   Max.   :23.20  \n",
              " Mediana_HR_Valor Total_Valor_semPP Total_Valor_semMP25  NumTotalUrg    \n",
              " Min.   :31.00    Min.   :  0.000   Min.   :  0.00      Min.   :  34.0  \n",
              " 1st Qu.:71.00    1st Qu.:  0.000   1st Qu.: 68.00      1st Qu.: 511.0  \n",
              " Median :80.00    Median :  0.000   Median : 98.46      Median : 941.5  \n",
              " Mean   :76.34    Mean   :  6.573   Mean   :120.32      Mean   : 990.3  \n",
              " 3rd Qu.:85.00    3rd Qu.:  2.850   3rd Qu.:152.00      3rd Qu.:1427.5  \n",
              " Max.   :98.00    Max.   :138.200   Max.   :498.75      Max.   :3022.0  "
            ]
          },
          "metadata": {}
        }
      ]
    },
    {
      "cell_type": "code",
      "source": [
        "# Obtengo cantidad de urgencias por año y region\n",
        "df_resumen <- df_final %>%\n",
        "  group_by(Anio, COMUNA) %>%\n",
        "  summarise(Total = sum(NumTotalUrg, na.rm = TRUE))\n",
        "  head(df_resumen)\n"
      ],
      "metadata": {
        "id": "xL3XbljdvlS-",
        "outputId": "1e9db480-e13f-4d69-c9d6-750433d0a1b8",
        "colab": {
          "base_uri": "https://localhost:8080/",
          "height": 321
        }
      },
      "execution_count": 125,
      "outputs": [
        {
          "output_type": "stream",
          "name": "stderr",
          "text": [
            "\u001b[1m\u001b[22m`summarise()` has grouped output by 'Anio'. You can override using the\n",
            "`.groups` argument.\n"
          ]
        },
        {
          "output_type": "display_data",
          "data": {
            "text/html": [
              "<table class=\"dataframe\">\n",
              "<caption>A grouped_df: 6 × 3</caption>\n",
              "<thead>\n",
              "\t<tr><th scope=col>Anio</th><th scope=col>COMUNA</th><th scope=col>Total</th></tr>\n",
              "\t<tr><th scope=col>&lt;dbl&gt;</th><th scope=col>&lt;fct&gt;</th><th scope=col>&lt;int&gt;</th></tr>\n",
              "</thead>\n",
              "<tbody>\n",
              "\t<tr><td>2014</td><td>Concepcion</td><td>78922</td></tr>\n",
              "\t<tr><td>2014</td><td>LaSerena  </td><td>56830</td></tr>\n",
              "\t<tr><td>2014</td><td>Santiago  </td><td>46232</td></tr>\n",
              "\t<tr><td>2015</td><td>Concepcion</td><td>84479</td></tr>\n",
              "\t<tr><td>2015</td><td>LaSerena  </td><td>57653</td></tr>\n",
              "\t<tr><td>2015</td><td>Santiago  </td><td>48973</td></tr>\n",
              "</tbody>\n",
              "</table>\n"
            ],
            "text/markdown": "\nA grouped_df: 6 × 3\n\n| Anio &lt;dbl&gt; | COMUNA &lt;fct&gt; | Total &lt;int&gt; |\n|---|---|---|\n| 2014 | Concepcion | 78922 |\n| 2014 | LaSerena   | 56830 |\n| 2014 | Santiago   | 46232 |\n| 2015 | Concepcion | 84479 |\n| 2015 | LaSerena   | 57653 |\n| 2015 | Santiago   | 48973 |\n\n",
            "text/latex": "A grouped\\_df: 6 × 3\n\\begin{tabular}{lll}\n Anio & COMUNA & Total\\\\\n <dbl> & <fct> & <int>\\\\\n\\hline\n\t 2014 & Concepcion & 78922\\\\\n\t 2014 & LaSerena   & 56830\\\\\n\t 2014 & Santiago   & 46232\\\\\n\t 2015 & Concepcion & 84479\\\\\n\t 2015 & LaSerena   & 57653\\\\\n\t 2015 & Santiago   & 48973\\\\\n\\end{tabular}\n",
            "text/plain": [
              "  Anio COMUNA     Total\n",
              "1 2014 Concepcion 78922\n",
              "2 2014 LaSerena   56830\n",
              "3 2014 Santiago   46232\n",
              "4 2015 Concepcion 84479\n",
              "5 2015 LaSerena   57653\n",
              "6 2015 Santiago   48973"
            ]
          },
          "metadata": {}
        }
      ]
    },
    {
      "cell_type": "code",
      "source": [
        "options(repr.plot.width = 12, repr.plot.height = 12)\n",
        "ggplot(df_final, aes(x = factor(Anio), y = NumTotalUrg)) +\n",
        "  geom_col(fill = \"steelblue\") +  # Use geom_col for bar plots\n",
        "  labs(x = \"Año\", y = \"Total de Urgencias\", title = \"Urgencias por Año\") +\n",
        "  theme(text = element_text (size=17),axis.text.x = element_text(angle = 75, vjust = .5))\n"
      ],
      "metadata": {
        "id": "9dTo6jGS3usv",
        "outputId": "7c04ed9a-c1c1-4c65-cd60-05949f6ebedc",
        "colab": {
          "base_uri": "https://localhost:8080/",
          "height": 737
        }
      },
      "execution_count": 126,
      "outputs": [
        {
          "output_type": "display_data",
          "data": {
            "text/plain": [
              "plot without title"
            ],
            "image/png": "[encoded data removed]"
          },
          "metadata": {
            "image/png": {
              "width": 720,
              "height": 720
            }
          }
        }
      ]
    },
    {
      "cell_type": "code",
      "source": [
        "correlation_matrix <- cor(df_final[, sapply(df_final, is.numeric)])\n",
        "corrplot(correlation_matrix, method = \"number\")"
      ],
      "metadata": {
        "id": "gD2uP5hwrk-T",
        "outputId": "85065f39-ab85-467e-c90b-839e996839d7",
        "colab": {
          "base_uri": "https://localhost:8080/",
          "height": 737
        }
      },
      "execution_count": 127,
      "outputs": [
        {
          "output_type": "display_data",
          "data": {
            "text/plain": [
              "Plot with title “”"
            ],
            "image/png": "[encoded data removed]"
          },
          "metadata": {
            "image/png": {
              "width": 720,
              "height": 720
            }
          }
        }
      ]
    },
    {
      "cell_type": "code",
      "source": [
        "#Aqui estan todas las causas consideradas. La #3 es un total.\n",
        "#df_urgr_esp_semanal %>% select(OrdenCausa, Causa)%>%distinct()%>%arrange(OrdenCausa)"
      ],
      "metadata": {
        "id": "oREv1_6pveC6"
      },
      "execution_count": 128,
      "outputs": []
    },
    {
      "cell_type": "code",
      "source": [
        "#Filtro el dataset par las regiones 8,4 y 13, tambien la causa 3 que es solo totalizador de urgencias reportadas\n",
        "#df_urgr_esp_semanal<- df_urgr_esp_semanal %>% filter (RegionCodigo %in% c(8,4,13) & OrdenCausa != 3)\n",
        "#count(df_urgr_esp_semanal)\n",
        "#head(df_urgr_esp_semanal,5)\n",
        "#df_urgr_esp_semanal %>% filter (ComunaGlosa == 'La Serena' & Anio == 2023 & SemanaEstadistica == 47) %>%arrange (Anio)\n",
        "#%>% select(ComunaCodigo, ComunaGlosa) %>% filter(ComunaGlosa == 'Santiago')"
      ],
      "metadata": {
        "id": "SPdSAwt-zfD7"
      },
      "execution_count": 129,
      "outputs": []
    },
    {
      "cell_type": "code",
      "source": [
        "#Obtengo el total de urgencias reportadas en todos los años por las 3 regiones.\n",
        "df_final%>% group_by(Anio) %>% summarise(Total = sum(NumTotalUrg, na.rm = TRUE))"
      ],
      "metadata": {
        "id": "YBwWoeGzxkZt",
        "outputId": "e50cced5-8d76-4b83-e9f6-9c9125136c6c",
        "colab": {
          "base_uri": "https://localhost:8080/",
          "height": 412
        }
      },
      "execution_count": 130,
      "outputs": [
        {
          "output_type": "display_data",
          "data": {
            "text/html": [
              "<table class=\"dataframe\">\n",
              "<caption>A tibble: 10 × 2</caption>\n",
              "<thead>\n",
              "\t<tr><th scope=col>Anio</th><th scope=col>Total</th></tr>\n",
              "\t<tr><th scope=col>&lt;dbl&gt;</th><th scope=col>&lt;int&gt;</th></tr>\n",
              "</thead>\n",
              "<tbody>\n",
              "\t<tr><td>2014</td><td>181984</td></tr>\n",
              "\t<tr><td>2015</td><td>191105</td></tr>\n",
              "\t<tr><td>2016</td><td>190171</td></tr>\n",
              "\t<tr><td>2017</td><td>192322</td></tr>\n",
              "\t<tr><td>2018</td><td>197552</td></tr>\n",
              "\t<tr><td>2019</td><td>202206</td></tr>\n",
              "\t<tr><td>2020</td><td> 42398</td></tr>\n",
              "\t<tr><td>2021</td><td> 31598</td></tr>\n",
              "\t<tr><td>2022</td><td>139859</td></tr>\n",
              "\t<tr><td>2023</td><td>187523</td></tr>\n",
              "</tbody>\n",
              "</table>\n"
            ],
            "text/markdown": "\nA tibble: 10 × 2\n\n| Anio &lt;dbl&gt; | Total &lt;int&gt; |\n|---|---|\n| 2014 | 181984 |\n| 2015 | 191105 |\n| 2016 | 190171 |\n| 2017 | 192322 |\n| 2018 | 197552 |\n| 2019 | 202206 |\n| 2020 |  42398 |\n| 2021 |  31598 |\n| 2022 | 139859 |\n| 2023 | 187523 |\n\n",
            "text/latex": "A tibble: 10 × 2\n\\begin{tabular}{ll}\n Anio & Total\\\\\n <dbl> & <int>\\\\\n\\hline\n\t 2014 & 181984\\\\\n\t 2015 & 191105\\\\\n\t 2016 & 190171\\\\\n\t 2017 & 192322\\\\\n\t 2018 & 197552\\\\\n\t 2019 & 202206\\\\\n\t 2020 &  42398\\\\\n\t 2021 &  31598\\\\\n\t 2022 & 139859\\\\\n\t 2023 & 187523\\\\\n\\end{tabular}\n",
            "text/plain": [
              "   Anio Total \n",
              "1  2014 181984\n",
              "2  2015 191105\n",
              "3  2016 190171\n",
              "4  2017 192322\n",
              "5  2018 197552\n",
              "6  2019 202206\n",
              "7  2020  42398\n",
              "8  2021  31598\n",
              "9  2022 139859\n",
              "10 2023 187523"
            ]
          },
          "metadata": {}
        }
      ]
    },
    {
      "cell_type": "code",
      "source": [
        "# Grafico la cantidad de casos por región\n",
        "#df_plot1<-df_urgr_esp_semanal%>% group_by(RegionGlosa) %>% summarise(Total = sum(NumTotal, na.rm = TRUE))\n",
        "#options(repr.plot.width = 10, repr.plot.height = 10)\n",
        "#ggplot(df_plot1, aes(x=RegionGlosa, y= Total, fill= RegionGlosa)) + geom_bar(stat=\"identity\") +\n",
        "#scale_y_continuous(labels = scales::comma_format(accuracy = 1))+\n",
        "#theme(axis.text.x = element_text(angle = 75, vjust = .5))+\n",
        "#labs(x = \"Región\", y = \"Total Urgencias\", title = \"Total Urgencias x Región\")"
      ],
      "metadata": {
        "id": "9U0Uf1SXnlX9"
      },
      "execution_count": 131,
      "outputs": []
    },
    {
      "cell_type": "code",
      "source": [
        "# Obtengo cantidad de urgencias por año y region\n",
        "#df_resumen <- df_urgr_esp_semanal %>%\n",
        "#  group_by(Anio, RegionGlosa) %>%\n",
        "#  summarise(Total = sum(NumTotal, na.rm = TRUE))\n",
        "#  df_resumen"
      ],
      "metadata": {
        "id": "EmhGoM1e0ZOo"
      },
      "execution_count": 132,
      "outputs": []
    },
    {
      "cell_type": "code",
      "source": [
        "# Obtengo cantidad de urgencias por año, semana y region.\n",
        "#df_resumen <- df_urgr_esp_semanal %>%\n",
        "#  group_by(Anio, SemanaEstadistica, Causa) %>%\n",
        "#  summarise(Total = sum(NumTotal, na.rm = TRUE))\n",
        "#  df_resumen"
      ],
      "metadata": {
        "id": "M-wlfKZigc6v"
      },
      "execution_count": 133,
      "outputs": []
    },
    {
      "cell_type": "code",
      "source": [
        "#df_agrupado <- df_urgr_esp_semanal %>%\n",
        " # group_by(Anio) %>%\n",
        "  #summarise(Total = sum(NumTotal, na.rm = TRUE))\n",
        "#options(repr.plot.width = 15, repr.plot.height = 15)\n",
        "#ggplot(df_agrupado, aes(x = factor(Anio), y = Total)) +\n",
        " # geom_bar(stat = \"identity\", fill = \"steelblue\") +\n",
        " # labs(x = \"Año\", y = \"Total Urgencias\", title = \"Urgencias por Año\") +\n",
        " # theme_minimal()"
      ],
      "metadata": {
        "id": "BxOCdmv31mZe"
      },
      "execution_count": 134,
      "outputs": []
    }
  ]
}