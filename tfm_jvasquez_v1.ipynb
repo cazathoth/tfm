{
  "nbformat": 4,
  "nbformat_minor": 0,
  "metadata": {
    "colab": {
      "provenance": [],
      "authorship_tag": "ABX9TyMb270j/A9yuZ7ifGIIDOQg",
      "include_colab_link": true
    },
    "kernelspec": {
      "name": "ir",
      "display_name": "R"
    },
    "language_info": {
      "name": "R"
    }
  },
  "cells": [
    {
      "cell_type": "markdown",
      "metadata": {
        "id": "view-in-github",
        "colab_type": "text"
      },
      "source": [
        "<a href=\"https://colab.research.google.com/github/cazathoth/tfm/blob/main/tfm_jvasquez_v1.ipynb\" target=\"_parent\"><img src=\"https://colab.research.google.com/assets/colab-badge.svg\" alt=\"Open In Colab\"/></a>"
      ]
    },
    {
      "cell_type": "code",
      "execution_count": 1,
      "metadata": {
        "colab": {
          "base_uri": "https://localhost:8080/"
        },
        "collapsed": true,
        "id": "dYQtmnm-tU_g",
        "outputId": "ae6bf77e-7348-4ee7-d812-908b6cbd2735"
      },
      "outputs": [
        {
          "output_type": "stream",
          "name": "stderr",
          "text": [
            "Installing package into ‘/usr/local/lib/R/site-library’\n",
            "(as ‘lib’ is unspecified)\n",
            "\n",
            "Installing package into ‘/usr/local/lib/R/site-library’\n",
            "(as ‘lib’ is unspecified)\n",
            "\n",
            "also installing the dependency ‘assertthat’\n",
            "\n",
            "\n",
            "Installing package into ‘/usr/local/lib/R/site-library’\n",
            "(as ‘lib’ is unspecified)\n",
            "\n",
            "Installing package into ‘/usr/local/lib/R/site-library’\n",
            "(as ‘lib’ is unspecified)\n",
            "\n",
            "Downloading GitHub repo catboost/catboost@HEAD\n",
            "\n"
          ]
        },
        {
          "output_type": "stream",
          "name": "stdout",
          "text": [
            "jsonlite (1.8.8 -> 1.8.9) [CRAN]\n"
          ]
        },
        {
          "output_type": "stream",
          "name": "stderr",
          "text": [
            "Installing 1 packages: jsonlite\n",
            "\n",
            "Installing package into ‘/usr/local/lib/R/site-library’\n",
            "(as ‘lib’ is unspecified)\n",
            "\n"
          ]
        },
        {
          "output_type": "stream",
          "name": "stdout",
          "text": [
            "\u001b[36m──\u001b[39m \u001b[36mR CMD build\u001b[39m \u001b[36m─────────────────────────────────────────────────────────────────\u001b[39m\n",
            "* checking for file ‘/tmp/RtmpecoRoy/remotes2b360cd778e/catboost-catboost-335c6cf/catboost/R-package/DESCRIPTION’ ... OK\n",
            "* preparing ‘catboost’:\n",
            "* checking DESCRIPTION meta-information ... OK\n",
            "* cleaning src\n",
            "* checking for LF line-endings in source and make files and shell scripts\n",
            "* checking for empty or unneeded directories\n",
            "* building ‘catboost_1.2.7.tar.gz’\n",
            "\n"
          ]
        },
        {
          "output_type": "stream",
          "name": "stderr",
          "text": [
            "Installing package into ‘/usr/local/lib/R/site-library’\n",
            "(as ‘lib’ is unspecified)\n",
            "\n"
          ]
        }
      ],
      "source": [
        "#descarga librerias.\n",
        "install.packages(\"tidyverse\")\n",
        "install.packages(\"arrow\")\n",
        "install.packages(\"lubridate\")\n",
        "install.packages('devtools')\n",
        "devtools::install_github('catboost/catboost', subdir = 'catboost/R-package')"
      ]
    },
    {
      "cell_type": "code",
      "source": [
        "#cargo librerias a utilizar.\n",
        "library(\"tidyverse\")\n",
        "library(\"arrow\")\n",
        "library(\"lubridate\")\n",
        "library(\"catboost\")"
      ],
      "metadata": {
        "collapsed": true,
        "id": "nF9tJ2Z2tcfR",
        "outputId": "367efadc-d603-40d4-b976-072f70209dfb",
        "colab": {
          "base_uri": "https://localhost:8080/"
        }
      },
      "execution_count": 2,
      "outputs": [
        {
          "output_type": "stream",
          "name": "stderr",
          "text": [
            "── \u001b[1mAttaching core tidyverse packages\u001b[22m ──────────────────────── tidyverse 2.0.0 ──\n",
            "\u001b[32m✔\u001b[39m \u001b[34mdplyr    \u001b[39m 1.1.4     \u001b[32m✔\u001b[39m \u001b[34mreadr    \u001b[39m 2.1.5\n",
            "\u001b[32m✔\u001b[39m \u001b[34mforcats  \u001b[39m 1.0.0     \u001b[32m✔\u001b[39m \u001b[34mstringr  \u001b[39m 1.5.1\n",
            "\u001b[32m✔\u001b[39m \u001b[34mggplot2  \u001b[39m 3.5.1     \u001b[32m✔\u001b[39m \u001b[34mtibble   \u001b[39m 3.2.1\n",
            "\u001b[32m✔\u001b[39m \u001b[34mlubridate\u001b[39m 1.9.3     \u001b[32m✔\u001b[39m \u001b[34mtidyr    \u001b[39m 1.3.1\n",
            "\u001b[32m✔\u001b[39m \u001b[34mpurrr    \u001b[39m 1.0.2     \n",
            "── \u001b[1mConflicts\u001b[22m ────────────────────────────────────────── tidyverse_conflicts() ──\n",
            "\u001b[31m✖\u001b[39m \u001b[34mdplyr\u001b[39m::\u001b[32mfilter()\u001b[39m masks \u001b[34mstats\u001b[39m::filter()\n",
            "\u001b[31m✖\u001b[39m \u001b[34mdplyr\u001b[39m::\u001b[32mlag()\u001b[39m    masks \u001b[34mstats\u001b[39m::lag()\n",
            "\u001b[36mℹ\u001b[39m Use the conflicted package (\u001b[3m\u001b[34m<http://conflicted.r-lib.org/>\u001b[39m\u001b[23m) to force all conflicts to become errors\n",
            "\n",
            "Attaching package: ‘arrow’\n",
            "\n",
            "\n",
            "The following object is masked from ‘package:lubridate’:\n",
            "\n",
            "    duration\n",
            "\n",
            "\n",
            "The following object is masked from ‘package:utils’:\n",
            "\n",
            "    timestamp\n",
            "\n",
            "\n"
          ]
        }
      ]
    },
    {
      "cell_type": "code",
      "source": [
        "#creo directorio y descargo dataset con datos de urgencias respiratorias\n",
        "dir.create(\"descargas\")\n",
        "url <- \"https://datos.gob.cl/dataset/606ef5bb-11d1-475b-b69f-b980da5757f4/resource/ae6c9887-106d-4e98-8875-40bf2b836041/download/at_urg_respiratorio_semanal.parquet\"\n",
        "nombre_temporal <- \"descargas/at_urg_respiratorio_semanal.parquet\"\n",
        "download.file(url, nombre_temporal)"
      ],
      "metadata": {
        "id": "dxpqJfpYxZsn",
        "colab": {
          "base_uri": "https://localhost:8080/"
        },
        "outputId": "9282a6af-e173-4854-c340-30f2bb825e7b"
      },
      "execution_count": 32,
      "outputs": [
        {
          "output_type": "stream",
          "name": "stderr",
          "text": [
            "Warning message in dir.create(\"descargas\"):\n",
            "“'descargas' already exists”\n"
          ]
        }
      ]
    },
    {
      "cell_type": "code",
      "source": [
        "#Descargo datos meteorologicos- temperatura\n",
        "url <- \"https://raw.githubusercontent.com/cazathoth/data/9ed2ff302d64b81e79eab693e77d12f805ed65ba/MERGE_XXXX_DiarioTs_.csv\"\n",
        "nombre_temporal <- \"descargas/MERGE_XXXX_DiarioTs_.csv\"\n",
        "download.file(url, nombre_temporal)"
      ],
      "metadata": {
        "id": "B5FJdDWXO5fT"
      },
      "execution_count": 33,
      "outputs": []
    },
    {
      "cell_type": "code",
      "source": [
        "#Descargo datos meteorologicos- precipitaciones\n",
        "url <- \"https://raw.githubusercontent.com/cazathoth/data/43bad08be793c38c993d524d182dcb2597e14714/MERGE_DiarioRR.csv\"\n",
        "nombre_temporal <- \"descargas/MERGE_DiarioRR.csv\"\n",
        "download.file(url, nombre_temporal)"
      ],
      "metadata": {
        "id": "hbru5hT8xRMn"
      },
      "execution_count": 34,
      "outputs": []
    },
    {
      "cell_type": "code",
      "source": [
        "#Descargo datos material particulado\n",
        "url <- \"https://raw.githubusercontent.com/cazathoth/data/43bad08be793c38c993d524d182dcb2597e14714/MERGE_MP.csv\"\n",
        "nombre_temporal <- \"descargas/MERGE_MP.csv\"\n",
        "download.file(url, nombre_temporal)"
      ],
      "metadata": {
        "id": "QjmvuWWo0aa6"
      },
      "execution_count": 35,
      "outputs": []
    },
    {
      "cell_type": "code",
      "source": [
        "# Creo data frame urgencias y cargo los datos\n",
        "df_urgr_esp_semanal <- read_parquet(\"descargas/at_urg_respiratorio_semanal.parquet\", col_select = c ('EstablecimientoCodigo','RegionCodigo', 'RegionGlosa', 'Anio', 'SemanaEstadistica','OrdenCausa','Causa','NumTotal'))"
      ],
      "metadata": {
        "id": "Qb5IXYxZNZkc"
      },
      "execution_count": 55,
      "outputs": []
    },
    {
      "cell_type": "code",
      "source": [
        "#Cargo data frame temperatura y le cargo datos\n",
        "df_datos_temperatura <- read.csv(\"descargas/MERGE_XXXX_DiarioTs_.csv\", header= TRUE, sep=\";\")"
      ],
      "metadata": {
        "id": "kazvPllqQygW"
      },
      "execution_count": 56,
      "outputs": []
    },
    {
      "cell_type": "code",
      "source": [
        "#Cargo data frame precipitaciones y le cargo datos\n",
        "df_datos_Precip <- read.csv(\"descargas/MERGE_DiarioRR.csv\", header= TRUE, sep=\";\")"
      ],
      "metadata": {
        "id": "fVRhncVIQRM7"
      },
      "execution_count": 57,
      "outputs": []
    },
    {
      "cell_type": "code",
      "source": [
        "#Cargo data frame material particulado y le cargo datos\n",
        "df_datos_mp25 <- read.csv(\"descargas/MERGE_MP.csv\", header= TRUE, sep=\";\")"
      ],
      "metadata": {
        "id": "R9-WPc9O08M2"
      },
      "execution_count": 58,
      "outputs": []
    },
    {
      "cell_type": "code",
      "source": [
        "#formateo fechas en material particulado 2.5.\n",
        "df_datos_mp25$FECHA.YYYYMMDD. <- format(as.Date(as.character(df_datos_mp25$FECHA.YYYYMMDD.),format=\"%Y%m%d\"), format=\"%d-%m-%Y\")\n",
        "#formateo fechas en temperaturas.\n",
        "df_datos_temperatura$momento<- format(as.Date(df_datos_temperatura$momento, format = \"%d-%m-%Y %H:%M:%S\"), format = \"%d-%m-%Y\")\n",
        "#formateo fechas en precipitaciones\n",
        "df_datos_Precip$momento<- format(as.Date(df_datos_Precip$momento, format = \"%d-%m-%Y %H:%M:%S\"), format = \"%d-%m-%Y\")"
      ],
      "metadata": {
        "id": "NjLU6UOu19iR"
      },
      "execution_count": 59,
      "outputs": []
    },
    {
      "cell_type": "code",
      "source": [
        "#Cuento los datos de los df y despliego una muestra\n",
        "count(df_urgr_esp_semanal)\n",
        "count(df_datos_temperatura)\n",
        "count(df_datos_Precip)\n",
        "count(df_datos_mp25)\n",
        "head(df_urgr_esp_semanal,3)\n",
        "head(df_datos_temperatura,3)\n",
        "head(df_datos_Precip,3)\n",
        "head(df_datos_mp25,3)\n"
      ],
      "metadata": {
        "colab": {
          "base_uri": "https://localhost:8080/",
          "height": 1000
        },
        "id": "jbeMlirqidjX",
        "outputId": "bfef3d6e-4a35-4cbf-9268-516909a04d26"
      },
      "execution_count": 60,
      "outputs": [
        {
          "output_type": "display_data",
          "data": {
            "text/html": [
              "<table class=\"dataframe\">\n",
              "<caption>A tibble: 1 × 1</caption>\n",
              "<thead>\n",
              "\t<tr><th scope=col>n</th></tr>\n",
              "\t<tr><th scope=col>&lt;int&gt;</th></tr>\n",
              "</thead>\n",
              "<tbody>\n",
              "\t<tr><td>2848359</td></tr>\n",
              "</tbody>\n",
              "</table>\n"
            ],
            "text/markdown": "\nA tibble: 1 × 1\n\n| n &lt;int&gt; |\n|---|\n| 2848359 |\n\n",
            "text/latex": "A tibble: 1 × 1\n\\begin{tabular}{l}\n n\\\\\n <int>\\\\\n\\hline\n\t 2848359\\\\\n\\end{tabular}\n",
            "text/plain": [
              "  n      \n",
              "1 2848359"
            ]
          },
          "metadata": {}
        },
        {
          "output_type": "display_data",
          "data": {
            "text/html": [
              "<table class=\"dataframe\">\n",
              "<caption>A data.frame: 1 × 1</caption>\n",
              "<thead>\n",
              "\t<tr><th scope=col>n</th></tr>\n",
              "\t<tr><th scope=col>&lt;int&gt;</th></tr>\n",
              "</thead>\n",
              "<tbody>\n",
              "\t<tr><td>74539</td></tr>\n",
              "</tbody>\n",
              "</table>\n"
            ],
            "text/markdown": "\nA data.frame: 1 × 1\n\n| n &lt;int&gt; |\n|---|\n| 74539 |\n\n",
            "text/latex": "A data.frame: 1 × 1\n\\begin{tabular}{l}\n n\\\\\n <int>\\\\\n\\hline\n\t 74539\\\\\n\\end{tabular}\n",
            "text/plain": [
              "  n    \n",
              "1 74539"
            ]
          },
          "metadata": {}
        },
        {
          "output_type": "display_data",
          "data": {
            "text/html": [
              "<table class=\"dataframe\">\n",
              "<caption>A data.frame: 1 × 1</caption>\n",
              "<thead>\n",
              "\t<tr><th scope=col>n</th></tr>\n",
              "\t<tr><th scope=col>&lt;int&gt;</th></tr>\n",
              "</thead>\n",
              "<tbody>\n",
              "\t<tr><td>66161</td></tr>\n",
              "</tbody>\n",
              "</table>\n"
            ],
            "text/markdown": "\nA data.frame: 1 × 1\n\n| n &lt;int&gt; |\n|---|\n| 66161 |\n\n",
            "text/latex": "A data.frame: 1 × 1\n\\begin{tabular}{l}\n n\\\\\n <int>\\\\\n\\hline\n\t 66161\\\\\n\\end{tabular}\n",
            "text/plain": [
              "  n    \n",
              "1 66161"
            ]
          },
          "metadata": {}
        },
        {
          "output_type": "display_data",
          "data": {
            "text/html": [
              "<table class=\"dataframe\">\n",
              "<caption>A data.frame: 1 × 1</caption>\n",
              "<thead>\n",
              "\t<tr><th scope=col>n</th></tr>\n",
              "\t<tr><th scope=col>&lt;int&gt;</th></tr>\n",
              "</thead>\n",
              "<tbody>\n",
              "\t<tr><td>18478</td></tr>\n",
              "</tbody>\n",
              "</table>\n"
            ],
            "text/markdown": "\nA data.frame: 1 × 1\n\n| n &lt;int&gt; |\n|---|\n| 18478 |\n\n",
            "text/latex": "A data.frame: 1 × 1\n\\begin{tabular}{l}\n n\\\\\n <int>\\\\\n\\hline\n\t 18478\\\\\n\\end{tabular}\n",
            "text/plain": [
              "  n    \n",
              "1 18478"
            ]
          },
          "metadata": {}
        },
        {
          "output_type": "display_data",
          "data": {
            "text/html": [
              "<table class=\"dataframe\">\n",
              "<caption>A tibble: 3 × 8</caption>\n",
              "<thead>\n",
              "\t<tr><th scope=col>EstablecimientoCodigo</th><th scope=col>RegionCodigo</th><th scope=col>RegionGlosa</th><th scope=col>Anio</th><th scope=col>SemanaEstadistica</th><th scope=col>OrdenCausa</th><th scope=col>Causa</th><th scope=col>NumTotal</th></tr>\n",
              "\t<tr><th scope=col>&lt;chr&gt;</th><th scope=col>&lt;chr&gt;</th><th scope=col>&lt;chr&gt;</th><th scope=col>&lt;int&gt;</th><th scope=col>&lt;int&gt;</th><th scope=col>&lt;int&gt;</th><th scope=col>&lt;chr&gt;</th><th scope=col>&lt;int&gt;</th></tr>\n",
              "</thead>\n",
              "<tbody>\n",
              "\t<tr><td>128110</td><td>8 </td><td>Región Del Bíobío               </td><td>2017</td><td>12</td><td>3</td><td>TOTAL CAUSAS SISTEMA RESPIRATORIO</td><td>282</td></tr>\n",
              "\t<tr><td>117106</td><td>16</td><td>Región De Ñuble                 </td><td>2017</td><td>24</td><td>3</td><td>TOTAL CAUSAS SISTEMA RESPIRATORIO</td><td>178</td></tr>\n",
              "\t<tr><td>113809</td><td>13</td><td>Región Metropolitana de Santiago</td><td>2019</td><td>23</td><td>3</td><td>TOTAL CAUSAS SISTEMA RESPIRATORIO</td><td>802</td></tr>\n",
              "</tbody>\n",
              "</table>\n"
            ],
            "text/markdown": "\nA tibble: 3 × 8\n\n| EstablecimientoCodigo &lt;chr&gt; | RegionCodigo &lt;chr&gt; | RegionGlosa &lt;chr&gt; | Anio &lt;int&gt; | SemanaEstadistica &lt;int&gt; | OrdenCausa &lt;int&gt; | Causa &lt;chr&gt; | NumTotal &lt;int&gt; |\n|---|---|---|---|---|---|---|---|\n| 128110 | 8  | Región Del Bíobío                | 2017 | 12 | 3 | TOTAL CAUSAS SISTEMA RESPIRATORIO | 282 |\n| 117106 | 16 | Región De Ñuble                  | 2017 | 24 | 3 | TOTAL CAUSAS SISTEMA RESPIRATORIO | 178 |\n| 113809 | 13 | Región Metropolitana de Santiago | 2019 | 23 | 3 | TOTAL CAUSAS SISTEMA RESPIRATORIO | 802 |\n\n",
            "text/latex": "A tibble: 3 × 8\n\\begin{tabular}{llllllll}\n EstablecimientoCodigo & RegionCodigo & RegionGlosa & Anio & SemanaEstadistica & OrdenCausa & Causa & NumTotal\\\\\n <chr> & <chr> & <chr> & <int> & <int> & <int> & <chr> & <int>\\\\\n\\hline\n\t 128110 & 8  & Región Del Bíobío                & 2017 & 12 & 3 & TOTAL CAUSAS SISTEMA RESPIRATORIO & 282\\\\\n\t 117106 & 16 & Región De Ñuble                  & 2017 & 24 & 3 & TOTAL CAUSAS SISTEMA RESPIRATORIO & 178\\\\\n\t 113809 & 13 & Región Metropolitana de Santiago & 2019 & 23 & 3 & TOTAL CAUSAS SISTEMA RESPIRATORIO & 802\\\\\n\\end{tabular}\n",
            "text/plain": [
              "  EstablecimientoCodigo RegionCodigo RegionGlosa                      Anio\n",
              "1 128110                8            Región Del Bíobío                2017\n",
              "2 117106                16           Región De Ñuble                  2017\n",
              "3 113809                13           Región Metropolitana de Santiago 2019\n",
              "  SemanaEstadistica OrdenCausa Causa                             NumTotal\n",
              "1 12                3          TOTAL CAUSAS SISTEMA RESPIRATORIO 282     \n",
              "2 24                3          TOTAL CAUSAS SISTEMA RESPIRATORIO 178     \n",
              "3 23                3          TOTAL CAUSAS SISTEMA RESPIRATORIO 802     "
            ]
          },
          "metadata": {}
        },
        {
          "output_type": "display_data",
          "data": {
            "text/html": [
              "<table class=\"dataframe\">\n",
              "<caption>A data.frame: 3 × 12</caption>\n",
              "<thead>\n",
              "\t<tr><th></th><th scope=col>CodigoNacional</th><th scope=col>momento</th><th scope=col>MediaCli_Valor</th><th scope=col>MediaAri_Valor</th><th scope=col>NumDatos_Valor</th><th scope=col>Ts00_Valor</th><th scope=col>Ts12_Valor</th><th scope=col>Maxima_Valor</th><th scope=col>FechaMax_Valor</th><th scope=col>Minima_Valor</th><th scope=col>FechaMin_Valor</th><th scope=col>FechaPro_Valor</th></tr>\n",
              "\t<tr><th></th><th scope=col>&lt;int&gt;</th><th scope=col>&lt;chr&gt;</th><th scope=col>&lt;dbl&gt;</th><th scope=col>&lt;dbl&gt;</th><th scope=col>&lt;dbl&gt;</th><th scope=col>&lt;dbl&gt;</th><th scope=col>&lt;dbl&gt;</th><th scope=col>&lt;dbl&gt;</th><th scope=col>&lt;dbl&gt;</th><th scope=col>&lt;dbl&gt;</th><th scope=col>&lt;dbl&gt;</th><th scope=col>&lt;lgl&gt;</th></tr>\n",
              "</thead>\n",
              "<tbody>\n",
              "\t<tr><th scope=row>1</th><td>290004</td><td>01-01-1954</td><td>16.5</td><td>18.1</td><td>14</td><td>NA</td><td>17.0</td><td>20.6</td><td>NA</td><td>12.3</td><td>NA</td><td>NA</td></tr>\n",
              "\t<tr><th scope=row>2</th><td>290004</td><td>02-01-1954</td><td>17.1</td><td>17.5</td><td>14</td><td>NA</td><td>15.5</td><td>20.4</td><td>NA</td><td>13.9</td><td>NA</td><td>NA</td></tr>\n",
              "\t<tr><th scope=row>3</th><td>290004</td><td>03-01-1954</td><td>15.1</td><td>17.4</td><td>14</td><td>NA</td><td>15.4</td><td>20.0</td><td>NA</td><td>10.2</td><td>NA</td><td>NA</td></tr>\n",
              "</tbody>\n",
              "</table>\n"
            ],
            "text/markdown": "\nA data.frame: 3 × 12\n\n| <!--/--> | CodigoNacional &lt;int&gt; | momento &lt;chr&gt; | MediaCli_Valor &lt;dbl&gt; | MediaAri_Valor &lt;dbl&gt; | NumDatos_Valor &lt;dbl&gt; | Ts00_Valor &lt;dbl&gt; | Ts12_Valor &lt;dbl&gt; | Maxima_Valor &lt;dbl&gt; | FechaMax_Valor &lt;dbl&gt; | Minima_Valor &lt;dbl&gt; | FechaMin_Valor &lt;dbl&gt; | FechaPro_Valor &lt;lgl&gt; |\n|---|---|---|---|---|---|---|---|---|---|---|---|---|\n| 1 | 290004 | 01-01-1954 | 16.5 | 18.1 | 14 | NA | 17.0 | 20.6 | NA | 12.3 | NA | NA |\n| 2 | 290004 | 02-01-1954 | 17.1 | 17.5 | 14 | NA | 15.5 | 20.4 | NA | 13.9 | NA | NA |\n| 3 | 290004 | 03-01-1954 | 15.1 | 17.4 | 14 | NA | 15.4 | 20.0 | NA | 10.2 | NA | NA |\n\n",
            "text/latex": "A data.frame: 3 × 12\n\\begin{tabular}{r|llllllllllll}\n  & CodigoNacional & momento & MediaCli\\_Valor & MediaAri\\_Valor & NumDatos\\_Valor & Ts00\\_Valor & Ts12\\_Valor & Maxima\\_Valor & FechaMax\\_Valor & Minima\\_Valor & FechaMin\\_Valor & FechaPro\\_Valor\\\\\n  & <int> & <chr> & <dbl> & <dbl> & <dbl> & <dbl> & <dbl> & <dbl> & <dbl> & <dbl> & <dbl> & <lgl>\\\\\n\\hline\n\t1 & 290004 & 01-01-1954 & 16.5 & 18.1 & 14 & NA & 17.0 & 20.6 & NA & 12.3 & NA & NA\\\\\n\t2 & 290004 & 02-01-1954 & 17.1 & 17.5 & 14 & NA & 15.5 & 20.4 & NA & 13.9 & NA & NA\\\\\n\t3 & 290004 & 03-01-1954 & 15.1 & 17.4 & 14 & NA & 15.4 & 20.0 & NA & 10.2 & NA & NA\\\\\n\\end{tabular}\n",
            "text/plain": [
              "  CodigoNacional momento    MediaCli_Valor MediaAri_Valor NumDatos_Valor\n",
              "1 290004         01-01-1954 16.5           18.1           14            \n",
              "2 290004         02-01-1954 17.1           17.5           14            \n",
              "3 290004         03-01-1954 15.1           17.4           14            \n",
              "  Ts00_Valor Ts12_Valor Maxima_Valor FechaMax_Valor Minima_Valor FechaMin_Valor\n",
              "1 NA         17.0       20.6         NA             12.3         NA            \n",
              "2 NA         15.5       20.4         NA             13.9         NA            \n",
              "3 NA         15.4       20.0         NA             10.2         NA            \n",
              "  FechaPro_Valor\n",
              "1 NA            \n",
              "2 NA            \n",
              "3 NA            "
            ]
          },
          "metadata": {}
        },
        {
          "output_type": "display_data",
          "data": {
            "text/html": [
              "<table class=\"dataframe\">\n",
              "<caption>A data.frame: 3 × 7</caption>\n",
              "<thead>\n",
              "\t<tr><th></th><th scope=col>CodigoNacional</th><th scope=col>momento</th><th scope=col>Total_Valor</th><th scope=col>Traza_Valor</th><th scope=col>Parcial_Valor</th><th scope=col>NumDatos_Valor</th><th scope=col>FechaPro_Valor</th></tr>\n",
              "\t<tr><th></th><th scope=col>&lt;int&gt;</th><th scope=col>&lt;chr&gt;</th><th scope=col>&lt;dbl&gt;</th><th scope=col>&lt;dbl&gt;</th><th scope=col>&lt;dbl&gt;</th><th scope=col>&lt;dbl&gt;</th><th scope=col>&lt;dbl&gt;</th></tr>\n",
              "</thead>\n",
              "<tbody>\n",
              "\t<tr><th scope=row>1</th><td>290004</td><td>01-01-1954</td><td>0</td><td>0</td><td>0</td><td>1</td><td>2018</td></tr>\n",
              "\t<tr><th scope=row>2</th><td>290004</td><td>02-01-1954</td><td>0</td><td>0</td><td>0</td><td>1</td><td>2018</td></tr>\n",
              "\t<tr><th scope=row>3</th><td>290004</td><td>03-01-1954</td><td>0</td><td>0</td><td>0</td><td>1</td><td>2018</td></tr>\n",
              "</tbody>\n",
              "</table>\n"
            ],
            "text/markdown": "\nA data.frame: 3 × 7\n\n| <!--/--> | CodigoNacional &lt;int&gt; | momento &lt;chr&gt; | Total_Valor &lt;dbl&gt; | Traza_Valor &lt;dbl&gt; | Parcial_Valor &lt;dbl&gt; | NumDatos_Valor &lt;dbl&gt; | FechaPro_Valor &lt;dbl&gt; |\n|---|---|---|---|---|---|---|---|\n| 1 | 290004 | 01-01-1954 | 0 | 0 | 0 | 1 | 2018 |\n| 2 | 290004 | 02-01-1954 | 0 | 0 | 0 | 1 | 2018 |\n| 3 | 290004 | 03-01-1954 | 0 | 0 | 0 | 1 | 2018 |\n\n",
            "text/latex": "A data.frame: 3 × 7\n\\begin{tabular}{r|lllllll}\n  & CodigoNacional & momento & Total\\_Valor & Traza\\_Valor & Parcial\\_Valor & NumDatos\\_Valor & FechaPro\\_Valor\\\\\n  & <int> & <chr> & <dbl> & <dbl> & <dbl> & <dbl> & <dbl>\\\\\n\\hline\n\t1 & 290004 & 01-01-1954 & 0 & 0 & 0 & 1 & 2018\\\\\n\t2 & 290004 & 02-01-1954 & 0 & 0 & 0 & 1 & 2018\\\\\n\t3 & 290004 & 03-01-1954 & 0 & 0 & 0 & 1 & 2018\\\\\n\\end{tabular}\n",
            "text/plain": [
              "  CodigoNacional momento    Total_Valor Traza_Valor Parcial_Valor\n",
              "1 290004         01-01-1954 0           0           0            \n",
              "2 290004         02-01-1954 0           0           0            \n",
              "3 290004         03-01-1954 0           0           0            \n",
              "  NumDatos_Valor FechaPro_Valor\n",
              "1 1              2018          \n",
              "2 1              2018          \n",
              "3 1              2018          "
            ]
          },
          "metadata": {}
        },
        {
          "output_type": "display_data",
          "data": {
            "text/html": [
              "<table class=\"dataframe\">\n",
              "<caption>A data.frame: 3 × 7</caption>\n",
              "<thead>\n",
              "\t<tr><th></th><th scope=col>FECHA..YYMMDD.</th><th scope=col>HORA..HHMM.</th><th scope=col>Registros.validados</th><th scope=col>Registros.preliminares</th><th scope=col>Registros.no.validados</th><th scope=col>COMUNA</th><th scope=col>FECHA.YYYYMMDD.</th></tr>\n",
              "\t<tr><th></th><th scope=col>&lt;chr&gt;</th><th scope=col>&lt;chr&gt;</th><th scope=col>&lt;chr&gt;</th><th scope=col>&lt;chr&gt;</th><th scope=col>&lt;chr&gt;</th><th scope=col>&lt;chr&gt;</th><th scope=col>&lt;chr&gt;</th></tr>\n",
              "</thead>\n",
              "<tbody>\n",
              "\t<tr><th scope=row>1</th><td>090812</td><td>0</td><td></td><td></td><td>390,281</td><td>Concepcion</td><td>12-08-2009</td></tr>\n",
              "\t<tr><th scope=row>2</th><td>090813</td><td>0</td><td></td><td></td><td>68,5317</td><td>Concepcion</td><td>13-08-2009</td></tr>\n",
              "\t<tr><th scope=row>3</th><td>090814</td><td>0</td><td></td><td></td><td>319,466</td><td>Concepcion</td><td>14-08-2009</td></tr>\n",
              "</tbody>\n",
              "</table>\n"
            ],
            "text/markdown": "\nA data.frame: 3 × 7\n\n| <!--/--> | FECHA..YYMMDD. &lt;chr&gt; | HORA..HHMM. &lt;chr&gt; | Registros.validados &lt;chr&gt; | Registros.preliminares &lt;chr&gt; | Registros.no.validados &lt;chr&gt; | COMUNA &lt;chr&gt; | FECHA.YYYYMMDD. &lt;chr&gt; |\n|---|---|---|---|---|---|---|---|\n| 1 | 090812 | 0 | <!----> | <!----> | 390,281 | Concepcion | 12-08-2009 |\n| 2 | 090813 | 0 | <!----> | <!----> | 68,5317 | Concepcion | 13-08-2009 |\n| 3 | 090814 | 0 | <!----> | <!----> | 319,466 | Concepcion | 14-08-2009 |\n\n",
            "text/latex": "A data.frame: 3 × 7\n\\begin{tabular}{r|lllllll}\n  & FECHA..YYMMDD. & HORA..HHMM. & Registros.validados & Registros.preliminares & Registros.no.validados & COMUNA & FECHA.YYYYMMDD.\\\\\n  & <chr> & <chr> & <chr> & <chr> & <chr> & <chr> & <chr>\\\\\n\\hline\n\t1 & 090812 & 0 &  &  & 390,281 & Concepcion & 12-08-2009\\\\\n\t2 & 090813 & 0 &  &  & 68,5317 & Concepcion & 13-08-2009\\\\\n\t3 & 090814 & 0 &  &  & 319,466 & Concepcion & 14-08-2009\\\\\n\\end{tabular}\n",
            "text/plain": [
              "  FECHA..YYMMDD. HORA..HHMM. Registros.validados Registros.preliminares\n",
              "1 090812         0                                                     \n",
              "2 090813         0                                                     \n",
              "3 090814         0                                                     \n",
              "  Registros.no.validados COMUNA     FECHA.YYYYMMDD.\n",
              "1 390,281                Concepcion 12-08-2009     \n",
              "2 68,5317                Concepcion 13-08-2009     \n",
              "3 319,466                Concepcion 14-08-2009     "
            ]
          },
          "metadata": {}
        }
      ]
    },
    {
      "cell_type": "code",
      "source": [
        "#obtengo n° de semana de las fechas de mediciones (momento) y agrego columna al data frame\n",
        "semana<-week(dmy(df_datos_temperatura$momento))\n",
        "ano <- year(dmy(df_datos_temperatura$momento))\n",
        "df_datos_temperatura <- cbind(df_datos_temperatura, NuSemana = semana)\n",
        "df_datos_temperatura <- cbind(df_datos_temperatura, Anio = ano)\n"
      ],
      "metadata": {
        "id": "04c0mj5ylC5C"
      },
      "execution_count": 61,
      "outputs": []
    },
    {
      "cell_type": "code",
      "source": [
        "# Obtengo la media y mediana, de la temperatura para cada semana en cada año.\n",
        "df_datos_temperatura_semanal <- df_datos_temperatura %>% group_by (CodigoNacional,Anio, NuSemana) %>% summarise(media = mean(MediaAri_Valor,na.rm = TRUE), mediana = median(MediaAri_Valor, na.rm = TRUE))\n",
        "head(df_datos_temperatura_semanal,5)\n",
        "\n"
      ],
      "metadata": {
        "id": "lNzHoXEeVd4E",
        "outputId": "9610ba7c-8dd3-479b-fa64-cebfaa1b065a",
        "colab": {
          "base_uri": "https://localhost:8080/",
          "height": 290
        }
      },
      "execution_count": 62,
      "outputs": [
        {
          "output_type": "stream",
          "name": "stderr",
          "text": [
            "\u001b[1m\u001b[22m`summarise()` has grouped output by 'CodigoNacional', 'Anio'. You can override\n",
            "using the `.groups` argument.\n"
          ]
        },
        {
          "output_type": "display_data",
          "data": {
            "text/html": [
              "<table class=\"dataframe\">\n",
              "<caption>A grouped_df: 5 × 5</caption>\n",
              "<thead>\n",
              "\t<tr><th scope=col>CodigoNacional</th><th scope=col>Anio</th><th scope=col>NuSemana</th><th scope=col>media</th><th scope=col>mediana</th></tr>\n",
              "\t<tr><th scope=col>&lt;int&gt;</th><th scope=col>&lt;dbl&gt;</th><th scope=col>&lt;dbl&gt;</th><th scope=col>&lt;dbl&gt;</th><th scope=col>&lt;dbl&gt;</th></tr>\n",
              "</thead>\n",
              "<tbody>\n",
              "\t<tr><td>290004</td><td>1954</td><td>1</td><td>17.52857</td><td>17.5</td></tr>\n",
              "\t<tr><td>290004</td><td>1954</td><td>2</td><td>16.54286</td><td>16.6</td></tr>\n",
              "\t<tr><td>290004</td><td>1954</td><td>3</td><td>16.98571</td><td>16.8</td></tr>\n",
              "\t<tr><td>290004</td><td>1954</td><td>4</td><td>17.67143</td><td>17.5</td></tr>\n",
              "\t<tr><td>290004</td><td>1954</td><td>5</td><td>17.90000</td><td>17.9</td></tr>\n",
              "</tbody>\n",
              "</table>\n"
            ],
            "text/markdown": "\nA grouped_df: 5 × 5\n\n| CodigoNacional &lt;int&gt; | Anio &lt;dbl&gt; | NuSemana &lt;dbl&gt; | media &lt;dbl&gt; | mediana &lt;dbl&gt; |\n|---|---|---|---|---|\n| 290004 | 1954 | 1 | 17.52857 | 17.5 |\n| 290004 | 1954 | 2 | 16.54286 | 16.6 |\n| 290004 | 1954 | 3 | 16.98571 | 16.8 |\n| 290004 | 1954 | 4 | 17.67143 | 17.5 |\n| 290004 | 1954 | 5 | 17.90000 | 17.9 |\n\n",
            "text/latex": "A grouped\\_df: 5 × 5\n\\begin{tabular}{lllll}\n CodigoNacional & Anio & NuSemana & media & mediana\\\\\n <int> & <dbl> & <dbl> & <dbl> & <dbl>\\\\\n\\hline\n\t 290004 & 1954 & 1 & 17.52857 & 17.5\\\\\n\t 290004 & 1954 & 2 & 16.54286 & 16.6\\\\\n\t 290004 & 1954 & 3 & 16.98571 & 16.8\\\\\n\t 290004 & 1954 & 4 & 17.67143 & 17.5\\\\\n\t 290004 & 1954 & 5 & 17.90000 & 17.9\\\\\n\\end{tabular}\n",
            "text/plain": [
              "  CodigoNacional Anio NuSemana media    mediana\n",
              "1 290004         1954 1        17.52857 17.5   \n",
              "2 290004         1954 2        16.54286 16.6   \n",
              "3 290004         1954 3        16.98571 16.8   \n",
              "4 290004         1954 4        17.67143 17.5   \n",
              "5 290004         1954 5        17.90000 17.9   "
            ]
          },
          "metadata": {}
        }
      ]
    },
    {
      "cell_type": "code",
      "source": [
        "#Convierto agrupación con media y mediana a data frame\n",
        "df_datos_temperatura_semanal <- as.data.frame (df_datos_temperatura_semanal)"
      ],
      "metadata": {
        "id": "14FQUrFLfdhn"
      },
      "execution_count": 63,
      "outputs": []
    },
    {
      "cell_type": "code",
      "source": [
        "#Limpio los registros con NA\n",
        "sum(is.na(df_urgr_esp_semanal))\n",
        "sum(!complete.cases(df_urgr_esp_semanal))\n",
        "sum(is.na(df_datos_temperatura_semanal))\n",
        "sum(!complete.cases(df_datos_temperatura_semanal))"
      ],
      "metadata": {
        "colab": {
          "base_uri": "https://localhost:8080/",
          "height": 86
        },
        "id": "e9mhqROOq-mg",
        "outputId": "0de3e4fa-7d5f-4e22-f869-3f3d70ff08ab"
      },
      "execution_count": 64,
      "outputs": [
        {
          "output_type": "display_data",
          "data": {
            "text/html": [
              "7596"
            ],
            "text/markdown": "7596",
            "text/latex": "7596",
            "text/plain": [
              "[1] 7596"
            ]
          },
          "metadata": {}
        },
        {
          "output_type": "display_data",
          "data": {
            "text/html": [
              "2532"
            ],
            "text/markdown": "2532",
            "text/latex": "2532",
            "text/plain": [
              "[1] 2532"
            ]
          },
          "metadata": {}
        },
        {
          "output_type": "display_data",
          "data": {
            "text/html": [
              "6"
            ],
            "text/markdown": "6",
            "text/latex": "6",
            "text/plain": [
              "[1] 6"
            ]
          },
          "metadata": {}
        },
        {
          "output_type": "display_data",
          "data": {
            "text/html": [
              "3"
            ],
            "text/markdown": "3",
            "text/latex": "3",
            "text/plain": [
              "[1] 3"
            ]
          },
          "metadata": {}
        }
      ]
    },
    {
      "cell_type": "code",
      "source": [
        "df_urgr_esp_semanal <- na.omit(df_urgr_esp_semanal)\n",
        "df_datos_temperatura_semanal <- na.omit(df_datos_temperatura_semanal)\n",
        "sum(is.na(df_urgr_esp_semanal))\n",
        "sum(!complete.cases(df_urgr_esp_semanal))\n",
        "sum(is.na(df_datos_temperatura_semanal))\n",
        "sum(!complete.cases(df_datos_temperatura_semanal))\n",
        "count(df_urgr_esp_semanal)\n",
        "count(df_datos_temperatura_semanal)\n"
      ],
      "metadata": {
        "id": "pcW3C57Zrvj_",
        "outputId": "932d68f6-7802-481c-99e5-2112735162a9",
        "colab": {
          "base_uri": "https://localhost:8080/",
          "height": 363
        }
      },
      "execution_count": 65,
      "outputs": [
        {
          "output_type": "display_data",
          "data": {
            "text/html": [
              "0"
            ],
            "text/markdown": "0",
            "text/latex": "0",
            "text/plain": [
              "[1] 0"
            ]
          },
          "metadata": {}
        },
        {
          "output_type": "display_data",
          "data": {
            "text/html": [
              "0"
            ],
            "text/markdown": "0",
            "text/latex": "0",
            "text/plain": [
              "[1] 0"
            ]
          },
          "metadata": {}
        },
        {
          "output_type": "display_data",
          "data": {
            "text/html": [
              "0"
            ],
            "text/markdown": "0",
            "text/latex": "0",
            "text/plain": [
              "[1] 0"
            ]
          },
          "metadata": {}
        },
        {
          "output_type": "display_data",
          "data": {
            "text/html": [
              "0"
            ],
            "text/markdown": "0",
            "text/latex": "0",
            "text/plain": [
              "[1] 0"
            ]
          },
          "metadata": {}
        },
        {
          "output_type": "display_data",
          "data": {
            "text/html": [
              "<table class=\"dataframe\">\n",
              "<caption>A tibble: 1 × 1</caption>\n",
              "<thead>\n",
              "\t<tr><th scope=col>n</th></tr>\n",
              "\t<tr><th scope=col>&lt;int&gt;</th></tr>\n",
              "</thead>\n",
              "<tbody>\n",
              "\t<tr><td>2845827</td></tr>\n",
              "</tbody>\n",
              "</table>\n"
            ],
            "text/markdown": "\nA tibble: 1 × 1\n\n| n &lt;int&gt; |\n|---|\n| 2845827 |\n\n",
            "text/latex": "A tibble: 1 × 1\n\\begin{tabular}{l}\n n\\\\\n <int>\\\\\n\\hline\n\t 2845827\\\\\n\\end{tabular}\n",
            "text/plain": [
              "  n      \n",
              "1 2845827"
            ]
          },
          "metadata": {}
        },
        {
          "output_type": "display_data",
          "data": {
            "text/html": [
              "<table class=\"dataframe\">\n",
              "<caption>A data.frame: 1 × 1</caption>\n",
              "<thead>\n",
              "\t<tr><th scope=col>n</th></tr>\n",
              "\t<tr><th scope=col>&lt;int&gt;</th></tr>\n",
              "</thead>\n",
              "<tbody>\n",
              "\t<tr><td>10813</td></tr>\n",
              "</tbody>\n",
              "</table>\n"
            ],
            "text/markdown": "\nA data.frame: 1 × 1\n\n| n &lt;int&gt; |\n|---|\n| 10813 |\n\n",
            "text/latex": "A data.frame: 1 × 1\n\\begin{tabular}{l}\n n\\\\\n <int>\\\\\n\\hline\n\t 10813\\\\\n\\end{tabular}\n",
            "text/plain": [
              "  n    \n",
              "1 10813"
            ]
          },
          "metadata": {}
        }
      ]
    },
    {
      "cell_type": "code",
      "source": [
        "#Aqui estan todas las causas consideradas. La #3 es un total.\n",
        "df_urgr_esp_semanal %>% select(OrdenCausa, Causa)%>%distinct()%>%arrange(OrdenCausa)"
      ],
      "metadata": {
        "id": "oREv1_6pveC6",
        "outputId": "eeb3918c-5fe9-4d12-a22e-26f418ed7358",
        "colab": {
          "base_uri": "https://localhost:8080/",
          "height": 474
        }
      },
      "execution_count": 66,
      "outputs": [
        {
          "output_type": "display_data",
          "data": {
            "text/html": [
              "<table class=\"dataframe\">\n",
              "<caption>A tibble: 12 × 2</caption>\n",
              "<thead>\n",
              "\t<tr><th scope=col>OrdenCausa</th><th scope=col>Causa</th></tr>\n",
              "\t<tr><th scope=col>&lt;int&gt;</th><th scope=col>&lt;chr&gt;</th></tr>\n",
              "</thead>\n",
              "<tbody>\n",
              "\t<tr><td> 3</td><td>TOTAL CAUSAS SISTEMA RESPIRATORIO                      </td></tr>\n",
              "\t<tr><td> 4</td><td>IRA Alta (J00-J06)                                     </td></tr>\n",
              "\t<tr><td> 5</td><td>Influenza (J09-J11)                                    </td></tr>\n",
              "\t<tr><td> 6</td><td>Neumonía (J12-J18)                                     </td></tr>\n",
              "\t<tr><td> 7</td><td>Bronquitis/bronquiolitis aguda (J20-J21)               </td></tr>\n",
              "\t<tr><td> 8</td><td>Crisis obstructiva bronquial (J40-J46)                 </td></tr>\n",
              "\t<tr><td> 9</td><td>Otra causa respiratoria (J22, J30-J39, J47, J60-J98)   </td></tr>\n",
              "\t<tr><td>10</td><td>Covid-19, Virus no identificado U07.2                  </td></tr>\n",
              "\t<tr><td>11</td><td>Covid-19, Virus identificado U07.1                     </td></tr>\n",
              "\t<tr><td>32</td><td>HOSPITALIZACIONES POR CAUSAS SISTEMA RESPIRATORIO      </td></tr>\n",
              "\t<tr><td>33</td><td>HOSPITALIZACIONES COVID-19, VIRUS NO IDENTIFICADO U07.2</td></tr>\n",
              "\t<tr><td>34</td><td>HOSPITALIZACIONES COVID-19, VIRUS IDENTIFICADO U07.1   </td></tr>\n",
              "</tbody>\n",
              "</table>\n"
            ],
            "text/markdown": "\nA tibble: 12 × 2\n\n| OrdenCausa &lt;int&gt; | Causa &lt;chr&gt; |\n|---|---|\n|  3 | TOTAL CAUSAS SISTEMA RESPIRATORIO                       |\n|  4 | IRA Alta (J00-J06)                                      |\n|  5 | Influenza (J09-J11)                                     |\n|  6 | Neumonía (J12-J18)                                      |\n|  7 | Bronquitis/bronquiolitis aguda (J20-J21)                |\n|  8 | Crisis obstructiva bronquial (J40-J46)                  |\n|  9 | Otra causa respiratoria (J22, J30-J39, J47, J60-J98)    |\n| 10 | Covid-19, Virus no identificado U07.2                   |\n| 11 | Covid-19, Virus identificado U07.1                      |\n| 32 | HOSPITALIZACIONES POR CAUSAS SISTEMA RESPIRATORIO       |\n| 33 | HOSPITALIZACIONES COVID-19, VIRUS NO IDENTIFICADO U07.2 |\n| 34 | HOSPITALIZACIONES COVID-19, VIRUS IDENTIFICADO U07.1    |\n\n",
            "text/latex": "A tibble: 12 × 2\n\\begin{tabular}{ll}\n OrdenCausa & Causa\\\\\n <int> & <chr>\\\\\n\\hline\n\t  3 & TOTAL CAUSAS SISTEMA RESPIRATORIO                      \\\\\n\t  4 & IRA Alta (J00-J06)                                     \\\\\n\t  5 & Influenza (J09-J11)                                    \\\\\n\t  6 & Neumonía (J12-J18)                                     \\\\\n\t  7 & Bronquitis/bronquiolitis aguda (J20-J21)               \\\\\n\t  8 & Crisis obstructiva bronquial (J40-J46)                 \\\\\n\t  9 & Otra causa respiratoria (J22, J30-J39, J47, J60-J98)   \\\\\n\t 10 & Covid-19, Virus no identificado U07.2                  \\\\\n\t 11 & Covid-19, Virus identificado U07.1                     \\\\\n\t 32 & HOSPITALIZACIONES POR CAUSAS SISTEMA RESPIRATORIO      \\\\\n\t 33 & HOSPITALIZACIONES COVID-19, VIRUS NO IDENTIFICADO U07.2\\\\\n\t 34 & HOSPITALIZACIONES COVID-19, VIRUS IDENTIFICADO U07.1   \\\\\n\\end{tabular}\n",
            "text/plain": [
              "   OrdenCausa Causa                                                  \n",
              "1   3         TOTAL CAUSAS SISTEMA RESPIRATORIO                      \n",
              "2   4         IRA Alta (J00-J06)                                     \n",
              "3   5         Influenza (J09-J11)                                    \n",
              "4   6         Neumonía (J12-J18)                                     \n",
              "5   7         Bronquitis/bronquiolitis aguda (J20-J21)               \n",
              "6   8         Crisis obstructiva bronquial (J40-J46)                 \n",
              "7   9         Otra causa respiratoria (J22, J30-J39, J47, J60-J98)   \n",
              "8  10         Covid-19, Virus no identificado U07.2                  \n",
              "9  11         Covid-19, Virus identificado U07.1                     \n",
              "10 32         HOSPITALIZACIONES POR CAUSAS SISTEMA RESPIRATORIO      \n",
              "11 33         HOSPITALIZACIONES COVID-19, VIRUS NO IDENTIFICADO U07.2\n",
              "12 34         HOSPITALIZACIONES COVID-19, VIRUS IDENTIFICADO U07.1   "
            ]
          },
          "metadata": {}
        }
      ]
    },
    {
      "cell_type": "code",
      "source": [
        "#Filtro el dataset par las regiones 8,4 y 13, tambien la causa 3 que es solo totalizador de urgencias reportadas\n",
        "df_urgr_esp_semanal<- df_urgr_esp_semanal %>% filter (RegionCodigo %in% c(8,4,13) & OrdenCausa != 3)\n",
        "count(df_urgr_esp_semanal)\n",
        "head(df_urgr_esp_semanal,5)"
      ],
      "metadata": {
        "colab": {
          "base_uri": "https://localhost:8080/",
          "height": 385
        },
        "id": "SPdSAwt-zfD7",
        "outputId": "43424fd4-c1fc-4961-870f-762d686e2b20"
      },
      "execution_count": 67,
      "outputs": [
        {
          "output_type": "display_data",
          "data": {
            "text/html": [
              "<table class=\"dataframe\">\n",
              "<caption>A tibble: 1 × 1</caption>\n",
              "<thead>\n",
              "\t<tr><th scope=col>n</th></tr>\n",
              "\t<tr><th scope=col>&lt;int&gt;</th></tr>\n",
              "</thead>\n",
              "<tbody>\n",
              "\t<tr><td>1096917</td></tr>\n",
              "</tbody>\n",
              "</table>\n"
            ],
            "text/markdown": "\nA tibble: 1 × 1\n\n| n &lt;int&gt; |\n|---|\n| 1096917 |\n\n",
            "text/latex": "A tibble: 1 × 1\n\\begin{tabular}{l}\n n\\\\\n <int>\\\\\n\\hline\n\t 1096917\\\\\n\\end{tabular}\n",
            "text/plain": [
              "  n      \n",
              "1 1096917"
            ]
          },
          "metadata": {}
        },
        {
          "output_type": "display_data",
          "data": {
            "text/html": [
              "<table class=\"dataframe\">\n",
              "<caption>A tibble: 5 × 8</caption>\n",
              "<thead>\n",
              "\t<tr><th scope=col>EstablecimientoCodigo</th><th scope=col>RegionCodigo</th><th scope=col>RegionGlosa</th><th scope=col>Anio</th><th scope=col>SemanaEstadistica</th><th scope=col>OrdenCausa</th><th scope=col>Causa</th><th scope=col>NumTotal</th></tr>\n",
              "\t<tr><th scope=col>&lt;chr&gt;</th><th scope=col>&lt;chr&gt;</th><th scope=col>&lt;chr&gt;</th><th scope=col>&lt;int&gt;</th><th scope=col>&lt;int&gt;</th><th scope=col>&lt;int&gt;</th><th scope=col>&lt;chr&gt;</th><th scope=col>&lt;int&gt;</th></tr>\n",
              "</thead>\n",
              "<tbody>\n",
              "\t<tr><td>200173</td><td>8 </td><td>Región Del Bíobío               </td><td>2019</td><td> 8</td><td>7</td><td>Bronquitis/bronquiolitis aguda (J20-J21)</td><td> 6</td></tr>\n",
              "\t<tr><td>200123</td><td>13</td><td>Región Metropolitana de Santiago</td><td>2021</td><td>31</td><td>4</td><td>IRA Alta (J00-J06)                      </td><td>51</td></tr>\n",
              "\t<tr><td>120107</td><td>8 </td><td>Región Del Bíobío               </td><td>2020</td><td>41</td><td>8</td><td>Crisis obstructiva bronquial (J40-J46)  </td><td> 2</td></tr>\n",
              "\t<tr><td>109811</td><td>13</td><td>Región Metropolitana de Santiago</td><td>2015</td><td>35</td><td>7</td><td>Bronquitis/bronquiolitis aguda (J20-J21)</td><td>59</td></tr>\n",
              "\t<tr><td>113808</td><td>13</td><td>Región Metropolitana de Santiago</td><td>2016</td><td>16</td><td>7</td><td>Bronquitis/bronquiolitis aguda (J20-J21)</td><td>40</td></tr>\n",
              "</tbody>\n",
              "</table>\n"
            ],
            "text/markdown": "\nA tibble: 5 × 8\n\n| EstablecimientoCodigo &lt;chr&gt; | RegionCodigo &lt;chr&gt; | RegionGlosa &lt;chr&gt; | Anio &lt;int&gt; | SemanaEstadistica &lt;int&gt; | OrdenCausa &lt;int&gt; | Causa &lt;chr&gt; | NumTotal &lt;int&gt; |\n|---|---|---|---|---|---|---|---|\n| 200173 | 8  | Región Del Bíobío                | 2019 |  8 | 7 | Bronquitis/bronquiolitis aguda (J20-J21) |  6 |\n| 200123 | 13 | Región Metropolitana de Santiago | 2021 | 31 | 4 | IRA Alta (J00-J06)                       | 51 |\n| 120107 | 8  | Región Del Bíobío                | 2020 | 41 | 8 | Crisis obstructiva bronquial (J40-J46)   |  2 |\n| 109811 | 13 | Región Metropolitana de Santiago | 2015 | 35 | 7 | Bronquitis/bronquiolitis aguda (J20-J21) | 59 |\n| 113808 | 13 | Región Metropolitana de Santiago | 2016 | 16 | 7 | Bronquitis/bronquiolitis aguda (J20-J21) | 40 |\n\n",
            "text/latex": "A tibble: 5 × 8\n\\begin{tabular}{llllllll}\n EstablecimientoCodigo & RegionCodigo & RegionGlosa & Anio & SemanaEstadistica & OrdenCausa & Causa & NumTotal\\\\\n <chr> & <chr> & <chr> & <int> & <int> & <int> & <chr> & <int>\\\\\n\\hline\n\t 200173 & 8  & Región Del Bíobío                & 2019 &  8 & 7 & Bronquitis/bronquiolitis aguda (J20-J21) &  6\\\\\n\t 200123 & 13 & Región Metropolitana de Santiago & 2021 & 31 & 4 & IRA Alta (J00-J06)                       & 51\\\\\n\t 120107 & 8  & Región Del Bíobío                & 2020 & 41 & 8 & Crisis obstructiva bronquial (J40-J46)   &  2\\\\\n\t 109811 & 13 & Región Metropolitana de Santiago & 2015 & 35 & 7 & Bronquitis/bronquiolitis aguda (J20-J21) & 59\\\\\n\t 113808 & 13 & Región Metropolitana de Santiago & 2016 & 16 & 7 & Bronquitis/bronquiolitis aguda (J20-J21) & 40\\\\\n\\end{tabular}\n",
            "text/plain": [
              "  EstablecimientoCodigo RegionCodigo RegionGlosa                      Anio\n",
              "1 200173                8            Región Del Bíobío                2019\n",
              "2 200123                13           Región Metropolitana de Santiago 2021\n",
              "3 120107                8            Región Del Bíobío                2020\n",
              "4 109811                13           Región Metropolitana de Santiago 2015\n",
              "5 113808                13           Región Metropolitana de Santiago 2016\n",
              "  SemanaEstadistica OrdenCausa Causa                                   \n",
              "1  8                7          Bronquitis/bronquiolitis aguda (J20-J21)\n",
              "2 31                4          IRA Alta (J00-J06)                      \n",
              "3 41                8          Crisis obstructiva bronquial (J40-J46)  \n",
              "4 35                7          Bronquitis/bronquiolitis aguda (J20-J21)\n",
              "5 16                7          Bronquitis/bronquiolitis aguda (J20-J21)\n",
              "  NumTotal\n",
              "1  6      \n",
              "2 51      \n",
              "3  2      \n",
              "4 59      \n",
              "5 40      "
            ]
          },
          "metadata": {}
        }
      ]
    },
    {
      "cell_type": "code",
      "source": [
        "#Obtengo el total de urgencias reportadas en todos los años por las 3 regiones.\n",
        "df_urgr_esp_semanal%>% group_by(RegionGlosa) %>% summarise(Total = sum(NumTotal, na.rm = TRUE))"
      ],
      "metadata": {
        "id": "YBwWoeGzxkZt",
        "outputId": "d4bbe306-907b-45b0-838f-3529c05fc309",
        "colab": {
          "base_uri": "https://localhost:8080/",
          "height": 192
        }
      },
      "execution_count": 68,
      "outputs": [
        {
          "output_type": "display_data",
          "data": {
            "text/html": [
              "<table class=\"dataframe\">\n",
              "<caption>A tibble: 3 × 2</caption>\n",
              "<thead>\n",
              "\t<tr><th scope=col>RegionGlosa</th><th scope=col>Total</th></tr>\n",
              "\t<tr><th scope=col>&lt;chr&gt;</th><th scope=col>&lt;int&gt;</th></tr>\n",
              "</thead>\n",
              "<tbody>\n",
              "\t<tr><td>Región De Coquimbo              </td><td> 1893393</td></tr>\n",
              "\t<tr><td>Región Del Bíobío               </td><td> 6854206</td></tr>\n",
              "\t<tr><td>Región Metropolitana de Santiago</td><td>19351838</td></tr>\n",
              "</tbody>\n",
              "</table>\n"
            ],
            "text/markdown": "\nA tibble: 3 × 2\n\n| RegionGlosa &lt;chr&gt; | Total &lt;int&gt; |\n|---|---|\n| Región De Coquimbo               |  1893393 |\n| Región Del Bíobío                |  6854206 |\n| Región Metropolitana de Santiago | 19351838 |\n\n",
            "text/latex": "A tibble: 3 × 2\n\\begin{tabular}{ll}\n RegionGlosa & Total\\\\\n <chr> & <int>\\\\\n\\hline\n\t Región De Coquimbo               &  1893393\\\\\n\t Región Del Bíobío                &  6854206\\\\\n\t Región Metropolitana de Santiago & 19351838\\\\\n\\end{tabular}\n",
            "text/plain": [
              "  RegionGlosa                      Total   \n",
              "1 Región De Coquimbo                1893393\n",
              "2 Región Del Bíobío                 6854206\n",
              "3 Región Metropolitana de Santiago 19351838"
            ]
          },
          "metadata": {}
        }
      ]
    },
    {
      "cell_type": "code",
      "source": [
        "# Grafico la cantidad de casos por región\n",
        "df_plot1<-df_urgr_esp_semanal%>% group_by(RegionGlosa) %>% summarise(Total = sum(NumTotal, na.rm = TRUE))\n",
        "options(repr.plot.width = 10, repr.plot.height = 10)\n",
        "ggplot(df_plot1, aes(x=RegionGlosa, y= Total, fill= RegionGlosa)) + geom_bar(stat=\"identity\") +\n",
        "scale_y_continuous(labels = scales::comma_format(accuracy = 1))+\n",
        "theme(axis.text.x = element_text(angle = 75, vjust = .5))+\n",
        "labs(x = \"Región\", y = \"Total Urgencias\", title = \"Total Urgencias x Región\")"
      ],
      "metadata": {
        "id": "9U0Uf1SXnlX9",
        "outputId": "ea8497da-108f-4a49-cbee-9223efd35d63",
        "colab": {
          "base_uri": "https://localhost:8080/",
          "height": 617
        }
      },
      "execution_count": 69,
      "outputs": [
        {
          "output_type": "display_data",
          "data": {
            "text/plain": [
              "plot without title"
            ],
            "image/png": "[encoded data removed]"
          },
          "metadata": {
            "image/png": {
              "width": 600,
              "height": 600
            }
          }
        }
      ]
    },
    {
      "cell_type": "code",
      "source": [
        "# Obtengo cantidad de urgencias por año y region\n",
        "df_resumen <- df_urgr_esp_semanal %>%\n",
        "  group_by(Anio, RegionGlosa) %>%\n",
        "  summarise(Total = sum(NumTotal, na.rm = TRUE))\n",
        "  df_resumen"
      ],
      "metadata": {
        "id": "EmhGoM1e0ZOo",
        "outputId": "59d72aad-c495-4f21-fa16-aa79efa7ea15",
        "colab": {
          "base_uri": "https://localhost:8080/",
          "height": 1000
        }
      },
      "execution_count": 70,
      "outputs": [
        {
          "output_type": "stream",
          "name": "stderr",
          "text": [
            "\u001b[1m\u001b[22m`summarise()` has grouped output by 'Anio'. You can override using the\n",
            "`.groups` argument.\n"
          ]
        },
        {
          "output_type": "display_data",
          "data": {
            "text/html": [
              "<table class=\"dataframe\">\n",
              "<caption>A grouped_df: 33 × 3</caption>\n",
              "<thead>\n",
              "\t<tr><th scope=col>Anio</th><th scope=col>RegionGlosa</th><th scope=col>Total</th></tr>\n",
              "\t<tr><th scope=col>&lt;int&gt;</th><th scope=col>&lt;chr&gt;</th><th scope=col>&lt;int&gt;</th></tr>\n",
              "</thead>\n",
              "<tbody>\n",
              "\t<tr><td>2014</td><td>Región De Coquimbo              </td><td> 174596</td></tr>\n",
              "\t<tr><td>2014</td><td>Región Del Bíobío               </td><td> 650757</td></tr>\n",
              "\t<tr><td>2014</td><td>Región Metropolitana de Santiago</td><td>1959313</td></tr>\n",
              "\t<tr><td>2015</td><td>Región De Coquimbo              </td><td> 178524</td></tr>\n",
              "\t<tr><td>2015</td><td>Región Del Bíobío               </td><td> 694972</td></tr>\n",
              "\t<tr><td>2015</td><td>Región Metropolitana de Santiago</td><td>2095817</td></tr>\n",
              "\t<tr><td>2016</td><td>Región De Coquimbo              </td><td> 178086</td></tr>\n",
              "\t<tr><td>2016</td><td>Región Del Bíobío               </td><td> 654439</td></tr>\n",
              "\t<tr><td>2016</td><td>Región Metropolitana de Santiago</td><td>2069127</td></tr>\n",
              "\t<tr><td>2017</td><td>Región De Coquimbo              </td><td> 176476</td></tr>\n",
              "\t<tr><td>2017</td><td>Región Del Bíobío               </td><td> 668164</td></tr>\n",
              "\t<tr><td>2017</td><td>Región Metropolitana de Santiago</td><td>1897594</td></tr>\n",
              "\t<tr><td>2018</td><td>Región De Coquimbo              </td><td> 183047</td></tr>\n",
              "\t<tr><td>2018</td><td>Región Del Bíobío               </td><td> 650592</td></tr>\n",
              "\t<tr><td>2018</td><td>Región Metropolitana de Santiago</td><td>1836445</td></tr>\n",
              "\t<tr><td>2019</td><td>Región De Coquimbo              </td><td> 190921</td></tr>\n",
              "\t<tr><td>2019</td><td>Región Del Bíobío               </td><td> 656910</td></tr>\n",
              "\t<tr><td>2019</td><td>Región Metropolitana de Santiago</td><td>1898983</td></tr>\n",
              "\t<tr><td>2020</td><td>Región De Coquimbo              </td><td>  77610</td></tr>\n",
              "\t<tr><td>2020</td><td>Región Del Bíobío               </td><td> 290846</td></tr>\n",
              "\t<tr><td>2020</td><td>Región Metropolitana de Santiago</td><td> 831460</td></tr>\n",
              "\t<tr><td>2021</td><td>Región De Coquimbo              </td><td> 117245</td></tr>\n",
              "\t<tr><td>2021</td><td>Región Del Bíobío               </td><td> 469360</td></tr>\n",
              "\t<tr><td>2021</td><td>Región Metropolitana de Santiago</td><td>1219489</td></tr>\n",
              "\t<tr><td>2022</td><td>Región De Coquimbo              </td><td> 263335</td></tr>\n",
              "\t<tr><td>2022</td><td>Región Del Bíobío               </td><td> 962812</td></tr>\n",
              "\t<tr><td>2022</td><td>Región Metropolitana de Santiago</td><td>2352255</td></tr>\n",
              "\t<tr><td>2023</td><td>Región De Coquimbo              </td><td> 206436</td></tr>\n",
              "\t<tr><td>2023</td><td>Región Del Bíobío               </td><td> 711810</td></tr>\n",
              "\t<tr><td>2023</td><td>Región Metropolitana de Santiago</td><td>1901823</td></tr>\n",
              "\t<tr><td>2024</td><td>Región De Coquimbo              </td><td> 147117</td></tr>\n",
              "\t<tr><td>2024</td><td>Región Del Bíobío               </td><td> 443544</td></tr>\n",
              "\t<tr><td>2024</td><td>Región Metropolitana de Santiago</td><td>1289532</td></tr>\n",
              "</tbody>\n",
              "</table>\n"
            ],
            "text/markdown": "\nA grouped_df: 33 × 3\n\n| Anio &lt;int&gt; | RegionGlosa &lt;chr&gt; | Total &lt;int&gt; |\n|---|---|---|\n| 2014 | Región De Coquimbo               |  174596 |\n| 2014 | Región Del Bíobío                |  650757 |\n| 2014 | Región Metropolitana de Santiago | 1959313 |\n| 2015 | Región De Coquimbo               |  178524 |\n| 2015 | Región Del Bíobío                |  694972 |\n| 2015 | Región Metropolitana de Santiago | 2095817 |\n| 2016 | Región De Coquimbo               |  178086 |\n| 2016 | Región Del Bíobío                |  654439 |\n| 2016 | Región Metropolitana de Santiago | 2069127 |\n| 2017 | Región De Coquimbo               |  176476 |\n| 2017 | Región Del Bíobío                |  668164 |\n| 2017 | Región Metropolitana de Santiago | 1897594 |\n| 2018 | Región De Coquimbo               |  183047 |\n| 2018 | Región Del Bíobío                |  650592 |\n| 2018 | Región Metropolitana de Santiago | 1836445 |\n| 2019 | Región De Coquimbo               |  190921 |\n| 2019 | Región Del Bíobío                |  656910 |\n| 2019 | Región Metropolitana de Santiago | 1898983 |\n| 2020 | Región De Coquimbo               |   77610 |\n| 2020 | Región Del Bíobío                |  290846 |\n| 2020 | Región Metropolitana de Santiago |  831460 |\n| 2021 | Región De Coquimbo               |  117245 |\n| 2021 | Región Del Bíobío                |  469360 |\n| 2021 | Región Metropolitana de Santiago | 1219489 |\n| 2022 | Región De Coquimbo               |  263335 |\n| 2022 | Región Del Bíobío                |  962812 |\n| 2022 | Región Metropolitana de Santiago | 2352255 |\n| 2023 | Región De Coquimbo               |  206436 |\n| 2023 | Región Del Bíobío                |  711810 |\n| 2023 | Región Metropolitana de Santiago | 1901823 |\n| 2024 | Región De Coquimbo               |  147117 |\n| 2024 | Región Del Bíobío                |  443544 |\n| 2024 | Región Metropolitana de Santiago | 1289532 |\n\n",
            "text/latex": "A grouped\\_df: 33 × 3\n\\begin{tabular}{lll}\n Anio & RegionGlosa & Total\\\\\n <int> & <chr> & <int>\\\\\n\\hline\n\t 2014 & Región De Coquimbo               &  174596\\\\\n\t 2014 & Región Del Bíobío                &  650757\\\\\n\t 2014 & Región Metropolitana de Santiago & 1959313\\\\\n\t 2015 & Región De Coquimbo               &  178524\\\\\n\t 2015 & Región Del Bíobío                &  694972\\\\\n\t 2015 & Región Metropolitana de Santiago & 2095817\\\\\n\t 2016 & Región De Coquimbo               &  178086\\\\\n\t 2016 & Región Del Bíobío                &  654439\\\\\n\t 2016 & Región Metropolitana de Santiago & 2069127\\\\\n\t 2017 & Región De Coquimbo               &  176476\\\\\n\t 2017 & Región Del Bíobío                &  668164\\\\\n\t 2017 & Región Metropolitana de Santiago & 1897594\\\\\n\t 2018 & Región De Coquimbo               &  183047\\\\\n\t 2018 & Región Del Bíobío                &  650592\\\\\n\t 2018 & Región Metropolitana de Santiago & 1836445\\\\\n\t 2019 & Región De Coquimbo               &  190921\\\\\n\t 2019 & Región Del Bíobío                &  656910\\\\\n\t 2019 & Región Metropolitana de Santiago & 1898983\\\\\n\t 2020 & Región De Coquimbo               &   77610\\\\\n\t 2020 & Región Del Bíobío                &  290846\\\\\n\t 2020 & Región Metropolitana de Santiago &  831460\\\\\n\t 2021 & Región De Coquimbo               &  117245\\\\\n\t 2021 & Región Del Bíobío                &  469360\\\\\n\t 2021 & Región Metropolitana de Santiago & 1219489\\\\\n\t 2022 & Región De Coquimbo               &  263335\\\\\n\t 2022 & Región Del Bíobío                &  962812\\\\\n\t 2022 & Región Metropolitana de Santiago & 2352255\\\\\n\t 2023 & Región De Coquimbo               &  206436\\\\\n\t 2023 & Región Del Bíobío                &  711810\\\\\n\t 2023 & Región Metropolitana de Santiago & 1901823\\\\\n\t 2024 & Región De Coquimbo               &  147117\\\\\n\t 2024 & Región Del Bíobío                &  443544\\\\\n\t 2024 & Región Metropolitana de Santiago & 1289532\\\\\n\\end{tabular}\n",
            "text/plain": [
              "   Anio RegionGlosa                      Total  \n",
              "1  2014 Región De Coquimbo                174596\n",
              "2  2014 Región Del Bíobío                 650757\n",
              "3  2014 Región Metropolitana de Santiago 1959313\n",
              "4  2015 Región De Coquimbo                178524\n",
              "5  2015 Región Del Bíobío                 694972\n",
              "6  2015 Región Metropolitana de Santiago 2095817\n",
              "7  2016 Región De Coquimbo                178086\n",
              "8  2016 Región Del Bíobío                 654439\n",
              "9  2016 Región Metropolitana de Santiago 2069127\n",
              "10 2017 Región De Coquimbo                176476\n",
              "11 2017 Región Del Bíobío                 668164\n",
              "12 2017 Región Metropolitana de Santiago 1897594\n",
              "13 2018 Región De Coquimbo                183047\n",
              "14 2018 Región Del Bíobío                 650592\n",
              "15 2018 Región Metropolitana de Santiago 1836445\n",
              "16 2019 Región De Coquimbo                190921\n",
              "17 2019 Región Del Bíobío                 656910\n",
              "18 2019 Región Metropolitana de Santiago 1898983\n",
              "19 2020 Región De Coquimbo                 77610\n",
              "20 2020 Región Del Bíobío                 290846\n",
              "21 2020 Región Metropolitana de Santiago  831460\n",
              "22 2021 Región De Coquimbo                117245\n",
              "23 2021 Región Del Bíobío                 469360\n",
              "24 2021 Región Metropolitana de Santiago 1219489\n",
              "25 2022 Región De Coquimbo                263335\n",
              "26 2022 Región Del Bíobío                 962812\n",
              "27 2022 Región Metropolitana de Santiago 2352255\n",
              "28 2023 Región De Coquimbo                206436\n",
              "29 2023 Región Del Bíobío                 711810\n",
              "30 2023 Región Metropolitana de Santiago 1901823\n",
              "31 2024 Región De Coquimbo                147117\n",
              "32 2024 Región Del Bíobío                 443544\n",
              "33 2024 Región Metropolitana de Santiago 1289532"
            ]
          },
          "metadata": {}
        }
      ]
    },
    {
      "cell_type": "code",
      "source": [
        "# Obtengo cantidad de urgencias por año, semana y region.\n",
        "df_resumen <- df_urgr_esp_semanal %>%\n",
        "  group_by(Anio, SemanaEstadistica, Causa) %>%\n",
        "  summarise(Total = sum(NumTotal, na.rm = TRUE))\n",
        "  df_resumen"
      ],
      "metadata": {
        "id": "M-wlfKZigc6v",
        "outputId": "b7fcd4e7-2a88-49e7-ec97-68d74125b82b",
        "colab": {
          "base_uri": "https://localhost:8080/",
          "height": 1000
        }
      },
      "execution_count": 71,
      "outputs": [
        {
          "output_type": "stream",
          "name": "stderr",
          "text": [
            "\u001b[1m\u001b[22m`summarise()` has grouped output by 'Anio', 'SemanaEstadistica'. You can\n",
            "override using the `.groups` argument.\n"
          ]
        },
        {
          "output_type": "display_data",
          "data": {
            "text/html": [
              "<table class=\"dataframe\">\n",
              "<caption>A grouped_df: 5082 × 4</caption>\n",
              "<thead>\n",
              "\t<tr><th scope=col>Anio</th><th scope=col>SemanaEstadistica</th><th scope=col>Causa</th><th scope=col>Total</th></tr>\n",
              "\t<tr><th scope=col>&lt;int&gt;</th><th scope=col>&lt;int&gt;</th><th scope=col>&lt;chr&gt;</th><th scope=col>&lt;int&gt;</th></tr>\n",
              "</thead>\n",
              "<tbody>\n",
              "\t<tr><td>2014</td><td>1</td><td>Bronquitis/bronquiolitis aguda (J20-J21)            </td><td> 2364</td></tr>\n",
              "\t<tr><td>2014</td><td>1</td><td>Crisis obstructiva bronquial (J40-J46)              </td><td> 1160</td></tr>\n",
              "\t<tr><td>2014</td><td>1</td><td>HOSPITALIZACIONES POR CAUSAS SISTEMA RESPIRATORIO   </td><td>  300</td></tr>\n",
              "\t<tr><td>2014</td><td>1</td><td>IRA Alta (J00-J06)                                  </td><td>13389</td></tr>\n",
              "\t<tr><td>2014</td><td>1</td><td>Influenza (J09-J11)                                 </td><td>  179</td></tr>\n",
              "\t<tr><td>2014</td><td>1</td><td>Neumonía (J12-J18)                                  </td><td>  659</td></tr>\n",
              "\t<tr><td>2014</td><td>1</td><td>Otra causa respiratoria (J22, J30-J39, J47, J60-J98)</td><td> 3278</td></tr>\n",
              "\t<tr><td>2014</td><td>2</td><td>Bronquitis/bronquiolitis aguda (J20-J21)            </td><td> 3679</td></tr>\n",
              "\t<tr><td>2014</td><td>2</td><td>Crisis obstructiva bronquial (J40-J46)              </td><td> 1992</td></tr>\n",
              "\t<tr><td>2014</td><td>2</td><td>HOSPITALIZACIONES POR CAUSAS SISTEMA RESPIRATORIO   </td><td>  529</td></tr>\n",
              "\t<tr><td>2014</td><td>2</td><td>IRA Alta (J00-J06)                                  </td><td>21712</td></tr>\n",
              "\t<tr><td>2014</td><td>2</td><td>Influenza (J09-J11)                                 </td><td>  309</td></tr>\n",
              "\t<tr><td>2014</td><td>2</td><td>Neumonía (J12-J18)                                  </td><td> 1137</td></tr>\n",
              "\t<tr><td>2014</td><td>2</td><td>Otra causa respiratoria (J22, J30-J39, J47, J60-J98)</td><td> 5145</td></tr>\n",
              "\t<tr><td>2014</td><td>3</td><td>Bronquitis/bronquiolitis aguda (J20-J21)            </td><td> 3013</td></tr>\n",
              "\t<tr><td>2014</td><td>3</td><td>Crisis obstructiva bronquial (J40-J46)              </td><td> 1593</td></tr>\n",
              "\t<tr><td>2014</td><td>3</td><td>HOSPITALIZACIONES POR CAUSAS SISTEMA RESPIRATORIO   </td><td>  459</td></tr>\n",
              "\t<tr><td>2014</td><td>3</td><td>IRA Alta (J00-J06)                                  </td><td>19221</td></tr>\n",
              "\t<tr><td>2014</td><td>3</td><td>Influenza (J09-J11)                                 </td><td>  208</td></tr>\n",
              "\t<tr><td>2014</td><td>3</td><td>Neumonía (J12-J18)                                  </td><td> 1018</td></tr>\n",
              "\t<tr><td>2014</td><td>3</td><td>Otra causa respiratoria (J22, J30-J39, J47, J60-J98)</td><td> 4535</td></tr>\n",
              "\t<tr><td>2014</td><td>4</td><td>Bronquitis/bronquiolitis aguda (J20-J21)            </td><td> 2763</td></tr>\n",
              "\t<tr><td>2014</td><td>4</td><td>Crisis obstructiva bronquial (J40-J46)              </td><td> 1498</td></tr>\n",
              "\t<tr><td>2014</td><td>4</td><td>HOSPITALIZACIONES POR CAUSAS SISTEMA RESPIRATORIO   </td><td>  447</td></tr>\n",
              "\t<tr><td>2014</td><td>4</td><td>IRA Alta (J00-J06)                                  </td><td>18595</td></tr>\n",
              "\t<tr><td>2014</td><td>4</td><td>Influenza (J09-J11)                                 </td><td>  195</td></tr>\n",
              "\t<tr><td>2014</td><td>4</td><td>Neumonía (J12-J18)                                  </td><td>  922</td></tr>\n",
              "\t<tr><td>2014</td><td>4</td><td>Otra causa respiratoria (J22, J30-J39, J47, J60-J98)</td><td> 4523</td></tr>\n",
              "\t<tr><td>2014</td><td>5</td><td>Bronquitis/bronquiolitis aguda (J20-J21)            </td><td> 2655</td></tr>\n",
              "\t<tr><td>2014</td><td>5</td><td>Crisis obstructiva bronquial (J40-J46)              </td><td> 1338</td></tr>\n",
              "\t<tr><td>⋮</td><td>⋮</td><td>⋮</td><td>⋮</td></tr>\n",
              "\t<tr><td>2024</td><td>36</td><td>Crisis obstructiva bronquial (J40-J46)                 </td><td> 2294</td></tr>\n",
              "\t<tr><td>2024</td><td>36</td><td>HOSPITALIZACIONES COVID-19, VIRUS IDENTIFICADO U07.1   </td><td>    0</td></tr>\n",
              "\t<tr><td>2024</td><td>36</td><td>HOSPITALIZACIONES COVID-19, VIRUS NO IDENTIFICADO U07.2</td><td>    0</td></tr>\n",
              "\t<tr><td>2024</td><td>36</td><td>HOSPITALIZACIONES POR CAUSAS SISTEMA RESPIRATORIO      </td><td>  993</td></tr>\n",
              "\t<tr><td>2024</td><td>36</td><td>IRA Alta (J00-J06)                                     </td><td>37731</td></tr>\n",
              "\t<tr><td>2024</td><td>36</td><td>Influenza (J09-J11)                                    </td><td>  690</td></tr>\n",
              "\t<tr><td>2024</td><td>36</td><td>Neumonía (J12-J18)                                     </td><td> 3193</td></tr>\n",
              "\t<tr><td>2024</td><td>36</td><td>Otra causa respiratoria (J22, J30-J39, J47, J60-J98)   </td><td> 3645</td></tr>\n",
              "\t<tr><td>2024</td><td>37</td><td>Bronquitis/bronquiolitis aguda (J20-J21)               </td><td>10559</td></tr>\n",
              "\t<tr><td>2024</td><td>37</td><td>Covid-19, Virus identificado U07.1                     </td><td>    2</td></tr>\n",
              "\t<tr><td>2024</td><td>37</td><td>Covid-19, Virus no identificado U07.2                  </td><td>    9</td></tr>\n",
              "\t<tr><td>2024</td><td>37</td><td>Crisis obstructiva bronquial (J40-J46)                 </td><td> 2248</td></tr>\n",
              "\t<tr><td>2024</td><td>37</td><td>HOSPITALIZACIONES COVID-19, VIRUS IDENTIFICADO U07.1   </td><td>    0</td></tr>\n",
              "\t<tr><td>2024</td><td>37</td><td>HOSPITALIZACIONES COVID-19, VIRUS NO IDENTIFICADO U07.2</td><td>    0</td></tr>\n",
              "\t<tr><td>2024</td><td>37</td><td>HOSPITALIZACIONES POR CAUSAS SISTEMA RESPIRATORIO      </td><td> 1009</td></tr>\n",
              "\t<tr><td>2024</td><td>37</td><td>IRA Alta (J00-J06)                                     </td><td>36734</td></tr>\n",
              "\t<tr><td>2024</td><td>37</td><td>Influenza (J09-J11)                                    </td><td>  627</td></tr>\n",
              "\t<tr><td>2024</td><td>37</td><td>Neumonía (J12-J18)                                     </td><td> 2992</td></tr>\n",
              "\t<tr><td>2024</td><td>37</td><td>Otra causa respiratoria (J22, J30-J39, J47, J60-J98)   </td><td> 3629</td></tr>\n",
              "\t<tr><td>2024</td><td>38</td><td>Bronquitis/bronquiolitis aguda (J20-J21)               </td><td> 1835</td></tr>\n",
              "\t<tr><td>2024</td><td>38</td><td>Covid-19, Virus identificado U07.1                     </td><td>    1</td></tr>\n",
              "\t<tr><td>2024</td><td>38</td><td>Covid-19, Virus no identificado U07.2                  </td><td>    0</td></tr>\n",
              "\t<tr><td>2024</td><td>38</td><td>Crisis obstructiva bronquial (J40-J46)                 </td><td>  344</td></tr>\n",
              "\t<tr><td>2024</td><td>38</td><td>HOSPITALIZACIONES COVID-19, VIRUS IDENTIFICADO U07.1   </td><td>    0</td></tr>\n",
              "\t<tr><td>2024</td><td>38</td><td>HOSPITALIZACIONES COVID-19, VIRUS NO IDENTIFICADO U07.2</td><td>    0</td></tr>\n",
              "\t<tr><td>2024</td><td>38</td><td>HOSPITALIZACIONES POR CAUSAS SISTEMA RESPIRATORIO      </td><td>  138</td></tr>\n",
              "\t<tr><td>2024</td><td>38</td><td>IRA Alta (J00-J06)                                     </td><td> 6025</td></tr>\n",
              "\t<tr><td>2024</td><td>38</td><td>Influenza (J09-J11)                                    </td><td>   55</td></tr>\n",
              "\t<tr><td>2024</td><td>38</td><td>Neumonía (J12-J18)                                     </td><td>  467</td></tr>\n",
              "\t<tr><td>2024</td><td>38</td><td>Otra causa respiratoria (J22, J30-J39, J47, J60-J98)   </td><td>  604</td></tr>\n",
              "</tbody>\n",
              "</table>\n"
            ],
            "text/markdown": "\nA grouped_df: 5082 × 4\n\n| Anio &lt;int&gt; | SemanaEstadistica &lt;int&gt; | Causa &lt;chr&gt; | Total &lt;int&gt; |\n|---|---|---|---|\n| 2014 | 1 | Bronquitis/bronquiolitis aguda (J20-J21)             |  2364 |\n| 2014 | 1 | Crisis obstructiva bronquial (J40-J46)               |  1160 |\n| 2014 | 1 | HOSPITALIZACIONES POR CAUSAS SISTEMA RESPIRATORIO    |   300 |\n| 2014 | 1 | IRA Alta (J00-J06)                                   | 13389 |\n| 2014 | 1 | Influenza (J09-J11)                                  |   179 |\n| 2014 | 1 | Neumonía (J12-J18)                                   |   659 |\n| 2014 | 1 | Otra causa respiratoria (J22, J30-J39, J47, J60-J98) |  3278 |\n| 2014 | 2 | Bronquitis/bronquiolitis aguda (J20-J21)             |  3679 |\n| 2014 | 2 | Crisis obstructiva bronquial (J40-J46)               |  1992 |\n| 2014 | 2 | HOSPITALIZACIONES POR CAUSAS SISTEMA RESPIRATORIO    |   529 |\n| 2014 | 2 | IRA Alta (J00-J06)                                   | 21712 |\n| 2014 | 2 | Influenza (J09-J11)                                  |   309 |\n| 2014 | 2 | Neumonía (J12-J18)                                   |  1137 |\n| 2014 | 2 | Otra causa respiratoria (J22, J30-J39, J47, J60-J98) |  5145 |\n| 2014 | 3 | Bronquitis/bronquiolitis aguda (J20-J21)             |  3013 |\n| 2014 | 3 | Crisis obstructiva bronquial (J40-J46)               |  1593 |\n| 2014 | 3 | HOSPITALIZACIONES POR CAUSAS SISTEMA RESPIRATORIO    |   459 |\n| 2014 | 3 | IRA Alta (J00-J06)                                   | 19221 |\n| 2014 | 3 | Influenza (J09-J11)                                  |   208 |\n| 2014 | 3 | Neumonía (J12-J18)                                   |  1018 |\n| 2014 | 3 | Otra causa respiratoria (J22, J30-J39, J47, J60-J98) |  4535 |\n| 2014 | 4 | Bronquitis/bronquiolitis aguda (J20-J21)             |  2763 |\n| 2014 | 4 | Crisis obstructiva bronquial (J40-J46)               |  1498 |\n| 2014 | 4 | HOSPITALIZACIONES POR CAUSAS SISTEMA RESPIRATORIO    |   447 |\n| 2014 | 4 | IRA Alta (J00-J06)                                   | 18595 |\n| 2014 | 4 | Influenza (J09-J11)                                  |   195 |\n| 2014 | 4 | Neumonía (J12-J18)                                   |   922 |\n| 2014 | 4 | Otra causa respiratoria (J22, J30-J39, J47, J60-J98) |  4523 |\n| 2014 | 5 | Bronquitis/bronquiolitis aguda (J20-J21)             |  2655 |\n| 2014 | 5 | Crisis obstructiva bronquial (J40-J46)               |  1338 |\n| ⋮ | ⋮ | ⋮ | ⋮ |\n| 2024 | 36 | Crisis obstructiva bronquial (J40-J46)                  |  2294 |\n| 2024 | 36 | HOSPITALIZACIONES COVID-19, VIRUS IDENTIFICADO U07.1    |     0 |\n| 2024 | 36 | HOSPITALIZACIONES COVID-19, VIRUS NO IDENTIFICADO U07.2 |     0 |\n| 2024 | 36 | HOSPITALIZACIONES POR CAUSAS SISTEMA RESPIRATORIO       |   993 |\n| 2024 | 36 | IRA Alta (J00-J06)                                      | 37731 |\n| 2024 | 36 | Influenza (J09-J11)                                     |   690 |\n| 2024 | 36 | Neumonía (J12-J18)                                      |  3193 |\n| 2024 | 36 | Otra causa respiratoria (J22, J30-J39, J47, J60-J98)    |  3645 |\n| 2024 | 37 | Bronquitis/bronquiolitis aguda (J20-J21)                | 10559 |\n| 2024 | 37 | Covid-19, Virus identificado U07.1                      |     2 |\n| 2024 | 37 | Covid-19, Virus no identificado U07.2                   |     9 |\n| 2024 | 37 | Crisis obstructiva bronquial (J40-J46)                  |  2248 |\n| 2024 | 37 | HOSPITALIZACIONES COVID-19, VIRUS IDENTIFICADO U07.1    |     0 |\n| 2024 | 37 | HOSPITALIZACIONES COVID-19, VIRUS NO IDENTIFICADO U07.2 |     0 |\n| 2024 | 37 | HOSPITALIZACIONES POR CAUSAS SISTEMA RESPIRATORIO       |  1009 |\n| 2024 | 37 | IRA Alta (J00-J06)                                      | 36734 |\n| 2024 | 37 | Influenza (J09-J11)                                     |   627 |\n| 2024 | 37 | Neumonía (J12-J18)                                      |  2992 |\n| 2024 | 37 | Otra causa respiratoria (J22, J30-J39, J47, J60-J98)    |  3629 |\n| 2024 | 38 | Bronquitis/bronquiolitis aguda (J20-J21)                |  1835 |\n| 2024 | 38 | Covid-19, Virus identificado U07.1                      |     1 |\n| 2024 | 38 | Covid-19, Virus no identificado U07.2                   |     0 |\n| 2024 | 38 | Crisis obstructiva bronquial (J40-J46)                  |   344 |\n| 2024 | 38 | HOSPITALIZACIONES COVID-19, VIRUS IDENTIFICADO U07.1    |     0 |\n| 2024 | 38 | HOSPITALIZACIONES COVID-19, VIRUS NO IDENTIFICADO U07.2 |     0 |\n| 2024 | 38 | HOSPITALIZACIONES POR CAUSAS SISTEMA RESPIRATORIO       |   138 |\n| 2024 | 38 | IRA Alta (J00-J06)                                      |  6025 |\n| 2024 | 38 | Influenza (J09-J11)                                     |    55 |\n| 2024 | 38 | Neumonía (J12-J18)                                      |   467 |\n| 2024 | 38 | Otra causa respiratoria (J22, J30-J39, J47, J60-J98)    |   604 |\n\n",
            "text/latex": "A grouped\\_df: 5082 × 4\n\\begin{tabular}{llll}\n Anio & SemanaEstadistica & Causa & Total\\\\\n <int> & <int> & <chr> & <int>\\\\\n\\hline\n\t 2014 & 1 & Bronquitis/bronquiolitis aguda (J20-J21)             &  2364\\\\\n\t 2014 & 1 & Crisis obstructiva bronquial (J40-J46)               &  1160\\\\\n\t 2014 & 1 & HOSPITALIZACIONES POR CAUSAS SISTEMA RESPIRATORIO    &   300\\\\\n\t 2014 & 1 & IRA Alta (J00-J06)                                   & 13389\\\\\n\t 2014 & 1 & Influenza (J09-J11)                                  &   179\\\\\n\t 2014 & 1 & Neumonía (J12-J18)                                   &   659\\\\\n\t 2014 & 1 & Otra causa respiratoria (J22, J30-J39, J47, J60-J98) &  3278\\\\\n\t 2014 & 2 & Bronquitis/bronquiolitis aguda (J20-J21)             &  3679\\\\\n\t 2014 & 2 & Crisis obstructiva bronquial (J40-J46)               &  1992\\\\\n\t 2014 & 2 & HOSPITALIZACIONES POR CAUSAS SISTEMA RESPIRATORIO    &   529\\\\\n\t 2014 & 2 & IRA Alta (J00-J06)                                   & 21712\\\\\n\t 2014 & 2 & Influenza (J09-J11)                                  &   309\\\\\n\t 2014 & 2 & Neumonía (J12-J18)                                   &  1137\\\\\n\t 2014 & 2 & Otra causa respiratoria (J22, J30-J39, J47, J60-J98) &  5145\\\\\n\t 2014 & 3 & Bronquitis/bronquiolitis aguda (J20-J21)             &  3013\\\\\n\t 2014 & 3 & Crisis obstructiva bronquial (J40-J46)               &  1593\\\\\n\t 2014 & 3 & HOSPITALIZACIONES POR CAUSAS SISTEMA RESPIRATORIO    &   459\\\\\n\t 2014 & 3 & IRA Alta (J00-J06)                                   & 19221\\\\\n\t 2014 & 3 & Influenza (J09-J11)                                  &   208\\\\\n\t 2014 & 3 & Neumonía (J12-J18)                                   &  1018\\\\\n\t 2014 & 3 & Otra causa respiratoria (J22, J30-J39, J47, J60-J98) &  4535\\\\\n\t 2014 & 4 & Bronquitis/bronquiolitis aguda (J20-J21)             &  2763\\\\\n\t 2014 & 4 & Crisis obstructiva bronquial (J40-J46)               &  1498\\\\\n\t 2014 & 4 & HOSPITALIZACIONES POR CAUSAS SISTEMA RESPIRATORIO    &   447\\\\\n\t 2014 & 4 & IRA Alta (J00-J06)                                   & 18595\\\\\n\t 2014 & 4 & Influenza (J09-J11)                                  &   195\\\\\n\t 2014 & 4 & Neumonía (J12-J18)                                   &   922\\\\\n\t 2014 & 4 & Otra causa respiratoria (J22, J30-J39, J47, J60-J98) &  4523\\\\\n\t 2014 & 5 & Bronquitis/bronquiolitis aguda (J20-J21)             &  2655\\\\\n\t 2014 & 5 & Crisis obstructiva bronquial (J40-J46)               &  1338\\\\\n\t ⋮ & ⋮ & ⋮ & ⋮\\\\\n\t 2024 & 36 & Crisis obstructiva bronquial (J40-J46)                  &  2294\\\\\n\t 2024 & 36 & HOSPITALIZACIONES COVID-19, VIRUS IDENTIFICADO U07.1    &     0\\\\\n\t 2024 & 36 & HOSPITALIZACIONES COVID-19, VIRUS NO IDENTIFICADO U07.2 &     0\\\\\n\t 2024 & 36 & HOSPITALIZACIONES POR CAUSAS SISTEMA RESPIRATORIO       &   993\\\\\n\t 2024 & 36 & IRA Alta (J00-J06)                                      & 37731\\\\\n\t 2024 & 36 & Influenza (J09-J11)                                     &   690\\\\\n\t 2024 & 36 & Neumonía (J12-J18)                                      &  3193\\\\\n\t 2024 & 36 & Otra causa respiratoria (J22, J30-J39, J47, J60-J98)    &  3645\\\\\n\t 2024 & 37 & Bronquitis/bronquiolitis aguda (J20-J21)                & 10559\\\\\n\t 2024 & 37 & Covid-19, Virus identificado U07.1                      &     2\\\\\n\t 2024 & 37 & Covid-19, Virus no identificado U07.2                   &     9\\\\\n\t 2024 & 37 & Crisis obstructiva bronquial (J40-J46)                  &  2248\\\\\n\t 2024 & 37 & HOSPITALIZACIONES COVID-19, VIRUS IDENTIFICADO U07.1    &     0\\\\\n\t 2024 & 37 & HOSPITALIZACIONES COVID-19, VIRUS NO IDENTIFICADO U07.2 &     0\\\\\n\t 2024 & 37 & HOSPITALIZACIONES POR CAUSAS SISTEMA RESPIRATORIO       &  1009\\\\\n\t 2024 & 37 & IRA Alta (J00-J06)                                      & 36734\\\\\n\t 2024 & 37 & Influenza (J09-J11)                                     &   627\\\\\n\t 2024 & 37 & Neumonía (J12-J18)                                      &  2992\\\\\n\t 2024 & 37 & Otra causa respiratoria (J22, J30-J39, J47, J60-J98)    &  3629\\\\\n\t 2024 & 38 & Bronquitis/bronquiolitis aguda (J20-J21)                &  1835\\\\\n\t 2024 & 38 & Covid-19, Virus identificado U07.1                      &     1\\\\\n\t 2024 & 38 & Covid-19, Virus no identificado U07.2                   &     0\\\\\n\t 2024 & 38 & Crisis obstructiva bronquial (J40-J46)                  &   344\\\\\n\t 2024 & 38 & HOSPITALIZACIONES COVID-19, VIRUS IDENTIFICADO U07.1    &     0\\\\\n\t 2024 & 38 & HOSPITALIZACIONES COVID-19, VIRUS NO IDENTIFICADO U07.2 &     0\\\\\n\t 2024 & 38 & HOSPITALIZACIONES POR CAUSAS SISTEMA RESPIRATORIO       &   138\\\\\n\t 2024 & 38 & IRA Alta (J00-J06)                                      &  6025\\\\\n\t 2024 & 38 & Influenza (J09-J11)                                     &    55\\\\\n\t 2024 & 38 & Neumonía (J12-J18)                                      &   467\\\\\n\t 2024 & 38 & Otra causa respiratoria (J22, J30-J39, J47, J60-J98)    &   604\\\\\n\\end{tabular}\n",
            "text/plain": [
              "     Anio SemanaEstadistica\n",
              "1    2014 1                \n",
              "2    2014 1                \n",
              "3    2014 1                \n",
              "4    2014 1                \n",
              "5    2014 1                \n",
              "6    2014 1                \n",
              "7    2014 1                \n",
              "8    2014 2                \n",
              "9    2014 2                \n",
              "10   2014 2                \n",
              "11   2014 2                \n",
              "12   2014 2                \n",
              "13   2014 2                \n",
              "14   2014 2                \n",
              "15   2014 3                \n",
              "16   2014 3                \n",
              "17   2014 3                \n",
              "18   2014 3                \n",
              "19   2014 3                \n",
              "20   2014 3                \n",
              "21   2014 3                \n",
              "22   2014 4                \n",
              "23   2014 4                \n",
              "24   2014 4                \n",
              "25   2014 4                \n",
              "26   2014 4                \n",
              "27   2014 4                \n",
              "28   2014 4                \n",
              "29   2014 5                \n",
              "30   2014 5                \n",
              "⋮    ⋮    ⋮                \n",
              "5053 2024 36               \n",
              "5054 2024 36               \n",
              "5055 2024 36               \n",
              "5056 2024 36               \n",
              "5057 2024 36               \n",
              "5058 2024 36               \n",
              "5059 2024 36               \n",
              "5060 2024 36               \n",
              "5061 2024 37               \n",
              "5062 2024 37               \n",
              "5063 2024 37               \n",
              "5064 2024 37               \n",
              "5065 2024 37               \n",
              "5066 2024 37               \n",
              "5067 2024 37               \n",
              "5068 2024 37               \n",
              "5069 2024 37               \n",
              "5070 2024 37               \n",
              "5071 2024 37               \n",
              "5072 2024 38               \n",
              "5073 2024 38               \n",
              "5074 2024 38               \n",
              "5075 2024 38               \n",
              "5076 2024 38               \n",
              "5077 2024 38               \n",
              "5078 2024 38               \n",
              "5079 2024 38               \n",
              "5080 2024 38               \n",
              "5081 2024 38               \n",
              "5082 2024 38               \n",
              "     Causa                                                   Total\n",
              "1    Bronquitis/bronquiolitis aguda (J20-J21)                 2364\n",
              "2    Crisis obstructiva bronquial (J40-J46)                   1160\n",
              "3    HOSPITALIZACIONES POR CAUSAS SISTEMA RESPIRATORIO         300\n",
              "4    IRA Alta (J00-J06)                                      13389\n",
              "5    Influenza (J09-J11)                                       179\n",
              "6    Neumonía (J12-J18)                                        659\n",
              "7    Otra causa respiratoria (J22, J30-J39, J47, J60-J98)     3278\n",
              "8    Bronquitis/bronquiolitis aguda (J20-J21)                 3679\n",
              "9    Crisis obstructiva bronquial (J40-J46)                   1992\n",
              "10   HOSPITALIZACIONES POR CAUSAS SISTEMA RESPIRATORIO         529\n",
              "11   IRA Alta (J00-J06)                                      21712\n",
              "12   Influenza (J09-J11)                                       309\n",
              "13   Neumonía (J12-J18)                                       1137\n",
              "14   Otra causa respiratoria (J22, J30-J39, J47, J60-J98)     5145\n",
              "15   Bronquitis/bronquiolitis aguda (J20-J21)                 3013\n",
              "16   Crisis obstructiva bronquial (J40-J46)                   1593\n",
              "17   HOSPITALIZACIONES POR CAUSAS SISTEMA RESPIRATORIO         459\n",
              "18   IRA Alta (J00-J06)                                      19221\n",
              "19   Influenza (J09-J11)                                       208\n",
              "20   Neumonía (J12-J18)                                       1018\n",
              "21   Otra causa respiratoria (J22, J30-J39, J47, J60-J98)     4535\n",
              "22   Bronquitis/bronquiolitis aguda (J20-J21)                 2763\n",
              "23   Crisis obstructiva bronquial (J40-J46)                   1498\n",
              "24   HOSPITALIZACIONES POR CAUSAS SISTEMA RESPIRATORIO         447\n",
              "25   IRA Alta (J00-J06)                                      18595\n",
              "26   Influenza (J09-J11)                                       195\n",
              "27   Neumonía (J12-J18)                                        922\n",
              "28   Otra causa respiratoria (J22, J30-J39, J47, J60-J98)     4523\n",
              "29   Bronquitis/bronquiolitis aguda (J20-J21)                 2655\n",
              "30   Crisis obstructiva bronquial (J40-J46)                   1338\n",
              "⋮    ⋮                                                       ⋮    \n",
              "5053 Crisis obstructiva bronquial (J40-J46)                   2294\n",
              "5054 HOSPITALIZACIONES COVID-19, VIRUS IDENTIFICADO U07.1        0\n",
              "5055 HOSPITALIZACIONES COVID-19, VIRUS NO IDENTIFICADO U07.2     0\n",
              "5056 HOSPITALIZACIONES POR CAUSAS SISTEMA RESPIRATORIO         993\n",
              "5057 IRA Alta (J00-J06)                                      37731\n",
              "5058 Influenza (J09-J11)                                       690\n",
              "5059 Neumonía (J12-J18)                                       3193\n",
              "5060 Otra causa respiratoria (J22, J30-J39, J47, J60-J98)     3645\n",
              "5061 Bronquitis/bronquiolitis aguda (J20-J21)                10559\n",
              "5062 Covid-19, Virus identificado U07.1                          2\n",
              "5063 Covid-19, Virus no identificado U07.2                       9\n",
              "5064 Crisis obstructiva bronquial (J40-J46)                   2248\n",
              "5065 HOSPITALIZACIONES COVID-19, VIRUS IDENTIFICADO U07.1        0\n",
              "5066 HOSPITALIZACIONES COVID-19, VIRUS NO IDENTIFICADO U07.2     0\n",
              "5067 HOSPITALIZACIONES POR CAUSAS SISTEMA RESPIRATORIO        1009\n",
              "5068 IRA Alta (J00-J06)                                      36734\n",
              "5069 Influenza (J09-J11)                                       627\n",
              "5070 Neumonía (J12-J18)                                       2992\n",
              "5071 Otra causa respiratoria (J22, J30-J39, J47, J60-J98)     3629\n",
              "5072 Bronquitis/bronquiolitis aguda (J20-J21)                 1835\n",
              "5073 Covid-19, Virus identificado U07.1                          1\n",
              "5074 Covid-19, Virus no identificado U07.2                       0\n",
              "5075 Crisis obstructiva bronquial (J40-J46)                    344\n",
              "5076 HOSPITALIZACIONES COVID-19, VIRUS IDENTIFICADO U07.1        0\n",
              "5077 HOSPITALIZACIONES COVID-19, VIRUS NO IDENTIFICADO U07.2     0\n",
              "5078 HOSPITALIZACIONES POR CAUSAS SISTEMA RESPIRATORIO         138\n",
              "5079 IRA Alta (J00-J06)                                       6025\n",
              "5080 Influenza (J09-J11)                                        55\n",
              "5081 Neumonía (J12-J18)                                        467\n",
              "5082 Otra causa respiratoria (J22, J30-J39, J47, J60-J98)      604"
            ]
          },
          "metadata": {}
        }
      ]
    },
    {
      "cell_type": "code",
      "source": [
        "df_agrupado <- df_urgr_esp_semanal %>%\n",
        "  group_by(Anio) %>%\n",
        "  summarise(Total = sum(NumTotal, na.rm = TRUE))\n",
        "options(repr.plot.width = 15, repr.plot.height = 15)\n",
        "ggplot(df_agrupado, aes(x = factor(Anio), y = Total)) +\n",
        "  geom_bar(stat = \"identity\", fill = \"steelblue\") +\n",
        "  labs(x = \"Año\", y = \"Total Urgencias\", title = \"Urgencias por Año\") +\n",
        "  theme_minimal()"
      ],
      "metadata": {
        "id": "BxOCdmv31mZe",
        "outputId": "9e309d7a-788f-402f-dcb6-0df8a5cb5e2f",
        "colab": {
          "base_uri": "https://localhost:8080/",
          "height": 917
        }
      },
      "execution_count": 72,
      "outputs": [
        {
          "output_type": "display_data",
          "data": {
            "text/plain": [
              "plot without title"
            ],
            "image/png": "[encoded data removed]"
          },
          "metadata": {
            "image/png": {
              "width": 900,
              "height": 900
            }
          }
        }
      ]
    },
    {
      "cell_type": "code",
      "source": [
        "options(repr.plot.width = 15, repr.plot.height = 15)\n",
        "ggplot(df_urgr_esp_semanal, aes(x=Causa, y= NumTotal)) + geom_bar(stat=\"identity\") +\n",
        "theme(axis.text.x = element_text(angle = 75, vjust = .5))"
      ],
      "metadata": {
        "colab": {
          "base_uri": "https://localhost:8080/",
          "height": 917
        },
        "id": "KwBvVWeB1erT",
        "outputId": "e69e577d-7de3-4242-bc21-91aeb18637e0"
      },
      "execution_count": 73,
      "outputs": [
        {
          "output_type": "display_data",
          "data": {
            "text/plain": [
              "plot without title"
            ],
            "image/png": "[encoded data removed]"
          },
          "metadata": {
            "image/png": {
              "width": 900,
              "height": 900
            }
          }
        }
      ]
    }
  ]
}